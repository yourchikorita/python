{
  "nbformat": 4,
  "nbformat_minor": 0,
  "metadata": {
    "colab": {
      "name": "전은정_if문.ipynb",
      "version": "0.3.2",
      "provenance": [],
      "collapsed_sections": [],
      "include_colab_link": true
    },
    "kernelspec": {
      "name": "python3",
      "display_name": "Python 3"
    }
  },
  "cells": [
    {
      "cell_type": "markdown",
      "metadata": {
        "id": "view-in-github",
        "colab_type": "text"
      },
      "source": [
        "<a href=\"https://colab.research.google.com/github/yourchikorita/python/blob/master/%EC%A0%84%EC%9D%80%EC%A0%95_if%EB%AC%B8.ipynb\" target=\"_parent\"><img src=\"https://colab.research.google.com/assets/colab-badge.svg\" alt=\"Open In Colab\"/></a>"
      ]
    },
    {
      "cell_type": "markdown",
      "metadata": {
        "id": "np8GIOGs8sIw",
        "colab_type": "text"
      },
      "source": [
        "# 제어문\n",
        "\n",
        "<pre>\n",
        "종류\n",
        "* if문\n",
        "* while문\n",
        "* for문\n",
        "\n",
        "공통 특징\n",
        "* 인덴트(들여쓰기)"
      ]
    },
    {
      "cell_type": "markdown",
      "metadata": {
        "id": "_Rg_SNwH4h1K",
        "colab_type": "text"
      },
      "source": [
        "# 1.if문\n",
        "조건이 참이면 실행문을 한 번 실행하는 제어문"
      ]
    },
    {
      "cell_type": "markdown",
      "metadata": {
        "id": "tyUrDLNF5isR",
        "colab_type": "text"
      },
      "source": [
        "## 1-1.if 문의 구조\n",
        "<pre>\n",
        "* 사용법\n",
        "if 조건문 :\n",
        "  실행문1\n",
        "  실행문2\n",
        "else:\n",
        "  실행문z\n",
        "  실행문x\n",
        "  \n",
        "* if 문의 특징\n",
        "  인덴트(들여쓰기)"
      ]
    },
    {
      "cell_type": "markdown",
      "metadata": {
        "id": "LfTPQiRG8kUN",
        "colab_type": "text"
      },
      "source": [
        "### 인덴트\n",
        "들여쓰기를 말함.\n",
        "\n",
        "제어문에서반드시 들어감\n",
        "<pre>\n",
        "* 사용법\n",
        "tab키 or 스페이스바 4번\n",
        "\n",
        "<->\n",
        "내어쓰기\n",
        "\n",
        "* 사용법\n",
        "shift + tap키"
      ]
    },
    {
      "cell_type": "code",
      "metadata": {
        "id": "hCjyy3rWAaEO",
        "colab_type": "code",
        "colab": {}
      },
      "source": [
        "  # 이 주석을 들여 쓰기 하세요."
      ],
      "execution_count": 0,
      "outputs": []
    },
    {
      "cell_type": "code",
      "metadata": {
        "id": "mHYL0O93AgqH",
        "colab_type": "code",
        "colab": {}
      },
      "source": [
        "# 이 주석을 내어 쓰기 하세요.\n",
        "#아아아"
      ],
      "execution_count": 0,
      "outputs": []
    },
    {
      "cell_type": "markdown",
      "metadata": {
        "id": "nqM9wtWp_TqG",
        "colab_type": "text"
      },
      "source": [
        "### 조건문\n",
        "만약 ~ 라면:\n",
        "\n",
        "그게 아니면:\n",
        "\n",
        "<pre>\n",
        "if ~ :\n",
        "\n",
        "else:\n",
        "</pre>\n",
        "\n",
        "설명 : 조건문임을 표시하기 위해 반드시 끝에 콜론을 넣는다."
      ]
    },
    {
      "cell_type": "markdown",
      "metadata": {
        "id": "vBdl661QBD6N",
        "colab_type": "text"
      },
      "source": [
        "### 실행문\n",
        "... 해라\n",
        "\n",
        "<pre>\n",
        "(인덴트)실행할 코드\n",
        "</pre>\n",
        "\n",
        "설명 : 실행문임을 표시하기 위해 인덴트를 반드시 넣는다.\n"
      ]
    },
    {
      "cell_type": "markdown",
      "metadata": {
        "id": "4mkXjHNs6_M3",
        "colab_type": "text"
      },
      "source": [
        "## 1-2.if문 만들기\n",
        "<pre>\n",
        "if 조건문:\n",
        "  수행문"
      ]
    },
    {
      "cell_type": "code",
      "metadata": {
        "id": "BgnIfkXH76l3",
        "colab_type": "code",
        "outputId": "9eab678c-338c-48fd-e014-cef37024799c",
        "colab": {
          "base_uri": "https://localhost:8080/",
          "height": 34
        }
      },
      "source": [
        "if True:\n",
        "  print('참입니다')\n",
        "else:\n",
        "  print('거짓입니다')"
      ],
      "execution_count": 0,
      "outputs": [
        {
          "output_type": "stream",
          "text": [
            "참입니다\n"
          ],
          "name": "stdout"
        }
      ]
    },
    {
      "cell_type": "code",
      "metadata": {
        "id": "M7IJVPKJ_zpT",
        "colab_type": "code",
        "outputId": "97fa7440-4623-4f83-b7e7-0e6ab7b4dd7a",
        "colab": {
          "base_uri": "https://localhost:8080/",
          "height": 34
        }
      },
      "source": [
        "if False:\n",
        "  print('참')\n",
        "else:\n",
        "  print('거짓')"
      ],
      "execution_count": 0,
      "outputs": [
        {
          "output_type": "stream",
          "text": [
            "거짓\n"
          ],
          "name": "stdout"
        }
      ]
    },
    {
      "cell_type": "markdown",
      "metadata": {
        "id": "1XrdsmQpI97B",
        "colab_type": "text"
      },
      "source": [
        "## 1-3. 다양한 조건들"
      ]
    },
    {
      "cell_type": "markdown",
      "metadata": {
        "id": "fzdbpjZEDWL0",
        "colab_type": "text"
      },
      "source": [
        "### 비교 연산자\n",
        "값 비교를 위한 연산자"
      ]
    },
    {
      "cell_type": "markdown",
      "metadata": {
        "id": "L-VOCJVrDz8W",
        "colab_type": "text"
      },
      "source": [
        "#### > : 크다\n",
        "\n"
      ]
    },
    {
      "cell_type": "code",
      "metadata": {
        "id": "0NQ195LiEDwm",
        "colab_type": "code",
        "colab": {}
      },
      "source": [
        "x=4\n",
        "y=3\n"
      ],
      "execution_count": 0,
      "outputs": []
    },
    {
      "cell_type": "code",
      "metadata": {
        "id": "uOLT7JVlDz56",
        "colab_type": "code",
        "outputId": "3c7c1e06-46d8-477c-9ca4-12fdf3b97e0d",
        "colab": {
          "base_uri": "https://localhost:8080/",
          "height": 34
        }
      },
      "source": [
        "x>y"
      ],
      "execution_count": 0,
      "outputs": [
        {
          "output_type": "execute_result",
          "data": {
            "text/plain": [
              "True"
            ]
          },
          "metadata": {
            "tags": []
          },
          "execution_count": 4
        }
      ]
    },
    {
      "cell_type": "markdown",
      "metadata": {
        "id": "L0PwAamwDz3n",
        "colab_type": "text"
      },
      "source": [
        "#### >= : 크거나 같다"
      ]
    },
    {
      "cell_type": "code",
      "metadata": {
        "id": "fL-5o2AWDz1K",
        "colab_type": "code",
        "outputId": "7aae4a85-e9d2-443b-9b41-65329c1442da",
        "colab": {
          "base_uri": "https://localhost:8080/",
          "height": 34
        }
      },
      "source": [
        "x>=y"
      ],
      "execution_count": 0,
      "outputs": [
        {
          "output_type": "execute_result",
          "data": {
            "text/plain": [
              "True"
            ]
          },
          "metadata": {
            "tags": []
          },
          "execution_count": 5
        }
      ]
    },
    {
      "cell_type": "markdown",
      "metadata": {
        "id": "v1YGpHV1EW3m",
        "colab_type": "text"
      },
      "source": [
        "#### == : 같다"
      ]
    },
    {
      "cell_type": "code",
      "metadata": {
        "id": "AFoNaEyrDzyx",
        "colab_type": "code",
        "outputId": "98bcd8ac-b3c0-43b0-86d4-1b07f178149f",
        "colab": {
          "base_uri": "https://localhost:8080/",
          "height": 34
        }
      },
      "source": [
        "x==y"
      ],
      "execution_count": 0,
      "outputs": [
        {
          "output_type": "execute_result",
          "data": {
            "text/plain": [
              "False"
            ]
          },
          "metadata": {
            "tags": []
          },
          "execution_count": 6
        }
      ]
    },
    {
      "cell_type": "markdown",
      "metadata": {
        "id": "0CgYTh5BDzwO",
        "colab_type": "text"
      },
      "source": [
        "#### != : 다르다"
      ]
    },
    {
      "cell_type": "code",
      "metadata": {
        "id": "fvJoNYB2ExET",
        "colab_type": "code",
        "outputId": "966f75a1-7e9d-4bc1-8c4c-7d92cdb75016",
        "colab": {
          "base_uri": "https://localhost:8080/",
          "height": 34
        }
      },
      "source": [
        "x!=y"
      ],
      "execution_count": 0,
      "outputs": [
        {
          "output_type": "execute_result",
          "data": {
            "text/plain": [
              "True"
            ]
          },
          "metadata": {
            "tags": []
          },
          "execution_count": 7
        }
      ]
    },
    {
      "cell_type": "markdown",
      "metadata": {
        "id": "ej858BJ7ExBj",
        "colab_type": "text"
      },
      "source": [
        "#### < : 작다"
      ]
    },
    {
      "cell_type": "code",
      "metadata": {
        "id": "ajZoaz5UEw_e",
        "colab_type": "code",
        "outputId": "09ec28c3-c83e-4862-88fb-e4babfcf62ec",
        "colab": {
          "base_uri": "https://localhost:8080/",
          "height": 34
        }
      },
      "source": [
        "x<y"
      ],
      "execution_count": 0,
      "outputs": [
        {
          "output_type": "execute_result",
          "data": {
            "text/plain": [
              "False"
            ]
          },
          "metadata": {
            "tags": []
          },
          "execution_count": 8
        }
      ]
    },
    {
      "cell_type": "markdown",
      "metadata": {
        "id": "fAHCdeUyEw2p",
        "colab_type": "text"
      },
      "source": [
        "#### <= : 작거나 같다"
      ]
    },
    {
      "cell_type": "code",
      "metadata": {
        "id": "HTlO_rNlEwz4",
        "colab_type": "code",
        "outputId": "6db00bc1-4279-4db6-d7af-f8e03d2599d3",
        "colab": {
          "base_uri": "https://localhost:8080/",
          "height": 34
        }
      },
      "source": [
        "x<=y"
      ],
      "execution_count": 0,
      "outputs": [
        {
          "output_type": "execute_result",
          "data": {
            "text/plain": [
              "False"
            ]
          },
          "metadata": {
            "tags": []
          },
          "execution_count": 9
        }
      ]
    },
    {
      "cell_type": "code",
      "metadata": {
        "id": "AOPLnt4fEwu5",
        "colab_type": "code",
        "outputId": "481ac969-1734-43e7-b455-c6fe7389fcc6",
        "colab": {
          "base_uri": "https://localhost:8080/",
          "height": 34
        }
      },
      "source": [
        "mine= 3000\n",
        "if mine >= 1200:\n",
        "  print(' 소보로를 사와')\n",
        "else:\n",
        "  print('그냥와')"
      ],
      "execution_count": 0,
      "outputs": [
        {
          "output_type": "stream",
          "text": [
            " 소보로를 사와\n"
          ],
          "name": "stdout"
        }
      ]
    },
    {
      "cell_type": "code",
      "metadata": {
        "id": "fkMPSGlmDzEc",
        "colab_type": "code",
        "outputId": "d3d9409f-0b43-482c-e2dc-3c9d7144c8d6",
        "colab": {
          "base_uri": "https://localhost:8080/",
          "height": 34
        }
      },
      "source": [
        "a=1\n",
        "if a==1:\n",
        "  print('a는 1입니다.')\n",
        "else:\n",
        "  print('1이 아닙니다')\n",
        "  "
      ],
      "execution_count": 0,
      "outputs": [
        {
          "output_type": "stream",
          "text": [
            "a는 1입니다.\n"
          ],
          "name": "stdout"
        }
      ]
    },
    {
      "cell_type": "code",
      "metadata": {
        "id": "vbKT0pemBsye",
        "colab_type": "code",
        "colab": {}
      },
      "source": [
        ""
      ],
      "execution_count": 0,
      "outputs": []
    },
    {
      "cell_type": "code",
      "metadata": {
        "id": "DdJmyOmJCpzj",
        "colab_type": "code",
        "colab": {}
      },
      "source": [
        ""
      ],
      "execution_count": 0,
      "outputs": []
    },
    {
      "cell_type": "markdown",
      "metadata": {
        "id": "oscY5bODDFha",
        "colab_type": "text"
      },
      "source": [
        "### x or y  \n",
        "x, y 둘 중 하나만 참이면 참\n",
        "\n",
        "### x and y \n",
        "x, y 둘 다 참이어야 참\n",
        "\n",
        "### not x\n",
        "x가 거짓이면 참"
      ]
    },
    {
      "cell_type": "code",
      "metadata": {
        "id": "A3bLEqEaGGd5",
        "colab_type": "code",
        "colab": {}
      },
      "source": [
        "cash =10000\n",
        "card = True"
      ],
      "execution_count": 0,
      "outputs": []
    },
    {
      "cell_type": "code",
      "metadata": {
        "id": "0sw1INz5Gyja",
        "colab_type": "code",
        "colab": {
          "base_uri": "https://localhost:8080/",
          "height": 34
        },
        "outputId": "698aee29-a9d1-4d94-af82-4ff630dc1f57"
      },
      "source": [
        "if cash >= 5000 or card:\n",
        "  print('외식을 한다')\n",
        "else:\n",
        "  print('굶는다')"
      ],
      "execution_count": 2,
      "outputs": [
        {
          "output_type": "stream",
          "text": [
            "외식을 한다\n"
          ],
          "name": "stdout"
        }
      ]
    },
    {
      "cell_type": "code",
      "metadata": {
        "id": "GbAwoD81bw0N",
        "colab_type": "code",
        "colab": {}
      },
      "source": [
        "cash =10000\n",
        "card = False\n",
        "if cash >= 5000 or card:\n",
        "  print('외식을 한다')\n",
        "else:\n",
        "  print('굶는다')"
      ],
      "execution_count": 0,
      "outputs": []
    },
    {
      "cell_type": "code",
      "metadata": {
        "id": "v6sqRMVVb5Yu",
        "colab_type": "code",
        "colab": {
          "base_uri": "https://localhost:8080/",
          "height": 34
        },
        "outputId": "ca48bfaf-63c7-4a1c-d8c2-c4f1b2563803"
      },
      "source": [
        "cash =10000\n",
        "card = False\n",
        "if cash >= 5000 and card:\n",
        "  print('외식을 한다')\n",
        "else:\n",
        "  print('굶는다')"
      ],
      "execution_count": 3,
      "outputs": [
        {
          "output_type": "stream",
          "text": [
            "굶는다\n"
          ],
          "name": "stdout"
        }
      ]
    },
    {
      "cell_type": "code",
      "metadata": {
        "id": "DOjZcokqcLpe",
        "colab_type": "code",
        "colab": {}
      },
      "source": [
        ""
      ],
      "execution_count": 0,
      "outputs": []
    },
    {
      "cell_type": "markdown",
      "metadata": {
        "id": "1SzMaIkqHRfb",
        "colab_type": "text"
      },
      "source": [
        "### x in s\n",
        "x가 s 안에 있다면\n",
        "\n",
        "### x not in s\n",
        "x가 s 안에 있지 않다면\n",
        "\n",
        "<pre>\n",
        "s에는\n",
        "문자열, 리스트, 튜플 등이 올 수 있다."
      ]
    },
    {
      "cell_type": "code",
      "metadata": {
        "id": "G3xE7p5EID73",
        "colab_type": "code",
        "colab": {
          "base_uri": "https://localhost:8080/",
          "height": 34
        },
        "outputId": "470522f1-65c7-4bb9-926f-6fa5d46f347c"
      },
      "source": [
        "2 in [1,2,3]"
      ],
      "execution_count": 4,
      "outputs": [
        {
          "output_type": "execute_result",
          "data": {
            "text/plain": [
              "True"
            ]
          },
          "metadata": {
            "tags": []
          },
          "execution_count": 4
        }
      ]
    },
    {
      "cell_type": "code",
      "metadata": {
        "id": "0sz_iDnqIXOl",
        "colab_type": "code",
        "colab": {
          "base_uri": "https://localhost:8080/",
          "height": 34
        },
        "outputId": "1d315794-9048-488a-abf7-9a1d92d150b2"
      },
      "source": [
        "'a' not in [1,2,3]"
      ],
      "execution_count": 5,
      "outputs": [
        {
          "output_type": "execute_result",
          "data": {
            "text/plain": [
              "True"
            ]
          },
          "metadata": {
            "tags": []
          },
          "execution_count": 5
        }
      ]
    },
    {
      "cell_type": "code",
      "metadata": {
        "id": "aXxef54LIgkk",
        "colab_type": "code",
        "colab": {}
      },
      "source": [
        ""
      ],
      "execution_count": 0,
      "outputs": []
    },
    {
      "cell_type": "code",
      "metadata": {
        "id": "IyRoJhdGIu53",
        "colab_type": "code",
        "colab": {}
      },
      "source": [
        ""
      ],
      "execution_count": 0,
      "outputs": []
    },
    {
      "cell_type": "code",
      "metadata": {
        "id": "J87NQgelI2KS",
        "colab_type": "code",
        "colab": {
          "base_uri": "https://localhost:8080/",
          "height": 34
        },
        "outputId": "b4571038-f341-4a5d-c6ca-01477d729626"
      },
      "source": [
        "bag = ['wallet', 'cellphone', 'notebook']\n",
        "if 'cellphone' in bag:\n",
        "  print('전화를 한다')\n",
        "else:\n",
        "  print('전화를 안한다')"
      ],
      "execution_count": 6,
      "outputs": [
        {
          "output_type": "stream",
          "text": [
            "전화를 한다\n"
          ],
          "name": "stdout"
        }
      ]
    },
    {
      "cell_type": "code",
      "metadata": {
        "id": "7WLcQK5FJU34",
        "colab_type": "code",
        "colab": {}
      },
      "source": [
        "x='철수'\n",
        "not x"
      ],
      "execution_count": 0,
      "outputs": []
    },
    {
      "cell_type": "markdown",
      "metadata": {
        "id": "0_0hZAu0JvgM",
        "colab_type": "text"
      },
      "source": [
        "### pass\n",
        "실행문에서 아무 것도 하지 않게 한다."
      ]
    },
    {
      "cell_type": "code",
      "metadata": {
        "id": "GowhOmMqLUag",
        "colab_type": "code",
        "outputId": "f14a9ba4-938d-4759-a513-8aff366f1df2",
        "colab": {
          "base_uri": "https://localhost:8080/",
          "height": 34
        }
      },
      "source": [
        "if 'cellphone' not in bag:\n",
        "  pass\n",
        "else:\n",
        "  print('전화를 한다.')"
      ],
      "execution_count": 9,
      "outputs": [
        {
          "output_type": "stream",
          "text": [
            "전화를 한다.\n"
          ],
          "name": "stdout"
        }
      ]
    },
    {
      "cell_type": "code",
      "metadata": {
        "id": "8OAMgh8pg9Pc",
        "colab_type": "code",
        "colab": {}
      },
      "source": [
        "if 'cellphone'not in ['a','b','c']:\n",
        "  pass\n",
        "else:\n",
        "  print('전화기가없다')"
      ],
      "execution_count": 0,
      "outputs": []
    },
    {
      "cell_type": "markdown",
      "metadata": {
        "id": "TDDtDUXXLlTQ",
        "colab_type": "text"
      },
      "source": [
        "## 1-4.다양한 조건들은 elif\n",
        "조건이 다양해지면 elif를 사용\n",
        "<pre>\n",
        "사용법:\n",
        "if 조건문1:\n",
        "  실행문1\n",
        "elif 조건문2:\n",
        "  실행문2\n",
        "elif 조건문3:\n",
        "  실행문3\n",
        "else:\n",
        "  실행문4"
      ]
    },
    {
      "cell_type": "code",
      "metadata": {
        "id": "2uTtMLYAL3Es",
        "colab_type": "code",
        "colab": {}
      },
      "source": [
        "store = ['크림빵', '가위', '연필']"
      ],
      "execution_count": 0,
      "outputs": []
    },
    {
      "cell_type": "code",
      "metadata": {
        "id": "KMSQJ4FnMXHT",
        "colab_type": "code",
        "colab": {
          "base_uri": "https://localhost:8080/",
          "height": 34
        },
        "outputId": "de5773c2-37f3-41fc-8476-30fac6216b31"
      },
      "source": [
        "if '소보로' in store:\n",
        "  print('소보로 산다')\n",
        "elif '크림빵' in store:\n",
        "  print('크림빵을 산다')\n",
        "else:\n",
        "  print('상점을 나온다')"
      ],
      "execution_count": 14,
      "outputs": [
        {
          "output_type": "stream",
          "text": [
            "크림빵을 산다\n"
          ],
          "name": "stdout"
        }
      ]
    },
    {
      "cell_type": "markdown",
      "metadata": {
        "id": "plbPN3J0NRdz",
        "colab_type": "text"
      },
      "source": [
        "### if문 한 줄로 작성하기"
      ]
    },
    {
      "cell_type": "code",
      "metadata": {
        "id": "0Sk4xj4jNmn9",
        "colab_type": "code",
        "colab": {
          "base_uri": "https://localhost:8080/",
          "height": 34
        },
        "outputId": "e6b0a423-cac9-4046-c66f-ee4c5abfc0c6"
      },
      "source": [
        "store = ['크림빵', '가위', '연필']\n",
        "if '크림빵' in store:\n",
        "  print('크림빵삼')\n",
        "else:\n",
        "  print('안산다')"
      ],
      "execution_count": 15,
      "outputs": [
        {
          "output_type": "stream",
          "text": [
            "크림빵삼\n"
          ],
          "name": "stdout"
        }
      ]
    },
    {
      "cell_type": "code",
      "metadata": {
        "id": "r4FfipLZN3Oq",
        "colab_type": "code",
        "colab": {
          "base_uri": "https://localhost:8080/",
          "height": 34
        },
        "outputId": "ddb95ef3-93bf-4c24-b901-8cc8ea8aa426"
      },
      "source": [
        "if '크림빵' in store: print('크림빵삼')\n",
        "else:print('안산다')  "
      ],
      "execution_count": 16,
      "outputs": [
        {
          "output_type": "stream",
          "text": [
            "크림빵삼\n"
          ],
          "name": "stdout"
        }
      ]
    },
    {
      "cell_type": "code",
      "metadata": {
        "id": "Hn2tVBobOGN2",
        "colab_type": "code",
        "colab": {}
      },
      "source": [
        "# 한 줄로 작성\n"
      ],
      "execution_count": 0,
      "outputs": []
    },
    {
      "cell_type": "markdown",
      "metadata": {
        "id": "2Dmi2HJZOZrn",
        "colab_type": "text"
      },
      "source": [
        "## 1-6. 조건부 표현식\n",
        "<pre>\n",
        "*사용법:\n",
        "\n",
        "조건문이 참인 경우 실행문/ if 조건문/ else 조건문이 거짓인 경우 \n",
        "실행문 "
      ]
    },
    {
      "cell_type": "code",
      "metadata": {
        "id": "LmvtM3ebPL48",
        "colab_type": "code",
        "colab": {
          "base_uri": "https://localhost:8080/",
          "height": 34
        },
        "outputId": "19093c55-ce7c-468c-ba5c-040f3afe3c50"
      },
      "source": [
        "score=91\n",
        "if score >= 70:\n",
        "  print('pass')\n",
        "else:\n",
        "  print('fail')\n",
        "  "
      ],
      "execution_count": 25,
      "outputs": [
        {
          "output_type": "stream",
          "text": [
            "pass\n"
          ],
          "name": "stdout"
        }
      ]
    },
    {
      "cell_type": "code",
      "metadata": {
        "id": "_swmBLW7O8iP",
        "colab_type": "code",
        "colab": {
          "base_uri": "https://localhost:8080/",
          "height": 34
        },
        "outputId": "d67f35bd-cf5a-4bb3-cc5e-a4686384275b"
      },
      "source": [
        "\n",
        "print('pass') if score>= 70 else print('fail')\n"
      ],
      "execution_count": 28,
      "outputs": [
        {
          "output_type": "stream",
          "text": [
            "pass\n"
          ],
          "name": "stdout"
        }
      ]
    },
    {
      "cell_type": "code",
      "metadata": {
        "id": "tfhe-c2WPe8e",
        "colab_type": "code",
        "colab": {}
      },
      "source": [
        ""
      ],
      "execution_count": 0,
      "outputs": []
    },
    {
      "cell_type": "code",
      "metadata": {
        "id": "zno6_JplPw9n",
        "colab_type": "code",
        "colab": {}
      },
      "source": [
        ""
      ],
      "execution_count": 0,
      "outputs": []
    },
    {
      "cell_type": "code",
      "metadata": {
        "id": "827g7P4OPhYI",
        "colab_type": "code",
        "colab": {}
      },
      "source": [
        ""
      ],
      "execution_count": 0,
      "outputs": []
    },
    {
      "cell_type": "code",
      "metadata": {
        "id": "Ps4BkZycPsux",
        "colab_type": "code",
        "colab": {}
      },
      "source": [
        ""
      ],
      "execution_count": 0,
      "outputs": []
    }
  ]
}