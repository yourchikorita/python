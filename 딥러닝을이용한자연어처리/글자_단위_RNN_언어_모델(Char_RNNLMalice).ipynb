{
  "nbformat": 4,
  "nbformat_minor": 0,
  "metadata": {
    "colab": {
      "name": "글자 단위 RNN 언어 모델(Char RNNLM).ipynb",
      "provenance": [],
      "collapsed_sections": []
    },
    "kernelspec": {
      "name": "python3",
      "display_name": "Python 3"
    },
    "accelerator": "GPU"
  },
  "cells": [
    {
      "cell_type": "code",
      "metadata": {
        "id": "matNXzt7f5hL",
        "colab_type": "code",
        "colab": {
          "base_uri": "https://localhost:8080/",
          "height": 62
        },
        "outputId": "c02959a4-d185-4d1c-a43b-4ff4ae0a43a8"
      },
      "source": [
        "import numpy as np\n",
        "from tensorflow.keras.utils import to_categorical"
      ],
      "execution_count": 1,
      "outputs": [
        {
          "output_type": "display_data",
          "data": {
            "text/html": [
              "<p style=\"color: red;\">\n",
              "The default version of TensorFlow in Colab will soon switch to TensorFlow 2.x.<br>\n",
              "We recommend you <a href=\"https://www.tensorflow.org/guide/migrate\" target=\"_blank\">upgrade</a> now \n",
              "or ensure your notebook will continue to use TensorFlow 1.x via the <code>%tensorflow_version 1.x</code> magic:\n",
              "<a href=\"https://colab.research.google.com/notebooks/tensorflow_version.ipynb\" target=\"_blank\">more info</a>.</p>\n"
            ],
            "text/plain": [
              "<IPython.core.display.HTML object>"
            ]
          },
          "metadata": {
            "tags": []
          }
        }
      ]
    },
    {
      "cell_type": "code",
      "metadata": {
        "id": "v-6vWUM8gxXl",
        "colab_type": "code",
        "colab": {}
      },
      "source": [
        "f = open('alice.txt', 'rb')\n",
        "lines=[]\n",
        "for line in f: # 데이터를 한 줄씩 읽는다.\n",
        "    line=line.strip() # strip()을 통해 \\r, \\n을 제거한다.\n",
        "    line=line.lower() # 소문자화.\n",
        "    line=line.decode('ascii', 'ignore') # \\xe2\\x80\\x99 등과 같은 바이트 열 제거\n",
        "    if len(line) > 0:\n",
        "        lines.append(line)\n",
        "f.close()"
      ],
      "execution_count": 0,
      "outputs": []
    },
    {
      "cell_type": "code",
      "metadata": {
        "id": "oULowFMyg0Bo",
        "colab_type": "code",
        "colab": {
          "base_uri": "https://localhost:8080/",
          "height": 101
        },
        "outputId": "c668ea46-1773-4f77-8ea4-dd9b5d5c61e7"
      },
      "source": [
        "lines[:5]"
      ],
      "execution_count": 5,
      "outputs": [
        {
          "output_type": "execute_result",
          "data": {
            "text/plain": [
              "['project gutenbergs alices adventures in wonderland, by lewis carroll',\n",
              " 'this ebook is for the use of anyone anywhere at no cost and with',\n",
              " 'almost no restrictions whatsoever.  you may copy it, give it away or',\n",
              " 're-use it under the terms of the project gutenberg license included',\n",
              " 'with this ebook or online at www.gutenberg.org']"
            ]
          },
          "metadata": {
            "tags": []
          },
          "execution_count": 5
        }
      ]
    },
    {
      "cell_type": "code",
      "metadata": {
        "id": "jdtYcQkeg6_8",
        "colab_type": "code",
        "colab": {
          "base_uri": "https://localhost:8080/",
          "height": 34
        },
        "outputId": "f53afb36-7b83-437e-ef13-d67b647188d7"
      },
      "source": [
        "text = ' '.join(lines)\n",
        "print('문자열의 길이 또는 총 글자의 개수: %d' % len(text))"
      ],
      "execution_count": 6,
      "outputs": [
        {
          "output_type": "stream",
          "text": [
            "문자열의 길이 또는 총 글자의 개수: 158783\n"
          ],
          "name": "stdout"
        }
      ]
    },
    {
      "cell_type": "code",
      "metadata": {
        "id": "9wfY1NgNg-8u",
        "colab_type": "code",
        "colab": {
          "base_uri": "https://localhost:8080/",
          "height": 54
        },
        "outputId": "e49228a6-80cd-4b52-ca69-8174636c06f3"
      },
      "source": [
        "print(text[:200])"
      ],
      "execution_count": 7,
      "outputs": [
        {
          "output_type": "stream",
          "text": [
            "project gutenbergs alices adventures in wonderland, by lewis carroll this ebook is for the use of anyone anywhere at no cost and with almost no restrictions whatsoever.  you may copy it, give it away \n"
          ],
          "name": "stdout"
        }
      ]
    },
    {
      "cell_type": "code",
      "metadata": {
        "id": "4iU0hJthhEZ4",
        "colab_type": "code",
        "colab": {
          "base_uri": "https://localhost:8080/",
          "height": 34
        },
        "outputId": "aafd890a-4f01-4cb0-cf32-eb2ab0c7df62"
      },
      "source": [
        "char_vocab = sorted(list(set(text)))\n",
        "vocab_size=len(char_vocab)\n",
        "print ('글자 집합의 크기 : {}'.format(vocab_size))"
      ],
      "execution_count": 8,
      "outputs": [
        {
          "output_type": "stream",
          "text": [
            "글자 집합의 크기 : 55\n"
          ],
          "name": "stdout"
        }
      ]
    },
    {
      "cell_type": "code",
      "metadata": {
        "id": "OmNgErNPhKNv",
        "colab_type": "code",
        "colab": {
          "base_uri": "https://localhost:8080/",
          "height": 54
        },
        "outputId": "5f6acbc8-b9f0-49f4-b4dc-28cd0aeb197a"
      },
      "source": [
        "char_to_index = dict((c, i) for i, c in enumerate(char_vocab)) # 글자에 고유한 정수 인덱스 부여\n",
        "print(char_to_index)"
      ],
      "execution_count": 9,
      "outputs": [
        {
          "output_type": "stream",
          "text": [
            "{' ': 0, '!': 1, '#': 2, '$': 3, '%': 4, '(': 5, ')': 6, '*': 7, ',': 8, '-': 9, '.': 10, '/': 11, '0': 12, '1': 13, '2': 14, '3': 15, '4': 16, '5': 17, '6': 18, '7': 19, '8': 20, '9': 21, ':': 22, ';': 23, '?': 24, '@': 25, '[': 26, ']': 27, '_': 28, 'a': 29, 'b': 30, 'c': 31, 'd': 32, 'e': 33, 'f': 34, 'g': 35, 'h': 36, 'i': 37, 'j': 38, 'k': 39, 'l': 40, 'm': 41, 'n': 42, 'o': 43, 'p': 44, 'q': 45, 'r': 46, 's': 47, 't': 48, 'u': 49, 'v': 50, 'w': 51, 'x': 52, 'y': 53, 'z': 54}\n"
          ],
          "name": "stdout"
        }
      ]
    },
    {
      "cell_type": "code",
      "metadata": {
        "id": "QvJfp6ushREl",
        "colab_type": "code",
        "colab": {}
      },
      "source": [
        "index_to_char={}\n",
        "for key, value in char_to_index.items():\n",
        "    index_to_char[value] = key"
      ],
      "execution_count": 0,
      "outputs": []
    },
    {
      "cell_type": "code",
      "metadata": {
        "id": "i7jeJYEihTLA",
        "colab_type": "code",
        "colab": {
          "base_uri": "https://localhost:8080/",
          "height": 34
        },
        "outputId": "7d8fa42d-6300-4374-878c-0635530d8206"
      },
      "source": [
        "seq_length = 60 # 문장의 길이를 60으로 한다.\n",
        "n_samples = int(np.floor((len(text) - 1) / seq_length)) # 문자열을 60등분한다. 그러면 즉, 총 샘플의 개수\n",
        "print ('문장 샘플의 수 : {}'.format(n_samples))"
      ],
      "execution_count": 11,
      "outputs": [
        {
          "output_type": "stream",
          "text": [
            "문장 샘플의 수 : 2646\n"
          ],
          "name": "stdout"
        }
      ]
    },
    {
      "cell_type": "code",
      "metadata": {
        "id": "8HFD30wXhiJA",
        "colab_type": "code",
        "colab": {}
      },
      "source": [
        "train_X = []\n",
        "train_y = []\n",
        "\n",
        "for i in range(n_samples): # 2,646번 수행\n",
        "    X_sample = text[i * seq_length: (i + 1) * seq_length]\n",
        "    # 0:60 -> 60:120 -> 120:180로 loop를 돌면서 문장 샘플을 1개씩 가져온다.\n",
        "    X_encoded = [char_to_index[c] for c in X_sample] # 하나의 문장 샘플에 대해서 정수 인코딩\n",
        "    train_X.append(X_encoded)\n",
        "\n",
        "    y_sample = text[i * seq_length + 1: (i + 1) * seq_length + 1] # 오른쪽으로 1칸 쉬프트한다.\n",
        "    y_encoded = [char_to_index[c] for c in y_sample]\n",
        "    train_y.append(y_encoded)"
      ],
      "execution_count": 0,
      "outputs": []
    },
    {
      "cell_type": "code",
      "metadata": {
        "id": "5-HTo7f9hl9r",
        "colab_type": "code",
        "colab": {}
      },
      "source": [
        "train_X = to_categorical(train_X)\n",
        "train_y = to_categorical(train_y)"
      ],
      "execution_count": 0,
      "outputs": []
    },
    {
      "cell_type": "code",
      "metadata": {
        "id": "tv74aeJOhveG",
        "colab_type": "code",
        "colab": {
          "base_uri": "https://localhost:8080/",
          "height": 50
        },
        "outputId": "e703c969-72fb-4b5f-e0dc-18b86d5a38f1"
      },
      "source": [
        "print('train_X의 크기(shape) : {}'.format(train_X.shape)) # 원-핫 인코딩\n",
        "print('train_y의 크기(shape) : {}'.format(train_y.shape)) # 원-핫 인코딩"
      ],
      "execution_count": 14,
      "outputs": [
        {
          "output_type": "stream",
          "text": [
            "train_X의 크기(shape) : (2646, 60, 55)\n",
            "train_y의 크기(shape) : (2646, 60, 55)\n"
          ],
          "name": "stdout"
        }
      ]
    },
    {
      "cell_type": "code",
      "metadata": {
        "id": "UOAJXo4fhxEC",
        "colab_type": "code",
        "colab": {
          "base_uri": "https://localhost:8080/",
          "height": 722
        },
        "outputId": "80e2def2-762c-4913-8d29-192cf4f7a5e6"
      },
      "source": [
        "from tensorflow.keras.models import Sequential\n",
        "from tensorflow.keras.layers import Dense, LSTM, TimeDistributed\n",
        "model = Sequential()\n",
        "model.add(LSTM(256, input_shape=(None, train_X.shape[2]), return_sequences=True))\n",
        "model.add(LSTM(256, return_sequences=True))\n",
        "model.add(TimeDistributed(Dense(vocab_size, activation='softmax')))\n",
        "model.compile(loss='categorical_crossentropy', optimizer='adam', metrics=['accuracy'])\n",
        "model.fit(train_X, train_y, epochs=20, verbose=2)"
      ],
      "execution_count": 16,
      "outputs": [
        {
          "output_type": "stream",
          "text": [
            "Train on 2646 samples\n",
            "Epoch 1/20\n",
            "2646/2646 - 17s - loss: 3.0796 - acc: 0.1790\n",
            "Epoch 2/20\n",
            "2646/2646 - 16s - loss: 2.7310 - acc: 0.2456\n",
            "Epoch 3/20\n",
            "2646/2646 - 17s - loss: 2.3627 - acc: 0.3343\n",
            "Epoch 4/20\n",
            "2646/2646 - 17s - loss: 2.2093 - acc: 0.3718\n",
            "Epoch 5/20\n",
            "2646/2646 - 17s - loss: 2.0961 - acc: 0.3991\n",
            "Epoch 6/20\n",
            "2646/2646 - 16s - loss: 2.0019 - acc: 0.4231\n",
            "Epoch 7/20\n",
            "2646/2646 - 17s - loss: 1.9184 - acc: 0.4442\n",
            "Epoch 8/20\n",
            "2646/2646 - 17s - loss: 1.8459 - acc: 0.4653\n",
            "Epoch 9/20\n",
            "2646/2646 - 17s - loss: 1.7830 - acc: 0.4822\n",
            "Epoch 10/20\n",
            "2646/2646 - 17s - loss: 1.7263 - acc: 0.4967\n",
            "Epoch 11/20\n",
            "2646/2646 - 17s - loss: 1.6753 - acc: 0.5101\n",
            "Epoch 12/20\n",
            "2646/2646 - 17s - loss: 1.6260 - acc: 0.5230\n",
            "Epoch 13/20\n",
            "2646/2646 - 17s - loss: 1.5815 - acc: 0.5348\n",
            "Epoch 14/20\n",
            "2646/2646 - 17s - loss: 1.5409 - acc: 0.5456\n",
            "Epoch 15/20\n",
            "2646/2646 - 16s - loss: 1.5006 - acc: 0.5549\n",
            "Epoch 16/20\n",
            "2646/2646 - 16s - loss: 1.4634 - acc: 0.5658\n",
            "Epoch 17/20\n",
            "2646/2646 - 16s - loss: 1.4272 - acc: 0.5750\n",
            "Epoch 18/20\n",
            "2646/2646 - 17s - loss: 1.3900 - acc: 0.5867\n",
            "Epoch 19/20\n",
            "2646/2646 - 16s - loss: 1.3559 - acc: 0.5963\n",
            "Epoch 20/20\n",
            "2646/2646 - 16s - loss: 1.3239 - acc: 0.6051\n"
          ],
          "name": "stdout"
        },
        {
          "output_type": "execute_result",
          "data": {
            "text/plain": [
              "<tensorflow.python.keras.callbacks.History at 0x7f54d029dd30>"
            ]
          },
          "metadata": {
            "tags": []
          },
          "execution_count": 16
        }
      ]
    },
    {
      "cell_type": "code",
      "metadata": {
        "id": "puTNv-alh7EV",
        "colab_type": "code",
        "colab": {
          "base_uri": "https://localhost:8080/",
          "height": 70
        },
        "outputId": "d5d6b55e-7cdc-4366-f9da-57d6b09b02a8"
      },
      "source": [
        "def sentence_generation(model, length):\n",
        "    ix = [np.random.randint(vocab_size)] # 글자에 대한 랜덤 인덱스 생성\n",
        "    y_char = [index_to_char[ix[-1]]] # 랜덤 익덱스로부터 글자 생성\n",
        "    print(ix[-1],'번 글자',y_char[-1],'로 예측을 시작!')\n",
        "    X = np.zeros((1, length, vocab_size)) # (1, length, 55) 크기의 X 생성. 즉, LSTM의 입력 시퀀스 생성\n",
        "\n",
        "    for i in range(length):\n",
        "        X[0][i][ix[-1]] = 1 # X[0][i][예측한 글자의 인덱스] = 1, 즉, 예측 글자를 다음 입력 시퀀스에 추가\n",
        "        print(index_to_char[ix[-1]], end=\"\")\n",
        "        ix = np.argmax(model.predict(X[:, :i+1, :])[0], 1)\n",
        "        y_char.append(index_to_char[ix[-1]])\n",
        "    return ('').join(y_char)\n",
        "sentence_generation(model, 100)"
      ],
      "execution_count": 18,
      "outputs": [
        {
          "output_type": "stream",
          "text": [
            "11 번 글자 / 로 예측을 시작!\n",
            "/or a little things and said to herself, and the treather was a long to do a little things and said "
          ],
          "name": "stdout"
        },
        {
          "output_type": "execute_result",
          "data": {
            "text/plain": [
              "'/or a little things and said to herself, and the treather was a long to do a little things and said t'"
            ]
          },
          "metadata": {
            "tags": []
          },
          "execution_count": 18
        }
      ]
    },
    {
      "cell_type": "code",
      "metadata": {
        "id": "-64wAo2jiYYF",
        "colab_type": "code",
        "colab": {}
      },
      "source": [
        ""
      ],
      "execution_count": 0,
      "outputs": []
    },
    {
      "cell_type": "code",
      "metadata": {
        "id": "JUFzC0xmigIw",
        "colab_type": "code",
        "colab": {}
      },
      "source": [
        ""
      ],
      "execution_count": 0,
      "outputs": []
    }
  ]
}