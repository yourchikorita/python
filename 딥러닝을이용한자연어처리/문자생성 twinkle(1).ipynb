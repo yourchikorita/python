{
  "nbformat": 4,
  "nbformat_minor": 0,
  "metadata": {
    "colab": {
      "name": "문자생성.ipynb",
      "provenance": [],
      "collapsed_sections": []
    },
    "kernelspec": {
      "name": "python3",
      "display_name": "Python 3"
    },
    "accelerator": "GPU"
  },
  "cells": [
    {
      "cell_type": "code",
      "metadata": {
        "id": "lOT_eJzzkBgK",
        "colab_type": "code",
        "colab": {}
      },
      "source": [
        "import numpy as np\n"
      ],
      "execution_count": 0,
      "outputs": []
    },
    {
      "cell_type": "code",
      "metadata": {
        "id": "CY_vFtQCkKOc",
        "colab_type": "code",
        "outputId": "6cff49ec-90b2-4f7e-de8d-9d45fc5df0e1",
        "colab": {
          "base_uri": "https://localhost:8080/",
          "height": 101
        }
      },
      "source": [
        "f = open('twink.txt', 'rb')\n",
        "lines=[]\n",
        "for line in f: # 데이터를 한 줄씩 읽는다.\n",
        "    line=line.strip() # strip()을 통해 \\r, \\n을 제거한다.\n",
        "    line=line.lower() # 소문자화.\n",
        "    line=line.decode('ascii', 'ignore') # \\xe2\\x80\\x99 등과 같은 바이트 열 제거\n",
        "    if len(line) > 0:\n",
        "        lines.append(line)\n",
        "f.close()\n",
        "\n",
        "\n",
        "lines[:5]"
      ],
      "execution_count": 125,
      "outputs": [
        {
          "output_type": "execute_result",
          "data": {
            "text/plain": [
              "['twinkle, twinkle, little star,',\n",
              " 'how i wonder what you are.',\n",
              " 'up above the world so high,',\n",
              " 'like a diamond in the sky.',\n",
              " 'twinkle, twinkle, little star,']"
            ]
          },
          "metadata": {
            "tags": []
          },
          "execution_count": 125
        }
      ]
    },
    {
      "cell_type": "code",
      "metadata": {
        "id": "fCN_Hw6okP7j",
        "colab_type": "code",
        "outputId": "44096c58-7edf-4fe5-ffc3-289f83a3f97b",
        "colab": {
          "base_uri": "https://localhost:8080/",
          "height": 34
        }
      },
      "source": [
        "alice_story = ' '.join(lines)\n",
        "print('문자열의 길이 또는 총 글자의 개수: %d' % len(alice_story))"
      ],
      "execution_count": 126,
      "outputs": [
        {
          "output_type": "stream",
          "text": [
            "문자열의 길이 또는 총 글자의 개수: 710\n"
          ],
          "name": "stdout"
        }
      ]
    },
    {
      "cell_type": "code",
      "metadata": {
        "id": "5yEggpCJkVYW",
        "colab_type": "code",
        "outputId": "04be4246-7bfd-4994-b68b-2f068b5f5d45",
        "colab": {
          "base_uri": "https://localhost:8080/",
          "height": 54
        }
      },
      "source": [
        "print(alice_story[:200])"
      ],
      "execution_count": 127,
      "outputs": [
        {
          "output_type": "stream",
          "text": [
            "twinkle, twinkle, little star, how i wonder what you are. up above the world so high, like a diamond in the sky. twinkle, twinkle, little star, how i wonder what you are! when the blazing sun is gone,\n"
          ],
          "name": "stdout"
        }
      ]
    },
    {
      "cell_type": "code",
      "metadata": {
        "id": "jOOww77xk9w8",
        "colab_type": "code",
        "outputId": "b7b96a7b-d118-47e5-c54f-626de9fdf522",
        "colab": {
          "base_uri": "https://localhost:8080/",
          "height": 390
        }
      },
      "source": [
        "from __future__ import absolute_import, division, print_function, unicode_literals\n",
        "\n",
        "!pip install tensorflow-gpu==2.0.0-rc1\n",
        "import tensorflow as tf\n"
      ],
      "execution_count": 128,
      "outputs": [
        {
          "output_type": "stream",
          "text": [
            "Requirement already satisfied: tensorflow-gpu==2.0.0-rc1 in /usr/local/lib/python3.6/dist-packages (2.0.0rc1)\n",
            "Requirement already satisfied: keras-preprocessing>=1.0.5 in /usr/local/lib/python3.6/dist-packages (from tensorflow-gpu==2.0.0-rc1) (1.1.0)\n",
            "Requirement already satisfied: numpy<2.0,>=1.16.0 in /usr/local/lib/python3.6/dist-packages (from tensorflow-gpu==2.0.0-rc1) (1.17.4)\n",
            "Requirement already satisfied: termcolor>=1.1.0 in /usr/local/lib/python3.6/dist-packages (from tensorflow-gpu==2.0.0-rc1) (1.1.0)\n",
            "Requirement already satisfied: keras-applications>=1.0.8 in /usr/local/lib/python3.6/dist-packages (from tensorflow-gpu==2.0.0-rc1) (1.0.8)\n",
            "Requirement already satisfied: absl-py>=0.7.0 in /usr/local/lib/python3.6/dist-packages (from tensorflow-gpu==2.0.0-rc1) (0.8.1)\n",
            "Requirement already satisfied: gast>=0.2.0 in /usr/local/lib/python3.6/dist-packages (from tensorflow-gpu==2.0.0-rc1) (0.2.2)\n",
            "Requirement already satisfied: wrapt>=1.11.1 in /usr/local/lib/python3.6/dist-packages (from tensorflow-gpu==2.0.0-rc1) (1.11.2)\n",
            "Requirement already satisfied: astor>=0.6.0 in /usr/local/lib/python3.6/dist-packages (from tensorflow-gpu==2.0.0-rc1) (0.8.0)\n",
            "Requirement already satisfied: tf-estimator-nightly<1.14.0.dev2019080602,>=1.14.0.dev2019080601 in /usr/local/lib/python3.6/dist-packages (from tensorflow-gpu==2.0.0-rc1) (1.14.0.dev2019080601)\n",
            "Requirement already satisfied: grpcio>=1.8.6 in /usr/local/lib/python3.6/dist-packages (from tensorflow-gpu==2.0.0-rc1) (1.15.0)\n",
            "Requirement already satisfied: protobuf>=3.6.1 in /usr/local/lib/python3.6/dist-packages (from tensorflow-gpu==2.0.0-rc1) (3.10.0)\n",
            "Requirement already satisfied: six>=1.10.0 in /usr/local/lib/python3.6/dist-packages (from tensorflow-gpu==2.0.0-rc1) (1.12.0)\n",
            "Requirement already satisfied: tb-nightly<1.15.0a20190807,>=1.15.0a20190806 in /usr/local/lib/python3.6/dist-packages (from tensorflow-gpu==2.0.0-rc1) (1.15.0a20190806)\n",
            "Requirement already satisfied: google-pasta>=0.1.6 in /usr/local/lib/python3.6/dist-packages (from tensorflow-gpu==2.0.0-rc1) (0.1.8)\n",
            "Requirement already satisfied: wheel>=0.26 in /usr/local/lib/python3.6/dist-packages (from tensorflow-gpu==2.0.0-rc1) (0.33.6)\n",
            "Requirement already satisfied: opt-einsum>=2.3.2 in /usr/local/lib/python3.6/dist-packages (from tensorflow-gpu==2.0.0-rc1) (3.1.0)\n",
            "Requirement already satisfied: h5py in /usr/local/lib/python3.6/dist-packages (from keras-applications>=1.0.8->tensorflow-gpu==2.0.0-rc1) (2.8.0)\n",
            "Requirement already satisfied: setuptools in /usr/local/lib/python3.6/dist-packages (from protobuf>=3.6.1->tensorflow-gpu==2.0.0-rc1) (41.6.0)\n",
            "Requirement already satisfied: markdown>=2.6.8 in /usr/local/lib/python3.6/dist-packages (from tb-nightly<1.15.0a20190807,>=1.15.0a20190806->tensorflow-gpu==2.0.0-rc1) (3.1.1)\n",
            "Requirement already satisfied: werkzeug>=0.11.15 in /usr/local/lib/python3.6/dist-packages (from tb-nightly<1.15.0a20190807,>=1.15.0a20190806->tensorflow-gpu==2.0.0-rc1) (0.16.0)\n"
          ],
          "name": "stdout"
        }
      ]
    },
    {
      "cell_type": "code",
      "metadata": {
        "id": "XE5NwDkckW9S",
        "colab_type": "code",
        "colab": {}
      },
      "source": [
        "import numpy as np\n",
        "from tensorflow.keras.models import Sequential\n",
        "from tensorflow.keras.layers import Dense, LSTM, TimeDistributed\n"
      ],
      "execution_count": 0,
      "outputs": []
    },
    {
      "cell_type": "code",
      "metadata": {
        "id": "RemKBcgHkmQD",
        "colab_type": "code",
        "colab": {}
      },
      "source": [
        "from tensorflow.keras.utils import to_categorical"
      ],
      "execution_count": 0,
      "outputs": []
    },
    {
      "cell_type": "code",
      "metadata": {
        "id": "KRooc6MzmMUL",
        "colab_type": "code",
        "outputId": "c2cb0aab-c44d-47c5-a2f5-fe88eed02953",
        "colab": {
          "base_uri": "https://localhost:8080/",
          "height": 54
        }
      },
      "source": [
        "tokens = alice_story.split() # '\\n 제거'\n",
        "alice_story = ' '.join(tokens)\n",
        "print(alice_story)\n"
      ],
      "execution_count": 131,
      "outputs": [
        {
          "output_type": "stream",
          "text": [
            "twinkle, twinkle, little star, how i wonder what you are. up above the world so high, like a diamond in the sky. twinkle, twinkle, little star, how i wonder what you are! when the blazing sun is gone, when he nothing shines upon, then you show your little light, twinkle, twinkle, all the night. twinkle, twinkle, little star, how i wonder what you are! then the traveler in the dark thanks you for your tiny spark; how could he see where to go? if you did not twinkle so. twinkle, twinkle, little star, how i wonder what you are! in the dark blue sky you keep, while you through my window peep, and you never shut your eye, till the sun is in the sky, twinkle, twinkle, little star, how i wonder what you are!\n"
          ],
          "name": "stdout"
        }
      ]
    },
    {
      "cell_type": "code",
      "metadata": {
        "id": "Lkv_Osu1mc9j",
        "colab_type": "code",
        "outputId": "f96ce934-b924-4f97-8a0c-39cc49d88448",
        "colab": {
          "base_uri": "https://localhost:8080/",
          "height": 34
        }
      },
      "source": [
        "char_vocab = sorted(list(set(alice_story))) # 중복을 제거한 글자 집합 생성\n",
        "print(char_vocab)"
      ],
      "execution_count": 132,
      "outputs": [
        {
          "output_type": "stream",
          "text": [
            "[' ', '!', ',', '.', ';', '?', 'a', 'b', 'c', 'd', 'e', 'f', 'g', 'h', 'i', 'k', 'l', 'm', 'n', 'o', 'p', 'r', 's', 't', 'u', 'v', 'w', 'y', 'z']\n"
          ],
          "name": "stdout"
        }
      ]
    },
    {
      "cell_type": "code",
      "metadata": {
        "id": "Wb3idlgymg_P",
        "colab_type": "code",
        "outputId": "9b032ede-e460-4a0a-9f28-10bf32668584",
        "colab": {
          "base_uri": "https://localhost:8080/",
          "height": 34
        }
      },
      "source": [
        "vocab_size=len(char_vocab)\n",
        "print ('글자 집합의 크기 : {}'.format(vocab_size))"
      ],
      "execution_count": 133,
      "outputs": [
        {
          "output_type": "stream",
          "text": [
            "글자 집합의 크기 : 29\n"
          ],
          "name": "stdout"
        }
      ]
    },
    {
      "cell_type": "code",
      "metadata": {
        "id": "MnBbYvlwmpxV",
        "colab_type": "code",
        "outputId": "0bdcb748-1a1d-4e20-b597-82822143140e",
        "colab": {
          "base_uri": "https://localhost:8080/",
          "height": 54
        }
      },
      "source": [
        "char_to_index = dict((c, i) for i, c in enumerate(char_vocab)) # 글자에 고유한 정수 인덱스 부여\n",
        "print(char_to_index)"
      ],
      "execution_count": 134,
      "outputs": [
        {
          "output_type": "stream",
          "text": [
            "{' ': 0, '!': 1, ',': 2, '.': 3, ';': 4, '?': 5, 'a': 6, 'b': 7, 'c': 8, 'd': 9, 'e': 10, 'f': 11, 'g': 12, 'h': 13, 'i': 14, 'k': 15, 'l': 16, 'm': 17, 'n': 18, 'o': 19, 'p': 20, 'r': 21, 's': 22, 't': 23, 'u': 24, 'v': 25, 'w': 26, 'y': 27, 'z': 28}\n"
          ],
          "name": "stdout"
        }
      ]
    },
    {
      "cell_type": "code",
      "metadata": {
        "id": "IyBnwGzYmrWv",
        "colab_type": "code",
        "outputId": "c7bb4b36-91c0-48e4-828d-c52204ffec7e",
        "colab": {
          "base_uri": "https://localhost:8080/",
          "height": 34
        }
      },
      "source": [
        "length = 11\n",
        "sequences = []\n",
        "for i in range(length, len(alice_story)):\n",
        "    seq = alice_story[i-length:i] # 길이 11의 문자열을 지속적으로 만든다.\n",
        "    sequences.append(seq)\n",
        "print('총 훈련 샘플의 수: %d' % len(sequences))"
      ],
      "execution_count": 135,
      "outputs": [
        {
          "output_type": "stream",
          "text": [
            "총 훈련 샘플의 수: 699\n"
          ],
          "name": "stdout"
        }
      ]
    },
    {
      "cell_type": "code",
      "metadata": {
        "id": "Y5TbkXNrmtkF",
        "colab_type": "code",
        "outputId": "943e06ad-110b-429f-e62a-0d398c2a18a6",
        "colab": {
          "base_uri": "https://localhost:8080/",
          "height": 185
        }
      },
      "source": [
        "sequences[:10]"
      ],
      "execution_count": 136,
      "outputs": [
        {
          "output_type": "execute_result",
          "data": {
            "text/plain": [
              "['twinkle, tw',\n",
              " 'winkle, twi',\n",
              " 'inkle, twin',\n",
              " 'nkle, twink',\n",
              " 'kle, twinkl',\n",
              " 'le, twinkle',\n",
              " 'e, twinkle,',\n",
              " ', twinkle, ',\n",
              " ' twinkle, l',\n",
              " 'twinkle, li']"
            ]
          },
          "metadata": {
            "tags": []
          },
          "execution_count": 136
        }
      ]
    },
    {
      "cell_type": "code",
      "metadata": {
        "id": "LyVpsjKAmyR_",
        "colab_type": "code",
        "colab": {}
      },
      "source": [
        "X = []\n",
        "for line in sequences: # 전체 데이터에서 문장 샘플을 1개씩 꺼낸다.\n",
        "    temp_X = [char_to_index[char] for char in line] # 문장 샘플에서 각 글자에 대해서 정수 인코딩을 수행.\n",
        "    X.append(temp_X)"
      ],
      "execution_count": 0,
      "outputs": []
    },
    {
      "cell_type": "code",
      "metadata": {
        "id": "3CAfAK6Om0Dy",
        "colab_type": "code",
        "outputId": "dbca276a-727e-4e98-d8d3-c0759f92f42a",
        "colab": {
          "base_uri": "https://localhost:8080/",
          "height": 101
        }
      },
      "source": [
        "for line in X[:5]:\n",
        "    print(line)"
      ],
      "execution_count": 138,
      "outputs": [
        {
          "output_type": "stream",
          "text": [
            "[23, 26, 14, 18, 15, 16, 10, 2, 0, 23, 26]\n",
            "[26, 14, 18, 15, 16, 10, 2, 0, 23, 26, 14]\n",
            "[14, 18, 15, 16, 10, 2, 0, 23, 26, 14, 18]\n",
            "[18, 15, 16, 10, 2, 0, 23, 26, 14, 18, 15]\n",
            "[15, 16, 10, 2, 0, 23, 26, 14, 18, 15, 16]\n"
          ],
          "name": "stdout"
        }
      ]
    },
    {
      "cell_type": "code",
      "metadata": {
        "id": "61psimqgm1hb",
        "colab_type": "code",
        "colab": {}
      },
      "source": [
        "sequences = np.array(X)\n",
        "X = sequences[:,:-1]\n",
        "y = sequences[:,-1] # 맨 마지막 위치의 글자를 분리"
      ],
      "execution_count": 0,
      "outputs": []
    },
    {
      "cell_type": "code",
      "metadata": {
        "id": "pRIKQxism3CD",
        "colab_type": "code",
        "colab": {}
      },
      "source": [
        "sequences = [to_categorical(x, num_classes=vocab_size) for x in X] # X에 대한 원-핫 인코딩\n",
        "X = np.array(sequences)\n",
        "y = to_categorical(y, num_classes=vocab_size) # y에 대한 원-핫 인코딩"
      ],
      "execution_count": 0,
      "outputs": []
    },
    {
      "cell_type": "code",
      "metadata": {
        "id": "qSHfCINQm5SY",
        "colab_type": "code",
        "outputId": "07d39fca-792a-40ca-c6c6-fc73022611fd",
        "colab": {
          "base_uri": "https://localhost:8080/",
          "height": 34
        }
      },
      "source": [
        "print(X.shape)"
      ],
      "execution_count": 141,
      "outputs": [
        {
          "output_type": "stream",
          "text": [
            "(699, 10, 29)\n"
          ],
          "name": "stdout"
        }
      ]
    },
    {
      "cell_type": "code",
      "metadata": {
        "id": "S5CnA7oCsVhB",
        "colab_type": "code",
        "colab": {
          "base_uri": "https://localhost:8080/",
          "height": 54
        },
        "outputId": "2e4fbd3b-7860-4323-967f-2e79606a6c6d"
      },
      "source": [
        "alice_story[:200]"
      ],
      "execution_count": 142,
      "outputs": [
        {
          "output_type": "execute_result",
          "data": {
            "text/plain": [
              "'twinkle, twinkle, little star, how i wonder what you are. up above the world so high, like a diamond in the sky. twinkle, twinkle, little star, how i wonder what you are! when the blazing sun is gone,'"
            ]
          },
          "metadata": {
            "tags": []
          },
          "execution_count": 142
        }
      ]
    },
    {
      "cell_type": "code",
      "metadata": {
        "id": "vB4c36F9m71f",
        "colab_type": "code",
        "colab": {}
      },
      "source": [
        "from tensorflow.keras.models import Sequential\n",
        "from tensorflow.keras.layers import Dense, LSTM\n",
        "from tensorflow.keras.preprocessing.sequence import pad_sequences"
      ],
      "execution_count": 0,
      "outputs": []
    },
    {
      "cell_type": "code",
      "metadata": {
        "id": "Ql75YWQkm-Rd",
        "colab_type": "code",
        "colab": {}
      },
      "source": [
        "model = Sequential()\n",
        "model.add(LSTM(80, input_shape=(X.shape[1], X.shape[2]))) # X.shape[1]은 25, X.shape[2]는 33\n",
        "model.add(Dense(vocab_size, activation='softmax'))"
      ],
      "execution_count": 0,
      "outputs": []
    },
    {
      "cell_type": "code",
      "metadata": {
        "id": "0d7otWXSm_kY",
        "colab_type": "code",
        "outputId": "b3a6a910-a095-47e6-a618-c9f5fa9e8a44",
        "colab": {
          "base_uri": "https://localhost:8080/",
          "height": 1000
        }
      },
      "source": [
        "model.compile(loss='categorical_crossentropy', optimizer='adam', metrics=['accuracy'])\n",
        "model.fit(X, y, epochs=150, verbose=2)"
      ],
      "execution_count": 145,
      "outputs": [
        {
          "output_type": "stream",
          "text": [
            "Train on 699 samples\n",
            "Epoch 1/150\n",
            "699/699 - 2s - loss: 3.2933 - accuracy: 0.1631\n",
            "Epoch 2/150\n",
            "699/699 - 0s - loss: 2.9669 - accuracy: 0.1903\n",
            "Epoch 3/150\n",
            "699/699 - 0s - loss: 2.8243 - accuracy: 0.1903\n",
            "Epoch 4/150\n",
            "699/699 - 0s - loss: 2.7944 - accuracy: 0.1903\n",
            "Epoch 5/150\n",
            "699/699 - 0s - loss: 2.7538 - accuracy: 0.1903\n",
            "Epoch 6/150\n",
            "699/699 - 0s - loss: 2.7148 - accuracy: 0.1903\n",
            "Epoch 7/150\n",
            "699/699 - 0s - loss: 2.6626 - accuracy: 0.2132\n",
            "Epoch 8/150\n",
            "699/699 - 0s - loss: 2.6147 - accuracy: 0.2332\n",
            "Epoch 9/150\n",
            "699/699 - 0s - loss: 2.5607 - accuracy: 0.2461\n",
            "Epoch 10/150\n",
            "699/699 - 0s - loss: 2.4927 - accuracy: 0.2718\n",
            "Epoch 11/150\n",
            "699/699 - 0s - loss: 2.4193 - accuracy: 0.2947\n",
            "Epoch 12/150\n",
            "699/699 - 0s - loss: 2.3487 - accuracy: 0.3190\n",
            "Epoch 13/150\n",
            "699/699 - 0s - loss: 2.2781 - accuracy: 0.3247\n",
            "Epoch 14/150\n",
            "699/699 - 0s - loss: 2.1968 - accuracy: 0.3548\n",
            "Epoch 15/150\n",
            "699/699 - 0s - loss: 2.1288 - accuracy: 0.3777\n",
            "Epoch 16/150\n",
            "699/699 - 0s - loss: 2.0811 - accuracy: 0.4177\n",
            "Epoch 17/150\n",
            "699/699 - 0s - loss: 2.0230 - accuracy: 0.4249\n",
            "Epoch 18/150\n",
            "699/699 - 0s - loss: 1.9377 - accuracy: 0.4707\n",
            "Epoch 19/150\n",
            "699/699 - 0s - loss: 1.8660 - accuracy: 0.4907\n",
            "Epoch 20/150\n",
            "699/699 - 0s - loss: 1.7806 - accuracy: 0.5436\n",
            "Epoch 21/150\n",
            "699/699 - 0s - loss: 1.7262 - accuracy: 0.5579\n",
            "Epoch 22/150\n",
            "699/699 - 0s - loss: 1.6575 - accuracy: 0.5923\n",
            "Epoch 23/150\n",
            "699/699 - 0s - loss: 1.5977 - accuracy: 0.6166\n",
            "Epoch 24/150\n",
            "699/699 - 0s - loss: 1.5372 - accuracy: 0.6352\n",
            "Epoch 25/150\n",
            "699/699 - 0s - loss: 1.4662 - accuracy: 0.6509\n",
            "Epoch 26/150\n",
            "699/699 - 0s - loss: 1.4107 - accuracy: 0.6538\n",
            "Epoch 27/150\n",
            "699/699 - 0s - loss: 1.3609 - accuracy: 0.6695\n",
            "Epoch 28/150\n",
            "699/699 - 0s - loss: 1.3142 - accuracy: 0.6853\n",
            "Epoch 29/150\n",
            "699/699 - 0s - loss: 1.2638 - accuracy: 0.6910\n",
            "Epoch 30/150\n",
            "699/699 - 0s - loss: 1.2084 - accuracy: 0.6953\n",
            "Epoch 31/150\n",
            "699/699 - 0s - loss: 1.1752 - accuracy: 0.7010\n",
            "Epoch 32/150\n",
            "699/699 - 0s - loss: 1.1148 - accuracy: 0.7182\n",
            "Epoch 33/150\n",
            "699/699 - 0s - loss: 1.0602 - accuracy: 0.7353\n",
            "Epoch 34/150\n",
            "699/699 - 0s - loss: 1.0430 - accuracy: 0.7353\n",
            "Epoch 35/150\n",
            "699/699 - 0s - loss: 1.0009 - accuracy: 0.7353\n",
            "Epoch 36/150\n",
            "699/699 - 0s - loss: 0.9562 - accuracy: 0.7597\n",
            "Epoch 37/150\n",
            "699/699 - 0s - loss: 0.9112 - accuracy: 0.7639\n",
            "Epoch 38/150\n",
            "699/699 - 0s - loss: 0.8719 - accuracy: 0.7854\n",
            "Epoch 39/150\n",
            "699/699 - 0s - loss: 0.8266 - accuracy: 0.7768\n",
            "Epoch 40/150\n",
            "699/699 - 0s - loss: 0.8107 - accuracy: 0.7911\n",
            "Epoch 41/150\n",
            "699/699 - 0s - loss: 0.7711 - accuracy: 0.8140\n",
            "Epoch 42/150\n",
            "699/699 - 0s - loss: 0.7408 - accuracy: 0.8155\n",
            "Epoch 43/150\n",
            "699/699 - 0s - loss: 0.6985 - accuracy: 0.8283\n",
            "Epoch 44/150\n",
            "699/699 - 0s - loss: 0.6742 - accuracy: 0.8355\n",
            "Epoch 45/150\n",
            "699/699 - 0s - loss: 0.6417 - accuracy: 0.8555\n",
            "Epoch 46/150\n",
            "699/699 - 0s - loss: 0.6005 - accuracy: 0.8555\n",
            "Epoch 47/150\n",
            "699/699 - 0s - loss: 0.5814 - accuracy: 0.8698\n",
            "Epoch 48/150\n",
            "699/699 - 0s - loss: 0.5528 - accuracy: 0.8712\n",
            "Epoch 49/150\n",
            "699/699 - 0s - loss: 0.5258 - accuracy: 0.8856\n",
            "Epoch 50/150\n",
            "699/699 - 0s - loss: 0.5000 - accuracy: 0.8927\n",
            "Epoch 51/150\n",
            "699/699 - 0s - loss: 0.4894 - accuracy: 0.8956\n",
            "Epoch 52/150\n",
            "699/699 - 0s - loss: 0.4672 - accuracy: 0.9070\n",
            "Epoch 53/150\n",
            "699/699 - 0s - loss: 0.4396 - accuracy: 0.9156\n",
            "Epoch 54/150\n",
            "699/699 - 0s - loss: 0.4123 - accuracy: 0.9227\n",
            "Epoch 55/150\n",
            "699/699 - 0s - loss: 0.3893 - accuracy: 0.9313\n",
            "Epoch 56/150\n",
            "699/699 - 0s - loss: 0.3638 - accuracy: 0.9371\n",
            "Epoch 57/150\n",
            "699/699 - 0s - loss: 0.3454 - accuracy: 0.9499\n",
            "Epoch 58/150\n",
            "699/699 - 0s - loss: 0.3266 - accuracy: 0.9557\n",
            "Epoch 59/150\n",
            "699/699 - 0s - loss: 0.3267 - accuracy: 0.9471\n",
            "Epoch 60/150\n",
            "699/699 - 0s - loss: 0.2992 - accuracy: 0.9614\n",
            "Epoch 61/150\n",
            "699/699 - 0s - loss: 0.2888 - accuracy: 0.9571\n",
            "Epoch 62/150\n",
            "699/699 - 0s - loss: 0.2746 - accuracy: 0.9614\n",
            "Epoch 63/150\n",
            "699/699 - 0s - loss: 0.2575 - accuracy: 0.9614\n",
            "Epoch 64/150\n",
            "699/699 - 0s - loss: 0.2467 - accuracy: 0.9642\n",
            "Epoch 65/150\n",
            "699/699 - 0s - loss: 0.2330 - accuracy: 0.9685\n",
            "Epoch 66/150\n",
            "699/699 - 0s - loss: 0.2251 - accuracy: 0.9671\n",
            "Epoch 67/150\n",
            "699/699 - 0s - loss: 0.2264 - accuracy: 0.9685\n",
            "Epoch 68/150\n",
            "699/699 - 0s - loss: 0.2087 - accuracy: 0.9700\n",
            "Epoch 69/150\n",
            "699/699 - 0s - loss: 0.1931 - accuracy: 0.9714\n",
            "Epoch 70/150\n",
            "699/699 - 0s - loss: 0.1858 - accuracy: 0.9742\n",
            "Epoch 71/150\n",
            "699/699 - 0s - loss: 0.1806 - accuracy: 0.9757\n",
            "Epoch 72/150\n",
            "699/699 - 0s - loss: 0.1689 - accuracy: 0.9785\n",
            "Epoch 73/150\n",
            "699/699 - 0s - loss: 0.1636 - accuracy: 0.9771\n",
            "Epoch 74/150\n",
            "699/699 - 0s - loss: 0.1561 - accuracy: 0.9771\n",
            "Epoch 75/150\n",
            "699/699 - 0s - loss: 0.1514 - accuracy: 0.9814\n",
            "Epoch 76/150\n",
            "699/699 - 0s - loss: 0.1470 - accuracy: 0.9800\n",
            "Epoch 77/150\n",
            "699/699 - 0s - loss: 0.1436 - accuracy: 0.9771\n",
            "Epoch 78/150\n",
            "699/699 - 0s - loss: 0.1392 - accuracy: 0.9785\n",
            "Epoch 79/150\n",
            "699/699 - 0s - loss: 0.1301 - accuracy: 0.9800\n",
            "Epoch 80/150\n",
            "699/699 - 0s - loss: 0.1283 - accuracy: 0.9771\n",
            "Epoch 81/150\n",
            "699/699 - 0s - loss: 0.1250 - accuracy: 0.9814\n",
            "Epoch 82/150\n",
            "699/699 - 0s - loss: 0.1260 - accuracy: 0.9757\n",
            "Epoch 83/150\n",
            "699/699 - 0s - loss: 0.1201 - accuracy: 0.9757\n",
            "Epoch 84/150\n",
            "699/699 - 0s - loss: 0.1120 - accuracy: 0.9785\n",
            "Epoch 85/150\n",
            "699/699 - 0s - loss: 0.1093 - accuracy: 0.9785\n",
            "Epoch 86/150\n",
            "699/699 - 0s - loss: 0.1070 - accuracy: 0.9814\n",
            "Epoch 87/150\n",
            "699/699 - 0s - loss: 0.1022 - accuracy: 0.9785\n",
            "Epoch 88/150\n",
            "699/699 - 0s - loss: 0.0989 - accuracy: 0.9800\n",
            "Epoch 89/150\n",
            "699/699 - 0s - loss: 0.0990 - accuracy: 0.9785\n",
            "Epoch 90/150\n",
            "699/699 - 0s - loss: 0.0983 - accuracy: 0.9800\n",
            "Epoch 91/150\n",
            "699/699 - 0s - loss: 0.0938 - accuracy: 0.9757\n",
            "Epoch 92/150\n",
            "699/699 - 0s - loss: 0.0923 - accuracy: 0.9771\n",
            "Epoch 93/150\n",
            "699/699 - 0s - loss: 0.0860 - accuracy: 0.9814\n",
            "Epoch 94/150\n",
            "699/699 - 0s - loss: 0.0849 - accuracy: 0.9828\n",
            "Epoch 95/150\n",
            "699/699 - 0s - loss: 0.0871 - accuracy: 0.9785\n",
            "Epoch 96/150\n",
            "699/699 - 0s - loss: 0.0852 - accuracy: 0.9785\n",
            "Epoch 97/150\n",
            "699/699 - 0s - loss: 0.0804 - accuracy: 0.9814\n",
            "Epoch 98/150\n",
            "699/699 - 0s - loss: 0.0798 - accuracy: 0.9814\n",
            "Epoch 99/150\n",
            "699/699 - 0s - loss: 0.0769 - accuracy: 0.9814\n",
            "Epoch 100/150\n",
            "699/699 - 0s - loss: 0.0792 - accuracy: 0.9800\n",
            "Epoch 101/150\n",
            "699/699 - 0s - loss: 0.0761 - accuracy: 0.9771\n",
            "Epoch 102/150\n",
            "699/699 - 0s - loss: 0.0718 - accuracy: 0.9800\n",
            "Epoch 103/150\n",
            "699/699 - 0s - loss: 0.0709 - accuracy: 0.9785\n",
            "Epoch 104/150\n",
            "699/699 - 0s - loss: 0.0723 - accuracy: 0.9814\n",
            "Epoch 105/150\n",
            "699/699 - 0s - loss: 0.0682 - accuracy: 0.9785\n",
            "Epoch 106/150\n",
            "699/699 - 0s - loss: 0.0684 - accuracy: 0.9771\n",
            "Epoch 107/150\n",
            "699/699 - 0s - loss: 0.0680 - accuracy: 0.9828\n",
            "Epoch 108/150\n",
            "699/699 - 0s - loss: 0.0680 - accuracy: 0.9814\n",
            "Epoch 109/150\n",
            "699/699 - 0s - loss: 0.0670 - accuracy: 0.9785\n",
            "Epoch 110/150\n",
            "699/699 - 0s - loss: 0.0649 - accuracy: 0.9814\n",
            "Epoch 111/150\n",
            "699/699 - 0s - loss: 0.0637 - accuracy: 0.9828\n",
            "Epoch 112/150\n",
            "699/699 - 0s - loss: 0.0621 - accuracy: 0.9828\n",
            "Epoch 113/150\n",
            "699/699 - 0s - loss: 0.0622 - accuracy: 0.9785\n",
            "Epoch 114/150\n",
            "699/699 - 0s - loss: 0.0603 - accuracy: 0.9800\n",
            "Epoch 115/150\n",
            "699/699 - 0s - loss: 0.0591 - accuracy: 0.9785\n",
            "Epoch 116/150\n",
            "699/699 - 0s - loss: 0.0569 - accuracy: 0.9814\n",
            "Epoch 117/150\n",
            "699/699 - 0s - loss: 0.0576 - accuracy: 0.9785\n",
            "Epoch 118/150\n",
            "699/699 - 0s - loss: 0.0595 - accuracy: 0.9814\n",
            "Epoch 119/150\n",
            "699/699 - 0s - loss: 0.0656 - accuracy: 0.9800\n",
            "Epoch 120/150\n",
            "699/699 - 0s - loss: 0.0598 - accuracy: 0.9800\n",
            "Epoch 121/150\n",
            "699/699 - 0s - loss: 0.0548 - accuracy: 0.9814\n",
            "Epoch 122/150\n",
            "699/699 - 0s - loss: 0.0548 - accuracy: 0.9771\n",
            "Epoch 123/150\n",
            "699/699 - 0s - loss: 0.0567 - accuracy: 0.9814\n",
            "Epoch 124/150\n",
            "699/699 - 0s - loss: 0.0529 - accuracy: 0.9828\n",
            "Epoch 125/150\n",
            "699/699 - 0s - loss: 0.0545 - accuracy: 0.9800\n",
            "Epoch 126/150\n",
            "699/699 - 0s - loss: 0.0508 - accuracy: 0.9828\n",
            "Epoch 127/150\n",
            "699/699 - 0s - loss: 0.0517 - accuracy: 0.9800\n",
            "Epoch 128/150\n",
            "699/699 - 0s - loss: 0.0546 - accuracy: 0.9785\n",
            "Epoch 129/150\n",
            "699/699 - 0s - loss: 0.0513 - accuracy: 0.9843\n",
            "Epoch 130/150\n",
            "699/699 - 0s - loss: 0.0501 - accuracy: 0.9828\n",
            "Epoch 131/150\n",
            "699/699 - 0s - loss: 0.0495 - accuracy: 0.9828\n",
            "Epoch 132/150\n",
            "699/699 - 0s - loss: 0.0493 - accuracy: 0.9785\n",
            "Epoch 133/150\n",
            "699/699 - 0s - loss: 0.0490 - accuracy: 0.9814\n",
            "Epoch 134/150\n",
            "699/699 - 0s - loss: 0.0477 - accuracy: 0.9828\n",
            "Epoch 135/150\n",
            "699/699 - 0s - loss: 0.0475 - accuracy: 0.9800\n",
            "Epoch 136/150\n",
            "699/699 - 0s - loss: 0.0465 - accuracy: 0.9843\n",
            "Epoch 137/150\n",
            "699/699 - 0s - loss: 0.0464 - accuracy: 0.9828\n",
            "Epoch 138/150\n",
            "699/699 - 0s - loss: 0.0453 - accuracy: 0.9800\n",
            "Epoch 139/150\n",
            "699/699 - 0s - loss: 0.0461 - accuracy: 0.9800\n",
            "Epoch 140/150\n",
            "699/699 - 0s - loss: 0.0469 - accuracy: 0.9843\n",
            "Epoch 141/150\n",
            "699/699 - 0s - loss: 0.0463 - accuracy: 0.9800\n",
            "Epoch 142/150\n",
            "699/699 - 0s - loss: 0.0451 - accuracy: 0.9828\n",
            "Epoch 143/150\n",
            "699/699 - 0s - loss: 0.0447 - accuracy: 0.9800\n",
            "Epoch 144/150\n",
            "699/699 - 0s - loss: 0.0447 - accuracy: 0.9814\n",
            "Epoch 145/150\n",
            "699/699 - 0s - loss: 0.0435 - accuracy: 0.9800\n",
            "Epoch 146/150\n",
            "699/699 - 0s - loss: 0.0433 - accuracy: 0.9814\n",
            "Epoch 147/150\n",
            "699/699 - 0s - loss: 0.0440 - accuracy: 0.9814\n",
            "Epoch 148/150\n",
            "699/699 - 0s - loss: 0.0434 - accuracy: 0.9814\n",
            "Epoch 149/150\n",
            "699/699 - 0s - loss: 0.0444 - accuracy: 0.9828\n",
            "Epoch 150/150\n",
            "699/699 - 0s - loss: 0.0422 - accuracy: 0.9814\n"
          ],
          "name": "stdout"
        },
        {
          "output_type": "execute_result",
          "data": {
            "text/plain": [
              "<tensorflow.python.keras.callbacks.History at 0x7f509806fdd8>"
            ]
          },
          "metadata": {
            "tags": []
          },
          "execution_count": 145
        }
      ]
    },
    {
      "cell_type": "code",
      "metadata": {
        "id": "iRLYK7VFnBfE",
        "colab_type": "code",
        "colab": {}
      },
      "source": [
        "def sentence_generation(model, char_to_index, seq_length, seed_text, n):\n",
        "# 모델, 인덱스 정보, 문장 길이, 초기 시퀀스, 반복 횟수\n",
        "    init_text = seed_text # 문장 생성에 사용할 초기 시퀀스\n",
        "    sentence = ''\n",
        "\n",
        "    for _ in range(n): # n번 반복\n",
        "        encoded = [char_to_index[char] for char in seed_text] # 현재 시퀀스에 대한 정수 인코딩\n",
        "        encoded = pad_sequences([encoded], maxlen=seq_length, padding='pre') # 데이터에 대한 패딩\n",
        "        encoded = to_categorical(encoded, num_classes=len(char_to_index))\n",
        "        result = model.predict_classes(encoded, verbose=0)\n",
        "        # 입력한 X(현재 시퀀스)에 대해서 y를 예측하고 y(예측한 글자)를 result에 저장.\n",
        "        for char, index in char_to_index.items(): # 만약 예측한 글자와 인덱스와 동일한 글자가 있다면\n",
        "            if index == result: # 해당 글자가 예측 글자이므로 break\n",
        "                break\n",
        "        seed_text=seed_text + char # 현재 시퀀스 + 예측 글자를 현재 시퀀스로 변경\n",
        "        sentence=sentence + char # 예측 글자를 문장에 저장\n",
        "        # for문이므로 이 작업을 다시 반복\n",
        "\n",
        "    sentence = init_text + sentence\n",
        "    return sentence"
      ],
      "execution_count": 0,
      "outputs": []
    },
    {
      "cell_type": "code",
      "metadata": {
        "id": "OYuLfWcLnEYy",
        "colab_type": "code",
        "colab": {
          "base_uri": "https://localhost:8080/",
          "height": 34
        },
        "outputId": "c04daeb4-28a3-4b7b-973c-efa57e0d3d27"
      },
      "source": [
        "print(sentence_generation(model, char_to_index, 10, 'the traveler in', 60))"
      ],
      "execution_count": 150,
      "outputs": [
        {
          "output_type": "stream",
          "text": [
            "the traveler in the dark thanks you for your tiny spark; how could he see w\n"
          ],
          "name": "stdout"
        }
      ]
    },
    {
      "cell_type": "code",
      "metadata": {
        "id": "lL3-fBAorh1k",
        "colab_type": "code",
        "colab": {}
      },
      "source": [
        ""
      ],
      "execution_count": 0,
      "outputs": []
    }
  ]
}