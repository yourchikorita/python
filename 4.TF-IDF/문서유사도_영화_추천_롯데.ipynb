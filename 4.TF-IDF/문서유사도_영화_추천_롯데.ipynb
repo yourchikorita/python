{
  "nbformat": 4,
  "nbformat_minor": 0,
  "metadata": {
    "colab": {
      "name": "문서유사도_영화 추천 시스템 구현하기.ipynb",
      "provenance": [],
      "collapsed_sections": [],
      "toc_visible": true
    },
    "kernelspec": {
      "name": "python3",
      "display_name": "Python 3"
    }
  },
  "cells": [
    {
      "cell_type": "markdown",
      "metadata": {
        "id": "U-EMljuyqLP_",
        "colab_type": "text"
      },
      "source": [
        "## 코사인 유사도(Cosine Similarity)"
      ]
    },
    {
      "cell_type": "markdown",
      "metadata": {
        "id": "3rMbK0SnqQxT",
        "colab_type": "text"
      },
      "source": [
        "파이썬에서는 코사인 유사도를 구하는 방법은 여러가지가 있는데 여기서는 Numpy를 이용해서 계산해보겠습니다."
      ]
    },
    {
      "cell_type": "code",
      "metadata": {
        "id": "aYK4GuxSqGXn",
        "colab_type": "code",
        "colab": {}
      },
      "source": [
        "from numpy import dot\n",
        "from numpy.linalg import norm\n",
        "import numpy as np\n",
        "def cos_sim(A, B):\n",
        "       return dot(A, B)/(norm(A)*norm(B))"
      ],
      "execution_count": 0,
      "outputs": []
    },
    {
      "cell_type": "markdown",
      "metadata": {
        "id": "Sx27O6M3qfp7",
        "colab_type": "text"
      },
      "source": [
        "\n",
        "\n",
        "*   문서1 : 저는 사과 좋아요\n",
        "*   문서2 : 저는 바나나 좋아요\n",
        "*   문서3 : 저는 바나나 좋아요 저는 바나나 좋아요\n",
        "\n",
        "![image.png](data:image/png;base64,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)\n",
        "\n",
        "\n",
        "\n",
        "\n"
      ]
    },
    {
      "cell_type": "markdown",
      "metadata": {
        "id": "CjJiIv1YqW7c",
        "colab_type": "text"
      },
      "source": [
        "코사인 유사도를 계산하는 함수를 만들었습니다."
      ]
    },
    {
      "cell_type": "code",
      "metadata": {
        "id": "tJ7MMcu6qWPm",
        "colab_type": "code",
        "colab": {}
      },
      "source": [
        "doc1=np.array([0,1,1,1])\n",
        "doc2=np.array([1,0,1,1])\n",
        "doc3=np.array([2,0,2,2])"
      ],
      "execution_count": 0,
      "outputs": []
    },
    {
      "cell_type": "code",
      "metadata": {
        "id": "k15FsCdTv00E",
        "colab_type": "code",
        "colab": {}
      },
      "source": [
        ""
      ],
      "execution_count": 0,
      "outputs": []
    },
    {
      "cell_type": "markdown",
      "metadata": {
        "id": "6SqQE6IqqcHY",
        "colab_type": "text"
      },
      "source": [
        "예를 들었던 문서1, 문서2, 문서3에 대해서 각각 BoW를 만들었습니다. 이제 각 문서에 대한 코사인 유사도를 계산해보겠습니다."
      ]
    },
    {
      "cell_type": "code",
      "metadata": {
        "id": "YFjmKObGqaV1",
        "colab_type": "code",
        "colab": {
          "base_uri": "https://localhost:8080/",
          "height": 67
        },
        "outputId": "f6ac6acd-6a31-461d-8d9d-14a3e807c9db"
      },
      "source": [
        "print(cos_sim(doc1, doc2)) #문서1과 문서2의 코사인 유사도\n",
        "print(cos_sim(doc1, doc3)) #문서1과 문서3의 코사인 유사도\n",
        "print(cos_sim(doc2, doc3)) #문서2과 문서3의 코사인 유사도"
      ],
      "execution_count": 3,
      "outputs": [
        {
          "output_type": "stream",
          "text": [
            "0.6666666666666667\n",
            "0.6666666666666667\n",
            "1.0000000000000002\n"
          ],
          "name": "stdout"
        }
      ]
    },
    {
      "cell_type": "markdown",
      "metadata": {
        "id": "XKPaFp8YrVSS",
        "colab_type": "text"
      },
      "source": [
        "## 2. 유사도를 이용한 추천 시스템 구현하기\n",
        "캐글에서 사용되었던 영화 데이터셋을 가지고 영화 추천 시스템을 만들어보겠습니다. TF-IDF와 코사인 유사도만으로 영화의 줄거리에 기반해서 영화를 추천하는 추천 시스템을 만들 수 있습니다."
      ]
    },
    {
      "cell_type": "markdown",
      "metadata": {
        "id": "u-7f_SOMtWgi",
        "colab_type": "text"
      },
      "source": [
        "캐글에서 사용되었던 영화 데이터셋을 가지고 영화 추천 시스템을 만들어보겠습니다. TF-IDF와 코사인 유사도만으로 영화의 줄거리에 기반해서 영화를 추천하는 추천 시스템을 만들 수 있습니다.\n",
        "\n",
        "다운로드 링크 : https://www.kaggle.com/rounakbanik/the-movies-dataset\n",
        "\n",
        "원본 파일은 위 링크에서 movies_metadata.csv 파일을 다운로드 받으면 됩니다. 해당 데이터는 총 24개의 열을 가진 45,466개의 샘플로 구성된 영화 정보 데이터입니다."
      ]
    },
    {
      "cell_type": "code",
      "metadata": {
        "id": "ECVWRMgDrPG1",
        "colab_type": "code",
        "colab": {
          "base_uri": "https://localhost:8080/",
          "height": 311
        },
        "outputId": "5b4c690d-d624-4552-afe3-62493b97c6a4"
      },
      "source": [
        "import pandas as pd\n",
        "data = pd.read_csv(r'movies_metadata.csv', low_memory=False)\n",
        "# 예를 들어 윈도우 바탕화면에 해당 파일을 위치시킨 저자의 경우\n",
        "# pd.read_csv(r'C:\\Users\\USER\\Desktop\\movies_metadata.csv', low_memory=False)\n",
        "data.head(2)"
      ],
      "execution_count": 8,
      "outputs": [
        {
          "output_type": "execute_result",
          "data": {
            "text/html": [
              "<div>\n",
              "<style scoped>\n",
              "    .dataframe tbody tr th:only-of-type {\n",
              "        vertical-align: middle;\n",
              "    }\n",
              "\n",
              "    .dataframe tbody tr th {\n",
              "        vertical-align: top;\n",
              "    }\n",
              "\n",
              "    .dataframe thead th {\n",
              "        text-align: right;\n",
              "    }\n",
              "</style>\n",
              "<table border=\"1\" class=\"dataframe\">\n",
              "  <thead>\n",
              "    <tr style=\"text-align: right;\">\n",
              "      <th></th>\n",
              "      <th>adult</th>\n",
              "      <th>belongs_to_collection</th>\n",
              "      <th>budget</th>\n",
              "      <th>genres</th>\n",
              "      <th>homepage</th>\n",
              "      <th>id</th>\n",
              "      <th>imdb_id</th>\n",
              "      <th>original_language</th>\n",
              "      <th>original_title</th>\n",
              "      <th>overview</th>\n",
              "      <th>popularity</th>\n",
              "      <th>poster_path</th>\n",
              "      <th>production_companies</th>\n",
              "      <th>production_countries</th>\n",
              "      <th>release_date</th>\n",
              "      <th>revenue</th>\n",
              "      <th>runtime</th>\n",
              "      <th>spoken_languages</th>\n",
              "      <th>status</th>\n",
              "      <th>tagline</th>\n",
              "      <th>title</th>\n",
              "      <th>video</th>\n",
              "      <th>vote_average</th>\n",
              "      <th>vote_count</th>\n",
              "    </tr>\n",
              "  </thead>\n",
              "  <tbody>\n",
              "    <tr>\n",
              "      <th>0</th>\n",
              "      <td>False</td>\n",
              "      <td>{'id': 10194, 'name': 'Toy Story Collection', ...</td>\n",
              "      <td>30000000</td>\n",
              "      <td>[{'id': 16, 'name': 'Animation'}, {'id': 35, '...</td>\n",
              "      <td>http://toystory.disney.com/toy-story</td>\n",
              "      <td>862</td>\n",
              "      <td>tt0114709</td>\n",
              "      <td>en</td>\n",
              "      <td>Toy Story</td>\n",
              "      <td>Led by Woody, Andy's toys live happily in his ...</td>\n",
              "      <td>21.946943</td>\n",
              "      <td>/rhIRbceoE9lR4veEXuwCC2wARtG.jpg</td>\n",
              "      <td>[{'name': 'Pixar Animation Studios', 'id': 3}]</td>\n",
              "      <td>[{'iso_3166_1': 'US', 'name': 'United States o...</td>\n",
              "      <td>1995-10-30</td>\n",
              "      <td>373554033.0</td>\n",
              "      <td>81.0</td>\n",
              "      <td>[{'iso_639_1': 'en', 'name': 'English'}]</td>\n",
              "      <td>Released</td>\n",
              "      <td>NaN</td>\n",
              "      <td>Toy Story</td>\n",
              "      <td>False</td>\n",
              "      <td>7.7</td>\n",
              "      <td>5415.0</td>\n",
              "    </tr>\n",
              "    <tr>\n",
              "      <th>1</th>\n",
              "      <td>False</td>\n",
              "      <td>NaN</td>\n",
              "      <td>65000000</td>\n",
              "      <td>[{'id': 12, 'name': 'Adventure'}, {'id': 14, '...</td>\n",
              "      <td>NaN</td>\n",
              "      <td>8844</td>\n",
              "      <td>tt0113497</td>\n",
              "      <td>en</td>\n",
              "      <td>Jumanji</td>\n",
              "      <td>When siblings Judy and Peter discover an encha...</td>\n",
              "      <td>17.015539</td>\n",
              "      <td>/vzmL6fP7aPKNKPRTFnZmiUfciyV.jpg</td>\n",
              "      <td>[{'name': 'TriStar Pictures', 'id': 559}, {'na...</td>\n",
              "      <td>[{'iso_3166_1': 'US', 'name': 'United States o...</td>\n",
              "      <td>1995-12-15</td>\n",
              "      <td>262797249.0</td>\n",
              "      <td>104.0</td>\n",
              "      <td>[{'iso_639_1': 'en', 'name': 'English'}, {'iso...</td>\n",
              "      <td>Released</td>\n",
              "      <td>Roll the dice and unleash the excitement!</td>\n",
              "      <td>Jumanji</td>\n",
              "      <td>False</td>\n",
              "      <td>6.9</td>\n",
              "      <td>2413.0</td>\n",
              "    </tr>\n",
              "  </tbody>\n",
              "</table>\n",
              "</div>"
            ],
            "text/plain": [
              "   adult  ... vote_count\n",
              "0  False  ...     5415.0\n",
              "1  False  ...     2413.0\n",
              "\n",
              "[2 rows x 24 columns]"
            ]
          },
          "metadata": {
            "tags": []
          },
          "execution_count": 8
        }
      ]
    },
    {
      "cell_type": "markdown",
      "metadata": {
        "id": "_Y0NwgzDuljl",
        "colab_type": "text"
      },
      "source": [
        "훈련 데이터는 총 24개의 열을 갖고있으나, 책의 지면상 일부 생략하였습니다. 여기서 코사인 유사도에 사용할 데이터는 영화 제목에 해당하는 title 열과 줄거리에 해당하는 overview 열입니다. 좋아하는 영화를 입력하면, 해당 영화의 줄거리와 줄거리가 유사한 영화를 찾아서 추천하는 시스템을 만들 것입니다."
      ]
    },
    {
      "cell_type": "code",
      "metadata": {
        "id": "nr_8lJmhumA8",
        "colab_type": "code",
        "colab": {}
      },
      "source": [
        "data=data.head(20000)"
      ],
      "execution_count": 0,
      "outputs": []
    },
    {
      "cell_type": "markdown",
      "metadata": {
        "id": "z5xC3bqGuxcR",
        "colab_type": "text"
      },
      "source": [
        "만약 훈련 데이터의 양을 줄이고 학습을 진행하고자 한다면, 이와 같이 데이터를 줄여서 재저장할 수 있습니다. 저는 20,000개의 샘플만 가지고 학습해보겠습니다. tf-idf를 할 때 데이터에 Null 값이 들어있으면 에러가 발생합니다. tf-idf의 대상이 되는 data의 overview 열에 Null 값이 있는지 확인합니다."
      ]
    },
    {
      "cell_type": "code",
      "metadata": {
        "id": "ki9eXIVDuvYg",
        "colab_type": "code",
        "colab": {
          "base_uri": "https://localhost:8080/",
          "height": 34
        },
        "outputId": "8b5ce65c-f862-4b83-9992-cb5d8314dea6"
      },
      "source": [
        "data['overview'].isnull().sum()"
      ],
      "execution_count": 10,
      "outputs": [
        {
          "output_type": "execute_result",
          "data": {
            "text/plain": [
              "135"
            ]
          },
          "metadata": {
            "tags": []
          },
          "execution_count": 10
        }
      ]
    },
    {
      "cell_type": "markdown",
      "metadata": {
        "id": "TRfVbtCwu5I1",
        "colab_type": "text"
      },
      "source": [
        "135개의 샘플에서 Null 값이 있다고 합니다. pandas를 이용하면 Null 값을 처리하는 도구인 fillna()를 사용할 수 있습니다. 괄호 안에 Null 대신 넣고자하는 값을 넣으면 되는데, 이 경우에는 빈 값(empty value)으로 대체하여 Null 값을 제거합니다."
      ]
    },
    {
      "cell_type": "code",
      "metadata": {
        "id": "JEYkVTl3u06B",
        "colab_type": "code",
        "colab": {}
      },
      "source": [
        "data['overview'] = data['overview'].fillna('')\n",
        "# overview에서 Null 값을 가진 경우에는 값 제거"
      ],
      "execution_count": 0,
      "outputs": []
    },
    {
      "cell_type": "markdown",
      "metadata": {
        "id": "-tZhC_5Uu_db",
        "colab_type": "text"
      },
      "source": [
        "Null 값을 제거하였습니다. 이제 .isnull().sum()를 수행하면 0의 값이 나옵니다. 이제 tf-idf를 수행합니다."
      ]
    },
    {
      "cell_type": "code",
      "metadata": {
        "id": "PtY51-lTu908",
        "colab_type": "code",
        "colab": {
          "base_uri": "https://localhost:8080/",
          "height": 34
        },
        "outputId": "ae5b61b2-1693-445c-c76c-89b463af130a"
      },
      "source": [
        "data['overview'].isnull().sum()"
      ],
      "execution_count": 12,
      "outputs": [
        {
          "output_type": "execute_result",
          "data": {
            "text/plain": [
              "0"
            ]
          },
          "metadata": {
            "tags": []
          },
          "execution_count": 12
        }
      ]
    },
    {
      "cell_type": "code",
      "metadata": {
        "id": "nqnG9hiovB2M",
        "colab_type": "code",
        "colab": {
          "base_uri": "https://localhost:8080/",
          "height": 890
        },
        "outputId": "0f027a67-bfca-40a5-d889-11647f365bd4"
      },
      "source": [
        "from sklearn.feature_extraction.text import TfidfVectorizer\n",
        "tfidf = TfidfVectorizer(stop_words='english')\n",
        "\n",
        "tfidf_matrix = tfidf.fit_transform(data['overview'])\n",
        "# overview에 대해서 tf-idf 수행\n",
        "print(tfidf_matrix.shape)\n",
        "print(tfidf_matrix)"
      ],
      "execution_count": 16,
      "outputs": [
        {
          "output_type": "stream",
          "text": [
            "(20000, 47487)\n",
            "  (0, 11645)\t0.13942792746208266\n",
            "  (0, 2811)\t0.1524688231743182\n",
            "  (0, 24325)\t0.10272285889754121\n",
            "  (0, 14393)\t0.10323587624822204\n",
            "  (0, 12920)\t0.13359137839416452\n",
            "  (0, 30780)\t0.10362949000778948\n",
            "  (0, 37778)\t0.13329592929044795\n",
            "  (0, 7974)\t0.13030575543855816\n",
            "  (0, 32424)\t0.13359137839416452\n",
            "  (0, 19047)\t0.10485920860731182\n",
            "  (0, 32291)\t0.09637786759647918\n",
            "  (0, 25229)\t0.12052668500637997\n",
            "  (0, 1254)\t0.1489611323980068\n",
            "  (0, 37166)\t0.11699407550916606\n",
            "  (0, 24759)\t0.19553422928903877\n",
            "  (0, 6290)\t0.5036643709879097\n",
            "  (0, 5775)\t0.10961099833635705\n",
            "  (0, 4736)\t0.12600776612424489\n",
            "  (0, 36185)\t0.11514050233158798\n",
            "  (0, 18727)\t0.13359137839416452\n",
            "  (0, 24957)\t0.09146351035625488\n",
            "  (0, 43131)\t0.15491381382108724\n",
            "  (0, 2051)\t0.4159373110833513\n",
            "  (0, 46617)\t0.46474144146326174\n",
            "  (0, 24361)\t0.10943293956646011\n",
            "  :\t:\n",
            "  (19997, 13221)\t0.17897321248705433\n",
            "  (19997, 37592)\t0.15166031585027698\n",
            "  (19997, 45919)\t0.1821847673691749\n",
            "  (19997, 46772)\t0.14244710628029003\n",
            "  (19997, 21552)\t0.15423289582259722\n",
            "  (19997, 2517)\t0.19144340456445616\n",
            "  (19997, 35018)\t0.12079430955239955\n",
            "  (19997, 15493)\t0.08950278201939495\n",
            "  (19997, 29263)\t0.08327821667314726\n",
            "  (19997, 22125)\t0.15561995376233795\n",
            "  (19998, 34978)\t0.5686453250841403\n",
            "  (19998, 25239)\t0.5300420112528954\n",
            "  (19998, 2123)\t0.4914386974216504\n",
            "  (19998, 15959)\t0.2634131459925457\n",
            "  (19998, 46646)\t0.24224167485285572\n",
            "  (19998, 24713)\t0.16161204387743677\n",
            "  (19999, 21100)\t0.37141985908973846\n",
            "  (19999, 11225)\t0.3967094056723883\n",
            "  (19999, 17084)\t0.42580907795020684\n",
            "  (19999, 24392)\t0.3547620606044795\n",
            "  (19999, 23527)\t0.3198603932842145\n",
            "  (19999, 33267)\t0.29959318467784873\n",
            "  (19999, 23261)\t0.25876343109753314\n",
            "  (19999, 15506)\t0.27438105359261933\n",
            "  (19999, 25155)\t0.2513746643446116\n"
          ],
          "name": "stdout"
        }
      ]
    },
    {
      "cell_type": "markdown",
      "metadata": {
        "id": "wxg0SKrGvoYE",
        "colab_type": "text"
      },
      "source": [
        "overview 열에 대해서 tf-idf를 수행했습니다. 20,000개의 영화를 표현하기위해 총 47,487개의 단어가 사용되었음을 보여주고 있습니다. 이제 코사인 유사도를 사용하면 바로 문서의 유사도를 구할 수 있습니다."
      ]
    },
    {
      "cell_type": "code",
      "metadata": {
        "id": "v9FU297kvDrn",
        "colab_type": "code",
        "colab": {}
      },
      "source": [
        "from sklearn.metrics.pairwise import linear_kernel\n",
        "cosine_sim = linear_kernel(tfidf_matrix, tfidf_matrix)"
      ],
      "execution_count": 0,
      "outputs": []
    },
    {
      "cell_type": "markdown",
      "metadata": {
        "id": "CEageS4EwA1r",
        "colab_type": "text"
      },
      "source": [
        "영화의 타이틀과 인덱스를 가진 테이블을 만듭니다. 이 중 5개만 출력해보도록 하겠습니다.이 테이블의 용도는 영화의 타이틀을 입력하면 인덱스를 리턴하기 위함입니다."
      ]
    },
    {
      "cell_type": "code",
      "metadata": {
        "id": "_TSi_KoMv530",
        "colab_type": "code",
        "colab": {
          "base_uri": "https://localhost:8080/",
          "height": 134
        },
        "outputId": "625503ea-a6d0-4919-ebf0-2a1d13ea6f9e"
      },
      "source": [
        "indices = pd.Series(data.index, index=data['title']).drop_duplicates()\n",
        "print(indices.head())"
      ],
      "execution_count": 18,
      "outputs": [
        {
          "output_type": "stream",
          "text": [
            "title\n",
            "Toy Story                      0\n",
            "Jumanji                        1\n",
            "Grumpier Old Men               2\n",
            "Waiting to Exhale              3\n",
            "Father of the Bride Part II    4\n",
            "dtype: int64\n"
          ],
          "name": "stdout"
        }
      ]
    },
    {
      "cell_type": "code",
      "metadata": {
        "id": "90eqChMpv9fP",
        "colab_type": "code",
        "colab": {
          "base_uri": "https://localhost:8080/",
          "height": 34
        },
        "outputId": "8db7a825-3ebd-4cf0-fda7-1f103b732c0d"
      },
      "source": [
        "idx = indices['Father of the Bride Part II']\n",
        "print(idx)"
      ],
      "execution_count": 19,
      "outputs": [
        {
          "output_type": "stream",
          "text": [
            "4\n"
          ],
          "name": "stdout"
        }
      ]
    },
    {
      "cell_type": "code",
      "metadata": {
        "id": "jrPlFlnRwMV6",
        "colab_type": "code",
        "colab": {}
      },
      "source": [
        "#이제 선택한 영화에 대해서 코사인 유사도를 이용하여, 가장 overview가 유사한 10개의 영화를 찾아내는 함수를 만듭니다.\n",
        "\n",
        "def get_recommendations(title, cosine_sim=cosine_sim):\n",
        "    # 선택한 영화의 타이틀로부터 해당되는 인덱스를 받아옵니다. 이제 선택한 영화를 가지고 연산할 수 있습니다.\n",
        "    idx = indices[title]\n",
        "\n",
        "    # 모든 영화에 대해서 해당 영화와의 유사도를 구합니다.\n",
        "    sim_scores = list(enumerate(cosine_sim[idx]))\n",
        "\n",
        "    # 유사도에 따라 영화들을 정렬합니다.\n",
        "    sim_scores = sorted(sim_scores, key=lambda x: x[1], reverse=True)\n",
        "\n",
        "    # 가장 유사한 10개의 영화를 받아옵니다.\n",
        "    sim_scores = sim_scores[1:11]\n",
        "\n",
        "    # 가장 유사한 10개의 영화의 인덱스를 받아옵니다.\n",
        "    movie_indices = [i[0] for i in sim_scores]\n",
        "\n",
        "    # 가장 유사한 10개의 영화의 제목을 리턴합니다.\n",
        "    return data['title'].iloc[movie_indices]"
      ],
      "execution_count": 0,
      "outputs": []
    },
    {
      "cell_type": "code",
      "metadata": {
        "id": "Dfz9wnV3w2hZ",
        "colab_type": "code",
        "colab": {
          "base_uri": "https://localhost:8080/",
          "height": 202
        },
        "outputId": "0aa7c4e1-3ee5-4eda-831a-af491456faa3"
      },
      "source": [
        "get_recommendations('The Dark Knight Rises')"
      ],
      "execution_count": 21,
      "outputs": [
        {
          "output_type": "execute_result",
          "data": {
            "text/plain": [
              "12481                            The Dark Knight\n",
              "150                               Batman Forever\n",
              "1328                              Batman Returns\n",
              "15511                 Batman: Under the Red Hood\n",
              "585                                       Batman\n",
              "9230          Batman Beyond: Return of the Joker\n",
              "18035                           Batman: Year One\n",
              "19792    Batman: The Dark Knight Returns, Part 1\n",
              "3095                Batman: Mask of the Phantasm\n",
              "10122                              Batman Begins\n",
              "Name: title, dtype: object"
            ]
          },
          "metadata": {
            "tags": []
          },
          "execution_count": 21
        }
      ]
    },
    {
      "cell_type": "code",
      "metadata": {
        "id": "GlxIMft8w25k",
        "colab_type": "code",
        "colab": {
          "base_uri": "https://localhost:8080/",
          "height": 202
        },
        "outputId": "5f69f60b-d023-43fb-d7bc-3b73bba0bda7"
      },
      "source": [
        "get_recommendations('Toy Story')"
      ],
      "execution_count": 24,
      "outputs": [
        {
          "output_type": "execute_result",
          "data": {
            "text/plain": [
              "15348               Toy Story 3\n",
              "2997                Toy Story 2\n",
              "10301    The 40 Year Old Virgin\n",
              "8327                  The Champ\n",
              "1071      Rebel Without a Cause\n",
              "11399    For Your Consideration\n",
              "1932                  Condorman\n",
              "3057            Man on the Moon\n",
              "485                      Malice\n",
              "11606              Factory Girl\n",
              "Name: title, dtype: object"
            ]
          },
          "metadata": {
            "tags": []
          },
          "execution_count": 24
        }
      ]
    },
    {
      "cell_type": "code",
      "metadata": {
        "id": "VahUd62cw5fZ",
        "colab_type": "code",
        "colab": {}
      },
      "source": [
        ""
      ],
      "execution_count": 0,
      "outputs": []
    }
  ]
}