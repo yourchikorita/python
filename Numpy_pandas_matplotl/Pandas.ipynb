{
  "nbformat": 4,
  "nbformat_minor": 0,
  "metadata": {
    "colab": {
      "name": "Pandas_황석.ipynb의 사본",
      "version": "0.3.2",
      "provenance": [],
      "collapsed_sections": [],
      "toc_visible": true
    },
    "kernelspec": {
      "name": "python3",
      "display_name": "Python 3"
    }
  },
  "cells": [
    {
      "cell_type": "markdown",
      "metadata": {
        "id": "XRt4mU-aBMfT",
        "colab_type": "text"
      },
      "source": [
        "# Pandas\n",
        "파이썬 데이터 분석의 3대 라이브러리: \n",
        "* Numpy : 배열, 행열을 다룸\n",
        "* Pandas : 엑셀과 같은 데이터프레임을 다룸\n",
        "* Matplotlib : 시각화"
      ]
    },
    {
      "cell_type": "code",
      "metadata": {
        "id": "lMX-vsIuBjEW",
        "colab_type": "code",
        "colab": {}
      },
      "source": [
        "# pandas 사용하기\n",
        "import numpy as np #numpy 도 함께 사용\n",
        "import pandas as pd"
      ],
      "execution_count": 0,
      "outputs": []
    },
    {
      "cell_type": "code",
      "metadata": {
        "id": "oYSidP0HB1fl",
        "colab_type": "code",
        "colab": {}
      },
      "source": [
        "# 2. Pandas 자료구조\n",
        "# Pandas 에서는 기본적으로 정의되는 자료구조인 Series와 Data Frame을 사용한다.\n",
        "# 이 자료구조들은 빅 데이터 분석에 있어서 높은 수준의 성능을 보여준다."
      ],
      "execution_count": 0,
      "outputs": []
    },
    {
      "cell_type": "code",
      "metadata": {
        "id": "JuOjbYnYCCsa",
        "colab_type": "code",
        "colab": {}
      },
      "source": [
        "# 2-1. Series"
      ],
      "execution_count": 0,
      "outputs": []
    },
    {
      "cell_type": "code",
      "metadata": {
        "id": "2tWcOtJ1CFgc",
        "colab_type": "code",
        "outputId": "4a245e3b-bd6e-4088-adaf-979da809df4b",
        "colab": {
          "base_uri": "https://localhost:8080/",
          "height": 101
        }
      },
      "source": [
        "# Series 정의하기\n",
        "obj = pd.Series([4, 7, -5, 3])\n",
        "obj"
      ],
      "execution_count": 0,
      "outputs": [
        {
          "output_type": "execute_result",
          "data": {
            "text/plain": [
              "0    4\n",
              "1    7\n",
              "2   -5\n",
              "3    3\n",
              "dtype: int64"
            ]
          },
          "metadata": {
            "tags": []
          },
          "execution_count": 4
        }
      ]
    },
    {
      "cell_type": "code",
      "metadata": {
        "id": "BOdXRSLD4aHZ",
        "colab_type": "code",
        "outputId": "e5aeb3c9-ef8c-4196-ca3b-67c9ddcf8f59",
        "colab": {
          "base_uri": "https://localhost:8080/",
          "height": 101
        }
      },
      "source": [
        "obj = pd.Series([4, 7, -5, 3],index=['a','b','c','d'])\n",
        "obj"
      ],
      "execution_count": 0,
      "outputs": [
        {
          "output_type": "execute_result",
          "data": {
            "text/plain": [
              "a    4\n",
              "b    7\n",
              "c   -5\n",
              "d    3\n",
              "dtype: int64"
            ]
          },
          "metadata": {
            "tags": []
          },
          "execution_count": 9
        }
      ]
    },
    {
      "cell_type": "code",
      "metadata": {
        "id": "I0dtIwCKCLnq",
        "colab_type": "code",
        "outputId": "4e24124d-8207-4c30-ec46-9c1aa29ced31",
        "colab": {
          "base_uri": "https://localhost:8080/",
          "height": 35
        }
      },
      "source": [
        "# Series의 값만 확인하기\n",
        "obj.values"
      ],
      "execution_count": 0,
      "outputs": [
        {
          "output_type": "execute_result",
          "data": {
            "text/plain": [
              "array([ 4,  7, -5,  3])"
            ]
          },
          "metadata": {
            "tags": []
          },
          "execution_count": 3
        }
      ]
    },
    {
      "cell_type": "code",
      "metadata": {
        "id": "SgwaQhTyCP_4",
        "colab_type": "code",
        "outputId": "7373c561-cc64-481d-96f4-91513fbb70cd",
        "colab": {
          "base_uri": "https://localhost:8080/",
          "height": 35
        }
      },
      "source": [
        "# Series의 인덱스만 확인하기\n",
        "obj.index"
      ],
      "execution_count": 0,
      "outputs": [
        {
          "output_type": "execute_result",
          "data": {
            "text/plain": [
              "RangeIndex(start=0, stop=4, step=1)"
            ]
          },
          "metadata": {
            "tags": []
          },
          "execution_count": 4
        }
      ]
    },
    {
      "cell_type": "code",
      "metadata": {
        "id": "GI2IGBOYCT8y",
        "colab_type": "code",
        "outputId": "8db66201-eb39-4125-d6fc-fdf0a3bfa9a5",
        "colab": {
          "base_uri": "https://localhost:8080/",
          "height": 34
        }
      },
      "source": [
        "# Series의 자료형 확인하기\n",
        "obj.dtypes"
      ],
      "execution_count": 0,
      "outputs": [
        {
          "output_type": "execute_result",
          "data": {
            "text/plain": [
              "dtype('int64')"
            ]
          },
          "metadata": {
            "tags": []
          },
          "execution_count": 8
        }
      ]
    },
    {
      "cell_type": "code",
      "metadata": {
        "id": "LUMUNW_cCYcI",
        "colab_type": "code",
        "colab": {}
      },
      "source": [
        "# 인덱스를 바꿀 수 있다\n"
      ],
      "execution_count": 0,
      "outputs": []
    },
    {
      "cell_type": "code",
      "metadata": {
        "id": "ivu-aoN9CkLv",
        "colab_type": "code",
        "outputId": "d8925941-53d5-46ac-ecbc-126e5b5e7bea",
        "colab": {
          "base_uri": "https://localhost:8080/",
          "height": 101
        }
      },
      "source": [
        "# python의 dictionary 자료형을 Series data로 만들 수 있다.\n",
        "# dictionary의 key가 Series의 index가 된다\n",
        "sdata = {'kim':35000, 'park':67000, 'john':12000, 'choi':4000}\n",
        "obj3 = pd.Series(sdata)\n",
        "obj3"
      ],
      "execution_count": 0,
      "outputs": [
        {
          "output_type": "execute_result",
          "data": {
            "text/plain": [
              "kim     35000\n",
              "park    67000\n",
              "john    12000\n",
              "choi     4000\n",
              "dtype: int64"
            ]
          },
          "metadata": {
            "tags": []
          },
          "execution_count": 5
        }
      ]
    },
    {
      "cell_type": "code",
      "metadata": {
        "id": "YX3GKi4iDGZw",
        "colab_type": "code",
        "outputId": "6564930c-62ff-4986-c6ca-79c7a0bff173",
        "colab": {
          "base_uri": "https://localhost:8080/",
          "height": 101
        }
      },
      "source": [
        "# index 변경\n",
        "obj3.index=['A','B','C','D']\n",
        "obj3"
      ],
      "execution_count": 0,
      "outputs": [
        {
          "output_type": "execute_result",
          "data": {
            "text/plain": [
              "A    35000\n",
              "B    67000\n",
              "C    12000\n",
              "D     4000\n",
              "dtype: int64"
            ]
          },
          "metadata": {
            "tags": []
          },
          "execution_count": 6
        }
      ]
    },
    {
      "cell_type": "code",
      "metadata": {
        "id": "AO4CViXJDNHn",
        "colab_type": "code",
        "colab": {}
      },
      "source": [
        "# 2-2. Data Frame"
      ],
      "execution_count": 0,
      "outputs": []
    },
    {
      "cell_type": "code",
      "metadata": {
        "id": "n9T32EjlDQEo",
        "colab_type": "code",
        "outputId": "af160f3f-fe2d-41ba-aea9-0025d7b181f4",
        "colab": {
          "base_uri": "https://localhost:8080/",
          "height": 195
        }
      },
      "source": [
        "# Data Frame 정의하기\n",
        "# 이전에 DataFrame에 들어갈 데이터를 정의해주어야 하는데,\n",
        "# 이는 python의 dictionary 또는 numpy의 array로 정의할 수 있다.\n",
        "\n",
        "data = {'name':['lee', 'lee', 'lee', 'kim', 'park'],\n",
        "       'year':[2013, 2014, 2015, 2016, 2015],\n",
        "       'points':[1.5, 1.7, 3.6, 2.4, 2.9]}\n",
        "df=pd.DataFrame(data)\n",
        "df"
      ],
      "execution_count": 0,
      "outputs": [
        {
          "output_type": "execute_result",
          "data": {
            "text/html": [
              "<div>\n",
              "<style scoped>\n",
              "    .dataframe tbody tr th:only-of-type {\n",
              "        vertical-align: middle;\n",
              "    }\n",
              "\n",
              "    .dataframe tbody tr th {\n",
              "        vertical-align: top;\n",
              "    }\n",
              "\n",
              "    .dataframe thead th {\n",
              "        text-align: right;\n",
              "    }\n",
              "</style>\n",
              "<table border=\"1\" class=\"dataframe\">\n",
              "  <thead>\n",
              "    <tr style=\"text-align: right;\">\n",
              "      <th></th>\n",
              "      <th>name</th>\n",
              "      <th>year</th>\n",
              "      <th>points</th>\n",
              "    </tr>\n",
              "  </thead>\n",
              "  <tbody>\n",
              "    <tr>\n",
              "      <th>0</th>\n",
              "      <td>lee</td>\n",
              "      <td>2013</td>\n",
              "      <td>1.5</td>\n",
              "    </tr>\n",
              "    <tr>\n",
              "      <th>1</th>\n",
              "      <td>lee</td>\n",
              "      <td>2014</td>\n",
              "      <td>1.7</td>\n",
              "    </tr>\n",
              "    <tr>\n",
              "      <th>2</th>\n",
              "      <td>lee</td>\n",
              "      <td>2015</td>\n",
              "      <td>3.6</td>\n",
              "    </tr>\n",
              "    <tr>\n",
              "      <th>3</th>\n",
              "      <td>kim</td>\n",
              "      <td>2016</td>\n",
              "      <td>2.4</td>\n",
              "    </tr>\n",
              "    <tr>\n",
              "      <th>4</th>\n",
              "      <td>park</td>\n",
              "      <td>2015</td>\n",
              "      <td>2.9</td>\n",
              "    </tr>\n",
              "  </tbody>\n",
              "</table>\n",
              "</div>"
            ],
            "text/plain": [
              "   name  year  points\n",
              "0   lee  2013     1.5\n",
              "1   lee  2014     1.7\n",
              "2   lee  2015     3.6\n",
              "3   kim  2016     2.4\n",
              "4  park  2015     2.9"
            ]
          },
          "metadata": {
            "tags": []
          },
          "execution_count": 11
        }
      ]
    },
    {
      "cell_type": "code",
      "metadata": {
        "id": "-ZStffWtFdTI",
        "colab_type": "code",
        "colab": {}
      },
      "source": [
        "# 행과 열의 구조를 가진 데이터가 생긴다."
      ],
      "execution_count": 0,
      "outputs": []
    },
    {
      "cell_type": "code",
      "metadata": {
        "id": "VWqeZT1GFhAI",
        "colab_type": "code",
        "outputId": "d77ca779-c99c-4ff0-b5ae-54d26261d844",
        "colab": {
          "base_uri": "https://localhost:8080/",
          "height": 34
        }
      },
      "source": [
        "# 행 번호\n",
        "df.index"
      ],
      "execution_count": 0,
      "outputs": [
        {
          "output_type": "execute_result",
          "data": {
            "text/plain": [
              "RangeIndex(start=0, stop=5, step=1)"
            ]
          },
          "metadata": {
            "tags": []
          },
          "execution_count": 12
        }
      ]
    },
    {
      "cell_type": "code",
      "metadata": {
        "id": "ox0oyh0LFjz_",
        "colab_type": "code",
        "outputId": "23dd177f-7522-49c9-c9f6-24a9a98c70cf",
        "colab": {
          "base_uri": "https://localhost:8080/",
          "height": 34
        }
      },
      "source": [
        "# 열 이름\n",
        "df.columns"
      ],
      "execution_count": 0,
      "outputs": [
        {
          "output_type": "execute_result",
          "data": {
            "text/plain": [
              "Index(['name', 'year', 'points'], dtype='object')"
            ]
          },
          "metadata": {
            "tags": []
          },
          "execution_count": 13
        }
      ]
    },
    {
      "cell_type": "code",
      "metadata": {
        "id": "IAKO3oyT5C2E",
        "colab_type": "code",
        "outputId": "a268266f-8ac1-4208-87f1-0d873bb25648",
        "colab": {
          "base_uri": "https://localhost:8080/",
          "height": 106
        }
      },
      "source": [
        "df.head(2)"
      ],
      "execution_count": 0,
      "outputs": [
        {
          "output_type": "execute_result",
          "data": {
            "text/html": [
              "<div>\n",
              "<style scoped>\n",
              "    .dataframe tbody tr th:only-of-type {\n",
              "        vertical-align: middle;\n",
              "    }\n",
              "\n",
              "    .dataframe tbody tr th {\n",
              "        vertical-align: top;\n",
              "    }\n",
              "\n",
              "    .dataframe thead th {\n",
              "        text-align: right;\n",
              "    }\n",
              "</style>\n",
              "<table border=\"1\" class=\"dataframe\">\n",
              "  <thead>\n",
              "    <tr style=\"text-align: right;\">\n",
              "      <th></th>\n",
              "      <th>name</th>\n",
              "      <th>year</th>\n",
              "      <th>points</th>\n",
              "    </tr>\n",
              "  </thead>\n",
              "  <tbody>\n",
              "    <tr>\n",
              "      <th>0</th>\n",
              "      <td>lee</td>\n",
              "      <td>2013</td>\n",
              "      <td>1.5</td>\n",
              "    </tr>\n",
              "    <tr>\n",
              "      <th>1</th>\n",
              "      <td>lee</td>\n",
              "      <td>2014</td>\n",
              "      <td>1.7</td>\n",
              "    </tr>\n",
              "  </tbody>\n",
              "</table>\n",
              "</div>"
            ],
            "text/plain": [
              "  name  year  points\n",
              "0  lee  2013     1.5\n",
              "1  lee  2014     1.7"
            ]
          },
          "metadata": {
            "tags": []
          },
          "execution_count": 17
        }
      ]
    },
    {
      "cell_type": "code",
      "metadata": {
        "id": "iu3h3Lkh5N6O",
        "colab_type": "code",
        "outputId": "c3183186-4f7a-448f-f25e-11ace5c51247",
        "colab": {
          "base_uri": "https://localhost:8080/",
          "height": 106
        }
      },
      "source": [
        "df.tail(2) #뒤에서부터 2개 보여줌"
      ],
      "execution_count": 0,
      "outputs": [
        {
          "output_type": "execute_result",
          "data": {
            "text/html": [
              "<div>\n",
              "<style scoped>\n",
              "    .dataframe tbody tr th:only-of-type {\n",
              "        vertical-align: middle;\n",
              "    }\n",
              "\n",
              "    .dataframe tbody tr th {\n",
              "        vertical-align: top;\n",
              "    }\n",
              "\n",
              "    .dataframe thead th {\n",
              "        text-align: right;\n",
              "    }\n",
              "</style>\n",
              "<table border=\"1\" class=\"dataframe\">\n",
              "  <thead>\n",
              "    <tr style=\"text-align: right;\">\n",
              "      <th></th>\n",
              "      <th>name</th>\n",
              "      <th>year</th>\n",
              "      <th>points</th>\n",
              "    </tr>\n",
              "  </thead>\n",
              "  <tbody>\n",
              "    <tr>\n",
              "      <th>3</th>\n",
              "      <td>kim</td>\n",
              "      <td>2016</td>\n",
              "      <td>2.4</td>\n",
              "    </tr>\n",
              "    <tr>\n",
              "      <th>4</th>\n",
              "      <td>park</td>\n",
              "      <td>2015</td>\n",
              "      <td>2.9</td>\n",
              "    </tr>\n",
              "  </tbody>\n",
              "</table>\n",
              "</div>"
            ],
            "text/plain": [
              "   name  year  points\n",
              "3   kim  2016     2.4\n",
              "4  park  2015     2.9"
            ]
          },
          "metadata": {
            "tags": []
          },
          "execution_count": 18
        }
      ]
    },
    {
      "cell_type": "code",
      "metadata": {
        "id": "K6JbWgfaFoLa",
        "colab_type": "code",
        "outputId": "44a6beeb-5807-4d51-bf9f-cf02a9f93ed3",
        "colab": {
          "base_uri": "https://localhost:8080/",
          "height": 101
        }
      },
      "source": [
        "# 값 얻기\n",
        "df.values"
      ],
      "execution_count": 0,
      "outputs": [
        {
          "output_type": "execute_result",
          "data": {
            "text/plain": [
              "array([['lee', 2013, 1.5],\n",
              "       ['lee', 2014, 1.7],\n",
              "       ['lee', 2015, 3.6],\n",
              "       ['kim', 2016, 2.4],\n",
              "       ['park', 2015, 2.9]], dtype=object)"
            ]
          },
          "metadata": {
            "tags": []
          },
          "execution_count": 19
        }
      ]
    },
    {
      "cell_type": "code",
      "metadata": {
        "id": "St6yILe2FyzG",
        "colab_type": "code",
        "outputId": "978ca91d-805b-49fa-803c-2ebe3d57c158",
        "colab": {
          "base_uri": "https://localhost:8080/",
          "height": 195
        }
      },
      "source": [
        "# DataFrame을 만들면서 columns와 index를 설정할 수 있다.\n",
        "df2=pd.DataFrame(data,columns=['year','name','points','penalty'], index=['one','two','three','four','five'])\n",
        "df2"
      ],
      "execution_count": 0,
      "outputs": [
        {
          "output_type": "execute_result",
          "data": {
            "text/html": [
              "<div>\n",
              "<style scoped>\n",
              "    .dataframe tbody tr th:only-of-type {\n",
              "        vertical-align: middle;\n",
              "    }\n",
              "\n",
              "    .dataframe tbody tr th {\n",
              "        vertical-align: top;\n",
              "    }\n",
              "\n",
              "    .dataframe thead th {\n",
              "        text-align: right;\n",
              "    }\n",
              "</style>\n",
              "<table border=\"1\" class=\"dataframe\">\n",
              "  <thead>\n",
              "    <tr style=\"text-align: right;\">\n",
              "      <th></th>\n",
              "      <th>year</th>\n",
              "      <th>name</th>\n",
              "      <th>points</th>\n",
              "      <th>penalty</th>\n",
              "    </tr>\n",
              "  </thead>\n",
              "  <tbody>\n",
              "    <tr>\n",
              "      <th>one</th>\n",
              "      <td>2013</td>\n",
              "      <td>lee</td>\n",
              "      <td>1.5</td>\n",
              "      <td>NaN</td>\n",
              "    </tr>\n",
              "    <tr>\n",
              "      <th>two</th>\n",
              "      <td>2014</td>\n",
              "      <td>lee</td>\n",
              "      <td>1.7</td>\n",
              "      <td>NaN</td>\n",
              "    </tr>\n",
              "    <tr>\n",
              "      <th>three</th>\n",
              "      <td>2015</td>\n",
              "      <td>lee</td>\n",
              "      <td>3.6</td>\n",
              "      <td>NaN</td>\n",
              "    </tr>\n",
              "    <tr>\n",
              "      <th>four</th>\n",
              "      <td>2016</td>\n",
              "      <td>kim</td>\n",
              "      <td>2.4</td>\n",
              "      <td>NaN</td>\n",
              "    </tr>\n",
              "    <tr>\n",
              "      <th>five</th>\n",
              "      <td>2015</td>\n",
              "      <td>park</td>\n",
              "      <td>2.9</td>\n",
              "      <td>NaN</td>\n",
              "    </tr>\n",
              "  </tbody>\n",
              "</table>\n",
              "</div>"
            ],
            "text/plain": [
              "       year  name  points penalty\n",
              "one    2013   lee     1.5     NaN\n",
              "two    2014   lee     1.7     NaN\n",
              "three  2015   lee     3.6     NaN\n",
              "four   2016   kim     2.4     NaN\n",
              "five   2015  park     2.9     NaN"
            ]
          },
          "metadata": {
            "tags": []
          },
          "execution_count": 21
        }
      ]
    },
    {
      "cell_type": "code",
      "metadata": {
        "id": "xxFSqVNwGDkH",
        "colab_type": "code",
        "colab": {}
      },
      "source": [
        "# DataFrame을 정의하면서, data로 들어가는 python dictionary와 columns의\n",
        "# 순서가 달라도 알아서 맞춰서 정의된다.\n",
        "# 하지만 data에 포함되어 있지 않은 값은\n",
        "# Nan(Not a Number)으로 나타나게 된다.\n",
        "# 이는 null과 같은 개념이다.\n",
        "# Nan 값은 추후에 어떠한 방법으로도 처리가 되지 않는 데이터이다.\n",
        "# 따라서 올바른 데이터 처리를 위해 추가적으로 값을 넣어줘야 한다."
      ],
      "execution_count": 0,
      "outputs": []
    },
    {
      "cell_type": "code",
      "metadata": {
        "id": "Q2kNQazpGdaB",
        "colab_type": "code",
        "outputId": "2734e6c8-85cf-4e89-fd9a-7091e5858ce3",
        "colab": {
          "base_uri": "https://localhost:8080/",
          "height": 284
        }
      },
      "source": [
        "# describe() 함수는 DataFrame의 계산 가능한 값들에 대한\n",
        "# 요약통계 값을 보여준다.\n",
        "df2.describe()"
      ],
      "execution_count": 0,
      "outputs": [
        {
          "output_type": "execute_result",
          "data": {
            "text/html": [
              "<div>\n",
              "<style scoped>\n",
              "    .dataframe tbody tr th:only-of-type {\n",
              "        vertical-align: middle;\n",
              "    }\n",
              "\n",
              "    .dataframe tbody tr th {\n",
              "        vertical-align: top;\n",
              "    }\n",
              "\n",
              "    .dataframe thead th {\n",
              "        text-align: right;\n",
              "    }\n",
              "</style>\n",
              "<table border=\"1\" class=\"dataframe\">\n",
              "  <thead>\n",
              "    <tr style=\"text-align: right;\">\n",
              "      <th></th>\n",
              "      <th>year</th>\n",
              "      <th>points</th>\n",
              "    </tr>\n",
              "  </thead>\n",
              "  <tbody>\n",
              "    <tr>\n",
              "      <th>count</th>\n",
              "      <td>5.000000</td>\n",
              "      <td>5.000000</td>\n",
              "    </tr>\n",
              "    <tr>\n",
              "      <th>mean</th>\n",
              "      <td>2014.600000</td>\n",
              "      <td>2.420000</td>\n",
              "    </tr>\n",
              "    <tr>\n",
              "      <th>std</th>\n",
              "      <td>1.140175</td>\n",
              "      <td>0.864292</td>\n",
              "    </tr>\n",
              "    <tr>\n",
              "      <th>min</th>\n",
              "      <td>2013.000000</td>\n",
              "      <td>1.500000</td>\n",
              "    </tr>\n",
              "    <tr>\n",
              "      <th>25%</th>\n",
              "      <td>2014.000000</td>\n",
              "      <td>1.700000</td>\n",
              "    </tr>\n",
              "    <tr>\n",
              "      <th>50%</th>\n",
              "      <td>2015.000000</td>\n",
              "      <td>2.400000</td>\n",
              "    </tr>\n",
              "    <tr>\n",
              "      <th>75%</th>\n",
              "      <td>2015.000000</td>\n",
              "      <td>2.900000</td>\n",
              "    </tr>\n",
              "    <tr>\n",
              "      <th>max</th>\n",
              "      <td>2016.000000</td>\n",
              "      <td>3.600000</td>\n",
              "    </tr>\n",
              "  </tbody>\n",
              "</table>\n",
              "</div>"
            ],
            "text/plain": [
              "              year    points\n",
              "count     5.000000  5.000000\n",
              "mean   2014.600000  2.420000\n",
              "std       1.140175  0.864292\n",
              "min    2013.000000  1.500000\n",
              "25%    2014.000000  1.700000\n",
              "50%    2015.000000  2.400000\n",
              "75%    2015.000000  2.900000\n",
              "max    2016.000000  3.600000"
            ]
          },
          "metadata": {
            "tags": []
          },
          "execution_count": 22
        }
      ]
    },
    {
      "cell_type": "code",
      "metadata": {
        "id": "TQ8qwSlfGlRL",
        "colab_type": "code",
        "outputId": "32be1502-eeb2-4658-e711-35cbe7c1f772",
        "colab": {
          "base_uri": "https://localhost:8080/",
          "height": 168
        }
      },
      "source": [
        "\n",
        "#데이터요약\n",
        "df2.info()"
      ],
      "execution_count": 0,
      "outputs": [
        {
          "output_type": "stream",
          "text": [
            "<class 'pandas.core.frame.DataFrame'>\n",
            "Index: 5 entries, one to five\n",
            "Data columns (total 4 columns):\n",
            "year       5 non-null int64\n",
            "name       5 non-null object\n",
            "points     5 non-null float64\n",
            "penalty    0 non-null object\n",
            "dtypes: float64(1), int64(1), object(2)\n",
            "memory usage: 200.0+ bytes\n"
          ],
          "name": "stdout"
        }
      ]
    },
    {
      "cell_type": "code",
      "metadata": {
        "id": "CQk2IKYn7Nze",
        "colab_type": "code",
        "colab": {}
      },
      "source": [
        "# 3. DataFrame Indexing"
      ],
      "execution_count": 0,
      "outputs": []
    },
    {
      "cell_type": "code",
      "metadata": {
        "id": "_uHrcFbWGrFI",
        "colab_type": "code",
        "outputId": "55bca6df-d401-41b9-f09b-8e59bffac5a9",
        "colab": {
          "base_uri": "https://localhost:8080/",
          "height": 195
        }
      },
      "source": [
        "data = {'name':['lee', 'lee', 'lee', 'park', 'park'],\n",
        "       'year': [2014, 2015, 2016, 2015, 2016],\n",
        "       'points':[1.5, 1.7, 3.6, 2.4, 2.9]}\n",
        "\n",
        "df=pd.DataFrame(data,columns=['year','name','points','penalty'], index=['one','two','three','four','five'])\n",
        "df"
      ],
      "execution_count": 0,
      "outputs": [
        {
          "output_type": "execute_result",
          "data": {
            "text/html": [
              "<div>\n",
              "<style scoped>\n",
              "    .dataframe tbody tr th:only-of-type {\n",
              "        vertical-align: middle;\n",
              "    }\n",
              "\n",
              "    .dataframe tbody tr th {\n",
              "        vertical-align: top;\n",
              "    }\n",
              "\n",
              "    .dataframe thead th {\n",
              "        text-align: right;\n",
              "    }\n",
              "</style>\n",
              "<table border=\"1\" class=\"dataframe\">\n",
              "  <thead>\n",
              "    <tr style=\"text-align: right;\">\n",
              "      <th></th>\n",
              "      <th>year</th>\n",
              "      <th>name</th>\n",
              "      <th>points</th>\n",
              "      <th>penalty</th>\n",
              "    </tr>\n",
              "  </thead>\n",
              "  <tbody>\n",
              "    <tr>\n",
              "      <th>one</th>\n",
              "      <td>2014</td>\n",
              "      <td>lee</td>\n",
              "      <td>1.5</td>\n",
              "      <td>NaN</td>\n",
              "    </tr>\n",
              "    <tr>\n",
              "      <th>two</th>\n",
              "      <td>2015</td>\n",
              "      <td>lee</td>\n",
              "      <td>1.7</td>\n",
              "      <td>NaN</td>\n",
              "    </tr>\n",
              "    <tr>\n",
              "      <th>three</th>\n",
              "      <td>2016</td>\n",
              "      <td>lee</td>\n",
              "      <td>3.6</td>\n",
              "      <td>NaN</td>\n",
              "    </tr>\n",
              "    <tr>\n",
              "      <th>four</th>\n",
              "      <td>2015</td>\n",
              "      <td>park</td>\n",
              "      <td>2.4</td>\n",
              "      <td>NaN</td>\n",
              "    </tr>\n",
              "    <tr>\n",
              "      <th>five</th>\n",
              "      <td>2016</td>\n",
              "      <td>park</td>\n",
              "      <td>2.9</td>\n",
              "      <td>NaN</td>\n",
              "    </tr>\n",
              "  </tbody>\n",
              "</table>\n",
              "</div>"
            ],
            "text/plain": [
              "       year  name  points penalty\n",
              "one    2014   lee     1.5     NaN\n",
              "two    2015   lee     1.7     NaN\n",
              "three  2016   lee     3.6     NaN\n",
              "four   2015  park     2.4     NaN\n",
              "five   2016  park     2.9     NaN"
            ]
          },
          "metadata": {
            "tags": []
          },
          "execution_count": 26
        }
      ]
    },
    {
      "cell_type": "code",
      "metadata": {
        "id": "MohoN8aTHLaO",
        "colab_type": "code",
        "colab": {}
      },
      "source": [
        "# 3-1. DataFrame 에서 열을 선택하고 조작하기"
      ],
      "execution_count": 0,
      "outputs": []
    },
    {
      "cell_type": "code",
      "metadata": {
        "id": "rpAUPB3-HP3N",
        "colab_type": "code",
        "outputId": "6ac0c92e-6898-4942-f1b1-aaabaf1a93fb",
        "colab": {
          "base_uri": "https://localhost:8080/",
          "height": 118
        }
      },
      "source": [
        "df['year']"
      ],
      "execution_count": 0,
      "outputs": [
        {
          "output_type": "execute_result",
          "data": {
            "text/plain": [
              "one      2014\n",
              "two      2015\n",
              "three    2016\n",
              "four     2015\n",
              "five     2016\n",
              "Name: year, dtype: int64"
            ]
          },
          "metadata": {
            "tags": []
          },
          "execution_count": 27
        }
      ]
    },
    {
      "cell_type": "code",
      "metadata": {
        "id": "eaN99dfJ7rY7",
        "colab_type": "code",
        "outputId": "57ebff51-701d-40ea-fac4-213406c269f7",
        "colab": {
          "base_uri": "https://localhost:8080/",
          "height": 118
        }
      },
      "source": [
        "df['name']"
      ],
      "execution_count": 0,
      "outputs": [
        {
          "output_type": "execute_result",
          "data": {
            "text/plain": [
              "one       lee\n",
              "two       lee\n",
              "three     lee\n",
              "four     park\n",
              "five     park\n",
              "Name: name, dtype: object"
            ]
          },
          "metadata": {
            "tags": []
          },
          "execution_count": 28
        }
      ]
    },
    {
      "cell_type": "code",
      "metadata": {
        "id": "VZAT-gyDHRQB",
        "colab_type": "code",
        "outputId": "09dac4f5-8c2f-4255-a716-fd5d35007683",
        "colab": {
          "base_uri": "https://localhost:8080/",
          "height": 118
        }
      },
      "source": [
        "# 동일한 의미를 갖는, 다른 방법\n",
        "df.year"
      ],
      "execution_count": 0,
      "outputs": [
        {
          "output_type": "execute_result",
          "data": {
            "text/plain": [
              "one      2014\n",
              "two      2015\n",
              "three    2016\n",
              "four     2015\n",
              "five     2016\n",
              "Name: year, dtype: int64"
            ]
          },
          "metadata": {
            "tags": []
          },
          "execution_count": 29
        }
      ]
    },
    {
      "cell_type": "code",
      "metadata": {
        "id": "m5o47o-cHUeT",
        "colab_type": "code",
        "outputId": "e0a9577c-7fb2-465d-dc77-3148bede0311",
        "colab": {
          "base_uri": "https://localhost:8080/",
          "height": 195
        }
      },
      "source": [
        "df[['year','points']]"
      ],
      "execution_count": 0,
      "outputs": [
        {
          "output_type": "execute_result",
          "data": {
            "text/html": [
              "<div>\n",
              "<style scoped>\n",
              "    .dataframe tbody tr th:only-of-type {\n",
              "        vertical-align: middle;\n",
              "    }\n",
              "\n",
              "    .dataframe tbody tr th {\n",
              "        vertical-align: top;\n",
              "    }\n",
              "\n",
              "    .dataframe thead th {\n",
              "        text-align: right;\n",
              "    }\n",
              "</style>\n",
              "<table border=\"1\" class=\"dataframe\">\n",
              "  <thead>\n",
              "    <tr style=\"text-align: right;\">\n",
              "      <th></th>\n",
              "      <th>year</th>\n",
              "      <th>points</th>\n",
              "    </tr>\n",
              "  </thead>\n",
              "  <tbody>\n",
              "    <tr>\n",
              "      <th>one</th>\n",
              "      <td>2014</td>\n",
              "      <td>1.5</td>\n",
              "    </tr>\n",
              "    <tr>\n",
              "      <th>two</th>\n",
              "      <td>2015</td>\n",
              "      <td>1.7</td>\n",
              "    </tr>\n",
              "    <tr>\n",
              "      <th>three</th>\n",
              "      <td>2016</td>\n",
              "      <td>3.6</td>\n",
              "    </tr>\n",
              "    <tr>\n",
              "      <th>four</th>\n",
              "      <td>2015</td>\n",
              "      <td>2.4</td>\n",
              "    </tr>\n",
              "    <tr>\n",
              "      <th>five</th>\n",
              "      <td>2016</td>\n",
              "      <td>2.9</td>\n",
              "    </tr>\n",
              "  </tbody>\n",
              "</table>\n",
              "</div>"
            ],
            "text/plain": [
              "       year  points\n",
              "one    2014     1.5\n",
              "two    2015     1.7\n",
              "three  2016     3.6\n",
              "four   2015     2.4\n",
              "five   2016     2.9"
            ]
          },
          "metadata": {
            "tags": []
          },
          "execution_count": 31
        }
      ]
    },
    {
      "cell_type": "code",
      "metadata": {
        "id": "B51WOZdrHXvb",
        "colab_type": "code",
        "outputId": "7ef11417-2d5c-4139-e7ff-24c6d7c26d1e",
        "colab": {
          "base_uri": "https://localhost:8080/",
          "height": 195
        }
      },
      "source": [
        "# 특정 열에 대해 위와 같이 선택하고, 우리가 원하는 값을 대입할 수 있다.\n",
        "df['penalty']=0.5\n",
        "df"
      ],
      "execution_count": 0,
      "outputs": [
        {
          "output_type": "execute_result",
          "data": {
            "text/html": [
              "<div>\n",
              "<style scoped>\n",
              "    .dataframe tbody tr th:only-of-type {\n",
              "        vertical-align: middle;\n",
              "    }\n",
              "\n",
              "    .dataframe tbody tr th {\n",
              "        vertical-align: top;\n",
              "    }\n",
              "\n",
              "    .dataframe thead th {\n",
              "        text-align: right;\n",
              "    }\n",
              "</style>\n",
              "<table border=\"1\" class=\"dataframe\">\n",
              "  <thead>\n",
              "    <tr style=\"text-align: right;\">\n",
              "      <th></th>\n",
              "      <th>year</th>\n",
              "      <th>name</th>\n",
              "      <th>points</th>\n",
              "      <th>penalty</th>\n",
              "    </tr>\n",
              "  </thead>\n",
              "  <tbody>\n",
              "    <tr>\n",
              "      <th>one</th>\n",
              "      <td>2014</td>\n",
              "      <td>lee</td>\n",
              "      <td>1.5</td>\n",
              "      <td>0.5</td>\n",
              "    </tr>\n",
              "    <tr>\n",
              "      <th>two</th>\n",
              "      <td>2015</td>\n",
              "      <td>lee</td>\n",
              "      <td>1.7</td>\n",
              "      <td>0.5</td>\n",
              "    </tr>\n",
              "    <tr>\n",
              "      <th>three</th>\n",
              "      <td>2016</td>\n",
              "      <td>lee</td>\n",
              "      <td>3.6</td>\n",
              "      <td>0.5</td>\n",
              "    </tr>\n",
              "    <tr>\n",
              "      <th>four</th>\n",
              "      <td>2015</td>\n",
              "      <td>park</td>\n",
              "      <td>2.4</td>\n",
              "      <td>0.5</td>\n",
              "    </tr>\n",
              "    <tr>\n",
              "      <th>five</th>\n",
              "      <td>2016</td>\n",
              "      <td>park</td>\n",
              "      <td>2.9</td>\n",
              "      <td>0.5</td>\n",
              "    </tr>\n",
              "  </tbody>\n",
              "</table>\n",
              "</div>"
            ],
            "text/plain": [
              "       year  name  points  penalty\n",
              "one    2014   lee     1.5      0.5\n",
              "two    2015   lee     1.7      0.5\n",
              "three  2016   lee     3.6      0.5\n",
              "four   2015  park     2.4      0.5\n",
              "five   2016  park     2.9      0.5"
            ]
          },
          "metadata": {
            "tags": []
          },
          "execution_count": 35
        }
      ]
    },
    {
      "cell_type": "code",
      "metadata": {
        "id": "R06azYig9085",
        "colab_type": "code",
        "outputId": "3f7fd91a-c647-458f-ff75-469f3c156d1d",
        "colab": {
          "base_uri": "https://localhost:8080/",
          "height": 195
        }
      },
      "source": [
        "# 또는\n",
        "# python의 List나 numpy의 array\n",
        "\n",
        "df['penalty']=[1,33,2,44,3]\n",
        "df"
      ],
      "execution_count": 0,
      "outputs": [
        {
          "output_type": "execute_result",
          "data": {
            "text/html": [
              "<div>\n",
              "<style scoped>\n",
              "    .dataframe tbody tr th:only-of-type {\n",
              "        vertical-align: middle;\n",
              "    }\n",
              "\n",
              "    .dataframe tbody tr th {\n",
              "        vertical-align: top;\n",
              "    }\n",
              "\n",
              "    .dataframe thead th {\n",
              "        text-align: right;\n",
              "    }\n",
              "</style>\n",
              "<table border=\"1\" class=\"dataframe\">\n",
              "  <thead>\n",
              "    <tr style=\"text-align: right;\">\n",
              "      <th></th>\n",
              "      <th>year</th>\n",
              "      <th>name</th>\n",
              "      <th>points</th>\n",
              "      <th>penalty</th>\n",
              "      <th>win</th>\n",
              "    </tr>\n",
              "  </thead>\n",
              "  <tbody>\n",
              "    <tr>\n",
              "      <th>one</th>\n",
              "      <td>2014</td>\n",
              "      <td>lee</td>\n",
              "      <td>1.5</td>\n",
              "      <td>1</td>\n",
              "      <td>3</td>\n",
              "    </tr>\n",
              "    <tr>\n",
              "      <th>two</th>\n",
              "      <td>2015</td>\n",
              "      <td>lee</td>\n",
              "      <td>1.7</td>\n",
              "      <td>33</td>\n",
              "      <td>3</td>\n",
              "    </tr>\n",
              "    <tr>\n",
              "      <th>three</th>\n",
              "      <td>2016</td>\n",
              "      <td>lee</td>\n",
              "      <td>3.6</td>\n",
              "      <td>2</td>\n",
              "      <td>3</td>\n",
              "    </tr>\n",
              "    <tr>\n",
              "      <th>four</th>\n",
              "      <td>2015</td>\n",
              "      <td>park</td>\n",
              "      <td>2.4</td>\n",
              "      <td>44</td>\n",
              "      <td>3</td>\n",
              "    </tr>\n",
              "    <tr>\n",
              "      <th>five</th>\n",
              "      <td>2016</td>\n",
              "      <td>park</td>\n",
              "      <td>2.9</td>\n",
              "      <td>3</td>\n",
              "      <td>3</td>\n",
              "    </tr>\n",
              "  </tbody>\n",
              "</table>\n",
              "</div>"
            ],
            "text/plain": [
              "       year  name  points  penalty  win\n",
              "one    2014   lee     1.5        1    3\n",
              "two    2015   lee     1.7       33    3\n",
              "three  2016   lee     3.6        2    3\n",
              "four   2015  park     2.4       44    3\n",
              "five   2016  park     2.9        3    3"
            ]
          },
          "metadata": {
            "tags": []
          },
          "execution_count": 38
        }
      ]
    },
    {
      "cell_type": "code",
      "metadata": {
        "id": "L8ErqTGMHewu",
        "colab_type": "code",
        "outputId": "f31adf89-8a38-42d7-be4b-b374150fd3d1",
        "colab": {
          "base_uri": "https://localhost:8080/",
          "height": 195
        }
      },
      "source": [
        "df['win']=3\n",
        "df"
      ],
      "execution_count": 0,
      "outputs": [
        {
          "output_type": "execute_result",
          "data": {
            "text/html": [
              "<div>\n",
              "<style scoped>\n",
              "    .dataframe tbody tr th:only-of-type {\n",
              "        vertical-align: middle;\n",
              "    }\n",
              "\n",
              "    .dataframe tbody tr th {\n",
              "        vertical-align: top;\n",
              "    }\n",
              "\n",
              "    .dataframe thead th {\n",
              "        text-align: right;\n",
              "    }\n",
              "</style>\n",
              "<table border=\"1\" class=\"dataframe\">\n",
              "  <thead>\n",
              "    <tr style=\"text-align: right;\">\n",
              "      <th></th>\n",
              "      <th>year</th>\n",
              "      <th>name</th>\n",
              "      <th>points</th>\n",
              "      <th>penalty</th>\n",
              "      <th>win</th>\n",
              "    </tr>\n",
              "  </thead>\n",
              "  <tbody>\n",
              "    <tr>\n",
              "      <th>one</th>\n",
              "      <td>2014</td>\n",
              "      <td>lee</td>\n",
              "      <td>1.5</td>\n",
              "      <td>0.5</td>\n",
              "      <td>3</td>\n",
              "    </tr>\n",
              "    <tr>\n",
              "      <th>two</th>\n",
              "      <td>2015</td>\n",
              "      <td>lee</td>\n",
              "      <td>1.7</td>\n",
              "      <td>0.5</td>\n",
              "      <td>3</td>\n",
              "    </tr>\n",
              "    <tr>\n",
              "      <th>three</th>\n",
              "      <td>2016</td>\n",
              "      <td>lee</td>\n",
              "      <td>3.6</td>\n",
              "      <td>0.5</td>\n",
              "      <td>3</td>\n",
              "    </tr>\n",
              "    <tr>\n",
              "      <th>four</th>\n",
              "      <td>2015</td>\n",
              "      <td>park</td>\n",
              "      <td>2.4</td>\n",
              "      <td>0.5</td>\n",
              "      <td>3</td>\n",
              "    </tr>\n",
              "    <tr>\n",
              "      <th>five</th>\n",
              "      <td>2016</td>\n",
              "      <td>park</td>\n",
              "      <td>2.9</td>\n",
              "      <td>0.5</td>\n",
              "      <td>3</td>\n",
              "    </tr>\n",
              "  </tbody>\n",
              "</table>\n",
              "</div>"
            ],
            "text/plain": [
              "       year  name  points  penalty  win\n",
              "one    2014   lee     1.5      0.5    3\n",
              "two    2015   lee     1.7      0.5    3\n",
              "three  2016   lee     3.6      0.5    3\n",
              "four   2015  park     2.4      0.5    3\n",
              "five   2016  park     2.9      0.5    3"
            ]
          },
          "metadata": {
            "tags": []
          },
          "execution_count": 36
        }
      ]
    },
    {
      "cell_type": "code",
      "metadata": {
        "id": "a-6UIoYyHqs3",
        "colab_type": "code",
        "colab": {}
      },
      "source": [
        "# 새로운 열을 추가하기\n",
        "df['zeros']=np.arange(5)"
      ],
      "execution_count": 0,
      "outputs": []
    },
    {
      "cell_type": "code",
      "metadata": {
        "id": "eaIoyRAqHv-z",
        "colab_type": "code",
        "outputId": "773c33d3-002f-4c8d-f14f-1105ea9cf5c2",
        "colab": {
          "base_uri": "https://localhost:8080/",
          "height": 195
        }
      },
      "source": [
        "df"
      ],
      "execution_count": 0,
      "outputs": [
        {
          "output_type": "execute_result",
          "data": {
            "text/html": [
              "<div>\n",
              "<style scoped>\n",
              "    .dataframe tbody tr th:only-of-type {\n",
              "        vertical-align: middle;\n",
              "    }\n",
              "\n",
              "    .dataframe tbody tr th {\n",
              "        vertical-align: top;\n",
              "    }\n",
              "\n",
              "    .dataframe thead th {\n",
              "        text-align: right;\n",
              "    }\n",
              "</style>\n",
              "<table border=\"1\" class=\"dataframe\">\n",
              "  <thead>\n",
              "    <tr style=\"text-align: right;\">\n",
              "      <th></th>\n",
              "      <th>year</th>\n",
              "      <th>name</th>\n",
              "      <th>points</th>\n",
              "      <th>penalty</th>\n",
              "      <th>win</th>\n",
              "      <th>zeros</th>\n",
              "    </tr>\n",
              "  </thead>\n",
              "  <tbody>\n",
              "    <tr>\n",
              "      <th>one</th>\n",
              "      <td>2014</td>\n",
              "      <td>lee</td>\n",
              "      <td>1.5</td>\n",
              "      <td>1</td>\n",
              "      <td>3</td>\n",
              "      <td>0</td>\n",
              "    </tr>\n",
              "    <tr>\n",
              "      <th>two</th>\n",
              "      <td>2015</td>\n",
              "      <td>lee</td>\n",
              "      <td>1.7</td>\n",
              "      <td>33</td>\n",
              "      <td>3</td>\n",
              "      <td>1</td>\n",
              "    </tr>\n",
              "    <tr>\n",
              "      <th>three</th>\n",
              "      <td>2016</td>\n",
              "      <td>lee</td>\n",
              "      <td>3.6</td>\n",
              "      <td>2</td>\n",
              "      <td>3</td>\n",
              "      <td>2</td>\n",
              "    </tr>\n",
              "    <tr>\n",
              "      <th>four</th>\n",
              "      <td>2015</td>\n",
              "      <td>park</td>\n",
              "      <td>2.4</td>\n",
              "      <td>44</td>\n",
              "      <td>3</td>\n",
              "      <td>3</td>\n",
              "    </tr>\n",
              "    <tr>\n",
              "      <th>five</th>\n",
              "      <td>2016</td>\n",
              "      <td>park</td>\n",
              "      <td>2.9</td>\n",
              "      <td>3</td>\n",
              "      <td>3</td>\n",
              "      <td>4</td>\n",
              "    </tr>\n",
              "  </tbody>\n",
              "</table>\n",
              "</div>"
            ],
            "text/plain": [
              "       year  name  points  penalty  win  zeros\n",
              "one    2014   lee     1.5        1    3      0\n",
              "two    2015   lee     1.7       33    3      1\n",
              "three  2016   lee     3.6        2    3      2\n",
              "four   2015  park     2.4       44    3      3\n",
              "five   2016  park     2.9        3    3      4"
            ]
          },
          "metadata": {
            "tags": []
          },
          "execution_count": 40
        }
      ]
    },
    {
      "cell_type": "code",
      "metadata": {
        "id": "C5tOn4gnHw5s",
        "colab_type": "code",
        "colab": {}
      },
      "source": [
        "# Series를 추가할 수도 있다.\n",
        "val = pd.Series([-1.2,-1.5,-1.7],index=['two','four','five'])"
      ],
      "execution_count": 0,
      "outputs": []
    },
    {
      "cell_type": "code",
      "metadata": {
        "id": "dM2lJPcTH7_U",
        "colab_type": "code",
        "colab": {}
      },
      "source": [
        "df['debt']=val"
      ],
      "execution_count": 0,
      "outputs": []
    },
    {
      "cell_type": "code",
      "metadata": {
        "id": "KnOzIMmBH-ST",
        "colab_type": "code",
        "outputId": "a1e596f1-79c9-48c6-e8bb-2eda782451ff",
        "colab": {
          "base_uri": "https://localhost:8080/",
          "height": 195
        }
      },
      "source": [
        "df"
      ],
      "execution_count": 0,
      "outputs": [
        {
          "output_type": "execute_result",
          "data": {
            "text/html": [
              "<div>\n",
              "<style scoped>\n",
              "    .dataframe tbody tr th:only-of-type {\n",
              "        vertical-align: middle;\n",
              "    }\n",
              "\n",
              "    .dataframe tbody tr th {\n",
              "        vertical-align: top;\n",
              "    }\n",
              "\n",
              "    .dataframe thead th {\n",
              "        text-align: right;\n",
              "    }\n",
              "</style>\n",
              "<table border=\"1\" class=\"dataframe\">\n",
              "  <thead>\n",
              "    <tr style=\"text-align: right;\">\n",
              "      <th></th>\n",
              "      <th>year</th>\n",
              "      <th>name</th>\n",
              "      <th>points</th>\n",
              "      <th>penalty</th>\n",
              "      <th>win</th>\n",
              "      <th>zeros</th>\n",
              "      <th>debt</th>\n",
              "    </tr>\n",
              "  </thead>\n",
              "  <tbody>\n",
              "    <tr>\n",
              "      <th>one</th>\n",
              "      <td>2014</td>\n",
              "      <td>lee</td>\n",
              "      <td>1.5</td>\n",
              "      <td>1</td>\n",
              "      <td>3</td>\n",
              "      <td>0</td>\n",
              "      <td>NaN</td>\n",
              "    </tr>\n",
              "    <tr>\n",
              "      <th>two</th>\n",
              "      <td>2015</td>\n",
              "      <td>lee</td>\n",
              "      <td>1.7</td>\n",
              "      <td>33</td>\n",
              "      <td>3</td>\n",
              "      <td>1</td>\n",
              "      <td>-1.2</td>\n",
              "    </tr>\n",
              "    <tr>\n",
              "      <th>three</th>\n",
              "      <td>2016</td>\n",
              "      <td>lee</td>\n",
              "      <td>3.6</td>\n",
              "      <td>2</td>\n",
              "      <td>3</td>\n",
              "      <td>2</td>\n",
              "      <td>NaN</td>\n",
              "    </tr>\n",
              "    <tr>\n",
              "      <th>four</th>\n",
              "      <td>2015</td>\n",
              "      <td>park</td>\n",
              "      <td>2.4</td>\n",
              "      <td>44</td>\n",
              "      <td>3</td>\n",
              "      <td>3</td>\n",
              "      <td>-1.5</td>\n",
              "    </tr>\n",
              "    <tr>\n",
              "      <th>five</th>\n",
              "      <td>2016</td>\n",
              "      <td>park</td>\n",
              "      <td>2.9</td>\n",
              "      <td>3</td>\n",
              "      <td>3</td>\n",
              "      <td>4</td>\n",
              "      <td>-1.7</td>\n",
              "    </tr>\n",
              "  </tbody>\n",
              "</table>\n",
              "</div>"
            ],
            "text/plain": [
              "       year  name  points  penalty  win  zeros  debt\n",
              "one    2014   lee     1.5        1    3      0   NaN\n",
              "two    2015   lee     1.7       33    3      1  -1.2\n",
              "three  2016   lee     3.6        2    3      2   NaN\n",
              "four   2015  park     2.4       44    3      3  -1.5\n",
              "five   2016  park     2.9        3    3      4  -1.7"
            ]
          },
          "metadata": {
            "tags": []
          },
          "execution_count": 44
        }
      ]
    },
    {
      "cell_type": "code",
      "metadata": {
        "id": "dHXF4uiWIDR1",
        "colab_type": "code",
        "colab": {}
      },
      "source": [
        "# 하지만 Series로 넣을 때는 val와 같이 넣으려는 data의 index에 맞춰서 \n",
        "# 데이터가 들어간다.\n",
        "# 이점이 python list나 numpy array로 데이터를 넣을 때와 가장 큰 차이점이다."
      ],
      "execution_count": 0,
      "outputs": []
    },
    {
      "cell_type": "code",
      "metadata": {
        "id": "OQxeLuhkIZqh",
        "colab_type": "code",
        "outputId": "4d4e76b5-b209-47de-f95e-ac1b95b24a93",
        "colab": {
          "base_uri": "https://localhost:8080/",
          "height": 195
        }
      },
      "source": [
        "df['net_points']=df['points']-df['penalty']\n",
        "df"
      ],
      "execution_count": 0,
      "outputs": [
        {
          "output_type": "execute_result",
          "data": {
            "text/html": [
              "<div>\n",
              "<style scoped>\n",
              "    .dataframe tbody tr th:only-of-type {\n",
              "        vertical-align: middle;\n",
              "    }\n",
              "\n",
              "    .dataframe tbody tr th {\n",
              "        vertical-align: top;\n",
              "    }\n",
              "\n",
              "    .dataframe thead th {\n",
              "        text-align: right;\n",
              "    }\n",
              "</style>\n",
              "<table border=\"1\" class=\"dataframe\">\n",
              "  <thead>\n",
              "    <tr style=\"text-align: right;\">\n",
              "      <th></th>\n",
              "      <th>year</th>\n",
              "      <th>name</th>\n",
              "      <th>points</th>\n",
              "      <th>penalty</th>\n",
              "      <th>win</th>\n",
              "      <th>zeros</th>\n",
              "      <th>debt</th>\n",
              "      <th>net_points</th>\n",
              "    </tr>\n",
              "  </thead>\n",
              "  <tbody>\n",
              "    <tr>\n",
              "      <th>one</th>\n",
              "      <td>2014</td>\n",
              "      <td>lee</td>\n",
              "      <td>1.5</td>\n",
              "      <td>1</td>\n",
              "      <td>3</td>\n",
              "      <td>0</td>\n",
              "      <td>NaN</td>\n",
              "      <td>0.5</td>\n",
              "    </tr>\n",
              "    <tr>\n",
              "      <th>two</th>\n",
              "      <td>2015</td>\n",
              "      <td>lee</td>\n",
              "      <td>1.7</td>\n",
              "      <td>33</td>\n",
              "      <td>3</td>\n",
              "      <td>1</td>\n",
              "      <td>-1.2</td>\n",
              "      <td>-31.3</td>\n",
              "    </tr>\n",
              "    <tr>\n",
              "      <th>three</th>\n",
              "      <td>2016</td>\n",
              "      <td>lee</td>\n",
              "      <td>3.6</td>\n",
              "      <td>2</td>\n",
              "      <td>3</td>\n",
              "      <td>2</td>\n",
              "      <td>NaN</td>\n",
              "      <td>1.6</td>\n",
              "    </tr>\n",
              "    <tr>\n",
              "      <th>four</th>\n",
              "      <td>2015</td>\n",
              "      <td>park</td>\n",
              "      <td>2.4</td>\n",
              "      <td>44</td>\n",
              "      <td>3</td>\n",
              "      <td>3</td>\n",
              "      <td>-1.5</td>\n",
              "      <td>-41.6</td>\n",
              "    </tr>\n",
              "    <tr>\n",
              "      <th>five</th>\n",
              "      <td>2016</td>\n",
              "      <td>park</td>\n",
              "      <td>2.9</td>\n",
              "      <td>3</td>\n",
              "      <td>3</td>\n",
              "      <td>4</td>\n",
              "      <td>-1.7</td>\n",
              "      <td>-0.1</td>\n",
              "    </tr>\n",
              "  </tbody>\n",
              "</table>\n",
              "</div>"
            ],
            "text/plain": [
              "       year  name  points  penalty  win  zeros  debt  net_points\n",
              "one    2014   lee     1.5        1    3      0   NaN         0.5\n",
              "two    2015   lee     1.7       33    3      1  -1.2       -31.3\n",
              "three  2016   lee     3.6        2    3      2   NaN         1.6\n",
              "four   2015  park     2.4       44    3      3  -1.5       -41.6\n",
              "five   2016  park     2.9        3    3      4  -1.7        -0.1"
            ]
          },
          "metadata": {
            "tags": []
          },
          "execution_count": 45
        }
      ]
    },
    {
      "cell_type": "code",
      "metadata": {
        "id": "G0ynWkLtIhyC",
        "colab_type": "code",
        "outputId": "7b2c1b3e-78dc-4c0b-f79b-8c8ad9d2380a",
        "colab": {
          "base_uri": "https://localhost:8080/",
          "height": 195
        }
      },
      "source": [
        " df['high_points'] =df['net_points']\n",
        " df"
      ],
      "execution_count": 0,
      "outputs": [
        {
          "output_type": "execute_result",
          "data": {
            "text/html": [
              "<div>\n",
              "<style scoped>\n",
              "    .dataframe tbody tr th:only-of-type {\n",
              "        vertical-align: middle;\n",
              "    }\n",
              "\n",
              "    .dataframe tbody tr th {\n",
              "        vertical-align: top;\n",
              "    }\n",
              "\n",
              "    .dataframe thead th {\n",
              "        text-align: right;\n",
              "    }\n",
              "</style>\n",
              "<table border=\"1\" class=\"dataframe\">\n",
              "  <thead>\n",
              "    <tr style=\"text-align: right;\">\n",
              "      <th></th>\n",
              "      <th>year</th>\n",
              "      <th>name</th>\n",
              "      <th>points</th>\n",
              "      <th>penalty</th>\n",
              "      <th>win</th>\n",
              "      <th>zeros</th>\n",
              "      <th>debt</th>\n",
              "      <th>net_points</th>\n",
              "      <th>high_points</th>\n",
              "    </tr>\n",
              "  </thead>\n",
              "  <tbody>\n",
              "    <tr>\n",
              "      <th>one</th>\n",
              "      <td>2014</td>\n",
              "      <td>lee</td>\n",
              "      <td>1.5</td>\n",
              "      <td>1</td>\n",
              "      <td>3</td>\n",
              "      <td>0</td>\n",
              "      <td>NaN</td>\n",
              "      <td>0.5</td>\n",
              "      <td>0.5</td>\n",
              "    </tr>\n",
              "    <tr>\n",
              "      <th>two</th>\n",
              "      <td>2015</td>\n",
              "      <td>lee</td>\n",
              "      <td>1.7</td>\n",
              "      <td>33</td>\n",
              "      <td>3</td>\n",
              "      <td>1</td>\n",
              "      <td>-1.2</td>\n",
              "      <td>-31.3</td>\n",
              "      <td>-31.3</td>\n",
              "    </tr>\n",
              "    <tr>\n",
              "      <th>three</th>\n",
              "      <td>2016</td>\n",
              "      <td>lee</td>\n",
              "      <td>3.6</td>\n",
              "      <td>2</td>\n",
              "      <td>3</td>\n",
              "      <td>2</td>\n",
              "      <td>NaN</td>\n",
              "      <td>1.6</td>\n",
              "      <td>1.6</td>\n",
              "    </tr>\n",
              "    <tr>\n",
              "      <th>four</th>\n",
              "      <td>2015</td>\n",
              "      <td>park</td>\n",
              "      <td>2.4</td>\n",
              "      <td>44</td>\n",
              "      <td>3</td>\n",
              "      <td>3</td>\n",
              "      <td>-1.5</td>\n",
              "      <td>-41.6</td>\n",
              "      <td>-41.6</td>\n",
              "    </tr>\n",
              "    <tr>\n",
              "      <th>five</th>\n",
              "      <td>2016</td>\n",
              "      <td>park</td>\n",
              "      <td>2.9</td>\n",
              "      <td>3</td>\n",
              "      <td>3</td>\n",
              "      <td>4</td>\n",
              "      <td>-1.7</td>\n",
              "      <td>-0.1</td>\n",
              "      <td>-0.1</td>\n",
              "    </tr>\n",
              "  </tbody>\n",
              "</table>\n",
              "</div>"
            ],
            "text/plain": [
              "       year  name  points  penalty  win  zeros  debt  net_points  high_points\n",
              "one    2014   lee     1.5        1    3      0   NaN         0.5          0.5\n",
              "two    2015   lee     1.7       33    3      1  -1.2       -31.3        -31.3\n",
              "three  2016   lee     3.6        2    3      2   NaN         1.6          1.6\n",
              "four   2015  park     2.4       44    3      3  -1.5       -41.6        -41.6\n",
              "five   2016  park     2.9        3    3      4  -1.7        -0.1         -0.1"
            ]
          },
          "metadata": {
            "tags": []
          },
          "execution_count": 48
        }
      ]
    },
    {
      "cell_type": "code",
      "metadata": {
        "id": "Y3ovPy1_IniC",
        "colab_type": "code",
        "colab": {}
      },
      "source": [
        ""
      ],
      "execution_count": 0,
      "outputs": []
    },
    {
      "cell_type": "code",
      "metadata": {
        "id": "tKPPePE5IoH4",
        "colab_type": "code",
        "outputId": "d715ddf6-f5f2-4686-d16c-a2698987d267",
        "colab": {
          "base_uri": "https://localhost:8080/",
          "height": 195
        }
      },
      "source": [
        "# 열 삭제하기\n",
        "del df['win']\n",
        "df"
      ],
      "execution_count": 0,
      "outputs": [
        {
          "output_type": "execute_result",
          "data": {
            "text/html": [
              "<div>\n",
              "<style scoped>\n",
              "    .dataframe tbody tr th:only-of-type {\n",
              "        vertical-align: middle;\n",
              "    }\n",
              "\n",
              "    .dataframe tbody tr th {\n",
              "        vertical-align: top;\n",
              "    }\n",
              "\n",
              "    .dataframe thead th {\n",
              "        text-align: right;\n",
              "    }\n",
              "</style>\n",
              "<table border=\"1\" class=\"dataframe\">\n",
              "  <thead>\n",
              "    <tr style=\"text-align: right;\">\n",
              "      <th></th>\n",
              "      <th>year</th>\n",
              "      <th>name</th>\n",
              "      <th>points</th>\n",
              "      <th>penalty</th>\n",
              "      <th>debt</th>\n",
              "      <th>high_points</th>\n",
              "    </tr>\n",
              "  </thead>\n",
              "  <tbody>\n",
              "    <tr>\n",
              "      <th>one</th>\n",
              "      <td>2014</td>\n",
              "      <td>lee</td>\n",
              "      <td>1.5</td>\n",
              "      <td>1</td>\n",
              "      <td>NaN</td>\n",
              "      <td>0.5</td>\n",
              "    </tr>\n",
              "    <tr>\n",
              "      <th>two</th>\n",
              "      <td>2015</td>\n",
              "      <td>lee</td>\n",
              "      <td>1.7</td>\n",
              "      <td>33</td>\n",
              "      <td>-1.2</td>\n",
              "      <td>-31.3</td>\n",
              "    </tr>\n",
              "    <tr>\n",
              "      <th>three</th>\n",
              "      <td>2016</td>\n",
              "      <td>lee</td>\n",
              "      <td>3.6</td>\n",
              "      <td>2</td>\n",
              "      <td>NaN</td>\n",
              "      <td>1.6</td>\n",
              "    </tr>\n",
              "    <tr>\n",
              "      <th>four</th>\n",
              "      <td>2015</td>\n",
              "      <td>park</td>\n",
              "      <td>2.4</td>\n",
              "      <td>44</td>\n",
              "      <td>-1.5</td>\n",
              "      <td>-41.6</td>\n",
              "    </tr>\n",
              "    <tr>\n",
              "      <th>five</th>\n",
              "      <td>2016</td>\n",
              "      <td>park</td>\n",
              "      <td>2.9</td>\n",
              "      <td>3</td>\n",
              "      <td>-1.7</td>\n",
              "      <td>-0.1</td>\n",
              "    </tr>\n",
              "  </tbody>\n",
              "</table>\n",
              "</div>"
            ],
            "text/plain": [
              "       year  name  points  penalty  debt  high_points\n",
              "one    2014   lee     1.5        1   NaN          0.5\n",
              "two    2015   lee     1.7       33  -1.2        -31.3\n",
              "three  2016   lee     3.6        2   NaN          1.6\n",
              "four   2015  park     2.4       44  -1.5        -41.6\n",
              "five   2016  park     2.9        3  -1.7         -0.1"
            ]
          },
          "metadata": {
            "tags": []
          },
          "execution_count": 52
        }
      ]
    },
    {
      "cell_type": "code",
      "metadata": {
        "id": "H_sa8Xs6IsVT",
        "colab_type": "code",
        "outputId": "5a1b6ea5-53d9-491b-b3fb-9f7d4fd756f5",
        "colab": {
          "base_uri": "https://localhost:8080/",
          "height": 195
        }
      },
      "source": [
        "del df['net_points']\n",
        "del df['zeros']\n",
        "df"
      ],
      "execution_count": 0,
      "outputs": [
        {
          "output_type": "execute_result",
          "data": {
            "text/html": [
              "<div>\n",
              "<style scoped>\n",
              "    .dataframe tbody tr th:only-of-type {\n",
              "        vertical-align: middle;\n",
              "    }\n",
              "\n",
              "    .dataframe tbody tr th {\n",
              "        vertical-align: top;\n",
              "    }\n",
              "\n",
              "    .dataframe thead th {\n",
              "        text-align: right;\n",
              "    }\n",
              "</style>\n",
              "<table border=\"1\" class=\"dataframe\">\n",
              "  <thead>\n",
              "    <tr style=\"text-align: right;\">\n",
              "      <th></th>\n",
              "      <th>year</th>\n",
              "      <th>name</th>\n",
              "      <th>points</th>\n",
              "      <th>penalty</th>\n",
              "      <th>win</th>\n",
              "      <th>debt</th>\n",
              "      <th>high_points</th>\n",
              "    </tr>\n",
              "  </thead>\n",
              "  <tbody>\n",
              "    <tr>\n",
              "      <th>one</th>\n",
              "      <td>2014</td>\n",
              "      <td>lee</td>\n",
              "      <td>1.5</td>\n",
              "      <td>1</td>\n",
              "      <td>3</td>\n",
              "      <td>NaN</td>\n",
              "      <td>0.5</td>\n",
              "    </tr>\n",
              "    <tr>\n",
              "      <th>two</th>\n",
              "      <td>2015</td>\n",
              "      <td>lee</td>\n",
              "      <td>1.7</td>\n",
              "      <td>33</td>\n",
              "      <td>3</td>\n",
              "      <td>-1.2</td>\n",
              "      <td>-31.3</td>\n",
              "    </tr>\n",
              "    <tr>\n",
              "      <th>three</th>\n",
              "      <td>2016</td>\n",
              "      <td>lee</td>\n",
              "      <td>3.6</td>\n",
              "      <td>2</td>\n",
              "      <td>3</td>\n",
              "      <td>NaN</td>\n",
              "      <td>1.6</td>\n",
              "    </tr>\n",
              "    <tr>\n",
              "      <th>four</th>\n",
              "      <td>2015</td>\n",
              "      <td>park</td>\n",
              "      <td>2.4</td>\n",
              "      <td>44</td>\n",
              "      <td>3</td>\n",
              "      <td>-1.5</td>\n",
              "      <td>-41.6</td>\n",
              "    </tr>\n",
              "    <tr>\n",
              "      <th>five</th>\n",
              "      <td>2016</td>\n",
              "      <td>park</td>\n",
              "      <td>2.9</td>\n",
              "      <td>3</td>\n",
              "      <td>3</td>\n",
              "      <td>-1.7</td>\n",
              "      <td>-0.1</td>\n",
              "    </tr>\n",
              "  </tbody>\n",
              "</table>\n",
              "</div>"
            ],
            "text/plain": [
              "       year  name  points  penalty  win  debt  high_points\n",
              "one    2014   lee     1.5        1    3   NaN          0.5\n",
              "two    2015   lee     1.7       33    3  -1.2        -31.3\n",
              "three  2016   lee     3.6        2    3   NaN          1.6\n",
              "four   2015  park     2.4       44    3  -1.5        -41.6\n",
              "five   2016  park     2.9        3    3  -1.7         -0.1"
            ]
          },
          "metadata": {
            "tags": []
          },
          "execution_count": 51
        }
      ]
    },
    {
      "cell_type": "code",
      "metadata": {
        "id": "2MtYX6YdI2cw",
        "colab_type": "code",
        "colab": {}
      },
      "source": [
        ""
      ],
      "execution_count": 0,
      "outputs": []
    },
    {
      "cell_type": "code",
      "metadata": {
        "id": "vxSOtW4zI3Kg",
        "colab_type": "code",
        "colab": {}
      },
      "source": [
        "# 3-2. DataFrame에서 행을 선택하고 조작하기\n",
        "# Pandas에서는 DataFrame에서 행을 인덱싱하는 방법이 무수히 많다.\n",
        "# 물론 위에서 소개했던 열을 선택하는 방법도 수많은 방법 중에 하나에 불과하다."
      ],
      "execution_count": 0,
      "outputs": []
    },
    {
      "cell_type": "code",
      "metadata": {
        "id": "r5VxuvyaJGwm",
        "colab_type": "code",
        "outputId": "b60826c7-e7a8-405d-c4f4-40db2ac4dbe3",
        "colab": {
          "base_uri": "https://localhost:8080/",
          "height": 136
        }
      },
      "source": [
        "# 0번째 부터 2(3-1)번째 까지 가져온다.\n",
        "# 뒤에 써준 숫자번째의 행은 뺀다.\n",
        "df[:3]"
      ],
      "execution_count": 0,
      "outputs": [
        {
          "output_type": "execute_result",
          "data": {
            "text/html": [
              "<div>\n",
              "<style scoped>\n",
              "    .dataframe tbody tr th:only-of-type {\n",
              "        vertical-align: middle;\n",
              "    }\n",
              "\n",
              "    .dataframe tbody tr th {\n",
              "        vertical-align: top;\n",
              "    }\n",
              "\n",
              "    .dataframe thead th {\n",
              "        text-align: right;\n",
              "    }\n",
              "</style>\n",
              "<table border=\"1\" class=\"dataframe\">\n",
              "  <thead>\n",
              "    <tr style=\"text-align: right;\">\n",
              "      <th></th>\n",
              "      <th>year</th>\n",
              "      <th>name</th>\n",
              "      <th>points</th>\n",
              "      <th>penalty</th>\n",
              "      <th>debt</th>\n",
              "      <th>high_points</th>\n",
              "    </tr>\n",
              "  </thead>\n",
              "  <tbody>\n",
              "    <tr>\n",
              "      <th>one</th>\n",
              "      <td>2014</td>\n",
              "      <td>lee</td>\n",
              "      <td>1.5</td>\n",
              "      <td>1</td>\n",
              "      <td>NaN</td>\n",
              "      <td>0.5</td>\n",
              "    </tr>\n",
              "    <tr>\n",
              "      <th>two</th>\n",
              "      <td>2015</td>\n",
              "      <td>lee</td>\n",
              "      <td>1.7</td>\n",
              "      <td>33</td>\n",
              "      <td>-1.2</td>\n",
              "      <td>-31.3</td>\n",
              "    </tr>\n",
              "    <tr>\n",
              "      <th>three</th>\n",
              "      <td>2016</td>\n",
              "      <td>lee</td>\n",
              "      <td>3.6</td>\n",
              "      <td>2</td>\n",
              "      <td>NaN</td>\n",
              "      <td>1.6</td>\n",
              "    </tr>\n",
              "  </tbody>\n",
              "</table>\n",
              "</div>"
            ],
            "text/plain": [
              "       year name  points  penalty  debt  high_points\n",
              "one    2014  lee     1.5        1   NaN          0.5\n",
              "two    2015  lee     1.7       33  -1.2        -31.3\n",
              "three  2016  lee     3.6        2   NaN          1.6"
            ]
          },
          "metadata": {
            "tags": []
          },
          "execution_count": 53
        }
      ]
    },
    {
      "cell_type": "code",
      "metadata": {
        "id": "jSAp2vFqJUV5",
        "colab_type": "code",
        "outputId": "1f2a188e-84b5-400f-ad1b-3a7791a60fc9",
        "colab": {
          "base_uri": "https://localhost:8080/",
          "height": 134
        }
      },
      "source": [
        "# 아래 방법을 권장한다.\n",
        "# .loc 또는 .iloc 함수를 사용하는 방법\n",
        "df.loc['two']"
      ],
      "execution_count": 0,
      "outputs": [
        {
          "output_type": "execute_result",
          "data": {
            "text/plain": [
              "year           2015\n",
              "name            lee\n",
              "points          1.7\n",
              "penalty          33\n",
              "debt           -1.2\n",
              "high_points   -31.3\n",
              "Name: two, dtype: object"
            ]
          },
          "metadata": {
            "tags": []
          },
          "execution_count": 54
        }
      ]
    },
    {
      "cell_type": "code",
      "metadata": {
        "id": "gZODYM7VJdMq",
        "colab_type": "code",
        "outputId": "54c19550-60b0-44db-8132-02b54eb14185",
        "colab": {
          "base_uri": "https://localhost:8080/",
          "height": 136
        }
      },
      "source": [
        "df.loc['two':'four']"
      ],
      "execution_count": 0,
      "outputs": [
        {
          "output_type": "execute_result",
          "data": {
            "text/html": [
              "<div>\n",
              "<style scoped>\n",
              "    .dataframe tbody tr th:only-of-type {\n",
              "        vertical-align: middle;\n",
              "    }\n",
              "\n",
              "    .dataframe tbody tr th {\n",
              "        vertical-align: top;\n",
              "    }\n",
              "\n",
              "    .dataframe thead th {\n",
              "        text-align: right;\n",
              "    }\n",
              "</style>\n",
              "<table border=\"1\" class=\"dataframe\">\n",
              "  <thead>\n",
              "    <tr style=\"text-align: right;\">\n",
              "      <th></th>\n",
              "      <th>year</th>\n",
              "      <th>name</th>\n",
              "      <th>points</th>\n",
              "      <th>penalty</th>\n",
              "      <th>debt</th>\n",
              "      <th>high_points</th>\n",
              "    </tr>\n",
              "  </thead>\n",
              "  <tbody>\n",
              "    <tr>\n",
              "      <th>two</th>\n",
              "      <td>2015</td>\n",
              "      <td>lee</td>\n",
              "      <td>1.7</td>\n",
              "      <td>33</td>\n",
              "      <td>-1.2</td>\n",
              "      <td>-31.3</td>\n",
              "    </tr>\n",
              "    <tr>\n",
              "      <th>three</th>\n",
              "      <td>2016</td>\n",
              "      <td>lee</td>\n",
              "      <td>3.6</td>\n",
              "      <td>2</td>\n",
              "      <td>NaN</td>\n",
              "      <td>1.6</td>\n",
              "    </tr>\n",
              "    <tr>\n",
              "      <th>four</th>\n",
              "      <td>2015</td>\n",
              "      <td>park</td>\n",
              "      <td>2.4</td>\n",
              "      <td>44</td>\n",
              "      <td>-1.5</td>\n",
              "      <td>-41.6</td>\n",
              "    </tr>\n",
              "  </tbody>\n",
              "</table>\n",
              "</div>"
            ],
            "text/plain": [
              "       year  name  points  penalty  debt  high_points\n",
              "two    2015   lee     1.7       33  -1.2        -31.3\n",
              "three  2016   lee     3.6        2   NaN          1.6\n",
              "four   2015  park     2.4       44  -1.5        -41.6"
            ]
          },
          "metadata": {
            "tags": []
          },
          "execution_count": 55
        }
      ]
    },
    {
      "cell_type": "code",
      "metadata": {
        "id": "38wXjPqe1Iwa",
        "colab_type": "code",
        "outputId": "46aaaccc-7253-411a-fb59-2ba27057261e",
        "colab": {
          "base_uri": "https://localhost:8080/",
          "height": 84
        }
      },
      "source": [
        "df.loc['two':'four','points']"
      ],
      "execution_count": 0,
      "outputs": [
        {
          "output_type": "execute_result",
          "data": {
            "text/plain": [
              "two      1.7\n",
              "three    3.6\n",
              "four     2.4\n",
              "Name: points, dtype: float64"
            ]
          },
          "metadata": {
            "tags": []
          },
          "execution_count": 56
        }
      ]
    },
    {
      "cell_type": "code",
      "metadata": {
        "id": "3yGb7Xd31rnb",
        "colab_type": "code",
        "outputId": "e8a07ab1-bd9a-43c6-82c3-2833875ed3cb",
        "colab": {
          "base_uri": "https://localhost:8080/",
          "height": 118
        }
      },
      "source": [
        "df.loc[:,'year']"
      ],
      "execution_count": 0,
      "outputs": [
        {
          "output_type": "execute_result",
          "data": {
            "text/plain": [
              "one      2014\n",
              "two      2015\n",
              "three    2016\n",
              "four     2015\n",
              "five     2016\n",
              "Name: year, dtype: int64"
            ]
          },
          "metadata": {
            "tags": []
          },
          "execution_count": 57
        }
      ]
    },
    {
      "cell_type": "code",
      "metadata": {
        "id": "U49khi3t1vBb",
        "colab_type": "code",
        "outputId": "392ebd11-e528-4b3f-a5ee-b283de3c16b6",
        "colab": {
          "base_uri": "https://localhost:8080/",
          "height": 195
        }
      },
      "source": [
        "#카피하는법\n",
        "df2=df.copy()\n",
        "df2"
      ],
      "execution_count": 0,
      "outputs": [
        {
          "output_type": "execute_result",
          "data": {
            "text/html": [
              "<div>\n",
              "<style scoped>\n",
              "    .dataframe tbody tr th:only-of-type {\n",
              "        vertical-align: middle;\n",
              "    }\n",
              "\n",
              "    .dataframe tbody tr th {\n",
              "        vertical-align: top;\n",
              "    }\n",
              "\n",
              "    .dataframe thead th {\n",
              "        text-align: right;\n",
              "    }\n",
              "</style>\n",
              "<table border=\"1\" class=\"dataframe\">\n",
              "  <thead>\n",
              "    <tr style=\"text-align: right;\">\n",
              "      <th></th>\n",
              "      <th>year</th>\n",
              "      <th>name</th>\n",
              "      <th>points</th>\n",
              "      <th>penalty</th>\n",
              "      <th>debt</th>\n",
              "      <th>high_points</th>\n",
              "    </tr>\n",
              "  </thead>\n",
              "  <tbody>\n",
              "    <tr>\n",
              "      <th>one</th>\n",
              "      <td>2014</td>\n",
              "      <td>lee</td>\n",
              "      <td>1.5</td>\n",
              "      <td>1</td>\n",
              "      <td>NaN</td>\n",
              "      <td>0.5</td>\n",
              "    </tr>\n",
              "    <tr>\n",
              "      <th>two</th>\n",
              "      <td>2015</td>\n",
              "      <td>lee</td>\n",
              "      <td>1.7</td>\n",
              "      <td>33</td>\n",
              "      <td>-1.2</td>\n",
              "      <td>-31.3</td>\n",
              "    </tr>\n",
              "    <tr>\n",
              "      <th>three</th>\n",
              "      <td>2016</td>\n",
              "      <td>lee</td>\n",
              "      <td>3.6</td>\n",
              "      <td>2</td>\n",
              "      <td>NaN</td>\n",
              "      <td>1.6</td>\n",
              "    </tr>\n",
              "    <tr>\n",
              "      <th>four</th>\n",
              "      <td>2015</td>\n",
              "      <td>park</td>\n",
              "      <td>2.4</td>\n",
              "      <td>44</td>\n",
              "      <td>-1.5</td>\n",
              "      <td>-41.6</td>\n",
              "    </tr>\n",
              "    <tr>\n",
              "      <th>five</th>\n",
              "      <td>2016</td>\n",
              "      <td>park</td>\n",
              "      <td>2.9</td>\n",
              "      <td>3</td>\n",
              "      <td>-1.7</td>\n",
              "      <td>-0.1</td>\n",
              "    </tr>\n",
              "  </tbody>\n",
              "</table>\n",
              "</div>"
            ],
            "text/plain": [
              "       year  name  points  penalty  debt  high_points\n",
              "one    2014   lee     1.5        1   NaN          0.5\n",
              "two    2015   lee     1.7       33  -1.2        -31.3\n",
              "three  2016   lee     3.6        2   NaN          1.6\n",
              "four   2015  park     2.4       44  -1.5        -41.6\n",
              "five   2016  park     2.9        3  -1.7         -0.1"
            ]
          },
          "metadata": {
            "tags": []
          },
          "execution_count": 59
        }
      ]
    },
    {
      "cell_type": "code",
      "metadata": {
        "id": "J3IHeAXE1zNh",
        "colab_type": "code",
        "colab": {}
      },
      "source": [
        ""
      ],
      "execution_count": 0,
      "outputs": []
    },
    {
      "cell_type": "code",
      "metadata": {
        "id": "sRVvsd6I1_ce",
        "colab_type": "code",
        "colab": {}
      },
      "source": [
        "# 새로운 행 삽입하기\n",
        "df.loc['six',:]=[2013,'June',4.0, 0.1,2.1,2]"
      ],
      "execution_count": 0,
      "outputs": []
    },
    {
      "cell_type": "code",
      "metadata": {
        "id": "JhZrnJSV2MYW",
        "colab_type": "code",
        "outputId": "0f91231e-194d-4d0e-b638-845f740d86ea",
        "colab": {
          "base_uri": "https://localhost:8080/",
          "height": 225
        }
      },
      "source": [
        "df"
      ],
      "execution_count": 0,
      "outputs": [
        {
          "output_type": "execute_result",
          "data": {
            "text/html": [
              "<div>\n",
              "<style scoped>\n",
              "    .dataframe tbody tr th:only-of-type {\n",
              "        vertical-align: middle;\n",
              "    }\n",
              "\n",
              "    .dataframe tbody tr th {\n",
              "        vertical-align: top;\n",
              "    }\n",
              "\n",
              "    .dataframe thead th {\n",
              "        text-align: right;\n",
              "    }\n",
              "</style>\n",
              "<table border=\"1\" class=\"dataframe\">\n",
              "  <thead>\n",
              "    <tr style=\"text-align: right;\">\n",
              "      <th></th>\n",
              "      <th>year</th>\n",
              "      <th>name</th>\n",
              "      <th>points</th>\n",
              "      <th>penalty</th>\n",
              "      <th>debt</th>\n",
              "      <th>high_points</th>\n",
              "    </tr>\n",
              "  </thead>\n",
              "  <tbody>\n",
              "    <tr>\n",
              "      <th>one</th>\n",
              "      <td>2014.0</td>\n",
              "      <td>lee</td>\n",
              "      <td>1.5</td>\n",
              "      <td>1.0</td>\n",
              "      <td>NaN</td>\n",
              "      <td>0.5</td>\n",
              "    </tr>\n",
              "    <tr>\n",
              "      <th>two</th>\n",
              "      <td>2015.0</td>\n",
              "      <td>lee</td>\n",
              "      <td>1.7</td>\n",
              "      <td>33.0</td>\n",
              "      <td>-1.2</td>\n",
              "      <td>-31.3</td>\n",
              "    </tr>\n",
              "    <tr>\n",
              "      <th>three</th>\n",
              "      <td>2016.0</td>\n",
              "      <td>lee</td>\n",
              "      <td>3.6</td>\n",
              "      <td>2.0</td>\n",
              "      <td>NaN</td>\n",
              "      <td>1.6</td>\n",
              "    </tr>\n",
              "    <tr>\n",
              "      <th>four</th>\n",
              "      <td>2015.0</td>\n",
              "      <td>park</td>\n",
              "      <td>2.4</td>\n",
              "      <td>44.0</td>\n",
              "      <td>-1.5</td>\n",
              "      <td>-41.6</td>\n",
              "    </tr>\n",
              "    <tr>\n",
              "      <th>five</th>\n",
              "      <td>2016.0</td>\n",
              "      <td>park</td>\n",
              "      <td>2.9</td>\n",
              "      <td>3.0</td>\n",
              "      <td>-1.7</td>\n",
              "      <td>-0.1</td>\n",
              "    </tr>\n",
              "    <tr>\n",
              "      <th>six</th>\n",
              "      <td>2013.0</td>\n",
              "      <td>June</td>\n",
              "      <td>4.0</td>\n",
              "      <td>0.1</td>\n",
              "      <td>2.1</td>\n",
              "      <td>2.0</td>\n",
              "    </tr>\n",
              "  </tbody>\n",
              "</table>\n",
              "</div>"
            ],
            "text/plain": [
              "         year  name  points  penalty  debt  high_points\n",
              "one    2014.0   lee     1.5      1.0   NaN          0.5\n",
              "two    2015.0   lee     1.7     33.0  -1.2        -31.3\n",
              "three  2016.0   lee     3.6      2.0   NaN          1.6\n",
              "four   2015.0  park     2.4     44.0  -1.5        -41.6\n",
              "five   2016.0  park     2.9      3.0  -1.7         -0.1\n",
              "six    2013.0  June     4.0      0.1   2.1          2.0"
            ]
          },
          "metadata": {
            "tags": []
          },
          "execution_count": 62
        }
      ]
    },
    {
      "cell_type": "code",
      "metadata": {
        "id": "hwLbM9-y2NA7",
        "colab_type": "code",
        "colab": {}
      },
      "source": [
        "# .iloc 사용 :: index 번호를 사용한다.\n"
      ],
      "execution_count": 0,
      "outputs": []
    },
    {
      "cell_type": "code",
      "metadata": {
        "id": "BBEY-F_X2XDi",
        "colab_type": "code",
        "outputId": "e87587de-34ef-4495-c54d-185c9aa334f3",
        "colab": {
          "base_uri": "https://localhost:8080/",
          "height": 134
        }
      },
      "source": [
        "df.iloc[3]"
      ],
      "execution_count": 0,
      "outputs": [
        {
          "output_type": "execute_result",
          "data": {
            "text/plain": [
              "year           2015\n",
              "name           park\n",
              "points          2.4\n",
              "penalty          44\n",
              "debt           -1.5\n",
              "high_points   -41.6\n",
              "Name: four, dtype: object"
            ]
          },
          "metadata": {
            "tags": []
          },
          "execution_count": 63
        }
      ]
    },
    {
      "cell_type": "code",
      "metadata": {
        "id": "m33v48QV2nmz",
        "colab_type": "code",
        "outputId": "4faa9791-d890-4714-9b30-0ae20a182edb",
        "colab": {
          "base_uri": "https://localhost:8080/",
          "height": 106
        }
      },
      "source": [
        "df.iloc[3:5,0:2] #3번째부터 3,4 가져오고, 0,1 가져온다"
      ],
      "execution_count": 0,
      "outputs": [
        {
          "output_type": "execute_result",
          "data": {
            "text/html": [
              "<div>\n",
              "<style scoped>\n",
              "    .dataframe tbody tr th:only-of-type {\n",
              "        vertical-align: middle;\n",
              "    }\n",
              "\n",
              "    .dataframe tbody tr th {\n",
              "        vertical-align: top;\n",
              "    }\n",
              "\n",
              "    .dataframe thead th {\n",
              "        text-align: right;\n",
              "    }\n",
              "</style>\n",
              "<table border=\"1\" class=\"dataframe\">\n",
              "  <thead>\n",
              "    <tr style=\"text-align: right;\">\n",
              "      <th></th>\n",
              "      <th>year</th>\n",
              "      <th>name</th>\n",
              "    </tr>\n",
              "  </thead>\n",
              "  <tbody>\n",
              "    <tr>\n",
              "      <th>four</th>\n",
              "      <td>2015.0</td>\n",
              "      <td>park</td>\n",
              "    </tr>\n",
              "    <tr>\n",
              "      <th>five</th>\n",
              "      <td>2016.0</td>\n",
              "      <td>park</td>\n",
              "    </tr>\n",
              "  </tbody>\n",
              "</table>\n",
              "</div>"
            ],
            "text/plain": [
              "        year  name\n",
              "four  2015.0  park\n",
              "five  2016.0  park"
            ]
          },
          "metadata": {
            "tags": []
          },
          "execution_count": 64
        }
      ]
    },
    {
      "cell_type": "code",
      "metadata": {
        "id": "QBAF-2G_2qVN",
        "colab_type": "code",
        "outputId": "fa5f6fa7-8649-47d6-f9c3-d987ed8620d8",
        "colab": {
          "base_uri": "https://localhost:8080/",
          "height": 136
        }
      },
      "source": [
        "df.iloc[[1,3,4],[1,2]] #인댁스 2,4,5 가져오고,컬럼은 1랑 2가져옴"
      ],
      "execution_count": 0,
      "outputs": [
        {
          "output_type": "execute_result",
          "data": {
            "text/html": [
              "<div>\n",
              "<style scoped>\n",
              "    .dataframe tbody tr th:only-of-type {\n",
              "        vertical-align: middle;\n",
              "    }\n",
              "\n",
              "    .dataframe tbody tr th {\n",
              "        vertical-align: top;\n",
              "    }\n",
              "\n",
              "    .dataframe thead th {\n",
              "        text-align: right;\n",
              "    }\n",
              "</style>\n",
              "<table border=\"1\" class=\"dataframe\">\n",
              "  <thead>\n",
              "    <tr style=\"text-align: right;\">\n",
              "      <th></th>\n",
              "      <th>name</th>\n",
              "      <th>points</th>\n",
              "    </tr>\n",
              "  </thead>\n",
              "  <tbody>\n",
              "    <tr>\n",
              "      <th>two</th>\n",
              "      <td>lee</td>\n",
              "      <td>1.7</td>\n",
              "    </tr>\n",
              "    <tr>\n",
              "      <th>four</th>\n",
              "      <td>park</td>\n",
              "      <td>2.4</td>\n",
              "    </tr>\n",
              "    <tr>\n",
              "      <th>five</th>\n",
              "      <td>park</td>\n",
              "      <td>2.9</td>\n",
              "    </tr>\n",
              "  </tbody>\n",
              "</table>\n",
              "</div>"
            ],
            "text/plain": [
              "      name  points\n",
              "two    lee     1.7\n",
              "four  park     2.4\n",
              "five  park     2.9"
            ]
          },
          "metadata": {
            "tags": []
          },
          "execution_count": 66
        }
      ]
    },
    {
      "cell_type": "code",
      "metadata": {
        "id": "oGsxtw4E2wkM",
        "colab_type": "code",
        "outputId": "f366a12e-ea5b-4461-dee6-438a15fba30f",
        "colab": {
          "base_uri": "https://localhost:8080/",
          "height": 225
        }
      },
      "source": [
        "df.iloc[:,1:4]"
      ],
      "execution_count": 0,
      "outputs": [
        {
          "output_type": "execute_result",
          "data": {
            "text/html": [
              "<div>\n",
              "<style scoped>\n",
              "    .dataframe tbody tr th:only-of-type {\n",
              "        vertical-align: middle;\n",
              "    }\n",
              "\n",
              "    .dataframe tbody tr th {\n",
              "        vertical-align: top;\n",
              "    }\n",
              "\n",
              "    .dataframe thead th {\n",
              "        text-align: right;\n",
              "    }\n",
              "</style>\n",
              "<table border=\"1\" class=\"dataframe\">\n",
              "  <thead>\n",
              "    <tr style=\"text-align: right;\">\n",
              "      <th></th>\n",
              "      <th>name</th>\n",
              "      <th>points</th>\n",
              "      <th>penalty</th>\n",
              "    </tr>\n",
              "  </thead>\n",
              "  <tbody>\n",
              "    <tr>\n",
              "      <th>one</th>\n",
              "      <td>lee</td>\n",
              "      <td>1.5</td>\n",
              "      <td>1.0</td>\n",
              "    </tr>\n",
              "    <tr>\n",
              "      <th>two</th>\n",
              "      <td>lee</td>\n",
              "      <td>1.7</td>\n",
              "      <td>33.0</td>\n",
              "    </tr>\n",
              "    <tr>\n",
              "      <th>three</th>\n",
              "      <td>lee</td>\n",
              "      <td>3.6</td>\n",
              "      <td>2.0</td>\n",
              "    </tr>\n",
              "    <tr>\n",
              "      <th>four</th>\n",
              "      <td>park</td>\n",
              "      <td>2.4</td>\n",
              "      <td>44.0</td>\n",
              "    </tr>\n",
              "    <tr>\n",
              "      <th>five</th>\n",
              "      <td>park</td>\n",
              "      <td>2.9</td>\n",
              "      <td>3.0</td>\n",
              "    </tr>\n",
              "    <tr>\n",
              "      <th>six</th>\n",
              "      <td>June</td>\n",
              "      <td>4.0</td>\n",
              "      <td>0.1</td>\n",
              "    </tr>\n",
              "  </tbody>\n",
              "</table>\n",
              "</div>"
            ],
            "text/plain": [
              "       name  points  penalty\n",
              "one     lee     1.5      1.0\n",
              "two     lee     1.7     33.0\n",
              "three   lee     3.6      2.0\n",
              "four   park     2.4     44.0\n",
              "five   park     2.9      3.0\n",
              "six    June     4.0      0.1"
            ]
          },
          "metadata": {
            "tags": []
          },
          "execution_count": 73
        }
      ]
    },
    {
      "cell_type": "code",
      "metadata": {
        "id": "zlK2hmcI20CB",
        "colab_type": "code",
        "outputId": "6f5b188b-e816-43a5-ac90-8f285e478308",
        "colab": {
          "base_uri": "https://localhost:8080/",
          "height": 34
        }
      },
      "source": [
        "df.iloc[5,1]"
      ],
      "execution_count": 0,
      "outputs": [
        {
          "output_type": "execute_result",
          "data": {
            "text/plain": [
              "'June'"
            ]
          },
          "metadata": {
            "tags": []
          },
          "execution_count": 74
        }
      ]
    },
    {
      "cell_type": "code",
      "metadata": {
        "id": "5cEj19P-22BK",
        "colab_type": "code",
        "colab": {}
      },
      "source": [
        "# 4.DataFrame에서의 boolean Indexing"
      ],
      "execution_count": 0,
      "outputs": []
    },
    {
      "cell_type": "code",
      "metadata": {
        "id": "tslfvsc127Dn",
        "colab_type": "code",
        "outputId": "34f1a602-35eb-42e0-bf87-08cc96b7ac19",
        "colab": {
          "base_uri": "https://localhost:8080/",
          "height": 225
        }
      },
      "source": [
        "df"
      ],
      "execution_count": 0,
      "outputs": [
        {
          "output_type": "execute_result",
          "data": {
            "text/html": [
              "<div>\n",
              "<style scoped>\n",
              "    .dataframe tbody tr th:only-of-type {\n",
              "        vertical-align: middle;\n",
              "    }\n",
              "\n",
              "    .dataframe tbody tr th {\n",
              "        vertical-align: top;\n",
              "    }\n",
              "\n",
              "    .dataframe thead th {\n",
              "        text-align: right;\n",
              "    }\n",
              "</style>\n",
              "<table border=\"1\" class=\"dataframe\">\n",
              "  <thead>\n",
              "    <tr style=\"text-align: right;\">\n",
              "      <th></th>\n",
              "      <th>year</th>\n",
              "      <th>name</th>\n",
              "      <th>points</th>\n",
              "      <th>penalty</th>\n",
              "      <th>debt</th>\n",
              "      <th>high_points</th>\n",
              "    </tr>\n",
              "  </thead>\n",
              "  <tbody>\n",
              "    <tr>\n",
              "      <th>one</th>\n",
              "      <td>2014.0</td>\n",
              "      <td>lee</td>\n",
              "      <td>1.5</td>\n",
              "      <td>1.0</td>\n",
              "      <td>NaN</td>\n",
              "      <td>0.5</td>\n",
              "    </tr>\n",
              "    <tr>\n",
              "      <th>two</th>\n",
              "      <td>2015.0</td>\n",
              "      <td>lee</td>\n",
              "      <td>1.7</td>\n",
              "      <td>33.0</td>\n",
              "      <td>-1.2</td>\n",
              "      <td>-31.3</td>\n",
              "    </tr>\n",
              "    <tr>\n",
              "      <th>three</th>\n",
              "      <td>2016.0</td>\n",
              "      <td>lee</td>\n",
              "      <td>3.6</td>\n",
              "      <td>2.0</td>\n",
              "      <td>NaN</td>\n",
              "      <td>1.6</td>\n",
              "    </tr>\n",
              "    <tr>\n",
              "      <th>four</th>\n",
              "      <td>2015.0</td>\n",
              "      <td>park</td>\n",
              "      <td>2.4</td>\n",
              "      <td>44.0</td>\n",
              "      <td>-1.5</td>\n",
              "      <td>-41.6</td>\n",
              "    </tr>\n",
              "    <tr>\n",
              "      <th>five</th>\n",
              "      <td>2016.0</td>\n",
              "      <td>park</td>\n",
              "      <td>2.9</td>\n",
              "      <td>3.0</td>\n",
              "      <td>-1.7</td>\n",
              "      <td>-0.1</td>\n",
              "    </tr>\n",
              "    <tr>\n",
              "      <th>six</th>\n",
              "      <td>2013.0</td>\n",
              "      <td>June</td>\n",
              "      <td>4.0</td>\n",
              "      <td>0.1</td>\n",
              "      <td>2.1</td>\n",
              "      <td>2.0</td>\n",
              "    </tr>\n",
              "  </tbody>\n",
              "</table>\n",
              "</div>"
            ],
            "text/plain": [
              "         year  name  points  penalty  debt  high_points\n",
              "one    2014.0   lee     1.5      1.0   NaN          0.5\n",
              "two    2015.0   lee     1.7     33.0  -1.2        -31.3\n",
              "three  2016.0   lee     3.6      2.0   NaN          1.6\n",
              "four   2015.0  park     2.4     44.0  -1.5        -41.6\n",
              "five   2016.0  park     2.9      3.0  -1.7         -0.1\n",
              "six    2013.0  June     4.0      0.1   2.1          2.0"
            ]
          },
          "metadata": {
            "tags": []
          },
          "execution_count": 76
        }
      ]
    },
    {
      "cell_type": "code",
      "metadata": {
        "id": "z6v4xUl927va",
        "colab_type": "code",
        "outputId": "b5a6e55c-4956-4be3-b02c-66e80a16df53",
        "colab": {
          "base_uri": "https://localhost:8080/",
          "height": 134
        }
      },
      "source": [
        "# year가 2014보다 큰 boolean data\n",
        "df['year']>2014"
      ],
      "execution_count": 0,
      "outputs": [
        {
          "output_type": "execute_result",
          "data": {
            "text/plain": [
              "one      False\n",
              "two       True\n",
              "three     True\n",
              "four      True\n",
              "five      True\n",
              "six      False\n",
              "Name: year, dtype: bool"
            ]
          },
          "metadata": {
            "tags": []
          },
          "execution_count": 77
        }
      ]
    },
    {
      "cell_type": "code",
      "metadata": {
        "id": "uqzuXGkp3CcU",
        "colab_type": "code",
        "outputId": "2e4c3e47-6a29-4e1e-a361-1112ec9f2d1c",
        "colab": {
          "base_uri": "https://localhost:8080/",
          "height": 166
        }
      },
      "source": [
        "# year가 2014보다 큰 모든 행의 값\n",
        "df.loc[df['year']>2014 , :]\n",
        "#df.loc[df['year']>2014]\n",
        "#df[df['year']>2014]"
      ],
      "execution_count": 0,
      "outputs": [
        {
          "output_type": "execute_result",
          "data": {
            "text/html": [
              "<div>\n",
              "<style scoped>\n",
              "    .dataframe tbody tr th:only-of-type {\n",
              "        vertical-align: middle;\n",
              "    }\n",
              "\n",
              "    .dataframe tbody tr th {\n",
              "        vertical-align: top;\n",
              "    }\n",
              "\n",
              "    .dataframe thead th {\n",
              "        text-align: right;\n",
              "    }\n",
              "</style>\n",
              "<table border=\"1\" class=\"dataframe\">\n",
              "  <thead>\n",
              "    <tr style=\"text-align: right;\">\n",
              "      <th></th>\n",
              "      <th>year</th>\n",
              "      <th>name</th>\n",
              "      <th>points</th>\n",
              "      <th>penalty</th>\n",
              "      <th>debt</th>\n",
              "      <th>high_points</th>\n",
              "    </tr>\n",
              "  </thead>\n",
              "  <tbody>\n",
              "    <tr>\n",
              "      <th>two</th>\n",
              "      <td>2015.0</td>\n",
              "      <td>lee</td>\n",
              "      <td>1.7</td>\n",
              "      <td>33.0</td>\n",
              "      <td>-1.2</td>\n",
              "      <td>-31.3</td>\n",
              "    </tr>\n",
              "    <tr>\n",
              "      <th>three</th>\n",
              "      <td>2016.0</td>\n",
              "      <td>lee</td>\n",
              "      <td>3.6</td>\n",
              "      <td>2.0</td>\n",
              "      <td>NaN</td>\n",
              "      <td>1.6</td>\n",
              "    </tr>\n",
              "    <tr>\n",
              "      <th>four</th>\n",
              "      <td>2015.0</td>\n",
              "      <td>park</td>\n",
              "      <td>2.4</td>\n",
              "      <td>44.0</td>\n",
              "      <td>-1.5</td>\n",
              "      <td>-41.6</td>\n",
              "    </tr>\n",
              "    <tr>\n",
              "      <th>five</th>\n",
              "      <td>2016.0</td>\n",
              "      <td>park</td>\n",
              "      <td>2.9</td>\n",
              "      <td>3.0</td>\n",
              "      <td>-1.7</td>\n",
              "      <td>-0.1</td>\n",
              "    </tr>\n",
              "  </tbody>\n",
              "</table>\n",
              "</div>"
            ],
            "text/plain": [
              "         year  name  points  penalty  debt  high_points\n",
              "two    2015.0   lee     1.7     33.0  -1.2        -31.3\n",
              "three  2016.0   lee     3.6      2.0   NaN          1.6\n",
              "four   2015.0  park     2.4     44.0  -1.5        -41.6\n",
              "five   2016.0  park     2.9      3.0  -1.7         -0.1"
            ]
          },
          "metadata": {
            "tags": []
          },
          "execution_count": 78
        }
      ]
    },
    {
      "cell_type": "code",
      "metadata": {
        "id": "-eEqoexQ3LQa",
        "colab_type": "code",
        "outputId": "0ebc0239-13e7-423e-c914-21641668879d",
        "colab": {
          "base_uri": "https://localhost:8080/",
          "height": 136
        }
      },
      "source": [
        "#name이 lee  인 사람들중 points, penalty가져오기\n",
        "# df[df['name']=='lee']\n",
        "df.loc[df['name']=='lee',['points','penalty']]"
      ],
      "execution_count": 0,
      "outputs": [
        {
          "output_type": "execute_result",
          "data": {
            "text/html": [
              "<div>\n",
              "<style scoped>\n",
              "    .dataframe tbody tr th:only-of-type {\n",
              "        vertical-align: middle;\n",
              "    }\n",
              "\n",
              "    .dataframe tbody tr th {\n",
              "        vertical-align: top;\n",
              "    }\n",
              "\n",
              "    .dataframe thead th {\n",
              "        text-align: right;\n",
              "    }\n",
              "</style>\n",
              "<table border=\"1\" class=\"dataframe\">\n",
              "  <thead>\n",
              "    <tr style=\"text-align: right;\">\n",
              "      <th></th>\n",
              "      <th>points</th>\n",
              "      <th>penalty</th>\n",
              "    </tr>\n",
              "  </thead>\n",
              "  <tbody>\n",
              "    <tr>\n",
              "      <th>one</th>\n",
              "      <td>1.5</td>\n",
              "      <td>1.0</td>\n",
              "    </tr>\n",
              "    <tr>\n",
              "      <th>two</th>\n",
              "      <td>1.7</td>\n",
              "      <td>33.0</td>\n",
              "    </tr>\n",
              "    <tr>\n",
              "      <th>three</th>\n",
              "      <td>3.6</td>\n",
              "      <td>2.0</td>\n",
              "    </tr>\n",
              "  </tbody>\n",
              "</table>\n",
              "</div>"
            ],
            "text/plain": [
              "       points  penalty\n",
              "one       1.5      1.0\n",
              "two       1.7     33.0\n",
              "three     3.6      2.0"
            ]
          },
          "metadata": {
            "tags": []
          },
          "execution_count": 92
        }
      ]
    },
    {
      "cell_type": "code",
      "metadata": {
        "id": "KWQh4Y3w3TUi",
        "colab_type": "code",
        "outputId": "e12c9089-170d-4583-8335-0f8dd97db3ba",
        "colab": {
          "base_uri": "https://localhost:8080/",
          "height": 136
        }
      },
      "source": [
        "# numpy에서와 같이 논리연산을 응용할 수 있다.\n",
        "#points <1.7 or points>2.9\n",
        "\n",
        "df.loc[(df['points']<1.7) | (df['points']>2.9)]"
      ],
      "execution_count": 0,
      "outputs": [
        {
          "output_type": "execute_result",
          "data": {
            "text/html": [
              "<div>\n",
              "<style scoped>\n",
              "    .dataframe tbody tr th:only-of-type {\n",
              "        vertical-align: middle;\n",
              "    }\n",
              "\n",
              "    .dataframe tbody tr th {\n",
              "        vertical-align: top;\n",
              "    }\n",
              "\n",
              "    .dataframe thead th {\n",
              "        text-align: right;\n",
              "    }\n",
              "</style>\n",
              "<table border=\"1\" class=\"dataframe\">\n",
              "  <thead>\n",
              "    <tr style=\"text-align: right;\">\n",
              "      <th></th>\n",
              "      <th>year</th>\n",
              "      <th>name</th>\n",
              "      <th>points</th>\n",
              "      <th>penalty</th>\n",
              "      <th>debt</th>\n",
              "      <th>high_points</th>\n",
              "    </tr>\n",
              "  </thead>\n",
              "  <tbody>\n",
              "    <tr>\n",
              "      <th>one</th>\n",
              "      <td>2014.0</td>\n",
              "      <td>lee</td>\n",
              "      <td>1.5</td>\n",
              "      <td>1.0</td>\n",
              "      <td>NaN</td>\n",
              "      <td>0.5</td>\n",
              "    </tr>\n",
              "    <tr>\n",
              "      <th>three</th>\n",
              "      <td>2016.0</td>\n",
              "      <td>lee</td>\n",
              "      <td>3.6</td>\n",
              "      <td>2.0</td>\n",
              "      <td>NaN</td>\n",
              "      <td>1.6</td>\n",
              "    </tr>\n",
              "    <tr>\n",
              "      <th>six</th>\n",
              "      <td>2013.0</td>\n",
              "      <td>June</td>\n",
              "      <td>4.0</td>\n",
              "      <td>0.1</td>\n",
              "      <td>2.1</td>\n",
              "      <td>2.0</td>\n",
              "    </tr>\n",
              "  </tbody>\n",
              "</table>\n",
              "</div>"
            ],
            "text/plain": [
              "         year  name  points  penalty  debt  high_points\n",
              "one    2014.0   lee     1.5      1.0   NaN          0.5\n",
              "three  2016.0   lee     3.6      2.0   NaN          1.6\n",
              "six    2013.0  June     4.0      0.1   2.1          2.0"
            ]
          },
          "metadata": {
            "tags": []
          },
          "execution_count": 98
        }
      ]
    },
    {
      "cell_type": "code",
      "metadata": {
        "id": "ZKY96Gaf3iWE",
        "colab_type": "code",
        "colab": {}
      },
      "source": [
        "# 새로운 값을 대입할 수도 있다.\n"
      ],
      "execution_count": 0,
      "outputs": []
    },
    {
      "cell_type": "code",
      "metadata": {
        "id": "jLzAOnEA3vG1",
        "colab_type": "code",
        "colab": {}
      },
      "source": [
        ""
      ],
      "execution_count": 0,
      "outputs": []
    },
    {
      "cell_type": "code",
      "metadata": {
        "id": "scm4b7Bs3vlj",
        "colab_type": "code",
        "colab": {}
      },
      "source": [
        "# 5.Data"
      ],
      "execution_count": 0,
      "outputs": []
    },
    {
      "cell_type": "code",
      "metadata": {
        "id": "Gq0ze94j30gK",
        "colab_type": "code",
        "colab": {}
      },
      "source": [
        "# DataFrame을 만들 때 index, column을 설정하지 않으면 \n",
        "# 기본 값으로 0부터 시작하는 정수형 숫자로 입력된다.\n"
      ],
      "execution_count": 0,
      "outputs": []
    },
    {
      "cell_type": "code",
      "metadata": {
        "colab_type": "code",
        "id": "NVop2Vb5bvlM",
        "colab": {}
      },
      "source": [
        "# pandas에서 제공하는 date_range 함수는 datetime 자료형으로 구성된,\n",
        "# 날짜, 시각 등을 알 수 있는 자료형을 만드는 함수\n"
      ],
      "execution_count": 0,
      "outputs": []
    },
    {
      "cell_type": "code",
      "metadata": {
        "colab_type": "code",
        "id": "KbNjPQp9bu4O",
        "colab": {}
      },
      "source": [
        ""
      ],
      "execution_count": 0,
      "outputs": []
    },
    {
      "cell_type": "code",
      "metadata": {
        "id": "InV6qq0t4m5V",
        "colab_type": "code",
        "colab": {}
      },
      "source": [
        "# np.nan은 NaN값을 의미한다.\n"
      ],
      "execution_count": 0,
      "outputs": []
    },
    {
      "cell_type": "code",
      "metadata": {
        "id": "98HrKxPu4xvu",
        "colab_type": "code",
        "colab": {}
      },
      "source": [
        "# NaN 없애기"
      ],
      "execution_count": 0,
      "outputs": []
    },
    {
      "cell_type": "code",
      "metadata": {
        "id": "QvA5tYHO43Kz",
        "colab_type": "code",
        "colab": {}
      },
      "source": [
        "# 행의 값 중 하나라도 nan인 경우 그 행을 없앤다.\n"
      ],
      "execution_count": 0,
      "outputs": []
    },
    {
      "cell_type": "code",
      "metadata": {
        "id": "_m6pLtbK49X9",
        "colab_type": "code",
        "colab": {}
      },
      "source": [
        "# 행의 값이 모두 nan인 경우 그행을 없앤다.\n"
      ],
      "execution_count": 0,
      "outputs": []
    },
    {
      "cell_type": "code",
      "metadata": {
        "id": "oAA2DeztCIbg",
        "colab_type": "code",
        "colab": {}
      },
      "source": [
        "# 주의 drop함수는 특정 행 또는 열을 drop하고 난 DataFrame을 반환한다.\n",
        "# 즉, 반환을 받지 않으면 기존의 DataFrame은 그대로이다.\n",
        "# 아니면, inplace = True 라는 인자를 추가하여, 반환을 받지 않고서도\n",
        "# 기존의 DataFrame이 변경되도록 한다."
      ],
      "execution_count": 0,
      "outputs": []
    },
    {
      "cell_type": "code",
      "metadata": {
        "id": "WtiFmyH6Cr6z",
        "colab_type": "code",
        "colab": {}
      },
      "source": [
        "# nan 값에 값 넣기\n"
      ],
      "execution_count": 0,
      "outputs": []
    },
    {
      "cell_type": "code",
      "metadata": {
        "id": "3gyRO6v1DCoN",
        "colab_type": "code",
        "colab": {}
      },
      "source": [
        "# nan 값인지 확인하기\n"
      ],
      "execution_count": 0,
      "outputs": []
    },
    {
      "cell_type": "code",
      "metadata": {
        "id": "RfwsIjr0DS7Y",
        "colab_type": "code",
        "colab": {}
      },
      "source": [
        "# F열에서 nan값을 포함하는 행만 추출하기\n"
      ],
      "execution_count": 0,
      "outputs": []
    },
    {
      "cell_type": "code",
      "metadata": {
        "id": "egUpS_8BDpv5",
        "colab_type": "code",
        "colab": {}
      },
      "source": [
        ""
      ],
      "execution_count": 0,
      "outputs": []
    },
    {
      "cell_type": "code",
      "metadata": {
        "id": "6C3VBI_TDxpI",
        "colab_type": "code",
        "colab": {}
      },
      "source": [
        "# 특정 행 drop 하기\n"
      ],
      "execution_count": 0,
      "outputs": []
    },
    {
      "cell_type": "code",
      "metadata": {
        "id": "9AsQdKDNEIau",
        "colab_type": "code",
        "colab": {}
      },
      "source": [
        "# 2개 이상도 가능\n"
      ],
      "execution_count": 0,
      "outputs": []
    },
    {
      "cell_type": "code",
      "metadata": {
        "id": "J7RE6FddES8P",
        "colab_type": "code",
        "colab": {}
      },
      "source": [
        "# 특정 열 삭제하기\n"
      ],
      "execution_count": 0,
      "outputs": []
    },
    {
      "cell_type": "code",
      "metadata": {
        "id": "UuD2XlnlEbS3",
        "colab_type": "code",
        "colab": {}
      },
      "source": [
        "# 2개 이상의 열도 가능\n"
      ],
      "execution_count": 0,
      "outputs": []
    },
    {
      "cell_type": "code",
      "metadata": {
        "id": "EyIxcAOhEr_n",
        "colab_type": "code",
        "colab": {}
      },
      "source": [
        "# 6.Data 분석용 함수들"
      ],
      "execution_count": 0,
      "outputs": []
    },
    {
      "cell_type": "code",
      "metadata": {
        "id": "dWkWuPvwE6ne",
        "colab_type": "code",
        "colab": {}
      },
      "source": [
        "data = [[1.4, np.nan],\n",
        "       [7.1, -4.5],\n",
        "       [np.nan, np.nan],\n",
        "       [0.75, -1.3]]\n"
      ],
      "execution_count": 0,
      "outputs": []
    },
    {
      "cell_type": "code",
      "metadata": {
        "id": "GXCoY1E1Foa2",
        "colab_type": "code",
        "colab": {}
      },
      "source": [
        ""
      ],
      "execution_count": 0,
      "outputs": []
    },
    {
      "cell_type": "code",
      "metadata": {
        "id": "IhRcRp_aFo3T",
        "colab_type": "code",
        "colab": {}
      },
      "source": [
        "# 행 방향으로의 합(즉, 각 열의 합)\n"
      ],
      "execution_count": 0,
      "outputs": []
    },
    {
      "cell_type": "code",
      "metadata": {
        "id": "UO-_mu_mFv_6",
        "colab_type": "code",
        "colab": {}
      },
      "source": [
        "# 열방향으로의 합(즉, 각 행의 합)\n"
      ],
      "execution_count": 0,
      "outputs": []
    },
    {
      "cell_type": "code",
      "metadata": {
        "id": "rofpMHTKIHpW",
        "colab_type": "code",
        "colab": {}
      },
      "source": [
        "# 이 때, 위에서 볼 수 있듯이 NaN값은 배제하고 계산한다.\n",
        "# NaN 값을 배제하지 않고 계산하려면 아래와 같이 skipna에 대해 false를 지정해 준다."
      ],
      "execution_count": 0,
      "outputs": []
    },
    {
      "cell_type": "code",
      "metadata": {
        "id": "WgoXqVUTIk3P",
        "colab_type": "code",
        "colab": {}
      },
      "source": [
        ""
      ],
      "execution_count": 0,
      "outputs": []
    },
    {
      "cell_type": "code",
      "metadata": {
        "id": "MxtlryWaNufE",
        "colab_type": "code",
        "colab": {}
      },
      "source": [
        "# 특정 행 또는 특정 열에서만 계산하기\n"
      ],
      "execution_count": 0,
      "outputs": []
    },
    {
      "cell_type": "code",
      "metadata": {
        "id": "6fHmql3fNzhj",
        "colab_type": "code",
        "colab": {}
      },
      "source": [
        ""
      ],
      "execution_count": 0,
      "outputs": []
    },
    {
      "cell_type": "code",
      "metadata": {
        "id": "R1VJvidiN5XR",
        "colab_type": "code",
        "colab": {}
      },
      "source": [
        "# pandas에서 DataFrame에 적용되는 함수들\n",
        "# sum()함수 이외에도 pandas에서 DataFrame에 적용되는 함수는 다음의 것들이 있다.\n",
        "# count 전체 성분의(NaN이 아닌) 값의 갯수를 계산\n",
        "# min, max 전체 성분의 최솟, 최댓값을 계산\n",
        "# argmin, argmax 전체 성분의 최솟값, 최댓값이 위치한 (정수)인덱스를 반환\n",
        "# idxmin, idxmax 전체 인덱스 중 최솟값, 최댓값을 반환\n",
        "# quantile 전체 성분의 특정 사분위수에 해당하는 값을 반환 (0~1 사이)\n",
        "# sum 전체 성분의 합을 계산\n",
        "# mean 전체 성분의 평균을 계산\n",
        "# median 전체 성분의 중간값을 반환\n",
        "# mad 전체 성분의 평균값으로부터의 절대 편차(absolute deviation)의 평균을 계산\n",
        "# std, var 전체 성분의 표준편차, 분산을 계산\n",
        "# cumsum 맨 첫 번째 성분부터 각 성분까지의 누적합을 계산(0에서부터 계속 더해짐)\n",
        "# cumprod 맨 첫번째 성분부터 각 성분까지의 누적곱을 계산(1에서부터 계속 곱해짐)"
      ],
      "execution_count": 0,
      "outputs": []
    },
    {
      "cell_type": "code",
      "metadata": {
        "id": "U56BAq0JO6Ti",
        "colab_type": "code",
        "colab": {}
      },
      "source": [
        "df2 = pd.DataFrame(np.random.randn(6,4),\n",
        "                  columns=['A', 'B', 'C', 'D'],\n",
        "                  index = pd.date_range('20160701', periods=6))\n"
      ],
      "execution_count": 0,
      "outputs": []
    },
    {
      "cell_type": "code",
      "metadata": {
        "id": "3G2nQQUhPJb3",
        "colab_type": "code",
        "colab": {}
      },
      "source": [
        "# A열과 B열의 상관계수 구하기\n"
      ],
      "execution_count": 0,
      "outputs": []
    },
    {
      "cell_type": "code",
      "metadata": {
        "id": "a7EcR3sFPaOL",
        "colab_type": "code",
        "colab": {}
      },
      "source": [
        "# 정렬함수 및 기타함수"
      ],
      "execution_count": 0,
      "outputs": []
    },
    {
      "cell_type": "code",
      "metadata": {
        "id": "XcekbfrRPcwp",
        "colab_type": "code",
        "outputId": "c09e7492-0e7c-4a60-8def-8fa5772eae2b",
        "colab": {
          "base_uri": "https://localhost:8080/",
          "height": 232
        }
      },
      "source": [
        "dates = df2.index\n",
        "random_dates = np.random.permutation(dates)\n",
        "df2 = df2.reindex(index=random_dates, columns = ['D', 'B', 'C', 'A'])\n",
        "df2"
      ],
      "execution_count": 0,
      "outputs": [
        {
          "output_type": "execute_result",
          "data": {
            "text/html": [
              "<div>\n",
              "<style scoped>\n",
              "    .dataframe tbody tr th:only-of-type {\n",
              "        vertical-align: middle;\n",
              "    }\n",
              "\n",
              "    .dataframe tbody tr th {\n",
              "        vertical-align: top;\n",
              "    }\n",
              "\n",
              "    .dataframe thead th {\n",
              "        text-align: right;\n",
              "    }\n",
              "</style>\n",
              "<table border=\"1\" class=\"dataframe\">\n",
              "  <thead>\n",
              "    <tr style=\"text-align: right;\">\n",
              "      <th></th>\n",
              "      <th>D</th>\n",
              "      <th>B</th>\n",
              "      <th>C</th>\n",
              "      <th>A</th>\n",
              "    </tr>\n",
              "  </thead>\n",
              "  <tbody>\n",
              "    <tr>\n",
              "      <th>2016-07-05</th>\n",
              "      <td>0.932733</td>\n",
              "      <td>0.269832</td>\n",
              "      <td>-0.998379</td>\n",
              "      <td>-0.424055</td>\n",
              "    </tr>\n",
              "    <tr>\n",
              "      <th>2016-07-06</th>\n",
              "      <td>-0.487578</td>\n",
              "      <td>-0.282857</td>\n",
              "      <td>-0.648273</td>\n",
              "      <td>0.168039</td>\n",
              "    </tr>\n",
              "    <tr>\n",
              "      <th>2016-07-04</th>\n",
              "      <td>-0.649186</td>\n",
              "      <td>0.901783</td>\n",
              "      <td>-0.133759</td>\n",
              "      <td>1.198959</td>\n",
              "    </tr>\n",
              "    <tr>\n",
              "      <th>2016-07-01</th>\n",
              "      <td>-0.904026</td>\n",
              "      <td>0.041603</td>\n",
              "      <td>-0.009100</td>\n",
              "      <td>-0.978572</td>\n",
              "    </tr>\n",
              "    <tr>\n",
              "      <th>2016-07-02</th>\n",
              "      <td>0.511111</td>\n",
              "      <td>1.241189</td>\n",
              "      <td>-0.630021</td>\n",
              "      <td>0.828623</td>\n",
              "    </tr>\n",
              "    <tr>\n",
              "      <th>2016-07-03</th>\n",
              "      <td>-0.370081</td>\n",
              "      <td>0.894973</td>\n",
              "      <td>-1.348481</td>\n",
              "      <td>-0.639651</td>\n",
              "    </tr>\n",
              "  </tbody>\n",
              "</table>\n",
              "</div>"
            ],
            "text/plain": [
              "                   D         B         C         A\n",
              "2016-07-05  0.932733  0.269832 -0.998379 -0.424055\n",
              "2016-07-06 -0.487578 -0.282857 -0.648273  0.168039\n",
              "2016-07-04 -0.649186  0.901783 -0.133759  1.198959\n",
              "2016-07-01 -0.904026  0.041603 -0.009100 -0.978572\n",
              "2016-07-02  0.511111  1.241189 -0.630021  0.828623\n",
              "2016-07-03 -0.370081  0.894973 -1.348481 -0.639651"
            ]
          },
          "metadata": {
            "tags": []
          },
          "execution_count": 98
        }
      ]
    },
    {
      "cell_type": "code",
      "metadata": {
        "id": "oQ5O1W_2TRxp",
        "colab_type": "code",
        "colab": {}
      },
      "source": [
        "# index와 column의 순서가 섞여있다.\n",
        "# 이 때 index가 오름차순이 되도록 정렬해보자\n"
      ],
      "execution_count": 0,
      "outputs": []
    },
    {
      "cell_type": "code",
      "metadata": {
        "id": "M-pVL9eLUK5i",
        "colab_type": "code",
        "colab": {}
      },
      "source": [
        "# column을 기준으로?\n"
      ],
      "execution_count": 0,
      "outputs": []
    },
    {
      "cell_type": "code",
      "metadata": {
        "id": "-nCk0MKZUQt6",
        "colab_type": "code",
        "colab": {}
      },
      "source": [
        "# 내림차순으로는?\n"
      ],
      "execution_count": 0,
      "outputs": []
    },
    {
      "cell_type": "code",
      "metadata": {
        "id": "1R_1CL7OUWfH",
        "colab_type": "code",
        "colab": {}
      },
      "source": [
        "# 값 기준 정렬하기\n",
        "# D열의 값이 오름차순이 되도록 정렬하기\n"
      ],
      "execution_count": 0,
      "outputs": []
    },
    {
      "cell_type": "code",
      "metadata": {
        "id": "ggggvrMiUels",
        "colab_type": "code",
        "colab": {}
      },
      "source": [
        "# B열의 값이 내림차순이 되도록 정렬하기\n"
      ],
      "execution_count": 0,
      "outputs": []
    },
    {
      "cell_type": "code",
      "metadata": {
        "id": "fl0HbezNUmG4",
        "colab_type": "code",
        "colab": {}
      },
      "source": [
        ""
      ],
      "execution_count": 0,
      "outputs": []
    },
    {
      "cell_type": "code",
      "metadata": {
        "id": "raqmNnTSU62f",
        "colab_type": "code",
        "colab": {}
      },
      "source": [
        "# E열과 F열을 동시에 고려하여, 오름차순으로 하려면?\n"
      ],
      "execution_count": 0,
      "outputs": []
    },
    {
      "cell_type": "code",
      "metadata": {
        "id": "xQOgLWREVE4X",
        "colab_type": "code",
        "colab": {}
      },
      "source": [
        "# 지정한 행 또는 열에서 중복값을 제외한 유니크한 값만 얻기\n"
      ],
      "execution_count": 0,
      "outputs": []
    },
    {
      "cell_type": "code",
      "metadata": {
        "id": "vkkqN7KuVROa",
        "colab_type": "code",
        "colab": {}
      },
      "source": [
        "# 지정한 행 또는 열에서 값에 따른 개수 얻기\n"
      ],
      "execution_count": 0,
      "outputs": []
    },
    {
      "cell_type": "code",
      "metadata": {
        "id": "IUhRmZHRVWM6",
        "colab_type": "code",
        "colab": {}
      },
      "source": [
        "# 지정한 행 또는 열에서 입력한 값이 있는지 확인하기\n"
      ],
      "execution_count": 0,
      "outputs": []
    },
    {
      "cell_type": "code",
      "metadata": {
        "id": "hxARjK8YVhGa",
        "colab_type": "code",
        "colab": {}
      },
      "source": [
        "# F열의 값이 alpha나 beta인 모든 행 구하기\n"
      ],
      "execution_count": 0,
      "outputs": []
    },
    {
      "cell_type": "code",
      "metadata": {
        "id": "aZCi9VJTVrRA",
        "colab_type": "code",
        "colab": {}
      },
      "source": [
        "# 사용자가 직접 만든 함수를 적용하기\n"
      ],
      "execution_count": 0,
      "outputs": []
    },
    {
      "cell_type": "code",
      "metadata": {
        "id": "S8TH-3nnV-lM",
        "colab_type": "code",
        "colab": {}
      },
      "source": [
        ""
      ],
      "execution_count": 0,
      "outputs": []
    },
    {
      "cell_type": "code",
      "metadata": {
        "id": "MyKS858_WE0Y",
        "colab_type": "code",
        "colab": {}
      },
      "source": [
        ""
      ],
      "execution_count": 0,
      "outputs": []
    }
  ]
}