{
  "nbformat": 4,
  "nbformat_minor": 0,
  "metadata": {
    "colab": {
      "name": "전은정_딕셔너리.ipynb의 사본",
      "version": "0.3.2",
      "provenance": [],
      "collapsed_sections": [],
      "include_colab_link": true
    },
    "kernelspec": {
      "name": "python3",
      "display_name": "Python 3"
    }
  },
  "cells": [
    {
      "cell_type": "markdown",
      "metadata": {
        "id": "view-in-github",
        "colab_type": "text"
      },
      "source": [
        "<a href=\"https://colab.research.google.com/github/yourchikorita/python/blob/master/%EC%A0%84%EC%9D%80%EC%A0%95_%EB%94%95%EC%85%94%EB%84%88%EB%A6%AC_ipynb%EC%9D%98_%EC%82%AC%EB%B3%B8.ipynb\" target=\"_parent\"><img src=\"https://colab.research.google.com/assets/colab-badge.svg\" alt=\"Open In Colab\"/></a>"
      ]
    },
    {
      "cell_type": "markdown",
      "metadata": {
        "id": "u53AJoRxglju",
        "colab_type": "text"
      },
      "source": [
        "# 4.딕셔너리\n",
        "딕셔너리도 여러개의 값을 담는 변수입니다."
      ]
    },
    {
      "cell_type": "markdown",
      "metadata": {
        "id": "06uU7V3SgvSj",
        "colab_type": "text"
      },
      "source": [
        "## 4-1.딕셔너리 형식\n",
        "<pre>\n",
        "* 형식 :\n",
        "  딕셔너리이름 = {'key값1':'value값1', 'key값2':'value값2', 'key값3':'value값3', ...}\n",
        "  딕셔너리이름 = {}\n",
        "\n",
        "\n",
        "* 리스트 이름으로 안되는 것들 : \n",
        "  - if, def, class, while, for, else 등의 예약어\n",
        "  - 숫자로 시작하는 것\n",
        "  ex) 1a, 3name, ...\n",
        "\n",
        "\n",
        "* 딕셔너리의 특징\n",
        "  1.key값과 value값의 쌍 형태\n",
        "  2.인덱스(순번)을 가지지 않음\n",
        "  3.인덱스 대신 key값으로 value를 불러옴\n",
        "  4.수정 가능\n",
        "\n",
        "\n",
        "\n",
        "  \n",
        "  \n"
      ]
    },
    {
      "cell_type": "markdown",
      "metadata": {
        "id": "oOtdS835kEq8",
        "colab_type": "text"
      },
      "source": [
        "## 4-2.딕셔너리 사용법\n",
        "<pre>\n",
        "딕셔너리를 사용하면 이런 것을 할 수 있습니다.\n",
        "가령\n",
        "방탄 소년단 멤버와 그들의 나이가 있을 수 있지요.\n",
        "이를 한 번에 담아 둘 수 없을까요?\n",
        "이 때 유용한 것이 딕셔너리 입니다."
      ]
    },
    {
      "cell_type": "markdown",
      "metadata": {
        "id": "koQnBTFPw_-4",
        "colab_type": "text"
      },
      "source": [
        "#### 딕셔너리 만들기"
      ]
    },
    {
      "cell_type": "code",
      "metadata": {
        "id": "niFgTyu-NhxM",
        "colab_type": "code",
        "colab": {}
      },
      "source": [
        "# 빈 딕셔너리\n",
        "dict1 = {}"
      ],
      "execution_count": 0,
      "outputs": []
    },
    {
      "cell_type": "code",
      "metadata": {
        "id": "B0X_xxxZpsPV",
        "colab_type": "code",
        "colab": {}
      },
      "source": [
        "colors = {'red':3, 'blue':2, 'yellow':7}"
      ],
      "execution_count": 0,
      "outputs": []
    },
    {
      "cell_type": "code",
      "metadata": {
        "id": "FnD5RrtAx10E",
        "colab_type": "code",
        "colab": {}
      },
      "source": [
        "# BTS의 이름을 key로 나이를 value로 만든 딕셔너리\n",
        "a = {'진':'22', '슈가':'5','제이홉':'66'}"
      ],
      "execution_count": 0,
      "outputs": []
    },
    {
      "cell_type": "markdown",
      "metadata": {
        "id": "cv7DRFGs6-Y0",
        "colab_type": "text"
      },
      "source": [
        "#### key값으로 value 가져오기\n",
        "<pre>\n",
        "*사용법:\n",
        "딕셔너리명[key값]\n"
      ]
    },
    {
      "cell_type": "code",
      "metadata": {
        "id": "Rm0EWMTZ7Dba",
        "colab_type": "code",
        "outputId": "1d637ca3-e8d3-4714-8755-a22e7ca23c2f",
        "colab": {
          "base_uri": "https://localhost:8080/",
          "height": 34
        }
      },
      "source": [
        "# key값 '진'으로 value값 가져오기\n",
        "print(a['진'])"
      ],
      "execution_count": 0,
      "outputs": [
        {
          "output_type": "stream",
          "text": [
            "22\n"
          ],
          "name": "stdout"
        }
      ]
    },
    {
      "cell_type": "code",
      "metadata": {
        "id": "j2n6rZ0XQZw2",
        "colab_type": "code",
        "outputId": "4c0809cd-729a-414c-cfdb-71e80e53e6f5",
        "colab": {
          "base_uri": "https://localhost:8080/",
          "height": 34
        }
      },
      "source": [
        "# key값 '슈가', '제이홉'으로 value값 가져오기\n",
        "print(a['슈가'],a['제이홉'])"
      ],
      "execution_count": 0,
      "outputs": [
        {
          "output_type": "stream",
          "text": [
            "5 66\n"
          ],
          "name": "stdout"
        }
      ]
    },
    {
      "cell_type": "code",
      "metadata": {
        "id": "9QctELzaE3HK",
        "colab_type": "code",
        "colab": {}
      },
      "source": [
        "a = {'name':'John', 'loc':'LA', 'phone':'01012341234'}"
      ],
      "execution_count": 0,
      "outputs": []
    },
    {
      "cell_type": "code",
      "metadata": {
        "id": "OvfrCnlfP5oM",
        "colab_type": "code",
        "outputId": "6fec5aa8-aa45-4470-8418-2a7aae021745",
        "colab": {
          "base_uri": "https://localhost:8080/",
          "height": 34
        }
      },
      "source": [
        "print(a['name'])"
      ],
      "execution_count": 0,
      "outputs": [
        {
          "output_type": "stream",
          "text": [
            "John\n"
          ],
          "name": "stdout"
        }
      ]
    },
    {
      "cell_type": "markdown",
      "metadata": {
        "id": "y8WQvw37PLMs",
        "colab_type": "text"
      },
      "source": [
        "### value 값으로 리스트 넣기/ value 값 가져오기"
      ]
    },
    {
      "cell_type": "code",
      "metadata": {
        "id": "Lh2FNgz4PZmb",
        "colab_type": "code",
        "outputId": "6ef8b72a-7471-4e35-bb27-e991dbe9d630",
        "colab": {
          "base_uri": "https://localhost:8080/",
          "height": 50
        }
      },
      "source": [
        "a=['철수','민수','민지']\n",
        "b=['서울','부산','대전']\n",
        "c=['121212','131313','454545']\n",
        "\n",
        "contact = {'이름':a,'지역':b,'번호':c}\n",
        "print(contact['이름'])\n",
        "print(contact['지역'])"
      ],
      "execution_count": 0,
      "outputs": [
        {
          "output_type": "stream",
          "text": [
            "['철수', '민수', '민지']\n",
            "['서울', '부산', '대전']\n"
          ],
          "name": "stdout"
        }
      ]
    },
    {
      "cell_type": "code",
      "metadata": {
        "id": "9t11XOZyRggE",
        "colab_type": "code",
        "colab": {}
      },
      "source": [
        ""
      ],
      "execution_count": 0,
      "outputs": []
    },
    {
      "cell_type": "markdown",
      "metadata": {
        "id": "bWZozr0t8XqI",
        "colab_type": "text"
      },
      "source": [
        "### 딕셔너리 주의 사항\n",
        "* key값은 동일하면 안됨\n",
        "\n",
        "* key값으로 리스트가 올 수 없음. "
      ]
    },
    {
      "cell_type": "code",
      "metadata": {
        "id": "nCK7lIJdHfCw",
        "colab_type": "code",
        "colab": {}
      },
      "source": [
        "a = {'이름':'kim', '이름':'lee'}"
      ],
      "execution_count": 0,
      "outputs": []
    },
    {
      "cell_type": "code",
      "metadata": {
        "id": "f3SMGt-c8iot",
        "colab_type": "code",
        "colab": {}
      },
      "source": [
        ""
      ],
      "execution_count": 0,
      "outputs": []
    },
    {
      "cell_type": "markdown",
      "metadata": {
        "id": "hw6dqK4w80vf",
        "colab_type": "text"
      },
      "source": [
        "### key값들을 리스트로 만들기(keys() 함수)\n",
        "key값들만 모아서 리스트처럼 만들 수 있습니다.\n",
        "\n",
        "<pre>\n",
        "*사용법:\n",
        "딕셔너리명.keys()"
      ]
    },
    {
      "cell_type": "code",
      "metadata": {
        "id": "EbyqJ3-eHWxj",
        "colab_type": "code",
        "colab": {}
      },
      "source": [
        "a = {'이름':'kim', '나이':24, '지역':'서울'}"
      ],
      "execution_count": 0,
      "outputs": []
    },
    {
      "cell_type": "code",
      "metadata": {
        "id": "yq8Qc6Dg9ITf",
        "colab_type": "code",
        "outputId": "639c6292-2dcf-44b5-df33-8e66de21f760",
        "colab": {
          "base_uri": "https://localhost:8080/",
          "height": 34
        }
      },
      "source": [
        "a.keys()"
      ],
      "execution_count": 0,
      "outputs": [
        {
          "output_type": "execute_result",
          "data": {
            "text/plain": [
              "dict_keys(['진', '슈가', '제이홉'])"
            ]
          },
          "metadata": {
            "tags": []
          },
          "execution_count": 24
        }
      ]
    },
    {
      "cell_type": "markdown",
      "metadata": {
        "id": "R4oZI8pl9Zpv",
        "colab_type": "text"
      },
      "source": [
        "리스트 같지만 리스트의 함수들인 append, insert, remove 등은 사용할 수 없음."
      ]
    },
    {
      "cell_type": "markdown",
      "metadata": {
        "id": "4Kgbu0xt9y2I",
        "colab_type": "text"
      },
      "source": [
        "dict_keys를 리스트로 바꾸려면\n",
        "\n",
        "list를 만들어주는 list()함수를 사용하면 됩니다.\n",
        "\n",
        "리스트명 = list(값)"
      ]
    },
    {
      "cell_type": "code",
      "metadata": {
        "id": "Rl6XiEkVJMf6",
        "colab_type": "code",
        "colab": {}
      },
      "source": [
        "a = {'이름':'kim', '나이':24, '지역':'서울'}"
      ],
      "execution_count": 0,
      "outputs": []
    },
    {
      "cell_type": "code",
      "metadata": {
        "id": "27LU2l45-A_r",
        "colab_type": "code",
        "outputId": "8dba71a3-dd01-4fc3-efc9-afeafb83e9c2",
        "colab": {
          "base_uri": "https://localhost:8080/",
          "height": 50
        }
      },
      "source": [
        "# list함수로 리스트로 만들어 list1에 저장\n",
        "list1=list(a.keys())\n",
        "print(list1)\n",
        "type(list1)"
      ],
      "execution_count": 0,
      "outputs": [
        {
          "output_type": "stream",
          "text": [
            "['이름', '나이', '지역']\n"
          ],
          "name": "stdout"
        },
        {
          "output_type": "execute_result",
          "data": {
            "text/plain": [
              "list"
            ]
          },
          "metadata": {
            "tags": []
          },
          "execution_count": 28
        }
      ]
    },
    {
      "cell_type": "code",
      "metadata": {
        "id": "oqA06WC5-WgO",
        "colab_type": "code",
        "colab": {}
      },
      "source": [
        ""
      ],
      "execution_count": 0,
      "outputs": []
    },
    {
      "cell_type": "markdown",
      "metadata": {
        "id": "JCE6oUhA-fFb",
        "colab_type": "text"
      },
      "source": [
        "이제 append, insert, remove 등의 함수를 사용할 수 있습니다."
      ]
    },
    {
      "cell_type": "markdown",
      "metadata": {
        "id": "dbkEaqjz-lrb",
        "colab_type": "text"
      },
      "source": [
        "### value 값들을 리스트로 만들기(values() 함수)\n",
        "keys() 함수처럼 사용하면 됩니다.\n",
        "\n",
        "values()를 사용합시다."
      ]
    },
    {
      "cell_type": "code",
      "metadata": {
        "id": "piymW2sDIO3U",
        "colab_type": "code",
        "colab": {}
      },
      "source": [
        "a = {'이름':'kim', '나이':24, '지역':'서울'}"
      ],
      "execution_count": 0,
      "outputs": []
    },
    {
      "cell_type": "code",
      "metadata": {
        "id": "A6prdviZ_Ibb",
        "colab_type": "code",
        "outputId": "d981c86d-be88-4aeb-fead-733454a6f042",
        "colab": {
          "base_uri": "https://localhost:8080/",
          "height": 34
        }
      },
      "source": [
        "a.values()"
      ],
      "execution_count": 0,
      "outputs": [
        {
          "output_type": "execute_result",
          "data": {
            "text/plain": [
              "dict_values(['kim', 24, '서울'])"
            ]
          },
          "metadata": {
            "tags": []
          },
          "execution_count": 29
        }
      ]
    },
    {
      "cell_type": "markdown",
      "metadata": {
        "id": "tRW9A_Xg_PlW",
        "colab_type": "text"
      },
      "source": [
        "리스트 같지만 리스트 아닌 이것을\n",
        "\n",
        "list() 함수를 이용해서 바꿔줍시다."
      ]
    },
    {
      "cell_type": "code",
      "metadata": {
        "id": "pEIDnq0VJbLo",
        "colab_type": "code",
        "colab": {}
      },
      "source": [
        "a = {'이름':'kim', '나이':24, '지역':'서울'}\n"
      ],
      "execution_count": 0,
      "outputs": []
    },
    {
      "cell_type": "code",
      "metadata": {
        "id": "3kNwyzqs_Y_1",
        "colab_type": "code",
        "outputId": "5d7fad6c-4dd4-4829-e1a6-c42e633a07f5",
        "colab": {
          "base_uri": "https://localhost:8080/",
          "height": 34
        }
      },
      "source": [
        "# list() 함수를 적용하여 list로 만들어 list2라는 이름으로 저장\n",
        "list2=list(a.values())\n",
        "type(list2)\n",
        "print(list2)"
      ],
      "execution_count": 0,
      "outputs": [
        {
          "output_type": "stream",
          "text": [
            "['kim', 24, '서울']\n"
          ],
          "name": "stdout"
        }
      ]
    },
    {
      "cell_type": "code",
      "metadata": {
        "id": "y8OZbDif_fji",
        "colab_type": "code",
        "colab": {}
      },
      "source": [
        ""
      ],
      "execution_count": 0,
      "outputs": []
    },
    {
      "cell_type": "markdown",
      "metadata": {
        "id": "y4-ffPfh_g9i",
        "colab_type": "text"
      },
      "source": [
        "### key, value 쌍 얻기(items() 함수)\n",
        "<pre>\n",
        "*사용법:\n",
        "딕셔너리명.items()"
      ]
    },
    {
      "cell_type": "code",
      "metadata": {
        "id": "WvX5_7aoJcj4",
        "colab_type": "code",
        "colab": {}
      },
      "source": [
        "a = {'이름':'kim', '나이':24, '지역':'서울'}"
      ],
      "execution_count": 0,
      "outputs": []
    },
    {
      "cell_type": "code",
      "metadata": {
        "id": "AIOgTyb8AFow",
        "colab_type": "code",
        "outputId": "f759ec61-630c-49e3-c0ce-7651781fa016",
        "colab": {
          "base_uri": "https://localhost:8080/",
          "height": 34
        }
      },
      "source": [
        "a.items()"
      ],
      "execution_count": 0,
      "outputs": [
        {
          "output_type": "execute_result",
          "data": {
            "text/plain": [
              "dict_items([('이름', 'kim'), ('나이', 24), ('지역', '서울')])"
            ]
          },
          "metadata": {
            "tags": []
          },
          "execution_count": 31
        }
      ]
    },
    {
      "cell_type": "markdown",
      "metadata": {
        "id": "DXEePYk7ASvb",
        "colab_type": "text"
      },
      "source": [
        "마찬가지로 list()함수를 이용해서 리스트로 만들 수 있습니다."
      ]
    },
    {
      "cell_type": "code",
      "metadata": {
        "id": "ZzLO5U95JeEK",
        "colab_type": "code",
        "colab": {}
      },
      "source": [
        "a = {'이름':'kim', '나이':24, '지역':'서울'}"
      ],
      "execution_count": 0,
      "outputs": []
    },
    {
      "cell_type": "code",
      "metadata": {
        "id": "YXAFqayEAIvI",
        "colab_type": "code",
        "outputId": "f5c92a95-a0ec-499d-dfac-4a8b94e7806b",
        "colab": {
          "base_uri": "https://localhost:8080/",
          "height": 34
        }
      },
      "source": [
        "mylist=list(a.items())\n",
        "print(mylist)"
      ],
      "execution_count": 0,
      "outputs": [
        {
          "output_type": "stream",
          "text": [
            "[('이름', 'kim'), ('나이', 24), ('지역', '서울')]\n"
          ],
          "name": "stdout"
        }
      ]
    },
    {
      "cell_type": "markdown",
      "metadata": {
        "id": "9xLSLW-vAPNS",
        "colab_type": "text"
      },
      "source": [
        "### key, value쌍 모두 지우기(clear() 함수)\n",
        "<pre>\n",
        "*사용법:\n",
        "딕셔너리명.clear()"
      ]
    },
    {
      "cell_type": "code",
      "metadata": {
        "id": "ZRBSc5r4JiSJ",
        "colab_type": "code",
        "colab": {}
      },
      "source": [
        "a = {'이름':'kim', '나이':24, '지역':'서울'}"
      ],
      "execution_count": 0,
      "outputs": []
    },
    {
      "cell_type": "code",
      "metadata": {
        "id": "p6nCpUS9AwAu",
        "colab_type": "code",
        "colab": {}
      },
      "source": [
        "a.clear()\n"
      ],
      "execution_count": 0,
      "outputs": []
    },
    {
      "cell_type": "code",
      "metadata": {
        "id": "4Xp3J_AaA49P",
        "colab_type": "code",
        "outputId": "cebec478-a66c-4901-808f-4258116636b0",
        "colab": {
          "base_uri": "https://localhost:8080/",
          "height": 34
        }
      },
      "source": [
        "print(a)"
      ],
      "execution_count": 0,
      "outputs": [
        {
          "output_type": "stream",
          "text": [
            "{}\n"
          ],
          "name": "stdout"
        }
      ]
    },
    {
      "cell_type": "code",
      "metadata": {
        "id": "fM1xNuJbA6Zo",
        "colab_type": "code",
        "outputId": "2052bb7d-87f6-43c0-fb88-0f2856038dd4",
        "colab": {
          "base_uri": "https://localhost:8080/",
          "height": 34
        }
      },
      "source": [
        ""
      ],
      "execution_count": 0,
      "outputs": [
        {
          "output_type": "stream",
          "text": [
            "{}\n"
          ],
          "name": "stdout"
        }
      ]
    },
    {
      "cell_type": "markdown",
      "metadata": {
        "id": "rJzM4Fm0A7hV",
        "colab_type": "text"
      },
      "source": [
        "### 해당 key가 딕셔너리 안에 있는지 조사하기\n",
        "<pre>\n",
        "* 사용법:\n",
        "key값 in 딕셔너리"
      ]
    },
    {
      "cell_type": "code",
      "metadata": {
        "id": "aeqyS4ecCsse",
        "colab_type": "code",
        "colab": {}
      },
      "source": [
        "z = {'name':1, 'loc':2, 'age':3}"
      ],
      "execution_count": 0,
      "outputs": []
    },
    {
      "cell_type": "code",
      "metadata": {
        "id": "qfwtI9hOC4Tw",
        "colab_type": "code",
        "outputId": "451ead8e-a87a-4d8c-c61c-ddf8f67a1d85",
        "colab": {
          "base_uri": "https://localhost:8080/",
          "height": 34
        }
      },
      "source": [
        "'name' in z"
      ],
      "execution_count": 0,
      "outputs": [
        {
          "output_type": "execute_result",
          "data": {
            "text/plain": [
              "True"
            ]
          },
          "metadata": {
            "tags": []
          },
          "execution_count": 36
        }
      ]
    },
    {
      "cell_type": "code",
      "metadata": {
        "id": "21m7fYfWC6yc",
        "colab_type": "code",
        "colab": {}
      },
      "source": [
        ""
      ],
      "execution_count": 0,
      "outputs": []
    },
    {
      "cell_type": "markdown",
      "metadata": {
        "id": "6yfqSEStDAV0",
        "colab_type": "text"
      },
      "source": [
        "True 는 있음\n",
        "\n",
        "False는 없음"
      ]
    },
    {
      "cell_type": "code",
      "metadata": {
        "id": "doNnhz6WGKqG",
        "colab_type": "code",
        "colab": {}
      },
      "source": [
        ""
      ],
      "execution_count": 0,
      "outputs": []
    }
  ]
}