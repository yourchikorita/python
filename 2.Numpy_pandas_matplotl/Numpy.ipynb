{
  "nbformat": 4,
  "nbformat_minor": 0,
  "metadata": {
    "colab": {
      "name": "Numpy_전은정.ipynb의 사본",
      "version": "0.3.2",
      "provenance": [],
      "collapsed_sections": []
    },
    "kernelspec": {
      "name": "python3",
      "display_name": "Python 3"
    }
  },
  "cells": [
    {
      "cell_type": "markdown",
      "metadata": {
        "id": "ozbyd7-xv14o",
        "colab_type": "text"
      },
      "source": [
        "# Numpy 기초\n",
        "\n",
        "파이썬 데이터 분석의 3대 라이브러리: \n",
        "* Numpy : 배열, 행열을 다룸\n",
        "* Pandas : 엑셀와 같은 데이터프레임을 다룸\n",
        "* Matplotlib : 시각화\n",
        "\n",
        "https://numpy.org/\n"
      ]
    },
    {
      "cell_type": "code",
      "metadata": {
        "id": "ohGqPaRBwHJz",
        "colab_type": "code",
        "colab": {}
      },
      "source": [
        "# numpy 라이브러리 임포트(불러오기)\n",
        "import numpy as np"
      ],
      "execution_count": 0,
      "outputs": []
    },
    {
      "cell_type": "code",
      "metadata": {
        "id": "yh8TbOvbwvw7",
        "colab_type": "code",
        "outputId": "847438a4-e5aa-4f3e-bbcf-c0cc62a05237",
        "colab": {
          "base_uri": "https://localhost:8080/",
          "height": 34
        }
      },
      "source": [
        "# 2. Array 정의 및 사용하기\n",
        "# 리스트와 어레이(배열)의 차이\n",
        "data1=[1,2,3,4,5]\n",
        "data1"
      ],
      "execution_count": 0,
      "outputs": [
        {
          "output_type": "execute_result",
          "data": {
            "text/plain": [
              "[1, 2, 3, 4, 5]"
            ]
          },
          "metadata": {
            "tags": []
          },
          "execution_count": 2
        }
      ]
    },
    {
      "cell_type": "code",
      "metadata": {
        "id": "Givvie4ixkcj",
        "colab_type": "code",
        "colab": {}
      },
      "source": [
        "data2=[1,2,3,4,5]"
      ],
      "execution_count": 0,
      "outputs": []
    },
    {
      "cell_type": "code",
      "metadata": {
        "id": "idXI6ry2w8Mr",
        "colab_type": "code",
        "outputId": "a7a1cfac-5b90-43e9-edb9-48d477ead377",
        "colab": {
          "base_uri": "https://localhost:8080/",
          "height": 34
        }
      },
      "source": [
        "# Numpy를 이용하여 array 정의하기\n",
        "# 2-1. 위에서 만든 python list를 이용\n",
        "arr1=np.array(data1)\n",
        "print(arr1)"
      ],
      "execution_count": 0,
      "outputs": [
        {
          "output_type": "stream",
          "text": [
            "[1 2 3 4 5]\n"
          ],
          "name": "stdout"
        }
      ]
    },
    {
      "cell_type": "code",
      "metadata": {
        "id": "eBkVZkElxF4x",
        "colab_type": "code",
        "outputId": "c32dd6fa-bdb6-4639-e82f-3d9510abd268",
        "colab": {
          "base_uri": "https://localhost:8080/",
          "height": 34
        }
      },
      "source": [
        "# array의 형태(크기) 확인\n",
        "arr1.shape"
      ],
      "execution_count": 0,
      "outputs": [
        {
          "output_type": "execute_result",
          "data": {
            "text/plain": [
              "(5,)"
            ]
          },
          "metadata": {
            "tags": []
          },
          "execution_count": 5
        }
      ]
    },
    {
      "cell_type": "code",
      "metadata": {
        "id": "HCAh5cpgP5Xe",
        "colab_type": "code",
        "outputId": "bbb5fbd1-0ff6-4e40-c3cf-a77e4f540b42",
        "colab": {
          "base_uri": "https://localhost:8080/",
          "height": 162
        }
      },
      "source": [
        "a=np.array([[1,2,3],[1[2]]])\n"
      ],
      "execution_count": 0,
      "outputs": [
        {
          "output_type": "error",
          "ename": "TypeError",
          "evalue": "ignored",
          "traceback": [
            "\u001b[0;31m---------------------------------------------------------------------------\u001b[0m",
            "\u001b[0;31mTypeError\u001b[0m                                 Traceback (most recent call last)",
            "\u001b[0;32m<ipython-input-28-a48a1a153afa>\u001b[0m in \u001b[0;36m<module>\u001b[0;34m()\u001b[0m\n\u001b[0;32m----> 1\u001b[0;31m \u001b[0ma\u001b[0m\u001b[0;34m=\u001b[0m\u001b[0mnp\u001b[0m\u001b[0;34m.\u001b[0m\u001b[0marray\u001b[0m\u001b[0;34m(\u001b[0m\u001b[0;34m[\u001b[0m\u001b[0;34m[\u001b[0m\u001b[0;36m1\u001b[0m\u001b[0;34m,\u001b[0m\u001b[0;36m2\u001b[0m\u001b[0;34m,\u001b[0m\u001b[0;36m3\u001b[0m\u001b[0;34m]\u001b[0m\u001b[0;34m,\u001b[0m\u001b[0;34m[\u001b[0m\u001b[0;36m1\u001b[0m\u001b[0;34m[\u001b[0m\u001b[0;36m2\u001b[0m\u001b[0;34m]\u001b[0m\u001b[0;34m]\u001b[0m\u001b[0;34m]\u001b[0m\u001b[0;34m)\u001b[0m\u001b[0;34m\u001b[0m\u001b[0;34m\u001b[0m\u001b[0m\n\u001b[0m",
            "\u001b[0;31mTypeError\u001b[0m: 'int' object is not subscriptable"
          ]
        }
      ]
    },
    {
      "cell_type": "code",
      "metadata": {
        "id": "2pMkV7jjxKj-",
        "colab_type": "code",
        "outputId": "f6328b5e-a42d-4b34-afd3-b1608f24a50a",
        "colab": {
          "base_uri": "https://localhost:8080/",
          "height": 34
        }
      },
      "source": [
        "# 2-2. 바로 python list를 넣어 줌으로써 만들기\n",
        "arr2=np.array([1,2,3,4,5])\n",
        "print(arr2)"
      ],
      "execution_count": 0,
      "outputs": [
        {
          "output_type": "stream",
          "text": [
            "[1 2 3 4 5]\n"
          ],
          "name": "stdout"
        }
      ]
    },
    {
      "cell_type": "code",
      "metadata": {
        "id": "GJSWdT4SxVoQ",
        "colab_type": "code",
        "outputId": "cc13bd2a-9942-4a08-eece-53f54ea7eb84",
        "colab": {
          "base_uri": "https://localhost:8080/",
          "height": 34
        }
      },
      "source": [
        "# 크기 찍어보기\n",
        "arr2.shape"
      ],
      "execution_count": 0,
      "outputs": [
        {
          "output_type": "execute_result",
          "data": {
            "text/plain": [
              "(5,)"
            ]
          },
          "metadata": {
            "tags": []
          },
          "execution_count": 9
        }
      ]
    },
    {
      "cell_type": "code",
      "metadata": {
        "id": "jN7FQ7k0xYi2",
        "colab_type": "code",
        "outputId": "b6b92000-f3bb-4bf8-eb4b-2c736fca6a19",
        "colab": {
          "base_uri": "https://localhost:8080/",
          "height": 34
        }
      },
      "source": [
        "# array의 자료형을 확인\n",
        "arr2.dtype"
      ],
      "execution_count": 0,
      "outputs": [
        {
          "output_type": "execute_result",
          "data": {
            "text/plain": [
              "dtype('int64')"
            ]
          },
          "metadata": {
            "tags": []
          },
          "execution_count": 10
        }
      ]
    },
    {
      "cell_type": "code",
      "metadata": {
        "id": "9TG57Wc_xdon",
        "colab_type": "code",
        "outputId": "b805d999-1ce1-412a-a3a8-b50d9d46377f",
        "colab": {
          "base_uri": "https://localhost:8080/",
          "height": 67
        }
      },
      "source": [
        "data2=[1,2,3.5,6]\n",
        "arr2=np.array(data2)\n",
        "print(arr2.dtype)\n",
        "print(arr2.shape)\n",
        "print(arr2)\n"
      ],
      "execution_count": 0,
      "outputs": [
        {
          "output_type": "stream",
          "text": [
            "float64\n",
            "(4,)\n",
            "[1.  2.  3.5 6. ]\n"
          ],
          "name": "stdout"
        }
      ]
    },
    {
      "cell_type": "code",
      "metadata": {
        "id": "5OxNj8mYzk-J",
        "colab_type": "code",
        "outputId": "7246fe44-a219-4b3a-c01a-c4e106b67a15",
        "colab": {
          "base_uri": "https://localhost:8080/",
          "height": 34
        }
      },
      "source": [
        "data2"
      ],
      "execution_count": 0,
      "outputs": [
        {
          "output_type": "execute_result",
          "data": {
            "text/plain": [
              "[1, 2, 3.5, 6]"
            ]
          },
          "metadata": {
            "tags": []
          },
          "execution_count": 25
        }
      ]
    },
    {
      "cell_type": "code",
      "metadata": {
        "id": "wTxJUUnTzy1M",
        "colab_type": "code",
        "outputId": "947729f1-2e07-4c85-c307-c3c8aad7bb7a",
        "colab": {
          "base_uri": "https://localhost:8080/",
          "height": 34
        }
      },
      "source": [
        "arr44=np.array([[1,2,3],[4,5,6],[10,33,12]])\n",
        "\n",
        "arr44.shape"
      ],
      "execution_count": 0,
      "outputs": [
        {
          "output_type": "execute_result",
          "data": {
            "text/plain": [
              "(3, 3)"
            ]
          },
          "metadata": {
            "tags": []
          },
          "execution_count": 31
        }
      ]
    },
    {
      "cell_type": "code",
      "metadata": {
        "id": "GCFBRHycxsxK",
        "colab_type": "code",
        "outputId": "7a4a633b-9d2a-4506-cf30-1d081c5a32dc",
        "colab": {
          "base_uri": "https://localhost:8080/",
          "height": 34
        }
      },
      "source": [
        "arr4=np.array([[1,2,3],[4,5,6],[7,8,9],[10,11,12]])\n",
        "\n",
        "arr4.shape\n"
      ],
      "execution_count": 0,
      "outputs": [
        {
          "output_type": "execute_result",
          "data": {
            "text/plain": [
              "(4, 3)"
            ]
          },
          "metadata": {
            "tags": []
          },
          "execution_count": 22
        }
      ]
    },
    {
      "cell_type": "code",
      "metadata": {
        "id": "SF1qSUW5x0O3",
        "colab_type": "code",
        "outputId": "95fb28ba-ab45-4fe8-ca52-2e0c1082f391",
        "colab": {
          "base_uri": "https://localhost:8080/",
          "height": 84
        }
      },
      "source": [
        "arr4"
      ],
      "execution_count": 0,
      "outputs": [
        {
          "output_type": "execute_result",
          "data": {
            "text/plain": [
              "array([[ 1,  2,  3],\n",
              "       [ 4,  5,  6],\n",
              "       [ 7,  8,  9],\n",
              "       [10, 11, 12]])"
            ]
          },
          "metadata": {
            "tags": []
          },
          "execution_count": 24
        }
      ]
    },
    {
      "cell_type": "code",
      "metadata": {
        "id": "d5NDOVcxx1rX",
        "colab_type": "code",
        "colab": {}
      },
      "source": [
        ""
      ],
      "execution_count": 0,
      "outputs": []
    },
    {
      "cell_type": "code",
      "metadata": {
        "id": "P8NaL2Wfx_FD",
        "colab_type": "code",
        "colab": {}
      },
      "source": [
        ""
      ],
      "execution_count": 0,
      "outputs": []
    },
    {
      "cell_type": "markdown",
      "metadata": {
        "id": "B9JocVd5yBIm",
        "colab_type": "text"
      },
      "source": [
        "#### numpy shape\n",
        "<pre>\n",
        "numpy에서는 해당 array의 크기를 알 수 있다.\n",
        "shape 을 확인함으로써 몇 개의 데이터가 있는지, 몇 차원으로 존재하는지 등을 확인할 수 있다.\n",
        "위에서 arr1.shape의 결과는 (5,)으로써, 1차원의 데이터이며 총 5라는 크기를 갖고 있음을 알 수 있다.\n",
        "arr4.shape의 결과는 (4,3)으로써, 2차원의 데이터이며 4*3 크기를 갖고 있는 array이다.\n",
        "</pre>\n",
        "\n",
        "#### numpy 자료형\n",
        "<pre>\n",
        "arr1이나 arr2는 int라는 자료형을 갖는 것에 반해 arr3는 float64라는 자료형을 갖는다.\n",
        "이는 arr3 내부 데이터를 살펴보면 3.5라는 실수형 데이터를 갖기 때문임을 알 수 있다.\n",
        "numpy에서 사용되는 자료형은 아래와 같다.\n",
        "(자료형 뒤에 붙는 숫자는 몇 비트 크기인지를 의미한다.)\n",
        "\n",
        "* 부호가 있는 정수 int(8, 16, 32, 64)\n",
        "* 부호가 없는 정수 uint(8, 16, 32, 54)\n",
        "* 실수 float(16, 32, 64, 128)\n",
        "* 복소수 complex(64, 128, 256)\n",
        "* 불리언 bool\n",
        "* 문자열 string\n",
        "* 파이썬 오브젝트 object\n",
        "* 유니코드 unicode_\n",
        "</pre>\n",
        "\n",
        "#### 2-1. np.zeros(), np.ones(), np.arange() 함수\n",
        "<pre>\n",
        "numpy에서 array를 정의할 때 사용되는 함수들이다.\n",
        "아래 실습을 통해 각각이 어떻게 다른지 살펴본다.\n",
        "</pre>\n",
        "\n"
      ]
    },
    {
      "cell_type": "code",
      "metadata": {
        "id": "ZpdbG62KzxDi",
        "colab_type": "code",
        "outputId": "002a669d-bb38-4120-cc8a-f7ca521afe35",
        "colab": {
          "base_uri": "https://localhost:8080/",
          "height": 34
        }
      },
      "source": [
        "# np.zeros() 함수는 인자로 받는 크기만큼, 모든 요소가 0인 array를 만든다.\n",
        "a=np.zeros(10)\n",
        "print(a)"
      ],
      "execution_count": 0,
      "outputs": [
        {
          "output_type": "stream",
          "text": [
            "[0. 0. 0. 0. 0. 0. 0. 0. 0. 0.]\n"
          ],
          "name": "stdout"
        }
      ]
    },
    {
      "cell_type": "code",
      "metadata": {
        "id": "MXjdLArCz2Wj",
        "colab_type": "code",
        "outputId": "e01636f7-b91e-428d-dd26-797d834f7d24",
        "colab": {
          "base_uri": "https://localhost:8080/",
          "height": 50
        }
      },
      "source": [
        "np.zeros((2,4))"
      ],
      "execution_count": 0,
      "outputs": [
        {
          "output_type": "execute_result",
          "data": {
            "text/plain": [
              "array([[0., 0., 0., 0.],\n",
              "       [0., 0., 0., 0.]])"
            ]
          },
          "metadata": {
            "tags": []
          },
          "execution_count": 33
        }
      ]
    },
    {
      "cell_type": "code",
      "metadata": {
        "id": "tVggC9zF0VTS",
        "colab_type": "code",
        "outputId": "c1b4887e-63cc-4c01-b977-3900f4f33d7c",
        "colab": {
          "base_uri": "https://localhost:8080/",
          "height": 67
        }
      },
      "source": [
        "np.ones((3,4))"
      ],
      "execution_count": 0,
      "outputs": [
        {
          "output_type": "execute_result",
          "data": {
            "text/plain": [
              "array([[1., 1., 1., 1.],\n",
              "       [1., 1., 1., 1.],\n",
              "       [1., 1., 1., 1.]])"
            ]
          },
          "metadata": {
            "tags": []
          },
          "execution_count": 34
        }
      ]
    },
    {
      "cell_type": "code",
      "metadata": {
        "id": "B8hDqc9n0bj4",
        "colab_type": "code",
        "outputId": "b51b1a51-0da1-4fa6-f024-74ebd86e69ef",
        "colab": {
          "base_uri": "https://localhost:8080/",
          "height": 34
        }
      },
      "source": [
        "# np.arange() 함수는 인자로 받는 값 만큼 1씩 증가하는 1차원 array를 만든다.\n",
        "# 이때 하나의 인자만 입력하면 0 ~ 입력한 인자, 값 만큼의 크기를 가진다.\n",
        "np.arange(10)"
      ],
      "execution_count": 0,
      "outputs": [
        {
          "output_type": "execute_result",
          "data": {
            "text/plain": [
              "array([0, 1, 2, 3, 4, 5, 6, 7, 8, 9])"
            ]
          },
          "metadata": {
            "tags": []
          },
          "execution_count": 35
        }
      ]
    },
    {
      "cell_type": "markdown",
      "metadata": {
        "id": "tWtPVzuR0naA",
        "colab_type": "text"
      },
      "source": [
        "#### 3.Array 연산\n",
        "<pre>\n",
        "기본적으로 numpy 에서 연산을 할 때는 크기가 서로 동일한 array 끼리 연산이 진행된다.\n",
        "이 때 같은 위치에 있는 요소들 끼리 연산이 진행된다."
      ]
    },
    {
      "cell_type": "code",
      "metadata": {
        "id": "KeCO-vaG0sLr",
        "colab_type": "code",
        "colab": {
          "base_uri": "https://localhost:8080/",
          "height": 50
        },
        "outputId": "43174bdf-8637-465d-9744-38b98e833580"
      },
      "source": [
        "arr1=np.array([[1,2,3],[4,5,6]])\n",
        "arr2 = np.array([[10,11,12],[13,14,15]])\n",
        "arr1"
      ],
      "execution_count": 131,
      "outputs": [
        {
          "output_type": "execute_result",
          "data": {
            "text/plain": [
              "array([[1, 2, 3],\n",
              "       [4, 5, 6]])"
            ]
          },
          "metadata": {
            "tags": []
          },
          "execution_count": 131
        }
      ]
    },
    {
      "cell_type": "code",
      "metadata": {
        "id": "l3tp9oRuSQ_U",
        "colab_type": "code",
        "colab": {
          "base_uri": "https://localhost:8080/",
          "height": 50
        },
        "outputId": "ebe67998-941d-4268-fe44-89ec581408b7"
      },
      "source": [
        "arr2"
      ],
      "execution_count": 132,
      "outputs": [
        {
          "output_type": "execute_result",
          "data": {
            "text/plain": [
              "array([[10, 11, 12],\n",
              "       [13, 14, 15]])"
            ]
          },
          "metadata": {
            "tags": []
          },
          "execution_count": 132
        }
      ]
    },
    {
      "cell_type": "code",
      "metadata": {
        "id": "iPG0XgXp07tA",
        "colab_type": "code",
        "outputId": "d9a406a7-4efa-49b2-9094-91608a83c9ef",
        "colab": {
          "base_uri": "https://localhost:8080/",
          "height": 50
        }
      },
      "source": [
        "# 3-1. array 덧셈\n",
        "arr1+arr2"
      ],
      "execution_count": 0,
      "outputs": [
        {
          "output_type": "execute_result",
          "data": {
            "text/plain": [
              "array([[11, 13, 15],\n",
              "       [17, 19, 21]])"
            ]
          },
          "metadata": {
            "tags": []
          },
          "execution_count": 40
        }
      ]
    },
    {
      "cell_type": "code",
      "metadata": {
        "id": "NT2i3pA_1K2k",
        "colab_type": "code",
        "outputId": "587c7b3b-8abc-4a26-c106-663f3cb02ec9",
        "colab": {
          "base_uri": "https://localhost:8080/",
          "height": 50
        }
      },
      "source": [
        "# 3-2. array 뺄셈\n",
        "arr1-arr2"
      ],
      "execution_count": 0,
      "outputs": [
        {
          "output_type": "execute_result",
          "data": {
            "text/plain": [
              "array([[-9, -9, -9],\n",
              "       [-9, -9, -9]])"
            ]
          },
          "metadata": {
            "tags": []
          },
          "execution_count": 41
        }
      ]
    },
    {
      "cell_type": "code",
      "metadata": {
        "id": "c6zkwZEG1WNk",
        "colab_type": "code",
        "outputId": "44590e82-3d39-4e8b-cd6f-970361f61d06",
        "colab": {
          "base_uri": "https://localhost:8080/",
          "height": 50
        }
      },
      "source": [
        "# 3-3. array 곱셈\n",
        "# 주의하자.\n",
        "# 행렬의 곱처럼 곱셈이 진행되는 것이 아니라 각 요소별로 곱셈이 진행된다.\n",
        "arr1*arr2\n"
      ],
      "execution_count": 0,
      "outputs": [
        {
          "output_type": "execute_result",
          "data": {
            "text/plain": [
              "array([[10, 22, 36],\n",
              "       [52, 70, 90]])"
            ]
          },
          "metadata": {
            "tags": []
          },
          "execution_count": 42
        }
      ]
    },
    {
      "cell_type": "code",
      "metadata": {
        "id": "4bbq0yG31fnu",
        "colab_type": "code",
        "outputId": "8e3b77d6-e2a0-420d-f58b-821c0e04babf",
        "colab": {
          "base_uri": "https://localhost:8080/",
          "height": 50
        }
      },
      "source": [
        "# 3-4. array 나눗셈\n",
        "arr1/arr2"
      ],
      "execution_count": 0,
      "outputs": [
        {
          "output_type": "execute_result",
          "data": {
            "text/plain": [
              "array([[0.1       , 0.18181818, 0.25      ],\n",
              "       [0.30769231, 0.35714286, 0.4       ]])"
            ]
          },
          "metadata": {
            "tags": []
          },
          "execution_count": 43
        }
      ]
    },
    {
      "cell_type": "code",
      "metadata": {
        "id": "4SV4OMGY1lf4",
        "colab_type": "code",
        "colab": {}
      },
      "source": [
        "# 3-5.array의 브로드 캐스트\n",
        "# 위에서는 array가 같은 크기를 가져야 서로 연산이 가능하다고 했지만,\n",
        "# numpy에서는 브로드캐스트라는 기능을 제공한다.\n",
        "# 브로드캐스트란, 서로 크기가 다른 array가 연산이 가능하게끔 하는 것이다."
      ],
      "execution_count": 0,
      "outputs": []
    },
    {
      "cell_type": "code",
      "metadata": {
        "id": "ODDw-d5K2DE5",
        "colab_type": "code",
        "outputId": "2aa92133-419d-4cc0-d770-b28f0c54d2b3",
        "colab": {
          "base_uri": "https://localhost:8080/",
          "height": 34
        }
      },
      "source": [
        "arr3=np.array([10,11,12])\n",
        "print(arr3)"
      ],
      "execution_count": 0,
      "outputs": [
        {
          "output_type": "stream",
          "text": [
            "[10 11 12]\n"
          ],
          "name": "stdout"
        }
      ]
    },
    {
      "cell_type": "code",
      "metadata": {
        "id": "-7NiV_YZ2x67",
        "colab_type": "code",
        "outputId": "95607ed3-8956-4576-ef70-d19cfdb00969",
        "colab": {
          "base_uri": "https://localhost:8080/",
          "height": 50
        }
      },
      "source": [
        "arr1"
      ],
      "execution_count": 0,
      "outputs": [
        {
          "output_type": "execute_result",
          "data": {
            "text/plain": [
              "array([[1, 2, 3],\n",
              "       [4, 5, 6]])"
            ]
          },
          "metadata": {
            "tags": []
          },
          "execution_count": 46
        }
      ]
    },
    {
      "cell_type": "code",
      "metadata": {
        "id": "gpHyqlOu207b",
        "colab_type": "code",
        "outputId": "e4dd5121-48c9-4017-f4e6-8f6e5d3bb770",
        "colab": {
          "base_uri": "https://localhost:8080/",
          "height": 34
        }
      },
      "source": [
        "arr3"
      ],
      "execution_count": 0,
      "outputs": [
        {
          "output_type": "execute_result",
          "data": {
            "text/plain": [
              "array([10, 11, 12])"
            ]
          },
          "metadata": {
            "tags": []
          },
          "execution_count": 47
        }
      ]
    },
    {
      "cell_type": "code",
      "metadata": {
        "id": "k3Pv9PC82EEc",
        "colab_type": "code",
        "outputId": "3dac12ec-7098-496e-e261-294e723f0cac",
        "colab": {
          "base_uri": "https://localhost:8080/",
          "height": 50
        }
      },
      "source": [
        "arr1+arr3"
      ],
      "execution_count": 0,
      "outputs": [
        {
          "output_type": "execute_result",
          "data": {
            "text/plain": [
              "array([[11, 13, 15],\n",
              "       [14, 16, 18]])"
            ]
          },
          "metadata": {
            "tags": []
          },
          "execution_count": 45
        }
      ]
    },
    {
      "cell_type": "code",
      "metadata": {
        "id": "hRklX9412FXM",
        "colab_type": "code",
        "outputId": "bebadd9f-e862-4629-d7f1-b818173fb78f",
        "colab": {
          "base_uri": "https://localhost:8080/",
          "height": 50
        }
      },
      "source": [
        "arr1*arr3"
      ],
      "execution_count": 0,
      "outputs": [
        {
          "output_type": "execute_result",
          "data": {
            "text/plain": [
              "array([[10, 22, 36],\n",
              "       [40, 55, 72]])"
            ]
          },
          "metadata": {
            "tags": []
          },
          "execution_count": 48
        }
      ]
    },
    {
      "cell_type": "code",
      "metadata": {
        "id": "b4z2UQbH2Ucu",
        "colab_type": "code",
        "outputId": "053e544e-50b0-4da7-f1cc-f021d8781468",
        "colab": {
          "base_uri": "https://localhost:8080/",
          "height": 50
        }
      },
      "source": [
        "arr1*4"
      ],
      "execution_count": 0,
      "outputs": [
        {
          "output_type": "execute_result",
          "data": {
            "text/plain": [
              "array([[ 4,  8, 12],\n",
              "       [16, 20, 24]])"
            ]
          },
          "metadata": {
            "tags": []
          },
          "execution_count": 49
        }
      ]
    },
    {
      "cell_type": "code",
      "metadata": {
        "id": "57GyLeQL2Wkw",
        "colab_type": "code",
        "outputId": "9b959f2d-2d25-4472-9fa9-e9a5a99f3bad",
        "colab": {
          "base_uri": "https://localhost:8080/",
          "height": 50
        }
      },
      "source": [
        "# 요소에 대해 제곱처리\n",
        "arr1**3"
      ],
      "execution_count": 0,
      "outputs": [
        {
          "output_type": "execute_result",
          "data": {
            "text/plain": [
              "array([[  1,   8,  27],\n",
              "       [ 64, 125, 216]])"
            ]
          },
          "metadata": {
            "tags": []
          },
          "execution_count": 50
        }
      ]
    },
    {
      "cell_type": "code",
      "metadata": {
        "id": "BWFsTZNz2d8c",
        "colab_type": "code",
        "colab": {}
      },
      "source": [
        "# 위와 같이 서로 크기가 다른 arr1과 arr3의 연산이 가능하다.\n",
        "# 연산 결과를 살펴보면 arr3이 [10,11,12] 에서 [[10,11,12],[10,11,12]]로 확장되어\n",
        "# 계산되었음을 알 수 있다.\n",
        "# 동일한 방식으로 하나의 array에 스칼라 연산도 가능하다."
      ],
      "execution_count": 0,
      "outputs": []
    },
    {
      "cell_type": "code",
      "metadata": {
        "id": "IJC5IThA2yc_",
        "colab_type": "code",
        "colab": {}
      },
      "source": [
        "# 4. Array 인덱싱\n",
        "# numpy에서 사용되는 인덱싱은 기본적으로 python 인덱싱과 동일하다.\n",
        "# 이 때, python에서와 같이 1번째로 시작하는 것이 아니라 0번째로 시작 하는 것.\n",
        "# 주의!"
      ],
      "execution_count": 0,
      "outputs": []
    },
    {
      "cell_type": "code",
      "metadata": {
        "id": "vLUxGgoQ3DCV",
        "colab_type": "code",
        "outputId": "b2ad9706-e218-4671-c015-9e256cdd747e",
        "colab": {
          "base_uri": "https://localhost:8080/",
          "height": 34
        }
      },
      "source": [
        "arr1=np.arange(10)\n",
        "arr1"
      ],
      "execution_count": 133,
      "outputs": [
        {
          "output_type": "execute_result",
          "data": {
            "text/plain": [
              "array([0, 1, 2, 3, 4, 5, 6, 7, 8, 9])"
            ]
          },
          "metadata": {
            "tags": []
          },
          "execution_count": 133
        }
      ]
    },
    {
      "cell_type": "code",
      "metadata": {
        "id": "bIOWo9Ze3FZc",
        "colab_type": "code",
        "outputId": "53492ac8-378f-4cf2-f6ef-cb0b5766e8fb",
        "colab": {
          "base_uri": "https://localhost:8080/",
          "height": 34
        }
      },
      "source": [
        "# 0번째 인덱스 요소\n",
        "arr1[0]"
      ],
      "execution_count": 0,
      "outputs": [
        {
          "output_type": "execute_result",
          "data": {
            "text/plain": [
              "0"
            ]
          },
          "metadata": {
            "tags": []
          },
          "execution_count": 52
        }
      ]
    },
    {
      "cell_type": "code",
      "metadata": {
        "id": "g0DEtlef3ICv",
        "colab_type": "code",
        "outputId": "d6f053d3-a797-4591-b9be-a8281f46e74f",
        "colab": {
          "base_uri": "https://localhost:8080/",
          "height": 34
        }
      },
      "source": [
        "# 3번째 인덱스 요소\n",
        "arr1[3]"
      ],
      "execution_count": 134,
      "outputs": [
        {
          "output_type": "execute_result",
          "data": {
            "text/plain": [
              "3"
            ]
          },
          "metadata": {
            "tags": []
          },
          "execution_count": 134
        }
      ]
    },
    {
      "cell_type": "code",
      "metadata": {
        "id": "FTmf4Da13MGj",
        "colab_type": "code",
        "outputId": "4b30a7b5-f75b-4f87-9f84-7ea977a7bdc2",
        "colab": {
          "base_uri": "https://localhost:8080/",
          "height": 34
        }
      },
      "source": [
        "# 3번째 요소부터 8번째 요소\n",
        "arr1[2:8]"
      ],
      "execution_count": 0,
      "outputs": [
        {
          "output_type": "execute_result",
          "data": {
            "text/plain": [
              "array([2, 3, 4, 5, 6, 7])"
            ]
          },
          "metadata": {
            "tags": []
          },
          "execution_count": 57
        }
      ]
    },
    {
      "cell_type": "code",
      "metadata": {
        "id": "aVLlIICN3Rhn",
        "colab_type": "code",
        "outputId": "4566f39a-3c9f-4fe0-f3ea-790274c4d249",
        "colab": {
          "base_uri": "https://localhost:8080/",
          "height": 34
        }
      },
      "source": [
        "arr1[:]"
      ],
      "execution_count": 0,
      "outputs": [
        {
          "output_type": "execute_result",
          "data": {
            "text/plain": [
              "array([0, 1, 2, 3, 4, 5, 6, 7, 8, 9])"
            ]
          },
          "metadata": {
            "tags": []
          },
          "execution_count": 58
        }
      ]
    },
    {
      "cell_type": "code",
      "metadata": {
        "id": "vIFvh5BS3cZt",
        "colab_type": "code",
        "outputId": "a0a5a68b-e1c2-4cbc-b7da-a7f8c24e4c38",
        "colab": {
          "base_uri": "https://localhost:8080/",
          "height": 84
        }
      },
      "source": [
        "# 물론 1차원이 아닌 그 이상의 차원에서도 인덱싱이 가능하다.\n",
        "arr2=np.array([[1,2,3],\n",
        "               [4,5,6],\n",
        "               [7,8,9],\n",
        "               [10,11,12]])\n",
        "arr2"
      ],
      "execution_count": 137,
      "outputs": [
        {
          "output_type": "execute_result",
          "data": {
            "text/plain": [
              "array([[ 1,  2,  3],\n",
              "       [ 4,  5,  6],\n",
              "       [ 7,  8,  9],\n",
              "       [10, 11, 12]])"
            ]
          },
          "metadata": {
            "tags": []
          },
          "execution_count": 137
        }
      ]
    },
    {
      "cell_type": "code",
      "metadata": {
        "id": "UeSbaO9_3qL3",
        "colab_type": "code",
        "outputId": "e4decf0b-1cec-48ab-d685-a165ec7ae6c1",
        "colab": {
          "base_uri": "https://localhost:8080/",
          "height": 34
        }
      },
      "source": [
        "# 2차원의 array에서 인덱싱을 하기 위해서는 2개의 인자를 입력해야 한다.\n",
        "arr2[0,0]\n"
      ],
      "execution_count": 0,
      "outputs": [
        {
          "output_type": "execute_result",
          "data": {
            "text/plain": [
              "1"
            ]
          },
          "metadata": {
            "tags": []
          },
          "execution_count": 68
        }
      ]
    },
    {
      "cell_type": "code",
      "metadata": {
        "id": "Z5a3muVv8rWQ",
        "colab_type": "code",
        "outputId": "570fcf23-b79e-435d-9d9c-aea0d3574119",
        "colab": {
          "base_uri": "https://localhost:8080/",
          "height": 34
        }
      },
      "source": [
        "arr2[1,2]"
      ],
      "execution_count": 0,
      "outputs": [
        {
          "output_type": "execute_result",
          "data": {
            "text/plain": [
              "6"
            ]
          },
          "metadata": {
            "tags": []
          },
          "execution_count": 67
        }
      ]
    },
    {
      "cell_type": "code",
      "metadata": {
        "id": "EfvGELuW9WFm",
        "colab_type": "code",
        "outputId": "8775ab3b-4724-424b-ea89-764428180c35",
        "colab": {
          "base_uri": "https://localhost:8080/",
          "height": 84
        }
      },
      "source": [
        "arr2"
      ],
      "execution_count": 138,
      "outputs": [
        {
          "output_type": "execute_result",
          "data": {
            "text/plain": [
              "array([[ 1,  2,  3],\n",
              "       [ 4,  5,  6],\n",
              "       [ 7,  8,  9],\n",
              "       [10, 11, 12]])"
            ]
          },
          "metadata": {
            "tags": []
          },
          "execution_count": 138
        }
      ]
    },
    {
      "cell_type": "code",
      "metadata": {
        "id": "8JncEv1S3zIh",
        "colab_type": "code",
        "outputId": "b208ec8d-48f7-48ae-f441-455921f1e66a",
        "colab": {
          "base_uri": "https://localhost:8080/",
          "height": 34
        }
      },
      "source": [
        "# 2행의 모든 요소 꺼내기\n",
        "arr2[1]"
      ],
      "execution_count": 139,
      "outputs": [
        {
          "output_type": "execute_result",
          "data": {
            "text/plain": [
              "array([4, 5, 6])"
            ]
          },
          "metadata": {
            "tags": []
          },
          "execution_count": 139
        }
      ]
    },
    {
      "cell_type": "code",
      "metadata": {
        "id": "VeuRQjZW3-pE",
        "colab_type": "code",
        "outputId": "30e7e7c1-f38d-4279-b78d-36e657a4585f",
        "colab": {
          "base_uri": "https://localhost:8080/",
          "height": 34
        }
      },
      "source": [
        "# 2행의 3번째 요소 꺼내기\n",
        "arr2[1,2]"
      ],
      "execution_count": 140,
      "outputs": [
        {
          "output_type": "execute_result",
          "data": {
            "text/plain": [
              "6"
            ]
          },
          "metadata": {
            "tags": []
          },
          "execution_count": 140
        }
      ]
    },
    {
      "cell_type": "code",
      "metadata": {
        "id": "X4guVyPG4Ece",
        "colab_type": "code",
        "outputId": "c4c0503b-10d8-4afc-bc4d-be4a7b9c1757",
        "colab": {
          "base_uri": "https://localhost:8080/",
          "height": 34
        }
      },
      "source": [
        "# 모든 열의 3번째 요소 꺼내기\n",
        "arr2[:,2]"
      ],
      "execution_count": 141,
      "outputs": [
        {
          "output_type": "execute_result",
          "data": {
            "text/plain": [
              "array([ 3,  6,  9, 12])"
            ]
          },
          "metadata": {
            "tags": []
          },
          "execution_count": 141
        }
      ]
    },
    {
      "cell_type": "code",
      "metadata": {
        "id": "XmhIQJDb-Rbf",
        "colab_type": "code",
        "outputId": "008250a6-8deb-494f-f628-ce47cc07f135",
        "colab": {
          "base_uri": "https://localhost:8080/",
          "height": 50
        }
      },
      "source": [
        "arr2[:2]"
      ],
      "execution_count": 144,
      "outputs": [
        {
          "output_type": "execute_result",
          "data": {
            "text/plain": [
              "array([[1, 2, 3],\n",
              "       [4, 5, 6]])"
            ]
          },
          "metadata": {
            "tags": []
          },
          "execution_count": 144
        }
      ]
    },
    {
      "cell_type": "code",
      "metadata": {
        "id": "pV6o8vaLUM1f",
        "colab_type": "code",
        "colab": {
          "base_uri": "https://localhost:8080/",
          "height": 34
        },
        "outputId": "5d8a6127-bb57-4782-afa1-5a4aad03efa3"
      },
      "source": [
        "arr2[2]"
      ],
      "execution_count": 145,
      "outputs": [
        {
          "output_type": "execute_result",
          "data": {
            "text/plain": [
              "array([7, 8, 9])"
            ]
          },
          "metadata": {
            "tags": []
          },
          "execution_count": 145
        }
      ]
    },
    {
      "cell_type": "code",
      "metadata": {
        "id": "XqRmGrIR4JDs",
        "colab_type": "code",
        "colab": {}
      },
      "source": [
        "# 5. Array boolean 인덱싱(마스크)\n",
        "# 위에서 이용한 다차원의 인덱싱을 응용하여 boolean 인덱싱을 할 수 있다.\n",
        "# 해당 기능은 주로 마스크라고 이야기하는데,\n",
        "# boolean 인덱싱을 통해 만들어 낸 array를 통해\n",
        "# 우리가 원하는 행 또는 열의 값만 뽑아낼 수 있다.\n",
        "# 즉 마스크처럼 우리가 가리고 싶은 부분은 가리고, 원하는 요소만 꺼낼 수 있다."
      ],
      "execution_count": 0,
      "outputs": []
    },
    {
      "cell_type": "code",
      "metadata": {
        "id": "irKmVsgp4lBn",
        "colab_type": "code",
        "colab": {}
      },
      "source": [
        "names = np.array(['lee', 'park', 'kim', 'john', 'lee', \n",
        "                  'john', 'park', 'lee'])\n"
      ],
      "execution_count": 0,
      "outputs": []
    },
    {
      "cell_type": "code",
      "metadata": {
        "id": "Opdv8KZQ4-sd",
        "colab_type": "code",
        "outputId": "adac399e-42fe-4d57-ebc5-b57df2276982",
        "colab": {
          "base_uri": "https://localhost:8080/",
          "height": 50
        }
      },
      "source": [
        "names"
      ],
      "execution_count": 147,
      "outputs": [
        {
          "output_type": "execute_result",
          "data": {
            "text/plain": [
              "array(['lee', 'park', 'kim', 'john', 'lee', 'john', 'park', 'lee'],\n",
              "      dtype='<U4')"
            ]
          },
          "metadata": {
            "tags": []
          },
          "execution_count": 147
        }
      ]
    },
    {
      "cell_type": "code",
      "metadata": {
        "id": "iuabhW9O-_Zr",
        "colab_type": "code",
        "outputId": "db3298f4-0417-48f7-8006-1d124cb01551",
        "colab": {
          "base_uri": "https://localhost:8080/",
          "height": 34
        }
      },
      "source": [
        "names.shape"
      ],
      "execution_count": 148,
      "outputs": [
        {
          "output_type": "execute_result",
          "data": {
            "text/plain": [
              "(8,)"
            ]
          },
          "metadata": {
            "tags": []
          },
          "execution_count": 148
        }
      ]
    },
    {
      "cell_type": "code",
      "metadata": {
        "id": "4LBdRCR95BO2",
        "colab_type": "code",
        "outputId": "c02ba103-7263-48a4-f143-3bac514b1e55",
        "colab": {
          "base_uri": "https://localhost:8080/",
          "height": 151
        }
      },
      "source": [
        "# 아래에서 사용되는 np.random.randn() 함수는 기대값이 0이고,\n",
        "# 표준 편차가 1인 가우시안 정규분포를 따르는 난수를 발생시키는 함수이다.\n",
        "# 이 외에도 0~1의 난수를 발생시키는 np.random.rand() 함수도 존재한다.\n",
        "data = np.random.randn(8,4)\n",
        "data"
      ],
      "execution_count": 0,
      "outputs": [
        {
          "output_type": "execute_result",
          "data": {
            "text/plain": [
              "array([[-0.09022291, -0.01571907, -0.03666051,  0.34261947],\n",
              "       [-0.73306485, -1.08080526, -1.18447714,  1.32804414],\n",
              "       [ 0.32754564, -0.74285558, -0.36386716,  0.09572767],\n",
              "       [-2.0448336 , -1.5454833 , -2.2549455 ,  1.11180166],\n",
              "       [-1.14126963, -0.03886994,  0.32977399, -1.5347043 ],\n",
              "       [ 0.20578172,  0.2129015 , -1.73957774, -0.88646647],\n",
              "       [ 0.07792297, -0.52834212, -0.86560322,  0.09276499],\n",
              "       [-1.43943649, -1.0792594 ,  0.36356394,  0.64056382]])"
            ]
          },
          "metadata": {
            "tags": []
          },
          "execution_count": 86
        }
      ]
    },
    {
      "cell_type": "code",
      "metadata": {
        "id": "f3hHY4jM5Tza",
        "colab_type": "code",
        "outputId": "f8538d14-0c1f-4f0b-d10d-de80067b412e",
        "colab": {
          "base_uri": "https://localhost:8080/",
          "height": 34
        }
      },
      "source": [
        "data.shape"
      ],
      "execution_count": 0,
      "outputs": [
        {
          "output_type": "execute_result",
          "data": {
            "text/plain": [
              "(8, 4)"
            ]
          },
          "metadata": {
            "tags": []
          },
          "execution_count": 87
        }
      ]
    },
    {
      "cell_type": "code",
      "metadata": {
        "id": "C9HtWWWd5ll0",
        "colab_type": "code",
        "colab": {}
      },
      "source": [
        "# 위와 같은 names와 data라는 array가 있다.\n",
        "# 이 때, names의 각 요소가 data의 각 행과 연결된다고 가정해보자.\n",
        "# 그리고 이 때, names가 lee인 행의 data만 보고 싶을 때 다음과 같이 마스크를 사용."
      ],
      "execution_count": 0,
      "outputs": []
    },
    {
      "cell_type": "code",
      "metadata": {
        "id": "aiAsL83VAjHb",
        "colab_type": "code",
        "outputId": "70fc3f92-5c65-4e35-9a08-2a8ba569970c",
        "colab": {
          "base_uri": "https://localhost:8080/",
          "height": 50
        }
      },
      "source": [
        "names"
      ],
      "execution_count": 0,
      "outputs": [
        {
          "output_type": "execute_result",
          "data": {
            "text/plain": [
              "array(['lee', 'park', 'kim', 'john', 'lee', 'john', 'park', 'lee'],\n",
              "      dtype='<U4')"
            ]
          },
          "metadata": {
            "tags": []
          },
          "execution_count": 89
        }
      ]
    },
    {
      "cell_type": "code",
      "metadata": {
        "id": "5i3gD_3T526T",
        "colab_type": "code",
        "outputId": "743be0bf-0e7b-44ed-91ee-2392f37b1ef9",
        "colab": {
          "base_uri": "https://localhost:8080/",
          "height": 34
        }
      },
      "source": [
        "# 요소가 lee인 항목에 대한 mask 생성 true false 값\n",
        "names_lee_mask = (names =='lee')\n",
        "names_lee_mask"
      ],
      "execution_count": 0,
      "outputs": [
        {
          "output_type": "execute_result",
          "data": {
            "text/plain": [
              "array([ True, False, False, False,  True, False, False,  True])"
            ]
          },
          "metadata": {
            "tags": []
          },
          "execution_count": 90
        }
      ]
    },
    {
      "cell_type": "code",
      "metadata": {
        "id": "o4qh_98M6C4k",
        "colab_type": "code",
        "outputId": "a535957d-0098-42ff-a3d7-8c759de4b9ea",
        "colab": {
          "base_uri": "https://localhost:8080/",
          "height": 67
        }
      },
      "source": [
        "data[names_lee_mask,:]"
      ],
      "execution_count": 0,
      "outputs": [
        {
          "output_type": "execute_result",
          "data": {
            "text/plain": [
              "array([[-0.09022291, -0.01571907, -0.03666051,  0.34261947],\n",
              "       [-1.14126963, -0.03886994,  0.32977399, -1.5347043 ],\n",
              "       [-1.43943649, -1.0792594 ,  0.36356394,  0.64056382]])"
            ]
          },
          "metadata": {
            "tags": []
          },
          "execution_count": 91
        }
      ]
    },
    {
      "cell_type": "code",
      "metadata": {
        "id": "vyyNDjsq6Gz9",
        "colab_type": "code",
        "colab": {}
      },
      "source": [
        "# 위의 결과를 보면, 요소가 lee인 것은 0번째, 4번째, 7번째 이므로\n",
        "# data에서 0,4,7행의 모든 요소를 꺼내와야 한다.\n",
        "# 이를 위해 요소가 lee인 것에 대한 boolean 값을 가지는 mask를 만들었고,\n",
        "# 마스크를 인덱싱에 응용하여 data의 0,4,7행을 꺼냈다."
      ],
      "execution_count": 0,
      "outputs": []
    },
    {
      "cell_type": "code",
      "metadata": {
        "id": "NAhJ2v8c6qpp",
        "colab_type": "code",
        "outputId": "417644e8-1dcc-453a-d328-571ff653581b",
        "colab": {
          "base_uri": "https://localhost:8080/",
          "height": 34
        }
      },
      "source": [
        "# 요소가 kim인 행의 데이터만 꺼내기\n",
        "names_kim_mask = (names =='kim')\n",
        "names_kim_mask\n",
        "data[names_kim_mask,:]"
      ],
      "execution_count": 0,
      "outputs": [
        {
          "output_type": "execute_result",
          "data": {
            "text/plain": [
              "array([[ 0.32754564, -0.74285558, -0.36386716,  0.09572767]])"
            ]
          },
          "metadata": {
            "tags": []
          },
          "execution_count": 93
        }
      ]
    },
    {
      "cell_type": "code",
      "metadata": {
        "id": "_Rbfj13-6wYC",
        "colab_type": "code",
        "outputId": "3683faf2-2350-4208-cdba-5c9f9fa2b680",
        "colab": {
          "base_uri": "https://localhost:8080/",
          "height": 84
        }
      },
      "source": [
        "# 논리 연산을 응용하여, 요소가 kim 또는 park 인 행의 데이터만 꺼내기\n",
        "\n",
        "data[(names=='kim') | (names=='lee'),:]"
      ],
      "execution_count": 0,
      "outputs": [
        {
          "output_type": "execute_result",
          "data": {
            "text/plain": [
              "array([[-0.09022291, -0.01571907, -0.03666051,  0.34261947],\n",
              "       [ 0.32754564, -0.74285558, -0.36386716,  0.09572767],\n",
              "       [-1.14126963, -0.03886994,  0.32977399, -1.5347043 ],\n",
              "       [-1.43943649, -1.0792594 ,  0.36356394,  0.64056382]])"
            ]
          },
          "metadata": {
            "tags": []
          },
          "execution_count": 97
        }
      ]
    },
    {
      "cell_type": "code",
      "metadata": {
        "id": "iUyGTGpd69Tk",
        "colab_type": "code",
        "outputId": "00ca6666-dbad-4a7a-c1d6-3f9c52cde324",
        "colab": {
          "base_uri": "https://localhost:8080/",
          "height": 50
        }
      },
      "source": [
        "# 물론 data array 자체적으로도 마스크를 만들고, 이를 응용하여 인덱싱이 가능하다.\n",
        "# data array에서 3번째 열의 값이 0보다 작은 행을 구해보자.\n",
        "\n",
        "data[:2]"
      ],
      "execution_count": 0,
      "outputs": [
        {
          "output_type": "execute_result",
          "data": {
            "text/plain": [
              "array([[-0.09022291, -0.01571907, -0.03666051,  0.34261947],\n",
              "       [-0.73306485, -1.08080526, -1.18447714,  1.32804414]])"
            ]
          },
          "metadata": {
            "tags": []
          },
          "execution_count": 106
        }
      ]
    },
    {
      "cell_type": "code",
      "metadata": {
        "id": "-9nO-1uz7KHp",
        "colab_type": "code",
        "outputId": "14e84f5a-1304-4607-90e5-33fc416f8691",
        "colab": {
          "base_uri": "https://localhost:8080/",
          "height": 34
        }
      },
      "source": [
        "# 먼저 마스크를 만든다.\n",
        "# data array에서 3번째 열이 0보다 작은 요소의 boolean 값은 다음과 같다.\n",
        "\n",
        "data[:,2]<0"
      ],
      "execution_count": 0,
      "outputs": [
        {
          "output_type": "execute_result",
          "data": {
            "text/plain": [
              "array([ True,  True,  True,  True, False,  True,  True, False])"
            ]
          },
          "metadata": {
            "tags": []
          },
          "execution_count": 104
        }
      ]
    },
    {
      "cell_type": "code",
      "metadata": {
        "id": "SQwrAGTQ7TXG",
        "colab_type": "code",
        "outputId": "af06a938-8ae4-4072-d517-c1b99a951a79",
        "colab": {
          "base_uri": "https://localhost:8080/",
          "height": 118
        }
      },
      "source": [
        "# 위에서 만든 마스크를 이용하여 0번째 열의 값이 0보다 작은 행을 구한다.\n",
        "data[data[:,2]<0,:]"
      ],
      "execution_count": 0,
      "outputs": [
        {
          "output_type": "execute_result",
          "data": {
            "text/plain": [
              "array([[-0.09022291, -0.01571907, -0.03666051,  0.34261947],\n",
              "       [-0.73306485, -1.08080526, -1.18447714,  1.32804414],\n",
              "       [ 0.32754564, -0.74285558, -0.36386716,  0.09572767],\n",
              "       [-2.0448336 , -1.5454833 , -2.2549455 ,  1.11180166],\n",
              "       [ 0.20578172,  0.2129015 , -1.73957774, -0.88646647],\n",
              "       [ 0.07792297, -0.52834212, -0.86560322,  0.09276499]])"
            ]
          },
          "metadata": {
            "tags": []
          },
          "execution_count": 105
        }
      ]
    },
    {
      "cell_type": "code",
      "metadata": {
        "id": "EZguPQld7d7U",
        "colab_type": "code",
        "colab": {}
      },
      "source": [
        "# 이를 통해 특정 위치에만 우리가 원하는 값을 대입할 수 있다.\n",
        "# 위에서 얻은, 0번째 열의 값이 0보다 작은 행의\n",
        "# 2,3번째 열의 값에 0을 대입해보자."
      ],
      "execution_count": 0,
      "outputs": []
    },
    {
      "cell_type": "code",
      "metadata": {
        "id": "WCZ6P01m7nvM",
        "colab_type": "code",
        "outputId": "c9db50cc-8088-4d53-a504-6e233fc0bf42",
        "colab": {
          "base_uri": "https://localhost:8080/",
          "height": 151
        }
      },
      "source": [
        "# 3번째 열의 값이 0보다 작은 행의 2,3 번째 열 값\n",
        "data[data[:,2]<0,1:3 ] =0\n",
        "data"
      ],
      "execution_count": 0,
      "outputs": [
        {
          "output_type": "execute_result",
          "data": {
            "text/plain": [
              "array([[-0.09022291,  0.        ,  0.        ,  0.34261947],\n",
              "       [-0.73306485,  0.        ,  0.        ,  1.32804414],\n",
              "       [ 0.32754564,  0.        ,  0.        ,  0.09572767],\n",
              "       [-2.0448336 ,  0.        ,  0.        ,  1.11180166],\n",
              "       [-1.14126963, -0.03886994,  0.32977399, -1.5347043 ],\n",
              "       [ 0.20578172,  0.        ,  0.        , -0.88646647],\n",
              "       [ 0.07792297,  0.        ,  0.        ,  0.09276499],\n",
              "       [-1.43943649, -1.0792594 ,  0.36356394,  0.64056382]])"
            ]
          },
          "metadata": {
            "tags": []
          },
          "execution_count": 109
        }
      ]
    },
    {
      "cell_type": "code",
      "metadata": {
        "id": "em-D5d5P7wDd",
        "colab_type": "code",
        "colab": {}
      },
      "source": [
        ""
      ],
      "execution_count": 0,
      "outputs": []
    },
    {
      "cell_type": "code",
      "metadata": {
        "id": "DdGh4rRy79C1",
        "colab_type": "code",
        "colab": {}
      },
      "source": [
        "# 6. Numpy 함수\n",
        "# numpy에서는 array에 적용되는 다양한 함수가 있다."
      ],
      "execution_count": 0,
      "outputs": []
    },
    {
      "cell_type": "code",
      "metadata": {
        "id": "bXmqmM2-8H2q",
        "colab_type": "code",
        "outputId": "eeaa6612-36f4-4b7d-8b57-5d02dedeb2b1",
        "colab": {
          "base_uri": "https://localhost:8080/",
          "height": 101
        }
      },
      "source": [
        "# 6-1. 하나의 array에 적용되는 함수\n",
        "arr1=np.random.randn(5,3)\n",
        "arr1"
      ],
      "execution_count": 0,
      "outputs": [
        {
          "output_type": "execute_result",
          "data": {
            "text/plain": [
              "array([[ 1.16727259,  1.61546802, -0.02421065],\n",
              "       [-0.12746447,  0.67123415, -0.14296083],\n",
              "       [-0.04372709,  0.64634846, -2.16459875],\n",
              "       [ 1.45254653,  0.03248493,  0.89455093],\n",
              "       [-0.22003546, -0.49542293, -0.81905406]])"
            ]
          },
          "metadata": {
            "tags": []
          },
          "execution_count": 110
        }
      ]
    },
    {
      "cell_type": "code",
      "metadata": {
        "id": "auo8BBma8Q5h",
        "colab_type": "code",
        "outputId": "32ad7f34-52f2-47ab-83d9-bd8ec4c1baea",
        "colab": {
          "base_uri": "https://localhost:8080/",
          "height": 101
        }
      },
      "source": [
        "# 각 성분의 절대값 계산하기\n",
        "np.abs(arr1)"
      ],
      "execution_count": 0,
      "outputs": [
        {
          "output_type": "execute_result",
          "data": {
            "text/plain": [
              "array([[1.16727259, 1.61546802, 0.02421065],\n",
              "       [0.12746447, 0.67123415, 0.14296083],\n",
              "       [0.04372709, 0.64634846, 2.16459875],\n",
              "       [1.45254653, 0.03248493, 0.89455093],\n",
              "       [0.22003546, 0.49542293, 0.81905406]])"
            ]
          },
          "metadata": {
            "tags": []
          },
          "execution_count": 111
        }
      ]
    },
    {
      "cell_type": "code",
      "metadata": {
        "id": "g1e9qsWR8V4_",
        "colab_type": "code",
        "outputId": "8b3489ef-053e-4eaf-d46a-7e3e726c939e",
        "colab": {
          "base_uri": "https://localhost:8080/",
          "height": 134
        }
      },
      "source": [
        "# 각 성분의 제곱근 계산하기 ( == array ** 0.5)\n",
        "np.sqrt(arr1)"
      ],
      "execution_count": 0,
      "outputs": [
        {
          "output_type": "stream",
          "text": [
            "/usr/local/lib/python3.6/dist-packages/ipykernel_launcher.py:1: RuntimeWarning: invalid value encountered in sqrt\n",
            "  \"\"\"Entry point for launching an IPython kernel.\n"
          ],
          "name": "stderr"
        },
        {
          "output_type": "execute_result",
          "data": {
            "text/plain": [
              "array([[1.0804039 , 1.27101063,        nan],\n",
              "       [       nan, 0.81928881,        nan],\n",
              "       [       nan, 0.803958  ,        nan],\n",
              "       [1.20521638, 0.18023577, 0.94580702],\n",
              "       [       nan,        nan,        nan]])"
            ]
          },
          "metadata": {
            "tags": []
          },
          "execution_count": 112
        }
      ]
    },
    {
      "cell_type": "code",
      "metadata": {
        "id": "mNUk7YFj8dDL",
        "colab_type": "code",
        "outputId": "a7fe0c35-d971-47c3-9895-23647fc71f0b",
        "colab": {
          "base_uri": "https://localhost:8080/",
          "height": 101
        }
      },
      "source": [
        "# 각 성분의 제곱 계산하기\n",
        "np.square(arr1)"
      ],
      "execution_count": 0,
      "outputs": [
        {
          "output_type": "execute_result",
          "data": {
            "text/plain": [
              "array([[1.36252529e+00, 2.60973694e+00, 5.86155510e-04],\n",
              "       [1.62471899e-02, 4.50555282e-01, 2.04377993e-02],\n",
              "       [1.91205802e-03, 4.17766334e-01, 4.68548777e+00],\n",
              "       [2.10989141e+00, 1.05527079e-03, 8.00221363e-01],\n",
              "       [4.84156058e-02, 2.45443881e-01, 6.70849561e-01]])"
            ]
          },
          "metadata": {
            "tags": []
          },
          "execution_count": 113
        }
      ]
    },
    {
      "cell_type": "code",
      "metadata": {
        "id": "OY4Z4HtK8jDW",
        "colab_type": "code",
        "colab": {}
      },
      "source": [
        "# 각 성분을 무리수 e의 지수로 삼은 값을 계산하기\n"
      ],
      "execution_count": 0,
      "outputs": []
    },
    {
      "cell_type": "code",
      "metadata": {
        "id": "9zVh4JQW8qvD",
        "colab_type": "code",
        "colab": {}
      },
      "source": [
        "# 각 성분을 자연로그, 상용로그, 밑이 2인 로그를 씌운 값을 계산하기\n"
      ],
      "execution_count": 0,
      "outputs": []
    },
    {
      "cell_type": "code",
      "metadata": {
        "id": "fZyJKR958yGV",
        "colab_type": "code",
        "colab": {}
      },
      "source": [
        ""
      ],
      "execution_count": 0,
      "outputs": []
    },
    {
      "cell_type": "code",
      "metadata": {
        "id": "2u0a2XBJ89sN",
        "colab_type": "code",
        "colab": {}
      },
      "source": [
        "# 각 성분의 부호 계산하기(+인 경우 1, -인 경우 -1, 0인 경우 0)\n"
      ],
      "execution_count": 0,
      "outputs": []
    },
    {
      "cell_type": "code",
      "metadata": {
        "id": "-WvZADoe9FS-",
        "colab_type": "code",
        "colab": {}
      },
      "source": [
        "# 각 성분의 소수 첫 번째 자리에서 올림한 값을 계산하기\n"
      ],
      "execution_count": 0,
      "outputs": []
    },
    {
      "cell_type": "code",
      "metadata": {
        "id": "IvRfOwH_9J6w",
        "colab_type": "code",
        "colab": {}
      },
      "source": [
        "# 각 성분의 소수 첫 번째 자리에서 내림한 값을 계산하기\n"
      ],
      "execution_count": 0,
      "outputs": []
    },
    {
      "cell_type": "code",
      "metadata": {
        "id": "-8bfl6K39T76",
        "colab_type": "code",
        "outputId": "6dcc0591-1475-465d-f375-7d8a0bb12b3a",
        "colab": {
          "base_uri": "https://localhost:8080/",
          "height": 101
        }
      },
      "source": [
        "# 각 성분이 NaN인 경우 True를, 아닌 경우 False를 반환하기\n",
        "np.isnan(arr1)"
      ],
      "execution_count": 0,
      "outputs": [
        {
          "output_type": "execute_result",
          "data": {
            "text/plain": [
              "array([[False, False, False],\n",
              "       [False, False, False],\n",
              "       [False, False, False],\n",
              "       [False, False, False],\n",
              "       [False, False, False]])"
            ]
          },
          "metadata": {
            "tags": []
          },
          "execution_count": 114
        }
      ]
    },
    {
      "cell_type": "code",
      "metadata": {
        "id": "W5z3mCzu9b-N",
        "colab_type": "code",
        "colab": {}
      },
      "source": [
        ""
      ],
      "execution_count": 0,
      "outputs": []
    },
    {
      "cell_type": "code",
      "metadata": {
        "id": "iTIiGz-09gBm",
        "colab_type": "code",
        "colab": {}
      },
      "source": [
        "# 각 성분이 무한대인 경우 True를, 아닌 경우 False를 반환하기\n"
      ],
      "execution_count": 0,
      "outputs": []
    },
    {
      "cell_type": "code",
      "metadata": {
        "id": "SmZg6_JE9rSb",
        "colab_type": "code",
        "colab": {}
      },
      "source": [
        "# 각 성분에 대해 삼각함수 값을 계산하기(cos, cosh, sin, sinh, tan, tanh)\n"
      ],
      "execution_count": 0,
      "outputs": []
    },
    {
      "cell_type": "code",
      "metadata": {
        "id": "Ika3s8L19yu5",
        "colab_type": "code",
        "colab": {}
      },
      "source": [
        ""
      ],
      "execution_count": 0,
      "outputs": []
    },
    {
      "cell_type": "code",
      "metadata": {
        "id": "bTqvweoX92NN",
        "colab_type": "code",
        "colab": {}
      },
      "source": [
        "# 6-2. 두 개의 array에 적용되는 함수\n"
      ],
      "execution_count": 0,
      "outputs": []
    },
    {
      "cell_type": "code",
      "metadata": {
        "id": "bJO2Mi9y97s-",
        "colab_type": "code",
        "colab": {}
      },
      "source": [
        ""
      ],
      "execution_count": 0,
      "outputs": []
    },
    {
      "cell_type": "code",
      "metadata": {
        "id": "2iz095WX9_80",
        "colab_type": "code",
        "colab": {}
      },
      "source": [
        "# 두 개의 array에 대해 동일한 위치의 성분끼리 연산 값을 계산하기\n",
        "# (dd, subtract, multiply, divide)\n"
      ],
      "execution_count": 0,
      "outputs": []
    },
    {
      "cell_type": "code",
      "metadata": {
        "id": "XPgIqmmL-PG1",
        "colab_type": "code",
        "colab": {}
      },
      "source": [
        "# 두 개의 array에 대해 동일한 위치의 성분끼리 비교하여 최대값 또는\n",
        "# 최소값 계산하기(maximum, minimum)\n"
      ],
      "execution_count": 0,
      "outputs": []
    },
    {
      "cell_type": "code",
      "metadata": {
        "id": "MiQKVIel-aA1",
        "colab_type": "code",
        "colab": {}
      },
      "source": [
        "# 6-3. 통계 함수\n",
        "# 통계 함수를 통해 array의 합이나 평균 등을 구할 때,\n",
        "# 추가로 axis라는 인자에 대한 값을 지정하여\n",
        "# 열 또는 행의 합 또는 평균 등을 구할 수 있다."
      ],
      "execution_count": 0,
      "outputs": []
    },
    {
      "cell_type": "code",
      "metadata": {
        "id": "zepDhZ8h_syz",
        "colab_type": "code",
        "colab": {}
      },
      "source": [
        ""
      ],
      "execution_count": 0,
      "outputs": []
    },
    {
      "cell_type": "code",
      "metadata": {
        "id": "xog4fSXJ_tXO",
        "colab_type": "code",
        "outputId": "8693c46c-b0fe-4e20-8466-6cc40cb06829",
        "colab": {
          "base_uri": "https://localhost:8080/",
          "height": 34
        }
      },
      "source": [
        "# 전체 성분의 합을 계산\n",
        "np.sum(arr1)"
      ],
      "execution_count": 0,
      "outputs": [
        {
          "output_type": "execute_result",
          "data": {
            "text/plain": [
              "2.4424313598861636"
            ]
          },
          "metadata": {
            "tags": []
          },
          "execution_count": 115
        }
      ]
    },
    {
      "cell_type": "code",
      "metadata": {
        "id": "Zcx8iq-j_x_N",
        "colab_type": "code",
        "colab": {}
      },
      "source": [
        "# 열 간의 합을 계산\n",
        "np.sum(arr1, axis=1)"
      ],
      "execution_count": 0,
      "outputs": []
    },
    {
      "cell_type": "code",
      "metadata": {
        "id": "Jywx_FKH_2Fg",
        "colab_type": "code",
        "outputId": "f2a2baf2-21f5-4c17-9e58-746bacf1b471",
        "colab": {
          "base_uri": "https://localhost:8080/",
          "height": 34
        }
      },
      "source": [
        "# 행 간의 합을 계산\n",
        "np.sum(arr1,axis=0)"
      ],
      "execution_count": 0,
      "outputs": [
        {
          "output_type": "execute_result",
          "data": {
            "text/plain": [
              "array([ 2.2285921 ,  2.47011263, -2.25627337])"
            ]
          },
          "metadata": {
            "tags": []
          },
          "execution_count": 116
        }
      ]
    },
    {
      "cell_type": "code",
      "metadata": {
        "id": "9afIwe7f_67a",
        "colab_type": "code",
        "outputId": "12134085-faa6-4a9c-a84a-c902d4fda9b2",
        "colab": {
          "base_uri": "https://localhost:8080/",
          "height": 34
        }
      },
      "source": [
        "# 전체 성분의 평균을 계산\n",
        "np.mean(arr1)"
      ],
      "execution_count": 0,
      "outputs": [
        {
          "output_type": "execute_result",
          "data": {
            "text/plain": [
              "0.16282875732574423"
            ]
          },
          "metadata": {
            "tags": []
          },
          "execution_count": 117
        }
      ]
    },
    {
      "cell_type": "code",
      "metadata": {
        "id": "vpHY5BX4__50",
        "colab_type": "code",
        "colab": {}
      },
      "source": [
        "# 행 간의 평균을 계산\n"
      ],
      "execution_count": 0,
      "outputs": []
    },
    {
      "cell_type": "code",
      "metadata": {
        "id": "NMabU65bAEC5",
        "colab_type": "code",
        "colab": {}
      },
      "source": [
        "# 전체 성분의 표준편차, 분산, 최소값, 최대값 계산\n",
        "# (std, var, min, max)\n"
      ],
      "execution_count": 0,
      "outputs": []
    },
    {
      "cell_type": "code",
      "metadata": {
        "id": "wUSl7FmRANOz",
        "colab_type": "code",
        "colab": {}
      },
      "source": [
        ""
      ],
      "execution_count": 0,
      "outputs": []
    },
    {
      "cell_type": "code",
      "metadata": {
        "id": "S7fEX_ysAQUO",
        "colab_type": "code",
        "outputId": "6f8eb5d4-a95f-4997-c270-8aed81e364e9",
        "colab": {
          "base_uri": "https://localhost:8080/",
          "height": 34
        }
      },
      "source": [
        "# 전체 성분의 최소값, 최대값이 위치한 인덱스를 반환\n",
        "# (argmin, argmax)\n",
        "np.argmin(arr1)"
      ],
      "execution_count": 0,
      "outputs": [
        {
          "output_type": "execute_result",
          "data": {
            "text/plain": [
              "8"
            ]
          },
          "metadata": {
            "tags": []
          },
          "execution_count": 118
        }
      ]
    },
    {
      "cell_type": "code",
      "metadata": {
        "id": "rXcRYBExAYx7",
        "colab_type": "code",
        "outputId": "f887a354-2005-46c0-9691-2a779f4282ac",
        "colab": {
          "base_uri": "https://localhost:8080/",
          "height": 34
        }
      },
      "source": [
        "np.argmax(arr1)"
      ],
      "execution_count": 0,
      "outputs": [
        {
          "output_type": "execute_result",
          "data": {
            "text/plain": [
              "1"
            ]
          },
          "metadata": {
            "tags": []
          },
          "execution_count": 119
        }
      ]
    },
    {
      "cell_type": "code",
      "metadata": {
        "id": "AQ6vHlA_AcMZ",
        "colab_type": "code",
        "outputId": "b8ee858d-f73b-4e40-850e-bc3868390570",
        "colab": {
          "base_uri": "https://localhost:8080/",
          "height": 101
        }
      },
      "source": [
        "# 맨 처음 성분부터 각 성분까지의 누적합 또는 누적곱을 계산\n",
        "# (cumsum, cumprod)\n",
        "np.cumsum(arr1,axis=1)"
      ],
      "execution_count": 0,
      "outputs": [
        {
          "output_type": "execute_result",
          "data": {
            "text/plain": [
              "array([[ 1.16727259,  2.78274061,  2.75852996],\n",
              "       [-0.12746447,  0.54376968,  0.40080885],\n",
              "       [-0.04372709,  0.60262138, -1.56197738],\n",
              "       [ 1.45254653,  1.48503146,  2.37958239],\n",
              "       [-0.22003546, -0.7154584 , -1.53451246]])"
            ]
          },
          "metadata": {
            "tags": []
          },
          "execution_count": 120
        }
      ]
    },
    {
      "cell_type": "code",
      "metadata": {
        "id": "0-KN5ov6Ao3i",
        "colab_type": "code",
        "colab": {}
      },
      "source": [
        ""
      ],
      "execution_count": 0,
      "outputs": []
    },
    {
      "cell_type": "code",
      "metadata": {
        "id": "3UiirSN_ArH9",
        "colab_type": "code",
        "colab": {}
      },
      "source": [
        ""
      ],
      "execution_count": 0,
      "outputs": []
    },
    {
      "cell_type": "code",
      "metadata": {
        "id": "xqN4XBhgAtkN",
        "colab_type": "code",
        "colab": {}
      },
      "source": [
        "# 6-4. 기타 함수"
      ],
      "execution_count": 0,
      "outputs": []
    },
    {
      "cell_type": "code",
      "metadata": {
        "id": "foFgtfxkA3EI",
        "colab_type": "code",
        "colab": {}
      },
      "source": [
        ""
      ],
      "execution_count": 0,
      "outputs": []
    },
    {
      "cell_type": "code",
      "metadata": {
        "id": "fc33Jo7vA38g",
        "colab_type": "code",
        "outputId": "59bcd079-6026-4773-8bfa-f126ee6a8514",
        "colab": {
          "base_uri": "https://localhost:8080/",
          "height": 101
        }
      },
      "source": [
        "# 같은 행에 대해서 오름차순으로 정렬\n",
        "np.sort(arr1,axis=0)"
      ],
      "execution_count": 0,
      "outputs": [
        {
          "output_type": "execute_result",
          "data": {
            "text/plain": [
              "array([[-0.22003546, -0.49542293, -2.16459875],\n",
              "       [-0.12746447,  0.03248493, -0.81905406],\n",
              "       [-0.04372709,  0.64634846, -0.14296083],\n",
              "       [ 1.16727259,  0.67123415, -0.02421065],\n",
              "       [ 1.45254653,  1.61546802,  0.89455093]])"
            ]
          },
          "metadata": {
            "tags": []
          },
          "execution_count": 121
        }
      ]
    },
    {
      "cell_type": "code",
      "metadata": {
        "id": "_KANSfuzA7KA",
        "colab_type": "code",
        "outputId": "2c96d009-bd37-4fd5-e7ea-fac2e0093613",
        "colab": {
          "base_uri": "https://localhost:8080/",
          "height": 101
        }
      },
      "source": [
        "# 같은 행에 대해서 내림차순으로 정렬\n",
        "np.sort(arr1,axis=0)[::-1]"
      ],
      "execution_count": 0,
      "outputs": [
        {
          "output_type": "execute_result",
          "data": {
            "text/plain": [
              "array([[ 1.45254653,  1.61546802,  0.89455093],\n",
              "       [ 1.16727259,  0.67123415, -0.02421065],\n",
              "       [-0.04372709,  0.64634846, -0.14296083],\n",
              "       [-0.12746447,  0.03248493, -0.81905406],\n",
              "       [-0.22003546, -0.49542293, -2.16459875]])"
            ]
          },
          "metadata": {
            "tags": []
          },
          "execution_count": 130
        }
      ]
    },
    {
      "cell_type": "code",
      "metadata": {
        "id": "htnOSJ64BBC9",
        "colab_type": "code",
        "colab": {}
      },
      "source": [
        "# 행 방향으로 오름차순으로 정렬\n"
      ],
      "execution_count": 0,
      "outputs": []
    }
  ]
}