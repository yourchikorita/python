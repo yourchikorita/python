{
  "nbformat": 4,
  "nbformat_minor": 0,
  "metadata": {
    "colab": {
      "name": "전은정_내장함수.ipynb",
      "version": "0.3.2",
      "provenance": [],
      "collapsed_sections": []
    },
    "kernelspec": {
      "name": "python3",
      "display_name": "Python 3"
    }
  },
  "cells": [
    {
      "cell_type": "markdown",
      "metadata": {
        "id": "49xhBh-XTbGh",
        "colab_type": "text"
      },
      "source": [
        "# 내장함수\n",
        "사람들이 파이썬에 이미 만들어 놓은 함수\n",
        "<pre>\n",
        "ex) print()"
      ]
    },
    {
      "cell_type": "markdown",
      "metadata": {
        "id": "PE9BkkQeWxih",
        "colab_type": "text"
      },
      "source": [
        "### print()\n",
        "값을 출력한다."
      ]
    },
    {
      "cell_type": "code",
      "metadata": {
        "id": "RMqeSC49Wxgh",
        "colab_type": "code",
        "colab": {
          "base_uri": "https://localhost:8080/",
          "height": 34
        },
        "outputId": "db945718-216f-485a-e4ff-27a66aef6069"
      },
      "source": [
        "print('철수')"
      ],
      "execution_count": 1,
      "outputs": [
        {
          "output_type": "stream",
          "text": [
            "철수\n"
          ],
          "name": "stdout"
        }
      ]
    },
    {
      "cell_type": "code",
      "metadata": {
        "id": "cbN8Oh6AWxdg",
        "colab_type": "code",
        "colab": {
          "base_uri": "https://localhost:8080/",
          "height": 50
        },
        "outputId": "cd938c26-cd13-49ac-d1c9-bba2699fdb96"
      },
      "source": [
        "# ;를 쓰면 함수를 한 줄로 이어 쓸 수 있다.\n",
        "print('lee');print('minsu')"
      ],
      "execution_count": 2,
      "outputs": [
        {
          "output_type": "stream",
          "text": [
            "lee\n",
            "minsu\n"
          ],
          "name": "stdout"
        }
      ]
    },
    {
      "cell_type": "code",
      "metadata": {
        "id": "NvqIxA2cWxa5",
        "colab_type": "code",
        "colab": {
          "base_uri": "https://localhost:8080/",
          "height": 34
        },
        "outputId": "d0072bcc-8e37-4d4b-cb00-88dac876b947"
      },
      "source": [
        "# ,end= 을 넣으면 뒤의 값이 따라오게 한다.\n",
        "print('chu',end=' ')\n",
        "print('minsu')"
      ],
      "execution_count": 6,
      "outputs": [
        {
          "output_type": "stream",
          "text": [
            "chu minsu\n"
          ],
          "name": "stdout"
        }
      ]
    },
    {
      "cell_type": "code",
      "metadata": {
        "id": "7COiMqFmWxYR",
        "colab_type": "code",
        "colab": {}
      },
      "source": [
        "print('chu',end=',')\n",
        "print('minsu')"
      ],
      "execution_count": 0,
      "outputs": []
    },
    {
      "cell_type": "code",
      "metadata": {
        "id": "AN-okNHYWxV4",
        "colab_type": "code",
        "colab": {
          "base_uri": "https://localhost:8080/",
          "height": 34
        },
        "outputId": "5c0da1f8-5cef-4425-a3db-0e7a7cc5c47d"
      },
      "source": [
        "# 띄어 쓰기는 콤마로.\n",
        "print('My heart will go on')"
      ],
      "execution_count": 7,
      "outputs": [
        {
          "output_type": "stream",
          "text": [
            "My heart will go on\n"
          ],
          "name": "stdout"
        }
      ]
    },
    {
      "cell_type": "code",
      "metadata": {
        "id": "PLITxlHQrGlB",
        "colab_type": "code",
        "colab": {
          "base_uri": "https://localhost:8080/",
          "height": 34
        },
        "outputId": "d11d1c80-bed2-474a-a70e-010499bea3b5"
      },
      "source": [
        "print('My','heart','will','go','on')"
      ],
      "execution_count": 8,
      "outputs": [
        {
          "output_type": "stream",
          "text": [
            "My heart will go on\n"
          ],
          "name": "stdout"
        }
      ]
    },
    {
      "cell_type": "markdown",
      "metadata": {
        "id": "qz9RJNl7Wf7_",
        "colab_type": "text"
      },
      "source": [
        "### type()\n",
        "값의 타입을 알려준다."
      ]
    },
    {
      "cell_type": "code",
      "metadata": {
        "id": "7AmbBfb-Wf5R",
        "colab_type": "code",
        "colab": {
          "base_uri": "https://localhost:8080/",
          "height": 34
        },
        "outputId": "ddc20f13-cb42-48bb-ec40-74f084a64cb6"
      },
      "source": [
        "a=1\n",
        "type(a)"
      ],
      "execution_count": 9,
      "outputs": [
        {
          "output_type": "execute_result",
          "data": {
            "text/plain": [
              "int"
            ]
          },
          "metadata": {
            "tags": []
          },
          "execution_count": 9
        }
      ]
    },
    {
      "cell_type": "code",
      "metadata": {
        "id": "CdOD61BcWf3B",
        "colab_type": "code",
        "colab": {
          "base_uri": "https://localhost:8080/",
          "height": 34
        },
        "outputId": "4063b9f6-2d11-4381-e116-f7abbf14a10f"
      },
      "source": [
        "a='1'\n",
        "type(a)"
      ],
      "execution_count": 10,
      "outputs": [
        {
          "output_type": "execute_result",
          "data": {
            "text/plain": [
              "str"
            ]
          },
          "metadata": {
            "tags": []
          },
          "execution_count": 10
        }
      ]
    },
    {
      "cell_type": "code",
      "metadata": {
        "id": "Ben_dEgaWf0x",
        "colab_type": "code",
        "colab": {
          "base_uri": "https://localhost:8080/",
          "height": 34
        },
        "outputId": "35e65a94-abb0-456f-b807-adaeadae8d2c"
      },
      "source": [
        "a=1.2\n",
        "type(a)"
      ],
      "execution_count": 11,
      "outputs": [
        {
          "output_type": "execute_result",
          "data": {
            "text/plain": [
              "float"
            ]
          },
          "metadata": {
            "tags": []
          },
          "execution_count": 11
        }
      ]
    },
    {
      "cell_type": "code",
      "metadata": {
        "id": "BBmARSqfWfyQ",
        "colab_type": "code",
        "colab": {
          "base_uri": "https://localhost:8080/",
          "height": 34
        },
        "outputId": "e2f41784-2da2-4e82-e804-0509b2460afd"
      },
      "source": [
        "a=[1,2,3]\n",
        "type(a)"
      ],
      "execution_count": 12,
      "outputs": [
        {
          "output_type": "execute_result",
          "data": {
            "text/plain": [
              "list"
            ]
          },
          "metadata": {
            "tags": []
          },
          "execution_count": 12
        }
      ]
    },
    {
      "cell_type": "code",
      "metadata": {
        "id": "-gzvkLgeWftQ",
        "colab_type": "code",
        "colab": {
          "base_uri": "https://localhost:8080/",
          "height": 34
        },
        "outputId": "8081b43b-db72-49d6-aab5-f5c37d7b60b6"
      },
      "source": [
        "a=(1,2,3)\n",
        "type(a)"
      ],
      "execution_count": 13,
      "outputs": [
        {
          "output_type": "execute_result",
          "data": {
            "text/plain": [
              "tuple"
            ]
          },
          "metadata": {
            "tags": []
          },
          "execution_count": 13
        }
      ]
    },
    {
      "cell_type": "code",
      "metadata": {
        "id": "LAn0_i5zWfrI",
        "colab_type": "code",
        "colab": {
          "base_uri": "https://localhost:8080/",
          "height": 34
        },
        "outputId": "6bf98cc0-91c1-4c6d-f90e-397ad5cd2af7"
      },
      "source": [
        "\n",
        "a={'a':1,'b':2}\n",
        "type(a)"
      ],
      "execution_count": 14,
      "outputs": [
        {
          "output_type": "execute_result",
          "data": {
            "text/plain": [
              "dict"
            ]
          },
          "metadata": {
            "tags": []
          },
          "execution_count": 14
        }
      ]
    },
    {
      "cell_type": "markdown",
      "metadata": {
        "id": "zaFkcLUaT23y",
        "colab_type": "text"
      },
      "source": [
        "### len()\n",
        "값의 길이(또는 값의 갯수)를 돌려줌."
      ]
    },
    {
      "cell_type": "code",
      "metadata": {
        "id": "2jxiFs1hUT82",
        "colab_type": "code",
        "colab": {
          "base_uri": "https://localhost:8080/",
          "height": 34
        },
        "outputId": "f4fd7a66-3b3a-406e-a988-ff776b94368e"
      },
      "source": [
        "a='전은정'\n",
        "print(len(a))"
      ],
      "execution_count": 15,
      "outputs": [
        {
          "output_type": "stream",
          "text": [
            "3\n"
          ],
          "name": "stdout"
        }
      ]
    },
    {
      "cell_type": "code",
      "metadata": {
        "id": "576oteumUXcz",
        "colab_type": "code",
        "colab": {
          "base_uri": "https://localhost:8080/",
          "height": 34
        },
        "outputId": "29eb5113-84ba-401e-b02c-271f284ef587"
      },
      "source": [
        "a=[1,2,3,4]\n",
        "print(len(a))"
      ],
      "execution_count": 17,
      "outputs": [
        {
          "output_type": "stream",
          "text": [
            "4\n"
          ],
          "name": "stdout"
        }
      ]
    },
    {
      "cell_type": "code",
      "metadata": {
        "id": "9riOyTb3ZOjL",
        "colab_type": "code",
        "colab": {
          "base_uri": "https://localhost:8080/",
          "height": 34
        },
        "outputId": "6c9b2fe6-f53c-4478-b588-84aa39674de5"
      },
      "source": [
        "a=(1,2,'ㅋ')\n",
        "print(len(a))"
      ],
      "execution_count": 18,
      "outputs": [
        {
          "output_type": "stream",
          "text": [
            "3\n"
          ],
          "name": "stdout"
        }
      ]
    },
    {
      "cell_type": "code",
      "metadata": {
        "id": "owcefBxYs5Qi",
        "colab_type": "code",
        "colab": {
          "base_uri": "https://localhost:8080/",
          "height": 34
        },
        "outputId": "2a2853a8-b48e-4e28-e22d-ce99e95d4f80"
      },
      "source": [
        "a={'s':1,'d':2222,'g':33}\n",
        "print(len(a))"
      ],
      "execution_count": 21,
      "outputs": [
        {
          "output_type": "stream",
          "text": [
            "3\n"
          ],
          "name": "stdout"
        }
      ]
    },
    {
      "cell_type": "markdown",
      "metadata": {
        "id": "omFWmzF5ZTW9",
        "colab_type": "text"
      },
      "source": [
        "### int()\n",
        "'1' 같은 문자열 숫자나 1.2같은 소숫점 숫자를 정수로 돌려줌."
      ]
    },
    {
      "cell_type": "code",
      "metadata": {
        "id": "74Zhxh_-Z6tc",
        "colab_type": "code",
        "colab": {
          "base_uri": "https://localhost:8080/",
          "height": 34
        },
        "outputId": "222401dd-fcc9-4e50-a9f0-ecaabf8e28cf"
      },
      "source": [
        "a='1'\n",
        "b=int(a)\n",
        "type(b)"
      ],
      "execution_count": 22,
      "outputs": [
        {
          "output_type": "execute_result",
          "data": {
            "text/plain": [
              "int"
            ]
          },
          "metadata": {
            "tags": []
          },
          "execution_count": 22
        }
      ]
    },
    {
      "cell_type": "code",
      "metadata": {
        "id": "LIrPkJvkaO3j",
        "colab_type": "code",
        "colab": {
          "base_uri": "https://localhost:8080/",
          "height": 50
        },
        "outputId": "96c03c16-9bb7-47f8-887f-46ec07f131f8"
      },
      "source": [
        "a=2.34\n",
        "b=int(a)\n",
        "print(type(b))\n",
        "print(a)"
      ],
      "execution_count": 24,
      "outputs": [
        {
          "output_type": "stream",
          "text": [
            "<class 'int'>\n",
            "2.34\n"
          ],
          "name": "stdout"
        }
      ]
    },
    {
      "cell_type": "markdown",
      "metadata": {
        "id": "kR3FwAtEafso",
        "colab_type": "text"
      },
      "source": [
        "### str()\n",
        "문자열로 변환해 돌려줌."
      ]
    },
    {
      "cell_type": "code",
      "metadata": {
        "id": "Cu-d8KGJawy_",
        "colab_type": "code",
        "colab": {
          "base_uri": "https://localhost:8080/",
          "height": 34
        },
        "outputId": "bd2f990e-1525-492c-e6e5-57370a995c3a"
      },
      "source": [
        "a=1\n",
        "b=str(a)\n",
        "type(a)"
      ],
      "execution_count": 25,
      "outputs": [
        {
          "output_type": "execute_result",
          "data": {
            "text/plain": [
              "int"
            ]
          },
          "metadata": {
            "tags": []
          },
          "execution_count": 25
        }
      ]
    },
    {
      "cell_type": "markdown",
      "metadata": {
        "id": "jwo5-GVChJNr",
        "colab_type": "text"
      },
      "source": [
        "### input()\n",
        "사용자 입력 받는 함수"
      ]
    },
    {
      "cell_type": "code",
      "metadata": {
        "id": "M5z8mPSNhJIz",
        "colab_type": "code",
        "colab": {
          "base_uri": "https://localhost:8080/",
          "height": 34
        },
        "outputId": "b274839b-e0ef-4376-ae50-3586590c7b80"
      },
      "source": [
        "a=input()"
      ],
      "execution_count": 31,
      "outputs": [
        {
          "output_type": "stream",
          "text": [
            "111\n"
          ],
          "name": "stdout"
        }
      ]
    },
    {
      "cell_type": "code",
      "metadata": {
        "id": "tz6ow9GmhJF7",
        "colab_type": "code",
        "colab": {
          "base_uri": "https://localhost:8080/",
          "height": 34
        },
        "outputId": "5516d492-0914-4a73-f42f-90bc03f8099c"
      },
      "source": [
        "print(a)"
      ],
      "execution_count": 32,
      "outputs": [
        {
          "output_type": "stream",
          "text": [
            "111\n"
          ],
          "name": "stdout"
        }
      ]
    },
    {
      "cell_type": "code",
      "metadata": {
        "id": "lD_KKo15hJBp",
        "colab_type": "code",
        "colab": {
          "base_uri": "https://localhost:8080/",
          "height": 34
        },
        "outputId": "6fb2fcbf-c66d-4e5c-f70f-8fc5e28c40b7"
      },
      "source": [
        "#문자열받을때는 ''\n",
        "a=input('')"
      ],
      "execution_count": 28,
      "outputs": [
        {
          "output_type": "stream",
          "text": [
            "철수야\n"
          ],
          "name": "stdout"
        }
      ]
    },
    {
      "cell_type": "code",
      "metadata": {
        "id": "ceO5tjwhhsbB",
        "colab_type": "code",
        "colab": {
          "base_uri": "https://localhost:8080/",
          "height": 34
        },
        "outputId": "d0ebb000-98e5-4483-a8fc-8ae6b4a0eef0"
      },
      "source": [
        "print(a)"
      ],
      "execution_count": 29,
      "outputs": [
        {
          "output_type": "stream",
          "text": [
            "철수야\n"
          ],
          "name": "stdout"
        }
      ]
    },
    {
      "cell_type": "code",
      "metadata": {
        "id": "zebyueTehsX8",
        "colab_type": "code",
        "colab": {
          "base_uri": "https://localhost:8080/",
          "height": 34
        },
        "outputId": "52187b61-97ee-4050-be63-a36f4e8675f1"
      },
      "source": [
        "a=input('이름을 입력하라 >')"
      ],
      "execution_count": 33,
      "outputs": [
        {
          "output_type": "stream",
          "text": [
            "이름을 입력하라 >전쓰전쓰전은정\n"
          ],
          "name": "stdout"
        }
      ]
    },
    {
      "cell_type": "code",
      "metadata": {
        "id": "hYg9tygMhsUg",
        "colab_type": "code",
        "colab": {
          "base_uri": "https://localhost:8080/",
          "height": 34
        },
        "outputId": "112a5239-75bf-4f36-933a-43a32649c34e"
      },
      "source": [
        "print(a)"
      ],
      "execution_count": 34,
      "outputs": [
        {
          "output_type": "stream",
          "text": [
            "전쓰전쓰전은정\n"
          ],
          "name": "stdout"
        }
      ]
    },
    {
      "cell_type": "code",
      "metadata": {
        "id": "pWjPi1VNh4Z2",
        "colab_type": "code",
        "colab": {
          "base_uri": "https://localhost:8080/",
          "height": 34
        },
        "outputId": "197f42ed-12bc-4735-94a4-67e8cd6ebff4"
      },
      "source": [
        "a = int(input('숫자를 입력하라 >'))"
      ],
      "execution_count": 35,
      "outputs": [
        {
          "output_type": "stream",
          "text": [
            "숫자를 입력하라 >5678\n"
          ],
          "name": "stdout"
        }
      ]
    },
    {
      "cell_type": "code",
      "metadata": {
        "id": "_GgSO_pCh4XS",
        "colab_type": "code",
        "colab": {
          "base_uri": "https://localhost:8080/",
          "height": 50
        },
        "outputId": "ff6594da-c212-4fe5-91eb-1a11b7c4d3a4"
      },
      "source": [
        "print(a)\n",
        "print(type(a))"
      ],
      "execution_count": 37,
      "outputs": [
        {
          "output_type": "stream",
          "text": [
            "5678\n",
            "<class 'int'>\n"
          ],
          "name": "stdout"
        }
      ]
    },
    {
      "cell_type": "markdown",
      "metadata": {
        "id": "9asdjpLnbSHR",
        "colab_type": "text"
      },
      "source": [
        "### list()\n",
        "리스트로 만들어 돌려줌."
      ]
    },
    {
      "cell_type": "code",
      "metadata": {
        "id": "8ENTkRMebmZq",
        "colab_type": "code",
        "colab": {
          "base_uri": "https://localhost:8080/",
          "height": 34
        },
        "outputId": "4d605352-65f4-4f30-fbab-4f06138b92d7"
      },
      "source": [
        "a='Julia'\n",
        "list1=list(a)\n",
        "print(list1)"
      ],
      "execution_count": 39,
      "outputs": [
        {
          "output_type": "stream",
          "text": [
            "['J', 'u', 'l', 'i', 'a']\n"
          ],
          "name": "stdout"
        }
      ]
    },
    {
      "cell_type": "code",
      "metadata": {
        "id": "bve-AzpnbuFq",
        "colab_type": "code",
        "colab": {
          "base_uri": "https://localhost:8080/",
          "height": 34
        },
        "outputId": "ef4395c2-18f1-4a69-f61a-5338b62e5add"
      },
      "source": [
        "a=(1,2,3)\n",
        "print(list(a))"
      ],
      "execution_count": 40,
      "outputs": [
        {
          "output_type": "stream",
          "text": [
            "[1, 2, 3]\n"
          ],
          "name": "stdout"
        }
      ]
    },
    {
      "cell_type": "markdown",
      "metadata": {
        "id": "Nb3Eujf5b5Fx",
        "colab_type": "text"
      },
      "source": [
        "### range()\n",
        "입력받은 숫자의 범위 값을 돌려줌.\n",
        "\n",
        "range(시작숫자, 끝숫자+1)\n",
        "\n",
        "<pre>\n",
        "사용법:\n",
        "list(range())"
      ]
    },
    {
      "cell_type": "code",
      "metadata": {
        "id": "mKxM_t5Rcqir",
        "colab_type": "code",
        "colab": {
          "base_uri": "https://localhost:8080/",
          "height": 54
        },
        "outputId": "171d22cb-8764-4e8a-94b4-19a6550a677c"
      },
      "source": [
        "a=list(range(1,101))\n",
        "print(a)"
      ],
      "execution_count": 42,
      "outputs": [
        {
          "output_type": "stream",
          "text": [
            "[1, 2, 3, 4, 5, 6, 7, 8, 9, 10, 11, 12, 13, 14, 15, 16, 17, 18, 19, 20, 21, 22, 23, 24, 25, 26, 27, 28, 29, 30, 31, 32, 33, 34, 35, 36, 37, 38, 39, 40, 41, 42, 43, 44, 45, 46, 47, 48, 49, 50, 51, 52, 53, 54, 55, 56, 57, 58, 59, 60, 61, 62, 63, 64, 65, 66, 67, 68, 69, 70, 71, 72, 73, 74, 75, 76, 77, 78, 79, 80, 81, 82, 83, 84, 85, 86, 87, 88, 89, 90, 91, 92, 93, 94, 95, 96, 97, 98, 99, 100]\n"
          ],
          "name": "stdout"
        }
      ]
    },
    {
      "cell_type": "code",
      "metadata": {
        "id": "vWjRGRy-cUh2",
        "colab_type": "code",
        "colab": {
          "base_uri": "https://localhost:8080/",
          "height": 34
        },
        "outputId": "cf2c9dc7-658d-436c-92ce-25f80c8ca4df"
      },
      "source": [
        "# 시작 숫자는 생략 가능\n",
        "a=list(range(11))\n",
        "print(a)"
      ],
      "execution_count": 49,
      "outputs": [
        {
          "output_type": "stream",
          "text": [
            "[0, 1, 2, 3, 4, 5, 6, 7, 8, 9, 10]\n"
          ],
          "name": "stdout"
        }
      ]
    },
    {
      "cell_type": "code",
      "metadata": {
        "id": "GdhgzfoucX9b",
        "colab_type": "code",
        "colab": {
          "base_uri": "https://localhost:8080/",
          "height": 54
        },
        "outputId": "9f27bab1-2578-4c8b-fbb7-08914bb7d903"
      },
      "source": [
        "a=range(1,101)\n",
        "print(tuple(a))"
      ],
      "execution_count": 44,
      "outputs": [
        {
          "output_type": "stream",
          "text": [
            "(1, 2, 3, 4, 5, 6, 7, 8, 9, 10, 11, 12, 13, 14, 15, 16, 17, 18, 19, 20, 21, 22, 23, 24, 25, 26, 27, 28, 29, 30, 31, 32, 33, 34, 35, 36, 37, 38, 39, 40, 41, 42, 43, 44, 45, 46, 47, 48, 49, 50, 51, 52, 53, 54, 55, 56, 57, 58, 59, 60, 61, 62, 63, 64, 65, 66, 67, 68, 69, 70, 71, 72, 73, 74, 75, 76, 77, 78, 79, 80, 81, 82, 83, 84, 85, 86, 87, 88, 89, 90, 91, 92, 93, 94, 95, 96, 97, 98, 99, 100)\n"
          ],
          "name": "stdout"
        }
      ]
    },
    {
      "cell_type": "code",
      "metadata": {
        "id": "X2Phs5gggTOn",
        "colab_type": "code",
        "colab": {
          "base_uri": "https://localhost:8080/",
          "height": 34
        },
        "outputId": "ad77124a-2f95-446b-9871-fb0228072874"
      },
      "source": [
        "### 숫자 사이 거리 추가\n",
        "a=list(range(1,11,2))\n",
        "print(a)"
      ],
      "execution_count": 51,
      "outputs": [
        {
          "output_type": "stream",
          "text": [
            "[1, 3, 5, 7, 9]\n"
          ],
          "name": "stdout"
        }
      ]
    },
    {
      "cell_type": "code",
      "metadata": {
        "id": "MmyKQTFXgg8K",
        "colab_type": "code",
        "colab": {
          "base_uri": "https://localhost:8080/",
          "height": 34
        },
        "outputId": "88df55e4-3303-499b-ead2-2b4adc1e1958"
      },
      "source": [
        "a=list(range(0,11,2))\n",
        "print(a)"
      ],
      "execution_count": 52,
      "outputs": [
        {
          "output_type": "stream",
          "text": [
            "[0, 2, 4, 6, 8, 10]\n"
          ],
          "name": "stdout"
        }
      ]
    },
    {
      "cell_type": "code",
      "metadata": {
        "id": "mn4PowHtyWH_",
        "colab_type": "code",
        "colab": {
          "base_uri": "https://localhost:8080/",
          "height": 34
        },
        "outputId": "917146ea-9c04-42e3-9feb-a53325b45054"
      },
      "source": [
        "a=list(range(0,-10,-2))\n",
        "print(a)"
      ],
      "execution_count": 53,
      "outputs": [
        {
          "output_type": "stream",
          "text": [
            "[0, -2, -4, -6, -8]\n"
          ],
          "name": "stdout"
        }
      ]
    },
    {
      "cell_type": "code",
      "metadata": {
        "id": "OCWtrViqyevv",
        "colab_type": "code",
        "colab": {}
      },
      "source": [
        ""
      ],
      "execution_count": 0,
      "outputs": []
    }
  ]
}