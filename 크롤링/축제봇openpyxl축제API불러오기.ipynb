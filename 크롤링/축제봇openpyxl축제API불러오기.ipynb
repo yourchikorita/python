{
  "nbformat": 4,
  "nbformat_minor": 0,
  "metadata": {
    "colab": {
      "name": "축제봇openpyxl축제API불러오기.ipynb",
      "provenance": [],
      "collapsed_sections": []
    },
    "kernelspec": {
      "name": "python3",
      "display_name": "Python 3"
    }
  },
  "cells": [
    {
      "cell_type": "code",
      "metadata": {
        "id": "nAbKi-nBxAqj",
        "colab_type": "code",
        "outputId": "f6cc71c6-5969-49a9-ca97-ffb38e6fdc64",
        "colab": {
          "base_uri": "https://localhost:8080/",
          "height": 34
        }
      },
      "source": [
        "#list 간 겹치지 않는 데이타 빼서 새로운 리스트 만들기\n",
        "a=['aaa','bbb','ddd']\n",
        "b=['aaa']\n",
        "no=[]\n",
        "for i in a:\n",
        "  if i not in b:\n",
        "    no.append(i)\n",
        "print(no)    "
      ],
      "execution_count": 0,
      "outputs": [
        {
          "output_type": "stream",
          "text": [
            "['bbb', 'ddd']\n"
          ],
          "name": "stdout"
        }
      ]
    },
    {
      "cell_type": "code",
      "metadata": {
        "id": "F6oX032qfWPx",
        "colab_type": "code",
        "outputId": "cfe4be75-8130-4cb4-89c4-d570874ea975",
        "colab": {
          "base_uri": "https://localhost:8080/",
          "height": 50
        }
      },
      "source": [
        "#list 에서 특정 문자 모두 찾는 법, 이걸 str로 담아도됨\n",
        "a=['2번 이라고합니다.','3번','4번','12번']\n",
        "for i in a:\n",
        "  if '2번' in i:\n",
        "    print(i)"
      ],
      "execution_count": 0,
      "outputs": [
        {
          "output_type": "stream",
          "text": [
            "2번 이라고합니다.\n",
            "12번\n"
          ],
          "name": "stdout"
        }
      ]
    },
    {
      "cell_type": "code",
      "metadata": {
        "id": "gYjslK0P6oTj",
        "colab_type": "code",
        "outputId": "14659089-c5f8-4456-a05e-085b1b481dd1",
        "colab": {
          "base_uri": "https://localhost:8080/",
          "height": 134
        }
      },
      "source": [
        "from openpyxl import load_workbook\n",
        "#data_only=Ture로 해줘야 수식이 아닌 값으로 받아온다.\n",
        "load_wb = load_workbook(\"Database.xlsx\", data_only=True)\n",
        "#시트 이름으로 불러오기\n",
        "load_ws = load_wb['fv']\n",
        "print('\\n-----지정한 셀 출력-----')\n",
        "get_cells = load_ws['A50':'A52']\n",
        "aa=''\n",
        "for row in get_cells:\n",
        "        for cell in row:\n",
        "            aa=aa+cell.value+'\\n'\n",
        "print(aa)   \n",
        "print(type(aa))         "
      ],
      "execution_count": 0,
      "outputs": [
        {
          "output_type": "stream",
          "text": [
            "\n",
            "-----지정한 셀 출력-----\n",
            "<동물등록방법>\n",
            "1. 내장형 무선식별장치 개체 삽입\n",
            "2. 외장형 무선식별장치 부착\n",
            "\n",
            "<class 'str'>\n"
          ],
          "name": "stdout"
        }
      ]
    },
    {
      "cell_type": "code",
      "metadata": {
        "id": "8eZllgCmhhfj",
        "colab_type": "code",
        "outputId": "a9efdc41-7f05-4c99-ceae-f00221619c8d",
        "colab": {
          "base_uri": "https://localhost:8080/",
          "height": 185
        }
      },
      "source": [
        "from openpyxl import load_workbook\n",
        "#data_only=Ture로 해줘야 수식이 아닌 값으로 받아온다.\n",
        "load_wb = load_workbook(\"small_pet_database.xlsx\", data_only=True)\n",
        "#시트 이름으로 불러오기\n",
        "load_ws = load_wb['Sheet1']\n",
        " \n",
        "#셀 주소로 값 출력\n",
        "#print(load_ws['A1'].value)\n",
        "#셀 좌표로 값 출력\n",
        "#print(load_ws.cell(1,2).value)\n",
        "\n",
        "print('\\n-----지정한 셀 출력-----')\n",
        "get_cells = load_ws['A1':'D2']\n",
        "for row in get_cells:\n",
        "        for cell in row:\n",
        "            print(cell.value)"
      ],
      "execution_count": 0,
      "outputs": [
        {
          "output_type": "stream",
          "text": [
            "\n",
            "-----지정한 셀 출력-----\n",
            "병원이름\n",
            "자치구\n",
            "평일이용시간\n",
            "토요일이용시간\n",
            "파란동물병원\n",
            "양천구\n",
            "10:00~21:00\n",
            "10:00~20:00\n"
          ],
          "name": "stdout"
        }
      ]
    },
    {
      "cell_type": "code",
      "metadata": {
        "id": "_TcrAdEViU3W",
        "colab_type": "code",
        "outputId": "764cb3d0-d98e-4b64-c5f3-2ff8bd00940f",
        "colab": {
          "base_uri": "https://localhost:8080/",
          "height": 470
        }
      },
      "source": [
        "print('\\n-----모든 행 단위로 출력-----')\n",
        "for row in load_ws.rows:\n",
        "    print(row)"
      ],
      "execution_count": 0,
      "outputs": [
        {
          "output_type": "stream",
          "text": [
            "\n",
            "-----모든 행 단위로 출력-----\n",
            "(<Cell 'Sheet1'.A1>, <Cell 'Sheet1'.B1>, <Cell 'Sheet1'.C1>, <Cell 'Sheet1'.D1>, <Cell 'Sheet1'.E1>, <Cell 'Sheet1'.F1>, <Cell 'Sheet1'.G1>)\n",
            "(<Cell 'Sheet1'.A2>, <Cell 'Sheet1'.B2>, <Cell 'Sheet1'.C2>, <Cell 'Sheet1'.D2>, <Cell 'Sheet1'.E2>, <Cell 'Sheet1'.F2>, <Cell 'Sheet1'.G2>)\n",
            "(<Cell 'Sheet1'.A3>, <Cell 'Sheet1'.B3>, <Cell 'Sheet1'.C3>, <Cell 'Sheet1'.D3>, <Cell 'Sheet1'.E3>, <Cell 'Sheet1'.F3>, <Cell 'Sheet1'.G3>)\n",
            "(<Cell 'Sheet1'.A4>, <Cell 'Sheet1'.B4>, <Cell 'Sheet1'.C4>, <Cell 'Sheet1'.D4>, <Cell 'Sheet1'.E4>, <Cell 'Sheet1'.F4>, <Cell 'Sheet1'.G4>)\n",
            "(<Cell 'Sheet1'.A5>, <Cell 'Sheet1'.B5>, <Cell 'Sheet1'.C5>, <Cell 'Sheet1'.D5>, <Cell 'Sheet1'.E5>, <Cell 'Sheet1'.F5>, <Cell 'Sheet1'.G5>)\n",
            "(<Cell 'Sheet1'.A6>, <Cell 'Sheet1'.B6>, <Cell 'Sheet1'.C6>, <Cell 'Sheet1'.D6>, <Cell 'Sheet1'.E6>, <Cell 'Sheet1'.F6>, <Cell 'Sheet1'.G6>)\n",
            "(<Cell 'Sheet1'.A7>, <Cell 'Sheet1'.B7>, <Cell 'Sheet1'.C7>, <Cell 'Sheet1'.D7>, <Cell 'Sheet1'.E7>, <Cell 'Sheet1'.F7>, <Cell 'Sheet1'.G7>)\n",
            "(<Cell 'Sheet1'.A8>, <Cell 'Sheet1'.B8>, <Cell 'Sheet1'.C8>, <Cell 'Sheet1'.D8>, <Cell 'Sheet1'.E8>, <Cell 'Sheet1'.F8>, <Cell 'Sheet1'.G8>)\n",
            "(<Cell 'Sheet1'.A9>, <Cell 'Sheet1'.B9>, <Cell 'Sheet1'.C9>, <Cell 'Sheet1'.D9>, <Cell 'Sheet1'.E9>, <Cell 'Sheet1'.F9>, <Cell 'Sheet1'.G9>)\n",
            "(<Cell 'Sheet1'.A10>, <Cell 'Sheet1'.B10>, <Cell 'Sheet1'.C10>, <Cell 'Sheet1'.D10>, <Cell 'Sheet1'.E10>, <Cell 'Sheet1'.F10>, <Cell 'Sheet1'.G10>)\n",
            "(<Cell 'Sheet1'.A11>, <Cell 'Sheet1'.B11>, <Cell 'Sheet1'.C11>, <Cell 'Sheet1'.D11>, <Cell 'Sheet1'.E11>, <Cell 'Sheet1'.F11>, <Cell 'Sheet1'.G11>)\n",
            "(<Cell 'Sheet1'.A12>, <Cell 'Sheet1'.B12>, <Cell 'Sheet1'.C12>, <Cell 'Sheet1'.D12>, <Cell 'Sheet1'.E12>, <Cell 'Sheet1'.F12>, <Cell 'Sheet1'.G12>)\n",
            "(<Cell 'Sheet1'.A13>, <Cell 'Sheet1'.B13>, <Cell 'Sheet1'.C13>, <Cell 'Sheet1'.D13>, <Cell 'Sheet1'.E13>, <Cell 'Sheet1'.F13>, <Cell 'Sheet1'.G13>)\n",
            "(<Cell 'Sheet1'.A14>, <Cell 'Sheet1'.B14>, <Cell 'Sheet1'.C14>, <Cell 'Sheet1'.D14>, <Cell 'Sheet1'.E14>, <Cell 'Sheet1'.F14>, <Cell 'Sheet1'.G14>)\n",
            "(<Cell 'Sheet1'.A15>, <Cell 'Sheet1'.B15>, <Cell 'Sheet1'.C15>, <Cell 'Sheet1'.D15>, <Cell 'Sheet1'.E15>, <Cell 'Sheet1'.F15>, <Cell 'Sheet1'.G15>)\n",
            "(<Cell 'Sheet1'.A16>, <Cell 'Sheet1'.B16>, <Cell 'Sheet1'.C16>, <Cell 'Sheet1'.D16>, <Cell 'Sheet1'.E16>, <Cell 'Sheet1'.F16>, <Cell 'Sheet1'.G16>)\n",
            "(<Cell 'Sheet1'.A17>, <Cell 'Sheet1'.B17>, <Cell 'Sheet1'.C17>, <Cell 'Sheet1'.D17>, <Cell 'Sheet1'.E17>, <Cell 'Sheet1'.F17>, <Cell 'Sheet1'.G17>)\n",
            "(<Cell 'Sheet1'.A18>, <Cell 'Sheet1'.B18>, <Cell 'Sheet1'.C18>, <Cell 'Sheet1'.D18>, <Cell 'Sheet1'.E18>, <Cell 'Sheet1'.F18>, <Cell 'Sheet1'.G18>)\n",
            "(<Cell 'Sheet1'.A19>, <Cell 'Sheet1'.B19>, <Cell 'Sheet1'.C19>, <Cell 'Sheet1'.D19>, <Cell 'Sheet1'.E19>, <Cell 'Sheet1'.F19>, <Cell 'Sheet1'.G19>)\n",
            "(<Cell 'Sheet1'.A20>, <Cell 'Sheet1'.B20>, <Cell 'Sheet1'.C20>, <Cell 'Sheet1'.D20>, <Cell 'Sheet1'.E20>, <Cell 'Sheet1'.F20>, <Cell 'Sheet1'.G20>)\n",
            "(<Cell 'Sheet1'.A21>, <Cell 'Sheet1'.B21>, <Cell 'Sheet1'.C21>, <Cell 'Sheet1'.D21>, <Cell 'Sheet1'.E21>, <Cell 'Sheet1'.F21>, <Cell 'Sheet1'.G21>)\n",
            "(<Cell 'Sheet1'.A22>, <Cell 'Sheet1'.B22>, <Cell 'Sheet1'.C22>, <Cell 'Sheet1'.D22>, <Cell 'Sheet1'.E22>, <Cell 'Sheet1'.F22>, <Cell 'Sheet1'.G22>)\n",
            "(<Cell 'Sheet1'.A23>, <Cell 'Sheet1'.B23>, <Cell 'Sheet1'.C23>, <Cell 'Sheet1'.D23>, <Cell 'Sheet1'.E23>, <Cell 'Sheet1'.F23>, <Cell 'Sheet1'.G23>)\n",
            "(<Cell 'Sheet1'.A24>, <Cell 'Sheet1'.B24>, <Cell 'Sheet1'.C24>, <Cell 'Sheet1'.D24>, <Cell 'Sheet1'.E24>, <Cell 'Sheet1'.F24>, <Cell 'Sheet1'.G24>)\n",
            "(<Cell 'Sheet1'.A25>, <Cell 'Sheet1'.B25>, <Cell 'Sheet1'.C25>, <Cell 'Sheet1'.D25>, <Cell 'Sheet1'.E25>, <Cell 'Sheet1'.F25>, <Cell 'Sheet1'.G25>)\n"
          ],
          "name": "stdout"
        }
      ]
    },
    {
      "cell_type": "code",
      "metadata": {
        "id": "HWuQp0q8icEr",
        "colab_type": "code",
        "outputId": "2b6da215-b01c-4698-f6cd-bf0f0791f673",
        "colab": {
          "base_uri": "https://localhost:8080/",
          "height": 54
        }
      },
      "source": [
        "#print('\\n-----모든 행과 열 출력-----')\n",
        "all_values = []\n",
        "for row in load_ws.rows:\n",
        "    row_value = []\n",
        "    for cell in row:\n",
        "        row_value.append(cell.value)\n",
        "    all_values.append(row_value)\n",
        "\n",
        "sm_title_list=''\n",
        "for item in all_values[1:]:\n",
        "  i=1\n",
        "  sm_title_list=sm_title_list+item[i-1] +' ('+item[i]+')'+'\\n'\n",
        "  i=i+1\n",
        "print(all_values)  "
      ],
      "execution_count": 0,
      "outputs": [
        {
          "output_type": "stream",
          "text": [
            "[['병원이름', '자치구', '평일이용시간', '토요일이용시간', '전화', '주소', '기타'], ['파란동물병원', '양천구', '10:00~21:00', '10:00~20:00', '02-2692-8255', '서울특별시 양천구 신월로 179', '슬개골탈구,십자인대단열,종양,외과수술전문,혈액,호르몬,영상진단검사'], ['맑은동물병원', '동대문구', '10:00~19:00', '10:00:~17:00', '02-2234-1379', '서울특별시 동대문구 청계천로 417 청계천대성스카이렉스 1-108호', '본 건물 지하주차장 무료. 주차장 입구건물 뒷편 위치.  예방접종 내역 확인 후 미용 예약 가능합니다. 호텔은 하지 않습니다.'], ['웨스턴 동물의료센터', '마포구', '연중무휴', '연중무휴', '02-701-7580', '서울 마포구 노고산동 40-48', '야간 및 응급진료 시간에는 응급진료비 및 진료비의 30%가 할증 청구되오니 일반적인 진료는 주간 진료시간을 이용해주시길 바랍니다. (주간 이용시간 09시~19시)'], ['나래동물병원', '광진구', '10:00~21:00', '10:00~20:00', '02-463-3216', '서울 특별시 광진구 능동로 283 진성빌딩', '일요일 및 공휴일은 휴진'], ['반포자이동물병원', '서초구', '10:00~19:00', '10:00~18:00', '02-3476-3535', '서울특별시 서초구 사평대로 45길 10-25 반포자이주구중심상가2동', '모든 직원이 반려동물을 키우고 있습니다.'], ['24시 우리들동물메디컬센터', '양천구', '연중무휴', '연중무휴', '02-2642-7588', '서울특별시 양천구 목동로 161', '365일 24시간 응급진료'], ['동산동물병원', '송파구', '10:00~19:00', '10:00~19:00', '02-3432-7533', '서울특별시 송파구 백제고분로 270 우신빌딩', '미용 전화는 02-415-7532'], ['우신종합동물병원', '영등포구', '연중무휴', '연중무휴', '02-836-6509', '서울특별시 영등포구 신길로 168', '365일 24시간 응급진료'], ['우성동물의료센터', '서초구', '10:00~19:00', '10:00~19:00', '02-546-9539', '서울특별시 서초구 반포동 745-6', '주차가능'], ['유케어동물병원', '동작구', '연중무휴', '연중무휴', '02-3280-8275', '서울특별시 동작구 상도로 214 성은빌딩', '연중무휴, 24시간 상시 care'], ['세명동물병원', '강서구', '10:00~21:00', '10:00~21:00', '02-2604-3584', '서울특별시 강서구 강서로 17길 52 화곡면옥', '점심시간 1~2시, 고슴도치 햄스터 등 특수동물 치료도 실시'], ['닥터킴동물병원', '관악구', '10:00~20:00', '10:00~19:00', '02-877-5546', '서울특별시 관악구 은천로 97', '매주 수요일 휴무'], ['청담우리동물병원', '강남구', '연중무휴', '연중무휴', '02-541-7515', '서울특별시 강남구 삼성로 614', '연중무휴, 미용,호텔, 예절교육, 경영지원등 파트마다 유능한 스탭들이 관리합니다.'], ['이윤세동물병원', '성동구', '10:00~22:00', '10:00~22:00', '02-2282-7503', '서울특별시 성동구 행당로 76 생활편의시설', '혈구검사기,혈청검사기,전해질검사기,호르몬검사기 등 구비'], ['하니동물의료센터', '양천구', '연중무휴', '연중무휴', '02-2647-1772', '서울특별시 양천구 등촌로 58', '사랑이 깃든 진료라는 원훈으로 넉넉한 주차장과 넓고 쾌적한 대기실 '], ['차오름동물병원', '용산구', '10:00~20:00', '10:00~20:00', '02-706-7975', '서울특별시 용산구 효차우언로 14', '주차가능'], ['아프리카동물병원', '강동구', '10:00~21:00', '10:00~19:30', '02-426-7722', '서울특별시 강동구 아리수로 421', '햄스터,토끼,고슴도치 등 특수동물 진료 가능'], ['상도힐링동물병원', '동작구', '10:00~21:00', '10:30~20:30', '02-812-7512', '서울특별시 동작구 상도로 353', '고슴도치,햄스터,기니피그,조류 등 치료 가능'], ['어울림동물병원', '서대문구', '10:00~20:00', '10:00~20:00', '02-305-4242', '서울특별시 서대문구 가재울미래로 2DMC파크뷰자이 104동 1층 102A호', '주차가능'], ['행복한동물병원', '마포구', '10:00~21:00', '10:00~21:00', '02-302-7502', '서울특별시 마포구 월드컴북로 224', '일요일 및 공휴일 13:00~ 19:00'], ['IM 동물병원', '마포구', '연중무휴', '연중무휴', '02-338-2475', '서울특별시 마포구 양화로 122 1층 홍대 아이엠중성화진료 수술센터', '페럿,햄스터,조류, 토끼, 거북이 등 파충류 전문진료'], ['리베동물의료센터', '양천구', '연중무휴', '연중무휴', '02-2604-0156', '서울특별시 양천구 목동로 231', '소중한 반려동물을 애정과 사랑으로 최선을 다해 진료를 보겠다는 기본적인 신념을 가지고 진료하고있습니다.'], ['독립문동물병원', '서대문구', '09:00~18:00', '09:00~15:00', '02-733-5060', '서울특별시 서대문구 통일로 171-1', '토끼, 햄스터, 기니픽 등 전문진료'], ['우리동물병원', '서대문구', '09:00~21:00', '11:00~19:00', None, '서울특별시', None]]\n"
          ],
          "name": "stdout"
        }
      ]
    },
    {
      "cell_type": "code",
      "metadata": {
        "id": "KQMlJpl37NlR",
        "colab_type": "code",
        "outputId": "d43a8ec7-282f-4081-dd7d-90771c777677",
        "colab": {
          "base_uri": "https://localhost:8080/",
          "height": 50
        }
      },
      "source": [
        "text='나의사랑병원'\n",
        "print(text[-2:])\n",
        "print(text[:-2])"
      ],
      "execution_count": 0,
      "outputs": [
        {
          "output_type": "stream",
          "text": [
            "병원\n",
            "나의사랑\n"
          ],
          "name": "stdout"
        }
      ]
    },
    {
      "cell_type": "code",
      "metadata": {
        "id": "58j3QqwZK3lF",
        "colab_type": "code",
        "colab": {}
      },
      "source": [
        "teststrip='서울특별시 노원구 상계로27길 32, 1층 (상계동) '\n",
        "print(teststrip.replace(\" \", \"\"))"
      ],
      "execution_count": 0,
      "outputs": []
    },
    {
      "cell_type": "code",
      "metadata": {
        "id": "5-yKPoo5E0dO",
        "colab_type": "code",
        "outputId": "23fc87c3-4a51-4924-a32e-89ad817103f6",
        "colab": {
          "base_uri": "https://localhost:8080/",
          "height": 34
        }
      },
      "source": [
        ""
      ],
      "execution_count": 0,
      "outputs": [
        {
          "output_type": "stream",
          "text": [
            "서울특별시 서초구 헌릉로8길 45, 상가동 2층 203호 (내곡동, 서초포레스타2단지)\n"
          ],
          "name": "stdout"
        }
      ]
    },
    {
      "cell_type": "code",
      "metadata": {
        "id": "nLqfK_q8Lkg2",
        "colab_type": "code",
        "outputId": "4012470b-1bae-47de-8353-bbad529c105c",
        "colab": {
          "base_uri": "https://localhost:8080/",
          "height": 34
        }
      },
      "source": [
        "a=['1번 가무 2019.', '2 가족여1번행과 리기 축제 2019.', '3 강동선사문화축제 2019.']\n",
        "b=[]\n",
        "for item in a:\n",
        "  if '1번' in item:\n",
        "    b.append(item)\n",
        "print(b)"
      ],
      "execution_count": 0,
      "outputs": [
        {
          "output_type": "stream",
          "text": [
            "['1번 가무 2019.', '2 가족여1번행과 리기 축제 2019.']\n"
          ],
          "name": "stdout"
        }
      ]
    },
    {
      "cell_type": "code",
      "metadata": {
        "id": "CkGUKkQUPLA2",
        "colab_type": "code",
        "colab": {}
      },
      "source": [
        ""
      ],
      "execution_count": 0,
      "outputs": []
    },
    {
      "cell_type": "code",
      "metadata": {
        "id": "b7UT0fi0Nbjt",
        "colab_type": "code",
        "outputId": "f2cb0cdc-5209-42db-cf20-d7364b54b265",
        "colab": {
          "base_uri": "https://localhost:8080/",
          "height": 50
        }
      },
      "source": [
        "a=['1asdf','2asdf','3asdf']\n",
        "for s in a:\n",
        "    if \"1\" in s:\n",
        "        print(\"있다\")\n",
        "        print(s)\n",
        "        break; #하나만 찾으면 뒤는 안 찾음"
      ],
      "execution_count": 0,
      "outputs": [
        {
          "output_type": "stream",
          "text": [
            "있다\n",
            "1asdf\n"
          ],
          "name": "stdout"
        }
      ]
    },
    {
      "cell_type": "code",
      "metadata": {
        "id": "knmvPUBrVNnW",
        "colab_type": "code",
        "outputId": "8c856455-b096-4b38-b57d-e58af8500bfe",
        "colab": {
          "base_uri": "https://localhost:8080/",
          "height": 34
        }
      },
      "source": [
        "a=['1번 가무 2019.', '2 가족여1번행과 리기 축제 2019.', '3 강동선사문화축제 2019.']\n",
        "myli=''\n",
        "for item in a:\n",
        "  if '1번' in item:\n",
        "    \n",
        "    myli=myli+item\n",
        "    \n",
        "    \n",
        "print('^^^',myli)  "
      ],
      "execution_count": 0,
      "outputs": [
        {
          "output_type": "stream",
          "text": [
            "^^^ 1번 가무 2019.2 가족여1번행과 리기 축제 2019.\n"
          ],
          "name": "stdout"
        }
      ]
    },
    {
      "cell_type": "code",
      "metadata": {
        "id": "tTiP7mAgklqY",
        "colab_type": "code",
        "outputId": "3a55f520-f3eb-4ed7-9c8c-eb78f46252b3",
        "colab": {
          "base_uri": "https://localhost:8080/",
          "height": 541
        }
      },
      "source": [
        "import requests\n",
        "import re\n",
        "import pandas as pd\n",
        "def festival_pick(eventStartDate,eventEndDate):\n",
        "    #서비스키\n",
        "    serviceKey='SZuXUHfZNLEJqiAh4mF9Cjh8iBjzM1s1kBakiqF9P9PXglB6upcm17zFu00%2FjMNA6nodWV76bS4J6fZl0tVZYg%3D%3D'\n",
        "    #20행 보기\n",
        "    numOfRows=40\n",
        "    #목록으로 보기\n",
        "    listYN='Y'\n",
        "    #조회순 보기(B)=조회순,A=제목순)\n",
        "    arrange='B'\n",
        "    \n",
        "    url='http://api.visitkorea.or.kr/openapi/service/rest/KorService/searchFestival?serviceKey={}&numOfRows={}&MobileOS=ETC&MobileApp=AppTest&arrange={}&listYN={}&eventStartDate={}&eventEndDate={}&_type=json'.format(\n",
        "        serviceKey,numOfRows,arrange,listYN,eventStartDate,eventEndDate)\n",
        "    resp = requests.get(url)\n",
        "    data = resp.json()\n",
        "    festival_list = data['response']['body']['items']['item']\n",
        "   #print(festival_list[2]['title'])\n",
        "    #데이타프레임 csv로 저장하기 테스트\n",
        "    \n",
        "    df=pd.DataFrame(festival_list)\n",
        "    df.to_csv('festival.csv')\n",
        "   \n",
        "    i=0\n",
        "    while i<30:\n",
        "        fv_title = festival_list[i]['title']\n",
        "        fv_addr1 = festival_list[i]['addr1']\n",
        "        fv_cat3 = festival_list[i]['cat3']\n",
        "        fv_eventstartdate=festival_list[i]['eventstartdate']\n",
        "        fv_eventenddate = festival_list[i]['eventenddate']\n",
        "         \n",
        "        i=i+1\n",
        "        \n",
        "        if fv_cat3 =='A02070100':\n",
        "            fv_cat3 = '문화관광축제'\n",
        "        elif fv_cat3 == 'A02070200':\n",
        "            fv_cat3 = '일반축제'\n",
        "        elif fv_cat3 =='A02080100':\n",
        "            fv_cat3 ='전통공연'\n",
        "        else:\n",
        "            fv_cat3='기타행사'\n",
        "        \n",
        "        #print('('+fv_cat3+')',fv_title,'/ 장소:'+fv_addr1,'/ 기간:',fv_eventstartdate,'~',fv_eventenddate)  A02081300\n",
        "        #print(fv_cat3)\n",
        "        print(festival_list[i])\n",
        "festival_pick('20190925','20191231')\n",
        "\n",
        "\n"
      ],
      "execution_count": 0,
      "outputs": [
        {
          "output_type": "stream",
          "text": [
            "{'addr1': '서울특별시 영등포구 여의동로 330', 'areacode': 1, 'cat1': 'A02', 'cat2': 'A0207', 'cat3': 'A02070200', 'contentid': 631268, 'contenttypeid': 15, 'createdtime': 20081002102347, 'eventenddate': 20191005, 'eventstartdate': 20191001, 'firstimage': 'http://tong.visitkorea.or.kr/cms/resource/69/2619669_image2_1.jpg', 'firstimage2': 'http://tong.visitkorea.or.kr/cms/resource/69/2619669_image2_1.jpg', 'mapx': '126.9335762510', 'mapy': 37.5263247807, 'mlevel': 6, 'modifiedtime': 20190927102934, 'readcount': 882300, 'sigungucode': 20, 'tel': '02-120', 'title': '한화와 함께하는 서울세계불꽃축제 2019'}\n",
            "{'addr1': '서울특별시 종로구 율곡로 99', 'addr2': '(와룡동)', 'areacode': 1, 'cat1': 'A02', 'cat2': 'A0207', 'cat3': 'A02070200', 'contentid': 1291408, 'contenttypeid': 15, 'createdtime': 20110530153739, 'eventenddate': 20191027, 'eventstartdate': 20190404, 'firstimage': 'http://tong.visitkorea.or.kr/cms/resource/58/980658_image2_1.jpg', 'firstimage2': 'http://tong.visitkorea.or.kr/cms/resource/58/980658_image3_1.jpg', 'mapx': 126.9901029261, 'mapy': 37.5796251553, 'mlevel': 6, 'modifiedtime': 20190816162408, 'readcount': 700585, 'sigungucode': 23, 'tel': '070-4422-3388', 'title': '창덕궁 달빛기행 2019'}\n",
            "{'addr1': '경상남도 진주시 남강로 626', 'areacode': 36, 'cat1': 'A02', 'cat2': 'A0207', 'cat3': 'A02070200', 'contentid': 506926, 'contenttypeid': 15, 'createdtime': 20080307164710, 'eventenddate': 20191013, 'eventstartdate': 20191001, 'firstimage': 'http://tong.visitkorea.or.kr/cms/resource/17/2594917_image2_1.jpg', 'firstimage2': 'http://tong.visitkorea.or.kr/cms/resource/17/2594917_image2_1.jpg', 'mapx': 128.0802763856, 'mapy': 35.1897457534, 'mlevel': 6, 'modifiedtime': 20190919153935, 'readcount': 685539, 'sigungucode': 13, 'tel': '055-755-9111', 'title': '진주 남강유등축제 2019'}\n",
            "{'addr1': '강원도 평창군 진부면 경강로 3562', 'areacode': 32, 'cat1': 'A02', 'cat2': 'A0207', 'cat3': 'A02070100', 'contentid': 386053, 'contenttypeid': 15, 'createdtime': 20141103145001, 'eventenddate': 20200202, 'eventstartdate': 20191221, 'firstimage': 'http://tong.visitkorea.or.kr/cms/resource/53/2362453_image2_1.jpg', 'firstimage2': 'http://tong.visitkorea.or.kr/cms/resource/53/2362453_image2_1.jpg', 'mapx': 128.5570176323, 'mapy': 37.6332341484, 'mlevel': 6, 'modifiedtime': 20191112131349, 'readcount': 610673, 'sigungucode': 15, 'tel': '033-336-4000', 'title': '[유망축제] 평창송어축제 2020'}\n",
            "{'addr1': '경기도 가평군 상면 수목원로 432', 'addr2': '(상면)', 'areacode': 31, 'cat1': 'A02', 'cat2': 'A0207', 'cat3': 'A02070200', 'contentid': 663045, 'contenttypeid': 15, 'createdtime': 20081205173521, 'eventenddate': 20200322, 'eventstartdate': 20191206, 'firstimage': 'http://tong.visitkorea.or.kr/cms/resource/95/2582795_image2_1.jpg', 'firstimage2': 'http://tong.visitkorea.or.kr/cms/resource/95/2582795_image2_1.jpg', 'mapx': 127.3525845994, 'mapy': 37.7448402954, 'mlevel': 6, 'modifiedtime': 20191105175019, 'readcount': 575986, 'sigungucode': 1, 'tel': '1544-6703', 'title': '오색별빛정원전 2020'}\n",
            "{'addr1': '부산광역시 수영구 광안해변로 219', 'addr2': '(광안동)', 'areacode': 6, 'cat1': 'A02', 'cat2': 'A0207', 'cat3': 'A02070200', 'contentid': 235076, 'contenttypeid': 15, 'createdtime': 20071019000000, 'eventenddate': 20191102, 'eventstartdate': 20191102, 'firstimage': 'http://tong.visitkorea.or.kr/cms/resource/30/2552030_image2_1.JPG', 'firstimage2': 'http://tong.visitkorea.or.kr/cms/resource/30/2552030_image2_1.JPG', 'mapx': 129.1184922375, 'mapy': 35.1537908369, 'mlevel': 6, 'modifiedtime': 20190716095553, 'readcount': 444760, 'sigungucode': 12, 'tel': '051-501-6051', 'title': '부산 불꽃축제 2019'}\n",
            "{'addr1': '경기도 포천시 신북면 청신로947번길 35', 'areacode': 31, 'cat1': 'A02', 'cat2': 'A0207', 'cat3': 'A02070200', 'contentid': 1754946, 'contenttypeid': 15, 'createdtime': 20121120154254, 'eventenddate': 20200430, 'eventstartdate': 20191101, 'firstimage': 'http://tong.visitkorea.or.kr/cms/resource/77/2569277_image2_1.jpg', 'firstimage2': 'http://tong.visitkorea.or.kr/cms/resource/77/2569277_image2_1.jpg', 'mapx': 127.1316789055, 'mapy': 37.9659160606, 'mlevel': 6, 'modifiedtime': 20191107141723, 'readcount': 421728, 'sigungucode': 29, 'tel': '031-535-6494', 'title': '허브아일랜드 불빛동화축제 2019'}\n",
            "{'addr1': '경상남도 창원시 마산합포구 수산1길 74', 'addr2': '(신포동2가)', 'areacode': 36, 'cat1': 'A02', 'cat2': 'A0207', 'cat3': 'A02070200', 'contentid': 637693, 'contenttypeid': 15, 'createdtime': 20081014151148, 'eventenddate': 20191110, 'eventstartdate': 20191026, 'firstimage': 'http://tong.visitkorea.or.kr/cms/resource/40/2617140_image2_1.JPG', 'firstimage2': 'http://tong.visitkorea.or.kr/cms/resource/40/2617140_image2_1.JPG', 'mapx': 128.5757382993, 'mapy': 35.1998646204, 'mlevel': 6, 'modifiedtime': 20191024143856, 'readcount': 371665, 'sigungucode': 16, 'tel': '055-225-2347', 'title': '마산국화축제 2019'}\n",
            "{'addr1': '충청남도 태안군 남면 마검포길 200', 'areacode': 34, 'cat1': 'A02', 'cat2': 'A0207', 'cat3': 'A02070200', 'contentid': 1926835, 'contenttypeid': 15, 'createdtime': 20140619132213, 'eventenddate': 20191231, 'eventstartdate': 20190101, 'firstimage': 'http://tong.visitkorea.or.kr/cms/resource/15/2445115_image2_1.jpg', 'firstimage2': 'http://tong.visitkorea.or.kr/cms/resource/15/2445115_image2_1.jpg', 'mapx': '126.2998807800', 'mapy': 36.6151330244, 'mlevel': 6, 'modifiedtime': 20190402174614, 'readcount': 358975, 'sigungucode': 14, 'tel': '041-675-9200', 'title': '태안 빛축제'}\n",
            "{'addr1': '서울특별시 마포구 하늘공원로 95', 'addr2': '(상암동)', 'areacode': 1, 'cat1': 'A02', 'cat2': 'A0207', 'cat3': 'A02070200', 'contentid': 626944, 'contenttypeid': 15, 'createdtime': 20080922142754, 'eventenddate': 20191024, 'eventstartdate': 20191018, 'firstimage': 'http://tong.visitkorea.or.kr/cms/resource/91/1543791_image2_1.jpg', 'firstimage2': 'http://tong.visitkorea.or.kr/cms/resource/91/1543791_image3_1.jpg', 'mapx': 126.8850267365, 'mapy': 37.5675357894, 'mlevel': 6, 'modifiedtime': 20190917144258, 'readcount': 352587, 'sigungucode': 13, 'tel': '02-300-5574', 'title': '서울억새축제 2019'}\n",
            "{'addr1': '서울특별시 종로구 서린동 14-1 청계광장', 'areacode': 1, 'cat1': 'A02', 'cat2': 'A0207', 'cat3': 'A02070200', 'contentid': 1095732, 'contenttypeid': 15, 'createdtime': 20100917095413, 'eventenddate': 20191117, 'eventstartdate': 20191101, 'firstimage': 'http://tong.visitkorea.or.kr/cms/resource/34/2627134_image2_1.jpg', 'firstimage2': 'http://tong.visitkorea.or.kr/cms/resource/34/2627134_image2_1.jpg', 'mapx': 126.9825955652, 'mapy': 37.5694512038, 'mlevel': 6, 'modifiedtime': 20191021093148, 'readcount': 348074, 'sigungucode': 23, 'tel': '02-3788-0856', 'title': '서울빛초롱축제 2019'}\n",
            "{'addr1': '강원도 정선군 남면 민둥산로 12', 'areacode': 32, 'cat1': 'A02', 'cat2': 'A0207', 'cat3': 'A02070200', 'contentid': 623121, 'contenttypeid': 15, 'createdtime': 20080911135135, 'eventenddate': 20191110, 'eventstartdate': 20190927, 'mapx': 128.7811616983, 'mapy': '37.2545071340', 'mlevel': 6, 'modifiedtime': 20190812111913, 'readcount': 346322, 'sigungucode': 11, 'tel': '033-591-9141', 'title': '민둥산억새꽃축제 2019'}\n",
            "{'addr1': '서울특별시 용산구 이태원로', 'addr2': '(이태원동)', 'areacode': 1, 'cat1': 'A02', 'cat2': 'A0207', 'cat3': 'A02070200', 'contentid': 293185, 'contenttypeid': 15, 'createdtime': 20060417104116, 'eventenddate': 20191013, 'eventstartdate': 20191012, 'firstimage': 'http://tong.visitkorea.or.kr/cms/resource/87/1955687_image2_1.jpg', 'firstimage2': 'http://tong.visitkorea.or.kr/cms/resource/87/1955687_image3_1.jpg', 'mapx': 126.9888154493, 'mapy': 37.5339026678, 'mlevel': 6, 'modifiedtime': 20191010091957, 'readcount': 321153, 'sigungucode': 21, 'tel': '02-797-7319', 'title': '이태원 지구촌축제 2019'}\n",
            "{'addr1': '충청남도 청양군 정산면 천장호길 175-11', 'areacode': 34, 'cat1': 'A02', 'cat2': 'A0207', 'cat3': 'A02070200', 'contentid': 917493, 'contenttypeid': 15, 'createdtime': 20100108172456, 'eventenddate': 20200216, 'eventstartdate': 20191221, 'mapx': 126.9160529131, 'mapy': 36.4094728367, 'mlevel': 6, 'modifiedtime': 20191118143626, 'readcount': 278424, 'sigungucode': 13, 'tel': '041-942-0797~8', 'title': '칠갑산얼음분수축제 2020'}\n",
            "{'addr1': '전라남도 순천시 순천만길 513-25', 'areacode': 38, 'cat1': 'A02', 'cat2': 'A0207', 'cat3': 'A02070200', 'contentid': 628186, 'contenttypeid': 15, 'createdtime': 20080924153140, 'eventenddate': 20191027, 'eventstartdate': 20191025, 'mapx': 127.5096509739, 'mapy': 34.8855171821, 'mlevel': 6, 'modifiedtime': 20191010130341, 'readcount': 262188, 'sigungucode': 11, 'tel': '061-749-6052', 'title': '순천만갈대제 2019'}\n",
            "{'addr1': '충청남도 태안군 안면읍 백사장1길 91', 'areacode': 34, 'cat1': 'A02', 'cat2': 'A0207', 'cat3': 'A02070200', 'contentid': 635893, 'contenttypeid': 15, 'createdtime': 20081010142128, 'eventenddate': 20191013, 'eventstartdate': 20190921, 'firstimage': 'http://tong.visitkorea.or.kr/cms/resource/92/1723792_image2_1.jpg', 'firstimage2': 'http://tong.visitkorea.or.kr/cms/resource/92/1723792_image3_1.jpg', 'mapx': '126.3157801110', 'mapy': 36.5858144497, 'mlevel': 6, 'modifiedtime': 20190911112135, 'readcount': 247862, 'sigungucode': 14, 'tel': '010-2433-2283', 'title': '안면도 백사장 대하축제 2019'}\n",
            "{'addr1': '서울특별시 강남구 남부순환로 3104', 'areacode': 1, 'cat1': 'A02', 'cat2': 'A0207', 'cat3': 'A02070200', 'contentid': 1426106, 'contenttypeid': 15, 'createdtime': 20111103101651, 'eventenddate': 20191229, 'eventstartdate': 20191228, 'firstimage': 'http://tong.visitkorea.or.kr/cms/resource/72/2551772_image2_1.JPG', 'firstimage2': 'http://tong.visitkorea.or.kr/cms/resource/72/2551772_image2_1.JPG', 'mapx': 127.0719811806, 'mapy': 37.4957363721, 'mlevel': 6, 'modifiedtime': 20191112112525, 'readcount': 236019, 'sigungucode': 1, 'tel': '02-3142-2137', 'title': '서울 코믹월드 2019'}\n",
            "{'addr1': '대구광역시 달서구 두류공원로 200', 'areacode': 4, 'cat1': 'A02', 'cat2': 'A0207', 'cat3': 'A02070200', 'contentid': 1971931, 'contenttypeid': 15, 'createdtime': 20141209111425, 'eventenddate': 20200301, 'eventstartdate': 20191116, 'firstimage': 'http://tong.visitkorea.or.kr/cms/resource/17/2622817_image2_1.jpg', 'firstimage2': 'http://tong.visitkorea.or.kr/cms/resource/17/2622817_image2_1.jpg', 'mapx': 128.5648324581, 'mapy': 35.8548822436, 'mlevel': 6, 'modifiedtime': 20191004113729, 'readcount': 233514, 'sigungucode': 2, 'tel': '053-620-0001', 'title': '이월드 별빛축제 2019'}\n",
            "{'addr1': '부산광역시 중구 광복로 58-2', 'addr2': '(광복동2가)', 'areacode': 6, 'cat1': 'A02', 'cat2': 'A0207', 'cat3': 'A02070200', 'contentid': 1114409, 'contenttypeid': 15, 'createdtime': 20101020151655, 'eventenddate': 20200105, 'eventstartdate': 20191115, 'mapx': '129.0314790780', 'mapy': 35.0990842439, 'mlevel': 6, 'modifiedtime': 20191115160843, 'readcount': 230493, 'sigungucode': 15, 'tel': '051-243-3927', 'title': '부산크리스마스트리문화축제 2019'}\n",
            "{'addr1': '전라북도 익산시 하나로 322', 'addr2': '(어양동)', 'areacode': 37, 'cat1': 'A02', 'cat2': 'A0207', 'cat3': 'A02070200', 'contentid': 637276, 'contenttypeid': 15, 'createdtime': 20081013165827, 'eventenddate': 20191103, 'eventstartdate': 20191025, 'firstimage': 'http://tong.visitkorea.or.kr/cms/resource/22/2553022_image2_1.jpg', 'firstimage2': 'http://tong.visitkorea.or.kr/cms/resource/22/2553022_image2_1.jpg', 'mapx': 126.9861254464, 'mapy': 35.9497293979, 'mlevel': 6, 'modifiedtime': 20191016171946, 'readcount': 222245, 'sigungucode': 9, 'tel': '063-859-4977, 4334', 'title': '익산천만송이국화축제 2019'}\n",
            "{'addr1': '서울특별시 서초구 강남대로 27 양재 aT센터', 'areacode': 1, 'cat1': 'A02', 'cat2': 'A0207', 'cat3': 'A02070200', 'contentid': 2376250, 'contenttypeid': 15, 'createdtime': 20160405132624, 'eventenddate': 20191229, 'eventstartdate': 20191228, 'firstimage': 'http://tong.visitkorea.or.kr/cms/resource/80/2632980_image2_1.jpg', 'firstimage2': 'http://tong.visitkorea.or.kr/cms/resource/80/2632980_image2_1.jpg', 'mapx': 127.0390127336, 'mapy': 37.4683111849, 'mlevel': 6, 'modifiedtime': 20191112133213, 'readcount': 212953, 'sigungucode': 15, 'tel': '02-6010-8941', 'title': '서울디저트페어 [딸기전] 2019'}\n",
            "{'addr1': '충남 계룡시 신도안면 남선리', 'areacode': 34, 'cat1': 'A02', 'cat2': 'A0207', 'cat3': 'A02070200', 'contentid': 229054, 'contenttypeid': 15, 'createdtime': 20071002000000, 'eventenddate': 20191007, 'eventstartdate': 20191004, 'firstimage': 'http://tong.visitkorea.or.kr/cms/resource/58/2554558_image2_1.jpg', 'firstimage2': 'http://tong.visitkorea.or.kr/cms/resource/58/2554558_image2_1.jpg', 'mapx': 127.2809911676, 'mapy': 36.2493975595, 'mlevel': 6, 'modifiedtime': 20190930150119, 'readcount': 211623, 'sigungucode': 16, 'tel': '042-551-6969', 'title': '지상군 페스티벌 2019'}\n",
            "{'addr1': '경기도 가평군 청평면 강변로 111', 'areacode': 31, 'cat1': 'A02', 'cat2': 'A0207', 'cat3': 'A02070200', 'contentid': 1147052, 'contenttypeid': 15, 'createdtime': 20101216103944, 'eventenddate': 20200223, 'eventstartdate': 20191221, 'firstimage': 'http://tong.visitkorea.or.kr/cms/resource/22/2577922_image2_1.jpg', 'firstimage2': 'http://tong.visitkorea.or.kr/cms/resource/22/2577922_image2_1.jpg', 'mapx': 127.4243812181, 'mapy': 37.7317792411, 'mlevel': 6, 'modifiedtime': 20191127102227, 'readcount': 193907, 'sigungucode': 1, 'tel': '031-585-9449', 'title': '청평 얼음꽃축제 2020'}\n",
            "{'addr1': '서울특별시 중구 세종대로 39', 'addr2': '(남대문로4가)', 'areacode': 1, 'cat1': 'A02', 'cat2': 'A0207', 'cat3': 'A02070200', 'contentid': 2426733, 'contenttypeid': 15, 'createdtime': 20160928111548, 'eventenddate': 20191122, 'eventstartdate': 20191101, 'firstimage': 'http://tong.visitkorea.or.kr/cms/resource/31/2551431_image2_1.jpg', 'firstimage2': 'http://tong.visitkorea.or.kr/cms/resource/31/2551431_image2_1.jpg', 'mapx': '126.9737271760', 'mapy': 37.5607381682, 'mlevel': 6, 'modifiedtime': 20191111094810, 'readcount': 191842, 'sigungucode': 24, 'tel': '070-5211-1102', 'title': '코리아세일페스타 (Korea Sale FESTA) 2019'}\n",
            "{'addr1': '부산광역시 북구 화명동 화명생태공원, 해운대 구남로(해운대 문화광장) 등 부산전역', 'areacode': 6, 'cat1': 'A02', 'cat2': 'A0207', 'cat3': 'A02070200', 'contentid': 2390168, 'contenttypeid': 15, 'createdtime': 20160627153319, 'eventenddate': 20191025, 'eventstartdate': 20191019, 'firstimage': 'http://tong.visitkorea.or.kr/cms/resource/24/2623024_image2_1.jpg', 'firstimage2': 'http://tong.visitkorea.or.kr/cms/resource/24/2623024_image2_1.jpg', 'mapx': 129.0039806357, 'mapy': 35.2313022594, 'mlevel': 6, 'modifiedtime': 20191007165647, 'readcount': 176358, 'sigungucode': 8, 'tel': 'BOF 사업팀 051-780-4144', 'title': '부산원아시아페스티벌 2019'}\n",
            "{'addr1': '경상남도 하동군 북천면 직전1길 7', 'areacode': 36, 'cat1': 'A02', 'cat2': 'A0207', 'cat3': 'A02070200', 'contentid': 780198, 'contenttypeid': 15, 'createdtime': 20090818100750, 'eventenddate': 20191006, 'eventstartdate': 20190920, 'firstimage': 'http://tong.visitkorea.or.kr/cms/resource/62/2620962_image2_1.jpg', 'firstimage2': 'http://tong.visitkorea.or.kr/cms/resource/62/2620962_image2_1.jpg', 'mapx': 127.8763352905, 'mapy': 35.1085651671, 'mlevel': 6, 'modifiedtime': 20190924153056, 'readcount': 173728, 'sigungucode': 18, 'tel': '010-8456-8987', 'title': '하동북천 코스모스 메밀꽃 축제 2019'}\n",
            "{'addr1': '경기도 부천시 원미구 도약로 1', 'addr2': '(상동)', 'areacode': 31, 'cat1': 'A02', 'cat2': 'A0207', 'cat3': 'A02070200', 'contentid': 1906753, 'contenttypeid': 15, 'createdtime': 20140320135204, 'eventenddate': 20191231, 'eventstartdate': 20190101, 'firstimage': 'http://tong.visitkorea.or.kr/cms/resource/41/2470741_image2_1.JPG', 'firstimage2': 'http://tong.visitkorea.or.kr/cms/resource/41/2470741_image2_1.JPG', 'mapx': 126.7464881422, 'mapy': 37.5124341734, 'mlevel': 6, 'modifiedtime': 20190405132036, 'readcount': 172149, 'sigungucode': 11, 'tel': '032-320-6000', 'title': '부천 아인스월드 빛축제 - 세계야경 판타지 빛축제 2019'}\n",
            "{'addr1': '충청남도 부여군 규암면 백제문로 386-6', 'areacode': 34, 'cat1': 'A02', 'cat2': 'A0207', 'cat3': 'A02070200', 'contentid': 952988, 'contenttypeid': 15, 'createdtime': 20100219111036, 'eventenddate': 20191006, 'eventstartdate': 20190928, 'firstimage': 'http://tong.visitkorea.or.kr/cms/resource/45/2493145_image2_1.JPG', 'firstimage2': 'http://tong.visitkorea.or.kr/cms/resource/45/2493145_image2_1.JPG', 'mapx': 126.8987016918, 'mapy': 36.3050233941, 'mlevel': 6, 'modifiedtime': 20190220171032, 'readcount': 171530, 'sigungucode': 6, 'tel': '041-635-6980', 'title': '백제문화제 2019'}\n",
            "{'addr1': '전라북도 김제시 부량면', 'areacode': 37, 'cat1': 'A02', 'cat2': 'A0207', 'cat3': 'A02070200', 'contentid': 574285, 'contenttypeid': 15, 'createdtime': 20080613144803, 'eventenddate': 20191006, 'eventstartdate': 20190927, 'firstimage': 'http://tong.visitkorea.or.kr/cms/resource/36/2423336_image2_1.JPG', 'firstimage2': 'http://tong.visitkorea.or.kr/cms/resource/36/2423336_image2_1.JPG', 'mapx': '126.8529146250', 'mapy': 35.7539938456, 'mlevel': 6, 'modifiedtime': 20190327094658, 'readcount': 163799, 'sigungucode': 3, 'tel': '063-540-3031', 'title': '김제 지평선축제 2019'}\n",
            "{'addr1': '전라남도 보성군 보성읍 녹차로 775', 'areacode': 38, 'cat1': 'A02', 'cat2': 'A0207', 'cat3': 'A02070200', 'contentid': 650917, 'contenttypeid': 15, 'createdtime': 20081112152619, 'eventenddate': 20200105, 'eventstartdate': 20191129, 'firstimage': 'http://tong.visitkorea.or.kr/cms/resource/80/2572580_image2_1.JPG', 'firstimage2': 'http://tong.visitkorea.or.kr/cms/resource/80/2572580_image2_1.JPG', 'mapx': 127.0817371312, 'mapy': 34.7198757111, 'mlevel': 6, 'modifiedtime': 20191111132318, 'readcount': 156696, 'sigungucode': 10, 'tel': '061-850-5211~4', 'title': '보성차밭빛축제 2020'}\n"
          ],
          "name": "stdout"
        }
      ]
    },
    {
      "cell_type": "code",
      "metadata": {
        "id": "trjDfuQ7okr4",
        "colab_type": "code",
        "colab": {}
      },
      "source": [
        "import re"
      ],
      "execution_count": 0,
      "outputs": []
    },
    {
      "cell_type": "code",
      "metadata": {
        "id": "XndLhCDXmg4a",
        "colab_type": "code",
        "outputId": "5070c478-8a82-4730-92b2-f6724f15ee44",
        "colab": {
          "base_uri": "https://localhost:8080/",
          "height": 205
        }
      },
      "source": [
        "def festival_pick_category(category):\n",
        "    #서비스키\n",
        "    serviceKey='SZuXUHfZNLEJqiAh4mF9Cjh8iBjzM1s1kBakiqF9P9PXglB6upcm17zFu00%2FjMNA6nodWV76bS4J6fZl0tVZYg%3D%3D'\n",
        "    #20행 보기\n",
        "    numOfRows=10\n",
        "    #목록으로 보기\n",
        "    listYN='Y'\n",
        "    #조회순 보기(B)=조회순,A=제목순)\n",
        "    arrange='B'\n",
        "    \n",
        "    url='http://api.visitkorea.or.kr/openapi/service/rest/KorService/searchFestival?serviceKey={}&numOfRows={}&MobileOS=ETC&MobileApp=AppTest&arrange={}&listYN={}&eventStartDate=20190915&eventEndDate=20191231&_type=json'.format(\n",
        "        serviceKey,numOfRows,arrange,listYN)\n",
        "    resp = requests.get(url)\n",
        "    data = resp.json()\n",
        "    festival_list = data['response']['body']['items']['item']\n",
        "    #print( festival_list[2]['cat3'])\n",
        "    #print(festival_list)\n",
        "    mypick_category_list=[]\n",
        "    i=0\n",
        "    \n",
        "    for item in festival_list:\n",
        "      if (category =='일반축제') & (item['cat3']=='A02070200'):\n",
        "        mypick_category_list.append(item['title'])\n",
        "        #print(mypick_category_list,item['cat3'])\n",
        "      if (category =='모르는축제') & (item['cat3']=='A02081300'):\n",
        "        mypick_category_list.append(item['title'])  \n",
        "        #print(mypick_category_list,item['cat3'])\n",
        "        \n",
        "    print(mypick_category_list)\n",
        "        \n",
        "\n",
        "      #파라미터가 문화관광축제면, festival list 에서 문화관광축제를 찾아서 내보냄\n",
        "         \n",
        "\n",
        "\n",
        "festival_pick_category('일반축제')"
      ],
      "execution_count": 0,
      "outputs": [
        {
          "output_type": "stream",
          "text": [
            "['한화와 함께하는 서울세계불꽃축제 2019'] A02070200\n",
            "['한화와 함께하는 서울세계불꽃축제 2019', '창덕궁 달빛기행 2019'] A02070200\n",
            "['한화와 함께하는 서울세계불꽃축제 2019', '창덕궁 달빛기행 2019', '진주 남강유등축제 2019'] A02070200\n",
            "['한화와 함께하는 서울세계불꽃축제 2019', '창덕궁 달빛기행 2019', '진주 남강유등축제 2019', '부산 불꽃축제 2019'] A02070200\n",
            "['한화와 함께하는 서울세계불꽃축제 2019', '창덕궁 달빛기행 2019', '진주 남강유등축제 2019', '부산 불꽃축제 2019', '허브아일랜드 불빛동화축제 - 네버엔딩스토리 2019'] A02070200\n",
            "['한화와 함께하는 서울세계불꽃축제 2019', '창덕궁 달빛기행 2019', '진주 남강유등축제 2019', '부산 불꽃축제 2019', '허브아일랜드 불빛동화축제 - 네버엔딩스토리 2019', '마산국화축제 2019'] A02070200\n",
            "['한화와 함께하는 서울세계불꽃축제 2019', '창덕궁 달빛기행 2019', '진주 남강유등축제 2019', '부산 불꽃축제 2019', '허브아일랜드 불빛동화축제 - 네버엔딩스토리 2019', '마산국화축제 2019', '태안 빛축제'] A02070200\n",
            "['한화와 함께하는 서울세계불꽃축제 2019', '창덕궁 달빛기행 2019', '진주 남강유등축제 2019', '부산 불꽃축제 2019', '허브아일랜드 불빛동화축제 - 네버엔딩스토리 2019', '마산국화축제 2019', '태안 빛축제', '서울억새축제 2019'] A02070200\n",
            "['한화와 함께하는 서울세계불꽃축제 2019', '창덕궁 달빛기행 2019', '진주 남강유등축제 2019', '부산 불꽃축제 2019', '허브아일랜드 불빛동화축제 - 네버엔딩스토리 2019', '마산국화축제 2019', '태안 빛축제', '서울억새축제 2019', '서울빛초롱축제 2019'] A02070200\n",
            "['한화와 함께하는 서울세계불꽃축제 2019', '창덕궁 달빛기행 2019', '진주 남강유등축제 2019', '부산 불꽃축제 2019', '허브아일랜드 불빛동화축제 - 네버엔딩스토리 2019', '마산국화축제 2019', '태안 빛축제', '서울억새축제 2019', '서울빛초롱축제 2019']\n"
          ],
          "name": "stdout"
        }
      ]
    },
    {
      "cell_type": "code",
      "metadata": {
        "id": "I-e61oMskoZT",
        "colab_type": "code",
        "outputId": "fdd887e3-3020-4d9c-c616-f5b1e2fc8d97",
        "colab": {
          "base_uri": "https://localhost:8080/",
          "height": 67
        }
      },
      "source": [
        "import re\n",
        "a='[a,b,c]'\n",
        "x=re.sub(\",\",\"\\n\",a)\n",
        "print(x)"
      ],
      "execution_count": 0,
      "outputs": [
        {
          "output_type": "stream",
          "text": [
            "[a\n",
            "b\n",
            "c]\n"
          ],
          "name": "stdout"
        }
      ]
    },
    {
      "cell_type": "code",
      "metadata": {
        "id": "FM7p1-YjqcUX",
        "colab_type": "code",
        "outputId": "73f50a39-cbec-4c91-9c0a-8f935fba6bfc",
        "colab": {
          "base_uri": "https://localhost:8080/",
          "height": 50
        }
      },
      "source": [
        "str = \"I love! 's'ujin\"   \n",
        "print(type(str))                    # type is str  \n",
        "list_str = str.split('\\'')               # str을 공란()으로 쪼갬   \n",
        "print(list_str)   "
      ],
      "execution_count": 0,
      "outputs": [
        {
          "output_type": "stream",
          "text": [
            "<class 'str'>\n",
            "['I love! ', 's', 'ujin']\n"
          ],
          "name": "stdout"
        }
      ]
    },
    {
      "cell_type": "code",
      "metadata": {
        "id": "ubyS-CN-0S57",
        "colab_type": "code",
        "outputId": "d41c374c-8c0a-458e-dec8-133121ed92c4",
        "colab": {
          "base_uri": "https://localhost:8080/",
          "height": 213
        }
      },
      "source": [
        "import numpy as np\n",
        "\n",
        "aa=np.array(['aaa,','bbb','ddd'])\n",
        "\n",
        "dd=np.where(aa,'bbb')\n",
        "print(dd)"
      ],
      "execution_count": 0,
      "outputs": [
        {
          "output_type": "error",
          "ename": "ValueError",
          "evalue": "ignored",
          "traceback": [
            "\u001b[0;31m---------------------------------------------------------------------------\u001b[0m",
            "\u001b[0;31mValueError\u001b[0m                                Traceback (most recent call last)",
            "\u001b[0;32m<ipython-input-29-c1a0f40e4813>\u001b[0m in \u001b[0;36m<module>\u001b[0;34m()\u001b[0m\n\u001b[1;32m      3\u001b[0m \u001b[0maa\u001b[0m\u001b[0;34m=\u001b[0m\u001b[0mnp\u001b[0m\u001b[0;34m.\u001b[0m\u001b[0marray\u001b[0m\u001b[0;34m(\u001b[0m\u001b[0;34m[\u001b[0m\u001b[0;34m'aaa,'\u001b[0m\u001b[0;34m,\u001b[0m\u001b[0;34m'bbb'\u001b[0m\u001b[0;34m,\u001b[0m\u001b[0;34m'ddd'\u001b[0m\u001b[0;34m]\u001b[0m\u001b[0;34m)\u001b[0m\u001b[0;34m\u001b[0m\u001b[0;34m\u001b[0m\u001b[0m\n\u001b[1;32m      4\u001b[0m \u001b[0;34m\u001b[0m\u001b[0m\n\u001b[0;32m----> 5\u001b[0;31m \u001b[0mdd\u001b[0m\u001b[0;34m=\u001b[0m\u001b[0mnp\u001b[0m\u001b[0;34m.\u001b[0m\u001b[0mwhere\u001b[0m\u001b[0;34m(\u001b[0m\u001b[0maa\u001b[0m\u001b[0;34m,\u001b[0m\u001b[0;34m'bbb'\u001b[0m\u001b[0;34m)\u001b[0m\u001b[0;34m\u001b[0m\u001b[0;34m\u001b[0m\u001b[0m\n\u001b[0m\u001b[1;32m      6\u001b[0m \u001b[0mprint\u001b[0m\u001b[0;34m(\u001b[0m\u001b[0mdd\u001b[0m\u001b[0;34m)\u001b[0m\u001b[0;34m\u001b[0m\u001b[0;34m\u001b[0m\u001b[0m\n",
            "\u001b[0;31mValueError\u001b[0m: either both or neither of x and y should be given"
          ]
        }
      ]
    },
    {
      "cell_type": "code",
      "metadata": {
        "id": "MoL_xPRBxYZg",
        "colab_type": "code",
        "outputId": "6452c2ce-a9af-4b60-e31a-08921cea225d",
        "colab": {
          "base_uri": "https://localhost:8080/",
          "height": 34
        }
      },
      "source": [
        "s='기간검색!2019101029121111'\n",
        "aaa=s[5:]\n",
        "aaa.isdigit()"
      ],
      "execution_count": 0,
      "outputs": [
        {
          "output_type": "execute_result",
          "data": {
            "text/plain": [
              "True"
            ]
          },
          "metadata": {
            "tags": []
          },
          "execution_count": 2
        }
      ]
    },
    {
      "cell_type": "code",
      "metadata": {
        "id": "Py7eVVywYCYr",
        "colab_type": "code",
        "colab": {}
      },
      "source": [
        ""
      ],
      "execution_count": 0,
      "outputs": []
    },
    {
      "cell_type": "code",
      "metadata": {
        "id": "JRipjg54-A0g",
        "colab_type": "code",
        "outputId": "daf17219-a6cc-4a90-edd5-1f40fd91c4d1",
        "colab": {
          "base_uri": "https://localhost:8080/",
          "height": 70
        }
      },
      "source": [
        "import requests\n",
        "import re\n",
        "import pandas as pd\n",
        "##숙소\n",
        "serviceKey='SZuXUHfZNLEJqiAh4mF9Cjh8iBjzM1s1kBakiqF9P9PXglB6upcm17zFu00%2FjMNA6nodWV76bS4J6fZl0tVZYg%3D%3D'\n",
        "endpoint ='http://api.visitkorea.or.kr/openapi/service/rest/KorService/searchStay?serviceKey={}&numOfRows=10&pageSize=10&pageNo=1&MobileOS=ETC&MobileApp=AppTest&arrange=A&listYN=Y&hanOk=1&_type=json'.format(serviceKey)\n",
        "\n",
        "\n",
        "resp=requests.get(endpoint)\n",
        "\n",
        "print(resp.status_code)\n",
        "data = resp.json()\n",
        "dd=data['response']['body']\n",
        "print(dd)\n",
        "\n",
        "\n",
        "\n"
      ],
      "execution_count": 0,
      "outputs": [
        {
          "output_type": "stream",
          "text": [
            "200\n",
            "{'items': {'item': [{'addr1': '경상북도 안동시 도산면 온혜중마길 46-5', 'addr2': '(도산면)', 'areacode': 35, 'cat1': 'B02', 'cat2': 'B0201', 'cat3': 'B02011600', 'contentid': 1877477, 'contenttypeid': 32, 'createdtime': 20131231144504, 'firstimage': 'http://tong.visitkorea.or.kr/cms/resource/10/2580110_image2_1.jpg', 'firstimage2': 'http://tong.visitkorea.or.kr/cms/resource/10/2580110_image3_1.jpg', 'hanok': 1, 'mapx': 128.8283363558, 'mapy': 36.7499214592, 'mlevel': 6, 'modifiedtime': 20190318104839, 'readcount': 18865, 'sigungucode': 11, 'tel': '054-856-1052', 'title': '노송정종택(퇴계생가)[한국관광 품질인증/Korea Quality]'}, {'addr1': '충청남도 논산시 상월면 주곡길 45', 'addr2': '(상월면)', 'areacode': 34, 'cat1': 'B02', 'cat2': 'B0201', 'cat3': 'B02011600', 'contentid': 1871430, 'contenttypeid': 32, 'createdtime': 20131216154512, 'firstimage': 'http://tong.visitkorea.or.kr/cms/resource/98/2530098_image2_1.jpg', 'firstimage2': 'http://tong.visitkorea.or.kr/cms/resource/98/2530098_image3_1.jpg', 'hanok': 1, 'mapx': 127.1516797155, 'mapy': 36.2791002222, 'mlevel': 6, 'modifiedtime': 20190318105339, 'readcount': 10103, 'sigungucode': 3, 'tel': '041-736-4166', 'title': '논산 백일헌 종택[한국관광 품질인증/Korea Quality]'}, {'addr1': '경상북도 안동시 풍산읍 장태골길 28', 'areacode': 35, 'cat1': 'B02', 'cat2': 'B0201', 'cat3': 'B02011600', 'contentid': 1877312, 'contenttypeid': 32, 'createdtime': 20131230180149, 'firstimage': 'http://tong.visitkorea.or.kr/cms/resource/93/2577293_image2_1.jpg', 'firstimage2': 'http://tong.visitkorea.or.kr/cms/resource/93/2577293_image3_1.jpg', 'hanok': 1, 'mapx': 128.5467802084, 'mapy': 36.5804160745, 'mlevel': 6, 'modifiedtime': 20190611141233, 'readcount': 11054, 'sigungucode': 11, 'title': '안동김씨종택 양소당[한국관광 품질인증/Korea Quality]'}, {'addr1': '경상남도 거창군 위천면 황산1길 109-5', 'addr2': '(위천면)', 'areacode': 36, 'cat1': 'B02', 'cat2': 'B0201', 'cat3': 'B02011600', 'contentid': 1883062, 'contenttypeid': 32, 'createdtime': 20140108110156, 'firstimage': 'http://tong.visitkorea.or.kr/cms/resource/13/2572413_image2_1.jpg', 'firstimage2': 'http://tong.visitkorea.or.kr/cms/resource/13/2572413_image3_1.jpg', 'hanok': 1, 'mapx': 127.8370186747, 'mapy': 35.7629155826, 'mlevel': 6, 'modifiedtime': 20190807163557, 'readcount': 11504, 'sigungucode': 2, 'tel': '055-943-3104, 010-5359-2224', 'title': '원학고가[한국관광 품질인증/Korea Quality]'}, {'addr1': '경상북도 안동시 임동면 경동로 2661-8', 'addr2': '(임동면)', 'areacode': 35, 'cat1': 'B02', 'cat2': 'B0201', 'cat3': 'B02011600', 'contentid': 1883070, 'contenttypeid': 32, 'createdtime': 20140108110454, 'firstimage': 'http://tong.visitkorea.or.kr/cms/resource/96/2579496_image2_1.jpg', 'firstimage2': 'http://tong.visitkorea.or.kr/cms/resource/96/2579496_image3_1.jpg', 'hanok': 1, 'mapx': 128.9155786292, 'mapy': 36.5593226556, 'mlevel': 6, 'modifiedtime': 20190611141824, 'readcount': 8864, 'sigungucode': 11, 'tel': '054-822-6205', 'title': '정재종택[한국관광 품질인증/Korea Quality]'}, {'addr1': '경상북도 청송군 청송읍 서당길 12', 'addr2': '(청송읍)', 'areacode': 35, 'cat1': 'B02', 'cat2': 'B0201', 'cat3': 'B02011600', 'contentid': 1882783, 'contenttypeid': 32, 'createdtime': 20140107163421, 'firstimage': 'http://tong.visitkorea.or.kr/cms/resource/34/2573934_image2_1.jpg', 'firstimage2': 'http://tong.visitkorea.or.kr/cms/resource/34/2573934_image3_1.jpg', 'hanok': 1, 'mapx': 129.0681920375, 'mapy': 36.3982300128, 'modifiedtime': 20190611144045, 'readcount': 9816, 'sigungucode': 21, 'tel': '010-6711-6427', 'title': '주왕산 성천댁[한국관광 품질인증/Korea Quality]'}]}, 'numOfRows': 10, 'pageNo': 1, 'totalCount': 6}\n"
          ],
          "name": "stdout"
        }
      ]
    },
    {
      "cell_type": "code",
      "metadata": {
        "id": "qc5dAW9uBZIH",
        "colab_type": "code",
        "outputId": "13f32840-7a8b-4e82-cd55-9ed71d59cbbb",
        "colab": {
          "base_uri": "https://localhost:8080/",
          "height": 70
        }
      },
      "source": [
        "##동물약국\n",
        "import requests\n",
        "import re\n",
        "import pandas as pd\n",
        "##숙소\n",
        "serviceKey='587a69416c736565313032584762564d'\n",
        "endpoint ='http://openapi.seoul.go.kr:8088/587a69416c736565313032584762564d/json/animalPharmacyInfo/1/100/'\n",
        "\n",
        "\n",
        "resp=requests.get(endpoint)\n",
        "\n",
        "print(resp.status_code)\n",
        "print(resp.text)\n",
        "#data = resp.json()\n",
        "\n"
      ],
      "execution_count": 0,
      "outputs": [
        {
          "output_type": "stream",
          "text": [
            "200\n",
            "{\"animalPharmacyInfo\":{\"list_total_count\":980,\"RESULT\":{\"CODE\":\"INFO-000\",\"MESSAGE\":\"정상 처리되었습니다\"},\"row\":[{\"ID\":1.0,\"NM\":\"솔동물약국\",\"ADDR_OLD\":\"서울특별시 은평구 진관동 6번지 702동 113호\",\"ADDR\":\"서울특별시 은평구 진관4로 77, 702동 113호 (진관동)\",\"PERMISSION_DT\":\"20150504\",\"STATE\":\"운영중\",\"STOP_DT\":\"\",\"SUSPENSION_START_DT\":\"\",\"SUSPENSION_END_DT\":\"\",\"RE_OPEN_DT\":\"\",\"AREA\":\"\",\"POST\":\"\",\"TOTAL_EMPLOY\":\"\",\"SFRMPRD_TYPE\":\"\",\"LSIND_TYPE\":\"동물약국\",\"TEL\":\"02-355-5304\",\"XCODE\":\"193699.19495900000  \",\"YCODE\":\"460877.60794500000  \",\"PERMISSION_NO\":\"311000001120150003\",\"DETAIL_STAT_NM\":\"정상\"},{\"ID\":2.0,\"NM\":\"봄약국\",\"ADDR_OLD\":\"\",\"ADDR\":\"서울특별시 서초구 헌릉로8길 45, 상가동 2층 203호 (내곡동, 서초포레스타2단지)\",\"PERMISSION_DT\":\"20170712\",\"STATE\":\"운영중\",\"STOP_DT\":\"\",\"SUSPENSION_START_DT\":\"\",\"SUSPENSION_END_DT\":\"\",\"RE_OPEN_DT\":\"\",\"AREA\":\"\",\"POST\":\"\",\"TOTAL_EMPLOY\":\"\",\"SFRMPRD_TYPE\":\"\",\"LSIND_TYPE\":\"동물약국\",\"TEL\":\"02-575-0112\",\"XCODE\":\"205229              \",\"YCODE\":\"439241              \",\"PERMISSION_NO\":\"321000001120170003\",\"DETAIL_STAT_NM\":\"정상\"},{\"ID\":3.0,\"NM\":\"우리들약국\",\"ADDR_OLD\":\"서울특별시 서초구 반포동 32-2번지 동화반포프라자빌딩 105호\",\"ADDR\":\"서울특별시 서초구 서초중앙로 230 (반포동, 동화반포프라자빌딩)\",\"PERMISSION_DT\":\"20151002\",\"STATE\":\"운영중\",\"STOP_DT\":\"\",\"SUSPENSION_START_DT\":\"\",\"SUSPENSION_END_DT\":\"\",\"RE_OPEN_DT\":\"\",\"AREA\":\"\",\"POST\":\"\",\"TOTAL_EMPLOY\":\"\",\"SFRMPRD_TYPE\":\"\",\"LSIND_TYPE\":\"동물약국\",\"TEL\":\"02-537-9286\",\"XCODE\":\"201063.25776700000  \",\"YCODE\":\"444743.51652600000  \",\"PERMISSION_NO\":\"321000001120150004\",\"DETAIL_STAT_NM\":\"정상\"},{\"ID\":4.0,\"NM\":\"보룡동물약국\",\"ADDR_OLD\":\"서울특별시 양천구 목동 613-5번지 \",\"ADDR\":\"서울특별시 양천구 목동중앙북로 3 (목동)\",\"PERMISSION_DT\":\"20130604\",\"STATE\":\"운영중\",\"STOP_DT\":\"\",\"SUSPENSION_START_DT\":\"\",\"SUSPENSION_END_DT\":\"\",\"RE_OPEN_DT\":\"\",\"AREA\":\"\",\"POST\":\"\",\"TOTAL_EMPLOY\":\"\",\"SFRMPRD_TYPE\":\"\",\"LSIND_TYPE\":\"동물약국\",\"TEL\":\"2642-8345\",\"XCODE\":\"187985.15223400000  \",\"YCODE\":\"449931.41224700000  \",\"PERMISSION_NO\":\"314000001120130001\",\"DETAIL_STAT_NM\":\"정상\"},{\"ID\":5.0,\"NM\":\"백십자약국\",\"ADDR_OLD\":\"서울특별시 양천구 신월동 575-30번지 \",\"ADDR\":\"서울특별시 양천구 신월로 176 (신월동)\",\"PERMISSION_DT\":\"20130614\",\"STATE\":\"운영중\",\"STOP_DT\":\"\",\"SUSPENSION_START_DT\":\"\",\"SUSPENSION_END_DT\":\"\",\"RE_OPEN_DT\":\"\",\"AREA\":\"\",\"POST\":\"\",\"TOTAL_EMPLOY\":\"\",\"SFRMPRD_TYPE\":\"\",\"LSIND_TYPE\":\"동물약국\",\"TEL\":\"2693-3022\",\"XCODE\":\"186114.14152300000  \",\"YCODE\":\"446574.19067500000  \",\"PERMISSION_NO\":\"314000001120130005\",\"DETAIL_STAT_NM\":\"정상\"},{\"ID\":6.0,\"NM\":\"수정약국\",\"ADDR_OLD\":\"서울특별시 양천구 신정동 1031-1번지 \",\"ADDR\":\"서울특별시 양천구 중앙로 276 (신정동)\",\"PERMISSION_DT\":\"20130619\",\"STATE\":\"운영중\",\"STOP_DT\":\"\",\"SUSPENSION_START_DT\":\"\",\"SUSPENSION_END_DT\":\"\",\"RE_OPEN_DT\":\"\",\"AREA\":\"\",\"POST\":\"\",\"TOTAL_EMPLOY\":\"\",\"SFRMPRD_TYPE\":\"\",\"LSIND_TYPE\":\"동물약국\",\"TEL\":\"2644-3395\",\"XCODE\":\"186994.86835800000  \",\"YCODE\":\"446826.82969700000  \",\"PERMISSION_NO\":\"314000001120130006\",\"DETAIL_STAT_NM\":\"정상\"},{\"ID\":7.0,\"NM\":\"은혜약국\",\"ADDR_OLD\":\"서울특별시 양천구 신정동 908-15번지 1층 \",\"ADDR\":\"서울특별시 양천구 오목로 193, 1층 (신정동)\",\"PERMISSION_DT\":\"20130719\",\"STATE\":\"운영중\",\"STOP_DT\":\"\",\"SUSPENSION_START_DT\":\"\",\"SUSPENSION_END_DT\":\"\",\"RE_OPEN_DT\":\"\",\"AREA\":\"0\",\"POST\":\"\",\"TOTAL_EMPLOY\":\"\",\"SFRMPRD_TYPE\":\"\",\"LSIND_TYPE\":\"동물약국\",\"TEL\":\"2698-1635\",\"XCODE\":\"187524.56342600000  \",\"YCODE\":\"447352.94282500000  \",\"PERMISSION_NO\":\"314000001120130008\",\"DETAIL_STAT_NM\":\"정상\"},{\"ID\":8.0,\"NM\":\"우주약국\",\"ADDR_OLD\":\"서울특별시 양천구 신정동 314번지 목동8단지상가 113호 \",\"ADDR\":\"서울특별시 양천구 목동서로 280 (신정동, 목동8단지상가 113호)\",\"PERMISSION_DT\":\"20130719\",\"STATE\":\"운영중\",\"STOP_DT\":\"\",\"SUSPENSION_START_DT\":\"\",\"SUSPENSION_END_DT\":\"\",\"RE_OPEN_DT\":\"\",\"AREA\":\"\",\"POST\":\"\",\"TOTAL_EMPLOY\":\"\",\"SFRMPRD_TYPE\":\"\",\"LSIND_TYPE\":\"동물약국\",\"TEL\":\"2646-1001\",\"XCODE\":\"188376.67630700000  \",\"YCODE\":\"447095.12073000000  \",\"PERMISSION_NO\":\"314000001120130009\",\"DETAIL_STAT_NM\":\"정상\"},{\"ID\":9.0,\"NM\":\"한솔약국\",\"ADDR_OLD\":\"서울특별시 양천구 신정동 323-16번지 대영프라자 109호 \",\"ADDR\":\"서울특별시 양천구 목동동로 63 (신정동, 대영프라자 109호)\",\"PERMISSION_DT\":\"20130731\",\"STATE\":\"운영중\",\"STOP_DT\":\"\",\"SUSPENSION_START_DT\":\"\",\"SUSPENSION_END_DT\":\"\",\"RE_OPEN_DT\":\"\",\"AREA\":\"\",\"POST\":\"\",\"TOTAL_EMPLOY\":\"\",\"SFRMPRD_TYPE\":\"\",\"LSIND_TYPE\":\"동물약국\",\"TEL\":\"2648-0507\",\"XCODE\":\"187827.28232200000  \",\"YCODE\":\"446212.95901300000  \",\"PERMISSION_NO\":\"314000001120130010\",\"DETAIL_STAT_NM\":\"정상\"},{\"ID\":10.0,\"NM\":\"메디팜금성약국\",\"ADDR_OLD\":\"서울특별시 양천구 신월동 183-24번지 \",\"ADDR\":\"서울특별시 양천구 남부순환로40가길 15-1 (신월동)\",\"PERMISSION_DT\":\"20130816\",\"STATE\":\"운영중\",\"STOP_DT\":\"\",\"SUSPENSION_START_DT\":\"\",\"SUSPENSION_END_DT\":\"\",\"RE_OPEN_DT\":\"\",\"AREA\":\"\",\"POST\":\"\",\"TOTAL_EMPLOY\":\"\",\"SFRMPRD_TYPE\":\"\",\"LSIND_TYPE\":\"동물약국\",\"TEL\":\"2605-7281\",\"XCODE\":\"184547.51723500000  \",\"YCODE\":\"448244.80746200000  \",\"PERMISSION_NO\":\"314000001120130011\",\"DETAIL_STAT_NM\":\"정상\"},{\"ID\":11.0,\"NM\":\"유명약국\",\"ADDR_OLD\":\"서울특별시 양천구 신월동 550-3번지 1층 104호 \",\"ADDR\":\"서울특별시 양천구 신월로 164, 1층 104호 (신월동)\",\"PERMISSION_DT\":\"20131022\",\"STATE\":\"운영중\",\"STOP_DT\":\"\",\"SUSPENSION_START_DT\":\"\",\"SUSPENSION_END_DT\":\"\",\"RE_OPEN_DT\":\"\",\"AREA\":\"\",\"POST\":\"\",\"TOTAL_EMPLOY\":\"\",\"SFRMPRD_TYPE\":\"\",\"LSIND_TYPE\":\"동물약국\",\"TEL\":\"02-2696-1004\",\"XCODE\":\"186033.69910600000  \",\"YCODE\":\"446487.01886200000  \",\"PERMISSION_NO\":\"314000001120130012\",\"DETAIL_STAT_NM\":\"정상\"},{\"ID\":12.0,\"NM\":\"목동정문약국\",\"ADDR_OLD\":\"서울특별시 양천구 목동 909-5번지 1층 105호 \",\"ADDR\":\"서울특별시 양천구 목동동로 435, 1층 105호 (목동)\",\"PERMISSION_DT\":\"20140805\",\"STATE\":\"운영중\",\"STOP_DT\":\"\",\"SUSPENSION_START_DT\":\"\",\"SUSPENSION_END_DT\":\"\",\"RE_OPEN_DT\":\"\",\"AREA\":\"\",\"POST\":\"\",\"TOTAL_EMPLOY\":\"\",\"SFRMPRD_TYPE\":\"\",\"LSIND_TYPE\":\"동물약국\",\"TEL\":\"2061-0214\",\"XCODE\":\"189824.57368600000  \",\"YCODE\":\"448659.70132300000  \",\"PERMISSION_NO\":\"314000001120140003\",\"DETAIL_STAT_NM\":\"정상\"},{\"ID\":13.0,\"NM\":\"김약국\",\"ADDR_OLD\":\"서울특별시 양천구 신월동 931-1번지 \",\"ADDR\":\"서울특별시 양천구 지양로 75 (신월동)\",\"PERMISSION_DT\":\"20040322\",\"STATE\":\"운영중\",\"STOP_DT\":\"\",\"SUSPENSION_START_DT\":\"\",\"SUSPENSION_END_DT\":\"\",\"RE_OPEN_DT\":\"\",\"AREA\":\"0\",\"POST\":\"\",\"TOTAL_EMPLOY\":\"\",\"SFRMPRD_TYPE\":\"\",\"LSIND_TYPE\":\"동물약국\",\"TEL\":\"\",\"XCODE\":\"185267.39027600000  \",\"YCODE\":\"446979.12095000000  \",\"PERMISSION_NO\":\"314000001120040002\",\"DETAIL_STAT_NM\":\"정상\"},{\"ID\":14.0,\"NM\":\"신왕약국\",\"ADDR_OLD\":\"서울특별시 양천구 신월동 178-15번지 \",\"ADDR\":\"서울특별시 양천구 남부순환로40길 50 (신월동)\",\"PERMISSION_DT\":\"20040423\",\"STATE\":\"운영중\",\"STOP_DT\":\"\",\"SUSPENSION_START_DT\":\"\",\"SUSPENSION_END_DT\":\"\",\"RE_OPEN_DT\":\"\",\"AREA\":\"48\",\"POST\":\"\",\"TOTAL_EMPLOY\":\"\",\"SFRMPRD_TYPE\":\"\",\"LSIND_TYPE\":\"동물약국\",\"TEL\":\"\",\"XCODE\":\"184686.93150200000  \",\"YCODE\":\"448245.49642300000  \",\"PERMISSION_NO\":\"314000001120040003\",\"DETAIL_STAT_NM\":\"정상\"},{\"ID\":15.0,\"NM\":\"대우실로암약국\",\"ADDR_OLD\":\"서울특별시 양천구 신월동 18-4번지 \",\"ADDR\":\"서울특별시 양천구 월정로50길 10 (신월동)\",\"PERMISSION_DT\":\"20040913\",\"STATE\":\"운영중\",\"STOP_DT\":\"\",\"SUSPENSION_START_DT\":\"\",\"SUSPENSION_END_DT\":\"\",\"RE_OPEN_DT\":\"\",\"AREA\":\"56\",\"POST\":\"\",\"TOTAL_EMPLOY\":\"\",\"SFRMPRD_TYPE\":\"\",\"LSIND_TYPE\":\"동물약국\",\"TEL\":\"2602-6489\",\"XCODE\":\"185069.18940800000  \",\"YCODE\":\"449142.54646500000  \",\"PERMISSION_NO\":\"314000001120040005\",\"DETAIL_STAT_NM\":\"정상\"},{\"ID\":16.0,\"NM\":\"양천동물약국\",\"ADDR_OLD\":\"서울특별시 양천구 신월동 110-1번지 은성상가 \",\"ADDR\":\"서울특별시 양천구 곰달래로5길 30 (신월동, 은성상가)\",\"PERMISSION_DT\":\"20120531\",\"STATE\":\"운영중\",\"STOP_DT\":\"\",\"SUSPENSION_START_DT\":\"\",\"SUSPENSION_END_DT\":\"\",\"RE_OPEN_DT\":\"\",\"AREA\":\"0\",\"POST\":\"\",\"TOTAL_EMPLOY\":\"\",\"SFRMPRD_TYPE\":\"\",\"LSIND_TYPE\":\"동물약국\",\"TEL\":\"2697-0485\",\"XCODE\":\"185280.22438600000  \",\"YCODE\":\"448116.57529900000  \",\"PERMISSION_NO\":\"314000001120120001\",\"DETAIL_STAT_NM\":\"정상\"},{\"ID\":17.0,\"NM\":\"목동세명약국\",\"ADDR_OLD\":\"서울특별시 양천구 목동 610-14번지 \",\"ADDR\":\"서울특별시 양천구 목동중앙북로 27 (목동)\",\"PERMISSION_DT\":\"20121205\",\"STATE\":\"운영중\",\"STOP_DT\":\"\",\"SUSPENSION_START_DT\":\"\",\"SUSPENSION_END_DT\":\"\",\"RE_OPEN_DT\":\"\",\"AREA\":\"\",\"POST\":\"\",\"TOTAL_EMPLOY\":\"\",\"SFRMPRD_TYPE\":\"\",\"LSIND_TYPE\":\"동물약국\",\"TEL\":\"2645-7525\",\"XCODE\":\"188213.55428900000  \",\"YCODE\":\"449890.50984300000  \",\"PERMISSION_NO\":\"314000001120120004\",\"DETAIL_STAT_NM\":\"정상\"},{\"ID\":18.0,\"NM\":\"중앙약국\",\"ADDR_OLD\":\"서울특별시 노원구 상계동 389-641번지 \",\"ADDR\":\"서울특별시 노원구 상계로27길 32, 1층 (상계동)\",\"PERMISSION_DT\":\"20160523\",\"STATE\":\"운영중\",\"STOP_DT\":\"\",\"SUSPENSION_START_DT\":\"\",\"SUSPENSION_END_DT\":\"\",\"RE_OPEN_DT\":\"\",\"AREA\":\"\",\"POST\":\"\",\"TOTAL_EMPLOY\":\"\",\"SFRMPRD_TYPE\":\"\",\"LSIND_TYPE\":\"동물약국\",\"TEL\":\"\",\"XCODE\":\"206164.51588600000  \",\"YCODE\":\"462260.16207100000  \",\"PERMISSION_NO\":\"310000001120160006\",\"DETAIL_STAT_NM\":\"정상\"},{\"ID\":19.0,\"NM\":\"보라매대학약국\",\"ADDR_OLD\":\"서울특별시 동작구 신대방동 395-62번지 101호\",\"ADDR\":\"서울특별시 동작구 보라매로5길 23 (신대방동, 삼성보라매옴니타워)\",\"PERMISSION_DT\":\"20160601\",\"STATE\":\"운영중\",\"STOP_DT\":\"\",\"SUSPENSION_START_DT\":\"\",\"SUSPENSION_END_DT\":\"\",\"RE_OPEN_DT\":\"\",\"AREA\":\"\",\"POST\":\"\",\"TOTAL_EMPLOY\":\"\",\"SFRMPRD_TYPE\":\"\",\"LSIND_TYPE\":\"동물약국\",\"TEL\":\"02-831-1922\",\"XCODE\":\"193244.55054100000  \",\"YCODE\":\"443683.17062000000  \",\"PERMISSION_NO\":\"319000001120160001\",\"DETAIL_STAT_NM\":\"정상\"},{\"ID\":20.0,\"NM\":\"EWHA우리약국\",\"ADDR_OLD\":\"서울특별시 노원구 공릉동 517-31번지 \",\"ADDR\":\"서울특별시 노원구 동일로 1044, 1층 (공릉동)\",\"PERMISSION_DT\":\"20160503\",\"STATE\":\"운영중\",\"STOP_DT\":\"\",\"SUSPENSION_START_DT\":\"\",\"SUSPENSION_END_DT\":\"\",\"RE_OPEN_DT\":\"\",\"AREA\":\"\",\"POST\":\"\",\"TOTAL_EMPLOY\":\"\",\"SFRMPRD_TYPE\":\"\",\"LSIND_TYPE\":\"동물약국\",\"TEL\":\"\",\"XCODE\":\"206537.25027700000  \",\"YCODE\":\"458198.90462800000  \",\"PERMISSION_NO\":\"310000001120160005\",\"DETAIL_STAT_NM\":\"정상\"},{\"ID\":21.0,\"NM\":\"밝은미소약국\",\"ADDR_OLD\":\"서울특별시 관악구 봉천동 463-4번지 107호\",\"ADDR\":\"서울특별시 관악구 양녕로 46, 107호 (봉천동, 메카플러스)\",\"PERMISSION_DT\":\"20160523\",\"STATE\":\"운영중\",\"STOP_DT\":\"\",\"SUSPENSION_START_DT\":\"\",\"SUSPENSION_END_DT\":\"\",\"RE_OPEN_DT\":\"\",\"AREA\":\"0\",\"POST\":\"\",\"TOTAL_EMPLOY\":\"\",\"SFRMPRD_TYPE\":\"\",\"LSIND_TYPE\":\"동물약국\",\"TEL\":\"02-877-0927\",\"XCODE\":\"195337.86010300000  \",\"YCODE\":\"442967.38871400000  \",\"PERMISSION_NO\":\"320000001120160004\",\"DETAIL_STAT_NM\":\"정상\"},{\"ID\":22.0,\"NM\":\"세븐약국\",\"ADDR_OLD\":\"서울특별시 서초구 서초동 1553-3번지 스타갤러리브릿지 703호\",\"ADDR\":\"서울특별시 서초구 서초대로 250, 703호 (서초동, 스타갤러리브릿지)\",\"PERMISSION_DT\":\"20160610\",\"STATE\":\"운영중\",\"STOP_DT\":\"\",\"SUSPENSION_START_DT\":\"\",\"SUSPENSION_END_DT\":\"\",\"RE_OPEN_DT\":\"\",\"AREA\":\"\",\"POST\":\"\",\"TOTAL_EMPLOY\":\"\",\"SFRMPRD_TYPE\":\"\",\"LSIND_TYPE\":\"동물약국\",\"TEL\":\"02-598-7753\",\"XCODE\":\"200811.33725900000  \",\"YCODE\":\"443613.58232000000  \",\"PERMISSION_NO\":\"321000001120160007\",\"DETAIL_STAT_NM\":\"정상\"},{\"ID\":23.0,\"NM\":\"밝은약국\",\"ADDR_OLD\":\"서울특별시 서초구 서초동 1303-10번지 서초한일유앤아이주상복합 106호\",\"ADDR\":\"서울특별시 서초구 사평대로56길 7, 106호 (서초동, 서초한일유앤아이주상복합)\",\"PERMISSION_DT\":\"20160610\",\"STATE\":\"운영중\",\"STOP_DT\":\"\",\"SUSPENSION_START_DT\":\"\",\"SUSPENSION_END_DT\":\"\",\"RE_OPEN_DT\":\"\",\"AREA\":\"\",\"POST\":\"\",\"TOTAL_EMPLOY\":\"\",\"SFRMPRD_TYPE\":\"\",\"LSIND_TYPE\":\"동물약국\",\"TEL\":\"02-535-1912\",\"XCODE\":\"202079.69742000000  \",\"YCODE\":\"444860.34320100000  \",\"PERMISSION_NO\":\"321000001120160008\",\"DETAIL_STAT_NM\":\"정상\"},{\"ID\":24.0,\"NM\":\"한우리 약국\",\"ADDR_OLD\":\"\",\"ADDR\":\"서울특별시 마포구 망원로 73 (망원동)\",\"PERMISSION_DT\":\"20160614\",\"STATE\":\"운영중\",\"STOP_DT\":\"\",\"SUSPENSION_START_DT\":\"\",\"SUSPENSION_END_DT\":\"\",\"RE_OPEN_DT\":\"\",\"AREA\":\"\",\"POST\":\"\",\"TOTAL_EMPLOY\":\"\",\"SFRMPRD_TYPE\":\"\",\"LSIND_TYPE\":\"동물약국\",\"TEL\":\"\",\"XCODE\":\"191610.36931000000  \",\"YCODE\":\"450891.69163600000  \",\"PERMISSION_NO\":\"313000001120160003\",\"DETAIL_STAT_NM\":\"정상\"},{\"ID\":25.0,\"NM\":\"늘푸른솔약국\",\"ADDR_OLD\":\"서울특별시 중랑구 면목동 115-1번지 \",\"ADDR\":\"서울특별시 중랑구 겸재로 178 (면목동)\",\"PERMISSION_DT\":\"20160519\",\"STATE\":\"운영중\",\"STOP_DT\":\"\",\"SUSPENSION_START_DT\":\"\",\"SUSPENSION_END_DT\":\"\",\"RE_OPEN_DT\":\"\",\"AREA\":\"0\",\"POST\":\"\",\"TOTAL_EMPLOY\":\"\",\"SFRMPRD_TYPE\":\"\",\"LSIND_TYPE\":\"동물약국\",\"TEL\":\"02-439-3435\",\"XCODE\":\"207719.74807600000  \",\"YCODE\":\"454290.76923500000  \",\"PERMISSION_NO\":\"306000001120160003\",\"DETAIL_STAT_NM\":\"정상\"},{\"ID\":26.0,\"NM\":\"테헤란약국\",\"ADDR_OLD\":\"서울특별시 강남구 역삼동 705-27번지 1층 \",\"ADDR\":\"서울특별시 강남구 테헤란로 337, 1층 (역삼동)\",\"PERMISSION_DT\":\"20160616\",\"STATE\":\"운영중\",\"STOP_DT\":\"\",\"SUSPENSION_START_DT\":\"\",\"SUSPENSION_END_DT\":\"\",\"RE_OPEN_DT\":\"\",\"AREA\":\"\",\"POST\":\"\",\"TOTAL_EMPLOY\":\"\",\"SFRMPRD_TYPE\":\"\",\"LSIND_TYPE\":\"동물약국\",\"TEL\":\"02-554-1737\",\"XCODE\":\"204226              \",\"YCODE\":\"444728              \",\"PERMISSION_NO\":\"322000001120160006\",\"DETAIL_STAT_NM\":\"정상\"},{\"ID\":27.0,\"NM\":\"참약사약국\",\"ADDR_OLD\":\"서울특별시 성북구 종암동 3-686번지 1층 \",\"ADDR\":\"서울특별시 성북구 종암로 122, 1층 (종암동, 시원빌딩)\",\"PERMISSION_DT\":\"20160623\",\"STATE\":\"운영중\",\"STOP_DT\":\"\",\"SUSPENSION_START_DT\":\"\",\"SUSPENSION_END_DT\":\"\",\"RE_OPEN_DT\":\"\",\"AREA\":\"\",\"POST\":\"\",\"TOTAL_EMPLOY\":\"\",\"SFRMPRD_TYPE\":\"\",\"LSIND_TYPE\":\"동물약국\",\"TEL\":\"\",\"XCODE\":\"202994.92708000000  \",\"YCODE\":\"455733.29258200000  \",\"PERMISSION_NO\":\"307000001120160001\",\"DETAIL_STAT_NM\":\"정상\"},{\"ID\":198.0,\"NM\":\"아이파크약국\",\"ADDR_OLD\":\"\",\"ADDR\":\"서울특별시 강동구 동남로79길 26, 101호 (고덕동, 고덕아이파크)\",\"PERMISSION_DT\":\"20170310\",\"STATE\":\"운영중\",\"STOP_DT\":\"\",\"SUSPENSION_START_DT\":\"\",\"SUSPENSION_END_DT\":\"\",\"RE_OPEN_DT\":\"\",\"AREA\":\"\",\"POST\":\"\",\"TOTAL_EMPLOY\":\"\",\"SFRMPRD_TYPE\":\"\",\"LSIND_TYPE\":\"동물약국\",\"TEL\":\"02-481-9588\",\"XCODE\":\"213800.39416600000  \",\"YCODE\":\"451199.31451400000  \",\"PERMISSION_NO\":\"324000001120170003\",\"DETAIL_STAT_NM\":\"정상\"},{\"ID\":28.0,\"NM\":\"한빛약국\",\"ADDR_OLD\":\"서울특별시 강서구 등촌동 695-1번지 \",\"ADDR\":\"서울특별시 강서구 강서로62길 98, 102호 (등촌동, 신한은행등촌점)\",\"PERMISSION_DT\":\"20160906\",\"STATE\":\"운영중\",\"STOP_DT\":\"\",\"SUSPENSION_START_DT\":\"\",\"SUSPENSION_END_DT\":\"\",\"RE_OPEN_DT\":\"\",\"AREA\":\"\",\"POST\":\"\",\"TOTAL_EMPLOY\":\"\",\"SFRMPRD_TYPE\":\"\",\"LSIND_TYPE\":\"동물약국\",\"TEL\":\"02-3663-7118\",\"XCODE\":\"186306.60696200000  \",\"YCODE\":\"451363.21680400000  \",\"PERMISSION_NO\":\"315000001120160002\",\"DETAIL_STAT_NM\":\"정상\"},{\"ID\":29.0,\"NM\":\"구인당약국\",\"ADDR_OLD\":\"서울특별시 강남구 대치동 511번지 미도상가 110호 \",\"ADDR\":\"서울특별시 강남구 삼성로 150 (대치동, 한보미도맨션)\",\"PERMISSION_DT\":\"20160823\",\"STATE\":\"운영중\",\"STOP_DT\":\"\",\"SUSPENSION_START_DT\":\"\",\"SUSPENSION_END_DT\":\"\",\"RE_OPEN_DT\":\"\",\"AREA\":\"\",\"POST\":\"\",\"TOTAL_EMPLOY\":\"\",\"SFRMPRD_TYPE\":\"\",\"LSIND_TYPE\":\"동물약국\",\"TEL\":\"\",\"XCODE\":\"206155.52145600000  \",\"YCODE\":\"444031.00884400000  \",\"PERMISSION_NO\":\"322000001120160011\",\"DETAIL_STAT_NM\":\"정상\"},{\"ID\":30.0,\"NM\":\"서래약국\",\"ADDR_OLD\":\"서울특별시 서초구 방배동 773-17번지 1층 \",\"ADDR\":\"서울특별시 서초구 방배로 234, 1층 (방배동, 아이투비빌딩)\",\"PERMISSION_DT\":\"20160831\",\"STATE\":\"운영중\",\"STOP_DT\":\"\",\"SUSPENSION_START_DT\":\"\",\"SUSPENSION_END_DT\":\"\",\"RE_OPEN_DT\":\"\",\"AREA\":\"\",\"POST\":\"\",\"TOTAL_EMPLOY\":\"\",\"SFRMPRD_TYPE\":\"\",\"LSIND_TYPE\":\"동물약국\",\"TEL\":\"02-3482-1535\",\"XCODE\":\"199107.79775500000  \",\"YCODE\":\"443856.13705400000  \",\"PERMISSION_NO\":\"321000001120160011\",\"DETAIL_STAT_NM\":\"정상\"},{\"ID\":31.0,\"NM\":\"금빛약국\",\"ADDR_OLD\":\"서울특별시 도봉구 창동 569-85번지 \",\"ADDR\":\"서울특별시 도봉구 덕릉로 238, 1층 (창동)\",\"PERMISSION_DT\":\"20160811\",\"STATE\":\"운영중\",\"STOP_DT\":\"\",\"SUSPENSION_START_DT\":\"\",\"SUSPENSION_END_DT\":\"\",\"RE_OPEN_DT\":\"\",\"AREA\":\"\",\"POST\":\"\",\"TOTAL_EMPLOY\":\"\",\"SFRMPRD_TYPE\":\"\",\"LSIND_TYPE\":\"동물약국\",\"TEL\":\"\",\"XCODE\":\"203411.59212500000  \",\"YCODE\":\"459929.39203200000  \",\"PERMISSION_NO\":\"309000001120160008\",\"DETAIL_STAT_NM\":\"정상\"},{\"ID\":32.0,\"NM\":\"새고운약국\",\"ADDR_OLD\":\"서울특별시 노원구 공릉동 615-21번지 \",\"ADDR\":\"서울특별시 노원구 동일로 1003 (공릉동)\",\"PERMISSION_DT\":\"20161116\",\"STATE\":\"운영중\",\"STOP_DT\":\"\",\"SUSPENSION_START_DT\":\"\",\"SUSPENSION_END_DT\":\"\",\"RE_OPEN_DT\":\"\",\"AREA\":\"0\",\"POST\":\"\",\"TOTAL_EMPLOY\":\"\",\"SFRMPRD_TYPE\":\"\",\"LSIND_TYPE\":\"동물약국\",\"TEL\":\"02-973-9286\",\"XCODE\":\"206589.81049300000  \",\"YCODE\":\"457792.96063500000  \",\"PERMISSION_NO\":\"310000001120160007\",\"DETAIL_STAT_NM\":\"정상\"},{\"ID\":33.0,\"NM\":\"햇빛약국\",\"ADDR_OLD\":\"서울특별시 강서구 화곡동 772-85번지 \",\"ADDR\":\"서울특별시 강서구 등촌로 59-1 (화곡동)\",\"PERMISSION_DT\":\"20161122\",\"STATE\":\"운영중\",\"STOP_DT\":\"\",\"SUSPENSION_START_DT\":\"\",\"SUSPENSION_END_DT\":\"\",\"RE_OPEN_DT\":\"\",\"AREA\":\"\",\"POST\":\"\",\"TOTAL_EMPLOY\":\"\",\"SFRMPRD_TYPE\":\"\",\"LSIND_TYPE\":\"동물약국\",\"TEL\":\"02-2062-7159\",\"XCODE\":\"187907.31530800000  \",\"YCODE\":\"448440.07343700000  \",\"PERMISSION_NO\":\"315000001120160003\",\"DETAIL_STAT_NM\":\"정상\"},{\"ID\":34.0,\"NM\":\"팜코리아약국\",\"ADDR_OLD\":\"서울특별시 송파구 석촌동 277-1번지 \",\"ADDR\":\"서울특별시 송파구 가락로 99 (석촌동)\",\"PERMISSION_DT\":\"20161031\",\"STATE\":\"운영중\",\"STOP_DT\":\"\",\"SUSPENSION_START_DT\":\"\",\"SUSPENSION_END_DT\":\"\",\"RE_OPEN_DT\":\"\",\"AREA\":\"\",\"POST\":\"\",\"TOTAL_EMPLOY\":\"\",\"SFRMPRD_TYPE\":\"\",\"LSIND_TYPE\":\"동물약국\",\"TEL\":\"424-6167\",\"XCODE\":\"209457.83271500000  \",\"YCODE\":\"444637.27048700000  \",\"PERMISSION_NO\":\"323000001120160010\",\"DETAIL_STAT_NM\":\"정상\"},{\"ID\":35.0,\"NM\":\"명성약국\",\"ADDR_OLD\":\"서울특별시 광진구 구의동 230-23번지 \",\"ADDR\":\"서울특별시 광진구 광나루로40길 14 (구의동)\",\"PERMISSION_DT\":\"20170323\",\"STATE\":\"운영중\",\"STOP_DT\":\"\",\"SUSPENSION_START_DT\":\"\",\"SUSPENSION_END_DT\":\"\",\"RE_OPEN_DT\":\"\",\"AREA\":\"\",\"POST\":\"\",\"TOTAL_EMPLOY\":\"\",\"SFRMPRD_TYPE\":\"\",\"LSIND_TYPE\":\"동물약국\",\"TEL\":\"02-444-7848\",\"XCODE\":\"207892.39154600000  \",\"YCODE\":\"449406.51593800000  \",\"PERMISSION_NO\":\"304000001120170003\",\"DETAIL_STAT_NM\":\"정상\"},{\"ID\":36.0,\"NM\":\"하나로약국\",\"ADDR_OLD\":\"서울특별시 도봉구 창동 1-15번지 \",\"ADDR\":\"서울특별시 도봉구 마들로11길 20 (창동, 농협창동유통센타)\",\"PERMISSION_DT\":\"20170314\",\"STATE\":\"운영중\",\"STOP_DT\":\"\",\"SUSPENSION_START_DT\":\"\",\"SUSPENSION_END_DT\":\"\",\"RE_OPEN_DT\":\"\",\"AREA\":\"0\",\"POST\":\"\",\"TOTAL_EMPLOY\":\"\",\"SFRMPRD_TYPE\":\"\",\"LSIND_TYPE\":\"동물약국\",\"TEL\":\"404-3836\",\"XCODE\":\"204674.27785400000  \",\"YCODE\":\"461798.94126100000  \",\"PERMISSION_NO\":\"309000001120170002\",\"DETAIL_STAT_NM\":\"정상\"},{\"ID\":37.0,\"NM\":\"압구정온누리약국\",\"ADDR_OLD\":\"\",\"ADDR\":\"서울특별시 강남구 압구정로 164, 105호 (신사동, 아세아빌딩)\",\"PERMISSION_DT\":\"20170410\",\"STATE\":\"운영중\",\"STOP_DT\":\"\",\"SUSPENSION_START_DT\":\"\",\"SUSPENSION_END_DT\":\"\",\"RE_OPEN_DT\":\"\",\"AREA\":\"\",\"POST\":\"\",\"TOTAL_EMPLOY\":\"\",\"SFRMPRD_TYPE\":\"\",\"LSIND_TYPE\":\"동물약국\",\"TEL\":\"\",\"XCODE\":\"202444.03432800000  \",\"YCODE\":\"447449.34572300000  \",\"PERMISSION_NO\":\"322000001120170002\",\"DETAIL_STAT_NM\":\"정상\"},{\"ID\":38.0,\"NM\":\"재원약국\",\"ADDR_OLD\":\"서울특별시 강북구 미아동 1356번지 상가동 120호\",\"ADDR\":\"서울특별시 강북구 오패산로30길 30, 상가동 120호 (미아동, 경남아너스빌)\",\"PERMISSION_DT\":\"20170406\",\"STATE\":\"운영중\",\"STOP_DT\":\"\",\"SUSPENSION_START_DT\":\"\",\"SUSPENSION_END_DT\":\"\",\"RE_OPEN_DT\":\"\",\"AREA\":\"\",\"POST\":\"\",\"TOTAL_EMPLOY\":\"\",\"SFRMPRD_TYPE\":\"\",\"LSIND_TYPE\":\"동물약국\",\"TEL\":\"02-989-5379\",\"XCODE\":\"203191.51828100000  \",\"YCODE\":\"457418.80334600000  \",\"PERMISSION_NO\":\"308000001120170004\",\"DETAIL_STAT_NM\":\"정상\"},{\"ID\":39.0,\"NM\":\"새보라매약국\",\"ADDR_OLD\":\"서울특별시 동작구 신대방동 706번지 보라매우성상가 101호\",\"ADDR\":\"서울특별시 동작구 보라매로5길 5 (신대방동, 보라매우성아파트)\",\"PERMISSION_DT\":\"20170419\",\"STATE\":\"운영중\",\"STOP_DT\":\"\",\"SUSPENSION_START_DT\":\"\",\"SUSPENSION_END_DT\":\"\",\"RE_OPEN_DT\":\"\",\"AREA\":\"\",\"POST\":\"\",\"TOTAL_EMPLOY\":\"\",\"SFRMPRD_TYPE\":\"\",\"LSIND_TYPE\":\"동물약국\",\"TEL\":\"02-832-4181\",\"XCODE\":\"193399.19754700000  \",\"YCODE\":\"443661.95596500000  \",\"PERMISSION_NO\":\"319000001120170001\",\"DETAIL_STAT_NM\":\"정상\"},{\"ID\":40.0,\"NM\":\"스마일약국\",\"ADDR_OLD\":\"\",\"ADDR\":\"서울특별시 마포구 백범로37길 26 (신공덕동)\",\"PERMISSION_DT\":\"20170418\",\"STATE\":\"운영중\",\"STOP_DT\":\"\",\"SUSPENSION_START_DT\":\"\",\"SUSPENSION_END_DT\":\"\",\"RE_OPEN_DT\":\"\",\"AREA\":\"\",\"POST\":\"\",\"TOTAL_EMPLOY\":\"\",\"SFRMPRD_TYPE\":\"\",\"LSIND_TYPE\":\"동물약국\",\"TEL\":\"\",\"XCODE\":\"196016.57783600000  \",\"YCODE\":\"449415.18637400000  \",\"PERMISSION_NO\":\"313000001120170003\",\"DETAIL_STAT_NM\":\"정상\"},{\"ID\":41.0,\"NM\":\"조은온누리약국\",\"ADDR_OLD\":\"\",\"ADDR\":\"서울특별시 동대문구 장한로 51, 1층 (장안동)\",\"PERMISSION_DT\":\"20170711\",\"STATE\":\"운영중\",\"STOP_DT\":\"\",\"SUSPENSION_START_DT\":\"\",\"SUSPENSION_END_DT\":\"\",\"RE_OPEN_DT\":\"\",\"AREA\":\"0\",\"POST\":\"\",\"TOTAL_EMPLOY\":\"\",\"SFRMPRD_TYPE\":\"\",\"LSIND_TYPE\":\"동물약국\",\"TEL\":\"02-2212-4509\",\"XCODE\":\"205931.15991400000  \",\"YCODE\":\"451798.46944400000  \",\"PERMISSION_NO\":\"305000001120170004\",\"DETAIL_STAT_NM\":\"정상\"},{\"ID\":42.0,\"NM\":\"새서울약국\",\"ADDR_OLD\":\"서울특별시 강서구 가양동 1479-10번지 \",\"ADDR\":\"서울특별시 강서구 양천로57길 9-7 (가양동)\",\"PERMISSION_DT\":\"20170313\",\"STATE\":\"운영중\",\"STOP_DT\":\"\",\"SUSPENSION_START_DT\":\"\",\"SUSPENSION_END_DT\":\"\",\"RE_OPEN_DT\":\"\",\"AREA\":\"\",\"POST\":\"\",\"TOTAL_EMPLOY\":\"\",\"SFRMPRD_TYPE\":\"\",\"LSIND_TYPE\":\"동물약국\",\"TEL\":\"2659-6755\",\"XCODE\":\"186873.96660300000  \",\"YCODE\":\"451551.46801300000  \",\"PERMISSION_NO\":\"315000001120170001\",\"DETAIL_STAT_NM\":\"정상\"},{\"ID\":43.0,\"NM\":\"기린약국\",\"ADDR_OLD\":\"서울특별시 서대문구 홍제동 299-12번지 \",\"ADDR\":\"서울특별시 서대문구 통일로 468, 1층 (홍제동)\",\"PERMISSION_DT\":\"20170412\",\"STATE\":\"운영중\",\"STOP_DT\":\"\",\"SUSPENSION_START_DT\":\"\",\"SUSPENSION_END_DT\":\"\",\"RE_OPEN_DT\":\"\",\"AREA\":\"\",\"POST\":\"\",\"TOTAL_EMPLOY\":\"\",\"SFRMPRD_TYPE\":\"\",\"LSIND_TYPE\":\"동물약국\",\"TEL\":\"\",\"XCODE\":\"194957.57296100000  \",\"YCODE\":\"454524.31921200000  \",\"PERMISSION_NO\":\"312000001120170002\",\"DETAIL_STAT_NM\":\"정상\"},{\"ID\":44.0,\"NM\":\"애플약국\",\"ADDR_OLD\":\"서울특별시 강서구 염창동 264-37번지 \",\"ADDR\":\"서울특별시 강서구 양천로 684, 1층 (염창동, 부성빌딩)\",\"PERMISSION_DT\":\"20170518\",\"STATE\":\"운영중\",\"STOP_DT\":\"\",\"SUSPENSION_START_DT\":\"\",\"SUSPENSION_END_DT\":\"\",\"RE_OPEN_DT\":\"\",\"AREA\":\"\",\"POST\":\"\",\"TOTAL_EMPLOY\":\"\",\"SFRMPRD_TYPE\":\"\",\"LSIND_TYPE\":\"동물약국\",\"TEL\":\"3663-1205\",\"XCODE\":\"188684.72665300000  \",\"YCODE\":\"450132.28908400000  \",\"PERMISSION_NO\":\"315000001120170003\",\"DETAIL_STAT_NM\":\"정상\"},{\"ID\":45.0,\"NM\":\"정릉약국\",\"ADDR_OLD\":\"서울특별시 성북구 정릉동 400-25번지 \",\"ADDR\":\"서울특별시 성북구 보국문로 45 (정릉동)\",\"PERMISSION_DT\":\"20170406\",\"STATE\":\"운영중\",\"STOP_DT\":\"\",\"SUSPENSION_START_DT\":\"\",\"SUSPENSION_END_DT\":\"\",\"RE_OPEN_DT\":\"\",\"AREA\":\"\",\"POST\":\"\",\"TOTAL_EMPLOY\":\"\",\"SFRMPRD_TYPE\":\"\",\"LSIND_TYPE\":\"동물약국\",\"TEL\":\"914-3982\",\"XCODE\":\"200862.97791700000  \",\"YCODE\":\"456551.28053300000  \",\"PERMISSION_NO\":\"307000001120170002\",\"DETAIL_STAT_NM\":\"정상\"},{\"ID\":46.0,\"NM\":\"라이프약국\",\"ADDR_OLD\":\"\",\"ADDR\":\"서울특별시 마포구 신촌로 190, 1층 (염리동)\",\"PERMISSION_DT\":\"20170428\",\"STATE\":\"운영중\",\"STOP_DT\":\"\",\"SUSPENSION_START_DT\":\"\",\"SUSPENSION_END_DT\":\"\",\"RE_OPEN_DT\":\"\",\"AREA\":\"\",\"POST\":\"\",\"TOTAL_EMPLOY\":\"\",\"SFRMPRD_TYPE\":\"\",\"LSIND_TYPE\":\"동물약국\",\"TEL\":\"\",\"XCODE\":\"195291.13967900000  \",\"YCODE\":\"450788.21731500000  \",\"PERMISSION_NO\":\"313000001120170004\",\"DETAIL_STAT_NM\":\"정상\"},{\"ID\":47.0,\"NM\":\"신분당약국\",\"ADDR_OLD\":\"서울특별시 강남구 역삼동 858번지 \",\"ADDR\":\"서울특별시 강남구 강남대로 지하 396, 23호 (역삼동, 강남역)\",\"PERMISSION_DT\":\"20170524\",\"STATE\":\"운영중\",\"STOP_DT\":\"\",\"SUSPENSION_START_DT\":\"\",\"SUSPENSION_END_DT\":\"\",\"RE_OPEN_DT\":\"\",\"AREA\":\"\",\"POST\":\"\",\"TOTAL_EMPLOY\":\"\",\"SFRMPRD_TYPE\":\"\",\"LSIND_TYPE\":\"동물약국\",\"TEL\":\"02-558-0803\",\"XCODE\":\"202503.22214400000  \",\"YCODE\":\"444300.79783600000  \",\"PERMISSION_NO\":\"322000001120170008\",\"DETAIL_STAT_NM\":\"정상\"},{\"ID\":48.0,\"NM\":\"라인약국\",\"ADDR_OLD\":\"서울특별시 강남구 역삼동 830-70번지 1층 \",\"ADDR\":\"서울특별시 강남구 역삼로7길 3, 1층 (역삼동)\",\"PERMISSION_DT\":\"20170524\",\"STATE\":\"운영중\",\"STOP_DT\":\"\",\"SUSPENSION_START_DT\":\"\",\"SUSPENSION_END_DT\":\"\",\"RE_OPEN_DT\":\"\",\"AREA\":\"\",\"POST\":\"\",\"TOTAL_EMPLOY\":\"\",\"SFRMPRD_TYPE\":\"\",\"LSIND_TYPE\":\"동물약국\",\"TEL\":\"02-563-8383\",\"XCODE\":\"202922.08479800000  \",\"YCODE\":\"443873.66699400000  \",\"PERMISSION_NO\":\"322000001120170009\",\"DETAIL_STAT_NM\":\"정상\"},{\"ID\":49.0,\"NM\":\"온누리조은약국\",\"ADDR_OLD\":\"\",\"ADDR\":\"서울특별시 양천구 곰달래로5길 30 (신월동, 은성아파트)\",\"PERMISSION_DT\":\"20170616\",\"STATE\":\"운영중\",\"STOP_DT\":\"\",\"SUSPENSION_START_DT\":\"\",\"SUSPENSION_END_DT\":\"\",\"RE_OPEN_DT\":\"\",\"AREA\":\"\",\"POST\":\"\",\"TOTAL_EMPLOY\":\"\",\"SFRMPRD_TYPE\":\"\",\"LSIND_TYPE\":\"동물약국\",\"TEL\":\"\",\"XCODE\":\"185280.22438600000  \",\"YCODE\":\"448116.57529900000  \",\"PERMISSION_NO\":\"314000001120170006\",\"DETAIL_STAT_NM\":\"정상\"},{\"ID\":50.0,\"NM\":\"하비온누리약국\",\"ADDR_OLD\":\"서울특별시 송파구 문정동 618번지 \",\"ADDR\":\"서울특별시 송파구 송파대로 111, 205동 414호 (문정동, 파크하비오)\",\"PERMISSION_DT\":\"20170530\",\"STATE\":\"운영중\",\"STOP_DT\":\"\",\"SUSPENSION_START_DT\":\"\",\"SUSPENSION_END_DT\":\"\",\"RE_OPEN_DT\":\"\",\"AREA\":\"\",\"POST\":\"\",\"TOTAL_EMPLOY\":\"\",\"SFRMPRD_TYPE\":\"\",\"LSIND_TYPE\":\"동물약국\",\"TEL\":\"234023678\",\"XCODE\":\"210966              \",\"YCODE\":\"442050              \",\"PERMISSION_NO\":\"323000001120170005\",\"DETAIL_STAT_NM\":\"정상\"},{\"ID\":51.0,\"NM\":\"새서울약국\",\"ADDR_OLD\":\"서울특별시 양천구 목동 603-5번지 \",\"ADDR\":\"서울특별시 양천구 공항대로 558, 1층 (목동)\",\"PERMISSION_DT\":\"20170622\",\"STATE\":\"운영중\",\"STOP_DT\":\"\",\"SUSPENSION_START_DT\":\"\",\"SUSPENSION_END_DT\":\"\",\"RE_OPEN_DT\":\"\",\"AREA\":\"\",\"POST\":\"\",\"TOTAL_EMPLOY\":\"\",\"SFRMPRD_TYPE\":\"\",\"LSIND_TYPE\":\"동물약국\",\"TEL\":\"2645-7197\",\"XCODE\":\"188283.10816200000  \",\"YCODE\":\"449982.17741300000  \",\"PERMISSION_NO\":\"314000001120170007\",\"DETAIL_STAT_NM\":\"정상\"},{\"ID\":52.0,\"NM\":\"팜프라자약국\",\"ADDR_OLD\":\"\",\"ADDR\":\"서울특별시 구로구 디지털로 300, 지하1층 16호 (구로동, 지밸리비즈플라자)\",\"PERMISSION_DT\":\"20170704\",\"STATE\":\"운영중\",\"STOP_DT\":\"\",\"SUSPENSION_START_DT\":\"\",\"SUSPENSION_END_DT\":\"\",\"RE_OPEN_DT\":\"\",\"AREA\":\"\",\"POST\":\"\",\"TOTAL_EMPLOY\":\"\",\"SFRMPRD_TYPE\":\"\",\"LSIND_TYPE\":\"동물약국\",\"TEL\":\"263443990\",\"XCODE\":\"190849.49387600000  \",\"YCODE\":\"442836.25513000000  \",\"PERMISSION_NO\":\"316000001120170002\",\"DETAIL_STAT_NM\":\"정상\"},{\"ID\":53.0,\"NM\":\"한신메디칼약국\",\"ADDR_OLD\":\"서울특별시 서초구 잠원동 65-32번지 65-34 지층 \",\"ADDR\":\"서울특별시 서초구 잠원로 94 (잠원동)\",\"PERMISSION_DT\":\"20040517\",\"STATE\":\"운영중\",\"STOP_DT\":\"\",\"SUSPENSION_START_DT\":\"\",\"SUSPENSION_END_DT\":\"\",\"RE_OPEN_DT\":\"\",\"AREA\":\"49\",\"POST\":\"\",\"TOTAL_EMPLOY\":\"\",\"SFRMPRD_TYPE\":\"\",\"LSIND_TYPE\":\"동물약국\",\"TEL\":\"534-8889\",\"XCODE\":\"200605.17965600000  \",\"YCODE\":\"445916.88111600000  \",\"PERMISSION_NO\":\"321000001120040002\",\"DETAIL_STAT_NM\":\"정상\"},{\"ID\":54.0,\"NM\":\"장수알파약국\",\"ADDR_OLD\":\"서울특별시 서초구 서초동 1603-20번지 \",\"ADDR\":\"서울특별시 서초구 서초중앙로 38 (서초동)\",\"PERMISSION_DT\":\"20130510\",\"STATE\":\"운영중\",\"STOP_DT\":\"\",\"SUSPENSION_START_DT\":\"\",\"SUSPENSION_END_DT\":\"\",\"RE_OPEN_DT\":\"\",\"AREA\":\"\",\"POST\":\"\",\"TOTAL_EMPLOY\":\"\",\"SFRMPRD_TYPE\":\"\",\"LSIND_TYPE\":\"동물약국\",\"TEL\":\"3487-4233\",\"XCODE\":\"201439.42598200000  \",\"YCODE\":\"442891.37928900000  \",\"PERMISSION_NO\":\"321000001120130003\",\"DETAIL_STAT_NM\":\"정상\"},{\"ID\":55.0,\"NM\":\"연세온누리약국\",\"ADDR_OLD\":\"서울특별시 서초구 잠원동 75-19번지 반포쇼핑 3동 11호\",\"ADDR\":\"서울특별시 서초구 신반포로 177, 1층 11호 (잠원동, 반포쇼핑)\",\"PERMISSION_DT\":\"20130514\",\"STATE\":\"운영중\",\"STOP_DT\":\"\",\"SUSPENSION_START_DT\":\"\",\"SUSPENSION_END_DT\":\"\",\"RE_OPEN_DT\":\"\",\"AREA\":\"\",\"POST\":\"\",\"TOTAL_EMPLOY\":\"\",\"SFRMPRD_TYPE\":\"\",\"LSIND_TYPE\":\"동물약국\",\"TEL\":\"537-8738\",\"XCODE\":\"200301.29106600000  \",\"YCODE\":\"445181.09052500000  \",\"PERMISSION_NO\":\"321000001120130004\",\"DETAIL_STAT_NM\":\"정상\"},{\"ID\":56.0,\"NM\":\"교대사랑약국\",\"ADDR_OLD\":\"서울특별시 서초구 서초동 1689-6번지 102호\",\"ADDR\":\"서울특별시 서초구 서초대로 341, 102호 (서초동)\",\"PERMISSION_DT\":\"20130524\",\"STATE\":\"운영중\",\"STOP_DT\":\"\",\"SUSPENSION_START_DT\":\"\",\"SUSPENSION_END_DT\":\"\",\"RE_OPEN_DT\":\"\",\"AREA\":\"\",\"POST\":\"\",\"TOTAL_EMPLOY\":\"\",\"SFRMPRD_TYPE\":\"\",\"LSIND_TYPE\":\"동물약국\",\"TEL\":\"3477-0312\",\"XCODE\":\"201654.64015000000  \",\"YCODE\":\"444004.07918200000  \",\"PERMISSION_NO\":\"321000001120130005\",\"DETAIL_STAT_NM\":\"정상\"},{\"ID\":57.0,\"NM\":\"사랑의약국\",\"ADDR_OLD\":\"서울특별시 서초구 잠원동 75-13번지 반포쇼핑타운 2동 \",\"ADDR\":\"서울특별시 서초구 신반포로 165, 2동 1층 (잠원동, 반포쇼핑타운)\",\"PERMISSION_DT\":\"20130606\",\"STATE\":\"운영중\",\"STOP_DT\":\"\",\"SUSPENSION_START_DT\":\"\",\"SUSPENSION_END_DT\":\"\",\"RE_OPEN_DT\":\"\",\"AREA\":\"\",\"POST\":\"\",\"TOTAL_EMPLOY\":\"\",\"SFRMPRD_TYPE\":\"\",\"LSIND_TYPE\":\"동물약국\",\"TEL\":\"3476-2273\",\"XCODE\":\"200192.04370700000  \",\"YCODE\":\"445139.52979000000  \",\"PERMISSION_NO\":\"321000001120130006\",\"DETAIL_STAT_NM\":\"정상\"},{\"ID\":58.0,\"NM\":\"한 약국\",\"ADDR_OLD\":\"서울특별시 서초구 반포동 706-10번지 \",\"ADDR\":\"서울특별시 서초구 강남대로 545-4, 1층 (반포동)\",\"PERMISSION_DT\":\"20130606\",\"STATE\":\"운영중\",\"STOP_DT\":\"\",\"SUSPENSION_START_DT\":\"\",\"SUSPENSION_END_DT\":\"\",\"RE_OPEN_DT\":\"\",\"AREA\":\"\",\"POST\":\"\",\"TOTAL_EMPLOY\":\"\",\"SFRMPRD_TYPE\":\"\",\"LSIND_TYPE\":\"동물약국\",\"TEL\":\"541-3838\",\"XCODE\":\"201868.41189600000  \",\"YCODE\":\"445673.66605700000  \",\"PERMISSION_NO\":\"321000001120130007\",\"DETAIL_STAT_NM\":\"정상\"},{\"ID\":59.0,\"NM\":\"세계로 약국\",\"ADDR_OLD\":\"서울특별시 서초구 방배동 442-2번지 \",\"ADDR\":\"서울특별시 서초구 동작대로 38 (방배동)\",\"PERMISSION_DT\":\"20130606\",\"STATE\":\"운영중\",\"STOP_DT\":\"\",\"SUSPENSION_START_DT\":\"\",\"SUSPENSION_END_DT\":\"\",\"RE_OPEN_DT\":\"\",\"AREA\":\"\",\"POST\":\"\",\"TOTAL_EMPLOY\":\"\",\"SFRMPRD_TYPE\":\"\",\"LSIND_TYPE\":\"동물약국\",\"TEL\":\"34742599\",\"XCODE\":\"198422.45309600000  \",\"YCODE\":\"442264.14050100000  \",\"PERMISSION_NO\":\"321000001120130008\",\"DETAIL_STAT_NM\":\"정상\"},{\"ID\":60.0,\"NM\":\"빛샘온누리약국\",\"ADDR_OLD\":\"서울특별시 서초구 서초동 1689-1번지 \",\"ADDR\":\"서울특별시 서초구 서초대로 331, 1층 (서초동)\",\"PERMISSION_DT\":\"20130606\",\"STATE\":\"운영중\",\"STOP_DT\":\"\",\"SUSPENSION_START_DT\":\"\",\"SUSPENSION_END_DT\":\"\",\"RE_OPEN_DT\":\"\",\"AREA\":\"\",\"POST\":\"\",\"TOTAL_EMPLOY\":\"\",\"SFRMPRD_TYPE\":\"\",\"LSIND_TYPE\":\"동물약국\",\"TEL\":\"5961307\",\"XCODE\":\"201559.59671900000  \",\"YCODE\":\"443965.85406700000  \",\"PERMISSION_NO\":\"321000001120130009\",\"DETAIL_STAT_NM\":\"정상\"},{\"ID\":61.0,\"NM\":\"메디케어 약국\",\"ADDR_OLD\":\"서울특별시 서초구 잠원동 75-10번지 405호\",\"ADDR\":\"서울특별시 서초구 신반포로 157, 405호 (잠원동)\",\"PERMISSION_DT\":\"20130606\",\"STATE\":\"운영중\",\"STOP_DT\":\"\",\"SUSPENSION_START_DT\":\"\",\"SUSPENSION_END_DT\":\"\",\"RE_OPEN_DT\":\"\",\"AREA\":\"\",\"POST\":\"\",\"TOTAL_EMPLOY\":\"\",\"SFRMPRD_TYPE\":\"\",\"LSIND_TYPE\":\"동물약국\",\"TEL\":\"593-8040\",\"XCODE\":\"200129.16533700000  \",\"YCODE\":\"445116.02829600000  \",\"PERMISSION_NO\":\"321000001120130010\",\"DETAIL_STAT_NM\":\"정상\"},{\"ID\":62.0,\"NM\":\"하나약국\",\"ADDR_OLD\":\"서울특별시 서초구 서초동 1714-19번지 한성빌딩 101호\",\"ADDR\":\"서울특별시 서초구 법원로2길 23, 101호 (서초동, 한성빌딩 )\",\"PERMISSION_DT\":\"20130606\",\"STATE\":\"운영중\",\"STOP_DT\":\"\",\"SUSPENSION_START_DT\":\"\",\"SUSPENSION_END_DT\":\"\",\"RE_OPEN_DT\":\"\",\"AREA\":\"\",\"POST\":\"\",\"TOTAL_EMPLOY\":\"\",\"SFRMPRD_TYPE\":\"\",\"LSIND_TYPE\":\"동물약국\",\"TEL\":\"591-3619\",\"XCODE\":\"201172.73014500000  \",\"YCODE\":\"443886.25871700000  \",\"PERMISSION_NO\":\"321000001120130012\",\"DETAIL_STAT_NM\":\"정상\"},{\"ID\":63.0,\"NM\":\"서광약국\",\"ADDR_OLD\":\"서울특별시 서초구 서초동 1486-1번지 \",\"ADDR\":\"서울특별시 서초구 남부순환로315길 104 (서초동)\",\"PERMISSION_DT\":\"20130606\",\"STATE\":\"운영중\",\"STOP_DT\":\"\",\"SUSPENSION_START_DT\":\"\",\"SUSPENSION_END_DT\":\"\",\"RE_OPEN_DT\":\"\",\"AREA\":\"\",\"POST\":\"\",\"TOTAL_EMPLOY\":\"\",\"SFRMPRD_TYPE\":\"\",\"LSIND_TYPE\":\"동물약국\",\"TEL\":\"585-6835\",\"XCODE\":\"200665.31154400000  \",\"YCODE\":\"442627.85595100000  \",\"PERMISSION_NO\":\"321000001120130017\",\"DETAIL_STAT_NM\":\"정상\"},{\"ID\":64.0,\"NM\":\"성지약국\",\"ADDR_OLD\":\"서울특별시 서초구 방배동 725번지 방배삼호아파트 3호\",\"ADDR\":\"서울특별시 서초구 방배로 270, 3호 (방배동, 방배삼호아파트)\",\"PERMISSION_DT\":\"20130606\",\"STATE\":\"운영중\",\"STOP_DT\":\"\",\"SUSPENSION_START_DT\":\"\",\"SUSPENSION_END_DT\":\"\",\"RE_OPEN_DT\":\"\",\"AREA\":\"0\",\"POST\":\"\",\"TOTAL_EMPLOY\":\"\",\"SFRMPRD_TYPE\":\"\",\"LSIND_TYPE\":\"동물약국\",\"TEL\":\"537-1086\",\"XCODE\":\"199165.46711000000  \",\"YCODE\":\"444259.60595700000  \",\"PERMISSION_NO\":\"321000001120130019\",\"DETAIL_STAT_NM\":\"정상\"},{\"ID\":65.0,\"NM\":\"메디팜동양약국\",\"ADDR_OLD\":\"서울특별시 서초구 서초동 1331번지 동양빌딩 504호\",\"ADDR\":\"서울특별시 서초구 사임당로 157, 504호 (서초동, 우성아파트)\",\"PERMISSION_DT\":\"20130606\",\"STATE\":\"운영중\",\"STOP_DT\":\"\",\"SUSPENSION_START_DT\":\"\",\"SUSPENSION_END_DT\":\"\",\"RE_OPEN_DT\":\"\",\"AREA\":\"0\",\"POST\":\"\",\"TOTAL_EMPLOY\":\"\",\"SFRMPRD_TYPE\":\"\",\"LSIND_TYPE\":\"동물약국\",\"TEL\":\"5828943\",\"XCODE\":\"202372.51671000000  \",\"YCODE\":\"443668.65700800000  \",\"PERMISSION_NO\":\"321000001120130020\",\"DETAIL_STAT_NM\":\"정상\"},{\"ID\":66.0,\"NM\":\"수현온누리약국\",\"ADDR_OLD\":\"서울특별시 서초구 서초동 1673-10번지 소망빌딩 \",\"ADDR\":\"서울특별시 서초구 서초대로 310, 지하층 (서초동, 소망빌딩)\",\"PERMISSION_DT\":\"20130606\",\"STATE\":\"운영중\",\"STOP_DT\":\"\",\"SUSPENSION_START_DT\":\"\",\"SUSPENSION_END_DT\":\"\",\"RE_OPEN_DT\":\"\",\"AREA\":\"\",\"POST\":\"\",\"TOTAL_EMPLOY\":\"\",\"SFRMPRD_TYPE\":\"\",\"LSIND_TYPE\":\"동물약국\",\"TEL\":\"584-6075\",\"XCODE\":\"201374.82755200000  \",\"YCODE\":\"443836.05389700000  \",\"PERMISSION_NO\":\"321000001120130021\",\"DETAIL_STAT_NM\":\"정상\"},{\"ID\":67.0,\"NM\":\"등불약국\",\"ADDR_OLD\":\"서울특별시 서초구 서초동 1516-3번지 \",\"ADDR\":\"서울특별시 서초구 명달로 92 (서초동)\",\"PERMISSION_DT\":\"20130606\",\"STATE\":\"운영중\",\"STOP_DT\":\"\",\"SUSPENSION_START_DT\":\"\",\"SUSPENSION_END_DT\":\"\",\"RE_OPEN_DT\":\"\",\"AREA\":\"\",\"POST\":\"\",\"TOTAL_EMPLOY\":\"\",\"SFRMPRD_TYPE\":\"\",\"LSIND_TYPE\":\"동물약국\",\"TEL\":\"3471-8558\",\"XCODE\":\"200374.48523100000  \",\"YCODE\":\"442892.31055300000  \",\"PERMISSION_NO\":\"321000001120130023\",\"DETAIL_STAT_NM\":\"정상\"},{\"ID\":68.0,\"NM\":\"서원약국\",\"ADDR_OLD\":\"서울특별시 서초구 반포동 30번지 지하철 9호선 사평역 \",\"ADDR\":\"\",\"PERMISSION_DT\":\"20130606\",\"STATE\":\"운영중\",\"STOP_DT\":\"\",\"SUSPENSION_START_DT\":\"\",\"SUSPENSION_END_DT\":\"\",\"RE_OPEN_DT\":\"\",\"AREA\":\"\",\"POST\":\"\",\"TOTAL_EMPLOY\":\"\",\"SFRMPRD_TYPE\":\"\",\"LSIND_TYPE\":\"동물약국\",\"TEL\":\"3477-1840\",\"XCODE\":\"200882.763452       \",\"YCODE\":\"444703.176103       \",\"PERMISSION_NO\":\"321000001120130026\",\"DETAIL_STAT_NM\":\"정상\"},{\"ID\":69.0,\"NM\":\"한결약국\",\"ADDR_OLD\":\"서울특별시 서초구 우면동 66-2번지 세신우면상가 \",\"ADDR\":\"서울특별시 서초구 바우뫼로7길 8, 4층 (우면동, 세신우면상가)\",\"PERMISSION_DT\":\"20130610\",\"STATE\":\"운영중\",\"STOP_DT\":\"\",\"SUSPENSION_START_DT\":\"\",\"SUSPENSION_END_DT\":\"\",\"RE_OPEN_DT\":\"\",\"AREA\":\"\",\"POST\":\"\",\"TOTAL_EMPLOY\":\"\",\"SFRMPRD_TYPE\":\"\",\"LSIND_TYPE\":\"동물약국\",\"TEL\":\"579-8478\",\"XCODE\":\"202245.18935200000  \",\"YCODE\":\"441269.66335000000  \",\"PERMISSION_NO\":\"321000001120130028\",\"DETAIL_STAT_NM\":\"정상\"},{\"ID\":70.0,\"NM\":\"에이티약국\",\"ADDR_OLD\":\"서울특별시 서초구 양재동 232번지 at센터 \",\"ADDR\":\"서울특별시 서초구 강남대로 27, 지하1층 (양재동, at센터)\",\"PERMISSION_DT\":\"20130610\",\"STATE\":\"운영중\",\"STOP_DT\":\"\",\"SUSPENSION_START_DT\":\"\",\"SUSPENSION_END_DT\":\"\",\"RE_OPEN_DT\":\"\",\"AREA\":\"0\",\"POST\":\"\",\"TOTAL_EMPLOY\":\"\",\"SFRMPRD_TYPE\":\"\",\"LSIND_TYPE\":\"동물약국\",\"TEL\":\"584-3398\",\"XCODE\":\"203710.78542700000  \",\"YCODE\":\"440984.19495800000  \",\"PERMISSION_NO\":\"321000001120130029\",\"DETAIL_STAT_NM\":\"정상\"},{\"ID\":71.0,\"NM\":\"나성온누리약국\",\"ADDR_OLD\":\"서울특별시 서초구 서초동 1335번지 무지개종합상가 \",\"ADDR\":\"서울특별시 서초구 효령로 401, 1층 (서초동, 무지개종합상가)\",\"PERMISSION_DT\":\"20130611\",\"STATE\":\"운영중\",\"STOP_DT\":\"\",\"SUSPENSION_START_DT\":\"\",\"SUSPENSION_END_DT\":\"\",\"RE_OPEN_DT\":\"\",\"AREA\":\"\",\"POST\":\"\",\"TOTAL_EMPLOY\":\"\",\"SFRMPRD_TYPE\":\"\",\"LSIND_TYPE\":\"동물약국\",\"TEL\":\"3472-6722\",\"XCODE\":\"202448.48321600000  \",\"YCODE\":\"443252.74275700000  \",\"PERMISSION_NO\":\"321000001120130030\",\"DETAIL_STAT_NM\":\"정상\"},{\"ID\":72.0,\"NM\":\"주앙약국\",\"ADDR_OLD\":\"서울특별시 서초구 방배동 1028-1번지 경남상가 \",\"ADDR\":\"서울특별시 서초구 방배로 27, 1층 (방배동, 경남상가)\",\"PERMISSION_DT\":\"20130611\",\"STATE\":\"운영중\",\"STOP_DT\":\"\",\"SUSPENSION_START_DT\":\"\",\"SUSPENSION_END_DT\":\"\",\"RE_OPEN_DT\":\"\",\"AREA\":\"\",\"POST\":\"\",\"TOTAL_EMPLOY\":\"\",\"SFRMPRD_TYPE\":\"\",\"LSIND_TYPE\":\"동물약국\",\"TEL\":\"584-3398\",\"XCODE\":\"200004.58619300000  \",\"YCODE\":\"441983.37558600000  \",\"PERMISSION_NO\":\"321000001120130032\",\"DETAIL_STAT_NM\":\"정상\"},{\"ID\":73.0,\"NM\":\"자이프라자약국\",\"ADDR_OLD\":\"서울특별시 서초구 반포동 20-45번지 자이프라자 상가 \",\"ADDR\":\"서울특별시 서초구 잠원로 24 (반포동, 자이프라자 상가)\",\"PERMISSION_DT\":\"20130612\",\"STATE\":\"운영중\",\"STOP_DT\":\"\",\"SUSPENSION_START_DT\":\"\",\"SUSPENSION_END_DT\":\"\",\"RE_OPEN_DT\":\"\",\"AREA\":\"\",\"POST\":\"\",\"TOTAL_EMPLOY\":\"\",\"SFRMPRD_TYPE\":\"\",\"LSIND_TYPE\":\"동물약국\",\"TEL\":\"532-5222\",\"XCODE\":\"200872.98728200000  \",\"YCODE\":\"445293.90881400000  \",\"PERMISSION_NO\":\"321000001120130033\",\"DETAIL_STAT_NM\":\"정상\"},{\"ID\":74.0,\"NM\":\"홈케어방배약국\",\"ADDR_OLD\":\"서울특별시 서초구 방배동 951-1번지 \",\"ADDR\":\"서울특별시 서초구 서초대로 24 (방배동)\",\"PERMISSION_DT\":\"20130612\",\"STATE\":\"운영중\",\"STOP_DT\":\"\",\"SUSPENSION_START_DT\":\"\",\"SUSPENSION_END_DT\":\"\",\"RE_OPEN_DT\":\"\",\"AREA\":\"\",\"POST\":\"\",\"TOTAL_EMPLOY\":\"\",\"SFRMPRD_TYPE\":\"\",\"LSIND_TYPE\":\"동물약국\",\"TEL\":\"585-7270\",\"XCODE\":\"198677.97123500000  \",\"YCODE\":\"442889.30214000000  \",\"PERMISSION_NO\":\"321000001120130034\",\"DETAIL_STAT_NM\":\"정상\"},{\"ID\":75.0,\"NM\":\"고명약국\",\"ADDR_OLD\":\"서울특별시 서초구 우면동 64-2번지 선일상가 101호\",\"ADDR\":\"서울특별시 서초구 바우뫼로 23, 101호 (우면동, 선일상가)\",\"PERMISSION_DT\":\"20130612\",\"STATE\":\"운영중\",\"STOP_DT\":\"\",\"SUSPENSION_START_DT\":\"\",\"SUSPENSION_END_DT\":\"\",\"RE_OPEN_DT\":\"\",\"AREA\":\"\",\"POST\":\"\",\"TOTAL_EMPLOY\":\"\",\"SFRMPRD_TYPE\":\"\",\"LSIND_TYPE\":\"동물약국\",\"TEL\":\"2057-3448\",\"XCODE\":\"202234.13449700000  \",\"YCODE\":\"441220.27391700000  \",\"PERMISSION_NO\":\"321000001120130035\",\"DETAIL_STAT_NM\":\"정상\"},{\"ID\":76.0,\"NM\":\"다사랑약국\",\"ADDR_OLD\":\"서울특별시 서초구 서초동 1320-10번지 삼성전자 지하2층 \",\"ADDR\":\"서울특별시 서초구 서초대로74길 11, 지하2층 (서초동, 삼성전자)\",\"PERMISSION_DT\":\"20130612\",\"STATE\":\"운영중\",\"STOP_DT\":\"\",\"SUSPENSION_START_DT\":\"\",\"SUSPENSION_END_DT\":\"\",\"RE_OPEN_DT\":\"\",\"AREA\":\"0\",\"POST\":\"\",\"TOTAL_EMPLOY\":\"\",\"SFRMPRD_TYPE\":\"\",\"LSIND_TYPE\":\"동물약국\",\"TEL\":\"581-5773\",\"XCODE\":\"202380.05428800000  \",\"YCODE\":\"444130.79858000000  \",\"PERMISSION_NO\":\"321000001120130036\",\"DETAIL_STAT_NM\":\"정상\"},{\"ID\":77.0,\"NM\":\"서초로하스약국\",\"ADDR_OLD\":\"서울특별시 서초구 서초동 1602-8번지 장수빌딩 \",\"ADDR\":\"서울특별시 서초구 서초중앙로 39, 1층 (서초동, 장수빌딩)\",\"PERMISSION_DT\":\"20130623\",\"STATE\":\"운영중\",\"STOP_DT\":\"\",\"SUSPENSION_START_DT\":\"\",\"SUSPENSION_END_DT\":\"\",\"RE_OPEN_DT\":\"\",\"AREA\":\"\",\"POST\":\"\",\"TOTAL_EMPLOY\":\"\",\"SFRMPRD_TYPE\":\"\",\"LSIND_TYPE\":\"동물약국\",\"TEL\":\"3471-2662\",\"XCODE\":\"201389.67906900000  \",\"YCODE\":\"442870.39773700000  \",\"PERMISSION_NO\":\"321000001120130037\",\"DETAIL_STAT_NM\":\"정상\"},{\"ID\":78.0,\"NM\":\"에덴셀스마트약국\",\"ADDR_OLD\":\"서울특별시 서초구 양재동 215번지 하이브랜드패션관 2198호\",\"ADDR\":\"서울특별시 서초구 매헌로 16, 2198호 (양재동,하이브랜드패션관)\",\"PERMISSION_DT\":\"20130623\",\"STATE\":\"운영중\",\"STOP_DT\":\"\",\"SUSPENSION_START_DT\":\"\",\"SUSPENSION_END_DT\":\"\",\"RE_OPEN_DT\":\"\",\"AREA\":\"\",\"POST\":\"\",\"TOTAL_EMPLOY\":\"\",\"SFRMPRD_TYPE\":\"\",\"LSIND_TYPE\":\"동물약국\",\"TEL\":\"2155-1610\",\"XCODE\":\"203269.78891100000  \",\"YCODE\":\"440451.69220800000  \",\"PERMISSION_NO\":\"321000001120130041\",\"DETAIL_STAT_NM\":\"정상\"},{\"ID\":79.0,\"NM\":\"에이스온누리약구\",\"ADDR_OLD\":\"서울특별시 서초구 방배동 984-1번지 \",\"ADDR\":\"서울특별시 서초구 방배로 76, 1층 (방배동)\",\"PERMISSION_DT\":\"20130623\",\"STATE\":\"운영중\",\"STOP_DT\":\"\",\"SUSPENSION_START_DT\":\"\",\"SUSPENSION_END_DT\":\"\",\"RE_OPEN_DT\":\"\",\"AREA\":\"\",\"POST\":\"\",\"TOTAL_EMPLOY\":\"\",\"SFRMPRD_TYPE\":\"\",\"LSIND_TYPE\":\"동물약국\",\"TEL\":\"525-6623\",\"XCODE\":\"199846.58124400000  \",\"YCODE\":\"442413.16644100000  \",\"PERMISSION_NO\":\"321000001120130043\",\"DETAIL_STAT_NM\":\"정상\"},{\"ID\":80.0,\"NM\":\"미소약국\",\"ADDR_OLD\":\"서울특별시 서초구 서초동 1344-12번지 \",\"ADDR\":\"서울특별시 서초구 서운로 39 (서초동)\",\"PERMISSION_DT\":\"20130627\",\"STATE\":\"운영중\",\"STOP_DT\":\"\",\"SUSPENSION_START_DT\":\"\",\"SUSPENSION_END_DT\":\"\",\"RE_OPEN_DT\":\"\",\"AREA\":\"\",\"POST\":\"\",\"TOTAL_EMPLOY\":\"\",\"SFRMPRD_TYPE\":\"\",\"LSIND_TYPE\":\"동물약국\",\"TEL\":\"3487-3454\",\"XCODE\":\"202520.22977200000  \",\"YCODE\":\"443105.70167300000  \",\"PERMISSION_NO\":\"321000001120130044\",\"DETAIL_STAT_NM\":\"정상\"},{\"ID\":81.0,\"NM\":\"기린약국\",\"ADDR_OLD\":\"서울특별시 서초구 반포동 20-45번지 반포자이프라자 \",\"ADDR\":\"서울특별시 서초구 잠원로 24, 1층 (반포동, 반포자이프라자)\",\"PERMISSION_DT\":\"20130702\",\"STATE\":\"운영중\",\"STOP_DT\":\"\",\"SUSPENSION_START_DT\":\"\",\"SUSPENSION_END_DT\":\"\",\"RE_OPEN_DT\":\"\",\"AREA\":\"0\",\"POST\":\"\",\"TOTAL_EMPLOY\":\"\",\"SFRMPRD_TYPE\":\"\",\"LSIND_TYPE\":\"동물약국\",\"TEL\":\"\",\"XCODE\":\"200872.98728200000  \",\"YCODE\":\"445293.90881400000  \",\"PERMISSION_NO\":\"321000001120130045\",\"DETAIL_STAT_NM\":\"정상\"},{\"ID\":82.0,\"NM\":\"서초당약국\",\"ADDR_OLD\":\"서울특별시 서초구 서초동 1575-9번지 삼화빌딩 101호\",\"ADDR\":\"서울특별시 서초구 서초중앙로 107, 101호 (서초동, 삼화빌딩)\",\"PERMISSION_DT\":\"20130702\",\"STATE\":\"운영중\",\"STOP_DT\":\"\",\"SUSPENSION_START_DT\":\"\",\"SUSPENSION_END_DT\":\"\",\"RE_OPEN_DT\":\"\",\"AREA\":\"\",\"POST\":\"\",\"TOTAL_EMPLOY\":\"\",\"SFRMPRD_TYPE\":\"\",\"LSIND_TYPE\":\"동물약국\",\"TEL\":\"521-9443\",\"XCODE\":\"201218.71925200000  \",\"YCODE\":\"443555.42221700000  \",\"PERMISSION_NO\":\"321000001120130046\",\"DETAIL_STAT_NM\":\"정상\"},{\"ID\":169.0,\"NM\":\"장수약국\",\"ADDR_OLD\":\"서울특별시 영등포구 신길동 3844번지 \",\"ADDR\":\"서울특별시 영등포구 신풍로 46 (신길동)\",\"PERMISSION_DT\":\"20130820\",\"STATE\":\"운영중\",\"STOP_DT\":\"\",\"SUSPENSION_START_DT\":\"\",\"SUSPENSION_END_DT\":\"\",\"RE_OPEN_DT\":\"\",\"AREA\":\"0\",\"POST\":\"\",\"TOTAL_EMPLOY\":\"\",\"SFRMPRD_TYPE\":\"\",\"LSIND_TYPE\":\"동물약국\",\"TEL\":\"02-843-2843\",\"XCODE\":\"192132.63385700000  \",\"YCODE\":\"444497.15888600000  \",\"PERMISSION_NO\":\"318000001120130017\",\"DETAIL_STAT_NM\":\"정상\"},{\"ID\":83.0,\"NM\":\"금화온누리약국\",\"ADDR_OLD\":\"서울특별시 서초구 반포동 18-3번지 래미안퍼스티지 중심상가 125호\",\"ADDR\":\"서울특별시 서초구 반포대로 287, 125호 (반포동, 래미안퍼스티지 중심상가)\",\"PERMISSION_DT\":\"20130702\",\"STATE\":\"운영중\",\"STOP_DT\":\"\",\"SUSPENSION_START_DT\":\"\",\"SUSPENSION_END_DT\":\"\",\"RE_OPEN_DT\":\"\",\"AREA\":\"\",\"POST\":\"\",\"TOTAL_EMPLOY\":\"\",\"SFRMPRD_TYPE\":\"\",\"LSIND_TYPE\":\"동물약국\",\"TEL\":\"842-4484\",\"XCODE\":\"200071.57468200000  \",\"YCODE\":\"444992.33793700000  \",\"PERMISSION_NO\":\"321000001120130047\",\"DETAIL_STAT_NM\":\"정상\"},{\"ID\":84.0,\"NM\":\"아주약국\",\"ADDR_OLD\":\"서울특별시 서초구 반포동 1053번지 반포상가 H동 33호\",\"ADDR\":\"서울특별시 서초구 신반포로 22, H동 33호 (반포동, 반포상가)\",\"PERMISSION_DT\":\"20130703\",\"STATE\":\"운영중\",\"STOP_DT\":\"\",\"SUSPENSION_START_DT\":\"\",\"SUSPENSION_END_DT\":\"\",\"RE_OPEN_DT\":\"\",\"AREA\":\"\",\"POST\":\"\",\"TOTAL_EMPLOY\":\"\",\"SFRMPRD_TYPE\":\"\",\"LSIND_TYPE\":\"동물약국\",\"TEL\":\"599-0303\",\"XCODE\":\"198861.90751200000  \",\"YCODE\":\"444626.50706200000  \",\"PERMISSION_NO\":\"321000001120130048\",\"DETAIL_STAT_NM\":\"정상\"},{\"ID\":85.0,\"NM\":\"스마일약국\",\"ADDR_OLD\":\"서울특별시 서초구 방배동 1751번지 \",\"ADDR\":\"서울특별시 서초구 동작대로 132 (방배동)\",\"PERMISSION_DT\":\"20130709\",\"STATE\":\"운영중\",\"STOP_DT\":\"\",\"SUSPENSION_START_DT\":\"\",\"SUSPENSION_END_DT\":\"\",\"RE_OPEN_DT\":\"\",\"AREA\":\"\",\"POST\":\"\",\"TOTAL_EMPLOY\":\"\",\"SFRMPRD_TYPE\":\"\",\"LSIND_TYPE\":\"동물약국\",\"TEL\":\"532-5427\",\"XCODE\":\"198476.20652100000  \",\"YCODE\":\"443201.04767600000  \",\"PERMISSION_NO\":\"321000001120130049\",\"DETAIL_STAT_NM\":\"정상\"},{\"ID\":86.0,\"NM\":\"서초늘푸른약국\",\"ADDR_OLD\":\"서울특별시 서초구 잠원동 57번지 대림상가 117호\",\"ADDR\":\"서울특별시 서초구 잠원로8길 25, 117호 (잠원동, 대림상가)\",\"PERMISSION_DT\":\"20130717\",\"STATE\":\"운영중\",\"STOP_DT\":\"\",\"SUSPENSION_START_DT\":\"\",\"SUSPENSION_END_DT\":\"\",\"RE_OPEN_DT\":\"\",\"AREA\":\"\",\"POST\":\"\",\"TOTAL_EMPLOY\":\"\",\"SFRMPRD_TYPE\":\"\",\"LSIND_TYPE\":\"동물약국\",\"TEL\":\"534-5536\",\"XCODE\":\"201016.28355700000  \",\"YCODE\":\"446102.58887600000  \",\"PERMISSION_NO\":\"321000001120130051\",\"DETAIL_STAT_NM\":\"정상\"},{\"ID\":87.0,\"NM\":\"서초백화점약국\",\"ADDR_OLD\":\"서울특별시 서초구 서초동 1602-1번지 \",\"ADDR\":\"서울특별시 서초구 효령로 279 (서초동)\",\"PERMISSION_DT\":\"20130723\",\"STATE\":\"운영중\",\"STOP_DT\":\"\",\"SUSPENSION_START_DT\":\"\",\"SUSPENSION_END_DT\":\"\",\"RE_OPEN_DT\":\"\",\"AREA\":\"\",\"POST\":\"\",\"TOTAL_EMPLOY\":\"\",\"SFRMPRD_TYPE\":\"\",\"LSIND_TYPE\":\"동물약국\",\"TEL\":\"3474-7575\",\"XCODE\":\"201305.93306500000  \",\"YCODE\":\"442832.92053500000  \",\"PERMISSION_NO\":\"321000001120130052\",\"DETAIL_STAT_NM\":\"정상\"},{\"ID\":88.0,\"NM\":\"다보약국\",\"ADDR_OLD\":\"서울특별시 서초구 서초동 1523-6번지 \",\"ADDR\":\"서울특별시 서초구 반포대로19길 21 (서초동)\",\"PERMISSION_DT\":\"20130812\",\"STATE\":\"운영중\",\"STOP_DT\":\"\",\"SUSPENSION_START_DT\":\"\",\"SUSPENSION_END_DT\":\"\",\"RE_OPEN_DT\":\"\",\"AREA\":\"\",\"POST\":\"\",\"TOTAL_EMPLOY\":\"\",\"SFRMPRD_TYPE\":\"\",\"LSIND_TYPE\":\"동물약국\",\"TEL\":\"525-3955\",\"XCODE\":\"200746.68577900000  \",\"YCODE\":\"443063.91941700000  \",\"PERMISSION_NO\":\"321000001120130054\",\"DETAIL_STAT_NM\":\"정상\"},{\"ID\":89.0,\"NM\":\"코코약국\",\"ADDR_OLD\":\"서울특별시 강남구 도곡동 422번지 \",\"ADDR\":\"\",\"PERMISSION_DT\":\"20040515\",\"STATE\":\"운영중\",\"STOP_DT\":\"\",\"SUSPENSION_START_DT\":\"\",\"SUSPENSION_END_DT\":\"\",\"RE_OPEN_DT\":\"\",\"AREA\":\"0\",\"POST\":\"\",\"TOTAL_EMPLOY\":\"\",\"SFRMPRD_TYPE\":\"\",\"LSIND_TYPE\":\"동물약국\",\"TEL\":\"02-573-6152\",\"XCODE\":\"203973.744772       \",\"YCODE\":\"442459.342151       \",\"PERMISSION_NO\":\"322000001120040015\",\"DETAIL_STAT_NM\":\"정상\"},{\"ID\":90.0,\"NM\":\"천사약국\",\"ADDR_OLD\":\"서울특별시 강남구 일원동 715-1번지 신영플라자 108호 \",\"ADDR\":\"서울특별시 강남구 일원로 95 (일원동, 신영프라자)\",\"PERMISSION_DT\":\"20040830\",\"STATE\":\"운영중\",\"STOP_DT\":\"\",\"SUSPENSION_START_DT\":\"\",\"SUSPENSION_END_DT\":\"\",\"RE_OPEN_DT\":\"\",\"AREA\":\"4455.15\",\"POST\":\"\",\"TOTAL_EMPLOY\":\"\",\"SFRMPRD_TYPE\":\"\",\"LSIND_TYPE\":\"동물약국\",\"TEL\":\"02-459-3702\",\"XCODE\":\"207387.07200500000  \",\"YCODE\":\"442924.32406600000  \",\"PERMISSION_NO\":\"322000001120040027\",\"DETAIL_STAT_NM\":\"정상\"},{\"ID\":91.0,\"NM\":\"우인온누리약국\",\"ADDR_OLD\":\"서울특별시 강남구 일원동 684-2번지 \",\"ADDR\":\"서울특별시 강남구 일원로 39 (일원동, 대원빌딩)\",\"PERMISSION_DT\":\"20041012\",\"STATE\":\"운영중\",\"STOP_DT\":\"\",\"SUSPENSION_START_DT\":\"\",\"SUSPENSION_END_DT\":\"\",\"RE_OPEN_DT\":\"\",\"AREA\":\"0\",\"POST\":\"\",\"TOTAL_EMPLOY\":\"\",\"SFRMPRD_TYPE\":\"\",\"LSIND_TYPE\":\"동물약국\",\"TEL\":\"02-2226-7141\",\"XCODE\":\"207190.88747500000  \",\"YCODE\":\"443435.02266600000  \",\"PERMISSION_NO\":\"322000001120040029\",\"DETAIL_STAT_NM\":\"정상\"},{\"ID\":92.0,\"NM\":\"강남프라자약국\",\"ADDR_OLD\":\"서울특별시 강남구 논현동 117-2번지 \",\"ADDR\":\"서울특별시 강남구 학동로 323 (논현동, 한미빌딩)\",\"PERMISSION_DT\":\"20041012\",\"STATE\":\"운영중\",\"STOP_DT\":\"\",\"SUSPENSION_START_DT\":\"\",\"SUSPENSION_END_DT\":\"\",\"RE_OPEN_DT\":\"\",\"AREA\":\"0\",\"POST\":\"\",\"TOTAL_EMPLOY\":\"\",\"SFRMPRD_TYPE\":\"\",\"LSIND_TYPE\":\"동물약국\",\"TEL\":\"02-514-4222\",\"XCODE\":\"203389.51253100000  \",\"YCODE\":\"446344.20206500000  \",\"PERMISSION_NO\":\"322000001120040030\",\"DETAIL_STAT_NM\":\"정상\"},{\"ID\":93.0,\"NM\":\"도곡메디칼약국\",\"ADDR_OLD\":\"서울특별시 강남구 도곡동 540번지 삼호상가 지하 103호 \",\"ADDR\":\"\",\"PERMISSION_DT\":\"20041111\",\"STATE\":\"운영중\",\"STOP_DT\":\"\",\"SUSPENSION_START_DT\":\"\",\"SUSPENSION_END_DT\":\"\",\"RE_OPEN_DT\":\"\",\"AREA\":\"0\",\"POST\":\"\",\"TOTAL_EMPLOY\":\"\",\"SFRMPRD_TYPE\":\"\",\"LSIND_TYPE\":\"동물약국\",\"TEL\":\"3462-9095\",\"XCODE\":\"203999.743139       \",\"YCODE\":\"443486.116157       \",\"PERMISSION_NO\":\"322000001120040031\",\"DETAIL_STAT_NM\":\"정상\"},{\"ID\":94.0,\"NM\":\"건강 온누리 약국\",\"ADDR_OLD\":\"서울특별시 강남구 역삼동 667-16번지 \",\"ADDR\":\"서울특별시 강남구 논현로 528 (역삼동, 온누리빌딩)\",\"PERMISSION_DT\":\"20050105\",\"STATE\":\"운영중\",\"STOP_DT\":\"\",\"SUSPENSION_START_DT\":\"\",\"SUSPENSION_END_DT\":\"\",\"RE_OPEN_DT\":\"\",\"AREA\":\"0\",\"POST\":\"\",\"TOTAL_EMPLOY\":\"\",\"SFRMPRD_TYPE\":\"\",\"LSIND_TYPE\":\"동물약국\",\"TEL\":\"02-563-0854\",\"XCODE\":\"203175.49599300000  \",\"YCODE\":\"444910.82491500000  \",\"PERMISSION_NO\":\"322000001120050001\",\"DETAIL_STAT_NM\":\"정상\"},{\"ID\":95.0,\"NM\":\"국송약국\",\"ADDR_OLD\":\"서울특별시 강남구 수서동 707-1번지 주공아파트 a 1단지 상가 101호 \",\"ADDR\":\"서울특별시 강남구 광평로51길 49 (수서동, 주공아파트)\",\"PERMISSION_DT\":\"20090106\",\"STATE\":\"운영중\",\"STOP_DT\":\"\",\"SUSPENSION_START_DT\":\"\",\"SUSPENSION_END_DT\":\"\",\"RE_OPEN_DT\":\"\",\"AREA\":\"0\",\"POST\":\"\",\"TOTAL_EMPLOY\":\"\",\"SFRMPRD_TYPE\":\"\",\"LSIND_TYPE\":\"동물약국\",\"TEL\":\"\",\"XCODE\":\"209009.68751900000  \",\"YCODE\":\"443636.06829700000  \",\"PERMISSION_NO\":\"322000001120090001\",\"DETAIL_STAT_NM\":\"정상\"},{\"ID\":96.0,\"NM\":\"역삼약국\",\"ADDR_OLD\":\"서울특별시 강남구 역삼동 834번지 \",\"ADDR\":\"서울특별시 강남구 역삼로 128 (역삼동)\",\"PERMISSION_DT\":\"20120223\",\"STATE\":\"운영중\",\"STOP_DT\":\"\",\"SUSPENSION_START_DT\":\"\",\"SUSPENSION_END_DT\":\"\",\"RE_OPEN_DT\":\"\",\"AREA\":\"\",\"POST\":\"\",\"TOTAL_EMPLOY\":\"\",\"SFRMPRD_TYPE\":\"\",\"LSIND_TYPE\":\"동물약국\",\"TEL\":\"02-555-3877\",\"XCODE\":\"202981.63566200000  \",\"YCODE\":\"443836.27018700000  \",\"PERMISSION_NO\":\"322000001120120001\",\"DETAIL_STAT_NM\":\"정상\"},{\"ID\":97.0,\"NM\":\"코스모스약국\",\"ADDR_OLD\":\"서울특별시 강남구 신사동 502번지 \",\"ADDR\":\"서울특별시 강남구 강남대로 630 (신사동)\",\"PERMISSION_DT\":\"20120726\",\"STATE\":\"운영중\",\"STOP_DT\":\"\",\"SUSPENSION_START_DT\":\"\",\"SUSPENSION_END_DT\":\"\",\"RE_OPEN_DT\":\"\",\"AREA\":\"\",\"POST\":\"\",\"TOTAL_EMPLOY\":\"\",\"SFRMPRD_TYPE\":\"\",\"LSIND_TYPE\":\"동물약국\",\"TEL\":\"515-3555\",\"XCODE\":\"201710.64732500000  \",\"YCODE\":\"446498.60655300000  \",\"PERMISSION_NO\":\"322000001120120003\",\"DETAIL_STAT_NM\":\"정상\"},{\"ID\":98.0,\"NM\":\"더블유스토어삼성약국\",\"ADDR_OLD\":\"서울특별시 강남구 삼성동 163번지 \",\"ADDR\":\"서울특별시 강남구 봉은사로 640 (삼성동)\",\"PERMISSION_DT\":\"20120907\",\"STATE\":\"운영중\",\"STOP_DT\":\"\",\"SUSPENSION_START_DT\":\"\",\"SUSPENSION_END_DT\":\"\",\"RE_OPEN_DT\":\"\",\"AREA\":\"\",\"POST\":\"\",\"TOTAL_EMPLOY\":\"\",\"SFRMPRD_TYPE\":\"\",\"LSIND_TYPE\":\"동물약국\",\"TEL\":\"539-5275\",\"XCODE\":\"205774.42213300000  \",\"YCODE\":\"446154.26334500000  \",\"PERMISSION_NO\":\"322000001120120004\",\"DETAIL_STAT_NM\":\"정상\"}]}}\n"
          ],
          "name": "stdout"
        }
      ]
    },
    {
      "cell_type": "code",
      "metadata": {
        "id": "3a5XQLkK_Eov",
        "colab_type": "code",
        "colab": {}
      },
      "source": [
        ""
      ],
      "execution_count": 0,
      "outputs": []
    }
  ]
}