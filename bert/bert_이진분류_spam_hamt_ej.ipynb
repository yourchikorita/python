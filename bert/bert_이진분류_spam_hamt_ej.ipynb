{
  "nbformat": 4,
  "nbformat_minor": 0,
  "metadata": {
    "colab": {
      "name": "spam_bert.ipynb",
      "provenance": []
    },
    "kernelspec": {
      "name": "python3",
      "display_name": "Python 3"
    },
    "accelerator": "GPU"
  },
  "cells": [
    {
      "cell_type": "code",
      "metadata": {
        "id": "9Jbp5cdhhuka",
        "colab_type": "code",
        "colab": {
          "base_uri": "https://localhost:8080/",
          "height": 125
        },
        "outputId": "4502845a-f96b-4c28-9c55-8252bc738054"
      },
      "source": [
        "import os\n",
        "from google.colab import drive\n",
        "drive.mount('/content/gdrive/')"
      ],
      "execution_count": 4,
      "outputs": [
        {
          "output_type": "stream",
          "text": [
            "Go to this URL in a browser: https://accounts.google.com/o/oauth2/auth?client_id=947318989803-6bn6qk8qdgf4n4g3pfee6491hc0brc4i.apps.googleusercontent.com&redirect_uri=urn%3aietf%3awg%3aoauth%3a2.0%3aoob&response_type=code&scope=email%20https%3a%2f%2fwww.googleapis.com%2fauth%2fdocs.test%20https%3a%2f%2fwww.googleapis.com%2fauth%2fdrive%20https%3a%2f%2fwww.googleapis.com%2fauth%2fdrive.photos.readonly%20https%3a%2f%2fwww.googleapis.com%2fauth%2fpeopleapi.readonly\n",
            "\n",
            "Enter your authorization code:\n",
            "··········\n",
            "Mounted at /content/gdrive/\n"
          ],
          "name": "stdout"
        }
      ]
    },
    {
      "cell_type": "code",
      "metadata": {
        "id": "WjOkj6Y2iFqT",
        "colab_type": "code",
        "colab": {
          "base_uri": "https://localhost:8080/",
          "height": 281
        },
        "outputId": "7cd83774-d7cc-4b39-8b1d-a01aea4e0c8e"
      },
      "source": [
        "os.listdir('gdrive/My Drive/bert_study') #굳이 지드라이브랑 연동안해도됨"
      ],
      "execution_count": 6,
      "outputs": [
        {
          "output_type": "execute_result",
          "data": {
            "text/plain": [
              "['bert_config.json',\n",
              " 'bert_model.ckpt.index',\n",
              " 'bert_model.ckpt.meta',\n",
              " 'vocab.txt',\n",
              " 'bert_model.ckpt.data-00000-of-00001',\n",
              " 'spam.csv',\n",
              " 'bert.h5',\n",
              " 'squad_wordpiece_3 (1).h5',\n",
              " 'squad_wordpiece_3.h5',\n",
              " 'KorQuAD_v1.0_train.json',\n",
              " 'KorQuAD_v1.0_dev.json',\n",
              " 'korquad_wordpiece_3.h5',\n",
              " 'bert_p.h5',\n",
              " 'bert_final.h5',\n",
              " 'bert1056.h5']"
            ]
          },
          "metadata": {
            "tags": []
          },
          "execution_count": 6
        }
      ]
    },
    {
      "cell_type": "code",
      "metadata": {
        "id": "4BYY1WpYiIaN",
        "colab_type": "code",
        "colab": {}
      },
      "source": [
        "path='gdrive/My Drive/bert_study'"
      ],
      "execution_count": 0,
      "outputs": []
    },
    {
      "cell_type": "code",
      "metadata": {
        "id": "7WFMKj0BigoD",
        "colab_type": "code",
        "colab": {
          "base_uri": "https://localhost:8080/",
          "height": 81
        },
        "outputId": "30ad7c3b-5a1b-4093-8c8e-94b48060277e"
      },
      "source": [
        "import tensorflow as tf\n",
        "\n",
        "import pandas as pd\n",
        "import numpy as np  \n",
        "import re\n",
        "import pickle\n",
        "\n",
        "import keras as keras\n",
        "from keras.models import load_model\n",
        "from keras import backend as K\n",
        "from keras import Input, Model\n",
        "from keras import optimizers\n",
        "\n",
        "import codecs\n",
        "from tqdm import tqdm\n",
        "import shutil"
      ],
      "execution_count": 8,
      "outputs": [
        {
          "output_type": "display_data",
          "data": {
            "text/html": [
              "<p style=\"color: red;\">\n",
              "The default version of TensorFlow in Colab will soon switch to TensorFlow 2.x.<br>\n",
              "We recommend you <a href=\"https://www.tensorflow.org/guide/migrate\" target=\"_blank\">upgrade</a> now \n",
              "or ensure your notebook will continue to use TensorFlow 1.x via the <code>%tensorflow_version 1.x</code> magic:\n",
              "<a href=\"https://colab.research.google.com/notebooks/tensorflow_version.ipynb\" target=\"_blank\">more info</a>.</p>\n"
            ],
            "text/plain": [
              "<IPython.core.display.HTML object>"
            ]
          },
          "metadata": {
            "tags": []
          }
        },
        {
          "output_type": "stream",
          "text": [
            "Using TensorFlow backend.\n"
          ],
          "name": "stderr"
        }
      ]
    },
    {
      "cell_type": "code",
      "metadata": {
        "id": "LSMZ0lfKiiSS",
        "colab_type": "code",
        "colab": {}
      },
      "source": [
        "import warnings\n",
        "import tensorflow as tf\n",
        "warnings.filterwarnings(action='ignore')\n",
        "os.environ['TF_CPP_MIN_LOG_LEVEL'] = '3' \n",
        "tf.logging.set_verbosity(tf.logging.ERROR)"
      ],
      "execution_count": 0,
      "outputs": []
    },
    {
      "cell_type": "code",
      "metadata": {
        "id": "QpkF0S2Uijpn",
        "colab_type": "code",
        "colab": {
          "base_uri": "https://localhost:8080/",
          "height": 1000
        },
        "outputId": "dd5558ab-cb0c-4b3e-d0db-d4511e67e01c"
      },
      "source": [
        "!pip install keras-bert\n",
        "!pip install keras-radam"
      ],
      "execution_count": 10,
      "outputs": [
        {
          "output_type": "stream",
          "text": [
            "Collecting keras-bert\n",
            "  Downloading https://files.pythonhosted.org/packages/2c/0f/cdc886c1018943ea62d3209bc964413d5aa9d0eb7e493abd8545be679294/keras-bert-0.81.0.tar.gz\n",
            "Requirement already satisfied: numpy in /usr/local/lib/python3.6/dist-packages (from keras-bert) (1.17.5)\n",
            "Requirement already satisfied: Keras in /usr/local/lib/python3.6/dist-packages (from keras-bert) (2.2.5)\n",
            "Collecting keras-transformer>=0.30.0\n",
            "  Downloading https://files.pythonhosted.org/packages/54/0c/fede535ac576c03863c44bf2e0bf051fe21f5e10103631b6b6236ae446f3/keras-transformer-0.32.0.tar.gz\n",
            "Requirement already satisfied: pyyaml in /usr/local/lib/python3.6/dist-packages (from Keras->keras-bert) (3.13)\n",
            "Requirement already satisfied: six>=1.9.0 in /usr/local/lib/python3.6/dist-packages (from Keras->keras-bert) (1.12.0)\n",
            "Requirement already satisfied: h5py in /usr/local/lib/python3.6/dist-packages (from Keras->keras-bert) (2.8.0)\n",
            "Requirement already satisfied: scipy>=0.14 in /usr/local/lib/python3.6/dist-packages (from Keras->keras-bert) (1.4.1)\n",
            "Requirement already satisfied: keras-applications>=1.0.8 in /usr/local/lib/python3.6/dist-packages (from Keras->keras-bert) (1.0.8)\n",
            "Requirement already satisfied: keras-preprocessing>=1.1.0 in /usr/local/lib/python3.6/dist-packages (from Keras->keras-bert) (1.1.0)\n",
            "Collecting keras-pos-embd>=0.10.0\n",
            "  Downloading https://files.pythonhosted.org/packages/09/70/b63ed8fc660da2bb6ae29b9895401c628da5740c048c190b5d7107cadd02/keras-pos-embd-0.11.0.tar.gz\n",
            "Collecting keras-multi-head>=0.22.0\n",
            "  Downloading https://files.pythonhosted.org/packages/40/3e/d0a64bb2ac5217928effe4507c26bbd19b86145d16a1948bc2d4f4c6338a/keras-multi-head-0.22.0.tar.gz\n",
            "Collecting keras-layer-normalization>=0.12.0\n",
            "  Downloading https://files.pythonhosted.org/packages/a4/0e/d1078df0494bac9ce1a67954e5380b6e7569668f0f3b50a9531c62c1fc4a/keras-layer-normalization-0.14.0.tar.gz\n",
            "Collecting keras-position-wise-feed-forward>=0.5.0\n",
            "  Downloading https://files.pythonhosted.org/packages/e3/59/f0faa1037c033059e7e9e7758e6c23b4d1c0772cd48de14c4b6fd4033ad5/keras-position-wise-feed-forward-0.6.0.tar.gz\n",
            "Collecting keras-embed-sim>=0.7.0\n",
            "  Downloading https://files.pythonhosted.org/packages/bc/20/735fd53f6896e2af63af47e212601c1b8a7a80d00b6126c388c9d1233892/keras-embed-sim-0.7.0.tar.gz\n",
            "Collecting keras-self-attention==0.41.0\n",
            "  Downloading https://files.pythonhosted.org/packages/1b/1c/01599219bef7266fa43b3316e4f55bcb487734d3bafdc60ffd564f3cfe29/keras-self-attention-0.41.0.tar.gz\n",
            "Building wheels for collected packages: keras-bert, keras-transformer, keras-pos-embd, keras-multi-head, keras-layer-normalization, keras-position-wise-feed-forward, keras-embed-sim, keras-self-attention\n",
            "  Building wheel for keras-bert (setup.py) ... \u001b[?25l\u001b[?25hdone\n",
            "  Created wheel for keras-bert: filename=keras_bert-0.81.0-cp36-none-any.whl size=37913 sha256=022cb8afcd01e2147f3bd899265265d6ab1ba1ef6d4c0d4d83434c29beb1f305\n",
            "  Stored in directory: /root/.cache/pip/wheels/bd/27/da/ffc2d573aa48b87440ec4f98bc7c992e3a2d899edb2d22ef9e\n",
            "  Building wheel for keras-transformer (setup.py) ... \u001b[?25l\u001b[?25hdone\n",
            "  Created wheel for keras-transformer: filename=keras_transformer-0.32.0-cp36-none-any.whl size=13266 sha256=8221992b4f3217d9c31f40c0d5c296b9466cb13b9099036c04d999ebd26d5c62\n",
            "  Stored in directory: /root/.cache/pip/wheels/62/f0/ce/82fa5d024d5ef8e263f26a50dcee23820efe245680ce9c922a\n",
            "  Building wheel for keras-pos-embd (setup.py) ... \u001b[?25l\u001b[?25hdone\n",
            "  Created wheel for keras-pos-embd: filename=keras_pos_embd-0.11.0-cp36-none-any.whl size=7554 sha256=c53cc0b0e307200c26dcf16f927d11042e3f7e8efcd9469b0ca11cbf28e4db62\n",
            "  Stored in directory: /root/.cache/pip/wheels/5b/a1/a0/ce6b1d49ba1a9a76f592e70cf297b05c96bc9f418146761032\n",
            "  Building wheel for keras-multi-head (setup.py) ... \u001b[?25l\u001b[?25hdone\n",
            "  Created wheel for keras-multi-head: filename=keras_multi_head-0.22.0-cp36-none-any.whl size=15371 sha256=4c304bc3db43912ff92b0d71b8febcbe5611916d7685a43a26ac0cc27e128832\n",
            "  Stored in directory: /root/.cache/pip/wheels/bb/df/3f/81b36f41b66e6a9cd69224c70a737de2bb6b2f7feb3272c25e\n",
            "  Building wheel for keras-layer-normalization (setup.py) ... \u001b[?25l\u001b[?25hdone\n",
            "  Created wheel for keras-layer-normalization: filename=keras_layer_normalization-0.14.0-cp36-none-any.whl size=5268 sha256=16309c9684c5ca5cdeaba8b45c1ac62f0015f57f364daf5785a7877983e98300\n",
            "  Stored in directory: /root/.cache/pip/wheels/54/80/22/a638a7d406fd155e507aa33d703e3fa2612b9eb7bb4f4fe667\n",
            "  Building wheel for keras-position-wise-feed-forward (setup.py) ... \u001b[?25l\u001b[?25hdone\n",
            "  Created wheel for keras-position-wise-feed-forward: filename=keras_position_wise_feed_forward-0.6.0-cp36-none-any.whl size=5623 sha256=360721192519207e70e67bb94c97fade9002cb1d621eeab541a2b932faed9ab1\n",
            "  Stored in directory: /root/.cache/pip/wheels/39/e2/e2/3514fef126a00574b13bc0b9e23891800158df3a3c19c96e3b\n",
            "  Building wheel for keras-embed-sim (setup.py) ... \u001b[?25l\u001b[?25hdone\n",
            "  Created wheel for keras-embed-sim: filename=keras_embed_sim-0.7.0-cp36-none-any.whl size=4676 sha256=a8ca5bcd35378d814cbc25b0f64151505aceff714520b8b931a718943519170b\n",
            "  Stored in directory: /root/.cache/pip/wheels/d1/bc/b1/b0c45cee4ca2e6c86586b0218ffafe7f0703c6d07fdf049866\n",
            "  Building wheel for keras-self-attention (setup.py) ... \u001b[?25l\u001b[?25hdone\n",
            "  Created wheel for keras-self-attention: filename=keras_self_attention-0.41.0-cp36-none-any.whl size=17288 sha256=dec6d517397716b9386792d0a57962e76b025d9f29e721ee8d261830a2ba835d\n",
            "  Stored in directory: /root/.cache/pip/wheels/cc/dc/17/84258b27a04cd38ac91998abe148203720ca696186635db694\n",
            "Successfully built keras-bert keras-transformer keras-pos-embd keras-multi-head keras-layer-normalization keras-position-wise-feed-forward keras-embed-sim keras-self-attention\n",
            "Installing collected packages: keras-pos-embd, keras-self-attention, keras-multi-head, keras-layer-normalization, keras-position-wise-feed-forward, keras-embed-sim, keras-transformer, keras-bert\n",
            "Successfully installed keras-bert-0.81.0 keras-embed-sim-0.7.0 keras-layer-normalization-0.14.0 keras-multi-head-0.22.0 keras-pos-embd-0.11.0 keras-position-wise-feed-forward-0.6.0 keras-self-attention-0.41.0 keras-transformer-0.32.0\n",
            "Collecting keras-radam\n",
            "  Downloading https://files.pythonhosted.org/packages/46/8d/b83ccaa94253fbc920b21981f038393041d92236bb541751b98a66a2ac1d/keras-radam-0.15.0.tar.gz\n",
            "Requirement already satisfied: numpy in /usr/local/lib/python3.6/dist-packages (from keras-radam) (1.17.5)\n",
            "Requirement already satisfied: Keras in /usr/local/lib/python3.6/dist-packages (from keras-radam) (2.2.5)\n",
            "Requirement already satisfied: keras-applications>=1.0.8 in /usr/local/lib/python3.6/dist-packages (from Keras->keras-radam) (1.0.8)\n",
            "Requirement already satisfied: h5py in /usr/local/lib/python3.6/dist-packages (from Keras->keras-radam) (2.8.0)\n",
            "Requirement already satisfied: six>=1.9.0 in /usr/local/lib/python3.6/dist-packages (from Keras->keras-radam) (1.12.0)\n",
            "Requirement already satisfied: keras-preprocessing>=1.1.0 in /usr/local/lib/python3.6/dist-packages (from Keras->keras-radam) (1.1.0)\n",
            "Requirement already satisfied: scipy>=0.14 in /usr/local/lib/python3.6/dist-packages (from Keras->keras-radam) (1.4.1)\n",
            "Requirement already satisfied: pyyaml in /usr/local/lib/python3.6/dist-packages (from Keras->keras-radam) (3.13)\n",
            "Building wheels for collected packages: keras-radam\n",
            "  Building wheel for keras-radam (setup.py) ... \u001b[?25l\u001b[?25hdone\n",
            "  Created wheel for keras-radam: filename=keras_radam-0.15.0-cp36-none-any.whl size=14685 sha256=55efcd70caed2e428240381b2aabb254f0d83bd76b1127e2de53968ee130f02a\n",
            "  Stored in directory: /root/.cache/pip/wheels/79/a0/c0/670b0a118e8f078539fafec7bd02eba0af921f745660c7f83f\n",
            "Successfully built keras-radam\n",
            "Installing collected packages: keras-radam\n",
            "Successfully installed keras-radam-0.15.0\n"
          ],
          "name": "stdout"
        }
      ]
    },
    {
      "cell_type": "code",
      "metadata": {
        "id": "9EDKm3bxikxi",
        "colab_type": "code",
        "colab": {}
      },
      "source": [
        "from keras_bert import load_trained_model_from_checkpoint, load_vocabulary\n",
        "from keras_bert import Tokenizer\n",
        "from keras_bert import AdamWarmup, calc_train_steps\n",
        "\n",
        "from keras_radam import RAdam"
      ],
      "execution_count": 0,
      "outputs": []
    },
    {
      "cell_type": "code",
      "metadata": {
        "id": "no4b_EJ5imfm",
        "colab_type": "code",
        "colab": {}
      },
      "source": [
        "import pandas as pd \n",
        "\n",
        "spam_csv=pd.read_csv(path+'/spam.csv',encoding='latin1')"
      ],
      "execution_count": 0,
      "outputs": []
    },
    {
      "cell_type": "code",
      "metadata": {
        "id": "RPdD0uzTjAkj",
        "colab_type": "code",
        "colab": {
          "base_uri": "https://localhost:8080/",
          "height": 402
        },
        "outputId": "fa324713-98d6-437b-bfa7-e5bc0a29b07b"
      },
      "source": [
        "spam_csv"
      ],
      "execution_count": 82,
      "outputs": [
        {
          "output_type": "execute_result",
          "data": {
            "text/html": [
              "<div>\n",
              "<style scoped>\n",
              "    .dataframe tbody tr th:only-of-type {\n",
              "        vertical-align: middle;\n",
              "    }\n",
              "\n",
              "    .dataframe tbody tr th {\n",
              "        vertical-align: top;\n",
              "    }\n",
              "\n",
              "    .dataframe thead th {\n",
              "        text-align: right;\n",
              "    }\n",
              "</style>\n",
              "<table border=\"1\" class=\"dataframe\">\n",
              "  <thead>\n",
              "    <tr style=\"text-align: right;\">\n",
              "      <th></th>\n",
              "      <th>v1</th>\n",
              "      <th>v2</th>\n",
              "      <th>Unnamed: 2</th>\n",
              "      <th>Unnamed: 3</th>\n",
              "      <th>Unnamed: 4</th>\n",
              "    </tr>\n",
              "  </thead>\n",
              "  <tbody>\n",
              "    <tr>\n",
              "      <th>0</th>\n",
              "      <td>ham</td>\n",
              "      <td>Go until jurong point, crazy.. Available only ...</td>\n",
              "      <td>NaN</td>\n",
              "      <td>NaN</td>\n",
              "      <td>NaN</td>\n",
              "    </tr>\n",
              "    <tr>\n",
              "      <th>1</th>\n",
              "      <td>ham</td>\n",
              "      <td>Ok lar... Joking wif u oni...</td>\n",
              "      <td>NaN</td>\n",
              "      <td>NaN</td>\n",
              "      <td>NaN</td>\n",
              "    </tr>\n",
              "    <tr>\n",
              "      <th>2</th>\n",
              "      <td>spam</td>\n",
              "      <td>Free entry in 2 a wkly comp to win FA Cup fina...</td>\n",
              "      <td>NaN</td>\n",
              "      <td>NaN</td>\n",
              "      <td>NaN</td>\n",
              "    </tr>\n",
              "    <tr>\n",
              "      <th>3</th>\n",
              "      <td>ham</td>\n",
              "      <td>U dun say so early hor... U c already then say...</td>\n",
              "      <td>NaN</td>\n",
              "      <td>NaN</td>\n",
              "      <td>NaN</td>\n",
              "    </tr>\n",
              "    <tr>\n",
              "      <th>4</th>\n",
              "      <td>ham</td>\n",
              "      <td>Nah I don't think he goes to usf, he lives aro...</td>\n",
              "      <td>NaN</td>\n",
              "      <td>NaN</td>\n",
              "      <td>NaN</td>\n",
              "    </tr>\n",
              "    <tr>\n",
              "      <th>...</th>\n",
              "      <td>...</td>\n",
              "      <td>...</td>\n",
              "      <td>...</td>\n",
              "      <td>...</td>\n",
              "      <td>...</td>\n",
              "    </tr>\n",
              "    <tr>\n",
              "      <th>5567</th>\n",
              "      <td>spam</td>\n",
              "      <td>This is the 2nd time we have tried 2 contact u...</td>\n",
              "      <td>NaN</td>\n",
              "      <td>NaN</td>\n",
              "      <td>NaN</td>\n",
              "    </tr>\n",
              "    <tr>\n",
              "      <th>5568</th>\n",
              "      <td>ham</td>\n",
              "      <td>Will Ì_ b going to esplanade fr home?</td>\n",
              "      <td>NaN</td>\n",
              "      <td>NaN</td>\n",
              "      <td>NaN</td>\n",
              "    </tr>\n",
              "    <tr>\n",
              "      <th>5569</th>\n",
              "      <td>ham</td>\n",
              "      <td>Pity, * was in mood for that. So...any other s...</td>\n",
              "      <td>NaN</td>\n",
              "      <td>NaN</td>\n",
              "      <td>NaN</td>\n",
              "    </tr>\n",
              "    <tr>\n",
              "      <th>5570</th>\n",
              "      <td>ham</td>\n",
              "      <td>The guy did some bitching but I acted like i'd...</td>\n",
              "      <td>NaN</td>\n",
              "      <td>NaN</td>\n",
              "      <td>NaN</td>\n",
              "    </tr>\n",
              "    <tr>\n",
              "      <th>5571</th>\n",
              "      <td>ham</td>\n",
              "      <td>Rofl. Its true to its name</td>\n",
              "      <td>NaN</td>\n",
              "      <td>NaN</td>\n",
              "      <td>NaN</td>\n",
              "    </tr>\n",
              "  </tbody>\n",
              "</table>\n",
              "<p>5572 rows × 5 columns</p>\n",
              "</div>"
            ],
            "text/plain": [
              "        v1  ... Unnamed: 4\n",
              "0      ham  ...        NaN\n",
              "1      ham  ...        NaN\n",
              "2     spam  ...        NaN\n",
              "3      ham  ...        NaN\n",
              "4      ham  ...        NaN\n",
              "...    ...  ...        ...\n",
              "5567  spam  ...        NaN\n",
              "5568   ham  ...        NaN\n",
              "5569   ham  ...        NaN\n",
              "5570   ham  ...        NaN\n",
              "5571   ham  ...        NaN\n",
              "\n",
              "[5572 rows x 5 columns]"
            ]
          },
          "metadata": {
            "tags": []
          },
          "execution_count": 82
        }
      ]
    },
    {
      "cell_type": "code",
      "metadata": {
        "id": "BzaG1IT6jB74",
        "colab_type": "code",
        "colab": {}
      },
      "source": [
        "del spam_csv['Unnamed: 2']\n",
        "del spam_csv['Unnamed: 3']\n",
        "del spam_csv['Unnamed: 4']\n",
        "spam_csv['v1'] = spam_csv['v1'].replace(['ham','spam'],[0,1])\n",
        "\n"
      ],
      "execution_count": 0,
      "outputs": []
    },
    {
      "cell_type": "code",
      "metadata": {
        "id": "vzgci98BjiPU",
        "colab_type": "code",
        "colab": {
          "base_uri": "https://localhost:8080/",
          "height": 402
        },
        "outputId": "fc4177bd-384b-45f8-ddb5-787194680804"
      },
      "source": [
        "spam_csv"
      ],
      "execution_count": 84,
      "outputs": [
        {
          "output_type": "execute_result",
          "data": {
            "text/html": [
              "<div>\n",
              "<style scoped>\n",
              "    .dataframe tbody tr th:only-of-type {\n",
              "        vertical-align: middle;\n",
              "    }\n",
              "\n",
              "    .dataframe tbody tr th {\n",
              "        vertical-align: top;\n",
              "    }\n",
              "\n",
              "    .dataframe thead th {\n",
              "        text-align: right;\n",
              "    }\n",
              "</style>\n",
              "<table border=\"1\" class=\"dataframe\">\n",
              "  <thead>\n",
              "    <tr style=\"text-align: right;\">\n",
              "      <th></th>\n",
              "      <th>v1</th>\n",
              "      <th>v2</th>\n",
              "    </tr>\n",
              "  </thead>\n",
              "  <tbody>\n",
              "    <tr>\n",
              "      <th>0</th>\n",
              "      <td>0</td>\n",
              "      <td>Go until jurong point, crazy.. Available only ...</td>\n",
              "    </tr>\n",
              "    <tr>\n",
              "      <th>1</th>\n",
              "      <td>0</td>\n",
              "      <td>Ok lar... Joking wif u oni...</td>\n",
              "    </tr>\n",
              "    <tr>\n",
              "      <th>2</th>\n",
              "      <td>1</td>\n",
              "      <td>Free entry in 2 a wkly comp to win FA Cup fina...</td>\n",
              "    </tr>\n",
              "    <tr>\n",
              "      <th>3</th>\n",
              "      <td>0</td>\n",
              "      <td>U dun say so early hor... U c already then say...</td>\n",
              "    </tr>\n",
              "    <tr>\n",
              "      <th>4</th>\n",
              "      <td>0</td>\n",
              "      <td>Nah I don't think he goes to usf, he lives aro...</td>\n",
              "    </tr>\n",
              "    <tr>\n",
              "      <th>...</th>\n",
              "      <td>...</td>\n",
              "      <td>...</td>\n",
              "    </tr>\n",
              "    <tr>\n",
              "      <th>5567</th>\n",
              "      <td>1</td>\n",
              "      <td>This is the 2nd time we have tried 2 contact u...</td>\n",
              "    </tr>\n",
              "    <tr>\n",
              "      <th>5568</th>\n",
              "      <td>0</td>\n",
              "      <td>Will Ì_ b going to esplanade fr home?</td>\n",
              "    </tr>\n",
              "    <tr>\n",
              "      <th>5569</th>\n",
              "      <td>0</td>\n",
              "      <td>Pity, * was in mood for that. So...any other s...</td>\n",
              "    </tr>\n",
              "    <tr>\n",
              "      <th>5570</th>\n",
              "      <td>0</td>\n",
              "      <td>The guy did some bitching but I acted like i'd...</td>\n",
              "    </tr>\n",
              "    <tr>\n",
              "      <th>5571</th>\n",
              "      <td>0</td>\n",
              "      <td>Rofl. Its true to its name</td>\n",
              "    </tr>\n",
              "  </tbody>\n",
              "</table>\n",
              "<p>5572 rows × 2 columns</p>\n",
              "</div>"
            ],
            "text/plain": [
              "      v1                                                 v2\n",
              "0      0  Go until jurong point, crazy.. Available only ...\n",
              "1      0                      Ok lar... Joking wif u oni...\n",
              "2      1  Free entry in 2 a wkly comp to win FA Cup fina...\n",
              "3      0  U dun say so early hor... U c already then say...\n",
              "4      0  Nah I don't think he goes to usf, he lives aro...\n",
              "...   ..                                                ...\n",
              "5567   1  This is the 2nd time we have tried 2 contact u...\n",
              "5568   0              Will Ì_ b going to esplanade fr home?\n",
              "5569   0  Pity, * was in mood for that. So...any other s...\n",
              "5570   0  The guy did some bitching but I acted like i'd...\n",
              "5571   0                         Rofl. Its true to its name\n",
              "\n",
              "[5572 rows x 2 columns]"
            ]
          },
          "metadata": {
            "tags": []
          },
          "execution_count": 84
        }
      ]
    },
    {
      "cell_type": "code",
      "metadata": {
        "id": "GBo9g2fpkOXe",
        "colab_type": "code",
        "colab": {
          "base_uri": "https://localhost:8080/",
          "height": 402
        },
        "outputId": "8fe8cc60-a81e-4522-bde3-107b0d748d92"
      },
      "source": [
        "spam_csv.columns = [\"label\", \"document\"]\n",
        "spam_csv"
      ],
      "execution_count": 85,
      "outputs": [
        {
          "output_type": "execute_result",
          "data": {
            "text/html": [
              "<div>\n",
              "<style scoped>\n",
              "    .dataframe tbody tr th:only-of-type {\n",
              "        vertical-align: middle;\n",
              "    }\n",
              "\n",
              "    .dataframe tbody tr th {\n",
              "        vertical-align: top;\n",
              "    }\n",
              "\n",
              "    .dataframe thead th {\n",
              "        text-align: right;\n",
              "    }\n",
              "</style>\n",
              "<table border=\"1\" class=\"dataframe\">\n",
              "  <thead>\n",
              "    <tr style=\"text-align: right;\">\n",
              "      <th></th>\n",
              "      <th>label</th>\n",
              "      <th>document</th>\n",
              "    </tr>\n",
              "  </thead>\n",
              "  <tbody>\n",
              "    <tr>\n",
              "      <th>0</th>\n",
              "      <td>0</td>\n",
              "      <td>Go until jurong point, crazy.. Available only ...</td>\n",
              "    </tr>\n",
              "    <tr>\n",
              "      <th>1</th>\n",
              "      <td>0</td>\n",
              "      <td>Ok lar... Joking wif u oni...</td>\n",
              "    </tr>\n",
              "    <tr>\n",
              "      <th>2</th>\n",
              "      <td>1</td>\n",
              "      <td>Free entry in 2 a wkly comp to win FA Cup fina...</td>\n",
              "    </tr>\n",
              "    <tr>\n",
              "      <th>3</th>\n",
              "      <td>0</td>\n",
              "      <td>U dun say so early hor... U c already then say...</td>\n",
              "    </tr>\n",
              "    <tr>\n",
              "      <th>4</th>\n",
              "      <td>0</td>\n",
              "      <td>Nah I don't think he goes to usf, he lives aro...</td>\n",
              "    </tr>\n",
              "    <tr>\n",
              "      <th>...</th>\n",
              "      <td>...</td>\n",
              "      <td>...</td>\n",
              "    </tr>\n",
              "    <tr>\n",
              "      <th>5567</th>\n",
              "      <td>1</td>\n",
              "      <td>This is the 2nd time we have tried 2 contact u...</td>\n",
              "    </tr>\n",
              "    <tr>\n",
              "      <th>5568</th>\n",
              "      <td>0</td>\n",
              "      <td>Will Ì_ b going to esplanade fr home?</td>\n",
              "    </tr>\n",
              "    <tr>\n",
              "      <th>5569</th>\n",
              "      <td>0</td>\n",
              "      <td>Pity, * was in mood for that. So...any other s...</td>\n",
              "    </tr>\n",
              "    <tr>\n",
              "      <th>5570</th>\n",
              "      <td>0</td>\n",
              "      <td>The guy did some bitching but I acted like i'd...</td>\n",
              "    </tr>\n",
              "    <tr>\n",
              "      <th>5571</th>\n",
              "      <td>0</td>\n",
              "      <td>Rofl. Its true to its name</td>\n",
              "    </tr>\n",
              "  </tbody>\n",
              "</table>\n",
              "<p>5572 rows × 2 columns</p>\n",
              "</div>"
            ],
            "text/plain": [
              "      label                                           document\n",
              "0         0  Go until jurong point, crazy.. Available only ...\n",
              "1         0                      Ok lar... Joking wif u oni...\n",
              "2         1  Free entry in 2 a wkly comp to win FA Cup fina...\n",
              "3         0  U dun say so early hor... U c already then say...\n",
              "4         0  Nah I don't think he goes to usf, he lives aro...\n",
              "...     ...                                                ...\n",
              "5567      1  This is the 2nd time we have tried 2 contact u...\n",
              "5568      0              Will Ì_ b going to esplanade fr home?\n",
              "5569      0  Pity, * was in mood for that. So...any other s...\n",
              "5570      0  The guy did some bitching but I acted like i'd...\n",
              "5571      0                         Rofl. Its true to its name\n",
              "\n",
              "[5572 rows x 2 columns]"
            ]
          },
          "metadata": {
            "tags": []
          },
          "execution_count": 85
        }
      ]
    },
    {
      "cell_type": "code",
      "metadata": {
        "id": "WPknx3tZlACf",
        "colab_type": "code",
        "colab": {}
      },
      "source": [
        "SEQ_LEN = 128\n",
        "BATCH_SIZE = 16#파인튜닝할땐 작게잡음\n",
        "EPOCHS=2\n",
        "LR=1e-5  #파인튜닝할땐 러닝레이트를 작게한다.\n",
        "\n",
        "pretrained_path =\"gdrive/My Drive/bert_study/\"\n",
        "config_path = os.path.join(pretrained_path, 'bert_config.json')\n",
        "checkpoint_path = os.path.join(pretrained_path, 'bert_model.ckpt')\n",
        "vocab_path = os.path.join(pretrained_path, 'vocab.txt')\n",
        "\n",
        "DATA_COLUMN = \"document\"\n",
        "LABEL_COLUMN = \"label\""
      ],
      "execution_count": 0,
      "outputs": []
    },
    {
      "cell_type": "code",
      "metadata": {
        "id": "dMKj6w4gld2B",
        "colab_type": "code",
        "colab": {}
      },
      "source": [
        "token_dict = {}\n",
        "with codecs.open(vocab_path, 'r', 'utf8') as reader:\n",
        "    for line in reader:\n",
        "        token = line.strip()\n",
        "        if \"_\" in token:\n",
        "          token = token.replace(\"_\",\"\")\n",
        "          token = \"##\" + token\n",
        "        token_dict[token] = len(token_dict)\n",
        "        #단어숫자단어숫자 만들어주기위해 vocab을 가져옴"
      ],
      "execution_count": 0,
      "outputs": []
    },
    {
      "cell_type": "code",
      "metadata": {
        "id": "e8og09oel8tk",
        "colab_type": "code",
        "colab": {}
      },
      "source": [
        "tokenizer = Tokenizer(token_dict)"
      ],
      "execution_count": 0,
      "outputs": []
    },
    {
      "cell_type": "code",
      "metadata": {
        "id": "C8vevtgWlgcG",
        "colab_type": "code",
        "colab": {
          "base_uri": "https://localhost:8080/",
          "height": 34
        },
        "outputId": "1e3dcd49-99eb-4c1d-fa49-16274c915df7"
      },
      "source": [
        "tokenizer.tokenize(\"You must get this free gift!\") #문장앞에 cls 끝에 sep"
      ],
      "execution_count": 89,
      "outputs": [
        {
          "output_type": "execute_result",
          "data": {
            "text/plain": [
              "['[CLS]', 'you', 'must', 'get', 'this', 'free', 'gift', '!', '[SEP]']"
            ]
          },
          "metadata": {
            "tags": []
          },
          "execution_count": 89
        }
      ]
    },
    {
      "cell_type": "code",
      "metadata": {
        "id": "3Pl_NKWAloKb",
        "colab_type": "code",
        "colab": {}
      },
      "source": [
        "#숫자로 바꿔준다 넘버링\n",
        "def convert_data(data_df):\n",
        "    global tokenizer\n",
        "    indices, targets = [], []\n",
        "    for i in tqdm(range(len(data_df))):\n",
        "        ids, segments = tokenizer.encode(data_df[DATA_COLUMN][i], max_len=SEQ_LEN)\n",
        "        indices.append(ids)\n",
        "        targets.append(data_df[LABEL_COLUMN][i])\n",
        "    items = list(zip(indices, targets))\n",
        "    \n",
        "    indices, targets = zip(*items)\n",
        "    indices = np.array(indices)\n",
        "    return [indices, np.zeros_like(indices)], np.array(targets)\n",
        "\n",
        "def load_data(pandas_dataframe):\n",
        "    data_df = pandas_dataframe\n",
        "    \n",
        "    \n",
        "    data_df[DATA_COLUMN] = data_df[DATA_COLUMN].astype(str)\n",
        "\n",
        "\n",
        "    data_x, data_y = convert_data(data_df)\n",
        "\n",
        "    return data_x, data_y"
      ],
      "execution_count": 0,
      "outputs": []
    },
    {
      "cell_type": "code",
      "metadata": {
        "id": "A8X5zGFSmmfI",
        "colab_type": "code",
        "colab": {}
      },
      "source": [
        "from sklearn.model_selection import train_test_split\n",
        "\n",
        "train_x, test_x, train_y, test_y = train_test_split(spam_csv['document'], spam_csv['label'], test_size=0.3, random_state=0)"
      ],
      "execution_count": 0,
      "outputs": []
    },
    {
      "cell_type": "code",
      "metadata": {
        "id": "FEpWLdjso4cA",
        "colab_type": "code",
        "colab": {}
      },
      "source": [
        "from IPython.display import display\n",
        "\n",
        "train_spam={\"label\": train_y,\"document\":train_x}\n",
        "train_spam=pd.DataFrame(train_spam)\n",
        "\n",
        "train_spam.to_csv(\"train_spam.csv\", mode='w')"
      ],
      "execution_count": 0,
      "outputs": []
    },
    {
      "cell_type": "code",
      "metadata": {
        "id": "zQVOpFyBqUlR",
        "colab_type": "code",
        "colab": {}
      },
      "source": [
        "test_spam={\"label\": test_y,\"document\":test_x}\n",
        "test_spam=pd.DataFrame(test_spam)\n",
        "test_spam.to_csv(\"test_spam.csv\", mode='w')"
      ],
      "execution_count": 0,
      "outputs": []
    },
    {
      "cell_type": "code",
      "metadata": {
        "id": "vf7c_G7IrsO0",
        "colab_type": "code",
        "colab": {}
      },
      "source": [
        "train_spam_load = pd.read_csv(\"train_spam.csv\")\n",
        "test_spam_load = pd.read_csv(\"test_spam.csv\")"
      ],
      "execution_count": 0,
      "outputs": []
    },
    {
      "cell_type": "code",
      "metadata": {
        "id": "F4kERCQ_mR2N",
        "colab_type": "code",
        "colab": {
          "base_uri": "https://localhost:8080/",
          "height": 52
        },
        "outputId": "f0a93a79-be16-4d72-973d-185f210ae321"
      },
      "source": [
        "train_x, train_y = load_data(train_spam_load)\n",
        "test_x, test_y = load_data(test_spam_load)"
      ],
      "execution_count": 100,
      "outputs": [
        {
          "output_type": "stream",
          "text": [
            "100%|██████████| 3900/3900 [00:01<00:00, 3777.10it/s]\n",
            "100%|██████████| 1672/1672 [00:00<00:00, 3663.83it/s]\n"
          ],
          "name": "stderr"
        }
      ]
    },
    {
      "cell_type": "code",
      "metadata": {
        "id": "k1c1h_6Nq1Xt",
        "colab_type": "code",
        "colab": {
          "base_uri": "https://localhost:8080/",
          "height": 263
        },
        "outputId": "cda19e08-bc26-41aa-b510-8822f7ec5252"
      },
      "source": [
        "train_x"
      ],
      "execution_count": 101,
      "outputs": [
        {
          "output_type": "execute_result",
          "data": {
            "text/plain": [
              "[array([[  101, 33508, 92562, ...,     0,     0,     0],\n",
              "        [  101, 13563,   119, ...,     0,     0,     0],\n",
              "        [  101, 11530,   112, ...,     0,     0,     0],\n",
              "        ...,\n",
              "        [  101,   151, 10140, ...,     0,     0,     0],\n",
              "        [  101,   131,   118, ...,     0,     0,     0],\n",
              "        [  101, 12548, 33692, ...,     0,     0,     0]]),\n",
              " array([[0, 0, 0, ..., 0, 0, 0],\n",
              "        [0, 0, 0, ..., 0, 0, 0],\n",
              "        [0, 0, 0, ..., 0, 0, 0],\n",
              "        ...,\n",
              "        [0, 0, 0, ..., 0, 0, 0],\n",
              "        [0, 0, 0, ..., 0, 0, 0],\n",
              "        [0, 0, 0, ..., 0, 0, 0]])]"
            ]
          },
          "metadata": {
            "tags": []
          },
          "execution_count": 101
        }
      ]
    },
    {
      "cell_type": "code",
      "metadata": {
        "id": "avlxy8RBtlAi",
        "colab_type": "code",
        "colab": {}
      },
      "source": [
        "layer_num = 12\n",
        "model = load_trained_model_from_checkpoint( #사전학습된 버트 모형을 불러옴\n",
        "    config_path,\n",
        "    checkpoint_path,\n",
        "    training=True,\n",
        "    trainable=True,\n",
        "    seq_len=SEQ_LEN,)"
      ],
      "execution_count": 0,
      "outputs": []
    },
    {
      "cell_type": "code",
      "metadata": {
        "id": "B110sg4EtmVy",
        "colab_type": "code",
        "colab": {
          "base_uri": "https://localhost:8080/",
          "height": 1000
        },
        "outputId": "88c7287b-839d-41ee-c910-94a51311f8ea"
      },
      "source": [
        "model.summary() "
      ],
      "execution_count": 103,
      "outputs": [
        {
          "output_type": "stream",
          "text": [
            "Model: \"model_1\"\n",
            "__________________________________________________________________________________________________\n",
            "Layer (type)                    Output Shape         Param #     Connected to                     \n",
            "==================================================================================================\n",
            "Input-Token (InputLayer)        (None, 128)          0                                            \n",
            "__________________________________________________________________________________________________\n",
            "Input-Segment (InputLayer)      (None, 128)          0                                            \n",
            "__________________________________________________________________________________________________\n",
            "Embedding-Token (TokenEmbedding [(None, 128, 768), ( 81315072    Input-Token[0][0]                \n",
            "__________________________________________________________________________________________________\n",
            "Embedding-Segment (Embedding)   (None, 128, 768)     1536        Input-Segment[0][0]              \n",
            "__________________________________________________________________________________________________\n",
            "Embedding-Token-Segment (Add)   (None, 128, 768)     0           Embedding-Token[0][0]            \n",
            "                                                                 Embedding-Segment[0][0]          \n",
            "__________________________________________________________________________________________________\n",
            "Embedding-Position (PositionEmb (None, 128, 768)     98304       Embedding-Token-Segment[0][0]    \n",
            "__________________________________________________________________________________________________\n",
            "Embedding-Dropout (Dropout)     (None, 128, 768)     0           Embedding-Position[0][0]         \n",
            "__________________________________________________________________________________________________\n",
            "Embedding-Norm (LayerNormalizat (None, 128, 768)     1536        Embedding-Dropout[0][0]          \n",
            "__________________________________________________________________________________________________\n",
            "Encoder-1-MultiHeadSelfAttentio (None, 128, 768)     2362368     Embedding-Norm[0][0]             \n",
            "__________________________________________________________________________________________________\n",
            "Encoder-1-MultiHeadSelfAttentio (None, 128, 768)     0           Encoder-1-MultiHeadSelfAttention[\n",
            "__________________________________________________________________________________________________\n",
            "Encoder-1-MultiHeadSelfAttentio (None, 128, 768)     0           Embedding-Norm[0][0]             \n",
            "                                                                 Encoder-1-MultiHeadSelfAttention-\n",
            "__________________________________________________________________________________________________\n",
            "Encoder-1-MultiHeadSelfAttentio (None, 128, 768)     1536        Encoder-1-MultiHeadSelfAttention-\n",
            "__________________________________________________________________________________________________\n",
            "Encoder-1-FeedForward (FeedForw (None, 128, 768)     4722432     Encoder-1-MultiHeadSelfAttention-\n",
            "__________________________________________________________________________________________________\n",
            "Encoder-1-FeedForward-Dropout ( (None, 128, 768)     0           Encoder-1-FeedForward[0][0]      \n",
            "__________________________________________________________________________________________________\n",
            "Encoder-1-FeedForward-Add (Add) (None, 128, 768)     0           Encoder-1-MultiHeadSelfAttention-\n",
            "                                                                 Encoder-1-FeedForward-Dropout[0][\n",
            "__________________________________________________________________________________________________\n",
            "Encoder-1-FeedForward-Norm (Lay (None, 128, 768)     1536        Encoder-1-FeedForward-Add[0][0]  \n",
            "__________________________________________________________________________________________________\n",
            "Encoder-2-MultiHeadSelfAttentio (None, 128, 768)     2362368     Encoder-1-FeedForward-Norm[0][0] \n",
            "__________________________________________________________________________________________________\n",
            "Encoder-2-MultiHeadSelfAttentio (None, 128, 768)     0           Encoder-2-MultiHeadSelfAttention[\n",
            "__________________________________________________________________________________________________\n",
            "Encoder-2-MultiHeadSelfAttentio (None, 128, 768)     0           Encoder-1-FeedForward-Norm[0][0] \n",
            "                                                                 Encoder-2-MultiHeadSelfAttention-\n",
            "__________________________________________________________________________________________________\n",
            "Encoder-2-MultiHeadSelfAttentio (None, 128, 768)     1536        Encoder-2-MultiHeadSelfAttention-\n",
            "__________________________________________________________________________________________________\n",
            "Encoder-2-FeedForward (FeedForw (None, 128, 768)     4722432     Encoder-2-MultiHeadSelfAttention-\n",
            "__________________________________________________________________________________________________\n",
            "Encoder-2-FeedForward-Dropout ( (None, 128, 768)     0           Encoder-2-FeedForward[0][0]      \n",
            "__________________________________________________________________________________________________\n",
            "Encoder-2-FeedForward-Add (Add) (None, 128, 768)     0           Encoder-2-MultiHeadSelfAttention-\n",
            "                                                                 Encoder-2-FeedForward-Dropout[0][\n",
            "__________________________________________________________________________________________________\n",
            "Encoder-2-FeedForward-Norm (Lay (None, 128, 768)     1536        Encoder-2-FeedForward-Add[0][0]  \n",
            "__________________________________________________________________________________________________\n",
            "Encoder-3-MultiHeadSelfAttentio (None, 128, 768)     2362368     Encoder-2-FeedForward-Norm[0][0] \n",
            "__________________________________________________________________________________________________\n",
            "Encoder-3-MultiHeadSelfAttentio (None, 128, 768)     0           Encoder-3-MultiHeadSelfAttention[\n",
            "__________________________________________________________________________________________________\n",
            "Encoder-3-MultiHeadSelfAttentio (None, 128, 768)     0           Encoder-2-FeedForward-Norm[0][0] \n",
            "                                                                 Encoder-3-MultiHeadSelfAttention-\n",
            "__________________________________________________________________________________________________\n",
            "Encoder-3-MultiHeadSelfAttentio (None, 128, 768)     1536        Encoder-3-MultiHeadSelfAttention-\n",
            "__________________________________________________________________________________________________\n",
            "Encoder-3-FeedForward (FeedForw (None, 128, 768)     4722432     Encoder-3-MultiHeadSelfAttention-\n",
            "__________________________________________________________________________________________________\n",
            "Encoder-3-FeedForward-Dropout ( (None, 128, 768)     0           Encoder-3-FeedForward[0][0]      \n",
            "__________________________________________________________________________________________________\n",
            "Encoder-3-FeedForward-Add (Add) (None, 128, 768)     0           Encoder-3-MultiHeadSelfAttention-\n",
            "                                                                 Encoder-3-FeedForward-Dropout[0][\n",
            "__________________________________________________________________________________________________\n",
            "Encoder-3-FeedForward-Norm (Lay (None, 128, 768)     1536        Encoder-3-FeedForward-Add[0][0]  \n",
            "__________________________________________________________________________________________________\n",
            "Encoder-4-MultiHeadSelfAttentio (None, 128, 768)     2362368     Encoder-3-FeedForward-Norm[0][0] \n",
            "__________________________________________________________________________________________________\n",
            "Encoder-4-MultiHeadSelfAttentio (None, 128, 768)     0           Encoder-4-MultiHeadSelfAttention[\n",
            "__________________________________________________________________________________________________\n",
            "Encoder-4-MultiHeadSelfAttentio (None, 128, 768)     0           Encoder-3-FeedForward-Norm[0][0] \n",
            "                                                                 Encoder-4-MultiHeadSelfAttention-\n",
            "__________________________________________________________________________________________________\n",
            "Encoder-4-MultiHeadSelfAttentio (None, 128, 768)     1536        Encoder-4-MultiHeadSelfAttention-\n",
            "__________________________________________________________________________________________________\n",
            "Encoder-4-FeedForward (FeedForw (None, 128, 768)     4722432     Encoder-4-MultiHeadSelfAttention-\n",
            "__________________________________________________________________________________________________\n",
            "Encoder-4-FeedForward-Dropout ( (None, 128, 768)     0           Encoder-4-FeedForward[0][0]      \n",
            "__________________________________________________________________________________________________\n",
            "Encoder-4-FeedForward-Add (Add) (None, 128, 768)     0           Encoder-4-MultiHeadSelfAttention-\n",
            "                                                                 Encoder-4-FeedForward-Dropout[0][\n",
            "__________________________________________________________________________________________________\n",
            "Encoder-4-FeedForward-Norm (Lay (None, 128, 768)     1536        Encoder-4-FeedForward-Add[0][0]  \n",
            "__________________________________________________________________________________________________\n",
            "Encoder-5-MultiHeadSelfAttentio (None, 128, 768)     2362368     Encoder-4-FeedForward-Norm[0][0] \n",
            "__________________________________________________________________________________________________\n",
            "Encoder-5-MultiHeadSelfAttentio (None, 128, 768)     0           Encoder-5-MultiHeadSelfAttention[\n",
            "__________________________________________________________________________________________________\n",
            "Encoder-5-MultiHeadSelfAttentio (None, 128, 768)     0           Encoder-4-FeedForward-Norm[0][0] \n",
            "                                                                 Encoder-5-MultiHeadSelfAttention-\n",
            "__________________________________________________________________________________________________\n",
            "Encoder-5-MultiHeadSelfAttentio (None, 128, 768)     1536        Encoder-5-MultiHeadSelfAttention-\n",
            "__________________________________________________________________________________________________\n",
            "Encoder-5-FeedForward (FeedForw (None, 128, 768)     4722432     Encoder-5-MultiHeadSelfAttention-\n",
            "__________________________________________________________________________________________________\n",
            "Encoder-5-FeedForward-Dropout ( (None, 128, 768)     0           Encoder-5-FeedForward[0][0]      \n",
            "__________________________________________________________________________________________________\n",
            "Encoder-5-FeedForward-Add (Add) (None, 128, 768)     0           Encoder-5-MultiHeadSelfAttention-\n",
            "                                                                 Encoder-5-FeedForward-Dropout[0][\n",
            "__________________________________________________________________________________________________\n",
            "Encoder-5-FeedForward-Norm (Lay (None, 128, 768)     1536        Encoder-5-FeedForward-Add[0][0]  \n",
            "__________________________________________________________________________________________________\n",
            "Encoder-6-MultiHeadSelfAttentio (None, 128, 768)     2362368     Encoder-5-FeedForward-Norm[0][0] \n",
            "__________________________________________________________________________________________________\n",
            "Encoder-6-MultiHeadSelfAttentio (None, 128, 768)     0           Encoder-6-MultiHeadSelfAttention[\n",
            "__________________________________________________________________________________________________\n",
            "Encoder-6-MultiHeadSelfAttentio (None, 128, 768)     0           Encoder-5-FeedForward-Norm[0][0] \n",
            "                                                                 Encoder-6-MultiHeadSelfAttention-\n",
            "__________________________________________________________________________________________________\n",
            "Encoder-6-MultiHeadSelfAttentio (None, 128, 768)     1536        Encoder-6-MultiHeadSelfAttention-\n",
            "__________________________________________________________________________________________________\n",
            "Encoder-6-FeedForward (FeedForw (None, 128, 768)     4722432     Encoder-6-MultiHeadSelfAttention-\n",
            "__________________________________________________________________________________________________\n",
            "Encoder-6-FeedForward-Dropout ( (None, 128, 768)     0           Encoder-6-FeedForward[0][0]      \n",
            "__________________________________________________________________________________________________\n",
            "Encoder-6-FeedForward-Add (Add) (None, 128, 768)     0           Encoder-6-MultiHeadSelfAttention-\n",
            "                                                                 Encoder-6-FeedForward-Dropout[0][\n",
            "__________________________________________________________________________________________________\n",
            "Encoder-6-FeedForward-Norm (Lay (None, 128, 768)     1536        Encoder-6-FeedForward-Add[0][0]  \n",
            "__________________________________________________________________________________________________\n",
            "Encoder-7-MultiHeadSelfAttentio (None, 128, 768)     2362368     Encoder-6-FeedForward-Norm[0][0] \n",
            "__________________________________________________________________________________________________\n",
            "Encoder-7-MultiHeadSelfAttentio (None, 128, 768)     0           Encoder-7-MultiHeadSelfAttention[\n",
            "__________________________________________________________________________________________________\n",
            "Encoder-7-MultiHeadSelfAttentio (None, 128, 768)     0           Encoder-6-FeedForward-Norm[0][0] \n",
            "                                                                 Encoder-7-MultiHeadSelfAttention-\n",
            "__________________________________________________________________________________________________\n",
            "Encoder-7-MultiHeadSelfAttentio (None, 128, 768)     1536        Encoder-7-MultiHeadSelfAttention-\n",
            "__________________________________________________________________________________________________\n",
            "Encoder-7-FeedForward (FeedForw (None, 128, 768)     4722432     Encoder-7-MultiHeadSelfAttention-\n",
            "__________________________________________________________________________________________________\n",
            "Encoder-7-FeedForward-Dropout ( (None, 128, 768)     0           Encoder-7-FeedForward[0][0]      \n",
            "__________________________________________________________________________________________________\n",
            "Encoder-7-FeedForward-Add (Add) (None, 128, 768)     0           Encoder-7-MultiHeadSelfAttention-\n",
            "                                                                 Encoder-7-FeedForward-Dropout[0][\n",
            "__________________________________________________________________________________________________\n",
            "Encoder-7-FeedForward-Norm (Lay (None, 128, 768)     1536        Encoder-7-FeedForward-Add[0][0]  \n",
            "__________________________________________________________________________________________________\n",
            "Encoder-8-MultiHeadSelfAttentio (None, 128, 768)     2362368     Encoder-7-FeedForward-Norm[0][0] \n",
            "__________________________________________________________________________________________________\n",
            "Encoder-8-MultiHeadSelfAttentio (None, 128, 768)     0           Encoder-8-MultiHeadSelfAttention[\n",
            "__________________________________________________________________________________________________\n",
            "Encoder-8-MultiHeadSelfAttentio (None, 128, 768)     0           Encoder-7-FeedForward-Norm[0][0] \n",
            "                                                                 Encoder-8-MultiHeadSelfAttention-\n",
            "__________________________________________________________________________________________________\n",
            "Encoder-8-MultiHeadSelfAttentio (None, 128, 768)     1536        Encoder-8-MultiHeadSelfAttention-\n",
            "__________________________________________________________________________________________________\n",
            "Encoder-8-FeedForward (FeedForw (None, 128, 768)     4722432     Encoder-8-MultiHeadSelfAttention-\n",
            "__________________________________________________________________________________________________\n",
            "Encoder-8-FeedForward-Dropout ( (None, 128, 768)     0           Encoder-8-FeedForward[0][0]      \n",
            "__________________________________________________________________________________________________\n",
            "Encoder-8-FeedForward-Add (Add) (None, 128, 768)     0           Encoder-8-MultiHeadSelfAttention-\n",
            "                                                                 Encoder-8-FeedForward-Dropout[0][\n",
            "__________________________________________________________________________________________________\n",
            "Encoder-8-FeedForward-Norm (Lay (None, 128, 768)     1536        Encoder-8-FeedForward-Add[0][0]  \n",
            "__________________________________________________________________________________________________\n",
            "Encoder-9-MultiHeadSelfAttentio (None, 128, 768)     2362368     Encoder-8-FeedForward-Norm[0][0] \n",
            "__________________________________________________________________________________________________\n",
            "Encoder-9-MultiHeadSelfAttentio (None, 128, 768)     0           Encoder-9-MultiHeadSelfAttention[\n",
            "__________________________________________________________________________________________________\n",
            "Encoder-9-MultiHeadSelfAttentio (None, 128, 768)     0           Encoder-8-FeedForward-Norm[0][0] \n",
            "                                                                 Encoder-9-MultiHeadSelfAttention-\n",
            "__________________________________________________________________________________________________\n",
            "Encoder-9-MultiHeadSelfAttentio (None, 128, 768)     1536        Encoder-9-MultiHeadSelfAttention-\n",
            "__________________________________________________________________________________________________\n",
            "Encoder-9-FeedForward (FeedForw (None, 128, 768)     4722432     Encoder-9-MultiHeadSelfAttention-\n",
            "__________________________________________________________________________________________________\n",
            "Encoder-9-FeedForward-Dropout ( (None, 128, 768)     0           Encoder-9-FeedForward[0][0]      \n",
            "__________________________________________________________________________________________________\n",
            "Encoder-9-FeedForward-Add (Add) (None, 128, 768)     0           Encoder-9-MultiHeadSelfAttention-\n",
            "                                                                 Encoder-9-FeedForward-Dropout[0][\n",
            "__________________________________________________________________________________________________\n",
            "Encoder-9-FeedForward-Norm (Lay (None, 128, 768)     1536        Encoder-9-FeedForward-Add[0][0]  \n",
            "__________________________________________________________________________________________________\n",
            "Encoder-10-MultiHeadSelfAttenti (None, 128, 768)     2362368     Encoder-9-FeedForward-Norm[0][0] \n",
            "__________________________________________________________________________________________________\n",
            "Encoder-10-MultiHeadSelfAttenti (None, 128, 768)     0           Encoder-10-MultiHeadSelfAttention\n",
            "__________________________________________________________________________________________________\n",
            "Encoder-10-MultiHeadSelfAttenti (None, 128, 768)     0           Encoder-9-FeedForward-Norm[0][0] \n",
            "                                                                 Encoder-10-MultiHeadSelfAttention\n",
            "__________________________________________________________________________________________________\n",
            "Encoder-10-MultiHeadSelfAttenti (None, 128, 768)     1536        Encoder-10-MultiHeadSelfAttention\n",
            "__________________________________________________________________________________________________\n",
            "Encoder-10-FeedForward (FeedFor (None, 128, 768)     4722432     Encoder-10-MultiHeadSelfAttention\n",
            "__________________________________________________________________________________________________\n",
            "Encoder-10-FeedForward-Dropout  (None, 128, 768)     0           Encoder-10-FeedForward[0][0]     \n",
            "__________________________________________________________________________________________________\n",
            "Encoder-10-FeedForward-Add (Add (None, 128, 768)     0           Encoder-10-MultiHeadSelfAttention\n",
            "                                                                 Encoder-10-FeedForward-Dropout[0]\n",
            "__________________________________________________________________________________________________\n",
            "Encoder-10-FeedForward-Norm (La (None, 128, 768)     1536        Encoder-10-FeedForward-Add[0][0] \n",
            "__________________________________________________________________________________________________\n",
            "Encoder-11-MultiHeadSelfAttenti (None, 128, 768)     2362368     Encoder-10-FeedForward-Norm[0][0]\n",
            "__________________________________________________________________________________________________\n",
            "Encoder-11-MultiHeadSelfAttenti (None, 128, 768)     0           Encoder-11-MultiHeadSelfAttention\n",
            "__________________________________________________________________________________________________\n",
            "Encoder-11-MultiHeadSelfAttenti (None, 128, 768)     0           Encoder-10-FeedForward-Norm[0][0]\n",
            "                                                                 Encoder-11-MultiHeadSelfAttention\n",
            "__________________________________________________________________________________________________\n",
            "Encoder-11-MultiHeadSelfAttenti (None, 128, 768)     1536        Encoder-11-MultiHeadSelfAttention\n",
            "__________________________________________________________________________________________________\n",
            "Encoder-11-FeedForward (FeedFor (None, 128, 768)     4722432     Encoder-11-MultiHeadSelfAttention\n",
            "__________________________________________________________________________________________________\n",
            "Encoder-11-FeedForward-Dropout  (None, 128, 768)     0           Encoder-11-FeedForward[0][0]     \n",
            "__________________________________________________________________________________________________\n",
            "Encoder-11-FeedForward-Add (Add (None, 128, 768)     0           Encoder-11-MultiHeadSelfAttention\n",
            "                                                                 Encoder-11-FeedForward-Dropout[0]\n",
            "__________________________________________________________________________________________________\n",
            "Encoder-11-FeedForward-Norm (La (None, 128, 768)     1536        Encoder-11-FeedForward-Add[0][0] \n",
            "__________________________________________________________________________________________________\n",
            "Encoder-12-MultiHeadSelfAttenti (None, 128, 768)     2362368     Encoder-11-FeedForward-Norm[0][0]\n",
            "__________________________________________________________________________________________________\n",
            "Encoder-12-MultiHeadSelfAttenti (None, 128, 768)     0           Encoder-12-MultiHeadSelfAttention\n",
            "__________________________________________________________________________________________________\n",
            "Encoder-12-MultiHeadSelfAttenti (None, 128, 768)     0           Encoder-11-FeedForward-Norm[0][0]\n",
            "                                                                 Encoder-12-MultiHeadSelfAttention\n",
            "__________________________________________________________________________________________________\n",
            "Encoder-12-MultiHeadSelfAttenti (None, 128, 768)     1536        Encoder-12-MultiHeadSelfAttention\n",
            "__________________________________________________________________________________________________\n",
            "Encoder-12-FeedForward (FeedFor (None, 128, 768)     4722432     Encoder-12-MultiHeadSelfAttention\n",
            "__________________________________________________________________________________________________\n",
            "Encoder-12-FeedForward-Dropout  (None, 128, 768)     0           Encoder-12-FeedForward[0][0]     \n",
            "__________________________________________________________________________________________________\n",
            "Encoder-12-FeedForward-Add (Add (None, 128, 768)     0           Encoder-12-MultiHeadSelfAttention\n",
            "                                                                 Encoder-12-FeedForward-Dropout[0]\n",
            "__________________________________________________________________________________________________\n",
            "Encoder-12-FeedForward-Norm (La (None, 128, 768)     1536        Encoder-12-FeedForward-Add[0][0] \n",
            "__________________________________________________________________________________________________\n",
            "MLM-Dense (Dense)               (None, 128, 768)     590592      Encoder-12-FeedForward-Norm[0][0]\n",
            "__________________________________________________________________________________________________\n",
            "MLM-Norm (LayerNormalization)   (None, 128, 768)     1536        MLM-Dense[0][0]                  \n",
            "__________________________________________________________________________________________________\n",
            "Extract (Extract)               (None, 768)          0           Encoder-12-FeedForward-Norm[0][0]\n",
            "__________________________________________________________________________________________________\n",
            "MLM-Sim (EmbeddingSimilarity)   (None, 128, 105879)  105879      MLM-Norm[0][0]                   \n",
            "                                                                 Embedding-Token[0][1]            \n",
            "__________________________________________________________________________________________________\n",
            "Input-Masked (InputLayer)       (None, 128)          0                                            \n",
            "__________________________________________________________________________________________________\n",
            "NSP-Dense (Dense)               (None, 768)          590592      Extract[0][0]                    \n",
            "__________________________________________________________________________________________________\n",
            "MLM (Masked)                    (None, 128, 105879)  0           MLM-Sim[0][0]                    \n",
            "                                                                 Input-Masked[0][0]               \n",
            "__________________________________________________________________________________________________\n",
            "NSP (Dense)                     (None, 2)            1538        NSP-Dense[0][0]                  \n",
            "==================================================================================================\n",
            "Total params: 167,761,049\n",
            "Trainable params: 167,761,049\n",
            "Non-trainable params: 0\n",
            "__________________________________________________________________________________________________\n"
          ],
          "name": "stdout"
        }
      ]
    },
    {
      "cell_type": "code",
      "metadata": {
        "id": "k67lQa3pt6_U",
        "colab_type": "code",
        "colab": {}
      },
      "source": [
        "def get_bert_finetuning_model(model):\n",
        "  inputs = model.inputs[:2] #우리가가저온 버트모델, 인풋이 버트는 원래3개인(mask까지)데 파인투닝할떄는 마스크 빼고 인풋 2개만 가져온다.\n",
        "  dense = model.layers[-3].output #마지막 레이어를 짤라낸다.뒤에서 3번째꺼 nsp-dense 까지 자른다.그것으로 아웃풋을할것이다. 버트를가져와서 분류를 할때는 마스크를 안쓴다.!그래서 거의 항상 이렇게쓰임\n",
        "\n",
        "#자른모델에 레이어를 달아준다. 긍정인지 부정인지 알려주는 레이어\n",
        "  outputs = keras.layers.Dense(1, activation='sigmoid',kernel_initializer=keras.initializers.TruncatedNormal(stddev=0.02),\n",
        "                              name = 'real_output')(dense)\n",
        "\n",
        "\n",
        "\n",
        "  bert_model = keras.models.Model(inputs, outputs)\n",
        "  bert_model.compile(\n",
        "      optimizer=RAdam(learning_rate=0.00001, weight_decay=0.0025),\n",
        "      loss='binary_crossentropy',\n",
        "      metrics=['accuracy'])\n",
        "  \n",
        "  return bert_model\n",
        "  "
      ],
      "execution_count": 0,
      "outputs": []
    },
    {
      "cell_type": "code",
      "metadata": {
        "id": "Z7v8PlBst-yr",
        "colab_type": "code",
        "colab": {
          "base_uri": "https://localhost:8080/",
          "height": 1000
        },
        "outputId": "622615b5-fcdb-4512-d7f4-a60cf07a3428"
      },
      "source": [
        "from IPython.display import SVG\n",
        "from keras.utils import model_to_dot\n",
        "\n",
        "\n",
        "SVG(model_to_dot(get_bert_finetuning_model(model), dpi=65).create(prog='dot', format='svg'))\n"
      ],
      "execution_count": 105,
      "outputs": [
        {
          "output_type": "execute_result",
          "data": {
            "text/plain": [
              "<IPython.core.display.SVG object>"
            ],
            "image/svg+xml": "<svg height=\"6895pt\" viewBox=\"0.00 0.00 549.50 7637.00\" width=\"496pt\" xmlns=\"http://www.w3.org/2000/svg\" xmlns:xlink=\"http://www.w3.org/1999/xlink\">\n<g class=\"graph\" id=\"graph0\" transform=\"scale(.9028 .9028) rotate(0) translate(4 7633)\">\n<title>G</title>\n<polygon fill=\"#ffffff\" points=\"-4,4 -4,-7633 545.5,-7633 545.5,4 -4,4\" stroke=\"transparent\"/>\n<!-- 140697135532240 -->\n<g class=\"node\" id=\"node1\">\n<title>140697135532240</title>\n<polygon fill=\"none\" points=\"110.5,-7592.5 110.5,-7628.5 270.5,-7628.5 270.5,-7592.5 110.5,-7592.5\" stroke=\"#000000\"/>\n<text fill=\"#000000\" font-family=\"Times,serif\" font-size=\"14.00\" text-anchor=\"middle\" x=\"190.5\" y=\"-7606.8\">Input-Token: InputLayer</text>\n</g>\n<!-- 140697135533248 -->\n<g class=\"node\" id=\"node3\">\n<title>140697135533248</title>\n<polygon fill=\"none\" points=\"72,-7519.5 72,-7555.5 309,-7555.5 309,-7519.5 72,-7519.5\" stroke=\"#000000\"/>\n<text fill=\"#000000\" font-family=\"Times,serif\" font-size=\"14.00\" text-anchor=\"middle\" x=\"190.5\" y=\"-7533.8\">Embedding-Token: TokenEmbedding</text>\n</g>\n<!-- 140697135532240&#45;&gt;140697135533248 -->\n<g class=\"edge\" id=\"edge1\">\n<title>140697135532240-&gt;140697135533248</title>\n<path d=\"M190.5,-7592.4551C190.5,-7584.3828 190.5,-7574.6764 190.5,-7565.6817\" fill=\"none\" stroke=\"#000000\"/>\n<polygon fill=\"#000000\" points=\"194.0001,-7565.5903 190.5,-7555.5904 187.0001,-7565.5904 194.0001,-7565.5903\" stroke=\"#000000\"/>\n</g>\n<!-- 140697135533976 -->\n<g class=\"node\" id=\"node2\">\n<title>140697135533976</title>\n<polygon fill=\"none\" points=\"348,-7592.5 348,-7628.5 521,-7628.5 521,-7592.5 348,-7592.5\" stroke=\"#000000\"/>\n<text fill=\"#000000\" font-family=\"Times,serif\" font-size=\"14.00\" text-anchor=\"middle\" x=\"434.5\" y=\"-7606.8\">Input-Segment: InputLayer</text>\n</g>\n<!-- 140697135533192 -->\n<g class=\"node\" id=\"node4\">\n<title>140697135533192</title>\n<polygon fill=\"none\" points=\"327.5,-7519.5 327.5,-7555.5 541.5,-7555.5 541.5,-7519.5 327.5,-7519.5\" stroke=\"#000000\"/>\n<text fill=\"#000000\" font-family=\"Times,serif\" font-size=\"14.00\" text-anchor=\"middle\" x=\"434.5\" y=\"-7533.8\">Embedding-Segment: Embedding</text>\n</g>\n<!-- 140697135533976&#45;&gt;140697135533192 -->\n<g class=\"edge\" id=\"edge2\">\n<title>140697135533976-&gt;140697135533192</title>\n<path d=\"M434.5,-7592.4551C434.5,-7584.3828 434.5,-7574.6764 434.5,-7565.6817\" fill=\"none\" stroke=\"#000000\"/>\n<polygon fill=\"#000000\" points=\"438.0001,-7565.5903 434.5,-7555.5904 431.0001,-7565.5904 438.0001,-7565.5903\" stroke=\"#000000\"/>\n</g>\n<!-- 140697135533080 -->\n<g class=\"node\" id=\"node5\">\n<title>140697135533080</title>\n<polygon fill=\"none\" points=\"206.5,-7446.5 206.5,-7482.5 418.5,-7482.5 418.5,-7446.5 206.5,-7446.5\" stroke=\"#000000\"/>\n<text fill=\"#000000\" font-family=\"Times,serif\" font-size=\"14.00\" text-anchor=\"middle\" x=\"312.5\" y=\"-7460.8\">Embedding-Token-Segment: Add</text>\n</g>\n<!-- 140697135533248&#45;&gt;140697135533080 -->\n<g class=\"edge\" id=\"edge3\">\n<title>140697135533248-&gt;140697135533080</title>\n<path d=\"M220.6573,-7519.4551C236.6407,-7509.8912 256.4579,-7498.0334 273.5882,-7487.7833\" fill=\"none\" stroke=\"#000000\"/>\n<polygon fill=\"#000000\" points=\"275.4828,-7490.7284 282.2668,-7482.5904 271.8885,-7484.7216 275.4828,-7490.7284\" stroke=\"#000000\"/>\n</g>\n<!-- 140697135533192&#45;&gt;140697135533080 -->\n<g class=\"edge\" id=\"edge4\">\n<title>140697135533192-&gt;140697135533080</title>\n<path d=\"M404.3427,-7519.4551C388.3593,-7509.8912 368.5421,-7498.0334 351.4118,-7487.7833\" fill=\"none\" stroke=\"#000000\"/>\n<polygon fill=\"#000000\" points=\"353.1115,-7484.7216 342.7332,-7482.5904 349.5172,-7490.7284 353.1115,-7484.7216\" stroke=\"#000000\"/>\n</g>\n<!-- 140697138951504 -->\n<g class=\"node\" id=\"node6\">\n<title>140697138951504</title>\n<polygon fill=\"none\" points=\"183.5,-7373.5 183.5,-7409.5 441.5,-7409.5 441.5,-7373.5 183.5,-7373.5\" stroke=\"#000000\"/>\n<text fill=\"#000000\" font-family=\"Times,serif\" font-size=\"14.00\" text-anchor=\"middle\" x=\"312.5\" y=\"-7387.8\">Embedding-Position: PositionEmbedding</text>\n</g>\n<!-- 140697135533080&#45;&gt;140697138951504 -->\n<g class=\"edge\" id=\"edge5\">\n<title>140697135533080-&gt;140697138951504</title>\n<path d=\"M312.5,-7446.4551C312.5,-7438.3828 312.5,-7428.6764 312.5,-7419.6817\" fill=\"none\" stroke=\"#000000\"/>\n<polygon fill=\"#000000\" points=\"316.0001,-7419.5903 312.5,-7409.5904 309.0001,-7419.5904 316.0001,-7419.5903\" stroke=\"#000000\"/>\n</g>\n<!-- 140697138953240 -->\n<g class=\"node\" id=\"node7\">\n<title>140697138953240</title>\n<polygon fill=\"none\" points=\"215.5,-7300.5 215.5,-7336.5 409.5,-7336.5 409.5,-7300.5 215.5,-7300.5\" stroke=\"#000000\"/>\n<text fill=\"#000000\" font-family=\"Times,serif\" font-size=\"14.00\" text-anchor=\"middle\" x=\"312.5\" y=\"-7314.8\">Embedding-Dropout: Dropout</text>\n</g>\n<!-- 140697138951504&#45;&gt;140697138953240 -->\n<g class=\"edge\" id=\"edge6\">\n<title>140697138951504-&gt;140697138953240</title>\n<path d=\"M312.5,-7373.4551C312.5,-7365.3828 312.5,-7355.6764 312.5,-7346.6817\" fill=\"none\" stroke=\"#000000\"/>\n<polygon fill=\"#000000\" points=\"316.0001,-7346.5903 312.5,-7336.5904 309.0001,-7346.5904 316.0001,-7346.5903\" stroke=\"#000000\"/>\n</g>\n<!-- 140697141043272 -->\n<g class=\"node\" id=\"node8\">\n<title>140697141043272</title>\n<polygon fill=\"none\" points=\"190,-7227.5 190,-7263.5 435,-7263.5 435,-7227.5 190,-7227.5\" stroke=\"#000000\"/>\n<text fill=\"#000000\" font-family=\"Times,serif\" font-size=\"14.00\" text-anchor=\"middle\" x=\"312.5\" y=\"-7241.8\">Embedding-Norm: LayerNormalization</text>\n</g>\n<!-- 140697138953240&#45;&gt;140697141043272 -->\n<g class=\"edge\" id=\"edge7\">\n<title>140697138953240-&gt;140697141043272</title>\n<path d=\"M312.5,-7300.4551C312.5,-7292.3828 312.5,-7282.6764 312.5,-7273.6817\" fill=\"none\" stroke=\"#000000\"/>\n<polygon fill=\"#000000\" points=\"316.0001,-7273.5903 312.5,-7263.5904 309.0001,-7273.5904 316.0001,-7273.5903\" stroke=\"#000000\"/>\n</g>\n<!-- 140697140708352 -->\n<g class=\"node\" id=\"node9\">\n<title>140697140708352</title>\n<polygon fill=\"none\" points=\"42.5,-7154.5 42.5,-7190.5 384.5,-7190.5 384.5,-7154.5 42.5,-7154.5\" stroke=\"#000000\"/>\n<text fill=\"#000000\" font-family=\"Times,serif\" font-size=\"14.00\" text-anchor=\"middle\" x=\"213.5\" y=\"-7168.8\">Encoder-1-MultiHeadSelfAttention: MultiHeadAttention</text>\n</g>\n<!-- 140697141043272&#45;&gt;140697140708352 -->\n<g class=\"edge\" id=\"edge8\">\n<title>140697141043272-&gt;140697140708352</title>\n<path d=\"M288.0281,-7227.4551C275.4149,-7218.1545 259.8597,-7206.6844 246.2286,-7196.6332\" fill=\"none\" stroke=\"#000000\"/>\n<polygon fill=\"#000000\" points=\"248.1592,-7193.7082 238.0335,-7190.5904 244.0049,-7199.3421 248.1592,-7193.7082\" stroke=\"#000000\"/>\n</g>\n<!-- 140697140797000 -->\n<g class=\"node\" id=\"node11\">\n<title>140697140797000</title>\n<polygon fill=\"none\" points=\"173,-7008.5 173,-7044.5 454,-7044.5 454,-7008.5 173,-7008.5\" stroke=\"#000000\"/>\n<text fill=\"#000000\" font-family=\"Times,serif\" font-size=\"14.00\" text-anchor=\"middle\" x=\"313.5\" y=\"-7022.8\">Encoder-1-MultiHeadSelfAttention-Add: Add</text>\n</g>\n<!-- 140697141043272&#45;&gt;140697140797000 -->\n<g class=\"edge\" id=\"edge10\">\n<title>140697141043272-&gt;140697140797000</title>\n<path d=\"M355.0685,-7227.3804C370.0065,-7218.7 385.1359,-7206.7088 393.5,-7191 401.1793,-7176.5774 400.9885,-7100.2923 390.5,-7081 383.7016,-7068.4953 372.6452,-7058.1998 361.0052,-7050.0548\" fill=\"none\" stroke=\"#000000\"/>\n<polygon fill=\"#000000\" points=\"362.7688,-7047.0266 352.4788,-7044.5031 358.9492,-7052.8927 362.7688,-7047.0266\" stroke=\"#000000\"/>\n</g>\n<!-- 140697140910624 -->\n<g class=\"node\" id=\"node10\">\n<title>140697140910624</title>\n<polygon fill=\"none\" points=\"53,-7081.5 53,-7117.5 382,-7117.5 382,-7081.5 53,-7081.5\" stroke=\"#000000\"/>\n<text fill=\"#000000\" font-family=\"Times,serif\" font-size=\"14.00\" text-anchor=\"middle\" x=\"217.5\" y=\"-7095.8\">Encoder-1-MultiHeadSelfAttention-Dropout: Dropout</text>\n</g>\n<!-- 140697140708352&#45;&gt;140697140910624 -->\n<g class=\"edge\" id=\"edge9\">\n<title>140697140708352-&gt;140697140910624</title>\n<path d=\"M214.4888,-7154.4551C214.9311,-7146.3828 215.4629,-7136.6764 215.9558,-7127.6817\" fill=\"none\" stroke=\"#000000\"/>\n<polygon fill=\"#000000\" points=\"219.4563,-7127.7669 216.5087,-7117.5904 212.4668,-7127.3839 219.4563,-7127.7669\" stroke=\"#000000\"/>\n</g>\n<!-- 140697140910624&#45;&gt;140697140797000 -->\n<g class=\"edge\" id=\"edge11\">\n<title>140697140910624-&gt;140697140797000</title>\n<path d=\"M241.2303,-7081.4551C253.3459,-7072.2422 268.2608,-7060.9006 281.3886,-7050.918\" fill=\"none\" stroke=\"#000000\"/>\n<polygon fill=\"#000000\" points=\"283.8684,-7053.4293 289.7099,-7044.5904 279.6314,-7047.8573 283.8684,-7053.4293\" stroke=\"#000000\"/>\n</g>\n<!-- 140697136164648 -->\n<g class=\"node\" id=\"node12\">\n<title>140697136164648</title>\n<polygon fill=\"none\" points=\"123.5,-6935.5 123.5,-6971.5 503.5,-6971.5 503.5,-6935.5 123.5,-6935.5\" stroke=\"#000000\"/>\n<text fill=\"#000000\" font-family=\"Times,serif\" font-size=\"14.00\" text-anchor=\"middle\" x=\"313.5\" y=\"-6949.8\">Encoder-1-MultiHeadSelfAttention-Norm: LayerNormalization</text>\n</g>\n<!-- 140697140797000&#45;&gt;140697136164648 -->\n<g class=\"edge\" id=\"edge12\">\n<title>140697140797000-&gt;140697136164648</title>\n<path d=\"M313.5,-7008.4551C313.5,-7000.3828 313.5,-6990.6764 313.5,-6981.6817\" fill=\"none\" stroke=\"#000000\"/>\n<polygon fill=\"#000000\" points=\"317.0001,-6981.5903 313.5,-6971.5904 310.0001,-6981.5904 317.0001,-6981.5903\" stroke=\"#000000\"/>\n</g>\n<!-- 140697136162016 -->\n<g class=\"node\" id=\"node13\">\n<title>140697136162016</title>\n<polygon fill=\"none\" points=\"118.5,-6862.5 118.5,-6898.5 360.5,-6898.5 360.5,-6862.5 118.5,-6862.5\" stroke=\"#000000\"/>\n<text fill=\"#000000\" font-family=\"Times,serif\" font-size=\"14.00\" text-anchor=\"middle\" x=\"239.5\" y=\"-6876.8\">Encoder-1-FeedForward: FeedForward</text>\n</g>\n<!-- 140697136164648&#45;&gt;140697136162016 -->\n<g class=\"edge\" id=\"edge13\">\n<title>140697136164648-&gt;140697136162016</title>\n<path d=\"M295.2079,-6935.4551C286.1356,-6926.5054 275.0271,-6915.547 265.1232,-6905.7769\" fill=\"none\" stroke=\"#000000\"/>\n<polygon fill=\"#000000\" points=\"267.4152,-6903.1215 257.8382,-6898.5904 262.4992,-6908.1049 267.4152,-6903.1215\" stroke=\"#000000\"/>\n</g>\n<!-- 140697136102592 -->\n<g class=\"node\" id=\"node15\">\n<title>140697136102592</title>\n<polygon fill=\"none\" points=\"203.5,-6716.5 203.5,-6752.5 423.5,-6752.5 423.5,-6716.5 203.5,-6716.5\" stroke=\"#000000\"/>\n<text fill=\"#000000\" font-family=\"Times,serif\" font-size=\"14.00\" text-anchor=\"middle\" x=\"313.5\" y=\"-6730.8\">Encoder-1-FeedForward-Add: Add</text>\n</g>\n<!-- 140697136164648&#45;&gt;140697136102592 -->\n<g class=\"edge\" id=\"edge15\">\n<title>140697136164648-&gt;140697136102592</title>\n<path d=\"M339.1147,-6935.4444C350.4534,-6925.9752 362.7322,-6913.3575 369.5,-6899 390.3764,-6854.7122 395.6809,-6833.609 375.5,-6789 370.2852,-6777.4728 361.2939,-6767.4147 351.751,-6759.1833\" fill=\"none\" stroke=\"#000000\"/>\n<polygon fill=\"#000000\" points=\"353.6666,-6756.2331 343.676,-6752.7064 349.2868,-6761.6936 353.6666,-6756.2331\" stroke=\"#000000\"/>\n</g>\n<!-- 140697136148208 -->\n<g class=\"node\" id=\"node14\">\n<title>140697136148208</title>\n<polygon fill=\"none\" points=\"99,-6789.5 99,-6825.5 366,-6825.5 366,-6789.5 99,-6789.5\" stroke=\"#000000\"/>\n<text fill=\"#000000\" font-family=\"Times,serif\" font-size=\"14.00\" text-anchor=\"middle\" x=\"232.5\" y=\"-6803.8\">Encoder-1-FeedForward-Dropout: Dropout</text>\n</g>\n<!-- 140697136162016&#45;&gt;140697136148208 -->\n<g class=\"edge\" id=\"edge14\">\n<title>140697136162016-&gt;140697136148208</title>\n<path d=\"M237.7697,-6862.4551C236.9956,-6854.3828 236.0649,-6844.6764 235.2024,-6835.6817\" fill=\"none\" stroke=\"#000000\"/>\n<polygon fill=\"#000000\" points=\"238.6733,-6835.2106 234.2347,-6825.5904 231.7053,-6835.8788 238.6733,-6835.2106\" stroke=\"#000000\"/>\n</g>\n<!-- 140697136148208&#45;&gt;140697136102592 -->\n<g class=\"edge\" id=\"edge16\">\n<title>140697136148208-&gt;140697136102592</title>\n<path d=\"M252.5225,-6789.4551C262.5502,-6780.4177 274.8509,-6769.3319 285.7714,-6759.4899\" fill=\"none\" stroke=\"#000000\"/>\n<polygon fill=\"#000000\" points=\"288.3419,-6761.885 293.4271,-6752.5904 283.6556,-6756.6852 288.3419,-6761.885\" stroke=\"#000000\"/>\n</g>\n<!-- 140697136721088 -->\n<g class=\"node\" id=\"node16\">\n<title>140697136721088</title>\n<polygon fill=\"none\" points=\"154.5,-6643.5 154.5,-6679.5 472.5,-6679.5 472.5,-6643.5 154.5,-6643.5\" stroke=\"#000000\"/>\n<text fill=\"#000000\" font-family=\"Times,serif\" font-size=\"14.00\" text-anchor=\"middle\" x=\"313.5\" y=\"-6657.8\">Encoder-1-FeedForward-Norm: LayerNormalization</text>\n</g>\n<!-- 140697136102592&#45;&gt;140697136721088 -->\n<g class=\"edge\" id=\"edge17\">\n<title>140697136102592-&gt;140697136721088</title>\n<path d=\"M313.5,-6716.4551C313.5,-6708.3828 313.5,-6698.6764 313.5,-6689.6817\" fill=\"none\" stroke=\"#000000\"/>\n<polygon fill=\"#000000\" points=\"317.0001,-6689.5903 313.5,-6679.5904 310.0001,-6689.5904 317.0001,-6689.5903\" stroke=\"#000000\"/>\n</g>\n<!-- 140697136721424 -->\n<g class=\"node\" id=\"node17\">\n<title>140697136721424</title>\n<polygon fill=\"none\" points=\"43.5,-6570.5 43.5,-6606.5 385.5,-6606.5 385.5,-6570.5 43.5,-6570.5\" stroke=\"#000000\"/>\n<text fill=\"#000000\" font-family=\"Times,serif\" font-size=\"14.00\" text-anchor=\"middle\" x=\"214.5\" y=\"-6584.8\">Encoder-2-MultiHeadSelfAttention: MultiHeadAttention</text>\n</g>\n<!-- 140697136721088&#45;&gt;140697136721424 -->\n<g class=\"edge\" id=\"edge18\">\n<title>140697136721088-&gt;140697136721424</title>\n<path d=\"M289.0281,-6643.4551C276.4149,-6634.1545 260.8597,-6622.6844 247.2286,-6612.6332\" fill=\"none\" stroke=\"#000000\"/>\n<polygon fill=\"#000000\" points=\"249.1592,-6609.7082 239.0335,-6606.5904 245.0049,-6615.3421 249.1592,-6609.7082\" stroke=\"#000000\"/>\n</g>\n<!-- 140697136581208 -->\n<g class=\"node\" id=\"node19\">\n<title>140697136581208</title>\n<polygon fill=\"none\" points=\"175,-6424.5 175,-6460.5 456,-6460.5 456,-6424.5 175,-6424.5\" stroke=\"#000000\"/>\n<text fill=\"#000000\" font-family=\"Times,serif\" font-size=\"14.00\" text-anchor=\"middle\" x=\"315.5\" y=\"-6438.8\">Encoder-2-MultiHeadSelfAttention-Add: Add</text>\n</g>\n<!-- 140697136721088&#45;&gt;140697136581208 -->\n<g class=\"edge\" id=\"edge20\">\n<title>140697136721088-&gt;140697136581208</title>\n<path d=\"M356.0685,-6643.3804C371.0065,-6634.7 386.1359,-6622.7088 394.5,-6607 402.5894,-6591.8071 400.2511,-6514.9102 390.5,-6497 383.7494,-6484.601 372.8204,-6474.3006 361.3687,-6466.1162\" fill=\"none\" stroke=\"#000000\"/>\n<polygon fill=\"#000000\" points=\"363.2521,-6463.1654 352.99,-6460.531 359.3694,-6468.9899 363.2521,-6463.1654\" stroke=\"#000000\"/>\n</g>\n<!-- 140697136658416 -->\n<g class=\"node\" id=\"node18\">\n<title>140697136658416</title>\n<polygon fill=\"none\" points=\"53,-6497.5 53,-6533.5 382,-6533.5 382,-6497.5 53,-6497.5\" stroke=\"#000000\"/>\n<text fill=\"#000000\" font-family=\"Times,serif\" font-size=\"14.00\" text-anchor=\"middle\" x=\"217.5\" y=\"-6511.8\">Encoder-2-MultiHeadSelfAttention-Dropout: Dropout</text>\n</g>\n<!-- 140697136721424&#45;&gt;140697136658416 -->\n<g class=\"edge\" id=\"edge19\">\n<title>140697136721424-&gt;140697136658416</title>\n<path d=\"M215.2416,-6570.4551C215.5733,-6562.3828 215.9722,-6552.6764 216.3418,-6543.6817\" fill=\"none\" stroke=\"#000000\"/>\n<polygon fill=\"#000000\" points=\"219.8429,-6543.7257 216.7566,-6533.5904 212.8488,-6543.4382 219.8429,-6543.7257\" stroke=\"#000000\"/>\n</g>\n<!-- 140697136658416&#45;&gt;140697136581208 -->\n<g class=\"edge\" id=\"edge21\">\n<title>140697136658416-&gt;140697136581208</title>\n<path d=\"M241.7247,-6497.4551C254.2105,-6488.1545 269.6086,-6476.6844 283.102,-6466.6332\" fill=\"none\" stroke=\"#000000\"/>\n<polygon fill=\"#000000\" points=\"285.2855,-6469.371 291.2143,-6460.5904 281.1039,-6463.7573 285.2855,-6469.371\" stroke=\"#000000\"/>\n</g>\n<!-- 140697138855328 -->\n<g class=\"node\" id=\"node20\">\n<title>140697138855328</title>\n<polygon fill=\"none\" points=\"125.5,-6351.5 125.5,-6387.5 505.5,-6387.5 505.5,-6351.5 125.5,-6351.5\" stroke=\"#000000\"/>\n<text fill=\"#000000\" font-family=\"Times,serif\" font-size=\"14.00\" text-anchor=\"middle\" x=\"315.5\" y=\"-6365.8\">Encoder-2-MultiHeadSelfAttention-Norm: LayerNormalization</text>\n</g>\n<!-- 140697136581208&#45;&gt;140697138855328 -->\n<g class=\"edge\" id=\"edge22\">\n<title>140697136581208-&gt;140697138855328</title>\n<path d=\"M315.5,-6424.4551C315.5,-6416.3828 315.5,-6406.6764 315.5,-6397.6817\" fill=\"none\" stroke=\"#000000\"/>\n<polygon fill=\"#000000\" points=\"319.0001,-6397.5903 315.5,-6387.5904 312.0001,-6397.5904 319.0001,-6397.5903\" stroke=\"#000000\"/>\n</g>\n<!-- 140697138854992 -->\n<g class=\"node\" id=\"node21\">\n<title>140697138854992</title>\n<polygon fill=\"none\" points=\"113.5,-6278.5 113.5,-6314.5 355.5,-6314.5 355.5,-6278.5 113.5,-6278.5\" stroke=\"#000000\"/>\n<text fill=\"#000000\" font-family=\"Times,serif\" font-size=\"14.00\" text-anchor=\"middle\" x=\"234.5\" y=\"-6292.8\">Encoder-2-FeedForward: FeedForward</text>\n</g>\n<!-- 140697138855328&#45;&gt;140697138854992 -->\n<g class=\"edge\" id=\"edge23\">\n<title>140697138855328-&gt;140697138854992</title>\n<path d=\"M295.4775,-6351.4551C285.4498,-6342.4177 273.1491,-6331.3319 262.2286,-6321.4899\" fill=\"none\" stroke=\"#000000\"/>\n<polygon fill=\"#000000\" points=\"264.3444,-6318.6852 254.5729,-6314.5904 259.6581,-6323.885 264.3444,-6318.6852\" stroke=\"#000000\"/>\n</g>\n<!-- 140697138702880 -->\n<g class=\"node\" id=\"node23\">\n<title>140697138702880</title>\n<polygon fill=\"none\" points=\"199.5,-6132.5 199.5,-6168.5 419.5,-6168.5 419.5,-6132.5 199.5,-6132.5\" stroke=\"#000000\"/>\n<text fill=\"#000000\" font-family=\"Times,serif\" font-size=\"14.00\" text-anchor=\"middle\" x=\"309.5\" y=\"-6146.8\">Encoder-2-FeedForward-Add: Add</text>\n</g>\n<!-- 140697138855328&#45;&gt;140697138702880 -->\n<g class=\"edge\" id=\"edge25\">\n<title>140697138855328-&gt;140697138702880</title>\n<path d=\"M337.3471,-6351.291C347.3936,-6341.6134 358.4097,-6328.8624 364.5,-6315 384.2044,-6270.1498 391.6917,-6249.6329 371.5,-6205 366.2852,-6193.4728 357.2939,-6183.4147 347.751,-6175.1833\" fill=\"none\" stroke=\"#000000\"/>\n<polygon fill=\"#000000\" points=\"349.6666,-6172.2331 339.676,-6168.7064 345.2868,-6177.6936 349.6666,-6172.2331\" stroke=\"#000000\"/>\n</g>\n<!-- 140697138669496 -->\n<g class=\"node\" id=\"node22\">\n<title>140697138669496</title>\n<polygon fill=\"none\" points=\"95,-6205.5 95,-6241.5 362,-6241.5 362,-6205.5 95,-6205.5\" stroke=\"#000000\"/>\n<text fill=\"#000000\" font-family=\"Times,serif\" font-size=\"14.00\" text-anchor=\"middle\" x=\"228.5\" y=\"-6219.8\">Encoder-2-FeedForward-Dropout: Dropout</text>\n</g>\n<!-- 140697138854992&#45;&gt;140697138669496 -->\n<g class=\"edge\" id=\"edge24\">\n<title>140697138854992-&gt;140697138669496</title>\n<path d=\"M233.0169,-6278.4551C232.3534,-6270.3828 231.5556,-6260.6764 230.8163,-6251.6817\" fill=\"none\" stroke=\"#000000\"/>\n<polygon fill=\"#000000\" points=\"234.2944,-6251.27 229.9869,-6241.5904 227.3179,-6251.8435 234.2944,-6251.27\" stroke=\"#000000\"/>\n</g>\n<!-- 140697138669496&#45;&gt;140697138702880 -->\n<g class=\"edge\" id=\"edge26\">\n<title>140697138669496-&gt;140697138702880</title>\n<path d=\"M248.5225,-6205.4551C258.5502,-6196.4177 270.8509,-6185.3319 281.7714,-6175.4899\" fill=\"none\" stroke=\"#000000\"/>\n<polygon fill=\"#000000\" points=\"284.3419,-6177.885 289.4271,-6168.5904 279.6556,-6172.6852 284.3419,-6177.885\" stroke=\"#000000\"/>\n</g>\n<!-- 140697138539880 -->\n<g class=\"node\" id=\"node24\">\n<title>140697138539880</title>\n<polygon fill=\"none\" points=\"150.5,-6059.5 150.5,-6095.5 468.5,-6095.5 468.5,-6059.5 150.5,-6059.5\" stroke=\"#000000\"/>\n<text fill=\"#000000\" font-family=\"Times,serif\" font-size=\"14.00\" text-anchor=\"middle\" x=\"309.5\" y=\"-6073.8\">Encoder-2-FeedForward-Norm: LayerNormalization</text>\n</g>\n<!-- 140697138702880&#45;&gt;140697138539880 -->\n<g class=\"edge\" id=\"edge27\">\n<title>140697138702880-&gt;140697138539880</title>\n<path d=\"M309.5,-6132.4551C309.5,-6124.3828 309.5,-6114.6764 309.5,-6105.6817\" fill=\"none\" stroke=\"#000000\"/>\n<polygon fill=\"#000000\" points=\"313.0001,-6105.5903 309.5,-6095.5904 306.0001,-6105.5904 313.0001,-6105.5903\" stroke=\"#000000\"/>\n</g>\n<!-- 140697138539096 -->\n<g class=\"node\" id=\"node25\">\n<title>140697138539096</title>\n<polygon fill=\"none\" points=\"39.5,-5986.5 39.5,-6022.5 381.5,-6022.5 381.5,-5986.5 39.5,-5986.5\" stroke=\"#000000\"/>\n<text fill=\"#000000\" font-family=\"Times,serif\" font-size=\"14.00\" text-anchor=\"middle\" x=\"210.5\" y=\"-6000.8\">Encoder-3-MultiHeadSelfAttention: MultiHeadAttention</text>\n</g>\n<!-- 140697138539880&#45;&gt;140697138539096 -->\n<g class=\"edge\" id=\"edge28\">\n<title>140697138539880-&gt;140697138539096</title>\n<path d=\"M285.0281,-6059.4551C272.4149,-6050.1545 256.8597,-6038.6844 243.2286,-6028.6332\" fill=\"none\" stroke=\"#000000\"/>\n<polygon fill=\"#000000\" points=\"245.1592,-6025.7082 235.0335,-6022.5904 241.0049,-6031.3421 245.1592,-6025.7082\" stroke=\"#000000\"/>\n</g>\n<!-- 140697138395120 -->\n<g class=\"node\" id=\"node27\">\n<title>140697138395120</title>\n<polygon fill=\"none\" points=\"171,-5840.5 171,-5876.5 452,-5876.5 452,-5840.5 171,-5840.5\" stroke=\"#000000\"/>\n<text fill=\"#000000\" font-family=\"Times,serif\" font-size=\"14.00\" text-anchor=\"middle\" x=\"311.5\" y=\"-5854.8\">Encoder-3-MultiHeadSelfAttention-Add: Add</text>\n</g>\n<!-- 140697138539880&#45;&gt;140697138395120 -->\n<g class=\"edge\" id=\"edge30\">\n<title>140697138539880-&gt;140697138395120</title>\n<path d=\"M352.0685,-6059.3804C367.0065,-6050.7 382.1359,-6038.7088 390.5,-6023 398.5894,-6007.8071 396.2511,-5930.9102 386.5,-5913 379.7494,-5900.601 368.8204,-5890.3006 357.3687,-5882.1162\" fill=\"none\" stroke=\"#000000\"/>\n<polygon fill=\"#000000\" points=\"359.2521,-5879.1654 348.99,-5876.531 355.3694,-5884.9899 359.2521,-5879.1654\" stroke=\"#000000\"/>\n</g>\n<!-- 140697138457400 -->\n<g class=\"node\" id=\"node26\">\n<title>140697138457400</title>\n<polygon fill=\"none\" points=\"49,-5913.5 49,-5949.5 378,-5949.5 378,-5913.5 49,-5913.5\" stroke=\"#000000\"/>\n<text fill=\"#000000\" font-family=\"Times,serif\" font-size=\"14.00\" text-anchor=\"middle\" x=\"213.5\" y=\"-5927.8\">Encoder-3-MultiHeadSelfAttention-Dropout: Dropout</text>\n</g>\n<!-- 140697138539096&#45;&gt;140697138457400 -->\n<g class=\"edge\" id=\"edge29\">\n<title>140697138539096-&gt;140697138457400</title>\n<path d=\"M211.2416,-5986.4551C211.5733,-5978.3828 211.9722,-5968.6764 212.3418,-5959.6817\" fill=\"none\" stroke=\"#000000\"/>\n<polygon fill=\"#000000\" points=\"215.8429,-5959.7257 212.7566,-5949.5904 208.8488,-5959.4382 215.8429,-5959.7257\" stroke=\"#000000\"/>\n</g>\n<!-- 140697138457400&#45;&gt;140697138395120 -->\n<g class=\"edge\" id=\"edge31\">\n<title>140697138457400-&gt;140697138395120</title>\n<path d=\"M237.7247,-5913.4551C250.2105,-5904.1545 265.6086,-5892.6844 279.102,-5882.6332\" fill=\"none\" stroke=\"#000000\"/>\n<polygon fill=\"#000000\" points=\"281.2855,-5885.371 287.2143,-5876.5904 277.1039,-5879.7573 281.2855,-5885.371\" stroke=\"#000000\"/>\n</g>\n<!-- 140697141702104 -->\n<g class=\"node\" id=\"node28\">\n<title>140697141702104</title>\n<polygon fill=\"none\" points=\"121.5,-5767.5 121.5,-5803.5 501.5,-5803.5 501.5,-5767.5 121.5,-5767.5\" stroke=\"#000000\"/>\n<text fill=\"#000000\" font-family=\"Times,serif\" font-size=\"14.00\" text-anchor=\"middle\" x=\"311.5\" y=\"-5781.8\">Encoder-3-MultiHeadSelfAttention-Norm: LayerNormalization</text>\n</g>\n<!-- 140697138395120&#45;&gt;140697141702104 -->\n<g class=\"edge\" id=\"edge32\">\n<title>140697138395120-&gt;140697141702104</title>\n<path d=\"M311.5,-5840.4551C311.5,-5832.3828 311.5,-5822.6764 311.5,-5813.6817\" fill=\"none\" stroke=\"#000000\"/>\n<polygon fill=\"#000000\" points=\"315.0001,-5813.5903 311.5,-5803.5904 308.0001,-5813.5904 315.0001,-5813.5903\" stroke=\"#000000\"/>\n</g>\n<!-- 140697141709624 -->\n<g class=\"node\" id=\"node29\">\n<title>140697141709624</title>\n<polygon fill=\"none\" points=\"109.5,-5694.5 109.5,-5730.5 351.5,-5730.5 351.5,-5694.5 109.5,-5694.5\" stroke=\"#000000\"/>\n<text fill=\"#000000\" font-family=\"Times,serif\" font-size=\"14.00\" text-anchor=\"middle\" x=\"230.5\" y=\"-5708.8\">Encoder-3-FeedForward: FeedForward</text>\n</g>\n<!-- 140697141702104&#45;&gt;140697141709624 -->\n<g class=\"edge\" id=\"edge33\">\n<title>140697141702104-&gt;140697141709624</title>\n<path d=\"M291.4775,-5767.4551C281.4498,-5758.4177 269.1491,-5747.3319 258.2286,-5737.4899\" fill=\"none\" stroke=\"#000000\"/>\n<polygon fill=\"#000000\" points=\"260.3444,-5734.6852 250.5729,-5730.5904 255.6581,-5739.885 260.3444,-5734.6852\" stroke=\"#000000\"/>\n</g>\n<!-- 140697141573560 -->\n<g class=\"node\" id=\"node31\">\n<title>140697141573560</title>\n<polygon fill=\"none\" points=\"195.5,-5548.5 195.5,-5584.5 415.5,-5584.5 415.5,-5548.5 195.5,-5548.5\" stroke=\"#000000\"/>\n<text fill=\"#000000\" font-family=\"Times,serif\" font-size=\"14.00\" text-anchor=\"middle\" x=\"305.5\" y=\"-5562.8\">Encoder-3-FeedForward-Add: Add</text>\n</g>\n<!-- 140697141702104&#45;&gt;140697141573560 -->\n<g class=\"edge\" id=\"edge35\">\n<title>140697141702104-&gt;140697141573560</title>\n<path d=\"M333.3471,-5767.291C343.3936,-5757.6134 354.4097,-5744.8624 360.5,-5731 380.2044,-5686.1498 387.6917,-5665.6329 367.5,-5621 362.2852,-5609.4728 353.2939,-5599.4147 343.751,-5591.1833\" fill=\"none\" stroke=\"#000000\"/>\n<polygon fill=\"#000000\" points=\"345.6666,-5588.2331 335.676,-5584.7064 341.2868,-5593.6936 345.6666,-5588.2331\" stroke=\"#000000\"/>\n</g>\n<!-- 140697141652224 -->\n<g class=\"node\" id=\"node30\">\n<title>140697141652224</title>\n<polygon fill=\"none\" points=\"91,-5621.5 91,-5657.5 358,-5657.5 358,-5621.5 91,-5621.5\" stroke=\"#000000\"/>\n<text fill=\"#000000\" font-family=\"Times,serif\" font-size=\"14.00\" text-anchor=\"middle\" x=\"224.5\" y=\"-5635.8\">Encoder-3-FeedForward-Dropout: Dropout</text>\n</g>\n<!-- 140697141709624&#45;&gt;140697141652224 -->\n<g class=\"edge\" id=\"edge34\">\n<title>140697141709624-&gt;140697141652224</title>\n<path d=\"M229.0169,-5694.4551C228.3534,-5686.3828 227.5556,-5676.6764 226.8163,-5667.6817\" fill=\"none\" stroke=\"#000000\"/>\n<polygon fill=\"#000000\" points=\"230.2944,-5667.27 225.9869,-5657.5904 223.3179,-5667.8435 230.2944,-5667.27\" stroke=\"#000000\"/>\n</g>\n<!-- 140697141652224&#45;&gt;140697141573560 -->\n<g class=\"edge\" id=\"edge36\">\n<title>140697141652224-&gt;140697141573560</title>\n<path d=\"M244.5225,-5621.4551C254.5502,-5612.4177 266.8509,-5601.3319 277.7714,-5591.4899\" fill=\"none\" stroke=\"#000000\"/>\n<polygon fill=\"#000000\" points=\"280.3419,-5593.885 285.4271,-5584.5904 275.6556,-5588.6852 280.3419,-5593.885\" stroke=\"#000000\"/>\n</g>\n<!-- 140697141505664 -->\n<g class=\"node\" id=\"node32\">\n<title>140697141505664</title>\n<polygon fill=\"none\" points=\"146.5,-5475.5 146.5,-5511.5 464.5,-5511.5 464.5,-5475.5 146.5,-5475.5\" stroke=\"#000000\"/>\n<text fill=\"#000000\" font-family=\"Times,serif\" font-size=\"14.00\" text-anchor=\"middle\" x=\"305.5\" y=\"-5489.8\">Encoder-3-FeedForward-Norm: LayerNormalization</text>\n</g>\n<!-- 140697141573560&#45;&gt;140697141505664 -->\n<g class=\"edge\" id=\"edge37\">\n<title>140697141573560-&gt;140697141505664</title>\n<path d=\"M305.5,-5548.4551C305.5,-5540.3828 305.5,-5530.6764 305.5,-5521.6817\" fill=\"none\" stroke=\"#000000\"/>\n<polygon fill=\"#000000\" points=\"309.0001,-5521.5903 305.5,-5511.5904 302.0001,-5521.5904 309.0001,-5521.5903\" stroke=\"#000000\"/>\n</g>\n<!-- 140697141504880 -->\n<g class=\"node\" id=\"node33\">\n<title>140697141504880</title>\n<polygon fill=\"none\" points=\"35.5,-5402.5 35.5,-5438.5 377.5,-5438.5 377.5,-5402.5 35.5,-5402.5\" stroke=\"#000000\"/>\n<text fill=\"#000000\" font-family=\"Times,serif\" font-size=\"14.00\" text-anchor=\"middle\" x=\"206.5\" y=\"-5416.8\">Encoder-4-MultiHeadSelfAttention: MultiHeadAttention</text>\n</g>\n<!-- 140697141505664&#45;&gt;140697141504880 -->\n<g class=\"edge\" id=\"edge38\">\n<title>140697141505664-&gt;140697141504880</title>\n<path d=\"M281.0281,-5475.4551C268.4149,-5466.1545 252.8597,-5454.6844 239.2286,-5444.6332\" fill=\"none\" stroke=\"#000000\"/>\n<polygon fill=\"#000000\" points=\"241.1592,-5441.7082 231.0335,-5438.5904 237.0049,-5447.3421 241.1592,-5441.7082\" stroke=\"#000000\"/>\n</g>\n<!-- 140697142003528 -->\n<g class=\"node\" id=\"node35\">\n<title>140697142003528</title>\n<polygon fill=\"none\" points=\"167,-5256.5 167,-5292.5 448,-5292.5 448,-5256.5 167,-5256.5\" stroke=\"#000000\"/>\n<text fill=\"#000000\" font-family=\"Times,serif\" font-size=\"14.00\" text-anchor=\"middle\" x=\"307.5\" y=\"-5270.8\">Encoder-4-MultiHeadSelfAttention-Add: Add</text>\n</g>\n<!-- 140697141505664&#45;&gt;140697142003528 -->\n<g class=\"edge\" id=\"edge40\">\n<title>140697141505664-&gt;140697142003528</title>\n<path d=\"M348.0685,-5475.3804C363.0065,-5466.7 378.1359,-5454.7088 386.5,-5439 394.5894,-5423.8071 392.2511,-5346.9102 382.5,-5329 375.7494,-5316.601 364.8204,-5306.3006 353.3687,-5298.1162\" fill=\"none\" stroke=\"#000000\"/>\n<polygon fill=\"#000000\" points=\"355.2521,-5295.1654 344.99,-5292.531 351.3694,-5300.9899 355.2521,-5295.1654\" stroke=\"#000000\"/>\n</g>\n<!-- 140697141115984 -->\n<g class=\"node\" id=\"node34\">\n<title>140697141115984</title>\n<polygon fill=\"none\" points=\"45,-5329.5 45,-5365.5 374,-5365.5 374,-5329.5 45,-5329.5\" stroke=\"#000000\"/>\n<text fill=\"#000000\" font-family=\"Times,serif\" font-size=\"14.00\" text-anchor=\"middle\" x=\"209.5\" y=\"-5343.8\">Encoder-4-MultiHeadSelfAttention-Dropout: Dropout</text>\n</g>\n<!-- 140697141504880&#45;&gt;140697141115984 -->\n<g class=\"edge\" id=\"edge39\">\n<title>140697141504880-&gt;140697141115984</title>\n<path d=\"M207.2416,-5402.4551C207.5733,-5394.3828 207.9722,-5384.6764 208.3418,-5375.6817\" fill=\"none\" stroke=\"#000000\"/>\n<polygon fill=\"#000000\" points=\"211.8429,-5375.7257 208.7566,-5365.5904 204.8488,-5375.4382 211.8429,-5375.7257\" stroke=\"#000000\"/>\n</g>\n<!-- 140697141115984&#45;&gt;140697142003528 -->\n<g class=\"edge\" id=\"edge41\">\n<title>140697141115984-&gt;140697142003528</title>\n<path d=\"M233.7247,-5329.4551C246.2105,-5320.1545 261.6086,-5308.6844 275.102,-5298.6332\" fill=\"none\" stroke=\"#000000\"/>\n<polygon fill=\"#000000\" points=\"277.2855,-5301.371 283.2143,-5292.5904 273.1039,-5295.7573 277.2855,-5301.371\" stroke=\"#000000\"/>\n</g>\n<!-- 140697142964120 -->\n<g class=\"node\" id=\"node36\">\n<title>140697142964120</title>\n<polygon fill=\"none\" points=\"117.5,-5183.5 117.5,-5219.5 497.5,-5219.5 497.5,-5183.5 117.5,-5183.5\" stroke=\"#000000\"/>\n<text fill=\"#000000\" font-family=\"Times,serif\" font-size=\"14.00\" text-anchor=\"middle\" x=\"307.5\" y=\"-5197.8\">Encoder-4-MultiHeadSelfAttention-Norm: LayerNormalization</text>\n</g>\n<!-- 140697142003528&#45;&gt;140697142964120 -->\n<g class=\"edge\" id=\"edge42\">\n<title>140697142003528-&gt;140697142964120</title>\n<path d=\"M307.5,-5256.4551C307.5,-5248.3828 307.5,-5238.6764 307.5,-5229.6817\" fill=\"none\" stroke=\"#000000\"/>\n<polygon fill=\"#000000\" points=\"311.0001,-5229.5903 307.5,-5219.5904 304.0001,-5229.5904 311.0001,-5229.5903\" stroke=\"#000000\"/>\n</g>\n<!-- 140697142946840 -->\n<g class=\"node\" id=\"node37\">\n<title>140697142946840</title>\n<polygon fill=\"none\" points=\"105.5,-5110.5 105.5,-5146.5 347.5,-5146.5 347.5,-5110.5 105.5,-5110.5\" stroke=\"#000000\"/>\n<text fill=\"#000000\" font-family=\"Times,serif\" font-size=\"14.00\" text-anchor=\"middle\" x=\"226.5\" y=\"-5124.8\">Encoder-4-FeedForward: FeedForward</text>\n</g>\n<!-- 140697142964120&#45;&gt;140697142946840 -->\n<g class=\"edge\" id=\"edge43\">\n<title>140697142964120-&gt;140697142946840</title>\n<path d=\"M287.4775,-5183.4551C277.4498,-5174.4177 265.1491,-5163.3319 254.2286,-5153.4899\" fill=\"none\" stroke=\"#000000\"/>\n<polygon fill=\"#000000\" points=\"256.3444,-5150.6852 246.5729,-5146.5904 251.6581,-5155.885 256.3444,-5150.6852\" stroke=\"#000000\"/>\n</g>\n<!-- 140697143294160 -->\n<g class=\"node\" id=\"node39\">\n<title>140697143294160</title>\n<polygon fill=\"none\" points=\"191.5,-4964.5 191.5,-5000.5 411.5,-5000.5 411.5,-4964.5 191.5,-4964.5\" stroke=\"#000000\"/>\n<text fill=\"#000000\" font-family=\"Times,serif\" font-size=\"14.00\" text-anchor=\"middle\" x=\"301.5\" y=\"-4978.8\">Encoder-4-FeedForward-Add: Add</text>\n</g>\n<!-- 140697142964120&#45;&gt;140697143294160 -->\n<g class=\"edge\" id=\"edge45\">\n<title>140697142964120-&gt;140697143294160</title>\n<path d=\"M329.3471,-5183.291C339.3936,-5173.6134 350.4097,-5160.8624 356.5,-5147 376.2044,-5102.1498 383.6917,-5081.6329 363.5,-5037 358.2852,-5025.4728 349.2939,-5015.4147 339.751,-5007.1833\" fill=\"none\" stroke=\"#000000\"/>\n<polygon fill=\"#000000\" points=\"341.6666,-5004.2331 331.676,-5000.7064 337.2868,-5009.6936 341.6666,-5004.2331\" stroke=\"#000000\"/>\n</g>\n<!-- 140697142885344 -->\n<g class=\"node\" id=\"node38\">\n<title>140697142885344</title>\n<polygon fill=\"none\" points=\"87,-5037.5 87,-5073.5 354,-5073.5 354,-5037.5 87,-5037.5\" stroke=\"#000000\"/>\n<text fill=\"#000000\" font-family=\"Times,serif\" font-size=\"14.00\" text-anchor=\"middle\" x=\"220.5\" y=\"-5051.8\">Encoder-4-FeedForward-Dropout: Dropout</text>\n</g>\n<!-- 140697142946840&#45;&gt;140697142885344 -->\n<g class=\"edge\" id=\"edge44\">\n<title>140697142946840-&gt;140697142885344</title>\n<path d=\"M225.0169,-5110.4551C224.3534,-5102.3828 223.5556,-5092.6764 222.8163,-5083.6817\" fill=\"none\" stroke=\"#000000\"/>\n<polygon fill=\"#000000\" points=\"226.2944,-5083.27 221.9869,-5073.5904 219.3179,-5083.8435 226.2944,-5083.27\" stroke=\"#000000\"/>\n</g>\n<!-- 140697142885344&#45;&gt;140697143294160 -->\n<g class=\"edge\" id=\"edge46\">\n<title>140697142885344-&gt;140697143294160</title>\n<path d=\"M240.5225,-5037.4551C250.5502,-5028.4177 262.8509,-5017.3319 273.7714,-5007.4899\" fill=\"none\" stroke=\"#000000\"/>\n<polygon fill=\"#000000\" points=\"276.3419,-5009.885 281.4271,-5000.5904 271.6556,-5004.6852 276.3419,-5009.885\" stroke=\"#000000\"/>\n</g>\n<!-- 140697143147544 -->\n<g class=\"node\" id=\"node40\">\n<title>140697143147544</title>\n<polygon fill=\"none\" points=\"142.5,-4891.5 142.5,-4927.5 460.5,-4927.5 460.5,-4891.5 142.5,-4891.5\" stroke=\"#000000\"/>\n<text fill=\"#000000\" font-family=\"Times,serif\" font-size=\"14.00\" text-anchor=\"middle\" x=\"301.5\" y=\"-4905.8\">Encoder-4-FeedForward-Norm: LayerNormalization</text>\n</g>\n<!-- 140697143294160&#45;&gt;140697143147544 -->\n<g class=\"edge\" id=\"edge47\">\n<title>140697143294160-&gt;140697143147544</title>\n<path d=\"M301.5,-4964.4551C301.5,-4956.3828 301.5,-4946.6764 301.5,-4937.6817\" fill=\"none\" stroke=\"#000000\"/>\n<polygon fill=\"#000000\" points=\"305.0001,-4937.5903 301.5,-4927.5904 298.0001,-4937.5904 305.0001,-4937.5903\" stroke=\"#000000\"/>\n</g>\n<!-- 140697143146760 -->\n<g class=\"node\" id=\"node41\">\n<title>140697143146760</title>\n<polygon fill=\"none\" points=\"31.5,-4818.5 31.5,-4854.5 373.5,-4854.5 373.5,-4818.5 31.5,-4818.5\" stroke=\"#000000\"/>\n<text fill=\"#000000\" font-family=\"Times,serif\" font-size=\"14.00\" text-anchor=\"middle\" x=\"202.5\" y=\"-4832.8\">Encoder-5-MultiHeadSelfAttention: MultiHeadAttention</text>\n</g>\n<!-- 140697143147544&#45;&gt;140697143146760 -->\n<g class=\"edge\" id=\"edge48\">\n<title>140697143147544-&gt;140697143146760</title>\n<path d=\"M277.0281,-4891.4551C264.4149,-4882.1545 248.8597,-4870.6844 235.2286,-4860.6332\" fill=\"none\" stroke=\"#000000\"/>\n<polygon fill=\"#000000\" points=\"237.1592,-4857.7082 227.0335,-4854.5904 233.0049,-4863.3421 237.1592,-4857.7082\" stroke=\"#000000\"/>\n</g>\n<!-- 140697145226912 -->\n<g class=\"node\" id=\"node43\">\n<title>140697145226912</title>\n<polygon fill=\"none\" points=\"163,-4672.5 163,-4708.5 444,-4708.5 444,-4672.5 163,-4672.5\" stroke=\"#000000\"/>\n<text fill=\"#000000\" font-family=\"Times,serif\" font-size=\"14.00\" text-anchor=\"middle\" x=\"303.5\" y=\"-4686.8\">Encoder-5-MultiHeadSelfAttention-Add: Add</text>\n</g>\n<!-- 140697143147544&#45;&gt;140697145226912 -->\n<g class=\"edge\" id=\"edge50\">\n<title>140697143147544-&gt;140697145226912</title>\n<path d=\"M344.0685,-4891.3804C359.0065,-4882.7 374.1359,-4870.7088 382.5,-4855 390.5894,-4839.8071 388.2511,-4762.9102 378.5,-4745 371.7494,-4732.601 360.8204,-4722.3006 349.3687,-4714.1162\" fill=\"none\" stroke=\"#000000\"/>\n<polygon fill=\"#000000\" points=\"351.2521,-4711.1654 340.99,-4708.531 347.3694,-4716.9899 351.2521,-4711.1654\" stroke=\"#000000\"/>\n</g>\n<!-- 140697143061584 -->\n<g class=\"node\" id=\"node42\">\n<title>140697143061584</title>\n<polygon fill=\"none\" points=\"41,-4745.5 41,-4781.5 370,-4781.5 370,-4745.5 41,-4745.5\" stroke=\"#000000\"/>\n<text fill=\"#000000\" font-family=\"Times,serif\" font-size=\"14.00\" text-anchor=\"middle\" x=\"205.5\" y=\"-4759.8\">Encoder-5-MultiHeadSelfAttention-Dropout: Dropout</text>\n</g>\n<!-- 140697143146760&#45;&gt;140697143061584 -->\n<g class=\"edge\" id=\"edge49\">\n<title>140697143146760-&gt;140697143061584</title>\n<path d=\"M203.2416,-4818.4551C203.5733,-4810.3828 203.9722,-4800.6764 204.3418,-4791.6817\" fill=\"none\" stroke=\"#000000\"/>\n<polygon fill=\"#000000\" points=\"207.8429,-4791.7257 204.7566,-4781.5904 200.8488,-4791.4382 207.8429,-4791.7257\" stroke=\"#000000\"/>\n</g>\n<!-- 140697143061584&#45;&gt;140697145226912 -->\n<g class=\"edge\" id=\"edge51\">\n<title>140697143061584-&gt;140697145226912</title>\n<path d=\"M229.7247,-4745.4551C242.2105,-4736.1545 257.6086,-4724.6844 271.102,-4714.6332\" fill=\"none\" stroke=\"#000000\"/>\n<polygon fill=\"#000000\" points=\"273.2855,-4717.371 279.2143,-4708.5904 269.1039,-4711.7573 273.2855,-4717.371\" stroke=\"#000000\"/>\n</g>\n<!-- 140697144794136 -->\n<g class=\"node\" id=\"node44\">\n<title>140697144794136</title>\n<polygon fill=\"none\" points=\"113.5,-4599.5 113.5,-4635.5 493.5,-4635.5 493.5,-4599.5 113.5,-4599.5\" stroke=\"#000000\"/>\n<text fill=\"#000000\" font-family=\"Times,serif\" font-size=\"14.00\" text-anchor=\"middle\" x=\"303.5\" y=\"-4613.8\">Encoder-5-MultiHeadSelfAttention-Norm: LayerNormalization</text>\n</g>\n<!-- 140697145226912&#45;&gt;140697144794136 -->\n<g class=\"edge\" id=\"edge52\">\n<title>140697145226912-&gt;140697144794136</title>\n<path d=\"M303.5,-4672.4551C303.5,-4664.3828 303.5,-4654.6764 303.5,-4645.6817\" fill=\"none\" stroke=\"#000000\"/>\n<polygon fill=\"#000000\" points=\"307.0001,-4645.5903 303.5,-4635.5904 300.0001,-4645.5904 307.0001,-4645.5903\" stroke=\"#000000\"/>\n</g>\n<!-- 140697144794640 -->\n<g class=\"node\" id=\"node45\">\n<title>140697144794640</title>\n<polygon fill=\"none\" points=\"101.5,-4526.5 101.5,-4562.5 343.5,-4562.5 343.5,-4526.5 101.5,-4526.5\" stroke=\"#000000\"/>\n<text fill=\"#000000\" font-family=\"Times,serif\" font-size=\"14.00\" text-anchor=\"middle\" x=\"222.5\" y=\"-4540.8\">Encoder-5-FeedForward: FeedForward</text>\n</g>\n<!-- 140697144794136&#45;&gt;140697144794640 -->\n<g class=\"edge\" id=\"edge53\">\n<title>140697144794136-&gt;140697144794640</title>\n<path d=\"M283.4775,-4599.4551C273.4498,-4590.4177 261.1491,-4579.3319 250.2286,-4569.4899\" fill=\"none\" stroke=\"#000000\"/>\n<polygon fill=\"#000000\" points=\"252.3444,-4566.6852 242.5729,-4562.5904 247.6581,-4571.885 252.3444,-4566.6852\" stroke=\"#000000\"/>\n</g>\n<!-- 140697144419944 -->\n<g class=\"node\" id=\"node47\">\n<title>140697144419944</title>\n<polygon fill=\"none\" points=\"187.5,-4380.5 187.5,-4416.5 407.5,-4416.5 407.5,-4380.5 187.5,-4380.5\" stroke=\"#000000\"/>\n<text fill=\"#000000\" font-family=\"Times,serif\" font-size=\"14.00\" text-anchor=\"middle\" x=\"297.5\" y=\"-4394.8\">Encoder-5-FeedForward-Add: Add</text>\n</g>\n<!-- 140697144794136&#45;&gt;140697144419944 -->\n<g class=\"edge\" id=\"edge55\">\n<title>140697144794136-&gt;140697144419944</title>\n<path d=\"M325.3471,-4599.291C335.3936,-4589.6134 346.4097,-4576.8624 352.5,-4563 372.2044,-4518.1498 379.6917,-4497.6329 359.5,-4453 354.2852,-4441.4728 345.2939,-4431.4147 335.751,-4423.1833\" fill=\"none\" stroke=\"#000000\"/>\n<polygon fill=\"#000000\" points=\"337.6666,-4420.2331 327.676,-4416.7064 333.2868,-4425.6936 337.6666,-4420.2331\" stroke=\"#000000\"/>\n</g>\n<!-- 140697144376344 -->\n<g class=\"node\" id=\"node46\">\n<title>140697144376344</title>\n<polygon fill=\"none\" points=\"83,-4453.5 83,-4489.5 350,-4489.5 350,-4453.5 83,-4453.5\" stroke=\"#000000\"/>\n<text fill=\"#000000\" font-family=\"Times,serif\" font-size=\"14.00\" text-anchor=\"middle\" x=\"216.5\" y=\"-4467.8\">Encoder-5-FeedForward-Dropout: Dropout</text>\n</g>\n<!-- 140697144794640&#45;&gt;140697144376344 -->\n<g class=\"edge\" id=\"edge54\">\n<title>140697144794640-&gt;140697144376344</title>\n<path d=\"M221.0169,-4526.4551C220.3534,-4518.3828 219.5556,-4508.6764 218.8163,-4499.6817\" fill=\"none\" stroke=\"#000000\"/>\n<polygon fill=\"#000000\" points=\"222.2944,-4499.27 217.9869,-4489.5904 215.3179,-4499.8435 222.2944,-4499.27\" stroke=\"#000000\"/>\n</g>\n<!-- 140697144376344&#45;&gt;140697144419944 -->\n<g class=\"edge\" id=\"edge56\">\n<title>140697144376344-&gt;140697144419944</title>\n<path d=\"M236.5225,-4453.4551C246.5502,-4444.4177 258.8509,-4433.3319 269.7714,-4423.4899\" fill=\"none\" stroke=\"#000000\"/>\n<polygon fill=\"#000000\" points=\"272.3419,-4425.885 277.4271,-4416.5904 267.6556,-4420.6852 272.3419,-4425.885\" stroke=\"#000000\"/>\n</g>\n<!-- 140697144625584 -->\n<g class=\"node\" id=\"node48\">\n<title>140697144625584</title>\n<polygon fill=\"none\" points=\"138.5,-4307.5 138.5,-4343.5 456.5,-4343.5 456.5,-4307.5 138.5,-4307.5\" stroke=\"#000000\"/>\n<text fill=\"#000000\" font-family=\"Times,serif\" font-size=\"14.00\" text-anchor=\"middle\" x=\"297.5\" y=\"-4321.8\">Encoder-5-FeedForward-Norm: LayerNormalization</text>\n</g>\n<!-- 140697144419944&#45;&gt;140697144625584 -->\n<g class=\"edge\" id=\"edge57\">\n<title>140697144419944-&gt;140697144625584</title>\n<path d=\"M297.5,-4380.4551C297.5,-4372.3828 297.5,-4362.6764 297.5,-4353.6817\" fill=\"none\" stroke=\"#000000\"/>\n<polygon fill=\"#000000\" points=\"301.0001,-4353.5903 297.5,-4343.5904 294.0001,-4353.5904 301.0001,-4353.5903\" stroke=\"#000000\"/>\n</g>\n<!-- 140697144624800 -->\n<g class=\"node\" id=\"node49\">\n<title>140697144624800</title>\n<polygon fill=\"none\" points=\"27.5,-4234.5 27.5,-4270.5 369.5,-4270.5 369.5,-4234.5 27.5,-4234.5\" stroke=\"#000000\"/>\n<text fill=\"#000000\" font-family=\"Times,serif\" font-size=\"14.00\" text-anchor=\"middle\" x=\"198.5\" y=\"-4248.8\">Encoder-6-MultiHeadSelfAttention: MultiHeadAttention</text>\n</g>\n<!-- 140697144625584&#45;&gt;140697144624800 -->\n<g class=\"edge\" id=\"edge58\">\n<title>140697144625584-&gt;140697144624800</title>\n<path d=\"M273.0281,-4307.4551C260.4149,-4298.1545 244.8597,-4286.6844 231.2286,-4276.6332\" fill=\"none\" stroke=\"#000000\"/>\n<polygon fill=\"#000000\" points=\"233.1592,-4273.7082 223.0335,-4270.5904 229.0049,-4279.3421 233.1592,-4273.7082\" stroke=\"#000000\"/>\n</g>\n<!-- 140697142150032 -->\n<g class=\"node\" id=\"node51\">\n<title>140697142150032</title>\n<polygon fill=\"none\" points=\"158,-4088.5 158,-4124.5 439,-4124.5 439,-4088.5 158,-4088.5\" stroke=\"#000000\"/>\n<text fill=\"#000000\" font-family=\"Times,serif\" font-size=\"14.00\" text-anchor=\"middle\" x=\"298.5\" y=\"-4102.8\">Encoder-6-MultiHeadSelfAttention-Add: Add</text>\n</g>\n<!-- 140697144625584&#45;&gt;140697142150032 -->\n<g class=\"edge\" id=\"edge60\">\n<title>140697144625584-&gt;140697142150032</title>\n<path d=\"M340.0685,-4307.3804C355.0065,-4298.7 370.1359,-4286.7088 378.5,-4271 386.1793,-4256.5774 385.9885,-4180.2923 375.5,-4161 368.7016,-4148.4953 357.6452,-4138.1998 346.0052,-4130.0548\" fill=\"none\" stroke=\"#000000\"/>\n<polygon fill=\"#000000\" points=\"347.7688,-4127.0266 337.4788,-4124.5031 343.9492,-4132.8927 347.7688,-4127.0266\" stroke=\"#000000\"/>\n</g>\n<!-- 140697142070688 -->\n<g class=\"node\" id=\"node50\">\n<title>140697142070688</title>\n<polygon fill=\"none\" points=\"38,-4161.5 38,-4197.5 367,-4197.5 367,-4161.5 38,-4161.5\" stroke=\"#000000\"/>\n<text fill=\"#000000\" font-family=\"Times,serif\" font-size=\"14.00\" text-anchor=\"middle\" x=\"202.5\" y=\"-4175.8\">Encoder-6-MultiHeadSelfAttention-Dropout: Dropout</text>\n</g>\n<!-- 140697144624800&#45;&gt;140697142070688 -->\n<g class=\"edge\" id=\"edge59\">\n<title>140697144624800-&gt;140697142070688</title>\n<path d=\"M199.4888,-4234.4551C199.9311,-4226.3828 200.4629,-4216.6764 200.9558,-4207.6817\" fill=\"none\" stroke=\"#000000\"/>\n<polygon fill=\"#000000\" points=\"204.4563,-4207.7669 201.5087,-4197.5904 197.4668,-4207.3839 204.4563,-4207.7669\" stroke=\"#000000\"/>\n</g>\n<!-- 140697142070688&#45;&gt;140697142150032 -->\n<g class=\"edge\" id=\"edge61\">\n<title>140697142070688-&gt;140697142150032</title>\n<path d=\"M226.2303,-4161.4551C238.3459,-4152.2422 253.2608,-4140.9006 266.3886,-4130.918\" fill=\"none\" stroke=\"#000000\"/>\n<polygon fill=\"#000000\" points=\"268.8684,-4133.4293 274.7099,-4124.5904 264.6314,-4127.8573 268.8684,-4133.4293\" stroke=\"#000000\"/>\n</g>\n<!-- 140697140410856 -->\n<g class=\"node\" id=\"node52\">\n<title>140697140410856</title>\n<polygon fill=\"none\" points=\"108.5,-4015.5 108.5,-4051.5 488.5,-4051.5 488.5,-4015.5 108.5,-4015.5\" stroke=\"#000000\"/>\n<text fill=\"#000000\" font-family=\"Times,serif\" font-size=\"14.00\" text-anchor=\"middle\" x=\"298.5\" y=\"-4029.8\">Encoder-6-MultiHeadSelfAttention-Norm: LayerNormalization</text>\n</g>\n<!-- 140697142150032&#45;&gt;140697140410856 -->\n<g class=\"edge\" id=\"edge62\">\n<title>140697142150032-&gt;140697140410856</title>\n<path d=\"M298.5,-4088.4551C298.5,-4080.3828 298.5,-4070.6764 298.5,-4061.6817\" fill=\"none\" stroke=\"#000000\"/>\n<polygon fill=\"#000000\" points=\"302.0001,-4061.5903 298.5,-4051.5904 295.0001,-4061.5904 302.0001,-4061.5903\" stroke=\"#000000\"/>\n</g>\n<!-- 140697140411752 -->\n<g class=\"node\" id=\"node53\">\n<title>140697140411752</title>\n<polygon fill=\"none\" points=\"96.5,-3942.5 96.5,-3978.5 338.5,-3978.5 338.5,-3942.5 96.5,-3942.5\" stroke=\"#000000\"/>\n<text fill=\"#000000\" font-family=\"Times,serif\" font-size=\"14.00\" text-anchor=\"middle\" x=\"217.5\" y=\"-3956.8\">Encoder-6-FeedForward: FeedForward</text>\n</g>\n<!-- 140697140410856&#45;&gt;140697140411752 -->\n<g class=\"edge\" id=\"edge63\">\n<title>140697140410856-&gt;140697140411752</title>\n<path d=\"M278.4775,-4015.4551C268.4498,-4006.4177 256.1491,-3995.3319 245.2286,-3985.4899\" fill=\"none\" stroke=\"#000000\"/>\n<polygon fill=\"#000000\" points=\"247.3444,-3982.6852 237.5729,-3978.5904 242.6581,-3987.885 247.3444,-3982.6852\" stroke=\"#000000\"/>\n</g>\n<!-- 140697140065112 -->\n<g class=\"node\" id=\"node55\">\n<title>140697140065112</title>\n<polygon fill=\"none\" points=\"182.5,-3796.5 182.5,-3832.5 402.5,-3832.5 402.5,-3796.5 182.5,-3796.5\" stroke=\"#000000\"/>\n<text fill=\"#000000\" font-family=\"Times,serif\" font-size=\"14.00\" text-anchor=\"middle\" x=\"292.5\" y=\"-3810.8\">Encoder-6-FeedForward-Add: Add</text>\n</g>\n<!-- 140697140410856&#45;&gt;140697140065112 -->\n<g class=\"edge\" id=\"edge65\">\n<title>140697140410856-&gt;140697140065112</title>\n<path d=\"M320.3471,-4015.291C330.3936,-4005.6134 341.4097,-3992.8624 347.5,-3979 367.2044,-3934.1498 374.6917,-3913.6329 354.5,-3869 349.2852,-3857.4728 340.2939,-3847.4147 330.751,-3839.1833\" fill=\"none\" stroke=\"#000000\"/>\n<polygon fill=\"#000000\" points=\"332.6666,-3836.2331 322.676,-3832.7064 328.2868,-3841.6936 332.6666,-3836.2331\" stroke=\"#000000\"/>\n</g>\n<!-- 140697139973480 -->\n<g class=\"node\" id=\"node54\">\n<title>140697139973480</title>\n<polygon fill=\"none\" points=\"78,-3869.5 78,-3905.5 345,-3905.5 345,-3869.5 78,-3869.5\" stroke=\"#000000\"/>\n<text fill=\"#000000\" font-family=\"Times,serif\" font-size=\"14.00\" text-anchor=\"middle\" x=\"211.5\" y=\"-3883.8\">Encoder-6-FeedForward-Dropout: Dropout</text>\n</g>\n<!-- 140697140411752&#45;&gt;140697139973480 -->\n<g class=\"edge\" id=\"edge64\">\n<title>140697140411752-&gt;140697139973480</title>\n<path d=\"M216.0169,-3942.4551C215.3534,-3934.3828 214.5556,-3924.6764 213.8163,-3915.6817\" fill=\"none\" stroke=\"#000000\"/>\n<polygon fill=\"#000000\" points=\"217.2944,-3915.27 212.9869,-3905.5904 210.3179,-3915.8435 217.2944,-3915.27\" stroke=\"#000000\"/>\n</g>\n<!-- 140697139973480&#45;&gt;140697140065112 -->\n<g class=\"edge\" id=\"edge66\">\n<title>140697139973480-&gt;140697140065112</title>\n<path d=\"M231.5225,-3869.4551C241.5502,-3860.4177 253.8509,-3849.3319 264.7714,-3839.4899\" fill=\"none\" stroke=\"#000000\"/>\n<polygon fill=\"#000000\" points=\"267.3419,-3841.885 272.4271,-3832.5904 262.6556,-3836.6852 267.3419,-3841.885\" stroke=\"#000000\"/>\n</g>\n<!-- 140697139684912 -->\n<g class=\"node\" id=\"node56\">\n<title>140697139684912</title>\n<polygon fill=\"none\" points=\"133.5,-3723.5 133.5,-3759.5 451.5,-3759.5 451.5,-3723.5 133.5,-3723.5\" stroke=\"#000000\"/>\n<text fill=\"#000000\" font-family=\"Times,serif\" font-size=\"14.00\" text-anchor=\"middle\" x=\"292.5\" y=\"-3737.8\">Encoder-6-FeedForward-Norm: LayerNormalization</text>\n</g>\n<!-- 140697140065112&#45;&gt;140697139684912 -->\n<g class=\"edge\" id=\"edge67\">\n<title>140697140065112-&gt;140697139684912</title>\n<path d=\"M292.5,-3796.4551C292.5,-3788.3828 292.5,-3778.6764 292.5,-3769.6817\" fill=\"none\" stroke=\"#000000\"/>\n<polygon fill=\"#000000\" points=\"296.0001,-3769.5903 292.5,-3759.5904 289.0001,-3769.5904 296.0001,-3769.5903\" stroke=\"#000000\"/>\n</g>\n<!-- 140697139687096 -->\n<g class=\"node\" id=\"node57\">\n<title>140697139687096</title>\n<polygon fill=\"none\" points=\"22.5,-3650.5 22.5,-3686.5 364.5,-3686.5 364.5,-3650.5 22.5,-3650.5\" stroke=\"#000000\"/>\n<text fill=\"#000000\" font-family=\"Times,serif\" font-size=\"14.00\" text-anchor=\"middle\" x=\"193.5\" y=\"-3664.8\">Encoder-7-MultiHeadSelfAttention: MultiHeadAttention</text>\n</g>\n<!-- 140697139684912&#45;&gt;140697139687096 -->\n<g class=\"edge\" id=\"edge68\">\n<title>140697139684912-&gt;140697139687096</title>\n<path d=\"M268.0281,-3723.4551C255.4149,-3714.1545 239.8597,-3702.6844 226.2286,-3692.6332\" fill=\"none\" stroke=\"#000000\"/>\n<polygon fill=\"#000000\" points=\"228.1592,-3689.7082 218.0335,-3686.5904 224.0049,-3695.3421 228.1592,-3689.7082\" stroke=\"#000000\"/>\n</g>\n<!-- 140697139830400 -->\n<g class=\"node\" id=\"node59\">\n<title>140697139830400</title>\n<polygon fill=\"none\" points=\"153,-3504.5 153,-3540.5 434,-3540.5 434,-3504.5 153,-3504.5\" stroke=\"#000000\"/>\n<text fill=\"#000000\" font-family=\"Times,serif\" font-size=\"14.00\" text-anchor=\"middle\" x=\"293.5\" y=\"-3518.8\">Encoder-7-MultiHeadSelfAttention-Add: Add</text>\n</g>\n<!-- 140697139684912&#45;&gt;140697139830400 -->\n<g class=\"edge\" id=\"edge70\">\n<title>140697139684912-&gt;140697139830400</title>\n<path d=\"M335.0685,-3723.3804C350.0065,-3714.7 365.1359,-3702.7088 373.5,-3687 381.1793,-3672.5774 380.9885,-3596.2923 370.5,-3577 363.7016,-3564.4953 352.6452,-3554.1998 341.0052,-3546.0548\" fill=\"none\" stroke=\"#000000\"/>\n<polygon fill=\"#000000\" points=\"342.7688,-3543.0266 332.4788,-3540.5031 338.9492,-3548.8927 342.7688,-3543.0266\" stroke=\"#000000\"/>\n</g>\n<!-- 140697139766552 -->\n<g class=\"node\" id=\"node58\">\n<title>140697139766552</title>\n<polygon fill=\"none\" points=\"33,-3577.5 33,-3613.5 362,-3613.5 362,-3577.5 33,-3577.5\" stroke=\"#000000\"/>\n<text fill=\"#000000\" font-family=\"Times,serif\" font-size=\"14.00\" text-anchor=\"middle\" x=\"197.5\" y=\"-3591.8\">Encoder-7-MultiHeadSelfAttention-Dropout: Dropout</text>\n</g>\n<!-- 140697139687096&#45;&gt;140697139766552 -->\n<g class=\"edge\" id=\"edge69\">\n<title>140697139687096-&gt;140697139766552</title>\n<path d=\"M194.4888,-3650.4551C194.9311,-3642.3828 195.4629,-3632.6764 195.9558,-3623.6817\" fill=\"none\" stroke=\"#000000\"/>\n<polygon fill=\"#000000\" points=\"199.4563,-3623.7669 196.5087,-3613.5904 192.4668,-3623.3839 199.4563,-3623.7669\" stroke=\"#000000\"/>\n</g>\n<!-- 140697139766552&#45;&gt;140697139830400 -->\n<g class=\"edge\" id=\"edge71\">\n<title>140697139766552-&gt;140697139830400</title>\n<path d=\"M221.2303,-3577.4551C233.3459,-3568.2422 248.2608,-3556.9006 261.3886,-3546.918\" fill=\"none\" stroke=\"#000000\"/>\n<polygon fill=\"#000000\" points=\"263.8684,-3549.4293 269.7099,-3540.5904 259.6314,-3543.8573 263.8684,-3549.4293\" stroke=\"#000000\"/>\n</g>\n<!-- 140697137319832 -->\n<g class=\"node\" id=\"node60\">\n<title>140697137319832</title>\n<polygon fill=\"none\" points=\"103.5,-3431.5 103.5,-3467.5 483.5,-3467.5 483.5,-3431.5 103.5,-3431.5\" stroke=\"#000000\"/>\n<text fill=\"#000000\" font-family=\"Times,serif\" font-size=\"14.00\" text-anchor=\"middle\" x=\"293.5\" y=\"-3445.8\">Encoder-7-MultiHeadSelfAttention-Norm: LayerNormalization</text>\n</g>\n<!-- 140697139830400&#45;&gt;140697137319832 -->\n<g class=\"edge\" id=\"edge72\">\n<title>140697139830400-&gt;140697137319832</title>\n<path d=\"M293.5,-3504.4551C293.5,-3496.3828 293.5,-3486.6764 293.5,-3477.6817\" fill=\"none\" stroke=\"#000000\"/>\n<polygon fill=\"#000000\" points=\"297.0001,-3477.5903 293.5,-3467.5904 290.0001,-3477.5904 297.0001,-3477.5903\" stroke=\"#000000\"/>\n</g>\n<!-- 140697137318600 -->\n<g class=\"node\" id=\"node61\">\n<title>140697137318600</title>\n<polygon fill=\"none\" points=\"91.5,-3358.5 91.5,-3394.5 333.5,-3394.5 333.5,-3358.5 91.5,-3358.5\" stroke=\"#000000\"/>\n<text fill=\"#000000\" font-family=\"Times,serif\" font-size=\"14.00\" text-anchor=\"middle\" x=\"212.5\" y=\"-3372.8\">Encoder-7-FeedForward: FeedForward</text>\n</g>\n<!-- 140697137319832&#45;&gt;140697137318600 -->\n<g class=\"edge\" id=\"edge73\">\n<title>140697137319832-&gt;140697137318600</title>\n<path d=\"M273.4775,-3431.4551C263.4498,-3422.4177 251.1491,-3411.3319 240.2286,-3401.4899\" fill=\"none\" stroke=\"#000000\"/>\n<polygon fill=\"#000000\" points=\"242.3444,-3398.6852 232.5729,-3394.5904 237.6581,-3403.885 242.3444,-3398.6852\" stroke=\"#000000\"/>\n</g>\n<!-- 140697137483336 -->\n<g class=\"node\" id=\"node63\">\n<title>140697137483336</title>\n<polygon fill=\"none\" points=\"177.5,-3212.5 177.5,-3248.5 397.5,-3248.5 397.5,-3212.5 177.5,-3212.5\" stroke=\"#000000\"/>\n<text fill=\"#000000\" font-family=\"Times,serif\" font-size=\"14.00\" text-anchor=\"middle\" x=\"287.5\" y=\"-3226.8\">Encoder-7-FeedForward-Add: Add</text>\n</g>\n<!-- 140697137319832&#45;&gt;140697137483336 -->\n<g class=\"edge\" id=\"edge75\">\n<title>140697137319832-&gt;140697137483336</title>\n<path d=\"M315.3471,-3431.291C325.3936,-3421.6134 336.4097,-3408.8624 342.5,-3395 362.2044,-3350.1498 369.6917,-3329.6329 349.5,-3285 344.2852,-3273.4728 335.2939,-3263.4147 325.751,-3255.1833\" fill=\"none\" stroke=\"#000000\"/>\n<polygon fill=\"#000000\" points=\"327.6666,-3252.2331 317.676,-3248.7064 323.2868,-3257.6936 327.6666,-3252.2331\" stroke=\"#000000\"/>\n</g>\n<!-- 140697137423528 -->\n<g class=\"node\" id=\"node62\">\n<title>140697137423528</title>\n<polygon fill=\"none\" points=\"73,-3285.5 73,-3321.5 340,-3321.5 340,-3285.5 73,-3285.5\" stroke=\"#000000\"/>\n<text fill=\"#000000\" font-family=\"Times,serif\" font-size=\"14.00\" text-anchor=\"middle\" x=\"206.5\" y=\"-3299.8\">Encoder-7-FeedForward-Dropout: Dropout</text>\n</g>\n<!-- 140697137318600&#45;&gt;140697137423528 -->\n<g class=\"edge\" id=\"edge74\">\n<title>140697137318600-&gt;140697137423528</title>\n<path d=\"M211.0169,-3358.4551C210.3534,-3350.3828 209.5556,-3340.6764 208.8163,-3331.6817\" fill=\"none\" stroke=\"#000000\"/>\n<polygon fill=\"#000000\" points=\"212.2944,-3331.27 207.9869,-3321.5904 205.3179,-3331.8435 212.2944,-3331.27\" stroke=\"#000000\"/>\n</g>\n<!-- 140697137423528&#45;&gt;140697137483336 -->\n<g class=\"edge\" id=\"edge76\">\n<title>140697137423528-&gt;140697137483336</title>\n<path d=\"M226.5225,-3285.4551C236.5502,-3276.4177 248.8509,-3265.3319 259.7714,-3255.4899\" fill=\"none\" stroke=\"#000000\"/>\n<polygon fill=\"#000000\" points=\"262.3419,-3257.885 267.4271,-3248.5904 257.6556,-3252.6852 262.3419,-3257.885\" stroke=\"#000000\"/>\n</g>\n<!-- 140697136854800 -->\n<g class=\"node\" id=\"node64\">\n<title>140697136854800</title>\n<polygon fill=\"none\" points=\"128.5,-3139.5 128.5,-3175.5 446.5,-3175.5 446.5,-3139.5 128.5,-3139.5\" stroke=\"#000000\"/>\n<text fill=\"#000000\" font-family=\"Times,serif\" font-size=\"14.00\" text-anchor=\"middle\" x=\"287.5\" y=\"-3153.8\">Encoder-7-FeedForward-Norm: LayerNormalization</text>\n</g>\n<!-- 140697137483336&#45;&gt;140697136854800 -->\n<g class=\"edge\" id=\"edge77\">\n<title>140697137483336-&gt;140697136854800</title>\n<path d=\"M287.5,-3212.4551C287.5,-3204.3828 287.5,-3194.6764 287.5,-3185.6817\" fill=\"none\" stroke=\"#000000\"/>\n<polygon fill=\"#000000\" points=\"291.0001,-3185.5903 287.5,-3175.5904 284.0001,-3185.5904 291.0001,-3185.5903\" stroke=\"#000000\"/>\n</g>\n<!-- 140697136856648 -->\n<g class=\"node\" id=\"node65\">\n<title>140697136856648</title>\n<polygon fill=\"none\" points=\"17.5,-3066.5 17.5,-3102.5 359.5,-3102.5 359.5,-3066.5 17.5,-3066.5\" stroke=\"#000000\"/>\n<text fill=\"#000000\" font-family=\"Times,serif\" font-size=\"14.00\" text-anchor=\"middle\" x=\"188.5\" y=\"-3080.8\">Encoder-8-MultiHeadSelfAttention: MultiHeadAttention</text>\n</g>\n<!-- 140697136854800&#45;&gt;140697136856648 -->\n<g class=\"edge\" id=\"edge78\">\n<title>140697136854800-&gt;140697136856648</title>\n<path d=\"M263.0281,-3139.4551C250.4149,-3130.1545 234.8597,-3118.6844 221.2286,-3108.6332\" fill=\"none\" stroke=\"#000000\"/>\n<polygon fill=\"#000000\" points=\"223.1592,-3105.7082 213.0335,-3102.5904 219.0049,-3111.3421 223.1592,-3105.7082\" stroke=\"#000000\"/>\n</g>\n<!-- 140697137004328 -->\n<g class=\"node\" id=\"node67\">\n<title>140697137004328</title>\n<polygon fill=\"none\" points=\"149,-2920.5 149,-2956.5 430,-2956.5 430,-2920.5 149,-2920.5\" stroke=\"#000000\"/>\n<text fill=\"#000000\" font-family=\"Times,serif\" font-size=\"14.00\" text-anchor=\"middle\" x=\"289.5\" y=\"-2934.8\">Encoder-8-MultiHeadSelfAttention-Add: Add</text>\n</g>\n<!-- 140697136854800&#45;&gt;140697137004328 -->\n<g class=\"edge\" id=\"edge80\">\n<title>140697136854800-&gt;140697137004328</title>\n<path d=\"M330.0685,-3139.3804C345.0065,-3130.7 360.1359,-3118.7088 368.5,-3103 376.5894,-3087.8071 374.2511,-3010.9102 364.5,-2993 357.7494,-2980.601 346.8204,-2970.3006 335.3687,-2962.1162\" fill=\"none\" stroke=\"#000000\"/>\n<polygon fill=\"#000000\" points=\"337.2521,-2959.1654 326.99,-2956.531 333.3694,-2964.9899 337.2521,-2959.1654\" stroke=\"#000000\"/>\n</g>\n<!-- 140697136950408 -->\n<g class=\"node\" id=\"node66\">\n<title>140697136950408</title>\n<polygon fill=\"none\" points=\"27,-2993.5 27,-3029.5 356,-3029.5 356,-2993.5 27,-2993.5\" stroke=\"#000000\"/>\n<text fill=\"#000000\" font-family=\"Times,serif\" font-size=\"14.00\" text-anchor=\"middle\" x=\"191.5\" y=\"-3007.8\">Encoder-8-MultiHeadSelfAttention-Dropout: Dropout</text>\n</g>\n<!-- 140697136856648&#45;&gt;140697136950408 -->\n<g class=\"edge\" id=\"edge79\">\n<title>140697136856648-&gt;140697136950408</title>\n<path d=\"M189.2416,-3066.4551C189.5733,-3058.3828 189.9722,-3048.6764 190.3418,-3039.6817\" fill=\"none\" stroke=\"#000000\"/>\n<polygon fill=\"#000000\" points=\"193.8429,-3039.7257 190.7566,-3029.5904 186.8488,-3039.4382 193.8429,-3039.7257\" stroke=\"#000000\"/>\n</g>\n<!-- 140697136950408&#45;&gt;140697137004328 -->\n<g class=\"edge\" id=\"edge81\">\n<title>140697136950408-&gt;140697137004328</title>\n<path d=\"M215.7247,-2993.4551C228.2105,-2984.1545 243.6086,-2972.6844 257.102,-2962.6332\" fill=\"none\" stroke=\"#000000\"/>\n<polygon fill=\"#000000\" points=\"259.2855,-2965.371 265.2143,-2956.5904 255.1039,-2959.7573 259.2855,-2965.371\" stroke=\"#000000\"/>\n</g>\n<!-- 140697135033648 -->\n<g class=\"node\" id=\"node68\">\n<title>140697135033648</title>\n<polygon fill=\"none\" points=\"99.5,-2847.5 99.5,-2883.5 479.5,-2883.5 479.5,-2847.5 99.5,-2847.5\" stroke=\"#000000\"/>\n<text fill=\"#000000\" font-family=\"Times,serif\" font-size=\"14.00\" text-anchor=\"middle\" x=\"289.5\" y=\"-2861.8\">Encoder-8-MultiHeadSelfAttention-Norm: LayerNormalization</text>\n</g>\n<!-- 140697137004328&#45;&gt;140697135033648 -->\n<g class=\"edge\" id=\"edge82\">\n<title>140697137004328-&gt;140697135033648</title>\n<path d=\"M289.5,-2920.4551C289.5,-2912.3828 289.5,-2902.6764 289.5,-2893.6817\" fill=\"none\" stroke=\"#000000\"/>\n<polygon fill=\"#000000\" points=\"293.0001,-2893.5903 289.5,-2883.5904 286.0001,-2893.5904 293.0001,-2893.5903\" stroke=\"#000000\"/>\n</g>\n<!-- 140697135087512 -->\n<g class=\"node\" id=\"node69\">\n<title>140697135087512</title>\n<polygon fill=\"none\" points=\"87.5,-2774.5 87.5,-2810.5 329.5,-2810.5 329.5,-2774.5 87.5,-2774.5\" stroke=\"#000000\"/>\n<text fill=\"#000000\" font-family=\"Times,serif\" font-size=\"14.00\" text-anchor=\"middle\" x=\"208.5\" y=\"-2788.8\">Encoder-8-FeedForward: FeedForward</text>\n</g>\n<!-- 140697135033648&#45;&gt;140697135087512 -->\n<g class=\"edge\" id=\"edge83\">\n<title>140697135033648-&gt;140697135087512</title>\n<path d=\"M269.4775,-2847.4551C259.4498,-2838.4177 247.1491,-2827.3319 236.2286,-2817.4899\" fill=\"none\" stroke=\"#000000\"/>\n<polygon fill=\"#000000\" points=\"238.3444,-2814.6852 228.5729,-2810.5904 233.6581,-2819.885 238.3444,-2814.6852\" stroke=\"#000000\"/>\n</g>\n<!-- 140697135177456 -->\n<g class=\"node\" id=\"node71\">\n<title>140697135177456</title>\n<polygon fill=\"none\" points=\"173.5,-2628.5 173.5,-2664.5 393.5,-2664.5 393.5,-2628.5 173.5,-2628.5\" stroke=\"#000000\"/>\n<text fill=\"#000000\" font-family=\"Times,serif\" font-size=\"14.00\" text-anchor=\"middle\" x=\"283.5\" y=\"-2642.8\">Encoder-8-FeedForward-Add: Add</text>\n</g>\n<!-- 140697135033648&#45;&gt;140697135177456 -->\n<g class=\"edge\" id=\"edge85\">\n<title>140697135033648-&gt;140697135177456</title>\n<path d=\"M311.3471,-2847.291C321.3936,-2837.6134 332.4097,-2824.8624 338.5,-2811 358.2044,-2766.1498 365.6917,-2745.6329 345.5,-2701 340.2852,-2689.4728 331.2939,-2679.4147 321.751,-2671.1833\" fill=\"none\" stroke=\"#000000\"/>\n<polygon fill=\"#000000\" points=\"323.6666,-2668.2331 313.676,-2664.7064 319.2868,-2673.6936 323.6666,-2668.2331\" stroke=\"#000000\"/>\n</g>\n<!-- 140697135126008 -->\n<g class=\"node\" id=\"node70\">\n<title>140697135126008</title>\n<polygon fill=\"none\" points=\"69,-2701.5 69,-2737.5 336,-2737.5 336,-2701.5 69,-2701.5\" stroke=\"#000000\"/>\n<text fill=\"#000000\" font-family=\"Times,serif\" font-size=\"14.00\" text-anchor=\"middle\" x=\"202.5\" y=\"-2715.8\">Encoder-8-FeedForward-Dropout: Dropout</text>\n</g>\n<!-- 140697135087512&#45;&gt;140697135126008 -->\n<g class=\"edge\" id=\"edge84\">\n<title>140697135087512-&gt;140697135126008</title>\n<path d=\"M207.0169,-2774.4551C206.3534,-2766.3828 205.5556,-2756.6764 204.8163,-2747.6817\" fill=\"none\" stroke=\"#000000\"/>\n<polygon fill=\"#000000\" points=\"208.2944,-2747.27 203.9869,-2737.5904 201.3179,-2747.8435 208.2944,-2747.27\" stroke=\"#000000\"/>\n</g>\n<!-- 140697135126008&#45;&gt;140697135177456 -->\n<g class=\"edge\" id=\"edge86\">\n<title>140697135126008-&gt;140697135177456</title>\n<path d=\"M222.5225,-2701.4551C232.5502,-2692.4177 244.8509,-2681.3319 255.7714,-2671.4899\" fill=\"none\" stroke=\"#000000\"/>\n<polygon fill=\"#000000\" points=\"258.3419,-2673.885 263.4271,-2664.5904 253.6556,-2668.6852 258.3419,-2673.885\" stroke=\"#000000\"/>\n</g>\n<!-- 140697134824640 -->\n<g class=\"node\" id=\"node72\">\n<title>140697134824640</title>\n<polygon fill=\"none\" points=\"124.5,-2555.5 124.5,-2591.5 442.5,-2591.5 442.5,-2555.5 124.5,-2555.5\" stroke=\"#000000\"/>\n<text fill=\"#000000\" font-family=\"Times,serif\" font-size=\"14.00\" text-anchor=\"middle\" x=\"283.5\" y=\"-2569.8\">Encoder-8-FeedForward-Norm: LayerNormalization</text>\n</g>\n<!-- 140697135177456&#45;&gt;140697134824640 -->\n<g class=\"edge\" id=\"edge87\">\n<title>140697135177456-&gt;140697134824640</title>\n<path d=\"M283.5,-2628.4551C283.5,-2620.3828 283.5,-2610.6764 283.5,-2601.6817\" fill=\"none\" stroke=\"#000000\"/>\n<polygon fill=\"#000000\" points=\"287.0001,-2601.5903 283.5,-2591.5904 280.0001,-2601.5904 287.0001,-2601.5903\" stroke=\"#000000\"/>\n</g>\n<!-- 140697134895056 -->\n<g class=\"node\" id=\"node73\">\n<title>140697134895056</title>\n<polygon fill=\"none\" points=\"13.5,-2482.5 13.5,-2518.5 355.5,-2518.5 355.5,-2482.5 13.5,-2482.5\" stroke=\"#000000\"/>\n<text fill=\"#000000\" font-family=\"Times,serif\" font-size=\"14.00\" text-anchor=\"middle\" x=\"184.5\" y=\"-2496.8\">Encoder-9-MultiHeadSelfAttention: MultiHeadAttention</text>\n</g>\n<!-- 140697134824640&#45;&gt;140697134895056 -->\n<g class=\"edge\" id=\"edge88\">\n<title>140697134824640-&gt;140697134895056</title>\n<path d=\"M259.0281,-2555.4551C246.4149,-2546.1545 230.8597,-2534.6844 217.2286,-2524.6332\" fill=\"none\" stroke=\"#000000\"/>\n<polygon fill=\"#000000\" points=\"219.1592,-2521.7082 209.0335,-2518.5904 215.0049,-2527.3421 219.1592,-2521.7082\" stroke=\"#000000\"/>\n</g>\n<!-- 140697111010496 -->\n<g class=\"node\" id=\"node75\">\n<title>140697111010496</title>\n<polygon fill=\"none\" points=\"145,-2336.5 145,-2372.5 426,-2372.5 426,-2336.5 145,-2336.5\" stroke=\"#000000\"/>\n<text fill=\"#000000\" font-family=\"Times,serif\" font-size=\"14.00\" text-anchor=\"middle\" x=\"285.5\" y=\"-2350.8\">Encoder-9-MultiHeadSelfAttention-Add: Add</text>\n</g>\n<!-- 140697134824640&#45;&gt;140697111010496 -->\n<g class=\"edge\" id=\"edge90\">\n<title>140697134824640-&gt;140697111010496</title>\n<path d=\"M326.0685,-2555.3804C341.0065,-2546.7 356.1359,-2534.7088 364.5,-2519 372.5894,-2503.8071 370.2511,-2426.9102 360.5,-2409 353.7494,-2396.601 342.8204,-2386.3006 331.3687,-2378.1162\" fill=\"none\" stroke=\"#000000\"/>\n<polygon fill=\"#000000\" points=\"333.2521,-2375.1654 322.99,-2372.531 329.3694,-2380.9899 333.2521,-2375.1654\" stroke=\"#000000\"/>\n</g>\n<!-- 140697134912512 -->\n<g class=\"node\" id=\"node74\">\n<title>140697134912512</title>\n<polygon fill=\"none\" points=\"23,-2409.5 23,-2445.5 352,-2445.5 352,-2409.5 23,-2409.5\" stroke=\"#000000\"/>\n<text fill=\"#000000\" font-family=\"Times,serif\" font-size=\"14.00\" text-anchor=\"middle\" x=\"187.5\" y=\"-2423.8\">Encoder-9-MultiHeadSelfAttention-Dropout: Dropout</text>\n</g>\n<!-- 140697134895056&#45;&gt;140697134912512 -->\n<g class=\"edge\" id=\"edge89\">\n<title>140697134895056-&gt;140697134912512</title>\n<path d=\"M185.2416,-2482.4551C185.5733,-2474.3828 185.9722,-2464.6764 186.3418,-2455.6817\" fill=\"none\" stroke=\"#000000\"/>\n<polygon fill=\"#000000\" points=\"189.8429,-2455.7257 186.7566,-2445.5904 182.8488,-2455.4382 189.8429,-2455.7257\" stroke=\"#000000\"/>\n</g>\n<!-- 140697134912512&#45;&gt;140697111010496 -->\n<g class=\"edge\" id=\"edge91\">\n<title>140697134912512-&gt;140697111010496</title>\n<path d=\"M211.7247,-2409.4551C224.2105,-2400.1545 239.6086,-2388.6844 253.102,-2378.6332\" fill=\"none\" stroke=\"#000000\"/>\n<polygon fill=\"#000000\" points=\"255.2855,-2381.371 261.2143,-2372.5904 251.1039,-2375.7573 255.2855,-2381.371\" stroke=\"#000000\"/>\n</g>\n<!-- 140697110597528 -->\n<g class=\"node\" id=\"node76\">\n<title>140697110597528</title>\n<polygon fill=\"none\" points=\"95.5,-2263.5 95.5,-2299.5 475.5,-2299.5 475.5,-2263.5 95.5,-2263.5\" stroke=\"#000000\"/>\n<text fill=\"#000000\" font-family=\"Times,serif\" font-size=\"14.00\" text-anchor=\"middle\" x=\"285.5\" y=\"-2277.8\">Encoder-9-MultiHeadSelfAttention-Norm: LayerNormalization</text>\n</g>\n<!-- 140697111010496&#45;&gt;140697110597528 -->\n<g class=\"edge\" id=\"edge92\">\n<title>140697111010496-&gt;140697110597528</title>\n<path d=\"M285.5,-2336.4551C285.5,-2328.3828 285.5,-2318.6764 285.5,-2309.6817\" fill=\"none\" stroke=\"#000000\"/>\n<polygon fill=\"#000000\" points=\"289.0001,-2309.5903 285.5,-2299.5904 282.0001,-2309.5904 289.0001,-2309.5903\" stroke=\"#000000\"/>\n</g>\n<!-- 140697110662616 -->\n<g class=\"node\" id=\"node77\">\n<title>140697110662616</title>\n<polygon fill=\"none\" points=\"83.5,-2190.5 83.5,-2226.5 325.5,-2226.5 325.5,-2190.5 83.5,-2190.5\" stroke=\"#000000\"/>\n<text fill=\"#000000\" font-family=\"Times,serif\" font-size=\"14.00\" text-anchor=\"middle\" x=\"204.5\" y=\"-2204.8\">Encoder-9-FeedForward: FeedForward</text>\n</g>\n<!-- 140697110597528&#45;&gt;140697110662616 -->\n<g class=\"edge\" id=\"edge93\">\n<title>140697110597528-&gt;140697110662616</title>\n<path d=\"M265.4775,-2263.4551C255.4498,-2254.4177 243.1491,-2243.3319 232.2286,-2233.4899\" fill=\"none\" stroke=\"#000000\"/>\n<polygon fill=\"#000000\" points=\"234.3444,-2230.6852 224.5729,-2226.5904 229.6581,-2235.885 234.3444,-2230.6852\" stroke=\"#000000\"/>\n</g>\n<!-- 140697110232200 -->\n<g class=\"node\" id=\"node79\">\n<title>140697110232200</title>\n<polygon fill=\"none\" points=\"169.5,-2044.5 169.5,-2080.5 389.5,-2080.5 389.5,-2044.5 169.5,-2044.5\" stroke=\"#000000\"/>\n<text fill=\"#000000\" font-family=\"Times,serif\" font-size=\"14.00\" text-anchor=\"middle\" x=\"279.5\" y=\"-2058.8\">Encoder-9-FeedForward-Add: Add</text>\n</g>\n<!-- 140697110597528&#45;&gt;140697110232200 -->\n<g class=\"edge\" id=\"edge95\">\n<title>140697110597528-&gt;140697110232200</title>\n<path d=\"M307.3471,-2263.291C317.3936,-2253.6134 328.4097,-2240.8624 334.5,-2227 354.2044,-2182.1498 361.6917,-2161.6329 341.5,-2117 336.2852,-2105.4728 327.2939,-2095.4147 317.751,-2087.1833\" fill=\"none\" stroke=\"#000000\"/>\n<polygon fill=\"#000000\" points=\"319.6666,-2084.2331 309.676,-2080.7064 315.2868,-2089.6936 319.6666,-2084.2331\" stroke=\"#000000\"/>\n</g>\n<!-- 140697110695160 -->\n<g class=\"node\" id=\"node78\">\n<title>140697110695160</title>\n<polygon fill=\"none\" points=\"65,-2117.5 65,-2153.5 332,-2153.5 332,-2117.5 65,-2117.5\" stroke=\"#000000\"/>\n<text fill=\"#000000\" font-family=\"Times,serif\" font-size=\"14.00\" text-anchor=\"middle\" x=\"198.5\" y=\"-2131.8\">Encoder-9-FeedForward-Dropout: Dropout</text>\n</g>\n<!-- 140697110662616&#45;&gt;140697110695160 -->\n<g class=\"edge\" id=\"edge94\">\n<title>140697110662616-&gt;140697110695160</title>\n<path d=\"M203.0169,-2190.4551C202.3534,-2182.3828 201.5556,-2172.6764 200.8163,-2163.6817\" fill=\"none\" stroke=\"#000000\"/>\n<polygon fill=\"#000000\" points=\"204.2944,-2163.27 199.9869,-2153.5904 197.3179,-2163.8435 204.2944,-2163.27\" stroke=\"#000000\"/>\n</g>\n<!-- 140697110695160&#45;&gt;140697110232200 -->\n<g class=\"edge\" id=\"edge96\">\n<title>140697110695160-&gt;140697110232200</title>\n<path d=\"M218.5225,-2117.4551C228.5502,-2108.4177 240.8509,-2097.3319 251.7714,-2087.4899\" fill=\"none\" stroke=\"#000000\"/>\n<polygon fill=\"#000000\" points=\"254.3419,-2089.885 259.4271,-2080.5904 249.6556,-2084.6852 254.3419,-2089.885\" stroke=\"#000000\"/>\n</g>\n<!-- 140697110392000 -->\n<g class=\"node\" id=\"node80\">\n<title>140697110392000</title>\n<polygon fill=\"none\" points=\"120.5,-1971.5 120.5,-2007.5 438.5,-2007.5 438.5,-1971.5 120.5,-1971.5\" stroke=\"#000000\"/>\n<text fill=\"#000000\" font-family=\"Times,serif\" font-size=\"14.00\" text-anchor=\"middle\" x=\"279.5\" y=\"-1985.8\">Encoder-9-FeedForward-Norm: LayerNormalization</text>\n</g>\n<!-- 140697110232200&#45;&gt;140697110392000 -->\n<g class=\"edge\" id=\"edge97\">\n<title>140697110232200-&gt;140697110392000</title>\n<path d=\"M279.5,-2044.4551C279.5,-2036.3828 279.5,-2026.6764 279.5,-2017.6817\" fill=\"none\" stroke=\"#000000\"/>\n<polygon fill=\"#000000\" points=\"283.0001,-2017.5903 279.5,-2007.5904 276.0001,-2017.5904 283.0001,-2017.5903\" stroke=\"#000000\"/>\n</g>\n<!-- 140697110392336 -->\n<g class=\"node\" id=\"node81\">\n<title>140697110392336</title>\n<polygon fill=\"none\" points=\"3.5,-1898.5 3.5,-1934.5 353.5,-1934.5 353.5,-1898.5 3.5,-1898.5\" stroke=\"#000000\"/>\n<text fill=\"#000000\" font-family=\"Times,serif\" font-size=\"14.00\" text-anchor=\"middle\" x=\"178.5\" y=\"-1912.8\">Encoder-10-MultiHeadSelfAttention: MultiHeadAttention</text>\n</g>\n<!-- 140697110392000&#45;&gt;140697110392336 -->\n<g class=\"edge\" id=\"edge98\">\n<title>140697110392000-&gt;140697110392336</title>\n<path d=\"M254.5337,-1971.4551C241.6658,-1962.1545 225.7962,-1950.6844 211.8898,-1940.6332\" fill=\"none\" stroke=\"#000000\"/>\n<polygon fill=\"#000000\" points=\"213.6841,-1937.6116 203.5291,-1934.5904 209.5836,-1943.2849 213.6841,-1937.6116\" stroke=\"#000000\"/>\n</g>\n<!-- 140697110022744 -->\n<g class=\"node\" id=\"node83\">\n<title>140697110022744</title>\n<polygon fill=\"none\" points=\"137,-1752.5 137,-1788.5 426,-1788.5 426,-1752.5 137,-1752.5\" stroke=\"#000000\"/>\n<text fill=\"#000000\" font-family=\"Times,serif\" font-size=\"14.00\" text-anchor=\"middle\" x=\"281.5\" y=\"-1766.8\">Encoder-10-MultiHeadSelfAttention-Add: Add</text>\n</g>\n<!-- 140697110392000&#45;&gt;140697110022744 -->\n<g class=\"edge\" id=\"edge100\">\n<title>140697110392000-&gt;140697110022744</title>\n<path d=\"M323.5299,-1971.3618C338.6906,-1962.7299 353.9854,-1950.7771 362.5,-1935 370.6814,-1919.8405 368.4328,-1842.9762 358.5,-1825 351.6163,-1812.542 340.5325,-1802.2616 328.8935,-1794.116\" fill=\"none\" stroke=\"#000000\"/>\n<polygon fill=\"#000000\" points=\"330.6612,-1791.0903 320.3726,-1788.5614 326.8385,-1796.9544 330.6612,-1791.0903\" stroke=\"#000000\"/>\n</g>\n<!-- 140697109927920 -->\n<g class=\"node\" id=\"node82\">\n<title>140697109927920</title>\n<polygon fill=\"none\" points=\"13.5,-1825.5 13.5,-1861.5 349.5,-1861.5 349.5,-1825.5 13.5,-1825.5\" stroke=\"#000000\"/>\n<text fill=\"#000000\" font-family=\"Times,serif\" font-size=\"14.00\" text-anchor=\"middle\" x=\"181.5\" y=\"-1839.8\">Encoder-10-MultiHeadSelfAttention-Dropout: Dropout</text>\n</g>\n<!-- 140697110392336&#45;&gt;140697109927920 -->\n<g class=\"edge\" id=\"edge99\">\n<title>140697110392336-&gt;140697109927920</title>\n<path d=\"M179.2416,-1898.4551C179.5733,-1890.3828 179.9722,-1880.6764 180.3418,-1871.6817\" fill=\"none\" stroke=\"#000000\"/>\n<polygon fill=\"#000000\" points=\"183.8429,-1871.7257 180.7566,-1861.5904 176.8488,-1871.4382 183.8429,-1871.7257\" stroke=\"#000000\"/>\n</g>\n<!-- 140697109927920&#45;&gt;140697110022744 -->\n<g class=\"edge\" id=\"edge101\">\n<title>140697109927920-&gt;140697110022744</title>\n<path d=\"M206.2191,-1825.4551C218.9597,-1816.1545 234.6721,-1804.6844 248.4408,-1794.6332\" fill=\"none\" stroke=\"#000000\"/>\n<polygon fill=\"#000000\" points=\"250.7055,-1797.3134 256.7187,-1788.5904 246.5781,-1791.6596 250.7055,-1797.3134\" stroke=\"#000000\"/>\n</g>\n<!-- 140697109622176 -->\n<g class=\"node\" id=\"node84\">\n<title>140697109622176</title>\n<polygon fill=\"none\" points=\"88,-1679.5 88,-1715.5 475,-1715.5 475,-1679.5 88,-1679.5\" stroke=\"#000000\"/>\n<text fill=\"#000000\" font-family=\"Times,serif\" font-size=\"14.00\" text-anchor=\"middle\" x=\"281.5\" y=\"-1693.8\">Encoder-10-MultiHeadSelfAttention-Norm: LayerNormalization</text>\n</g>\n<!-- 140697110022744&#45;&gt;140697109622176 -->\n<g class=\"edge\" id=\"edge102\">\n<title>140697110022744-&gt;140697109622176</title>\n<path d=\"M281.5,-1752.4551C281.5,-1744.3828 281.5,-1734.6764 281.5,-1725.6817\" fill=\"none\" stroke=\"#000000\"/>\n<polygon fill=\"#000000\" points=\"285.0001,-1725.5903 281.5,-1715.5904 278.0001,-1725.5904 285.0001,-1725.5903\" stroke=\"#000000\"/>\n</g>\n<!-- 140697109621840 -->\n<g class=\"node\" id=\"node85\">\n<title>140697109621840</title>\n<polygon fill=\"none\" points=\"74,-1606.5 74,-1642.5 323,-1642.5 323,-1606.5 74,-1606.5\" stroke=\"#000000\"/>\n<text fill=\"#000000\" font-family=\"Times,serif\" font-size=\"14.00\" text-anchor=\"middle\" x=\"198.5\" y=\"-1620.8\">Encoder-10-FeedForward: FeedForward</text>\n</g>\n<!-- 140697109622176&#45;&gt;140697109621840 -->\n<g class=\"edge\" id=\"edge103\">\n<title>140697109622176-&gt;140697109621840</title>\n<path d=\"M260.9831,-1679.4551C250.608,-1670.3299 237.8584,-1659.1165 226.5877,-1649.2036\" fill=\"none\" stroke=\"#000000\"/>\n<polygon fill=\"#000000\" points=\"228.8889,-1646.5665 219.0685,-1642.5904 224.2659,-1651.8228 228.8889,-1646.5665\" stroke=\"#000000\"/>\n</g>\n<!-- 140697109252640 -->\n<g class=\"node\" id=\"node87\">\n<title>140697109252640</title>\n<polygon fill=\"none\" points=\"162,-1460.5 162,-1496.5 389,-1496.5 389,-1460.5 162,-1460.5\" stroke=\"#000000\"/>\n<text fill=\"#000000\" font-family=\"Times,serif\" font-size=\"14.00\" text-anchor=\"middle\" x=\"275.5\" y=\"-1474.8\">Encoder-10-FeedForward-Add: Add</text>\n</g>\n<!-- 140697109622176&#45;&gt;140697109252640 -->\n<g class=\"edge\" id=\"edge105\">\n<title>140697109622176-&gt;140697109252640</title>\n<path d=\"M303.7102,-1679.3371C313.9414,-1669.6709 325.1891,-1656.916 331.5,-1643 351.745,-1598.358 360.0543,-1577.5004 339.5,-1533 334.0436,-1521.1867 324.6242,-1510.9911 314.6643,-1502.7193\" fill=\"none\" stroke=\"#000000\"/>\n<polygon fill=\"#000000\" points=\"316.678,-1499.8521 306.6262,-1496.5038 312.396,-1505.3897 316.678,-1499.8521\" stroke=\"#000000\"/>\n</g>\n<!-- 140697109174200 -->\n<g class=\"node\" id=\"node86\">\n<title>140697109174200</title>\n<polygon fill=\"none\" points=\"55,-1533.5 55,-1569.5 330,-1569.5 330,-1533.5 55,-1533.5\" stroke=\"#000000\"/>\n<text fill=\"#000000\" font-family=\"Times,serif\" font-size=\"14.00\" text-anchor=\"middle\" x=\"192.5\" y=\"-1547.8\">Encoder-10-FeedForward-Dropout: Dropout</text>\n</g>\n<!-- 140697109621840&#45;&gt;140697109174200 -->\n<g class=\"edge\" id=\"edge104\">\n<title>140697109621840-&gt;140697109174200</title>\n<path d=\"M197.0169,-1606.4551C196.3534,-1598.3828 195.5556,-1588.6764 194.8163,-1579.6817\" fill=\"none\" stroke=\"#000000\"/>\n<polygon fill=\"#000000\" points=\"198.2944,-1579.27 193.9869,-1569.5904 191.3179,-1579.8435 198.2944,-1579.27\" stroke=\"#000000\"/>\n</g>\n<!-- 140697109174200&#45;&gt;140697109252640 -->\n<g class=\"edge\" id=\"edge106\">\n<title>140697109174200-&gt;140697109252640</title>\n<path d=\"M213.0169,-1533.4551C223.392,-1524.3299 236.1416,-1513.1165 247.4123,-1503.2036\" fill=\"none\" stroke=\"#000000\"/>\n<polygon fill=\"#000000\" points=\"249.7341,-1505.8228 254.9315,-1496.5904 245.1111,-1500.5665 249.7341,-1505.8228\" stroke=\"#000000\"/>\n</g>\n<!-- 140697108901168 -->\n<g class=\"node\" id=\"node88\">\n<title>140697108901168</title>\n<polygon fill=\"none\" points=\"112.5,-1387.5 112.5,-1423.5 438.5,-1423.5 438.5,-1387.5 112.5,-1387.5\" stroke=\"#000000\"/>\n<text fill=\"#000000\" font-family=\"Times,serif\" font-size=\"14.00\" text-anchor=\"middle\" x=\"275.5\" y=\"-1401.8\">Encoder-10-FeedForward-Norm: LayerNormalization</text>\n</g>\n<!-- 140697109252640&#45;&gt;140697108901168 -->\n<g class=\"edge\" id=\"edge107\">\n<title>140697109252640-&gt;140697108901168</title>\n<path d=\"M275.5,-1460.4551C275.5,-1452.3828 275.5,-1442.6764 275.5,-1433.6817\" fill=\"none\" stroke=\"#000000\"/>\n<polygon fill=\"#000000\" points=\"279.0001,-1433.5903 275.5,-1423.5904 272.0001,-1433.5904 279.0001,-1433.5903\" stroke=\"#000000\"/>\n</g>\n<!-- 140697108900384 -->\n<g class=\"node\" id=\"node89\">\n<title>140697108900384</title>\n<polygon fill=\"none\" points=\"0,-1314.5 0,-1350.5 349,-1350.5 349,-1314.5 0,-1314.5\" stroke=\"#000000\"/>\n<text fill=\"#000000\" font-family=\"Times,serif\" font-size=\"14.00\" text-anchor=\"middle\" x=\"174.5\" y=\"-1328.8\">Encoder-11-MultiHeadSelfAttention: MultiHeadAttention</text>\n</g>\n<!-- 140697108901168&#45;&gt;140697108900384 -->\n<g class=\"edge\" id=\"edge108\">\n<title>140697108901168-&gt;140697108900384</title>\n<path d=\"M250.5337,-1387.4551C237.6658,-1378.1545 221.7962,-1366.6844 207.8898,-1356.6332\" fill=\"none\" stroke=\"#000000\"/>\n<polygon fill=\"#000000\" points=\"209.6841,-1353.6116 199.5291,-1350.5904 205.5836,-1359.2849 209.6841,-1353.6116\" stroke=\"#000000\"/>\n</g>\n<!-- 140697109043184 -->\n<g class=\"node\" id=\"node91\">\n<title>140697109043184</title>\n<polygon fill=\"none\" points=\"133.5,-1168.5 133.5,-1204.5 421.5,-1204.5 421.5,-1168.5 133.5,-1168.5\" stroke=\"#000000\"/>\n<text fill=\"#000000\" font-family=\"Times,serif\" font-size=\"14.00\" text-anchor=\"middle\" x=\"277.5\" y=\"-1182.8\">Encoder-11-MultiHeadSelfAttention-Add: Add</text>\n</g>\n<!-- 140697108901168&#45;&gt;140697109043184 -->\n<g class=\"edge\" id=\"edge110\">\n<title>140697108901168-&gt;140697109043184</title>\n<path d=\"M319.5299,-1387.3618C334.6906,-1378.7299 349.9854,-1366.7771 358.5,-1351 366.6814,-1335.8405 364.4328,-1258.9762 354.5,-1241 347.6163,-1228.542 336.5325,-1218.2616 324.8935,-1210.116\" fill=\"none\" stroke=\"#000000\"/>\n<polygon fill=\"#000000\" points=\"326.6612,-1207.0903 316.3726,-1204.5614 322.8385,-1212.9544 326.6612,-1207.0903\" stroke=\"#000000\"/>\n</g>\n<!-- 140697108953856 -->\n<g class=\"node\" id=\"node90\">\n<title>140697108953856</title>\n<polygon fill=\"none\" points=\"10,-1241.5 10,-1277.5 345,-1277.5 345,-1241.5 10,-1241.5\" stroke=\"#000000\"/>\n<text fill=\"#000000\" font-family=\"Times,serif\" font-size=\"14.00\" text-anchor=\"middle\" x=\"177.5\" y=\"-1255.8\">Encoder-11-MultiHeadSelfAttention-Dropout: Dropout</text>\n</g>\n<!-- 140697108900384&#45;&gt;140697108953856 -->\n<g class=\"edge\" id=\"edge109\">\n<title>140697108900384-&gt;140697108953856</title>\n<path d=\"M175.2416,-1314.4551C175.5733,-1306.3828 175.9722,-1296.6764 176.3418,-1287.6817\" fill=\"none\" stroke=\"#000000\"/>\n<polygon fill=\"#000000\" points=\"179.8429,-1287.7257 176.7566,-1277.5904 172.8488,-1287.4382 179.8429,-1287.7257\" stroke=\"#000000\"/>\n</g>\n<!-- 140697108953856&#45;&gt;140697109043184 -->\n<g class=\"edge\" id=\"edge111\">\n<title>140697108953856-&gt;140697109043184</title>\n<path d=\"M202.2191,-1241.4551C214.9597,-1232.1545 230.6721,-1220.6844 244.4408,-1210.6332\" fill=\"none\" stroke=\"#000000\"/>\n<polygon fill=\"#000000\" points=\"246.7055,-1213.3134 252.7187,-1204.5904 242.5781,-1207.6596 246.7055,-1213.3134\" stroke=\"#000000\"/>\n</g>\n<!-- 140697108094424 -->\n<g class=\"node\" id=\"node92\">\n<title>140697108094424</title>\n<polygon fill=\"none\" points=\"84.5,-1095.5 84.5,-1131.5 470.5,-1131.5 470.5,-1095.5 84.5,-1095.5\" stroke=\"#000000\"/>\n<text fill=\"#000000\" font-family=\"Times,serif\" font-size=\"14.00\" text-anchor=\"middle\" x=\"277.5\" y=\"-1109.8\">Encoder-11-MultiHeadSelfAttention-Norm: LayerNormalization</text>\n</g>\n<!-- 140697109043184&#45;&gt;140697108094424 -->\n<g class=\"edge\" id=\"edge112\">\n<title>140697109043184-&gt;140697108094424</title>\n<path d=\"M277.5,-1168.4551C277.5,-1160.3828 277.5,-1150.6764 277.5,-1141.6817\" fill=\"none\" stroke=\"#000000\"/>\n<polygon fill=\"#000000\" points=\"281.0001,-1141.5903 277.5,-1131.5904 274.0001,-1141.5904 281.0001,-1141.5903\" stroke=\"#000000\"/>\n</g>\n<!-- 140697108118328 -->\n<g class=\"node\" id=\"node93\">\n<title>140697108118328</title>\n<polygon fill=\"none\" points=\"77.5,-1022.5 77.5,-1058.5 325.5,-1058.5 325.5,-1022.5 77.5,-1022.5\" stroke=\"#000000\"/>\n<text fill=\"#000000\" font-family=\"Times,serif\" font-size=\"14.00\" text-anchor=\"middle\" x=\"201.5\" y=\"-1036.8\">Encoder-11-FeedForward: FeedForward</text>\n</g>\n<!-- 140697108094424&#45;&gt;140697108118328 -->\n<g class=\"edge\" id=\"edge113\">\n<title>140697108094424-&gt;140697108118328</title>\n<path d=\"M258.7135,-1095.4551C249.3961,-1086.5054 237.9873,-1075.547 227.8157,-1065.7769\" fill=\"none\" stroke=\"#000000\"/>\n<polygon fill=\"#000000\" points=\"229.9704,-1062.9935 220.3338,-1058.5904 225.1212,-1068.0419 229.9704,-1062.9935\" stroke=\"#000000\"/>\n</g>\n<!-- 140697108277176 -->\n<g class=\"node\" id=\"node95\">\n<title>140697108277176</title>\n<polygon fill=\"none\" points=\"163,-876.5 163,-912.5 390,-912.5 390,-876.5 163,-876.5\" stroke=\"#000000\"/>\n<text fill=\"#000000\" font-family=\"Times,serif\" font-size=\"14.00\" text-anchor=\"middle\" x=\"276.5\" y=\"-890.8\">Encoder-11-FeedForward-Add: Add</text>\n</g>\n<!-- 140697108094424&#45;&gt;140697108277176 -->\n<g class=\"edge\" id=\"edge115\">\n<title>140697108094424-&gt;140697108277176</title>\n<path d=\"M303.8634,-1095.2916C315.3206,-1085.8699 327.6647,-1073.3358 334.5,-1059 355.572,-1014.8049 361.0306,-993.4492 340.5,-949 335.0436,-937.1867 325.6242,-926.9911 315.6643,-918.7193\" fill=\"none\" stroke=\"#000000\"/>\n<polygon fill=\"#000000\" points=\"317.678,-915.8521 307.6262,-912.5038 313.396,-921.3897 317.678,-915.8521\" stroke=\"#000000\"/>\n</g>\n<!-- 140697108171520 -->\n<g class=\"node\" id=\"node94\">\n<title>140697108171520</title>\n<polygon fill=\"none\" points=\"57.5,-949.5 57.5,-985.5 331.5,-985.5 331.5,-949.5 57.5,-949.5\" stroke=\"#000000\"/>\n<text fill=\"#000000\" font-family=\"Times,serif\" font-size=\"14.00\" text-anchor=\"middle\" x=\"194.5\" y=\"-963.8\">Encoder-11-FeedForward-Dropout: Dropout</text>\n</g>\n<!-- 140697108118328&#45;&gt;140697108171520 -->\n<g class=\"edge\" id=\"edge114\">\n<title>140697108118328-&gt;140697108171520</title>\n<path d=\"M199.7697,-1022.4551C198.9956,-1014.3828 198.0649,-1004.6764 197.2024,-995.6817\" fill=\"none\" stroke=\"#000000\"/>\n<polygon fill=\"#000000\" points=\"200.6733,-995.2106 196.2347,-985.5904 193.7053,-995.8788 200.6733,-995.2106\" stroke=\"#000000\"/>\n</g>\n<!-- 140697108171520&#45;&gt;140697108277176 -->\n<g class=\"edge\" id=\"edge116\">\n<title>140697108171520-&gt;140697108277176</title>\n<path d=\"M214.7697,-949.4551C224.9212,-940.4177 237.3738,-929.3319 248.4291,-919.4899\" fill=\"none\" stroke=\"#000000\"/>\n<polygon fill=\"#000000\" points=\"251.0375,-921.8539 256.1793,-912.5904 246.383,-916.6255 251.0375,-921.8539\" stroke=\"#000000\"/>\n</g>\n<!-- 140697107913472 -->\n<g class=\"node\" id=\"node96\">\n<title>140697107913472</title>\n<polygon fill=\"none\" points=\"114,-803.5 114,-839.5 439,-839.5 439,-803.5 114,-803.5\" stroke=\"#000000\"/>\n<text fill=\"#000000\" font-family=\"Times,serif\" font-size=\"14.00\" text-anchor=\"middle\" x=\"276.5\" y=\"-817.8\">Encoder-11-FeedForward-Norm: LayerNormalization</text>\n</g>\n<!-- 140697108277176&#45;&gt;140697107913472 -->\n<g class=\"edge\" id=\"edge117\">\n<title>140697108277176-&gt;140697107913472</title>\n<path d=\"M276.5,-876.4551C276.5,-868.3828 276.5,-858.6764 276.5,-849.6817\" fill=\"none\" stroke=\"#000000\"/>\n<polygon fill=\"#000000\" points=\"280.0001,-849.5903 276.5,-839.5904 273.0001,-849.5904 280.0001,-849.5903\" stroke=\"#000000\"/>\n</g>\n<!-- 140697107912688 -->\n<g class=\"node\" id=\"node97\">\n<title>140697107912688</title>\n<polygon fill=\"none\" points=\".5,-730.5 .5,-766.5 350.5,-766.5 350.5,-730.5 .5,-730.5\" stroke=\"#000000\"/>\n<text fill=\"#000000\" font-family=\"Times,serif\" font-size=\"14.00\" text-anchor=\"middle\" x=\"175.5\" y=\"-744.8\">Encoder-12-MultiHeadSelfAttention: MultiHeadAttention</text>\n</g>\n<!-- 140697107913472&#45;&gt;140697107912688 -->\n<g class=\"edge\" id=\"edge118\">\n<title>140697107913472-&gt;140697107912688</title>\n<path d=\"M251.5337,-803.4551C238.6658,-794.1545 222.7962,-782.6844 208.8898,-772.6332\" fill=\"none\" stroke=\"#000000\"/>\n<polygon fill=\"#000000\" points=\"210.6841,-769.6116 200.5291,-766.5904 206.5836,-775.2849 210.6841,-769.6116\" stroke=\"#000000\"/>\n</g>\n<!-- 140697108059304 -->\n<g class=\"node\" id=\"node99\">\n<title>140697108059304</title>\n<polygon fill=\"none\" points=\"134,-584.5 134,-620.5 423,-620.5 423,-584.5 134,-584.5\" stroke=\"#000000\"/>\n<text fill=\"#000000\" font-family=\"Times,serif\" font-size=\"14.00\" text-anchor=\"middle\" x=\"278.5\" y=\"-598.8\">Encoder-12-MultiHeadSelfAttention-Add: Add</text>\n</g>\n<!-- 140697107913472&#45;&gt;140697108059304 -->\n<g class=\"edge\" id=\"edge120\">\n<title>140697107913472-&gt;140697108059304</title>\n<path d=\"M320.5299,-803.3618C335.6906,-794.7299 350.9854,-782.7771 359.5,-767 367.6814,-751.8405 365.4328,-674.9762 355.5,-657 348.6163,-644.542 337.5325,-634.2616 325.8935,-626.116\" fill=\"none\" stroke=\"#000000\"/>\n<polygon fill=\"#000000\" points=\"327.6612,-623.0903 317.3726,-620.5614 323.8385,-628.9544 327.6612,-623.0903\" stroke=\"#000000\"/>\n</g>\n<!-- 140697107975920 -->\n<g class=\"node\" id=\"node98\">\n<title>140697107975920</title>\n<polygon fill=\"none\" points=\"10.5,-657.5 10.5,-693.5 346.5,-693.5 346.5,-657.5 10.5,-657.5\" stroke=\"#000000\"/>\n<text fill=\"#000000\" font-family=\"Times,serif\" font-size=\"14.00\" text-anchor=\"middle\" x=\"178.5\" y=\"-671.8\">Encoder-12-MultiHeadSelfAttention-Dropout: Dropout</text>\n</g>\n<!-- 140697107912688&#45;&gt;140697107975920 -->\n<g class=\"edge\" id=\"edge119\">\n<title>140697107912688-&gt;140697107975920</title>\n<path d=\"M176.2416,-730.4551C176.5733,-722.3828 176.9722,-712.6764 177.3418,-703.6817\" fill=\"none\" stroke=\"#000000\"/>\n<polygon fill=\"#000000\" points=\"180.8429,-703.7257 177.7566,-693.5904 173.8488,-703.4382 180.8429,-703.7257\" stroke=\"#000000\"/>\n</g>\n<!-- 140697107975920&#45;&gt;140697108059304 -->\n<g class=\"edge\" id=\"edge121\">\n<title>140697107975920-&gt;140697108059304</title>\n<path d=\"M203.2191,-657.4551C215.9597,-648.1545 231.6721,-636.6844 245.4408,-626.6332\" fill=\"none\" stroke=\"#000000\"/>\n<polygon fill=\"#000000\" points=\"247.7055,-629.3134 253.7187,-620.5904 243.5781,-623.6596 247.7055,-629.3134\" stroke=\"#000000\"/>\n</g>\n<!-- 140697107106616 -->\n<g class=\"node\" id=\"node100\">\n<title>140697107106616</title>\n<polygon fill=\"none\" points=\"85,-511.5 85,-547.5 472,-547.5 472,-511.5 85,-511.5\" stroke=\"#000000\"/>\n<text fill=\"#000000\" font-family=\"Times,serif\" font-size=\"14.00\" text-anchor=\"middle\" x=\"278.5\" y=\"-525.8\">Encoder-12-MultiHeadSelfAttention-Norm: LayerNormalization</text>\n</g>\n<!-- 140697108059304&#45;&gt;140697107106616 -->\n<g class=\"edge\" id=\"edge122\">\n<title>140697108059304-&gt;140697107106616</title>\n<path d=\"M278.5,-584.4551C278.5,-576.3828 278.5,-566.6764 278.5,-557.6817\" fill=\"none\" stroke=\"#000000\"/>\n<polygon fill=\"#000000\" points=\"282.0001,-557.5903 278.5,-547.5904 275.0001,-557.5904 282.0001,-557.5903\" stroke=\"#000000\"/>\n</g>\n<!-- 140697107107512 -->\n<g class=\"node\" id=\"node101\">\n<title>140697107107512</title>\n<polygon fill=\"none\" points=\"71,-438.5 71,-474.5 320,-474.5 320,-438.5 71,-438.5\" stroke=\"#000000\"/>\n<text fill=\"#000000\" font-family=\"Times,serif\" font-size=\"14.00\" text-anchor=\"middle\" x=\"195.5\" y=\"-452.8\">Encoder-12-FeedForward: FeedForward</text>\n</g>\n<!-- 140697107106616&#45;&gt;140697107107512 -->\n<g class=\"edge\" id=\"edge123\">\n<title>140697107106616-&gt;140697107107512</title>\n<path d=\"M257.9831,-511.4551C247.608,-502.3299 234.8584,-491.1165 223.5877,-481.2036\" fill=\"none\" stroke=\"#000000\"/>\n<polygon fill=\"#000000\" points=\"225.8889,-478.5665 216.0685,-474.5904 221.2659,-483.8228 225.8889,-478.5665\" stroke=\"#000000\"/>\n</g>\n<!-- 140697107289256 -->\n<g class=\"node\" id=\"node103\">\n<title>140697107289256</title>\n<polygon fill=\"none\" points=\"159,-292.5 159,-328.5 386,-328.5 386,-292.5 159,-292.5\" stroke=\"#000000\"/>\n<text fill=\"#000000\" font-family=\"Times,serif\" font-size=\"14.00\" text-anchor=\"middle\" x=\"272.5\" y=\"-306.8\">Encoder-12-FeedForward-Add: Add</text>\n</g>\n<!-- 140697107106616&#45;&gt;140697107289256 -->\n<g class=\"edge\" id=\"edge125\">\n<title>140697107106616-&gt;140697107289256</title>\n<path d=\"M300.7102,-511.3371C310.9414,-501.6709 322.1891,-488.916 328.5,-475 348.745,-430.358 357.0543,-409.5004 336.5,-365 331.0436,-353.1867 321.6242,-342.9911 311.6643,-334.7193\" fill=\"none\" stroke=\"#000000\"/>\n<polygon fill=\"#000000\" points=\"313.678,-331.8521 303.6262,-328.5038 309.396,-337.3897 313.678,-331.8521\" stroke=\"#000000\"/>\n</g>\n<!-- 140697107193472 -->\n<g class=\"node\" id=\"node102\">\n<title>140697107193472</title>\n<polygon fill=\"none\" points=\"52,-365.5 52,-401.5 327,-401.5 327,-365.5 52,-365.5\" stroke=\"#000000\"/>\n<text fill=\"#000000\" font-family=\"Times,serif\" font-size=\"14.00\" text-anchor=\"middle\" x=\"189.5\" y=\"-379.8\">Encoder-12-FeedForward-Dropout: Dropout</text>\n</g>\n<!-- 140697107107512&#45;&gt;140697107193472 -->\n<g class=\"edge\" id=\"edge124\">\n<title>140697107107512-&gt;140697107193472</title>\n<path d=\"M194.0169,-438.4551C193.3534,-430.3828 192.5556,-420.6764 191.8163,-411.6817\" fill=\"none\" stroke=\"#000000\"/>\n<polygon fill=\"#000000\" points=\"195.2944,-411.27 190.9869,-401.5904 188.3179,-411.8435 195.2944,-411.27\" stroke=\"#000000\"/>\n</g>\n<!-- 140697107193472&#45;&gt;140697107289256 -->\n<g class=\"edge\" id=\"edge126\">\n<title>140697107193472-&gt;140697107289256</title>\n<path d=\"M210.0169,-365.4551C220.392,-356.3299 233.1416,-345.1165 244.4123,-335.2036\" fill=\"none\" stroke=\"#000000\"/>\n<polygon fill=\"#000000\" points=\"246.7341,-337.8228 251.9315,-328.5904 242.1111,-332.5665 246.7341,-337.8228\" stroke=\"#000000\"/>\n</g>\n<!-- 140697106925720 -->\n<g class=\"node\" id=\"node104\">\n<title>140697106925720</title>\n<polygon fill=\"none\" points=\"109.5,-219.5 109.5,-255.5 435.5,-255.5 435.5,-219.5 109.5,-219.5\" stroke=\"#000000\"/>\n<text fill=\"#000000\" font-family=\"Times,serif\" font-size=\"14.00\" text-anchor=\"middle\" x=\"272.5\" y=\"-233.8\">Encoder-12-FeedForward-Norm: LayerNormalization</text>\n</g>\n<!-- 140697107289256&#45;&gt;140697106925720 -->\n<g class=\"edge\" id=\"edge127\">\n<title>140697107289256-&gt;140697106925720</title>\n<path d=\"M272.5,-292.4551C272.5,-284.3828 272.5,-274.6764 272.5,-265.6817\" fill=\"none\" stroke=\"#000000\"/>\n<polygon fill=\"#000000\" points=\"276.0001,-265.5903 272.5,-255.5904 269.0001,-265.5904 276.0001,-265.5903\" stroke=\"#000000\"/>\n</g>\n<!-- 140697106668288 -->\n<g class=\"node\" id=\"node105\">\n<title>140697106668288</title>\n<polygon fill=\"none\" points=\"220,-146.5 220,-182.5 325,-182.5 325,-146.5 220,-146.5\" stroke=\"#000000\"/>\n<text fill=\"#000000\" font-family=\"Times,serif\" font-size=\"14.00\" text-anchor=\"middle\" x=\"272.5\" y=\"-160.8\">Extract: Extract</text>\n</g>\n<!-- 140697106925720&#45;&gt;140697106668288 -->\n<g class=\"edge\" id=\"edge128\">\n<title>140697106925720-&gt;140697106668288</title>\n<path d=\"M272.5,-219.4551C272.5,-211.3828 272.5,-201.6764 272.5,-192.6817\" fill=\"none\" stroke=\"#000000\"/>\n<polygon fill=\"#000000\" points=\"276.0001,-192.5903 272.5,-182.5904 269.0001,-192.5904 276.0001,-192.5903\" stroke=\"#000000\"/>\n</g>\n<!-- 140697106769400 -->\n<g class=\"node\" id=\"node106\">\n<title>140697106769400</title>\n<polygon fill=\"none\" points=\"209.5,-73.5 209.5,-109.5 335.5,-109.5 335.5,-73.5 209.5,-73.5\" stroke=\"#000000\"/>\n<text fill=\"#000000\" font-family=\"Times,serif\" font-size=\"14.00\" text-anchor=\"middle\" x=\"272.5\" y=\"-87.8\">NSP-Dense: Dense</text>\n</g>\n<!-- 140697106668288&#45;&gt;140697106769400 -->\n<g class=\"edge\" id=\"edge129\">\n<title>140697106668288-&gt;140697106769400</title>\n<path d=\"M272.5,-146.4551C272.5,-138.3828 272.5,-128.6764 272.5,-119.6817\" fill=\"none\" stroke=\"#000000\"/>\n<polygon fill=\"#000000\" points=\"276.0001,-119.5903 272.5,-109.5904 269.0001,-119.5904 276.0001,-119.5903\" stroke=\"#000000\"/>\n</g>\n<!-- 140696860629368 -->\n<g class=\"node\" id=\"node107\">\n<title>140696860629368</title>\n<polygon fill=\"none\" points=\"210,-.5 210,-36.5 335,-36.5 335,-.5 210,-.5\" stroke=\"#000000\"/>\n<text fill=\"#000000\" font-family=\"Times,serif\" font-size=\"14.00\" text-anchor=\"middle\" x=\"272.5\" y=\"-14.8\">real_output: Dense</text>\n</g>\n<!-- 140697106769400&#45;&gt;140696860629368 -->\n<g class=\"edge\" id=\"edge130\">\n<title>140697106769400-&gt;140696860629368</title>\n<path d=\"M272.5,-73.4551C272.5,-65.3828 272.5,-55.6764 272.5,-46.6817\" fill=\"none\" stroke=\"#000000\"/>\n<polygon fill=\"#000000\" points=\"276.0001,-46.5903 272.5,-36.5904 269.0001,-46.5904 276.0001,-46.5903\" stroke=\"#000000\"/>\n</g>\n</g>\n</svg>"
          },
          "metadata": {
            "tags": []
          },
          "execution_count": 105
        }
      ]
    },
    {
      "cell_type": "code",
      "metadata": {
        "id": "GihIga5RuAa-",
        "colab_type": "code",
        "colab": {
          "base_uri": "https://localhost:8080/",
          "height": 105
        },
        "outputId": "52794d23-4a0c-417b-e3ee-67ce03b0bd67"
      },
      "source": [
        "sess = K.get_session()\n",
        "uninitialized_variables = set([i.decode('ascii') for i in sess.run(tf.report_uninitialized_variables())])\n",
        "init = tf.variables_initializer([v for v in tf.global_variables() if v.name.split(':')[0] in uninitialized_variables])\n",
        "sess.run(init)\n",
        "\n",
        "bert_model = get_bert_finetuning_model(model)\n",
        "history = bert_model.fit(train_x, train_y, epochs=2, batch_size=16, verbose = 1, validation_data=(test_x, test_y), shuffle=True)"
      ],
      "execution_count": 106,
      "outputs": [
        {
          "output_type": "stream",
          "text": [
            "Train on 3900 samples, validate on 1672 samples\n",
            "Epoch 1/2\n",
            "3900/3900 [==============================] - 108s 28ms/step - loss: 0.3375 - acc: 0.8515 - val_loss: 0.0738 - val_acc: 0.9850\n",
            "Epoch 2/2\n",
            "3900/3900 [==============================] - 87s 22ms/step - loss: 0.0542 - acc: 0.9877 - val_loss: 0.0426 - val_acc: 0.9886\n"
          ],
          "name": "stdout"
        }
      ]
    },
    {
      "cell_type": "code",
      "metadata": {
        "id": "xgS_vRMmuFpI",
        "colab_type": "code",
        "colab": {}
      },
      "source": [
        "def predict_convert_data(data_df):\n",
        "    global tokenizer\n",
        "    indices = []\n",
        "    for i in tqdm(range(len(data_df))):\n",
        "        ids, segments = tokenizer.encode(data_df[DATA_COLUMN][i], max_len=SEQ_LEN)\n",
        "        indices.append(ids)\n",
        "        \n",
        "    items = indices\n",
        "    \n",
        "    \n",
        "    indices = np.array(indices)\n",
        "    return [indices, np.zeros_like(indices)]\n",
        "\n",
        "def predict_load_data(x): #Pandas Dataframe을 인풋으로 받는다\n",
        "    data_df = x\n",
        "    \n",
        "    \n",
        "    data_df[DATA_COLUMN] = data_df[DATA_COLUMN].astype(str)\n",
        "\n",
        "\n",
        "    data_x = predict_convert_data(data_df)\n",
        "\n",
        "    return data_x"
      ],
      "execution_count": 0,
      "outputs": []
    },
    {
      "cell_type": "code",
      "metadata": {
        "id": "FutsfdSqvGpi",
        "colab_type": "code",
        "colab": {
          "base_uri": "https://localhost:8080/",
          "height": 34
        },
        "outputId": "51989ed4-6240-492b-d2d1-89d4c2b868fe"
      },
      "source": [
        "test_set = predict_load_data(test_spam_load)"
      ],
      "execution_count": 108,
      "outputs": [
        {
          "output_type": "stream",
          "text": [
            "100%|██████████| 1672/1672 [00:00<00:00, 4193.36it/s]\n"
          ],
          "name": "stderr"
        }
      ]
    },
    {
      "cell_type": "code",
      "metadata": {
        "id": "zrwuzNP9vS69",
        "colab_type": "code",
        "colab": {
          "base_uri": "https://localhost:8080/",
          "height": 263
        },
        "outputId": "da6ae07d-6ca8-4a3a-8c5e-93352ae8350e"
      },
      "source": [
        "test_set"
      ],
      "execution_count": 109,
      "outputs": [
        {
          "output_type": "execute_result",
          "data": {
            "text/plain": [
              "[array([[  101, 11279, 29388, ...,     0,     0,     0],\n",
              "        [  101, 10140, 10103, ...,     0,     0,     0],\n",
              "        [  101,   151, 14329, ...,     0,     0,     0],\n",
              "        ...,\n",
              "        [  101, 12787, 22556, ...,     0,     0,     0],\n",
              "        [  101, 15517, 10429, ...,     0,     0,     0],\n",
              "        [  101, 41775, 41775, ...,     0,     0,     0]]),\n",
              " array([[0, 0, 0, ..., 0, 0, 0],\n",
              "        [0, 0, 0, ..., 0, 0, 0],\n",
              "        [0, 0, 0, ..., 0, 0, 0],\n",
              "        ...,\n",
              "        [0, 0, 0, ..., 0, 0, 0],\n",
              "        [0, 0, 0, ..., 0, 0, 0],\n",
              "        [0, 0, 0, ..., 0, 0, 0]])]"
            ]
          },
          "metadata": {
            "tags": []
          },
          "execution_count": 109
        }
      ]
    },
    {
      "cell_type": "code",
      "metadata": {
        "id": "OaIBsDwAvUdp",
        "colab_type": "code",
        "colab": {}
      },
      "source": [
        "#예측\n",
        "preds = bert_model.predict(test_set)"
      ],
      "execution_count": 0,
      "outputs": []
    },
    {
      "cell_type": "code",
      "metadata": {
        "id": "minnfUjzvZWE",
        "colab_type": "code",
        "colab": {}
      },
      "source": [
        "def sentence_convert_data(data):\n",
        "    global tokenizer\n",
        "    indices = []\n",
        "    ids, segments = tokenizer.encode(data, max_len=SEQ_LEN)\n",
        "    indices.append(ids)\n",
        "        \n",
        "    items = indices\n",
        "    indices = np.array(indices)\n",
        "    return [indices, np.zeros_like(indices)]\n",
        "\n",
        "def movie_evaluation_predict(sentence):\n",
        "    data_x = sentence_convert_data(sentence)\n",
        "    predict = bert_model.predict(data_x)\n",
        "    predict_answer = np.round(np.ravel(predict), 0).item()\n",
        "    \n",
        "    if predict_answer == 0:\n",
        "      print(\"this is ham\")\n",
        "    elif predict_answer == 1:\n",
        "      print(\"this is spam.\")"
      ],
      "execution_count": 0,
      "outputs": []
    },
    {
      "cell_type": "code",
      "metadata": {
        "id": "06Jzf3NTvahK",
        "colab_type": "code",
        "colab": {
          "base_uri": "https://localhost:8080/",
          "height": 34
        },
        "outputId": "82852119-b345-4532-d1f6-4a9255faa426"
      },
      "source": [
        "movie_evaluation_predict(\"free giftshop\")"
      ],
      "execution_count": 118,
      "outputs": [
        {
          "output_type": "stream",
          "text": [
            "this is spam.\n"
          ],
          "name": "stdout"
        }
      ]
    },
    {
      "cell_type": "code",
      "metadata": {
        "id": "iuvdaLt4vyrz",
        "colab_type": "code",
        "colab": {
          "base_uri": "https://localhost:8080/",
          "height": 34
        },
        "outputId": "ba4fc37c-cc6b-426c-a3fd-6afdeb81c2bb"
      },
      "source": [
        "movie_evaluation_predict(\"i love you\")"
      ],
      "execution_count": 119,
      "outputs": [
        {
          "output_type": "stream",
          "text": [
            "this is ham\n"
          ],
          "name": "stdout"
        }
      ]
    },
    {
      "cell_type": "code",
      "metadata": {
        "id": "4z3spvxgv-y3",
        "colab_type": "code",
        "colab": {
          "base_uri": "https://localhost:8080/",
          "height": 34
        },
        "outputId": "209c3f56-79b0-40f7-a449-20dfddca725e"
      },
      "source": [
        "movie_evaluation_predict(\"Free entry! you must buy this one\")"
      ],
      "execution_count": 120,
      "outputs": [
        {
          "output_type": "stream",
          "text": [
            "this is spam.\n"
          ],
          "name": "stdout"
        }
      ]
    }
  ]
}