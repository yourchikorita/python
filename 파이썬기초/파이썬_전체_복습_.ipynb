{
  "nbformat": 4,
  "nbformat_minor": 0,
  "metadata": {
    "colab": {
      "name": "00_파이썬 전체 복습.ipynb의 사본",
      "version": "0.3.2",
      "provenance": [],
      "collapsed_sections": [
        "trQktVvTylkC",
        "OjS6yC-b-Ukw",
        "d_uGdJG0_pYg",
        "sxlEIQ1nl7rl"
      ]
    },
    "kernelspec": {
      "name": "python3",
      "display_name": "Python 3"
    }
  },
  "cells": [
    {
      "cell_type": "markdown",
      "metadata": {
        "id": "HbnyD7YZv_mE",
        "colab_type": "text"
      },
      "source": [
        "# 기초 이론\n",
        "## 목차\n",
        "<pre>\n",
        "1. 파이썬?\n",
        "  컴퓨터와 소통하는 언어 중 하나\n",
        "2. 프로그래밍?\n",
        "  컴퓨터에게 일을 시키는 것\n",
        "\n",
        "3.파이썬 기본 문법 \n",
        "  컴퓨터에게 '무엇을 가지고' '어떤 행위'를 시킨다. 그 '결과'를 얻는다.\n",
        "  3-1. '무엇을 가지고'에 해당하는 것\n",
        "    3-1-1.단일 변수\n",
        "    3-1-2.리스트\n",
        "    3-1-3.딕셔너리\n",
        "    3-1-4.튜플\n",
        "    3-1-5.집합(set)\n",
        "    \n",
        "  3-2. '어떤 행위'에 해당하는 것\n",
        "    3-2-1.함수\n",
        "    3-2-2.if문\n",
        "    3-2-3.for문\n",
        "    3-2-4.while문\n",
        "  \n",
        "  실습 넣기\n",
        "  \n",
        "  \n",
        "  3-3. class\n",
        "  \n",
        "4. 라이브러리(모듈)?\n",
        "  예금, 이체, 출금 이라는 행위들의 묶음 : 은행업무 라이브러리\n",
        "\n",
        "5. 아나콘다?\n",
        "  파이썬 작성/실행 프로그램 + 여러 라이브러리의 묶음\n",
        "  \n",
        "6. 개발 환경?\n",
        "\n"
      ]
    },
    {
      "cell_type": "markdown",
      "metadata": {
        "id": "d4COR9QndBmJ",
        "colab_type": "text"
      },
      "source": [
        "## 1.파이썬이란?\n",
        "파이썬이란 컴퓨터와 소통하는 언어 중 하나입니다.\n",
        "\n",
        "<pre>\n",
        "파이썬 언어의 장점\n",
        "* 사용하기 쉽다.\n",
        "  : 술술 읽히고, 술술 쓰입니다.\n",
        "* 개발자도 많다.\n",
        "* 데이터 분석과 인공지능에 탁월하다.\n",
        "    \n"
      ]
    },
    {
      "cell_type": "markdown",
      "metadata": {
        "id": "QUgDEbjpeBNn",
        "colab_type": "text"
      },
      "source": [
        "## 2.프로그래밍이란?\n",
        "프로그래밍이란 컴퓨터에게 일을 시키고 그 결과를 얻는 것입니다.\n",
        "\n",
        "컴퓨터에게 '무엇을 가지고' '어떤 행위'를 시킨다. 그 '결과'를 얻는다.\n",
        "\n",
        "인공지능도 다르지 않은 것이죠. 컴퓨터에게 어떤 일을 하게끔 하는 것이지요.\n",
        "\n",
        "<pre>\n",
        "ex1) 컴퓨터에게 '카드를 가지고' '출금을 하라고' 시킨다. \n",
        "그 결과로 '카드의 잔액'은 줄고 '현금'을 얻는다.\n",
        "\n",
        "ex2) 컴퓨터에게 '카드들을 가지고' '이체를 하라고' 시킨다. \n",
        "그 결과로 '카드의 잔액'은 줄고 '현금을 각각' 얻는다.\n",
        "\n",
        "</pre>\n"
      ]
    },
    {
      "cell_type": "markdown",
      "metadata": {
        "id": "aN33M4WeCIFy",
        "colab_type": "text"
      },
      "source": [
        "## 3.파이썬 기본 문법\n",
        "컴퓨터에게 '무엇을 가지고' '어떤 행위'를 시킨다. 그 '결과'를 얻는다.\n",
        "\n",
        "\n",
        "<pre>\n",
        "ex1) 컴퓨터에게 '카드를 가지고' '출금을 하라고' 시킨다. \n",
        "그 결과로 '카드의 잔액'은 줄고 '현금'을 얻는다.\n",
        "\n",
        "ex2) 컴퓨터에게 '카드들을 가지고' '이체를 하라고' 시킨다. \n",
        "그 결과로 '카드의 잔액'은 줄고 '현금을 각각' 얻는다.\n",
        "\n",
        "</pre>\n",
        "\n",
        "우리는 '무엇을 가지고'에 해당하는 것과\n",
        "\n",
        "'어떤 행위'를 시킨다.를 배우게 됩니다.\n",
        "\n",
        "그리고 그 '결과'를 얻어서 처리하는 것을 배우게 됩니다."
      ]
    },
    {
      "cell_type": "markdown",
      "metadata": {
        "id": "93lqU8nOwbx4",
        "colab_type": "text"
      },
      "source": [
        "### 3-1. '무엇을 가지고'에 해당하는 것 : 변수\n",
        "변수의 종류로는\n",
        "* 3-1-1. 단일 변수\n",
        "* 3-1-2. 리스트\n",
        "* 3-1-3. 딕셔너리\n",
        "* 3-1-4. 튜플\n",
        "* 3-1-5. 집합(set)\n",
        "\n",
        "이 있습니다."
      ]
    },
    {
      "cell_type": "markdown",
      "metadata": {
        "id": "OYmzBSKNxN1Q",
        "colab_type": "text"
      },
      "source": [
        "#### 3-1-1. 단일 변수\n",
        "<pre>\n",
        "* 단일 변수는 하나의 변수에 하나의 값을 저장한 것을 말합니다.\n",
        "* 형식 :\n",
        "  단일 변수 이름 = 값\n",
        "* 변수의 이름은 어떤걸 써도 상관없습니다."
      ]
    },
    {
      "cell_type": "code",
      "metadata": {
        "id": "vCSUdctXxntm",
        "colab_type": "code",
        "colab": {}
      },
      "source": [
        "a = '철수'\n",
        "b = 1\n",
        "c = True"
      ],
      "execution_count": 0,
      "outputs": []
    },
    {
      "cell_type": "code",
      "metadata": {
        "id": "TAjK6pRP6eZo",
        "colab_type": "code",
        "colab": {}
      },
      "source": [
        "a = 1\n",
        "bread = '소보로'"
      ],
      "execution_count": 0,
      "outputs": []
    },
    {
      "cell_type": "code",
      "metadata": {
        "id": "f-yY48Wa2oLw",
        "colab_type": "code",
        "outputId": "09d5cd9f-a1cd-4d0a-9421-050aebf8876b",
        "colab": {
          "base_uri": "https://localhost:8080/",
          "height": 69
        }
      },
      "source": [
        "print(a)\n",
        "print(b)\n",
        "print(c)"
      ],
      "execution_count": 0,
      "outputs": [
        {
          "output_type": "stream",
          "text": [
            "철수\n",
            "1\n",
            "True\n"
          ],
          "name": "stdout"
        }
      ]
    },
    {
      "cell_type": "markdown",
      "metadata": {
        "id": "IJl229EPx4Hg",
        "colab_type": "text"
      },
      "source": [
        "#### 3-1-2. 리스트\n",
        "<pre>\n",
        "* 리스트는 여러개의 값을 하나의 변수에 저장하는 것을 말합니다.\n",
        "* 형식 :\n",
        "  리스트 이름 = [값1, 값2, 값3, 값4]"
      ]
    },
    {
      "cell_type": "code",
      "metadata": {
        "id": "LVw6PvsByRnQ",
        "colab_type": "code",
        "colab": {}
      },
      "source": [
        "BTS_names_list = ['진', '슈가', '제이홉', '랩몬스터', '지민', '뷔', '정국']\n",
        "BTS_ages_list = [92, 93, 94, 94, 95, 95, 97]"
      ],
      "execution_count": 0,
      "outputs": []
    },
    {
      "cell_type": "code",
      "metadata": {
        "id": "hJgSyL-22mwn",
        "colab_type": "code",
        "outputId": "d5fbe118-8d64-46a4-a4d2-3d97f1b3168b",
        "colab": {
          "base_uri": "https://localhost:8080/",
          "height": 34
        }
      },
      "source": [
        "print(BTS_names_list)"
      ],
      "execution_count": 0,
      "outputs": [
        {
          "output_type": "stream",
          "text": [
            "['진', '슈가', '제이홉', '랩몬스터', '지민', '뷔', '정국']\n"
          ],
          "name": "stdout"
        }
      ]
    },
    {
      "cell_type": "code",
      "metadata": {
        "id": "HE0wEsTz28Bh",
        "colab_type": "code",
        "outputId": "69dfd5da-6802-4913-bf41-78b2468fb8db",
        "colab": {
          "base_uri": "https://localhost:8080/",
          "height": 139
        }
      },
      "source": [
        "for i in BTS_names_list:\n",
        "  print(i)"
      ],
      "execution_count": 0,
      "outputs": [
        {
          "output_type": "stream",
          "text": [
            "진\n",
            "슈가\n",
            "제이홉\n",
            "랩몬스터\n",
            "지민\n",
            "뷔\n",
            "정국\n"
          ],
          "name": "stdout"
        }
      ]
    },
    {
      "cell_type": "markdown",
      "metadata": {
        "id": "trQktVvTylkC",
        "colab_type": "text"
      },
      "source": [
        "#### 3-1-3. 딕셔너리\n",
        "<pre> \n",
        "* 딕셔너리 또한 여러개의 값을 하나의 변수에 저장하는 것을 말합니다.\n",
        "* 형식 :\n",
        "  딕셔너리 이름 = {'key값1':'value값1', 'key값2':'value값2', 'key값3':'value값3'}"
      ]
    },
    {
      "cell_type": "code",
      "metadata": {
        "id": "g4S9GpZP0Hw2",
        "colab_type": "code",
        "colab": {}
      },
      "source": [
        "BTS_role_dict = {'진':'서브보컬', '슈가':'리드 래퍼', '제이홉':'메인댄서, 리드래퍼',\n",
        "           '랩몬스터':'메인래퍼, 리더', '지민':'리드보컬, 리드댄서', '뷔':'서브보컬', '정국':'메인보컬, 서브보컬, 서브댄스'}"
      ],
      "execution_count": 0,
      "outputs": []
    },
    {
      "cell_type": "code",
      "metadata": {
        "id": "xK6CQupY3Dcx",
        "colab_type": "code",
        "outputId": "42fed17e-4ba6-4a40-af45-17cefeb281e9",
        "colab": {
          "base_uri": "https://localhost:8080/",
          "height": 54
        }
      },
      "source": [
        "print(BTS_role_dict)"
      ],
      "execution_count": 0,
      "outputs": [
        {
          "output_type": "stream",
          "text": [
            "{'진': '서브보컬', '슈가': '리드 래퍼', '제이홉': '메인댄서, 리드래퍼', '랩몬스터': '메인래퍼, 리더', '지민': '리드보컬, 리드댄서', '뷔': '서브보컬', '정국': '메인보컬, 서브보컬, 서브댄스'}\n"
          ],
          "name": "stdout"
        }
      ]
    },
    {
      "cell_type": "code",
      "metadata": {
        "id": "iBpKigL33H24",
        "colab_type": "code",
        "outputId": "cd0cb9c4-76a6-421d-d520-0c4be172648b",
        "colab": {
          "base_uri": "https://localhost:8080/",
          "height": 139
        }
      },
      "source": [
        "for i in BTS_role_dict.keys():\n",
        "  print(i)"
      ],
      "execution_count": 0,
      "outputs": [
        {
          "output_type": "stream",
          "text": [
            "진\n",
            "슈가\n",
            "제이홉\n",
            "랩몬스터\n",
            "지민\n",
            "뷔\n",
            "정국\n"
          ],
          "name": "stdout"
        }
      ]
    },
    {
      "cell_type": "code",
      "metadata": {
        "id": "pO_nEUmB3VEL",
        "colab_type": "code",
        "outputId": "4d0872b3-0a17-4b14-bd8f-a1ed56171c51",
        "colab": {
          "base_uri": "https://localhost:8080/",
          "height": 139
        }
      },
      "source": [
        "for i in BTS_role_dict.values():\n",
        "  print(i)"
      ],
      "execution_count": 0,
      "outputs": [
        {
          "output_type": "stream",
          "text": [
            "서브보컬\n",
            "리드 래퍼\n",
            "메인댄서, 리드래퍼\n",
            "메인래퍼, 리더\n",
            "리드보컬, 리드댄서\n",
            "서브보컬\n",
            "메인보컬, 서브보컬, 서브댄스\n"
          ],
          "name": "stdout"
        }
      ]
    },
    {
      "cell_type": "code",
      "metadata": {
        "id": "_dRTo9qv45Hy",
        "colab_type": "code",
        "outputId": "b67205e2-d959-46bd-e4fa-5d5a726bd84c",
        "colab": {
          "base_uri": "https://localhost:8080/",
          "height": 139
        }
      },
      "source": [
        "for i, j in BTS_role_dict.items():\n",
        "  print(i, j)"
      ],
      "execution_count": 0,
      "outputs": [
        {
          "output_type": "stream",
          "text": [
            "진 서브보컬\n",
            "슈가 리드 래퍼\n",
            "제이홉 메인댄서, 리드래퍼\n",
            "랩몬스터 메인래퍼, 리더\n",
            "지민 리드보컬, 리드댄서\n",
            "뷔 서브보컬\n",
            "정국 메인보컬, 서브보컬, 서브댄스\n"
          ],
          "name": "stdout"
        }
      ]
    },
    {
      "cell_type": "markdown",
      "metadata": {
        "id": "OH9U29kW1eu4",
        "colab_type": "text"
      },
      "source": [
        "#### 3-1-4. 튜플\n",
        "<pre>\n",
        "* 튜플 또한 여러개의 값을 하나의 변수에 저장하는 것을 말합니다.\n",
        "* 형식 :\n",
        "  튜플 이름 = (값1, 값2, 값3, 값4)"
      ]
    },
    {
      "cell_type": "code",
      "metadata": {
        "id": "pGXCq3Ki1zGF",
        "colab_type": "code",
        "colab": {}
      },
      "source": [
        "BTS_sex_tu = ('male', 'male', 'male', 'male', 'male', 'male', 'male')"
      ],
      "execution_count": 0,
      "outputs": []
    },
    {
      "cell_type": "code",
      "metadata": {
        "id": "tw1CKey06Aex",
        "colab_type": "code",
        "outputId": "fadb09d4-51b2-48cf-c74b-5ebcd22bf75c",
        "colab": {
          "base_uri": "https://localhost:8080/",
          "height": 34
        }
      },
      "source": [
        "print(BTS_sex_tu)"
      ],
      "execution_count": 0,
      "outputs": [
        {
          "output_type": "stream",
          "text": [
            "('male', 'male', 'male', 'male', 'male', 'male', 'male')\n"
          ],
          "name": "stdout"
        }
      ]
    },
    {
      "cell_type": "code",
      "metadata": {
        "id": "S-B1WuzV6Dj4",
        "colab_type": "code",
        "outputId": "09ac09cc-b0e0-448d-e6dd-d1c41dfe5b60",
        "colab": {
          "base_uri": "https://localhost:8080/",
          "height": 139
        }
      },
      "source": [
        "for i in BTS_sex_tu:\n",
        "  print(i)"
      ],
      "execution_count": 0,
      "outputs": [
        {
          "output_type": "stream",
          "text": [
            "male\n",
            "male\n",
            "male\n",
            "male\n",
            "male\n",
            "male\n",
            "male\n"
          ],
          "name": "stdout"
        }
      ]
    },
    {
      "cell_type": "markdown",
      "metadata": {
        "id": "7mqopBLp6KEQ",
        "colab_type": "text"
      },
      "source": [
        "#### 3-1-5. 집합(set)\n",
        "<pre>\n",
        "* 집합 또한 여러개의 값을 하나의 변수에 저장하는 것을 말합니다.\n",
        "* 형식 :\n",
        "  set이름 = (리스트 또는 튜플)"
      ]
    },
    {
      "cell_type": "code",
      "metadata": {
        "id": "GSfGEpqo7HV5",
        "colab_type": "code",
        "colab": {}
      },
      "source": [
        "BTS_sex_tu_set = set(BTS_sex_tu)"
      ],
      "execution_count": 0,
      "outputs": []
    },
    {
      "cell_type": "code",
      "metadata": {
        "id": "1UmyWJlf7UGx",
        "colab_type": "code",
        "outputId": "78e2132a-da4a-4b2a-bf29-b2a153b95220",
        "colab": {
          "base_uri": "https://localhost:8080/",
          "height": 34
        }
      },
      "source": [
        "print(BTS_sex_tu_set)"
      ],
      "execution_count": 0,
      "outputs": [
        {
          "output_type": "stream",
          "text": [
            "{'male'}\n"
          ],
          "name": "stdout"
        }
      ]
    },
    {
      "cell_type": "code",
      "metadata": {
        "id": "NAXqJeex7aqJ",
        "colab_type": "code",
        "outputId": "969c83a0-8dd6-443b-c790-66c05126a71b",
        "colab": {
          "base_uri": "https://localhost:8080/",
          "height": 34
        }
      },
      "source": [
        "for i in BTS_sex_tu_set:\n",
        "  print(i)"
      ],
      "execution_count": 0,
      "outputs": [
        {
          "output_type": "stream",
          "text": [
            "male\n"
          ],
          "name": "stdout"
        }
      ]
    },
    {
      "cell_type": "markdown",
      "metadata": {
        "id": "M2KlOiXWwL5X",
        "colab_type": "text"
      },
      "source": [
        "## 3-2. 어떤 행위'에 해당하는 부분\n",
        "* 3-2-1. 함수\n",
        "* 3-2-2. if 문\n",
        "* 3-2-3. for 반복문\n",
        "* 3-2-4. while 반복문\n",
        "    "
      ]
    },
    {
      "cell_type": "markdown",
      "metadata": {
        "id": "C3wYKOmlwVFq",
        "colab_type": "text"
      },
      "source": [
        "#### 3-2-1. 함수\n",
        "<pre>\n",
        "* 함수란 컴퓨터에게 시킬 행위를 말합니다.\n",
        "* 함수를 만들어 놓으면 이 함수를 여러번 이용할 수 있겠죠.\n",
        "* 만드는 형식 :\n",
        "  def 함수명():\n",
        "    실행할 일\n",
        "    return 결과물\n",
        "    \n",
        "* 함수 사용 형식:\n",
        "  함수명()"
      ]
    },
    {
      "cell_type": "code",
      "metadata": {
        "id": "AhxZgs0Z-W4a",
        "colab_type": "code",
        "colab": {}
      },
      "source": [
        "def hi():\n",
        "  print('안녕!')"
      ],
      "execution_count": 0,
      "outputs": []
    },
    {
      "cell_type": "code",
      "metadata": {
        "id": "zmONERw--b3i",
        "colab_type": "code",
        "outputId": "cff604fe-5786-4242-cd6b-6dada8905507",
        "colab": {
          "base_uri": "https://localhost:8080/",
          "height": 34
        }
      },
      "source": [
        "hi()"
      ],
      "execution_count": 0,
      "outputs": [
        {
          "output_type": "stream",
          "text": [
            "안녕!\n"
          ],
          "name": "stdout"
        }
      ]
    },
    {
      "cell_type": "code",
      "metadata": {
        "id": "FiFqrJbU9uc-",
        "colab_type": "code",
        "colab": {}
      },
      "source": [
        "def sumAB(a, b):\n",
        "  result = a+b\n",
        "  return result"
      ],
      "execution_count": 0,
      "outputs": []
    },
    {
      "cell_type": "code",
      "metadata": {
        "id": "Gd9NKEeg-OSE",
        "colab_type": "code",
        "outputId": "452123f0-e5b2-4f83-cd87-8469218984d2",
        "colab": {
          "base_uri": "https://localhost:8080/",
          "height": 34
        }
      },
      "source": [
        "c = sumAB(3,5)\n",
        "print(c)"
      ],
      "execution_count": 0,
      "outputs": [
        {
          "output_type": "stream",
          "text": [
            "8\n"
          ],
          "name": "stdout"
        }
      ]
    },
    {
      "cell_type": "markdown",
      "metadata": {
        "id": "OjS6yC-b-Ukw",
        "colab_type": "text"
      },
      "source": [
        "#### 3-2-2. if문\n",
        "<pre>\n",
        "* if문이란 조건이 성립할 때 행위를 하게 만듭니다.\n",
        "* 형식 :\n",
        "  if 조건문:\n",
        "    실행문"
      ]
    },
    {
      "cell_type": "code",
      "metadata": {
        "id": "XVvYPGxs_MIa",
        "colab_type": "code",
        "outputId": "b8fa3316-2e51-4fab-a0a3-1ad8bc169b36",
        "colab": {
          "base_uri": "https://localhost:8080/",
          "height": 34
        }
      },
      "source": [
        "a = 3\n",
        "if a > 3:\n",
        "  print('3보다 큽니다.')"
      ],
      "execution_count": 0,
      "outputs": [
        {
          "output_type": "stream",
          "text": [
            "3보다 크거나 같습니다.\n"
          ],
          "name": "stdout"
        }
      ]
    },
    {
      "cell_type": "code",
      "metadata": {
        "id": "_FwW_xMm_aLw",
        "colab_type": "code",
        "outputId": "02940ca0-51f4-4501-c0d1-c39604ccd160",
        "colab": {
          "base_uri": "https://localhost:8080/",
          "height": 34
        }
      },
      "source": [
        "if a>3:\n",
        "  print('3보다 큽니다.')\n",
        "else:\n",
        "  print('3보다 크지 않습니다.')"
      ],
      "execution_count": 0,
      "outputs": [
        {
          "output_type": "stream",
          "text": [
            "3보다 크지 않습니다.\n"
          ],
          "name": "stdout"
        }
      ]
    },
    {
      "cell_type": "code",
      "metadata": {
        "id": "T3HpqXum_qhJ",
        "colab_type": "code",
        "outputId": "660ce584-2fb0-4200-ec09-4edbc89903f1",
        "colab": {
          "base_uri": "https://localhost:8080/",
          "height": 34
        }
      },
      "source": [
        "if a>3:\n",
        "  print('3보다 큽니다.')\n",
        "elif a == 3:\n",
        "  print('3입니다.')\n",
        "else:\n",
        "  print('3보다 작습니다.')"
      ],
      "execution_count": 0,
      "outputs": [
        {
          "output_type": "stream",
          "text": [
            "3입니다.\n"
          ],
          "name": "stdout"
        }
      ]
    },
    {
      "cell_type": "markdown",
      "metadata": {
        "id": "d_uGdJG0_pYg",
        "colab_type": "text"
      },
      "source": [
        "#### 3-2-3. for 문\n",
        "<pre>\n",
        "* for 문은 해당 값의 길이 만큼 반복하고 싶을 때 사용합니다.\n",
        "* 형식 :\n",
        "  for i in 값의 길이:\n",
        "    실행문"
      ]
    },
    {
      "cell_type": "code",
      "metadata": {
        "id": "Oi8s0tAoBHkE",
        "colab_type": "code",
        "outputId": "3e77dd1a-8438-42d2-bbda-5b39390fb9b1",
        "colab": {
          "base_uri": "https://localhost:8080/",
          "height": 69
        }
      },
      "source": [
        "class1_names = ['철수', '영희', '민지']\n",
        "for i in class1_names:\n",
        "  print(i)"
      ],
      "execution_count": 0,
      "outputs": [
        {
          "output_type": "stream",
          "text": [
            "철수\n",
            "영희\n",
            "민지\n"
          ],
          "name": "stdout"
        }
      ]
    },
    {
      "cell_type": "code",
      "metadata": {
        "id": "Sr9VMOQnBT8y",
        "colab_type": "code",
        "outputId": "86ad96ba-e3a2-43e6-8d99-64a871b0d74a",
        "colab": {
          "base_uri": "https://localhost:8080/",
          "height": 69
        }
      },
      "source": [
        "class_dict = {'철수':25, '영희':26, '민지':24}\n",
        "for i in class_dict.keys():\n",
        "  print(i)"
      ],
      "execution_count": 0,
      "outputs": [
        {
          "output_type": "stream",
          "text": [
            "철수\n",
            "영희\n",
            "민지\n"
          ],
          "name": "stdout"
        }
      ]
    },
    {
      "cell_type": "code",
      "metadata": {
        "id": "oqQSYQpXBvr_",
        "colab_type": "code",
        "outputId": "22cdb8a0-ee8e-4f8d-91f8-a3f9422ebd43",
        "colab": {
          "base_uri": "https://localhost:8080/",
          "height": 69
        }
      },
      "source": [
        "for i in class_dict.values():\n",
        "  print(i)"
      ],
      "execution_count": 0,
      "outputs": [
        {
          "output_type": "stream",
          "text": [
            "25\n",
            "26\n",
            "24\n"
          ],
          "name": "stdout"
        }
      ]
    },
    {
      "cell_type": "code",
      "metadata": {
        "id": "lC79V0-yBzz1",
        "colab_type": "code",
        "outputId": "daf4883a-afc3-4837-9a4b-576c455fb0d9",
        "colab": {
          "base_uri": "https://localhost:8080/",
          "height": 69
        }
      },
      "source": [
        "for i,k in class_dict.items():\n",
        "  print(i, k)"
      ],
      "execution_count": 0,
      "outputs": [
        {
          "output_type": "stream",
          "text": [
            "철수 25\n",
            "영희 26\n",
            "민지 24\n"
          ],
          "name": "stdout"
        }
      ]
    },
    {
      "cell_type": "markdown",
      "metadata": {
        "id": "S19QnaFcB8Qe",
        "colab_type": "text"
      },
      "source": [
        "#### 3-2-4. While 문\n",
        "<pre>\n",
        "* while 문은 조건이 성립하면 실행문을 계속 반복할 때 쓰입니다.\n",
        "  형광등 스위치를 생각해 보시면 됩니다.  \n",
        "* 형식 :\n",
        "  while 조건문 :\n",
        "    실행문"
      ]
    },
    {
      "cell_type": "code",
      "metadata": {
        "id": "Q4j1M_28hoAj",
        "colab_type": "code",
        "colab": {}
      },
      "source": [
        "a= int(input('1을 입력하면 켜지고, 다른 숫자를 입력하면 꺼집니다..>'))\n",
        "while a == 1:\n",
        "  print('켜졌습니다.')\n",
        "  a=int(input('1을 입력하면 켜진 상태가 유지되고, 다른 숫자를 입력하면 꺼집니다.>'))\n",
        "print('꺼졌습니다.')"
      ],
      "execution_count": 0,
      "outputs": []
    },
    {
      "cell_type": "code",
      "metadata": {
        "id": "k9MgRBZeikiq",
        "colab_type": "code",
        "outputId": "1e46bcbd-202d-46ac-b12f-b9cf9250714e",
        "colab": {
          "base_uri": "https://localhost:8080/",
          "height": 348
        }
      },
      "source": [
        "a=int(input('10보다 작은 값을 입력하면 켜집니다. a는 자동으로 1씩 증가하고 10이되면 꺼집니다.>'))\n",
        "while a < 10:\n",
        "  print(a)\n",
        "  print('켜졋습니다.')\n",
        "  a = a+1\n",
        "  \n",
        "  "
      ],
      "execution_count": 0,
      "outputs": [
        {
          "output_type": "stream",
          "text": [
            "10보다 작은 값을 입력하면 켜집니다. a는 자동으로 1씩 증가하고 10이되면 꺼집니다..>1\n",
            "1\n",
            "켜졋습니다.\n",
            "2\n",
            "켜졋습니다.\n",
            "3\n",
            "켜졋습니다.\n",
            "4\n",
            "켜졋습니다.\n",
            "5\n",
            "켜졋습니다.\n",
            "6\n",
            "켜졋습니다.\n",
            "7\n",
            "켜졋습니다.\n",
            "8\n",
            "켜졋습니다.\n",
            "9\n",
            "켜졋습니다.\n"
          ],
          "name": "stdout"
        }
      ]
    },
    {
      "cell_type": "markdown",
      "metadata": {
        "id": "3OCkdypzkTD7",
        "colab_type": "text"
      },
      "source": [
        "### 3-3. Class\n",
        "클래스란 변수를 만드는 '틀'입니다.\n",
        "\n",
        "예를 들어 들어 봅시다.\n",
        "\n",
        "<pre>\n",
        "자동차라는 클래스를 만듭니다.\n",
        "이 자동차라는 클래스는 자동차를 만드는 틀이라고 보시면 됩니다.\n",
        "이 자동차라는 클래스를 통해 자동차를 만듭니다. \n",
        "그러면 연식, 배기량, 속도, 무게 등의 속성을 갖고 만들어집니다.\n",
        "이 자동차라는 클래스를 이용해서 만든 자동차는 달릴 수 있습니다. \n",
        "짐을 실을 수도 있습니다.\n",
        "</pre>\n"
      ]
    },
    {
      "cell_type": "markdown",
      "metadata": {
        "id": "sxlEIQ1nl7rl",
        "colab_type": "text"
      },
      "source": [
        "#### 3-3-1. class 만들기\n",
        "<pre>\n",
        "* 형식\n",
        "  class 클래스명():\n",
        "    클래스 속성\n",
        "    \n",
        "    클래스 함수"
      ]
    },
    {
      "cell_type": "code",
      "metadata": {
        "id": "ekJ92zf7ntda",
        "colab_type": "code",
        "colab": {}
      },
      "source": [
        "class Car():\n",
        "  #자동차\n",
        "  \n",
        "  # 속성 만들기\n",
        "  def __init__(self, age, disp, vel, weight):\n",
        "    self.age = age # 연식\n",
        "    self.disp = disp # 배기량\n",
        "    self.vel = 0 # 초기 속도\n",
        "    self.weight = weight # 초기 무게\n",
        "  \n",
        "  # 가속 시키기\n",
        "  def accel(self,v):\n",
        "    self.vel = self.vel + v # v km/h 가속\n",
        "    print('현재 속도는 {}km/h 입니다.'.format(self.vel))\n",
        "  \n",
        "  # 감속 시키기\n",
        "  def brake(self,v):\n",
        "    self.vel = self.vel - v # v km/h 감속\n",
        "    print('현재 속도는 {}km/h 입니다.'.format(self.vel))\n",
        "  \n",
        "  # 짐 싯기\n",
        "  def Load_plus(self,x):\n",
        "    self.weight = self.weight + x # x kg 싯기\n",
        "    print('현재 무게는 {}kg 입니다.'.format(self.weight))\n",
        "  \n",
        "  # 짐 내리기\n",
        "  def Load_minus(self,x):\n",
        "    self.weight = self.weight - x # 20kg 내리기\n",
        "    print('현재 무게는 {}kg 입니다.'.format(self.weight))\n",
        "      \n",
        "  "
      ],
      "execution_count": 0,
      "outputs": []
    },
    {
      "cell_type": "markdown",
      "metadata": {
        "id": "yxSVaCLZydT-",
        "colab_type": "text"
      },
      "source": [
        "#### 3-3-2. class 사용하기"
      ]
    },
    {
      "cell_type": "code",
      "metadata": {
        "id": "J3xNQa_2uSjT",
        "colab_type": "code",
        "colab": {}
      },
      "source": [
        "# Car 클래스로 연식, 배기량, 속도, 초기 무게 넣어서 Avante라는 객체 만들기\n",
        "Avante = Car(2018, 1600, 0, 1190)"
      ],
      "execution_count": 0,
      "outputs": []
    },
    {
      "cell_type": "code",
      "metadata": {
        "id": "BLHPVcvhu6z9",
        "colab_type": "code",
        "outputId": "272fe2fe-67e2-4aa3-d918-cc5cbb54cfb1",
        "colab": {
          "base_uri": "https://localhost:8080/",
          "height": 34
        }
      },
      "source": [
        "# Avante 의 연식 확인하기\n",
        "print(Avante.age)"
      ],
      "execution_count": 0,
      "outputs": [
        {
          "output_type": "stream",
          "text": [
            "2018\n"
          ],
          "name": "stdout"
        }
      ]
    },
    {
      "cell_type": "code",
      "metadata": {
        "id": "t_OAXGWpvAAQ",
        "colab_type": "code",
        "outputId": "b6125f23-2ac4-47de-cb71-08f6c0635157",
        "colab": {
          "base_uri": "https://localhost:8080/",
          "height": 34
        }
      },
      "source": [
        "# Avante 의 배기량 확인하기\n",
        "print(Avante.disp)"
      ],
      "execution_count": 0,
      "outputs": [
        {
          "output_type": "stream",
          "text": [
            "1600\n"
          ],
          "name": "stdout"
        }
      ]
    },
    {
      "cell_type": "code",
      "metadata": {
        "id": "njqyhcv7xoEZ",
        "colab_type": "code",
        "outputId": "cddcbf25-eeaf-4b8e-a6da-a35b123c0d46",
        "colab": {
          "base_uri": "https://localhost:8080/",
          "height": 34
        }
      },
      "source": [
        "# Avante의 속도 확인하기\n",
        "print(Avante.vel)"
      ],
      "execution_count": 0,
      "outputs": [
        {
          "output_type": "stream",
          "text": [
            "0\n"
          ],
          "name": "stdout"
        }
      ]
    },
    {
      "cell_type": "code",
      "metadata": {
        "id": "a7j1Hu72vEEZ",
        "colab_type": "code",
        "outputId": "50736800-ae07-4678-aec1-749a1b17968d",
        "colab": {
          "base_uri": "https://localhost:8080/",
          "height": 34
        }
      },
      "source": [
        "# Avante 5km/h 가속하기\n",
        "Avante.accel(5)"
      ],
      "execution_count": 0,
      "outputs": [
        {
          "output_type": "stream",
          "text": [
            "현재 속도는 5km/h 입니다.\n"
          ],
          "name": "stdout"
        }
      ]
    },
    {
      "cell_type": "code",
      "metadata": {
        "id": "6OEUeKA8vsz_",
        "colab_type": "code",
        "outputId": "d9c79dea-567b-4ffd-c16e-ad47242b1ce1",
        "colab": {
          "base_uri": "https://localhost:8080/",
          "height": 34
        }
      },
      "source": [
        "# Avante 10km/h 가속하기\n",
        "Avante.accel(10)"
      ],
      "execution_count": 0,
      "outputs": [
        {
          "output_type": "stream",
          "text": [
            "현재 속도는 15km/h 입니다.\n"
          ],
          "name": "stdout"
        }
      ]
    },
    {
      "cell_type": "code",
      "metadata": {
        "id": "I-WMbUgAxPPR",
        "colab_type": "code",
        "outputId": "0187cee4-8cca-4f79-ead2-934ef6a6794c",
        "colab": {
          "base_uri": "https://localhost:8080/",
          "height": 34
        }
      },
      "source": [
        "# Avante 7km/h 감속하기\n",
        "Avante.brake(7)"
      ],
      "execution_count": 0,
      "outputs": [
        {
          "output_type": "stream",
          "text": [
            "현재 속도는 8km/h 입니다.\n"
          ],
          "name": "stdout"
        }
      ]
    },
    {
      "cell_type": "code",
      "metadata": {
        "id": "K_ayVi6Gxkw5",
        "colab_type": "code",
        "outputId": "8be517c0-c6cc-4007-a330-9d4914776821",
        "colab": {
          "base_uri": "https://localhost:8080/",
          "height": 34
        }
      },
      "source": [
        "# Avante 속도 확인\n",
        "print(Avante.vel)"
      ],
      "execution_count": 0,
      "outputs": [
        {
          "output_type": "stream",
          "text": [
            "8\n"
          ],
          "name": "stdout"
        }
      ]
    },
    {
      "cell_type": "code",
      "metadata": {
        "id": "WnQhyraKxxXt",
        "colab_type": "code",
        "outputId": "f1b1ad5f-b548-4a66-daae-c42640c2ba5f",
        "colab": {
          "base_uri": "https://localhost:8080/",
          "height": 34
        }
      },
      "source": [
        "# Avante 무게 확인\n",
        "print(Avante.weight)"
      ],
      "execution_count": 0,
      "outputs": [
        {
          "output_type": "stream",
          "text": [
            "1190\n"
          ],
          "name": "stdout"
        }
      ]
    },
    {
      "cell_type": "code",
      "metadata": {
        "id": "c6F8cpdUx5OT",
        "colab_type": "code",
        "outputId": "912825cf-5c53-4de2-c120-aac200ed4a12",
        "colab": {
          "base_uri": "https://localhost:8080/",
          "height": 34
        }
      },
      "source": [
        "# Avante에 30kg 싯기\n",
        "Avante.Load_plus(30)"
      ],
      "execution_count": 0,
      "outputs": [
        {
          "output_type": "stream",
          "text": [
            "현재 무게는 1220kg 입니다.\n"
          ],
          "name": "stdout"
        }
      ]
    },
    {
      "cell_type": "code",
      "metadata": {
        "id": "JE32Jzy-x7hx",
        "colab_type": "code",
        "outputId": "c429641c-1782-4cc7-fc6d-0fc541498836",
        "colab": {
          "base_uri": "https://localhost:8080/",
          "height": 34
        }
      },
      "source": [
        "# Avante에서 10kg 빼기\n",
        "Avante.Load_minus(10)"
      ],
      "execution_count": 0,
      "outputs": [
        {
          "output_type": "stream",
          "text": [
            "현재 무게는 1210kg 입니다.\n"
          ],
          "name": "stdout"
        }
      ]
    },
    {
      "cell_type": "code",
      "metadata": {
        "id": "cZA1sXJRyAW8",
        "colab_type": "code",
        "outputId": "4fc7257b-7189-4322-9116-0a39d4f0d251",
        "colab": {
          "base_uri": "https://localhost:8080/",
          "height": 34
        }
      },
      "source": [
        "# Avante의 무게 확인\n",
        "print(Avante.weight)"
      ],
      "execution_count": 0,
      "outputs": [
        {
          "output_type": "stream",
          "text": [
            "1210\n"
          ],
          "name": "stdout"
        }
      ]
    },
    {
      "cell_type": "markdown",
      "metadata": {
        "id": "3CY9X0sQyU2j",
        "colab_type": "text"
      },
      "source": [
        "\n",
        "이처럼 특정한 속성들을 갖고, 특정한 행위를 할 수 있는 변수를 만들 수 있습니다.\n",
        "\n",
        "이것의 장점은 일을 다음과 같습니다.\n",
        "\n",
        "어떤 한가지 일에 특화된 변수를 만들어 줄 수 있다는 것이죠.\n",
        "\n",
        "이는 협업에 있어서 꼭 필요한 부분입니다.\n",
        "\n",
        "각자 맡은 부분에 해당하는 일를 하는 클래스를 만들어 따로 관리할 수 있습니다.\n",
        "\n",
        "각자 맡은 부분을 붙이면 여러가지 응용을 할 수 있게 되겠지요."
      ]
    },
    {
      "cell_type": "markdown",
      "metadata": {
        "id": "xSHbpE470dSK",
        "colab_type": "text"
      },
      "source": [
        "## 4.라이브러리(모듈)\n",
        "라이브러리란 특정 기능들의 묶음입니다.\n",
        "예를 들어 볼까요?\n",
        "\n",
        "<pre>\n",
        "예금하기, 이체하기, 적금들기, 출금하기 => 은행업무 라이브러리\n",
        "신규 고객 전화하기, 기존 고객 전화받기, 고객 장부 정리 => 고객관리 라이브러리 \n",
        "</pre>\n",
        "\n",
        "이런 식으로 어떤 행위들의 묶음을 라이브러리라고 합니다.\n",
        "\n",
        "우리는 필요에 따라 누군가가 만들어 둔 라이브러리를 불러와서 사용할 수 있습니다.\n",
        "\n",
        "함수가 들어있고, 클래스가 들어 있습니다."
      ]
    },
    {
      "cell_type": "markdown",
      "metadata": {
        "id": "7BCmQguw2Vnt",
        "colab_type": "text"
      },
      "source": [
        "#### 4-1. 라이브러리 설치\n",
        "<pre>\n",
        "* 형식 :\n",
        "  !pip install 라이브러리명"
      ]
    },
    {
      "cell_type": "code",
      "metadata": {
        "id": "1wSlVSZG3_pJ",
        "colab_type": "code",
        "outputId": "a3f984ad-4267-4ed6-f8e9-c4b741b72c25",
        "colab": {
          "base_uri": "https://localhost:8080/",
          "height": 124
        }
      },
      "source": [
        "# 엑셀 파일 다루는 라이브러리 설치 : pandas\n",
        "!pip install pandas"
      ],
      "execution_count": 0,
      "outputs": [
        {
          "output_type": "stream",
          "text": [
            "Requirement already satisfied: pandas in /usr/local/lib/python3.6/dist-packages (0.24.2)\n",
            "Requirement already satisfied: python-dateutil>=2.5.0 in /usr/local/lib/python3.6/dist-packages (from pandas) (2.5.3)\n",
            "Requirement already satisfied: pytz>=2011k in /usr/local/lib/python3.6/dist-packages (from pandas) (2018.9)\n",
            "Requirement already satisfied: numpy>=1.12.0 in /usr/local/lib/python3.6/dist-packages (from pandas) (1.16.4)\n",
            "Requirement already satisfied: six>=1.5 in /usr/local/lib/python3.6/dist-packages (from python-dateutil>=2.5.0->pandas) (1.12.0)\n"
          ],
          "name": "stdout"
        }
      ]
    },
    {
      "cell_type": "markdown",
      "metadata": {
        "id": "1Zgqg1014IRR",
        "colab_type": "text"
      },
      "source": [
        "#### 4-2. 라이브러리 불러오기\n",
        "<pre>\n",
        "* 형식 :\n",
        "  import 라이브러리명"
      ]
    },
    {
      "cell_type": "code",
      "metadata": {
        "id": "OoaQ9kNo4Xvl",
        "colab_type": "code",
        "colab": {}
      },
      "source": [
        "# 엑셀 파일 다루는 pandas 불러오기\n",
        "import pandas"
      ],
      "execution_count": 0,
      "outputs": []
    },
    {
      "cell_type": "code",
      "metadata": {
        "id": "wZ7hp-zj4eLd",
        "colab_type": "code",
        "colab": {}
      },
      "source": [
        "# 고객 데이터 파일 불러오기\n",
        "df = pandas.read_excel('고객_데이터.xlsx')"
      ],
      "execution_count": 0,
      "outputs": []
    },
    {
      "cell_type": "code",
      "metadata": {
        "id": "SkYbxOX84qrX",
        "colab_type": "code",
        "outputId": "e10a5eca-0b8a-4fc3-b142-a17a1d633fc2",
        "colab": {
          "base_uri": "https://localhost:8080/",
          "height": 104
        }
      },
      "source": [
        "# 고객 데이터 출력하기\n",
        "print(df)"
      ],
      "execution_count": 0,
      "outputs": [
        {
          "output_type": "stream",
          "text": [
            "    이름        주소    생년월일 성별   가입 상품\n",
            "0  김영철  서울시 동대문구  900202  남  데이터 55\n",
            "1  박만수    서울시 중구  780511  남  데이터 45\n",
            "2  김영희   서울시 서초구  690722  여  데이터 35\n",
            "3  류승룡   서울시 노원구  991212  남  데이터 65\n"
          ],
          "name": "stdout"
        }
      ]
    },
    {
      "cell_type": "markdown",
      "metadata": {
        "id": "LrDTyrve4t4J",
        "colab_type": "text"
      },
      "source": [
        "## 5.아나콘다\n",
        "아나콘다란 파이썬 작성/실행 프로그램과 유용한 라이브러리들을 포함한 프로그램입니다.\n",
        "\n",
        "아나콘다 구성\n",
        "<pre>\n",
        "* 스파이더\n",
        "* 쥬피터 노트북\n",
        "* 아나콘다 프롬프트"
      ]
    },
    {
      "cell_type": "markdown",
      "metadata": {
        "id": "KmiqpUZK9R-O",
        "colab_type": "text"
      },
      "source": [
        "![image](https://user-images.githubusercontent.com/42320146/63902905-8b979780-ca46-11e9-8eea-0eddab37aa23.png)\n"
      ]
    },
    {
      "cell_type": "markdown",
      "metadata": {
        "id": "eegHccRW5J1m",
        "colab_type": "text"
      },
      "source": [
        "#### 5-1. 스파이더\n",
        "\t스파이더란 파이썬 코드를 작성하고 실행할 수 있게 하는 프로그램입니다.\n",
        "\t아나콘다를 설치하면 깔립니다.\n"
      ]
    },
    {
      "cell_type": "markdown",
      "metadata": {
        "id": "jqI2d0Cq7qWH",
        "colab_type": "text"
      },
      "source": [
        "![image](https://user-images.githubusercontent.com/42320146/63902648-78d09300-ca45-11e9-9693-6f71aaa27e91.png)\n"
      ]
    },
    {
      "cell_type": "markdown",
      "metadata": {
        "id": "vzbBlr3521Jt",
        "colab_type": "text"
      },
      "source": [
        "#### 5-2. 주피터 노트북\n",
        "<pre>\n",
        "주피터 노트북 또한 파이썬 코드를 작성하고 실행할 수 있게 하는 프로그램입니다.\n",
        "아나콘다를 설치하면 깔립니다."
      ]
    },
    {
      "cell_type": "markdown",
      "metadata": {
        "id": "0brust2W7tKr",
        "colab_type": "text"
      },
      "source": [
        "![image](https://user-images.githubusercontent.com/42320146/63902717-b6352080-ca45-11e9-98b7-5751a45fe8de.png)\n"
      ]
    },
    {
      "cell_type": "markdown",
      "metadata": {
        "id": "MzSXdvar7-OK",
        "colab_type": "text"
      },
      "source": [
        "#### 5-3. 아나콘다 프롬프트\n",
        "<pre>\n",
        "아나콘다 프롬프트는 개발환경을 조성하는데 사용하는 프로그램입니다.\n",
        "이를 통해 필요한 라이브러리를 설치할 수 있습니다."
      ]
    },
    {
      "cell_type": "markdown",
      "metadata": {
        "id": "K-fvrcOA9B7R",
        "colab_type": "text"
      },
      "source": [
        "![image](https://user-images.githubusercontent.com/42320146/63902879-686ce800-ca46-11e9-942e-f8e1c51e3797.png)\n"
      ]
    },
    {
      "cell_type": "markdown",
      "metadata": {
        "id": "Cnz6ER_v9HnF",
        "colab_type": "text"
      },
      "source": [
        "## 6.개발환경\n",
        "<pre>\n",
        "개발환경이란 컴퓨터에게 일을 시키기 위한 환경을 만드는 것을 말합니다.\n",
        "필요한 라이브러리를 설치하고, 불러와서 사용할 수 있게 만드는 것이지요.\n",
        "여기서 라이브러리란 특정한 일을 하는 함수들의 묶음입니다.\n",
        "\n",
        "예를 들어 보겠습니다.\n",
        "예금, 출금, 계좌이체 등의 업무가 함수들이라면\n",
        "이러한 은행업무들의 묶음이 라이브러리가 되겠습니다.\n",
        "\n",
        "은행업무를 컴퓨터에게 시키기고 싶습니다.\n",
        "그래서 은행업무 라이브러리를 설치하고 불러옵니다.\n",
        "이것이 개발환경을 조성하는 것입니다."
      ]
    },
    {
      "cell_type": "code",
      "metadata": {
        "id": "1vz3k19z_l14",
        "colab_type": "code",
        "outputId": "e4fe2728-f2bf-4b3f-f81b-031c94f23c78",
        "colab": {
          "base_uri": "https://localhost:8080/",
          "height": 105
        }
      },
      "source": [
        "# pandas 라는 라이브러리 설치\n",
        "!pip install pandas"
      ],
      "execution_count": 0,
      "outputs": [
        {
          "output_type": "stream",
          "text": [
            "Requirement already satisfied: pandas in /usr/local/lib/python3.6/dist-packages (0.24.2)\n",
            "Requirement already satisfied: python-dateutil>=2.5.0 in /usr/local/lib/python3.6/dist-packages (from pandas) (2.5.3)\n",
            "Requirement already satisfied: pytz>=2011k in /usr/local/lib/python3.6/dist-packages (from pandas) (2018.9)\n",
            "Requirement already satisfied: numpy>=1.12.0 in /usr/local/lib/python3.6/dist-packages (from pandas) (1.16.4)\n",
            "Requirement already satisfied: six>=1.5 in /usr/local/lib/python3.6/dist-packages (from python-dateutil>=2.5.0->pandas) (1.12.0)\n"
          ],
          "name": "stdout"
        }
      ]
    },
    {
      "cell_type": "code",
      "metadata": {
        "id": "go1f1LBa_1qu",
        "colab_type": "code",
        "colab": {}
      },
      "source": [
        "# pandas 라는 라이브러리 불러오기\n",
        "import pandas"
      ],
      "execution_count": 0,
      "outputs": []
    }
  ]
}