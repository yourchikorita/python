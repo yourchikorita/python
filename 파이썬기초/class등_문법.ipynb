{
  "nbformat": 4,
  "nbformat_minor": 0,
  "metadata": {
    "colab": {
      "name": "전은정_그 밖의 문법.ipynb",
      "version": "0.3.2",
      "provenance": [],
      "collapsed_sections": [],
      "toc_visible": true
    },
    "kernelspec": {
      "name": "python3",
      "display_name": "Python 3"
    }
  },
  "cells": [
    {
      "cell_type": "markdown",
      "metadata": {
        "id": "5RfNacGian8e",
        "colab_type": "text"
      },
      "source": [
        "# 추가 문법들\n",
        "<pre>\n",
        "1.오류 예외처리\n",
        "2.클래스\n",
        "3.라이브러리(모듈)"
      ]
    },
    {
      "cell_type": "markdown",
      "metadata": {
        "id": "lOq5T3d5a3Gk",
        "colab_type": "text"
      },
      "source": [
        "## 1.오류 예외 처리\n",
        "코드를 실행하다보면 에러가 뜨기 마련.\n",
        "\n",
        "오류가 뜨면 프로그램이 멈춤.\n",
        "\n",
        "오류가 뜨더라도 프로그램이 멈추지 않게 하려 할 때 사용.\n"
      ]
    },
    {
      "cell_type": "markdown",
      "metadata": {
        "id": "VajSc8DLguJ6",
        "colab_type": "text"
      },
      "source": [
        "## try, except문\n",
        "<pre>\n",
        "* 사용법:\n",
        "try:\n",
        "  실제 실행할 실행문\n",
        "except 에러이름:\n",
        "  에러 시 대체할 실행문"
      ]
    },
    {
      "cell_type": "code",
      "metadata": {
        "id": "4tjsl_9qhSxU",
        "colab_type": "code",
        "colab": {
          "base_uri": "https://localhost:8080/",
          "height": 34
        },
        "outputId": "962e677a-a462-4154-bd41-03cf5e266a6f"
      },
      "source": [
        "try:\n",
        "  4/0\n",
        "except ZeroDivisionError: \n",
        "    print('ZeroDivisionError: division by zero가 나왔습니다')"
      ],
      "execution_count": 3,
      "outputs": [
        {
          "output_type": "stream",
          "text": [
            "ZeroDivisionError: division by zero가 나왔습니다\n"
          ],
          "name": "stdout"
        }
      ]
    },
    {
      "cell_type": "code",
      "metadata": {
        "id": "AWX8I4_Zhhcs",
        "colab_type": "code",
        "colab": {
          "base_uri": "https://localhost:8080/",
          "height": 162
        },
        "outputId": "b28e3a78-8eae-48c4-8b8c-0fbd783a0108"
      },
      "source": [
        "4/0"
      ],
      "execution_count": 4,
      "outputs": [
        {
          "output_type": "error",
          "ename": "ZeroDivisionError",
          "evalue": "ignored",
          "traceback": [
            "\u001b[0;31m---------------------------------------------------------------------------\u001b[0m",
            "\u001b[0;31mZeroDivisionError\u001b[0m                         Traceback (most recent call last)",
            "\u001b[0;32m<ipython-input-4-221068dc2815>\u001b[0m in \u001b[0;36m<module>\u001b[0;34m()\u001b[0m\n\u001b[0;32m----> 1\u001b[0;31m \u001b[0;36m4\u001b[0m\u001b[0;34m/\u001b[0m\u001b[0;36m0\u001b[0m\u001b[0;34m\u001b[0m\u001b[0;34m\u001b[0m\u001b[0m\n\u001b[0m",
            "\u001b[0;31mZeroDivisionError\u001b[0m: division by zero"
          ]
        }
      ]
    },
    {
      "cell_type": "markdown",
      "metadata": {
        "id": "JD9fCGsFhrAI",
        "colab_type": "text"
      },
      "source": [
        "## 2. 클래스\n",
        "클래스란 변수를 만드는 '틀'입니다.\n",
        "\n",
        "예를 들어 들어 봅시다.\n",
        "\n",
        "<pre>\n",
        "자동차라는 클래스를 만듭니다.\n",
        "이 자동차라는 클래스는 자동차를 만드는 틀이라고 보시면 됩니다.\n",
        "이 자동차라는 클래스를 통해 자동차를 만듭니다. \n",
        "그러면 연식, 배기량, 속도, 무게 등의 속성을 갖고 만들어집니다.\n",
        "이 자동차라는 클래스를 이용해서 만든 자동차는 달릴 수 있습니다. \n",
        "짐을 실을 수도 있습니다.\n",
        "</pre>\n"
      ]
    },
    {
      "cell_type": "markdown",
      "metadata": {
        "id": "kL6JR5o8h_7N",
        "colab_type": "text"
      },
      "source": [
        "### 1. class 만들기\n",
        "<pre>\n",
        "* 형식\n",
        "  class 클래스명():\n",
        "    클래스 속성\n",
        "    \n",
        "    클래스 함수"
      ]
    },
    {
      "cell_type": "code",
      "metadata": {
        "id": "Bnw3QQraiEEO",
        "colab_type": "code",
        "colab": {}
      },
      "source": [
        "class Car():\n",
        "  #자동차\n",
        "  \n",
        "  # 속성 만들기\n",
        "  def __init__(self, age, disp, vel, weight):\n",
        "    self.age = age # 연식\n",
        "    self.disp = disp # 배기량\n",
        "    self.vel = 0 # 초기 속도\n",
        "    self.weight = weight # 초기 무게\n",
        "  \n",
        "  # 가속 시키기\n",
        "  def accel(self,v):\n",
        "    self.vel = self.vel + v # v km/h 가속\n",
        "    print('현재 속도는 {}km/h 입니다.'.format(self.vel))\n",
        "  \n",
        "  # 감속 시키기\n",
        "  def brake(self,v):\n",
        "    self.vel = self.vel - v # v km/h 감속\n",
        "    print('현재 속도는 {}km/h 입니다.'.format(self.vel))\n",
        "  \n",
        "  # 짐 싯기\n",
        "  def Load_plus(self,x):\n",
        "    self.weight = self.weight + x # x kg 싯기\n",
        "    print('현재 무게는 {}kg 입니다.'.format(self.weight))\n",
        "  \n",
        "  # 짐 내리기\n",
        "  def Load_minus(self,x):\n",
        "    self.weight = self.weight - x # 20kg 내리기\n",
        "    print('현재 무게는 {}kg 입니다.'.format(self.weight))\n",
        "      \n",
        "  "
      ],
      "execution_count": 0,
      "outputs": []
    },
    {
      "cell_type": "markdown",
      "metadata": {
        "id": "mcw1Zz5IiLMy",
        "colab_type": "text"
      },
      "source": [
        "### 2. class 사용하기"
      ]
    },
    {
      "cell_type": "code",
      "metadata": {
        "id": "mgIzXIzxiPCp",
        "colab_type": "code",
        "colab": {}
      },
      "source": [
        "# Car 클래스로 연식, 배기량, 속도, 초기 무게 넣어서 Avante라는 객체 만들기\n",
        "Avante =Car(2018,1600,0,1190)"
      ],
      "execution_count": 0,
      "outputs": []
    },
    {
      "cell_type": "code",
      "metadata": {
        "id": "RwNDnhNEiTBU",
        "colab_type": "code",
        "colab": {
          "base_uri": "https://localhost:8080/",
          "height": 34
        },
        "outputId": "2fe30955-752d-4e83-dfcc-714d4ac5cef5"
      },
      "source": [
        "# Avante 의 연식 확인하기\n",
        "Avante.age"
      ],
      "execution_count": 7,
      "outputs": [
        {
          "output_type": "execute_result",
          "data": {
            "text/plain": [
              "2018"
            ]
          },
          "metadata": {
            "tags": []
          },
          "execution_count": 7
        }
      ]
    },
    {
      "cell_type": "code",
      "metadata": {
        "id": "Qdi6XHgPiT5d",
        "colab_type": "code",
        "colab": {
          "base_uri": "https://localhost:8080/",
          "height": 34
        },
        "outputId": "f30454b2-310e-4bc4-9168-2a6416631f8e"
      },
      "source": [
        "# Avante 의 배기량 확인하기\n",
        "Avante.disp"
      ],
      "execution_count": 8,
      "outputs": [
        {
          "output_type": "execute_result",
          "data": {
            "text/plain": [
              "1600"
            ]
          },
          "metadata": {
            "tags": []
          },
          "execution_count": 8
        }
      ]
    },
    {
      "cell_type": "code",
      "metadata": {
        "id": "8V0kbtxuiY8i",
        "colab_type": "code",
        "colab": {
          "base_uri": "https://localhost:8080/",
          "height": 34
        },
        "outputId": "76f2e783-6ece-4d09-cbd5-7ab9df6c0480"
      },
      "source": [
        "# Avante의 속도 확인하기\n",
        "Avante.vel"
      ],
      "execution_count": 9,
      "outputs": [
        {
          "output_type": "execute_result",
          "data": {
            "text/plain": [
              "0"
            ]
          },
          "metadata": {
            "tags": []
          },
          "execution_count": 9
        }
      ]
    },
    {
      "cell_type": "code",
      "metadata": {
        "id": "HDzGI-j6ia_O",
        "colab_type": "code",
        "colab": {
          "base_uri": "https://localhost:8080/",
          "height": 34
        },
        "outputId": "b7f91a9a-2e12-49ef-ea79-0e13449fa282"
      },
      "source": [
        "# Avante 5km/h 가속하기\n",
        "Avante.accel(5)"
      ],
      "execution_count": 10,
      "outputs": [
        {
          "output_type": "stream",
          "text": [
            "현재 속도는 5km/h 입니다.\n"
          ],
          "name": "stdout"
        }
      ]
    },
    {
      "cell_type": "code",
      "metadata": {
        "id": "ZF9Xg1Szic1m",
        "colab_type": "code",
        "colab": {
          "base_uri": "https://localhost:8080/",
          "height": 34
        },
        "outputId": "a45dbaa7-5686-40b5-cda4-e562487b486a"
      },
      "source": [
        "# Avante 10km/h 가속하기\n",
        "Avante.accel(10)"
      ],
      "execution_count": 11,
      "outputs": [
        {
          "output_type": "stream",
          "text": [
            "현재 속도는 15km/h 입니다.\n"
          ],
          "name": "stdout"
        }
      ]
    },
    {
      "cell_type": "code",
      "metadata": {
        "id": "XQaadk0JiepL",
        "colab_type": "code",
        "colab": {
          "base_uri": "https://localhost:8080/",
          "height": 34
        },
        "outputId": "596ed78f-2320-419e-ab46-da931f67f441"
      },
      "source": [
        "# Avante 7km/h 감속하기\n",
        "Avante.brake(7)"
      ],
      "execution_count": 12,
      "outputs": [
        {
          "output_type": "stream",
          "text": [
            "현재 속도는 8km/h 입니다.\n"
          ],
          "name": "stdout"
        }
      ]
    },
    {
      "cell_type": "code",
      "metadata": {
        "id": "AE7iK0xVigca",
        "colab_type": "code",
        "colab": {
          "base_uri": "https://localhost:8080/",
          "height": 34
        },
        "outputId": "7ca25e92-0c9a-440e-f6d2-834d6f2ad220"
      },
      "source": [
        "# Avante 속도 확인\n",
        "Avante.vel"
      ],
      "execution_count": 13,
      "outputs": [
        {
          "output_type": "execute_result",
          "data": {
            "text/plain": [
              "8"
            ]
          },
          "metadata": {
            "tags": []
          },
          "execution_count": 13
        }
      ]
    },
    {
      "cell_type": "code",
      "metadata": {
        "id": "oDLNLmCwiiat",
        "colab_type": "code",
        "colab": {
          "base_uri": "https://localhost:8080/",
          "height": 34
        },
        "outputId": "df89cd63-4f8c-4e1b-be95-7edeeececce6"
      },
      "source": [
        "# Avante 무게 확인\n",
        "Avante.weight"
      ],
      "execution_count": 14,
      "outputs": [
        {
          "output_type": "execute_result",
          "data": {
            "text/plain": [
              "1190"
            ]
          },
          "metadata": {
            "tags": []
          },
          "execution_count": 14
        }
      ]
    },
    {
      "cell_type": "code",
      "metadata": {
        "id": "df-YYsS-iks_",
        "colab_type": "code",
        "colab": {
          "base_uri": "https://localhost:8080/",
          "height": 34
        },
        "outputId": "893b12fa-76eb-498d-ef90-36196dbb24b6"
      },
      "source": [
        "# Avante에 30kg 싯기\n",
        "Avante.Load_plus(30)"
      ],
      "execution_count": 15,
      "outputs": [
        {
          "output_type": "stream",
          "text": [
            "현재 무게는 1220kg 입니다.\n"
          ],
          "name": "stdout"
        }
      ]
    },
    {
      "cell_type": "code",
      "metadata": {
        "id": "6E4V1ZUOims2",
        "colab_type": "code",
        "colab": {
          "base_uri": "https://localhost:8080/",
          "height": 34
        },
        "outputId": "d4595ece-11b8-46a0-87e1-ce58f883238b"
      },
      "source": [
        "# Avante에서 10kg 빼기\n",
        "Avante.Load_minus(10)"
      ],
      "execution_count": 17,
      "outputs": [
        {
          "output_type": "stream",
          "text": [
            "현재 무게는 1210kg 입니다.\n"
          ],
          "name": "stdout"
        }
      ]
    },
    {
      "cell_type": "code",
      "metadata": {
        "id": "V_1IB0D0iopg",
        "colab_type": "code",
        "colab": {
          "base_uri": "https://localhost:8080/",
          "height": 34
        },
        "outputId": "cd517ca3-dddd-4b89-d118-69f415243d98"
      },
      "source": [
        "# Avante의 무게 확인\n",
        "Avante.weight"
      ],
      "execution_count": 18,
      "outputs": [
        {
          "output_type": "execute_result",
          "data": {
            "text/plain": [
              "1210"
            ]
          },
          "metadata": {
            "tags": []
          },
          "execution_count": 18
        }
      ]
    },
    {
      "cell_type": "markdown",
      "metadata": {
        "id": "sYaBciKFiqbM",
        "colab_type": "text"
      },
      "source": [
        "\n",
        "이처럼 특정한 속성들을 갖고, 특정한 행위를 할 수 있는 변수를 만들 수 있습니다.\n",
        "\n",
        "이것의 장점은 일을 다음과 같습니다.\n",
        "\n",
        "어떤 한가지 일에 특화된 변수를 만들어 줄 수 있다는 것이죠.\n",
        "\n",
        "이는 협업에 있어서 꼭 필요한 부분입니다.\n",
        "\n",
        "각자 맡은 부분에 해당하는 일를 하는 클래스를 만들어 따로 관리할 수 있습니다.\n",
        "\n",
        "각자 맡은 부분을 붙이면 여러가지 응용을 할 수 있게 되겠지요."
      ]
    },
    {
      "cell_type": "markdown",
      "metadata": {
        "id": "XAReicGtisvC",
        "colab_type": "text"
      },
      "source": [
        "## 3.라이브러리(모듈)\n",
        "라이브러리란 특정 기능들의 묶음입니다.\n",
        "예를 들어 볼까요?\n",
        "\n",
        "<pre>\n",
        "예금하기, 이체하기, 적금들기, 출금하기 => 은행업무 라이브러리\n",
        "신규 고객 전화하기, 기존 고객 전화받기, 고객 장부 정리 => 고객관리 라이브러리 \n",
        "</pre>\n",
        "\n",
        "이런 식으로 어떤 행위들의 묶음을 라이브러리라고 합니다.\n",
        "\n",
        "우리는 필요에 따라 누군가가 만들어 둔 라이브러리를 불러와서 사용할 수 있습니다.\n",
        "\n",
        "함수가 들어있고, 클래스가 들어 있습니다."
      ]
    },
    {
      "cell_type": "markdown",
      "metadata": {
        "id": "16twW3BWi1zs",
        "colab_type": "text"
      },
      "source": [
        "### 1. 라이브러리 설치\n",
        "<pre>\n",
        "* 형식 :\n",
        "  !pip install 라이브러리명"
      ]
    },
    {
      "cell_type": "code",
      "metadata": {
        "id": "_dXTqpR5i6E_",
        "colab_type": "code",
        "colab": {
          "base_uri": "https://localhost:8080/",
          "height": 101
        },
        "outputId": "28145ef5-8661-4040-e7b8-ffdacd79477c"
      },
      "source": [
        "# 엑셀 파일 다루는 라이브러리 설치 : pandas\n",
        "!pip install pandas"
      ],
      "execution_count": 19,
      "outputs": [
        {
          "output_type": "stream",
          "text": [
            "Requirement already satisfied: pandas in /usr/local/lib/python3.6/dist-packages (0.24.2)\n",
            "Requirement already satisfied: python-dateutil>=2.5.0 in /usr/local/lib/python3.6/dist-packages (from pandas) (2.5.3)\n",
            "Requirement already satisfied: pytz>=2011k in /usr/local/lib/python3.6/dist-packages (from pandas) (2018.9)\n",
            "Requirement already satisfied: numpy>=1.12.0 in /usr/local/lib/python3.6/dist-packages (from pandas) (1.16.4)\n",
            "Requirement already satisfied: six>=1.5 in /usr/local/lib/python3.6/dist-packages (from python-dateutil>=2.5.0->pandas) (1.12.0)\n"
          ],
          "name": "stdout"
        }
      ]
    },
    {
      "cell_type": "markdown",
      "metadata": {
        "id": "sWBmXUSti9Cq",
        "colab_type": "text"
      },
      "source": [
        "### 2. 라이브러리 불러오기\n",
        "<pre>\n",
        "* 형식 :\n",
        "  import 라이브러리명"
      ]
    },
    {
      "cell_type": "code",
      "metadata": {
        "id": "kYf16uPBjBxx",
        "colab_type": "code",
        "colab": {}
      },
      "source": [
        "# 엑셀 파일 다루는 pandas 불러오기\n",
        "import pandas"
      ],
      "execution_count": 0,
      "outputs": []
    },
    {
      "cell_type": "code",
      "metadata": {
        "id": "dpJkdAnzjFNU",
        "colab_type": "code",
        "colab": {}
      },
      "source": [
        "# 고객 데이터 파일 불러오기\n",
        "df = pandas.read_excel('3-1고객_데이터.xlsx')"
      ],
      "execution_count": 0,
      "outputs": []
    },
    {
      "cell_type": "code",
      "metadata": {
        "id": "hD1_NjZijHP2",
        "colab_type": "code",
        "colab": {
          "base_uri": "https://localhost:8080/",
          "height": 101
        },
        "outputId": "26bcfa2d-794c-404c-86be-a0c078abbfb2"
      },
      "source": [
        "# 고객 데이터 출력하기\n",
        "print(df)"
      ],
      "execution_count": 22,
      "outputs": [
        {
          "output_type": "stream",
          "text": [
            "    이름        주소    생년월일 성별   가입 상품\n",
            "0  김영철  서울시 동대문구  900202  남  데이터 55\n",
            "1  박만수    서울시 중구  780511  남  데이터 45\n",
            "2  김영희   서울시 서초구  690722  여  데이터 35\n",
            "3  류승룡   서울시 노원구  991212  남  데이터 65\n"
          ],
          "name": "stdout"
        }
      ]
    },
    {
      "cell_type": "code",
      "metadata": {
        "id": "E4qE45-SS8fT",
        "colab_type": "code",
        "colab": {}
      },
      "source": [
        ""
      ],
      "execution_count": 0,
      "outputs": []
    }
  ]
}