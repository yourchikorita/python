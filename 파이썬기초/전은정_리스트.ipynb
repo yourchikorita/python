{
  "nbformat": 4,
  "nbformat_minor": 0,
  "metadata": {
    "colab": {
      "name": "전은정.ipynb의 사본",
      "version": "0.3.2",
      "provenance": [],
      "collapsed_sections": [],
      "toc_visible": true
    },
    "kernelspec": {
      "name": "python3",
      "display_name": "Python 3"
    }
  },
  "cells": [
    {
      "cell_type": "markdown",
      "metadata": {
        "id": "1I6mj-LbAMgF",
        "colab_type": "text"
      },
      "source": [
        "# 2.리스트\n",
        "여러개의 값을 담고 있는 변수."
      ]
    },
    {
      "cell_type": "markdown",
      "metadata": {
        "id": "QPfwUB3nAa1G",
        "colab_type": "text"
      },
      "source": [
        "## 2-1. 리스트 형식\n",
        "<pre>\n",
        "* 리스트 이름 = [값1, 값2, 값3,...]\n",
        "  리스트 이름 = []\n",
        "  \n",
        "\n",
        "* 리스트 이름으로 안되는 것들 : \n",
        "  - if, def, class, while, for, else 등의 예약어.\n",
        "  - 숫자로 시작하는 것\n",
        "  ex) 1a, 3name, ...\n",
        "  \n",
        "  \n",
        "* 리스트 특징\n",
        "  1. 순서가 존재\n",
        "  2. 값을 인덱스로 불러옴.\n",
        "  3. 값 수정 가능.\n",
        "\n",
        "\n"
      ]
    },
    {
      "cell_type": "code",
      "metadata": {
        "id": "g7m1y-kQCcjp",
        "colab_type": "code",
        "colab": {}
      },
      "source": [
        "a=[10,20,30]\n",
        "name=['철수']\n"
      ],
      "execution_count": 0,
      "outputs": []
    },
    {
      "cell_type": "markdown",
      "metadata": {
        "id": "3w1D7a4uEAht",
        "colab_type": "text"
      },
      "source": [
        "## 2-2. 리스트 인덱스\n",
        "<pre>\n",
        "* 형식 :\n",
        "  리스트명[인덱스]\n",
        "\n",
        "\n",
        "* 사용법 :\n",
        "  첫 번째 값: [0]\n",
        "  두 번째 값: [1]\n",
        "  마지막 값 : [끝 인덱스] or [-1]"
      ]
    },
    {
      "cell_type": "code",
      "metadata": {
        "id": "RafT_WMEEPiQ",
        "colab_type": "code",
        "colab": {}
      },
      "source": [
        "a=[10,20,30]"
      ],
      "execution_count": 0,
      "outputs": []
    },
    {
      "cell_type": "code",
      "metadata": {
        "id": "Wb6y_Qb1IMIS",
        "colab_type": "code",
        "outputId": "fe92883c-3054-4f86-ce51-f0f3c5913462",
        "colab": {
          "base_uri": "https://localhost:8080/",
          "height": 34
        }
      },
      "source": [
        "print(a[0],a[1])"
      ],
      "execution_count": 0,
      "outputs": [
        {
          "output_type": "stream",
          "text": [
            "10 20\n"
          ],
          "name": "stdout"
        }
      ]
    },
    {
      "cell_type": "markdown",
      "metadata": {
        "id": "ETPEbbObI5zr",
        "colab_type": "text"
      },
      "source": [
        "### 리스트 내부 리스트의 인덱스"
      ]
    },
    {
      "cell_type": "code",
      "metadata": {
        "id": "H16z3JshIc0X",
        "colab_type": "code",
        "colab": {}
      },
      "source": [
        "z=[11,['a','b']]"
      ],
      "execution_count": 0,
      "outputs": []
    },
    {
      "cell_type": "code",
      "metadata": {
        "id": "H0mplNBSJLhp",
        "colab_type": "code",
        "outputId": "83f8510a-ab1e-424d-cffb-32f5d9b453af",
        "colab": {
          "base_uri": "https://localhost:8080/",
          "height": 34
        }
      },
      "source": [
        "print(z[1][0])"
      ],
      "execution_count": 0,
      "outputs": [
        {
          "output_type": "stream",
          "text": [
            "a\n"
          ],
          "name": "stdout"
        }
      ]
    },
    {
      "cell_type": "code",
      "metadata": {
        "id": "ObrHqPz9XUrj",
        "colab_type": "code",
        "outputId": "066e8354-1129-40b0-9d23-d53d33c21323",
        "colab": {
          "base_uri": "https://localhost:8080/",
          "height": 34
        }
      },
      "source": [
        "print(z[1][1])"
      ],
      "execution_count": 0,
      "outputs": [
        {
          "output_type": "stream",
          "text": [
            "b\n"
          ],
          "name": "stdout"
        }
      ]
    },
    {
      "cell_type": "code",
      "metadata": {
        "id": "fk-1Jt-DKXQb",
        "colab_type": "code",
        "colab": {}
      },
      "source": [
        "a = [3, 7, ['수박', '참외',['사과', '딸기']]]"
      ],
      "execution_count": 0,
      "outputs": []
    },
    {
      "cell_type": "code",
      "metadata": {
        "id": "TSlHK0ykcbW4",
        "colab_type": "code",
        "outputId": "86619636-d2e2-411c-ab12-de3e14d1cbf8",
        "colab": {
          "base_uri": "https://localhost:8080/",
          "height": 34
        }
      },
      "source": [
        "print(a[2][2])"
      ],
      "execution_count": 0,
      "outputs": [
        {
          "output_type": "stream",
          "text": [
            "['사과', '딸기']\n"
          ],
          "name": "stdout"
        }
      ]
    },
    {
      "cell_type": "code",
      "metadata": {
        "id": "OWBrJi9DXeCJ",
        "colab_type": "code",
        "outputId": "167740a1-411a-4dde-967d-b686b1a02201",
        "colab": {
          "base_uri": "https://localhost:8080/",
          "height": 34
        }
      },
      "source": [
        "print(a[2][2][1])"
      ],
      "execution_count": 0,
      "outputs": [
        {
          "output_type": "stream",
          "text": [
            "딸기\n"
          ],
          "name": "stdout"
        }
      ]
    },
    {
      "cell_type": "markdown",
      "metadata": {
        "id": "1JS8VyCMKZKe",
        "colab_type": "text"
      },
      "source": [
        "## 2-3.리스트 슬라이스\n",
        "<pre>\n",
        "사용법 :\n",
        "\n",
        "리스트명[시작인덱스:원하는인덱스+1]"
      ]
    },
    {
      "cell_type": "code",
      "metadata": {
        "id": "nL7WdQ3VLsLK",
        "colab_type": "code",
        "colab": {}
      },
      "source": [
        "z=[1,2,3,4,5,6,7,8,9]"
      ],
      "execution_count": 0,
      "outputs": []
    },
    {
      "cell_type": "code",
      "metadata": {
        "id": "I2520GHKdxTn",
        "colab_type": "code",
        "outputId": "354f21cd-9044-44f7-f56c-c1150be73a29",
        "colab": {
          "base_uri": "https://localhost:8080/",
          "height": 34
        }
      },
      "source": [
        "# 0번부터 1번 포함 슬라이스 하려면?\n",
        "print(z[0:1])"
      ],
      "execution_count": 0,
      "outputs": [
        {
          "output_type": "stream",
          "text": [
            "[1]\n"
          ],
          "name": "stdout"
        }
      ]
    },
    {
      "cell_type": "code",
      "metadata": {
        "id": "yo7ijDEzeUQ2",
        "colab_type": "code",
        "outputId": "f89dee0b-b33b-4ecf-f168-c3f54ffeec7e",
        "colab": {
          "base_uri": "https://localhost:8080/",
          "height": 34
        }
      },
      "source": [
        "# 시작인덱스가 0이라면 생략 가능\n",
        "print(z[:2])"
      ],
      "execution_count": 0,
      "outputs": [
        {
          "output_type": "stream",
          "text": [
            "[1, 2]\n"
          ],
          "name": "stdout"
        }
      ]
    },
    {
      "cell_type": "code",
      "metadata": {
        "id": "wysoIyDTMRAF",
        "colab_type": "code",
        "outputId": "13540f0f-c3ba-4d44-d515-ee1cd47d2945",
        "colab": {
          "base_uri": "https://localhost:8080/",
          "height": 34
        }
      },
      "source": [
        "# 2번부터 4번 포함 슬라이스 하려면?\n",
        "print(z[1:4])"
      ],
      "execution_count": 0,
      "outputs": [
        {
          "output_type": "stream",
          "text": [
            "[2, 3, 4]\n"
          ],
          "name": "stdout"
        }
      ]
    },
    {
      "cell_type": "code",
      "metadata": {
        "id": "QcBaeL2hNM13",
        "colab_type": "code",
        "outputId": "88877432-f89a-49cc-ceed-5c447087d4b7",
        "colab": {
          "base_uri": "https://localhost:8080/",
          "height": 34
        }
      },
      "source": [
        "# 마지막 인덱스까지 하려한다면 생략가능\n",
        "print(z[0:])"
      ],
      "execution_count": 0,
      "outputs": [
        {
          "output_type": "stream",
          "text": [
            "[1, 2, 3, 4, 5, 6, 7, 8, 9]\n"
          ],
          "name": "stdout"
        }
      ]
    },
    {
      "cell_type": "markdown",
      "metadata": {
        "id": "yKCCD2IzhEYa",
        "colab_type": "text"
      },
      "source": [
        "### 슬라이스로 나타낸 리스트\n",
        "<pre>\n",
        "사용법 :\n",
        "리스트명[:] "
      ]
    },
    {
      "cell_type": "code",
      "metadata": {
        "id": "ywwTIPFORqMj",
        "colab_type": "code",
        "colab": {}
      },
      "source": [
        "z=[1,2,3,4,5,6,7,8,9]"
      ],
      "execution_count": 0,
      "outputs": []
    },
    {
      "cell_type": "code",
      "metadata": {
        "id": "gmVmjO4-hkYx",
        "colab_type": "code",
        "outputId": "c28f1ea7-95b7-468d-9f8a-6b2897c847fe",
        "colab": {
          "base_uri": "https://localhost:8080/",
          "height": 34
        }
      },
      "source": [
        "print(z[:])"
      ],
      "execution_count": 0,
      "outputs": [
        {
          "output_type": "stream",
          "text": [
            "[1, 2, 3, 4, 5, 6, 7, 8, 9]\n"
          ],
          "name": "stdout"
        }
      ]
    },
    {
      "cell_type": "code",
      "metadata": {
        "id": "1ppNQZVOiEJm",
        "colab_type": "code",
        "outputId": "c1d947e4-8ecb-402e-dd49-b1380d7447a8",
        "colab": {
          "base_uri": "https://localhost:8080/",
          "height": 34
        }
      },
      "source": [
        "print(z[::2])"
      ],
      "execution_count": 0,
      "outputs": [
        {
          "output_type": "stream",
          "text": [
            "[1, 3, 5, 7, 9]\n"
          ],
          "name": "stdout"
        }
      ]
    },
    {
      "cell_type": "markdown",
      "metadata": {
        "id": "htNRq2T0yYpe",
        "colab_type": "text"
      },
      "source": [
        "#### 슬라이스 증감폭 부여\n",
        "<pre>\n",
        "사용법:\n",
        "\n",
        "리스트명[::]\n",
        "\n",
        "리스트명[시작인덱스:원하는인덱스+1:증감폭]\n"
      ]
    },
    {
      "cell_type": "code",
      "metadata": {
        "id": "PLg9rZk3ysCG",
        "colab_type": "code",
        "colab": {}
      },
      "source": [
        "z=[1,2,3,4,5,6,7,8,9]"
      ],
      "execution_count": 0,
      "outputs": []
    },
    {
      "cell_type": "code",
      "metadata": {
        "id": "_Gl6i4wDgzuh",
        "colab_type": "code",
        "outputId": "46521f2f-81c6-43ae-a641-537660ad4de3",
        "colab": {
          "base_uri": "https://localhost:8080/",
          "height": 34
        }
      },
      "source": [
        "# 증감폭 1 = 전체 다 가져오기\n",
        "print(z[:])"
      ],
      "execution_count": 0,
      "outputs": [
        {
          "output_type": "stream",
          "text": [
            "[1, 2, 3, 4, 5, 6, 7, 8, 9]\n"
          ],
          "name": "stdout"
        }
      ]
    },
    {
      "cell_type": "code",
      "metadata": {
        "id": "KS1zQvA1jVyw",
        "colab_type": "code",
        "outputId": "eabdfc00-4940-4df9-9fc6-c64931317135",
        "colab": {
          "base_uri": "https://localhost:8080/",
          "height": 34
        }
      },
      "source": [
        "# 같은 결과? 1생략되어 있음.\n",
        "print(z[::])"
      ],
      "execution_count": 0,
      "outputs": [
        {
          "output_type": "stream",
          "text": [
            "[1, 2, 3, 4, 5, 6, 7, 8, 9]\n"
          ],
          "name": "stdout"
        }
      ]
    },
    {
      "cell_type": "code",
      "metadata": {
        "id": "evLugoVzicet",
        "colab_type": "code",
        "outputId": "b0e677a0-9046-40d1-bf1f-b4b01d22928c",
        "colab": {
          "base_uri": "https://localhost:8080/",
          "height": 34
        }
      },
      "source": [
        "# 한 개씩 건너 띄기\n",
        "print(z[::2])"
      ],
      "execution_count": 0,
      "outputs": [
        {
          "output_type": "stream",
          "text": [
            "[1, 3, 5, 7, 9]\n"
          ],
          "name": "stdout"
        }
      ]
    },
    {
      "cell_type": "code",
      "metadata": {
        "id": "Mq9H4vL3zw98",
        "colab_type": "code",
        "outputId": "c83b6b3a-3149-4682-d7a2-4bd6ef9e404f",
        "colab": {
          "base_uri": "https://localhost:8080/",
          "height": 34
        }
      },
      "source": [
        "# 짝수만 가져오려면?\n",
        "print(z[1::2])"
      ],
      "execution_count": 0,
      "outputs": [
        {
          "output_type": "stream",
          "text": [
            "[2, 4, 6, 8]\n"
          ],
          "name": "stdout"
        }
      ]
    },
    {
      "cell_type": "code",
      "metadata": {
        "id": "BvMiSC-pz2GG",
        "colab_type": "code",
        "outputId": "039e131b-2802-4b2f-c9d1-00237230e2cc",
        "colab": {
          "base_uri": "https://localhost:8080/",
          "height": 34
        }
      },
      "source": [
        "# 2개씩 건너띄기\n",
        "print(z[::3])"
      ],
      "execution_count": 0,
      "outputs": [
        {
          "output_type": "stream",
          "text": [
            "[1, 4, 7]\n"
          ],
          "name": "stdout"
        }
      ]
    },
    {
      "cell_type": "code",
      "metadata": {
        "id": "7oYR33Hw0iv8",
        "colab_type": "code",
        "outputId": "86cd98a1-d083-48c1-f2a4-6832c3563026",
        "colab": {
          "base_uri": "https://localhost:8080/",
          "height": 34
        }
      },
      "source": [
        "# 인덱스 1번부터 3번까지 한 개씩 건너띄기\n",
        "print(z[0:4:2])"
      ],
      "execution_count": 0,
      "outputs": [
        {
          "output_type": "stream",
          "text": [
            "[1, 3]\n"
          ],
          "name": "stdout"
        }
      ]
    },
    {
      "cell_type": "markdown",
      "metadata": {
        "id": "X14m-esINwOX",
        "colab_type": "text"
      },
      "source": [
        "## 2-4.리스트 연산\n"
      ]
    },
    {
      "cell_type": "markdown",
      "metadata": {
        "id": "9ckHCAHeSgXV",
        "colab_type": "text"
      },
      "source": [
        "### 리스트 더하기\n",
        "'+' 연산자 사용"
      ]
    },
    {
      "cell_type": "code",
      "metadata": {
        "id": "el2_Kv8zSNvK",
        "colab_type": "code",
        "colab": {}
      },
      "source": [
        "a= ['철수', '영희']\n",
        "b= ['민수', '영수']"
      ],
      "execution_count": 0,
      "outputs": []
    },
    {
      "cell_type": "code",
      "metadata": {
        "id": "yM-awlS8kR0U",
        "colab_type": "code",
        "outputId": "4d161cb1-a27a-4ff0-e2d4-3ea9052c8693",
        "colab": {
          "base_uri": "https://localhost:8080/",
          "height": 34
        }
      },
      "source": [
        "# 리스트 a와 리스트 b를 더해서 리스트 c 만들기\n",
        "c=a+b\n",
        "print(c)"
      ],
      "execution_count": 0,
      "outputs": [
        {
          "output_type": "stream",
          "text": [
            "['철수', '영희', '민수', '영수']\n"
          ],
          "name": "stdout"
        }
      ]
    },
    {
      "cell_type": "markdown",
      "metadata": {
        "id": "dynxiMB6SsA5",
        "colab_type": "text"
      },
      "source": [
        "### 리스트 반복하기\n",
        "'*' 연산자 사용"
      ]
    },
    {
      "cell_type": "code",
      "metadata": {
        "id": "DxGJJJU1S4hc",
        "colab_type": "code",
        "outputId": "71e6d35c-9a4f-4f05-b6f9-ad3d401342e8",
        "colab": {
          "base_uri": "https://localhost:8080/",
          "height": 34
        }
      },
      "source": [
        "# 리스트 a의 값 3번 반복\n",
        "print(a*3)"
      ],
      "execution_count": 0,
      "outputs": [
        {
          "output_type": "stream",
          "text": [
            "['철수', '영희', '철수', '영희', '철수', '영희']\n"
          ],
          "name": "stdout"
        }
      ]
    },
    {
      "cell_type": "markdown",
      "metadata": {
        "id": "81u5VbxzS7UT",
        "colab_type": "text"
      },
      "source": [
        "### 리스트 길이 구하기(len() 함수)\n",
        "<pre>\n",
        "사용법:\n",
        "len(리스트명)"
      ]
    },
    {
      "cell_type": "code",
      "metadata": {
        "id": "dtK247SoTEkH",
        "colab_type": "code",
        "outputId": "6518ca64-c11d-42e4-e80a-2637a1260f05",
        "colab": {
          "base_uri": "https://localhost:8080/",
          "height": 34
        }
      },
      "source": [
        "# 리스트 a의 길이\n",
        "len(a)"
      ],
      "execution_count": 0,
      "outputs": [
        {
          "output_type": "execute_result",
          "data": {
            "text/plain": [
              "2"
            ]
          },
          "metadata": {
            "tags": []
          },
          "execution_count": 45
        }
      ]
    },
    {
      "cell_type": "markdown",
      "metadata": {
        "id": "acZ3MOdwTGjK",
        "colab_type": "text"
      },
      "source": [
        "## 2-5.리스트 수정하기\n"
      ]
    },
    {
      "cell_type": "markdown",
      "metadata": {
        "id": "vEaeDI2aThLk",
        "colab_type": "text"
      },
      "source": [
        "### 리스트에 값 추가하기(append 함수)\n",
        "<pre>\n",
        "* 사용법:\n",
        "  리스트명.append(값)\n",
        "  \n",
        "* 결과:\n",
        "  값이 마지막 인덱스로 들어감."
      ]
    },
    {
      "cell_type": "code",
      "metadata": {
        "id": "Sehdzi7CWiml",
        "colab_type": "code",
        "colab": {}
      },
      "source": [
        "a = ['철수', '영희', '민지']"
      ],
      "execution_count": 0,
      "outputs": []
    },
    {
      "cell_type": "code",
      "metadata": {
        "id": "ASH7353ZldNd",
        "colab_type": "code",
        "outputId": "06d2991f-20fb-4319-e50b-98643a43ed79",
        "colab": {
          "base_uri": "https://localhost:8080/",
          "height": 34
        }
      },
      "source": [
        "# '남준' 추가\n",
        "a.append('남준')\n",
        "print(a)"
      ],
      "execution_count": 0,
      "outputs": [
        {
          "output_type": "stream",
          "text": [
            "['철수', '영희', '민지', '남준']\n"
          ],
          "name": "stdout"
        }
      ]
    },
    {
      "cell_type": "code",
      "metadata": {
        "id": "DS3rFaX1W_xG",
        "colab_type": "code",
        "outputId": "f52a780a-433f-4e9c-f787-c9a0cf45e17f",
        "colab": {
          "base_uri": "https://localhost:8080/",
          "height": 34
        }
      },
      "source": [
        "# 리스트를 넣는 경우\n",
        "b= ['경수', '희철']\n",
        "a.append(b)\n",
        "print(a)"
      ],
      "execution_count": 0,
      "outputs": [
        {
          "output_type": "stream",
          "text": [
            "['철수', '영희', '민지', '남준', ['경수', '희철'], ['경수', '희철']]\n"
          ],
          "name": "stdout"
        }
      ]
    },
    {
      "cell_type": "code",
      "metadata": {
        "id": "cLBH8c_IXFtj",
        "colab_type": "code",
        "colab": {}
      },
      "source": [
        ""
      ],
      "execution_count": 0,
      "outputs": []
    },
    {
      "cell_type": "markdown",
      "metadata": {
        "id": "hrWm9rLNXOkF",
        "colab_type": "text"
      },
      "source": [
        "### 리스트에 여러 값들만 추가(extend 함수)\n",
        "<pre>\n",
        "* 사용법\n",
        "리스트명.extend(다른 리스트)"
      ]
    },
    {
      "cell_type": "code",
      "metadata": {
        "id": "ko1nMeO-XWP4",
        "colab_type": "code",
        "colab": {}
      },
      "source": [
        "b = ['경수', '희철']\n",
        "c = ['대희', '수민']"
      ],
      "execution_count": 0,
      "outputs": []
    },
    {
      "cell_type": "code",
      "metadata": {
        "id": "V1m8XpOzmLWF",
        "colab_type": "code",
        "outputId": "e11709b5-7910-494d-a6e3-3f7629726ea5",
        "colab": {
          "base_uri": "https://localhost:8080/",
          "height": 34
        }
      },
      "source": [
        "# 리스트 b에 리스트 c의 값들만 추가\n",
        "b.extend(c)\n",
        "print(b)"
      ],
      "execution_count": 0,
      "outputs": [
        {
          "output_type": "stream",
          "text": [
            "['경수', '희철', '대희', '수민', '대희', '수민']\n"
          ],
          "name": "stdout"
        }
      ]
    },
    {
      "cell_type": "markdown",
      "metadata": {
        "id": "6oO8coyxX4b4",
        "colab_type": "text"
      },
      "source": [
        "### 원하는 인덱스(순번)에 값 넣기(insert 함수)\n",
        "<pre>\n",
        "사용법:\n",
        "리스트명.insert(원하는 인덱스, 값)"
      ]
    },
    {
      "cell_type": "code",
      "metadata": {
        "id": "R-xEU3j_YYE9",
        "colab_type": "code",
        "colab": {}
      },
      "source": [
        "z=[1, 2, 3, 4]"
      ],
      "execution_count": 0,
      "outputs": []
    },
    {
      "cell_type": "code",
      "metadata": {
        "id": "fg0k2OPOmyQB",
        "colab_type": "code",
        "outputId": "23f6b92e-335e-41f7-9d57-3e76cefdc4a5",
        "colab": {
          "base_uri": "https://localhost:8080/",
          "height": 34
        }
      },
      "source": [
        "# 2번째 인덱스에 7넣기\n",
        "z.insert(2,7)\n",
        "print(z)"
      ],
      "execution_count": 0,
      "outputs": [
        {
          "output_type": "stream",
          "text": [
            "[1, 2, 7, 3, 4]\n"
          ],
          "name": "stdout"
        }
      ]
    },
    {
      "cell_type": "code",
      "metadata": {
        "id": "-SANKNu7Yair",
        "colab_type": "code",
        "colab": {}
      },
      "source": [
        ""
      ],
      "execution_count": 0,
      "outputs": []
    },
    {
      "cell_type": "markdown",
      "metadata": {
        "id": "se3wZBwLYbwP",
        "colab_type": "text"
      },
      "source": [
        "### 리스트 값 제거(remove 함수)\n",
        "<pre>\n",
        "* 사용법:\n",
        "  리스트명.remove(값)\n",
        "\n",
        "* 결과:\n",
        "  선행 인덱스의 값을 제거"
      ]
    },
    {
      "cell_type": "code",
      "metadata": {
        "id": "cdtmWL5TY0AW",
        "colab_type": "code",
        "colab": {}
      },
      "source": [
        "q = [1,2,3,3]"
      ],
      "execution_count": 0,
      "outputs": []
    },
    {
      "cell_type": "code",
      "metadata": {
        "id": "gRrQwaDLnTd3",
        "colab_type": "code",
        "outputId": "f228def4-82b8-4b61-81e5-a93a01e0361e",
        "colab": {
          "base_uri": "https://localhost:8080/",
          "height": 34
        }
      },
      "source": [
        "# 3을 제거\n",
        "q.remove(1)\n",
        "print(q)"
      ],
      "execution_count": 0,
      "outputs": [
        {
          "output_type": "stream",
          "text": [
            "[2, 3, 3]\n"
          ],
          "name": "stdout"
        }
      ]
    },
    {
      "cell_type": "markdown",
      "metadata": {
        "id": "1TZC7FXoZAcT",
        "colab_type": "text"
      },
      "source": [
        "### 리스트 값 바꾸기\n",
        "<pre>\n",
        "* 사용법:.\n",
        "리스트명[인덱스] = 바꾸고자 하는 값"
      ]
    },
    {
      "cell_type": "code",
      "metadata": {
        "id": "SObM-ltpZa8j",
        "colab_type": "code",
        "colab": {}
      },
      "source": [
        "a=['철수', '영희', '남희']"
      ],
      "execution_count": 0,
      "outputs": []
    },
    {
      "cell_type": "code",
      "metadata": {
        "id": "S-d3D_85njDN",
        "colab_type": "code",
        "outputId": "95bd15de-483f-4133-fbf1-07087c26fde0",
        "colab": {
          "base_uri": "https://localhost:8080/",
          "height": 34
        }
      },
      "source": [
        "# 0번 인덱스 값 '인수'로 바꾸기\n",
        "a[0]='인수'\n",
        "print(a)"
      ],
      "execution_count": 0,
      "outputs": [
        {
          "output_type": "stream",
          "text": [
            "['인수', '영희', '남희']\n"
          ],
          "name": "stdout"
        }
      ]
    },
    {
      "cell_type": "code",
      "metadata": {
        "id": "6v1NqgVeZk-z",
        "colab_type": "code",
        "colab": {}
      },
      "source": [
        ""
      ],
      "execution_count": 0,
      "outputs": []
    },
    {
      "cell_type": "markdown",
      "metadata": {
        "id": "1dEkwxqkZrzv",
        "colab_type": "text"
      },
      "source": [
        "### 리스트 값의 인덱스(순번) 찾기(index 함수)\n",
        "<pre>\n",
        "* 사용법:\n",
        "리스트명.index(값)"
      ]
    },
    {
      "cell_type": "code",
      "metadata": {
        "id": "RIO8exdcaI_o",
        "colab_type": "code",
        "colab": {}
      },
      "source": [
        "a=['철수', '영희', '남희']"
      ],
      "execution_count": 0,
      "outputs": []
    },
    {
      "cell_type": "code",
      "metadata": {
        "id": "-he_5b8qoGXf",
        "colab_type": "code",
        "outputId": "047e90e5-94c1-44a3-c5e0-fc199b8e2748",
        "colab": {
          "base_uri": "https://localhost:8080/",
          "height": 34
        }
      },
      "source": [
        "# '영희'의 인덱스 찾기\n",
        "a.index('영희')"
      ],
      "execution_count": 0,
      "outputs": [
        {
          "output_type": "execute_result",
          "data": {
            "text/plain": [
              "1"
            ]
          },
          "metadata": {
            "tags": []
          },
          "execution_count": 74
        }
      ]
    },
    {
      "cell_type": "markdown",
      "metadata": {
        "id": "5lwUkJhlaL3a",
        "colab_type": "text"
      },
      "source": [
        "### 특정 값의 개수 세기(count 함수)\n",
        "<pre>\n",
        "* 사용법:\n",
        "리스트명.count(값)"
      ]
    },
    {
      "cell_type": "code",
      "metadata": {
        "id": "NWNgcDorafcB",
        "colab_type": "code",
        "colab": {}
      },
      "source": [
        "a=[1,3,3,7,9]"
      ],
      "execution_count": 0,
      "outputs": []
    },
    {
      "cell_type": "code",
      "metadata": {
        "id": "UQENLJRCog_s",
        "colab_type": "code",
        "outputId": "cc7801f3-9234-4dac-fddc-0b9fa1ba9ae0",
        "colab": {
          "base_uri": "https://localhost:8080/",
          "height": 34
        }
      },
      "source": [
        "print(a.count(3))"
      ],
      "execution_count": 0,
      "outputs": [
        {
          "output_type": "stream",
          "text": [
            "2\n"
          ],
          "name": "stdout"
        }
      ]
    },
    {
      "cell_type": "code",
      "metadata": {
        "id": "vPTEC1lNclLd",
        "colab_type": "code",
        "colab": {}
      },
      "source": [
        ""
      ],
      "execution_count": 0,
      "outputs": []
    }
  ]
}