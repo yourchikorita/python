{
  "nbformat": 4,
  "nbformat_minor": 0,
  "metadata": {
    "colab": {
      "name": "전은정_for문.ipynb",
      "version": "0.3.2",
      "provenance": [],
      "collapsed_sections": []
    },
    "kernelspec": {
      "name": "python3",
      "display_name": "Python 3"
    }
  },
  "cells": [
    {
      "cell_type": "markdown",
      "metadata": {
        "id": "RVUAe47mm5Ln",
        "colab_type": "text"
      },
      "source": [
        "# for문\n",
        "횟수 혹은 값의 수 만큼 반복하는 제어문"
      ]
    },
    {
      "cell_type": "markdown",
      "metadata": {
        "id": "vNiapM5FoWWs",
        "colab_type": "text"
      },
      "source": [
        "## for문의 기본 구조\n",
        "<pre>\n",
        "* 형식:\n",
        "  for 변수 in 리스트(또는 튜플, 문자열):\n",
        "    수행할 문장1\n",
        "    수행할 문장2\n",
        "    ..."
      ]
    },
    {
      "cell_type": "markdown",
      "metadata": {
        "id": "kN2sF1PlqCgD",
        "colab_type": "text"
      },
      "source": [
        "## for문 사용하기"
      ]
    },
    {
      "cell_type": "code",
      "metadata": {
        "id": "PfbEAD_lpZzr",
        "colab_type": "code",
        "outputId": "ac212846-fa82-4d26-ff68-498f8af3d046",
        "colab": {
          "base_uri": "https://localhost:8080/",
          "height": 67
        }
      },
      "source": [
        "list1=['a','b','c']\n",
        "for i in list1:\n",
        "  print(i)"
      ],
      "execution_count": 0,
      "outputs": [
        {
          "output_type": "stream",
          "text": [
            "a\n",
            "b\n",
            "c\n"
          ],
          "name": "stdout"
        }
      ]
    },
    {
      "cell_type": "code",
      "metadata": {
        "id": "wqOOHgmtp--o",
        "colab_type": "code",
        "outputId": "59488a8a-d582-42e8-f01e-daf7db455655",
        "colab": {
          "base_uri": "https://localhost:8080/",
          "height": 67
        }
      },
      "source": [
        "a=[(2,4),(6,8),(9,10)]\n",
        "for i in a:\n",
        "  print(i)"
      ],
      "execution_count": 0,
      "outputs": [
        {
          "output_type": "stream",
          "text": [
            "(2, 4)\n",
            "(6, 8)\n",
            "(9, 10)\n"
          ],
          "name": "stdout"
        }
      ]
    },
    {
      "cell_type": "code",
      "metadata": {
        "id": "MiKFJXDUq1yR",
        "colab_type": "code",
        "outputId": "a465628d-6c92-4d20-82f3-418167ca52a3",
        "colab": {
          "base_uri": "https://localhost:8080/",
          "height": 67
        }
      },
      "source": [
        "for i , j in a:\n",
        "  print(i,j)"
      ],
      "execution_count": 0,
      "outputs": [
        {
          "output_type": "stream",
          "text": [
            "2 4\n",
            "6 8\n",
            "9 10\n"
          ],
          "name": "stdout"
        }
      ]
    },
    {
      "cell_type": "code",
      "metadata": {
        "id": "eoKVdGsFq8jR",
        "colab_type": "code",
        "outputId": "e4eeb04a-f2a7-4fee-fc9b-aed32761d0f6",
        "colab": {
          "base_uri": "https://localhost:8080/",
          "height": 101
        }
      },
      "source": [
        "# 합/불합격 통보 프로그램\n",
        "scores = [80, 70, 75, 85, 55]\n",
        "num=0\n",
        "for score in scores:\n",
        "  num=num+1\n",
        "  if score  >= 60:\n",
        "    print('{}번 학생 합격입니다.'.format(num))\n",
        "  else:\n",
        "    print('{}번 학생 불합격입니다.'.format(num))\n"
      ],
      "execution_count": 0,
      "outputs": [
        {
          "output_type": "stream",
          "text": [
            "1번 학생 합격입니다.\n",
            "2번 학생 합격입니다.\n",
            "3번 학생 합격입니다.\n",
            "4번 학생 합격입니다.\n",
            "5번 학생 불합격입니다.\n"
          ],
          "name": "stdout"
        }
      ]
    },
    {
      "cell_type": "markdown",
      "metadata": {
        "id": "j1Q_l9kiWvpw",
        "colab_type": "text"
      },
      "source": [
        "### enumerate()\n",
        "순서가 있는 자료형(리스트, 튜플, 문자열)을 받아 인덱스(순번)과 값을 돌려줌.\n",
        "\n",
        "for 문과 자주 사용됨.\n",
        "앞이 인덱스 0부터시작이니까 0+1, k는 이름"
      ]
    },
    {
      "cell_type": "code",
      "metadata": {
        "id": "XBqRQcvzX3xc",
        "colab_type": "code",
        "outputId": "f097a628-4abe-4133-83bc-69cc0d24155c",
        "colab": {
          "base_uri": "https://localhost:8080/",
          "height": 67
        }
      },
      "source": [
        "for i,k in enumerate(['철수','민수','명수']) :\n",
        "  print('{}번 학생 이름은 {}입니다.'.format(i+1,k))"
      ],
      "execution_count": 0,
      "outputs": [
        {
          "output_type": "stream",
          "text": [
            "1번 학생 이름은 철수입니다.\n",
            "2번 학생 이름은 민수입니다.\n",
            "3번 학생 이름은 명수입니다.\n"
          ],
          "name": "stdout"
        }
      ]
    },
    {
      "cell_type": "code",
      "metadata": {
        "id": "nsj0PF8tYrIb",
        "colab_type": "code",
        "outputId": "6f916f31-0573-440f-ec0a-a703d38ab04c",
        "colab": {
          "base_uri": "https://localhost:8080/",
          "height": 101
        }
      },
      "source": [
        "# 합/불합격 통보 프로그램\n",
        "scores = [80,70,75,85,55]\n",
        "for i,k in enumerate(scores):\n",
        "  if k>=60 :\n",
        "    print('{}번 학생은 합격'.format(i+1))\n",
        "  else:\n",
        "    print('{}번 학생은 불합격'.format(i+1))"
      ],
      "execution_count": 0,
      "outputs": [
        {
          "output_type": "stream",
          "text": [
            "1번 학생은 합격\n",
            "2번 학생은 합격\n",
            "3번 학생은 합격\n",
            "4번 학생은 합격\n",
            "5번 학생은 불합격\n"
          ],
          "name": "stdout"
        }
      ]
    },
    {
      "cell_type": "markdown",
      "metadata": {
        "id": "qlCy8bnGsxDY",
        "colab_type": "text"
      },
      "source": [
        "## continue\n",
        "for 문에 continue 이용\n",
        "continue 쓰면 그 밑이 실행안되고 위로 올라감"
      ]
    },
    {
      "cell_type": "code",
      "metadata": {
        "id": "OvMLLJ7TQnb_",
        "colab_type": "code",
        "outputId": "42aa3f88-6c44-407a-9ae3-a72c239902a3",
        "colab": {
          "base_uri": "https://localhost:8080/",
          "height": 67
        }
      },
      "source": [
        "# 합격 통보기\n",
        "scores = [80, 70, 75, 85, 55]\n",
        "for i,score in enumerate(scores) :\n",
        "  if score >=75 :\n",
        "   print('{}번 학생 합격'.format(i+1))\n",
        "  else:\n",
        "   continue\n",
        "   print('불합') # 이 부분 실행 안됨"
      ],
      "execution_count": 0,
      "outputs": [
        {
          "output_type": "stream",
          "text": [
            "1번 학생 합격\n",
            "3번 학생 합격\n",
            "4번 학생 합격\n"
          ],
          "name": "stdout"
        }
      ]
    },
    {
      "cell_type": "markdown",
      "metadata": {
        "id": "ZTQeU-g1RATG",
        "colab_type": "text"
      },
      "source": [
        "## range()\n",
        "for 문에 range()이용"
      ]
    },
    {
      "cell_type": "code",
      "metadata": {
        "id": "XPfPeYPST3cK",
        "colab_type": "code",
        "outputId": "6a741329-afb3-40cd-d695-d7f34fe78746",
        "colab": {
          "base_uri": "https://localhost:8080/",
          "height": 34
        }
      },
      "source": [
        "list1 = list(range(1,11))\n",
        "print(list1)"
      ],
      "execution_count": 0,
      "outputs": [
        {
          "output_type": "stream",
          "text": [
            "[1, 2, 3, 4, 5, 6, 7, 8, 9, 10]\n"
          ],
          "name": "stdout"
        }
      ]
    },
    {
      "cell_type": "code",
      "metadata": {
        "id": "n5Ifer8JRQ8I",
        "colab_type": "code",
        "outputId": "b2d04dba-347f-4fa8-ffe6-2c8cb1d28540",
        "colab": {
          "base_uri": "https://localhost:8080/",
          "height": 34
        }
      },
      "source": [
        "# 1부터 10까지 더하기\n",
        "sum=0\n",
        "for i in range(1,11):\n",
        "  sum=sum+i\n",
        "print(sum)  "
      ],
      "execution_count": 0,
      "outputs": [
        {
          "output_type": "stream",
          "text": [
            "55\n"
          ],
          "name": "stdout"
        }
      ]
    },
    {
      "cell_type": "code",
      "metadata": {
        "id": "Ho6J709ARwSw",
        "colab_type": "code",
        "outputId": "50f1b6f6-929a-4c52-f0fb-72c5f566cced",
        "colab": {
          "base_uri": "https://localhost:8080/",
          "height": 67
        }
      },
      "source": [
        "# 리스트길이를 모를때 합격 통보기\n",
        "scores = [90, 25, 67, 45, 80]\n",
        "\n",
        "for score in range(len(scores)):\n",
        " \n",
        "  if scores[score] > 60:\n",
        "    print('{}번학새은 합격입니다'.format(score+1))\n"
      ],
      "execution_count": 0,
      "outputs": [
        {
          "output_type": "stream",
          "text": [
            "1번학새은 합격입니다\n",
            "3번학새은 합격입니다\n",
            "5번학새은 합격입니다\n"
          ],
          "name": "stdout"
        }
      ]
    },
    {
      "cell_type": "markdown",
      "metadata": {
        "id": "vTCD7HkbSblh",
        "colab_type": "text"
      },
      "source": [
        "## 구구단\n",
        "for문을 중첩하여 구구단 만들기"
      ]
    },
    {
      "cell_type": "code",
      "metadata": {
        "id": "AiUD_TGGShRH",
        "colab_type": "code",
        "outputId": "77149ad0-4ace-46fe-a532-fa19169a9ca9",
        "colab": {
          "base_uri": "https://localhost:8080/",
          "height": 151
        }
      },
      "source": [
        "for i in range(2,10):\n",
        "  for j in range(1,10):\n",
        "    print(i*j,end=' ')\n",
        "  print('')  \n",
        "    "
      ],
      "execution_count": 0,
      "outputs": [
        {
          "output_type": "stream",
          "text": [
            "2 4 6 8 10 12 14 16 18 \n",
            "3 6 9 12 15 18 21 24 27 \n",
            "4 8 12 16 20 24 28 32 36 \n",
            "5 10 15 20 25 30 35 40 45 \n",
            "6 12 18 24 30 36 42 48 54 \n",
            "7 14 21 28 35 42 49 56 63 \n",
            "8 16 24 32 40 48 56 64 72 \n",
            "9 18 27 36 45 54 63 72 81 \n"
          ],
          "name": "stdout"
        }
      ]
    },
    {
      "cell_type": "code",
      "metadata": {
        "id": "l_seI9mrGhTT",
        "colab_type": "code",
        "outputId": "9e568da8-0ffc-40c3-da70-737270bea1ee",
        "colab": {
          "base_uri": "https://localhost:8080/",
          "height": 420
        }
      },
      "source": [
        "for i in range(2,10):\n",
        "  print(i,'단')\n",
        "  for j in range(1,10):\n",
        "    print('{}X{}={}'.format(i,j,i*j),end=' ')\n",
        "  print('');print()  \n",
        "    "
      ],
      "execution_count": 0,
      "outputs": [
        {
          "output_type": "stream",
          "text": [
            "2 단\n",
            "2X1=2 2X2=4 2X3=6 2X4=8 2X5=10 2X6=12 2X7=14 2X8=16 2X9=18 \n",
            "\n",
            "3 단\n",
            "3X1=3 3X2=6 3X3=9 3X4=12 3X5=15 3X6=18 3X7=21 3X8=24 3X9=27 \n",
            "\n",
            "4 단\n",
            "4X1=4 4X2=8 4X3=12 4X4=16 4X5=20 4X6=24 4X7=28 4X8=32 4X9=36 \n",
            "\n",
            "5 단\n",
            "5X1=5 5X2=10 5X3=15 5X4=20 5X5=25 5X6=30 5X7=35 5X8=40 5X9=45 \n",
            "\n",
            "6 단\n",
            "6X1=6 6X2=12 6X3=18 6X4=24 6X5=30 6X6=36 6X7=42 6X8=48 6X9=54 \n",
            "\n",
            "7 단\n",
            "7X1=7 7X2=14 7X3=21 7X4=28 7X5=35 7X6=42 7X7=49 7X8=56 7X9=63 \n",
            "\n",
            "8 단\n",
            "8X1=8 8X2=16 8X3=24 8X4=32 8X5=40 8X6=48 8X7=56 8X8=64 8X9=72 \n",
            "\n",
            "9 단\n",
            "9X1=9 9X2=18 9X3=27 9X4=36 9X5=45 9X6=54 9X7=63 9X8=72 9X9=81 \n",
            "\n"
          ],
          "name": "stdout"
        }
      ]
    },
    {
      "cell_type": "markdown",
      "metadata": {
        "id": "OBY1jud8Svi8",
        "colab_type": "text"
      },
      "source": [
        "## 리스트 내포(List Comprehension)\n",
        "편리 & 직관적\n",
        "<pre>\n",
        "* 사용법\n",
        "리스트 = [(표현식) for i in (리스트) if (조건문)]"
      ]
    },
    {
      "cell_type": "code",
      "metadata": {
        "id": "vVIOAB58IqsB",
        "colab_type": "code",
        "outputId": "667bb77a-2a3c-4172-bb54-d91faa9534e1",
        "colab": {
          "base_uri": "https://localhost:8080/",
          "height": 34
        }
      },
      "source": [
        "b=[1,2,3,4]\n",
        "b.append(100)\n",
        "print(b)"
      ],
      "execution_count": 0,
      "outputs": [
        {
          "output_type": "stream",
          "text": [
            "[1, 2, 3, 4, 100]\n"
          ],
          "name": "stdout"
        }
      ]
    },
    {
      "cell_type": "code",
      "metadata": {
        "id": "ZFNO0_ILU5RS",
        "colab_type": "code",
        "outputId": "c18a1f26-0e18-4eca-97c0-8c13dd42e524",
        "colab": {
          "base_uri": "https://localhost:8080/",
          "height": 34
        }
      },
      "source": [
        "# 3곱하여 담기\n",
        "a = [1,2,3,4]\n",
        "r=[]\n",
        "for i in a:\n",
        "  r.append(i*3)\n",
        "print(r)  "
      ],
      "execution_count": 0,
      "outputs": [
        {
          "output_type": "stream",
          "text": [
            "[3, 6, 9, 12]\n"
          ],
          "name": "stdout"
        }
      ]
    },
    {
      "cell_type": "code",
      "metadata": {
        "id": "jNeylNngVaUy",
        "colab_type": "code",
        "outputId": "2093a4f3-24bb-44ae-c1d7-3963ad8bd60c",
        "colab": {
          "base_uri": "https://localhost:8080/",
          "height": 34
        }
      },
      "source": [
        "# 리스트 내포 사용\n",
        "a = [1,2,3,4]\n",
        "r=[i*3 for i in a]\n",
        "print(r)"
      ],
      "execution_count": 0,
      "outputs": [
        {
          "output_type": "stream",
          "text": [
            "[3, 6, 9, 12]\n"
          ],
          "name": "stdout"
        }
      ]
    },
    {
      "cell_type": "code",
      "metadata": {
        "id": "OyI7mlAnVsYo",
        "colab_type": "code",
        "outputId": "e3c592e5-ecd5-4fc7-cd56-e021b766dd68",
        "colab": {
          "base_uri": "https://localhost:8080/",
          "height": 34
        }
      },
      "source": [
        "# 짝수에만 3 곱하여 담기\n",
        "a = [1,2,3,4]\n",
        "r=[i*3 for i in a if i%2==0]\n",
        "print(r)"
      ],
      "execution_count": 0,
      "outputs": [
        {
          "output_type": "stream",
          "text": [
            "[6, 12]\n"
          ],
          "name": "stdout"
        }
      ]
    },
    {
      "cell_type": "code",
      "metadata": {
        "id": "CdV2hzLRMhHU",
        "colab_type": "code",
        "outputId": "5f7c393b-c63d-46ba-966f-629e1560abd7",
        "colab": {
          "base_uri": "https://localhost:8080/",
          "height": 34
        }
      },
      "source": [
        "r2=[i*3 if i%2==0 else i for i in a]\n",
        "print(r2)\n",
        "#순서는 뒤에 포문 먼저 실행됨"
      ],
      "execution_count": 0,
      "outputs": [
        {
          "output_type": "stream",
          "text": [
            "[1, 6, 3, 12]\n"
          ],
          "name": "stdout"
        }
      ]
    },
    {
      "cell_type": "code",
      "metadata": {
        "id": "nanMjHxbWT84",
        "colab_type": "code",
        "colab": {}
      },
      "source": [
        "# 구구단\n"
      ],
      "execution_count": 0,
      "outputs": []
    },
    {
      "cell_type": "code",
      "metadata": {
        "id": "LCWXgdCcXoOY",
        "colab_type": "code",
        "colab": {}
      },
      "source": [
        "# 홀수에만 2 곱하기\n",
        "num = [1,2,3,4,5]\n"
      ],
      "execution_count": 0,
      "outputs": []
    },
    {
      "cell_type": "code",
      "metadata": {
        "id": "pd7gTBkDYIZL",
        "colab_type": "code",
        "colab": {}
      },
      "source": [
        "# list comprehension\n",
        "num = [1,2,3,4,5]\n"
      ],
      "execution_count": 0,
      "outputs": []
    },
    {
      "cell_type": "code",
      "metadata": {
        "id": "3R9xQ5paYsqb",
        "colab_type": "code",
        "colab": {}
      },
      "source": [
        "# 학급 평균점수 구하기\n",
        "A = [70, 60, 55, 80, 95, 100, 60, 85, 75, 80]\n"
      ],
      "execution_count": 0,
      "outputs": []
    },
    {
      "cell_type": "code",
      "metadata": {
        "id": "4BTHsl2rZYnJ",
        "colab_type": "code",
        "colab": {}
      },
      "source": [
        "# 1~100까지 더하기\n"
      ],
      "execution_count": 0,
      "outputs": []
    },
    {
      "cell_type": "code",
      "metadata": {
        "id": "U3XADZDzb_56",
        "colab_type": "code",
        "colab": {}
      },
      "source": [
        "# 369게임\n"
      ],
      "execution_count": 0,
      "outputs": []
    },
    {
      "cell_type": "code",
      "metadata": {
        "id": "U_EL0GTeZpvG",
        "colab_type": "code",
        "colab": {}
      },
      "source": [
        "# FizzBuzz 공배수\n",
        "\n"
      ],
      "execution_count": 0,
      "outputs": []
    },
    {
      "cell_type": "code",
      "metadata": {
        "id": "CjADOn14fKlU",
        "colab_type": "code",
        "colab": {}
      },
      "source": [
        "# FizzBuzz\n"
      ],
      "execution_count": 0,
      "outputs": []
    },
    {
      "cell_type": "markdown",
      "metadata": {
        "id": "U5-FhAKogeXL",
        "colab_type": "text"
      },
      "source": [
        "## 튜플 for 문"
      ]
    },
    {
      "cell_type": "code",
      "metadata": {
        "id": "kyIqwTaZglF9",
        "colab_type": "code",
        "colab": {}
      },
      "source": [
        "#튜플을 리스트로 만들기\n",
        "a = (1,2,3,4)\n",
        "r=[]\n",
        "for i in a:\n",
        "  r.append(i)"
      ],
      "execution_count": 0,
      "outputs": []
    },
    {
      "cell_type": "markdown",
      "metadata": {
        "id": "Al2LZ1TMg381",
        "colab_type": "text"
      },
      "source": [
        "## 딕셔너리 for 문"
      ]
    },
    {
      "cell_type": "code",
      "metadata": {
        "id": "yDgSSyIxg8Oa",
        "colab_type": "code",
        "colab": {
          "base_uri": "https://localhost:8080/",
          "height": 84
        },
        "outputId": "dfb441d6-2ae6-4188-e748-0b962ca248ca"
      },
      "source": [
        "a = {'a':1, 'b':2, 'c':3, 'd':4}\n",
        "for i in a.keys():\n",
        "  print(i*3)"
      ],
      "execution_count": 42,
      "outputs": [
        {
          "output_type": "stream",
          "text": [
            "aaa\n",
            "bbb\n",
            "ccc\n",
            "ddd\n"
          ],
          "name": "stdout"
        }
      ]
    },
    {
      "cell_type": "code",
      "metadata": {
        "id": "Rbr_BPKShZdP",
        "colab_type": "code",
        "colab": {
          "base_uri": "https://localhost:8080/",
          "height": 84
        },
        "outputId": "b7c06f19-2d60-4c5e-9e80-0b32be51f22f"
      },
      "source": [
        "for i in a.values():\n",
        "  print(i*3)"
      ],
      "execution_count": 43,
      "outputs": [
        {
          "output_type": "stream",
          "text": [
            "3\n",
            "6\n",
            "9\n",
            "12\n"
          ],
          "name": "stdout"
        }
      ]
    },
    {
      "cell_type": "code",
      "metadata": {
        "id": "u4EEJrjXheFl",
        "colab_type": "code",
        "colab": {
          "base_uri": "https://localhost:8080/",
          "height": 84
        },
        "outputId": "8c0032bf-8cb9-48c1-ce0f-8726d7977291"
      },
      "source": [
        "for i in a.items():\n",
        "  print(i*3)"
      ],
      "execution_count": 46,
      "outputs": [
        {
          "output_type": "stream",
          "text": [
            "('a', 1, 'a', 1, 'a', 1)\n",
            "('b', 2, 'b', 2, 'b', 2)\n",
            "('c', 3, 'c', 3, 'c', 3)\n",
            "('d', 4, 'd', 4, 'd', 4)\n"
          ],
          "name": "stdout"
        }
      ]
    },
    {
      "cell_type": "code",
      "metadata": {
        "id": "ygzJM-08kuOM",
        "colab_type": "code",
        "colab": {}
      },
      "source": [
        ""
      ],
      "execution_count": 0,
      "outputs": []
    }
  ]
}