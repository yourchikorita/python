{
  "nbformat": 4,
  "nbformat_minor": 0,
  "metadata": {
    "colab": {
      "name": "03_05_1_집합_전은정.ipynb",
      "version": "0.3.2",
      "provenance": [],
      "collapsed_sections": []
    },
    "kernelspec": {
      "name": "python3",
      "display_name": "Python 3"
    }
  },
  "cells": [
    {
      "cell_type": "markdown",
      "metadata": {
        "id": "d8t4GZZkDQL4",
        "colab_type": "text"
      },
      "source": [
        "# 5.집합\n",
        "여러개의 값을 담을 수 있는 변수."
      ]
    },
    {
      "cell_type": "markdown",
      "metadata": {
        "id": "LJPlIbNfD_yL",
        "colab_type": "text"
      },
      "source": [
        "## 5-1.집합의 형식\n",
        "<pre>\n",
        "* 집합이름 = set(값)\n",
        "  (여기서 값의 형태는 리스트나 튜플, 단일 변수가 들어갈 수 있음)\n",
        "  집합이름 = set()\n",
        "  \n",
        "* 집합의 특징\n",
        "  -집합(합집합, 교집합)과 관련된 것을 쉽게 처리하기 위한 변수\n",
        "  -리스트/튜플로 변환 후 인덱스로 접근 가능"
      ]
    },
    {
      "cell_type": "markdown",
      "metadata": {
        "id": "_2b9ywszEvoT",
        "colab_type": "text"
      },
      "source": [
        "### 집합 만들기\n",
        "set() 함수를 이용하여 만들 수 있습니다."
      ]
    },
    {
      "cell_type": "code",
      "metadata": {
        "id": "_4gmrMilEzT2",
        "colab_type": "code",
        "colab": {}
      },
      "source": [
        "# 리스트로 집합 만들기\n",
        "set1 = set([1,2,3,4])"
      ],
      "execution_count": 0,
      "outputs": []
    },
    {
      "cell_type": "code",
      "metadata": {
        "id": "PutGUT2KFj2H",
        "colab_type": "code",
        "outputId": "e267c96f-de53-4e9b-edf6-c2e7a1d098c2",
        "colab": {
          "base_uri": "https://localhost:8080/",
          "height": 34
        }
      },
      "source": [
        "print(set1)"
      ],
      "execution_count": 0,
      "outputs": [
        {
          "output_type": "stream",
          "text": [
            "{1, 2, 3, 4}\n"
          ],
          "name": "stdout"
        }
      ]
    },
    {
      "cell_type": "code",
      "metadata": {
        "id": "jMyzNMZEFksr",
        "colab_type": "code",
        "outputId": "33a9af03-bfba-4d41-a4ed-1759dfb6f103",
        "colab": {
          "base_uri": "https://localhost:8080/",
          "height": 34
        }
      },
      "source": [
        "# 단일 변수로 집합 만들기\n",
        "set1=set('apple')\n",
        "print(set1)"
      ],
      "execution_count": 0,
      "outputs": [
        {
          "output_type": "stream",
          "text": [
            "{'e', 'p', 'a', 'l'}\n"
          ],
          "name": "stdout"
        }
      ]
    },
    {
      "cell_type": "markdown",
      "metadata": {
        "id": "7y4D4KLdF1R0",
        "colab_type": "text"
      },
      "source": [
        "<pre>\n",
        "여기서 알 수 있는 집합 자료형의 특징\n",
        "* 중복이 없다.\n",
        "* 순서가 없다.\n",
        "* 그래서 인덱스(순서)도 없다."
      ]
    },
    {
      "cell_type": "markdown",
      "metadata": {
        "id": "mWWqBk7bGObs",
        "colab_type": "text"
      },
      "source": [
        "### 집합을 인덱스로 접근하려면?\n",
        "리스트나 튜플로 바꾸어 주어야 합니다.\n",
        "\n",
        "list() 함수를 사용하거나\n",
        "\n",
        "tuple() 함수를 사용해야 합니다."
      ]
    },
    {
      "cell_type": "code",
      "metadata": {
        "id": "LDtv3TNtLJ1k",
        "colab_type": "code",
        "colab": {}
      },
      "source": [
        "set1 = set([2,4,6,6])"
      ],
      "execution_count": 0,
      "outputs": []
    },
    {
      "cell_type": "code",
      "metadata": {
        "id": "7PrZMr2-GnEP",
        "colab_type": "code",
        "outputId": "24c85087-a8b8-49b0-b21f-41dae047f778",
        "colab": {
          "base_uri": "https://localhost:8080/",
          "height": 34
        }
      },
      "source": [
        "list1 = list(set1)\n",
        "print(list1)"
      ],
      "execution_count": 0,
      "outputs": [
        {
          "output_type": "stream",
          "text": [
            "[2, 4, 6]\n"
          ],
          "name": "stdout"
        }
      ]
    },
    {
      "cell_type": "code",
      "metadata": {
        "id": "x3fb_wDrLMuo",
        "colab_type": "code",
        "outputId": "5cd23f98-b720-43ef-8c11-260632724585",
        "colab": {
          "base_uri": "https://localhost:8080/",
          "height": 50
        }
      },
      "source": [
        "set2 = set('apple')\n",
        "tuple1 = tuple(set2)\n",
        "print(set2)\n",
        "print(tuple1)"
      ],
      "execution_count": 0,
      "outputs": [
        {
          "output_type": "stream",
          "text": [
            "{'e', 'p', 'a', 'l'}\n",
            "('e', 'p', 'a', 'l')\n"
          ],
          "name": "stdout"
        }
      ]
    },
    {
      "cell_type": "code",
      "metadata": {
        "id": "2gNfdi-SGrf2",
        "colab_type": "code",
        "colab": {}
      },
      "source": [
        ""
      ],
      "execution_count": 0,
      "outputs": []
    },
    {
      "cell_type": "markdown",
      "metadata": {
        "id": "P4Rdrr41GugE",
        "colab_type": "text"
      },
      "source": [
        "### 집합의 유용성 - 교집합, 합집합, 차집합\n",
        "집합 2개를 만들고 교집합, 합집합, 차집합을 만들어 봅시다."
      ]
    },
    {
      "cell_type": "markdown",
      "metadata": {
        "id": "BlI3AAVIHyga",
        "colab_type": "text"
      },
      "source": [
        "#### 교집합\n",
        " & 을 이용하면 됩니다."
      ]
    },
    {
      "cell_type": "code",
      "metadata": {
        "id": "YbiIOz73HbM5",
        "colab_type": "code",
        "colab": {}
      },
      "source": [
        "set1 = set([0,1,2,3,4,5])\n",
        "set2 = set([3,4,5,6,7,8])"
      ],
      "execution_count": 0,
      "outputs": []
    },
    {
      "cell_type": "code",
      "metadata": {
        "id": "cPswkn82H9KT",
        "colab_type": "code",
        "outputId": "24ef0917-fd93-4746-b63b-7e659a2396be",
        "colab": {
          "base_uri": "https://localhost:8080/",
          "height": 34
        }
      },
      "source": [
        "print(set1 & set2)"
      ],
      "execution_count": 0,
      "outputs": [
        {
          "output_type": "stream",
          "text": [
            "{3, 4, 5}\n"
          ],
          "name": "stdout"
        }
      ]
    },
    {
      "cell_type": "markdown",
      "metadata": {
        "id": "0dryK8aSIE0L",
        "colab_type": "text"
      },
      "source": [
        "다른 방법으로\n",
        "\n",
        "집합1명.intersection(집합2명) 함수를 이용하면 됩니다."
      ]
    },
    {
      "cell_type": "code",
      "metadata": {
        "id": "oz0NsThCLmIg",
        "colab_type": "code",
        "colab": {}
      },
      "source": [
        "set1 = set([0,1,2,3,4,5])\n",
        "set2 = set([3,4,5,6,7,8])"
      ],
      "execution_count": 0,
      "outputs": []
    },
    {
      "cell_type": "code",
      "metadata": {
        "id": "dUrg67cOIaHF",
        "colab_type": "code",
        "outputId": "d41b8d2c-2c83-4fdb-e806-8cf02d4d0076",
        "colab": {
          "base_uri": "https://localhost:8080/",
          "height": 34
        }
      },
      "source": [
        "set1.intersection(set2)"
      ],
      "execution_count": 0,
      "outputs": [
        {
          "output_type": "execute_result",
          "data": {
            "text/plain": [
              "{3, 4, 5}"
            ]
          },
          "metadata": {
            "tags": []
          },
          "execution_count": 14
        }
      ]
    },
    {
      "cell_type": "markdown",
      "metadata": {
        "id": "MGD8zEKkIkFi",
        "colab_type": "text"
      },
      "source": [
        "#### 합집합\n",
        "shift + \\ 를 하면 | 이 나옵니다."
      ]
    },
    {
      "cell_type": "code",
      "metadata": {
        "id": "QOz17d94LnFI",
        "colab_type": "code",
        "colab": {}
      },
      "source": [
        "set1 = set([0,1,2,3,4,5])\n",
        "set2 = set([3,4,5,6,7,8])"
      ],
      "execution_count": 0,
      "outputs": []
    },
    {
      "cell_type": "code",
      "metadata": {
        "id": "6wbz2sm4I5FR",
        "colab_type": "code",
        "outputId": "4dea1bd1-3fa7-4533-a73c-5d40b7a59aa0",
        "colab": {
          "base_uri": "https://localhost:8080/",
          "height": 34
        }
      },
      "source": [
        "set1 | set2"
      ],
      "execution_count": 0,
      "outputs": [
        {
          "output_type": "execute_result",
          "data": {
            "text/plain": [
              "{0, 1, 2, 3, 4, 5, 6, 7, 8}"
            ]
          },
          "metadata": {
            "tags": []
          },
          "execution_count": 15
        }
      ]
    },
    {
      "cell_type": "markdown",
      "metadata": {
        "id": "eRH8EkC5I9gx",
        "colab_type": "text"
      },
      "source": [
        "다른 방법으로는\n",
        "\n",
        "집합1명.union(집합2명)을 사용합니다."
      ]
    },
    {
      "cell_type": "code",
      "metadata": {
        "id": "Qab_WjMnLnw4",
        "colab_type": "code",
        "colab": {}
      },
      "source": [
        "set1 = set([0,1,2,3,4,5])\n",
        "set2 = set([3,4,5,6,7,8])"
      ],
      "execution_count": 0,
      "outputs": []
    },
    {
      "cell_type": "code",
      "metadata": {
        "id": "aECV1CwAJFla",
        "colab_type": "code",
        "outputId": "4ad4983c-53e9-4dc5-c49c-be9f6a34652a",
        "colab": {
          "base_uri": "https://localhost:8080/",
          "height": 34
        }
      },
      "source": [
        "set1.union(set2)"
      ],
      "execution_count": 0,
      "outputs": [
        {
          "output_type": "execute_result",
          "data": {
            "text/plain": [
              "{0, 1, 2, 3, 4, 5, 6, 7, 8}"
            ]
          },
          "metadata": {
            "tags": []
          },
          "execution_count": 16
        }
      ]
    },
    {
      "cell_type": "markdown",
      "metadata": {
        "id": "GgyRlFC_JJhR",
        "colab_type": "text"
      },
      "source": [
        "#### 차집합\n",
        "빼기 (-) 를 이용하면 됩니다."
      ]
    },
    {
      "cell_type": "code",
      "metadata": {
        "id": "tZUrfgIILogw",
        "colab_type": "code",
        "colab": {}
      },
      "source": [
        "set1 = set([0,1,2,3,4,5])\n",
        "set2 = set([3,4,5,6,7,8])"
      ],
      "execution_count": 0,
      "outputs": []
    },
    {
      "cell_type": "code",
      "metadata": {
        "id": "0ePG0-ZVJXqU",
        "colab_type": "code",
        "outputId": "4a90594d-632a-445e-9e74-87eac586f641",
        "colab": {
          "base_uri": "https://localhost:8080/",
          "height": 34
        }
      },
      "source": [
        "set1 - set2"
      ],
      "execution_count": 0,
      "outputs": [
        {
          "output_type": "execute_result",
          "data": {
            "text/plain": [
              "{0, 1, 2}"
            ]
          },
          "metadata": {
            "tags": []
          },
          "execution_count": 19
        }
      ]
    },
    {
      "cell_type": "code",
      "metadata": {
        "id": "BOKfxkhPLpKo",
        "colab_type": "code",
        "colab": {}
      },
      "source": [
        "set1 = set([0,1,2,3,4,5])\n",
        "set2 = set([3,4,5,6,7,8])"
      ],
      "execution_count": 0,
      "outputs": []
    },
    {
      "cell_type": "code",
      "metadata": {
        "id": "ehIwgsHkJgz3",
        "colab_type": "code",
        "outputId": "24065611-2e70-4231-a603-1dabd61a2ba9",
        "colab": {
          "base_uri": "https://localhost:8080/",
          "height": 34
        }
      },
      "source": [
        "set1.difference(set2)"
      ],
      "execution_count": 0,
      "outputs": [
        {
          "output_type": "execute_result",
          "data": {
            "text/plain": [
              "{0, 1, 2}"
            ]
          },
          "metadata": {
            "tags": []
          },
          "execution_count": 21
        }
      ]
    },
    {
      "cell_type": "markdown",
      "metadata": {
        "id": "SVOJvGQuJip1",
        "colab_type": "text"
      },
      "source": [
        "다른 방법으로 \n",
        "\n",
        "집합1명.difference(집합2) 함수를 사용해도 됩니다."
      ]
    },
    {
      "cell_type": "code",
      "metadata": {
        "id": "R63tVm-1LqEb",
        "colab_type": "code",
        "colab": {}
      },
      "source": [
        "set1 = set([0,1,2,3,4,5])\n",
        "set2 = set([3,4,5,6,7,8])"
      ],
      "execution_count": 0,
      "outputs": []
    },
    {
      "cell_type": "code",
      "metadata": {
        "id": "C8gpH3XxJz4o",
        "colab_type": "code",
        "colab": {}
      },
      "source": [
        ""
      ],
      "execution_count": 0,
      "outputs": []
    },
    {
      "cell_type": "code",
      "metadata": {
        "id": "41WqTlo3LqzB",
        "colab_type": "code",
        "colab": {}
      },
      "source": [
        "set1 = set([0,1,2,3,4,5])\n",
        "set2 = set([3,4,5,6,7,8])"
      ],
      "execution_count": 0,
      "outputs": []
    },
    {
      "cell_type": "code",
      "metadata": {
        "id": "paysyKsAKDJG",
        "colab_type": "code",
        "colab": {}
      },
      "source": [
        ""
      ],
      "execution_count": 0,
      "outputs": []
    },
    {
      "cell_type": "markdown",
      "metadata": {
        "id": "AhSBMTdDKFMg",
        "colab_type": "text"
      },
      "source": [
        "## 5-2.집합 자료형 관련 함수들"
      ]
    },
    {
      "cell_type": "markdown",
      "metadata": {
        "id": "NZnlvZOfKOw-",
        "colab_type": "text"
      },
      "source": [
        "### 값 1개 추가하기(add() 함수)\n",
        "이미 만들어진 집합에 1개 값만 추가하고자 하면\n",
        "\n",
        "add() 함수를 사용합니다."
      ]
    },
    {
      "cell_type": "code",
      "metadata": {
        "id": "1QYGb13zLtQA",
        "colab_type": "code",
        "colab": {}
      },
      "source": [
        "set1 = set([0,1,2,3,4,5])"
      ],
      "execution_count": 0,
      "outputs": []
    },
    {
      "cell_type": "code",
      "metadata": {
        "id": "Ux9LZeT3Kb_D",
        "colab_type": "code",
        "outputId": "72820042-9c87-41c5-b47b-072ff785bf8a",
        "colab": {
          "base_uri": "https://localhost:8080/",
          "height": 50
        }
      },
      "source": [
        "# 100이라는 값 하나 추가하기\n",
        "set1.add(100)\n",
        "print(set1)\n",
        "type(set1)"
      ],
      "execution_count": 0,
      "outputs": [
        {
          "output_type": "stream",
          "text": [
            "{0, 1, 2, 3, 4, 5, 100}\n"
          ],
          "name": "stdout"
        },
        {
          "output_type": "execute_result",
          "data": {
            "text/plain": [
              "set"
            ]
          },
          "metadata": {
            "tags": []
          },
          "execution_count": 24
        }
      ]
    },
    {
      "cell_type": "markdown",
      "metadata": {
        "id": "QdVYmdEbKhlo",
        "colab_type": "text"
      },
      "source": [
        "### 값 여러 개 추가하기(update() 함수)\n",
        "여러 개의 값을 한꺼번에 추가할 때는\n",
        "\n",
        "update() 함수를 사용하면 됩니다."
      ]
    },
    {
      "cell_type": "code",
      "metadata": {
        "id": "NTNEvclWLvWo",
        "colab_type": "code",
        "colab": {}
      },
      "source": [
        "set1 = set([0,1,2,3,4,5])"
      ],
      "execution_count": 0,
      "outputs": []
    },
    {
      "cell_type": "code",
      "metadata": {
        "id": "WiQjWKg9K1V6",
        "colab_type": "code",
        "outputId": "848f87d1-1d14-446d-9086-163285c7a342",
        "colab": {
          "base_uri": "https://localhost:8080/",
          "height": 34
        }
      },
      "source": [
        "# [1000, 2000, 3000] 리스트의 값들\n",
        "set1.update([100,200,300])\n",
        "print(set1)"
      ],
      "execution_count": 0,
      "outputs": [
        {
          "output_type": "stream",
          "text": [
            "{0, 1, 2, 3, 4, 5, 100, 200, 300}\n"
          ],
          "name": "stdout"
        }
      ]
    },
    {
      "cell_type": "markdown",
      "metadata": {
        "id": "AUg2Uj_kK8yx",
        "colab_type": "text"
      },
      "source": [
        "### 특정 값 제거하기(remove() 함수)\n",
        "특정 값을 제거하고 싶을 때는\n",
        "\n",
        "remove() 함수를 사용하면 됩니다."
      ]
    },
    {
      "cell_type": "code",
      "metadata": {
        "id": "h2V-koiuLx3Q",
        "colab_type": "code",
        "colab": {}
      },
      "source": [
        "set1 = set([0,1,2,3,4,5])"
      ],
      "execution_count": 0,
      "outputs": []
    },
    {
      "cell_type": "code",
      "metadata": {
        "id": "rPM7e63aLGxX",
        "colab_type": "code",
        "outputId": "1b3cca50-ed77-4d9b-e381-c3d0405e1a75",
        "colab": {
          "base_uri": "https://localhost:8080/",
          "height": 34
        }
      },
      "source": [
        "# 값 5 제거하기\n",
        "set1.remove(5)\n",
        "print(set1)"
      ],
      "execution_count": 0,
      "outputs": [
        {
          "output_type": "stream",
          "text": [
            "{0, 2, 3, 4}\n"
          ],
          "name": "stdout"
        }
      ]
    },
    {
      "cell_type": "code",
      "metadata": {
        "id": "QMO8yLfc77YD",
        "colab_type": "code",
        "colab": {}
      },
      "source": [
        ""
      ],
      "execution_count": 0,
      "outputs": []
    }
  ]
}