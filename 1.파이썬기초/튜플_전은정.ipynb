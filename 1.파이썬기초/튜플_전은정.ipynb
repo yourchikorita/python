{
  "nbformat": 4,
  "nbformat_minor": 0,
  "metadata": {
    "colab": {
      "name": "튜플_전은정.ipynb",
      "version": "0.3.2",
      "provenance": [],
      "collapsed_sections": []
    },
    "kernelspec": {
      "name": "python3",
      "display_name": "Python 3"
    }
  },
  "cells": [
    {
      "cell_type": "markdown",
      "metadata": {
        "id": "fQQVwV_wbSum",
        "colab_type": "text"
      },
      "source": [
        "# 3.튜플\n",
        "여러개의 값을 담고 있는 변수."
      ]
    },
    {
      "cell_type": "markdown",
      "metadata": {
        "id": "6CyUN9Rcc8Rs",
        "colab_type": "text"
      },
      "source": [
        "## 3-1.튜플 형식\n",
        "<pre>\n",
        "* 튜플이름 = (값1, 값2, 값3, ...)\n",
        "  튜플이름 = () <- 빈 튜플\n",
        "  튜플이름 = (값1,) <- 값 하나인 튜플\n",
        "\n",
        "* 튜플 이름으로 안되는 것들 : \n",
        "  - if, def, class, while, for, else 등의 예약어.\n",
        "  - 숫자로 시작하는 것\n",
        "  ex) 1a, 3name, ...\n",
        "\n",
        "* 튜플 특징\n",
        "  1.순서가 존재\n",
        "  2.값을 인덱스로 불러옴\n",
        "  3.값 수정 불가\n"
      ]
    },
    {
      "cell_type": "markdown",
      "metadata": {
        "id": "gQwUEVjRd-e1",
        "colab_type": "text"
      },
      "source": [
        "## 3-2. 튜플 다루기\n",
        "리스트와 유사"
      ]
    },
    {
      "cell_type": "code",
      "metadata": {
        "id": "FowG3O1p10Zp",
        "colab_type": "code",
        "outputId": "51ee99b3-c200-46fd-8887-438500e4d403",
        "colab": {
          "base_uri": "https://localhost:8080/",
          "height": 34
        }
      },
      "source": [
        "tuple=(1,2,3)\n",
        "tuple2=(2,)\n",
        "print(tuple2)"
      ],
      "execution_count": 0,
      "outputs": [
        {
          "output_type": "stream",
          "text": [
            "(2,)\n"
          ],
          "name": "stdout"
        }
      ]
    },
    {
      "cell_type": "code",
      "metadata": {
        "id": "a5i_Qw2i1-cb",
        "colab_type": "code",
        "colab": {}
      },
      "source": [
        ""
      ],
      "execution_count": 0,
      "outputs": []
    },
    {
      "cell_type": "markdown",
      "metadata": {
        "id": "FxVyre03eOjw",
        "colab_type": "text"
      },
      "source": [
        "### 튜플 인덱스\n",
        "<pre>\n",
        "*사용법:\n",
        "튜플이름[인덱스]"
      ]
    },
    {
      "cell_type": "code",
      "metadata": {
        "id": "QkpKhsbueWyh",
        "colab_type": "code",
        "colab": {}
      },
      "source": [
        "a = (3, 5, 'z', 'x')"
      ],
      "execution_count": 0,
      "outputs": []
    },
    {
      "cell_type": "code",
      "metadata": {
        "id": "l6K-eEEC4T0Y",
        "colab_type": "code",
        "outputId": "d0b5516c-ba4a-4452-d924-0bde9d25aee8",
        "colab": {
          "base_uri": "https://localhost:8080/",
          "height": 34
        }
      },
      "source": [
        "print(a[0])\n"
      ],
      "execution_count": 0,
      "outputs": [
        {
          "output_type": "stream",
          "text": [
            "3\n"
          ],
          "name": "stdout"
        }
      ]
    },
    {
      "cell_type": "markdown",
      "metadata": {
        "id": "i9PuCmk9eqkb",
        "colab_type": "text"
      },
      "source": [
        "### 튜플 슬라이스\n",
        "<pre>\n",
        "*사용법:\n",
        "튜플이름[시작 인덱스:원하는 인덱스+1]"
      ]
    },
    {
      "cell_type": "code",
      "metadata": {
        "id": "B7BRU6e443gP",
        "colab_type": "code",
        "colab": {}
      },
      "source": [
        "a = (3, 5, 'z', 'x')"
      ],
      "execution_count": 0,
      "outputs": []
    },
    {
      "cell_type": "code",
      "metadata": {
        "id": "iF2waOkieyPz",
        "colab_type": "code",
        "outputId": "b63c9198-511c-4817-c846-8186fa6cca4e",
        "colab": {
          "base_uri": "https://localhost:8080/",
          "height": 34
        }
      },
      "source": [
        "# 1,2번 인덱스만 뽑아내고 싶다면\n",
        "print(a[1:3])"
      ],
      "execution_count": 0,
      "outputs": [
        {
          "output_type": "stream",
          "text": [
            "(5, 'z')\n"
          ],
          "name": "stdout"
        }
      ]
    },
    {
      "cell_type": "markdown",
      "metadata": {
        "id": "NKaqg4qGe8XF",
        "colab_type": "text"
      },
      "source": [
        "### 튜플 더하기\n",
        "'+'"
      ]
    },
    {
      "cell_type": "code",
      "metadata": {
        "id": "-XYbE7en5KX2",
        "colab_type": "code",
        "outputId": "5c0f79d9-b77b-4c08-96d2-18e991407cc4",
        "colab": {
          "base_uri": "https://localhost:8080/",
          "height": 34
        }
      },
      "source": [
        "q = (1,2,3,4)\n",
        "w = ('z', 'x')\n",
        "print(q+w)"
      ],
      "execution_count": 0,
      "outputs": [
        {
          "output_type": "stream",
          "text": [
            "(1, 2, 3, 4, 'z', 'x')\n"
          ],
          "name": "stdout"
        }
      ]
    },
    {
      "cell_type": "code",
      "metadata": {
        "id": "3rSaQrs7fE7V",
        "colab_type": "code",
        "colab": {}
      },
      "source": [
        ""
      ],
      "execution_count": 0,
      "outputs": []
    },
    {
      "cell_type": "markdown",
      "metadata": {
        "id": "q9OOVLJJfdhc",
        "colab_type": "text"
      },
      "source": [
        "### 튜플 곱하기\n",
        "'*'"
      ]
    },
    {
      "cell_type": "code",
      "metadata": {
        "id": "Sa6cI-a25TUO",
        "colab_type": "code",
        "colab": {}
      },
      "source": [
        "w = ('z', 'x')"
      ],
      "execution_count": 0,
      "outputs": []
    },
    {
      "cell_type": "code",
      "metadata": {
        "id": "uOeln67wfzbY",
        "colab_type": "code",
        "outputId": "c05a2fd7-361d-477c-a3f0-9b0056d28393",
        "colab": {
          "base_uri": "https://localhost:8080/",
          "height": 34
        }
      },
      "source": [
        "print(w*3)"
      ],
      "execution_count": 0,
      "outputs": [
        {
          "output_type": "stream",
          "text": [
            "('z', 'x', 'z', 'x', 'z', 'x')\n"
          ],
          "name": "stdout"
        }
      ]
    },
    {
      "cell_type": "markdown",
      "metadata": {
        "id": "QCm9c4D8flyT",
        "colab_type": "text"
      },
      "source": [
        "### 튜플 길이 구하기\n",
        "<pre>\n",
        "* 사용법:\n",
        "len(튜플)"
      ]
    },
    {
      "cell_type": "code",
      "metadata": {
        "id": "9r9bluNUfwsP",
        "colab_type": "code",
        "colab": {}
      },
      "source": [
        "q = (1,2,3,4)"
      ],
      "execution_count": 0,
      "outputs": []
    },
    {
      "cell_type": "code",
      "metadata": {
        "id": "3ObwoDh55dVW",
        "colab_type": "code",
        "outputId": "6e802337-d414-4697-b0fb-8bb27d077c4e",
        "colab": {
          "base_uri": "https://localhost:8080/",
          "height": 34
        }
      },
      "source": [
        "len(q)"
      ],
      "execution_count": 0,
      "outputs": [
        {
          "output_type": "execute_result",
          "data": {
            "text/plain": [
              "4"
            ]
          },
          "metadata": {
            "tags": []
          },
          "execution_count": 8
        }
      ]
    },
    {
      "cell_type": "markdown",
      "metadata": {
        "id": "ztwscBgs0-H2",
        "colab_type": "text"
      },
      "source": [
        "### 튜플<->리스트 변환하기\n",
        "<pre>\n",
        "튜플 -> 리스트 :\n",
        "list(튜플)\n",
        "\n",
        "리스트 ->튜플 :\n",
        "tuple(리스트)"
      ]
    },
    {
      "cell_type": "code",
      "metadata": {
        "id": "W0sPuZuI5sf3",
        "colab_type": "code",
        "colab": {}
      },
      "source": [
        "tuple1 = (1,2,3,4)"
      ],
      "execution_count": 0,
      "outputs": []
    },
    {
      "cell_type": "code",
      "metadata": {
        "id": "bDVq3RaY2KTw",
        "colab_type": "code",
        "outputId": "94b61f6b-49ab-4149-ddbb-b614cf667973",
        "colab": {
          "base_uri": "https://localhost:8080/",
          "height": 34
        }
      },
      "source": [
        "# 튜플 -> 리스트\n",
        "list1=list(tuple1)\n",
        "print(list1)"
      ],
      "execution_count": 0,
      "outputs": [
        {
          "output_type": "stream",
          "text": [
            "[1, 2, 3, 4]\n"
          ],
          "name": "stdout"
        }
      ]
    },
    {
      "cell_type": "code",
      "metadata": {
        "id": "YL1wARox5vGm",
        "colab_type": "code",
        "colab": {}
      },
      "source": [
        "list2 = [1,2,3,4]"
      ],
      "execution_count": 0,
      "outputs": []
    },
    {
      "cell_type": "code",
      "metadata": {
        "id": "_cclWR6W2XZo",
        "colab_type": "code",
        "outputId": "911bada1-a66e-4559-c2c5-19475397b3d1",
        "colab": {
          "base_uri": "https://localhost:8080/",
          "height": 34
        }
      },
      "source": [
        "# 리스트 -> 튜플\n",
        "tuple2 = tuple(list2)\n",
        "print(tuple2)"
      ],
      "execution_count": 0,
      "outputs": [
        {
          "output_type": "stream",
          "text": [
            "(1, 2, 3, 4)\n"
          ],
          "name": "stdout"
        }
      ]
    },
    {
      "cell_type": "code",
      "metadata": {
        "id": "7j7WKBsEnV29",
        "colab_type": "code",
        "colab": {}
      },
      "source": [
        ""
      ],
      "execution_count": 0,
      "outputs": []
    }
  ]
}