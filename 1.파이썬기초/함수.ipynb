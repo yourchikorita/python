{
  "nbformat": 4,
  "nbformat_minor": 0,
  "metadata": {
    "colab": {
      "name": "전은정_함수.ipynb",
      "version": "0.3.2",
      "provenance": [],
      "collapsed_sections": []
    },
    "kernelspec": {
      "name": "python3",
      "display_name": "Python 3"
    }
  },
  "cells": [
    {
      "cell_type": "markdown",
      "metadata": {
        "id": "c2TloT0BiLh3",
        "colab_type": "text"
      },
      "source": [
        "# 함수\n",
        "컴퓨터에게 시킬 일\n",
        "\n",
        "즉, 컴퓨터가 할 행위"
      ]
    },
    {
      "cell_type": "markdown",
      "metadata": {
        "id": "BthFC2hbrwT6",
        "colab_type": "text"
      },
      "source": [
        "## 함수의 만들기\n",
        "<pre>\n",
        "def 함수명():\n",
        "  실행문\n",
        "</pre>  \n",
        "\n",
        "## 함수 사용\n",
        "<pre>\n",
        "함수명()"
      ]
    },
    {
      "cell_type": "markdown",
      "metadata": {
        "id": "QG9-DyYcsKi2",
        "colab_type": "text"
      },
      "source": [
        "### 1. 입력값이 없는 함수"
      ]
    },
    {
      "cell_type": "code",
      "metadata": {
        "id": "7hteNZ9lsQ5f",
        "colab_type": "code",
        "colab": {}
      },
      "source": [
        "def hello():\n",
        "  return 'hello'"
      ],
      "execution_count": 0,
      "outputs": []
    },
    {
      "cell_type": "code",
      "metadata": {
        "id": "MHjQ8737uAb9",
        "colab_type": "code",
        "colab": {
          "base_uri": "https://localhost:8080/",
          "height": 34
        },
        "outputId": "1b1fd008-2f61-4b11-ee88-fd4a892df6d4"
      },
      "source": [
        "print(hello())"
      ],
      "execution_count": 2,
      "outputs": [
        {
          "output_type": "stream",
          "text": [
            "hello\n"
          ],
          "name": "stdout"
        }
      ]
    },
    {
      "cell_type": "code",
      "metadata": {
        "id": "R8a1vQP0tsh1",
        "colab_type": "code",
        "colab": {
          "base_uri": "https://localhost:8080/",
          "height": 34
        },
        "outputId": "5cecab63-a9ef-4b9b-d2b7-b3cd3b9168e1"
      },
      "source": [
        "a=hello()\n",
        "print(a)"
      ],
      "execution_count": 3,
      "outputs": [
        {
          "output_type": "stream",
          "text": [
            "hello\n"
          ],
          "name": "stdout"
        }
      ]
    },
    {
      "cell_type": "code",
      "metadata": {
        "id": "_8PBXoQxtx73",
        "colab_type": "code",
        "colab": {}
      },
      "source": [
        ""
      ],
      "execution_count": 0,
      "outputs": []
    },
    {
      "cell_type": "markdown",
      "metadata": {
        "id": "aVVBOuu2t87-",
        "colab_type": "text"
      },
      "source": [
        "### 2. 결과값이 없는 함수"
      ]
    },
    {
      "cell_type": "code",
      "metadata": {
        "id": "kklkltlQuNCu",
        "colab_type": "code",
        "colab": {}
      },
      "source": [
        "# 여기서 함수를 정의할 때 들어가는 a, b 같은 값들을 매개 변수라고 한다.\n",
        "def sumAB(a,b):\n",
        "  print('{}+{}={}'.format(a,b,a+b))"
      ],
      "execution_count": 0,
      "outputs": []
    },
    {
      "cell_type": "code",
      "metadata": {
        "id": "18FHYPjYujUr",
        "colab_type": "code",
        "colab": {
          "base_uri": "https://localhost:8080/",
          "height": 34
        },
        "outputId": "60542c6d-1451-49bb-ae4c-bffdd8d6ea05"
      },
      "source": [
        "sumAB(2,3)"
      ],
      "execution_count": 5,
      "outputs": [
        {
          "output_type": "stream",
          "text": [
            "2+3=5\n"
          ],
          "name": "stdout"
        }
      ]
    },
    {
      "cell_type": "markdown",
      "metadata": {
        "id": "ZObbM_Hfumyr",
        "colab_type": "text"
      },
      "source": [
        "### 3. 입력도 결과값도 없는 함수"
      ]
    },
    {
      "cell_type": "code",
      "metadata": {
        "id": "qP-ThmG4u5JG",
        "colab_type": "code",
        "colab": {}
      },
      "source": [
        "def Hi():\n",
        "  print('Hi')"
      ],
      "execution_count": 0,
      "outputs": []
    },
    {
      "cell_type": "code",
      "metadata": {
        "id": "IdO0A6nku_xh",
        "colab_type": "code",
        "colab": {
          "base_uri": "https://localhost:8080/",
          "height": 34
        },
        "outputId": "95652bd6-90a6-47dc-bf3a-8faca76cfa41"
      },
      "source": [
        "Hi()"
      ],
      "execution_count": 7,
      "outputs": [
        {
          "output_type": "stream",
          "text": [
            "Hi\n"
          ],
          "name": "stdout"
        }
      ]
    },
    {
      "cell_type": "markdown",
      "metadata": {
        "id": "u7CiVb7yvEnR",
        "colab_type": "text"
      },
      "source": [
        "### 4. 매개변수 지정해서 호출"
      ]
    },
    {
      "cell_type": "code",
      "metadata": {
        "id": "tLJ0yVYuwIm0",
        "colab_type": "code",
        "colab": {}
      },
      "source": [
        "def add(a,b):\n",
        "  return a+b"
      ],
      "execution_count": 0,
      "outputs": []
    },
    {
      "cell_type": "code",
      "metadata": {
        "id": "EWSIasNnwRSS",
        "colab_type": "code",
        "colab": {
          "base_uri": "https://localhost:8080/",
          "height": 34
        },
        "outputId": "7c3860d6-a997-4c56-a6af-fe6760a1b16b"
      },
      "source": [
        "print(add(1,3))"
      ],
      "execution_count": 9,
      "outputs": [
        {
          "output_type": "stream",
          "text": [
            "4\n"
          ],
          "name": "stdout"
        }
      ]
    },
    {
      "cell_type": "code",
      "metadata": {
        "id": "8I3ZIfyzwVyi",
        "colab_type": "code",
        "colab": {}
      },
      "source": [
        ""
      ],
      "execution_count": 0,
      "outputs": []
    },
    {
      "cell_type": "markdown",
      "metadata": {
        "id": "qQvOegXfwZb8",
        "colab_type": "text"
      },
      "source": [
        "### 5.입력값 수가 미정일 때\n",
        "<pre>\n",
        "def 함수이름(*매개변수):\n",
        "  실행할 문장"
      ]
    },
    {
      "cell_type": "code",
      "metadata": {
        "id": "SocoEgolwolc",
        "colab_type": "code",
        "colab": {}
      },
      "source": [
        "# args는 arguments(독립변수)의 줄임말\n",
        "# 그냥 변수들 정로로 이해하자.\n",
        "def add_many(*args):\n",
        "  sum=0\n",
        "  for i in args:\n",
        "    sum = sum+i\n",
        "  return sum  "
      ],
      "execution_count": 0,
      "outputs": []
    },
    {
      "cell_type": "code",
      "metadata": {
        "id": "RDpxlWYAxLlo",
        "colab_type": "code",
        "colab": {
          "base_uri": "https://localhost:8080/",
          "height": 34
        },
        "outputId": "bd7714b0-214c-49ce-8ddb-149c7b79769f"
      },
      "source": [
        "print(add_many(1,2,3,4,5))"
      ],
      "execution_count": 11,
      "outputs": [
        {
          "output_type": "stream",
          "text": [
            "15\n"
          ],
          "name": "stdout"
        }
      ]
    },
    {
      "cell_type": "code",
      "metadata": {
        "id": "-tFUUbgwxS6s",
        "colab_type": "code",
        "colab": {}
      },
      "source": [
        ""
      ],
      "execution_count": 0,
      "outputs": []
    },
    {
      "cell_type": "code",
      "metadata": {
        "id": "ymRcKMPWxZyW",
        "colab_type": "code",
        "colab": {}
      },
      "source": [
        "# add_mul\n",
        "def add_mul(choice,*args):\n",
        "  if choice == 'add':\n",
        "    result = 0\n",
        "    for i in args:\n",
        "      result=result+i\n",
        "      \n",
        "  elif choice =='mul':\n",
        "    result =1\n",
        "    for i in args:\n",
        "      result=result*i\n",
        "  return result\n",
        "      "
      ],
      "execution_count": 0,
      "outputs": []
    },
    {
      "cell_type": "code",
      "metadata": {
        "id": "pOXm5ImIyiQ6",
        "colab_type": "code",
        "colab": {
          "base_uri": "https://localhost:8080/",
          "height": 34
        },
        "outputId": "cf726005-83fa-4d63-aba0-6d985d15bbfb"
      },
      "source": [
        "print(add_mul('mul',1,2,3,4,5))"
      ],
      "execution_count": 18,
      "outputs": [
        {
          "output_type": "stream",
          "text": [
            "120\n"
          ],
          "name": "stdout"
        }
      ]
    },
    {
      "cell_type": "code",
      "metadata": {
        "id": "b_jYBLm5yprL",
        "colab_type": "code",
        "colab": {
          "base_uri": "https://localhost:8080/",
          "height": 34
        },
        "outputId": "4fdd86d0-345d-4719-9741-ddcb9a0d309c"
      },
      "source": [
        "print(add_mul('add',1,2,3,4,5,6,7,8,9))"
      ],
      "execution_count": 19,
      "outputs": [
        {
          "output_type": "stream",
          "text": [
            "45\n"
          ],
          "name": "stdout"
        }
      ]
    },
    {
      "cell_type": "code",
      "metadata": {
        "id": "AgZZVi5myxyT",
        "colab_type": "code",
        "colab": {}
      },
      "source": [
        ""
      ],
      "execution_count": 0,
      "outputs": []
    },
    {
      "cell_type": "markdown",
      "metadata": {
        "id": "1C1AdBb7SCbu",
        "colab_type": "text"
      },
      "source": [
        "### 6. lambda\n",
        "함수를 만들 때 사용하는 예약어\n",
        "\n",
        "def와 유사\n",
        "\n",
        "<pre>\n",
        "*lambda를 이용해 함수 만드는 법:\n",
        "함수명 = lambda 매개변수1, 매개변수2, ... : 매개변수를 이용한 식"
      ]
    },
    {
      "cell_type": "code",
      "metadata": {
        "id": "crJZ9vEFS2Ur",
        "colab_type": "code",
        "colab": {}
      },
      "source": [
        "def add(a,b):\n",
        "  return(a+b)"
      ],
      "execution_count": 0,
      "outputs": []
    },
    {
      "cell_type": "code",
      "metadata": {
        "id": "0YVAUs-gTioc",
        "colab_type": "code",
        "colab": {
          "base_uri": "https://localhost:8080/",
          "height": 34
        },
        "outputId": "f800762d-326e-4c4b-9240-313e27f3f91a"
      },
      "source": [
        "add2 = lambda a,b : a+b\n",
        "add2(3,4)"
      ],
      "execution_count": 22,
      "outputs": [
        {
          "output_type": "execute_result",
          "data": {
            "text/plain": [
              "7"
            ]
          },
          "metadata": {
            "tags": []
          },
          "execution_count": 22
        }
      ]
    },
    {
      "cell_type": "code",
      "metadata": {
        "id": "KYaIKln8S9QD",
        "colab_type": "code",
        "colab": {}
      },
      "source": [
        ""
      ],
      "execution_count": 0,
      "outputs": []
    },
    {
      "cell_type": "code",
      "metadata": {
        "id": "KD7BGWZgS9Jn",
        "colab_type": "code",
        "colab": {}
      },
      "source": [
        ""
      ],
      "execution_count": 0,
      "outputs": []
    },
    {
      "cell_type": "markdown",
      "metadata": {
        "id": "xZH2FH026Xj-",
        "colab_type": "text"
      },
      "source": [
        "## 문제 풀고 함수 만들어보기"
      ]
    },
    {
      "cell_type": "code",
      "metadata": {
        "id": "vjhjrxAtz6T7",
        "colab_type": "code",
        "colab": {
          "base_uri": "https://localhost:8080/",
          "height": 34
        },
        "outputId": "0d2291ab-691e-46e0-d759-5f70bd62cc8b"
      },
      "source": [
        "# 1000 미만의 수중에 3과 5의 배수의 합 구하기\n",
        "sum=0\n",
        "for i in list(range(1,1000)):\n",
        "  if i%15==0:\n",
        "    sum=sum+i\n",
        "  elif i%5==0:\n",
        "    sum=sum+i\n",
        "  elif i%3==0:\n",
        "    sum=sum+i\n",
        "  else:\n",
        "    pass\n",
        "print(sum)    \n"
      ],
      "execution_count": 28,
      "outputs": [
        {
          "output_type": "stream",
          "text": [
            "233168\n"
          ],
          "name": "stdout"
        }
      ]
    },
    {
      "cell_type": "code",
      "metadata": {
        "id": "bvS8Z8Ya5qM-",
        "colab_type": "code",
        "colab": {
          "base_uri": "https://localhost:8080/",
          "height": 54
        },
        "outputId": "d463970c-fa1a-40cf-e10e-f4decbc75bfe"
      },
      "source": [
        "a=list(range(1,100))\n",
        "print(a)"
      ],
      "execution_count": 27,
      "outputs": [
        {
          "output_type": "stream",
          "text": [
            "[1, 2, 3, 4, 5, 6, 7, 8, 9, 10, 11, 12, 13, 14, 15, 16, 17, 18, 19, 20, 21, 22, 23, 24, 25, 26, 27, 28, 29, 30, 31, 32, 33, 34, 35, 36, 37, 38, 39, 40, 41, 42, 43, 44, 45, 46, 47, 48, 49, 50, 51, 52, 53, 54, 55, 56, 57, 58, 59, 60, 61, 62, 63, 64, 65, 66, 67, 68, 69, 70, 71, 72, 73, 74, 75, 76, 77, 78, 79, 80, 81, 82, 83, 84, 85, 86, 87, 88, 89, 90, 91, 92, 93, 94, 95, 96, 97, 98, 99]\n"
          ],
          "name": "stdout"
        }
      ]
    },
    {
      "cell_type": "code",
      "metadata": {
        "id": "RisbMTnN6Kte",
        "colab_type": "code",
        "colab": {
          "base_uri": "https://localhost:8080/",
          "height": 34
        },
        "outputId": "4bca99ef-7ef8-4dd2-a728-00f77ea09598"
      },
      "source": [
        "sum=0\n",
        "for i in range(1,1000):\n",
        "  if i%3==0 or i%5==0:\n",
        "    sum=sum+i\n",
        "print(sum)  "
      ],
      "execution_count": 33,
      "outputs": [
        {
          "output_type": "stream",
          "text": [
            "233168\n"
          ],
          "name": "stdout"
        }
      ]
    },
    {
      "cell_type": "code",
      "metadata": {
        "id": "pz0tiLah6Ofn",
        "colab_type": "code",
        "colab": {
          "base_uri": "https://localhost:8080/",
          "height": 84
        },
        "outputId": "2a6cc9eb-6282-4534-bacc-5a217150533c"
      },
      "source": [
        "def sum35(a,num1,num2):\n",
        "  sum=0\n",
        "  for i in range(1,a):\n",
        "    if i%num1==0 or i%num2==0:\n",
        "      sum=sum+i\n",
        "  return sum\n",
        "\n",
        "a=int(input('범위를 입력 :'))     \n",
        "b=int(input('숫자1 입력 :'))\n",
        "c=int(input('숫자2 입력 :'))\n",
        "final=sum35(a,b,c)\n",
        "\n",
        "print(sum)\n"
      ],
      "execution_count": 44,
      "outputs": [
        {
          "output_type": "stream",
          "text": [
            "범위를 입력 :1000\n",
            "숫자1 입력 :2\n",
            "숫자2 입력 :3\n",
            "233168\n"
          ],
          "name": "stdout"
        }
      ]
    },
    {
      "cell_type": "code",
      "metadata": {
        "id": "h-k1ZDBK69Kn",
        "colab_type": "code",
        "colab": {}
      },
      "source": [
        "13"
      ],
      "execution_count": 0,
      "outputs": []
    },
    {
      "cell_type": "code",
      "metadata": {
        "id": "xJAwyfZPKUaQ",
        "colab_type": "code",
        "colab": {}
      },
      "source": [
        ""
      ],
      "execution_count": 0,
      "outputs": []
    }
  ]
}