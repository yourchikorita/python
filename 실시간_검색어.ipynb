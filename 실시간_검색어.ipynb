{
  "nbformat": 4,
  "nbformat_minor": 0,
  "metadata": {
    "colab": {
      "name": "01_실시간 검색어_전은정.ipynb",
      "version": "0.3.2",
      "provenance": [],
      "collapsed_sections": []
    },
    "kernelspec": {
      "name": "python3",
      "display_name": "Python 3"
    }
  },
  "cells": [
    {
      "cell_type": "markdown",
      "metadata": {
        "id": "ypGFEqNq3E3g",
        "colab_type": "text"
      },
      "source": [
        "# 네이버 실시간 검색어 20개 크롤링\n",
        "http://naver.com"
      ]
    },
    {
      "cell_type": "markdown",
      "metadata": {
        "id": "eiuSxdoixy_f",
        "colab_type": "text"
      },
      "source": [
        "## 0.필요 라이브러리 설치\n",
        "requests : html을 요청하는 함수를 가진 라이브러리\n",
        "\n",
        "bs4: html을 파이썬에서 분석 가능하게 만드는 라이브러리"
      ]
    },
    {
      "cell_type": "code",
      "metadata": {
        "id": "lcQgjT6nx1Jc",
        "colab_type": "code",
        "outputId": "32214b18-1fda-43ea-a1d6-0bd22946ccbc",
        "colab": {
          "base_uri": "https://localhost:8080/",
          "height": 101
        }
      },
      "source": [
        "# requests 설치\n",
        "!pip install requests"
      ],
      "execution_count": 0,
      "outputs": [
        {
          "output_type": "stream",
          "text": [
            "Requirement already satisfied: requests in /usr/local/lib/python3.6/dist-packages (2.21.0)\n",
            "Requirement already satisfied: idna<2.9,>=2.5 in /usr/local/lib/python3.6/dist-packages (from requests) (2.8)\n",
            "Requirement already satisfied: urllib3<1.25,>=1.21.1 in /usr/local/lib/python3.6/dist-packages (from requests) (1.24.3)\n",
            "Requirement already satisfied: chardet<3.1.0,>=3.0.2 in /usr/local/lib/python3.6/dist-packages (from requests) (3.0.4)\n",
            "Requirement already satisfied: certifi>=2017.4.17 in /usr/local/lib/python3.6/dist-packages (from requests) (2019.6.16)\n"
          ],
          "name": "stdout"
        }
      ]
    },
    {
      "cell_type": "code",
      "metadata": {
        "id": "JUdu8O1Sx3VM",
        "colab_type": "code",
        "outputId": "a6a1ce03-d083-47f0-8481-f86afbe0dc73",
        "colab": {
          "base_uri": "https://localhost:8080/",
          "height": 50
        }
      },
      "source": [
        "# bs4 install\n",
        "!pip install bs4"
      ],
      "execution_count": 0,
      "outputs": [
        {
          "output_type": "stream",
          "text": [
            "Requirement already satisfied: bs4 in /usr/local/lib/python3.6/dist-packages (0.0.1)\n",
            "Requirement already satisfied: beautifulsoup4 in /usr/local/lib/python3.6/dist-packages (from bs4) (4.6.3)\n"
          ],
          "name": "stdout"
        }
      ]
    },
    {
      "cell_type": "markdown",
      "metadata": {
        "id": "Ouko_o7-Bo_N",
        "colab_type": "text"
      },
      "source": [
        "## 1. 라이브러리 import(불러오기)\n",
        "<pre>\n",
        "requests : html을 요청하는 라이브러리\n",
        "\n",
        "bs4 : 파이썬에서 html을 사용(분석) 할 수 있게 하는 라이브러리\n",
        "\n"
      ]
    },
    {
      "cell_type": "code",
      "metadata": {
        "id": "BgPF0ZV9hApt",
        "colab_type": "code",
        "colab": {}
      },
      "source": [
        "import requests as req  \n",
        "from bs4 import BeautifulSoup  "
      ],
      "execution_count": 0,
      "outputs": []
    },
    {
      "cell_type": "markdown",
      "metadata": {
        "id": "b0hAMscJCPyy",
        "colab_type": "text"
      },
      "source": [
        "## 2. html을 받아오기\n"
      ]
    },
    {
      "cell_type": "code",
      "metadata": {
        "id": "ZA6vy2ZWhdAl",
        "colab_type": "code",
        "colab": {}
      },
      "source": [
        "# url 저장\n",
        "url = 'http://naver.com'"
      ],
      "execution_count": 0,
      "outputs": []
    },
    {
      "cell_type": "code",
      "metadata": {
        "id": "ON9521ViEAac",
        "colab_type": "code",
        "colab": {}
      },
      "source": [
        "# url로 서버에 html 요청하기 -> 요청 결과를 res에 저장\n",
        "res = req.get(url)"
      ],
      "execution_count": 0,
      "outputs": []
    },
    {
      "cell_type": "code",
      "metadata": {
        "id": "jc1RWq3xGJrx",
        "colab_type": "code",
        "colab": {}
      },
      "source": [
        "# 받은 전체 결과에 text를 적용하면 html 완성\n",
        "html = res.text"
      ],
      "execution_count": 0,
      "outputs": []
    },
    {
      "cell_type": "markdown",
      "metadata": {
        "id": "57cr8Taupr2y",
        "colab_type": "text"
      },
      "source": [
        "## 3. html 전체 영역에서부터 찾아 들어가기"
      ]
    },
    {
      "cell_type": "markdown",
      "metadata": {
        "id": "5I7alRh2qyU_",
        "colab_type": "text"
      },
      "source": [
        "* find()는 처음 발견된 하나를 가져온다.\n",
        "\n",
        "* find_all은 여러개 있으면 다 가져온다. -> 여러 개니까 리스트"
      ]
    },
    {
      "cell_type": "code",
      "metadata": {
        "id": "Hmic438pCn2f",
        "colab_type": "code",
        "colab": {}
      },
      "source": [
        "# 완성된 html을 BeautifulSoup에 넣으면 html을 파이썬에서 사용(분석) 가능해짐.\n",
        "# soup에 저장된건 분석가능한 전체 내용의 html입니다.\n",
        "soup = BeautifulSoup(html, 'html.parser')"
      ],
      "execution_count": 0,
      "outputs": []
    },
    {
      "cell_type": "code",
      "metadata": {
        "id": "tGKGGKAPin19",
        "colab_type": "code",
        "colab": {}
      },
      "source": [
        "# 태그명이 span이고 class가 ah_k인 것이 우리가 찾는 부분이 었다.\n",
        "# 그들 모두를 가져오기 위해 find_all을 쓴다.\n",
        "s1 = soup.find_all('span', {'class':'ah_k'})"
      ],
      "execution_count": 0,
      "outputs": []
    },
    {
      "cell_type": "code",
      "metadata": {
        "id": "MwlX_0KOtxpY",
        "colab_type": "code",
        "outputId": "eed0ced6-8c29-4bf0-fd44-03d103b997d2",
        "colab": {
          "base_uri": "https://localhost:8080/",
          "height": 54
        }
      },
      "source": [
        "# s1이 어떤지 확인해보자. [ ]로 알 수 있는 find_all을 쓰면 값이 여러개니까 리스트로 준다.\n",
        "print(s1)"
      ],
      "execution_count": 0,
      "outputs": [
        {
          "output_type": "stream",
          "text": [
            "[<span class=\"ah_k\">한국 조지아</span>, <span class=\"ah_k\">대한민국 조지아</span>, <span class=\"ah_k\">축구</span>, <span class=\"ah_k\">조지아</span>, <span class=\"ah_k\">조국 청문회 일정</span>, <span class=\"ah_k\">링링</span>, <span class=\"ah_k\">링링 경로</span>, <span class=\"ah_k\">13호 태풍 링링</span>, <span class=\"ah_k\">유웨이어플라이</span>, <span class=\"ah_k\">태풍경로</span>, <span class=\"ah_k\">갤럭시 폴드</span>, <span class=\"ah_k\">김학용</span>, <span class=\"ah_k\">구혜선 안재현 문자</span>, <span class=\"ah_k\">진학사어플라이</span>, <span class=\"ah_k\">황의조</span>, <span class=\"ah_k\">실시간 태풍경로</span>, <span class=\"ah_k\">한국 국가대표 축구 일정</span>, <span class=\"ah_k\">외모지상주의</span>, <span class=\"ah_k\">최성해</span>, <span class=\"ah_k\">태풍</span>, <span class=\"ah_k\">한국 조지아</span>, <span class=\"ah_k\">대한민국 조지아</span>, <span class=\"ah_k\">축구</span>, <span class=\"ah_k\">조지아</span>, <span class=\"ah_k\">조국 청문회 일정</span>, <span class=\"ah_k\">링링</span>, <span class=\"ah_k\">링링 경로</span>, <span class=\"ah_k\">13호 태풍 링링</span>, <span class=\"ah_k\">유웨이어플라이</span>, <span class=\"ah_k\">태풍경로</span>, <span class=\"ah_k\">갤럭시 폴드</span>, <span class=\"ah_k\">김학용</span>, <span class=\"ah_k\">구혜선 안재현 문자</span>, <span class=\"ah_k\">진학사어플라이</span>, <span class=\"ah_k\">황의조</span>, <span class=\"ah_k\">실시간 태풍경로</span>, <span class=\"ah_k\">한국 국가대표 축구 일정</span>, <span class=\"ah_k\">외모지상주의</span>, <span class=\"ah_k\">최성해</span>, <span class=\"ah_k\">태풍</span>]\n"
          ],
          "name": "stdout"
        }
      ]
    },
    {
      "cell_type": "code",
      "metadata": {
        "id": "n2xpW5Fir8kh",
        "colab_type": "code",
        "colab": {}
      },
      "source": [
        "# 잘 가져왔는지 보자.\n",
        "print(soup)"
      ],
      "execution_count": 0,
      "outputs": []
    },
    {
      "cell_type": "code",
      "metadata": {
        "id": "Q0jCwJGKi-2V",
        "colab_type": "code",
        "outputId": "f533af8f-797b-476d-d217-0663ccb27fb4",
        "colab": {
          "base_uri": "https://localhost:8080/",
          "height": 721
        }
      },
      "source": [
        "# for 문을 돌려 각각에 대해 처리를 해줄 차례.\n",
        "# .text를 하면 코드부분을 제외한 내용만 남게 된다.\n",
        "for i in s1:\n",
        "  s2 = i.text\n",
        "  print(s2)"
      ],
      "execution_count": 0,
      "outputs": [
        {
          "output_type": "stream",
          "text": [
            "한국 조지아\n",
            "대한민국 조지아\n",
            "축구\n",
            "조지아\n",
            "조국 청문회 일정\n",
            "링링\n",
            "링링 경로\n",
            "13호 태풍 링링\n",
            "유웨이어플라이\n",
            "태풍경로\n",
            "갤럭시 폴드\n",
            "김학용\n",
            "구혜선 안재현 문자\n",
            "진학사어플라이\n",
            "황의조\n",
            "실시간 태풍경로\n",
            "한국 국가대표 축구 일정\n",
            "외모지상주의\n",
            "최성해\n",
            "태풍\n",
            "한국 조지아\n",
            "대한민국 조지아\n",
            "축구\n",
            "조지아\n",
            "조국 청문회 일정\n",
            "링링\n",
            "링링 경로\n",
            "13호 태풍 링링\n",
            "유웨이어플라이\n",
            "태풍경로\n",
            "갤럭시 폴드\n",
            "김학용\n",
            "구혜선 안재현 문자\n",
            "진학사어플라이\n",
            "황의조\n",
            "실시간 태풍경로\n",
            "한국 국가대표 축구 일정\n",
            "외모지상주의\n",
            "최성해\n",
            "태풍\n"
          ],
          "name": "stdout"
        }
      ]
    },
    {
      "cell_type": "markdown",
      "metadata": {
        "id": "tQuOFW0MqJio",
        "colab_type": "text"
      },
      "source": [
        "## 같은 일을 다르게 해보자. 대신 원하는 위치 보다 상위에서 가져와보자."
      ]
    },
    {
      "cell_type": "code",
      "metadata": {
        "id": "8yEL6_ggqOKQ",
        "colab_type": "code",
        "colab": {}
      },
      "source": [
        "# BeautifulSoup으로 파이썬에서 분석 가능한 html을 만든다.\n",
        "# 전체 내용 html이 soup에 저장된다.\n",
        "soup = BeautifulSoup(html, 'html.parser')"
      ],
      "execution_count": 0,
      "outputs": []
    },
    {
      "cell_type": "code",
      "metadata": {
        "id": "-T3g10Z4jF6b",
        "colab_type": "code",
        "colab": {}
      },
      "source": [
        "# 실시간 키워드들을 모두 담고 있는 ul을 먼저 가져온다.\n",
        "s1 = soup.find('ul', {'class':'ah_l'})"
      ],
      "execution_count": 0,
      "outputs": []
    },
    {
      "cell_type": "code",
      "metadata": {
        "id": "0XAIftW2kZ0R",
        "colab_type": "code",
        "outputId": "fec4391a-2b53-4c3e-ea17-64a79f340380",
        "colab": {
          "base_uri": "https://localhost:8080/",
          "height": 1000
        }
      },
      "source": [
        "# 출력해보자. [] 가 없다. find는 처음 발견한 하나만 가져온다.\n",
        "print(s1)"
      ],
      "execution_count": 0,
      "outputs": [
        {
          "output_type": "stream",
          "text": [
            "<ul class=\"ah_l\">\n",
            "<li class=\"ah_item\">\n",
            "<a class=\"ah_a\" data-clk=\"lve.keyword\" href=\"#\">\n",
            "<span class=\"ah_r\">1</span>\n",
            "<span class=\"ah_k\">청춘아레나</span>\n",
            "</a>\n",
            "</li>\n",
            "<li class=\"ah_item\">\n",
            "<a class=\"ah_a\" data-clk=\"lve.keyword\" href=\"#\">\n",
            "<span class=\"ah_r\">2</span>\n",
            "<span class=\"ah_k\">로또875회당첨번호</span>\n",
            "</a>\n",
            "</li>\n",
            "<li class=\"ah_item\">\n",
            "<a class=\"ah_a\" data-clk=\"lve.keyword\" href=\"#\">\n",
            "<span class=\"ah_r\">3</span>\n",
            "<span class=\"ah_k\">조찬형</span>\n",
            "</a>\n",
            "</li>\n",
            "<li class=\"ah_item\">\n",
            "<a class=\"ah_a\" data-clk=\"lve.keyword\" href=\"#\">\n",
            "<span class=\"ah_r\">4</span>\n",
            "<span class=\"ah_k\">헤이즈</span>\n",
            "</a>\n",
            "</li>\n",
            "<li class=\"ah_item\">\n",
            "<a class=\"ah_a\" data-clk=\"lve.keyword\" href=\"#\">\n",
            "<span class=\"ah_r\">5</span>\n",
            "<span class=\"ah_k\">맛있는 녀석들 뷔페</span>\n",
            "</a>\n",
            "</li>\n",
            "<li class=\"ah_item\">\n",
            "<a class=\"ah_a\" data-clk=\"lve.keyword\" href=\"#\">\n",
            "<span class=\"ah_r\">6</span>\n",
            "<span class=\"ah_k\">픽보이</span>\n",
            "</a>\n",
            "</li>\n",
            "<li class=\"ah_item\">\n",
            "<a class=\"ah_a\" data-clk=\"lve.keyword\" href=\"#\">\n",
            "<span class=\"ah_r\">7</span>\n",
            "<span class=\"ah_k\">테이</span>\n",
            "</a>\n",
            "</li>\n",
            "<li class=\"ah_item\">\n",
            "<a class=\"ah_a\" data-clk=\"lve.keyword\" href=\"#\">\n",
            "<span class=\"ah_r\">8</span>\n",
            "<span class=\"ah_k\">유재필</span>\n",
            "</a>\n",
            "</li>\n",
            "<li class=\"ah_item\">\n",
            "<a class=\"ah_a\" data-clk=\"lve.keyword\" href=\"#\">\n",
            "<span class=\"ah_r\">9</span>\n",
            "<span class=\"ah_k\">캐시피드 숏킹배틀</span>\n",
            "</a>\n",
            "</li>\n",
            "<li class=\"ah_item\">\n",
            "<a class=\"ah_a\" data-clk=\"lve.keyword\" href=\"#\">\n",
            "<span class=\"ah_r\">10</span>\n",
            "<span class=\"ah_k\">이마트 트레이더스 휴무일</span>\n",
            "</a>\n",
            "</li>\n",
            "<li class=\"ah_item\">\n",
            "<a class=\"ah_a\" data-clk=\"lve.keyword\" href=\"#\">\n",
            "<span class=\"ah_r\">11</span>\n",
            "<span class=\"ah_k\">강은일</span>\n",
            "</a>\n",
            "</li>\n",
            "<li class=\"ah_item\">\n",
            "<a class=\"ah_a\" data-clk=\"lve.keyword\" href=\"#\">\n",
            "<span class=\"ah_r\">12</span>\n",
            "<span class=\"ah_k\">원피스 901화 애니</span>\n",
            "</a>\n",
            "</li>\n",
            "<li class=\"ah_item\">\n",
            "<a class=\"ah_a\" data-clk=\"lve.keyword\" href=\"#\">\n",
            "<span class=\"ah_r\">13</span>\n",
            "<span class=\"ah_k\">김종국 파워쉐이크</span>\n",
            "</a>\n",
            "</li>\n",
            "<li class=\"ah_item\">\n",
            "<a class=\"ah_a\" data-clk=\"lve.keyword\" href=\"#\">\n",
            "<span class=\"ah_r\">14</span>\n",
            "<span class=\"ah_k\">서연미 아나운서</span>\n",
            "</a>\n",
            "</li>\n",
            "<li class=\"ah_item\">\n",
            "<a class=\"ah_a\" data-clk=\"lve.keyword\" href=\"#\">\n",
            "<span class=\"ah_r\">15</span>\n",
            "<span class=\"ah_k\">테이 매니저</span>\n",
            "</a>\n",
            "</li>\n",
            "<li class=\"ah_item\">\n",
            "<a class=\"ah_a\" data-clk=\"lve.keyword\" href=\"#\">\n",
            "<span class=\"ah_r\">16</span>\n",
            "<span class=\"ah_k\">카라타 에리카</span>\n",
            "</a>\n",
            "</li>\n",
            "<li class=\"ah_item\">\n",
            "<a class=\"ah_a\" data-clk=\"lve.keyword\" href=\"#\">\n",
            "<span class=\"ah_r\">17</span>\n",
            "<span class=\"ah_k\">롯데마트 휴무일</span>\n",
            "</a>\n",
            "</li>\n",
            "<li class=\"ah_item\">\n",
            "<a class=\"ah_a\" data-clk=\"lve.keyword\" href=\"#\">\n",
            "<span class=\"ah_r\">18</span>\n",
            "<span class=\"ah_k\">짜조</span>\n",
            "</a>\n",
            "</li>\n",
            "<li class=\"ah_item\">\n",
            "<a class=\"ah_a\" data-clk=\"lve.keyword\" href=\"#\">\n",
            "<span class=\"ah_r\">19</span>\n",
            "<span class=\"ah_k\">홈플러스 휴무일</span>\n",
            "</a>\n",
            "</li>\n",
            "<li class=\"ah_item\">\n",
            "<a class=\"ah_a\" data-clk=\"lve.keyword\" href=\"#\">\n",
            "<span class=\"ah_r\">20</span>\n",
            "<span class=\"ah_k\">하빕 포이리에</span>\n",
            "</a>\n",
            "</li>\n",
            "</ul>\n"
          ],
          "name": "stdout"
        }
      ]
    },
    {
      "cell_type": "code",
      "metadata": {
        "id": "jsVPJ1Q1kffv",
        "colab_type": "code",
        "outputId": "53a0780c-a30d-4cb8-fbdd-3a3498dc919a",
        "colab": {
          "base_uri": "https://localhost:8080/",
          "height": 54
        }
      },
      "source": [
        "# 가져온 ul 영역에서 span태그에 class이름이 ah_k인 것들만 모두 찾는다.\n",
        "s2 = s1.find_all('span', {'class':'ah_k'})\n",
        "print(s2)"
      ],
      "execution_count": 0,
      "outputs": [
        {
          "output_type": "stream",
          "text": [
            "[<span class=\"ah_k\">청춘아레나</span>, <span class=\"ah_k\">로또875회당첨번호</span>, <span class=\"ah_k\">조찬형</span>, <span class=\"ah_k\">헤이즈</span>, <span class=\"ah_k\">맛있는 녀석들 뷔페</span>, <span class=\"ah_k\">픽보이</span>, <span class=\"ah_k\">테이</span>, <span class=\"ah_k\">유재필</span>, <span class=\"ah_k\">캐시피드 숏킹배틀</span>, <span class=\"ah_k\">이마트 트레이더스 휴무일</span>, <span class=\"ah_k\">강은일</span>, <span class=\"ah_k\">원피스 901화 애니</span>, <span class=\"ah_k\">김종국 파워쉐이크</span>, <span class=\"ah_k\">서연미 아나운서</span>, <span class=\"ah_k\">테이 매니저</span>, <span class=\"ah_k\">카라타 에리카</span>, <span class=\"ah_k\">롯데마트 휴무일</span>, <span class=\"ah_k\">짜조</span>, <span class=\"ah_k\">홈플러스 휴무일</span>, <span class=\"ah_k\">하빕 포이리에</span>]\n"
          ],
          "name": "stdout"
        }
      ]
    },
    {
      "cell_type": "code",
      "metadata": {
        "id": "Uyh85qCtw4Nw",
        "colab_type": "code",
        "outputId": "6cd240e4-1bad-470c-fee9-62b516c91dc0",
        "colab": {
          "base_uri": "https://localhost:8080/",
          "height": 84
        }
      },
      "source": [
        "aa=['아','에','이','오']\n",
        "for index in aa:\n",
        "  print(index)"
      ],
      "execution_count": 0,
      "outputs": [
        {
          "output_type": "stream",
          "text": [
            "아\n",
            "에\n",
            "이\n",
            "오\n"
          ],
          "name": "stdout"
        }
      ]
    },
    {
      "cell_type": "code",
      "metadata": {
        "id": "xGWZ6dqnlm_7",
        "colab_type": "code",
        "outputId": "ef0aee95-c5b7-4650-c75f-ddd76e7fb20c",
        "colab": {
          "base_uri": "https://localhost:8080/",
          "height": 353
        }
      },
      "source": [
        "# for문을 돌려서 태그를 없앤 내용만 가져온다.\n",
        "for i in s2:\n",
        "  s3 = i.text\n",
        "  print(s3)"
      ],
      "execution_count": 0,
      "outputs": [
        {
          "output_type": "stream",
          "text": [
            "청춘아레나\n",
            "로또875회당첨번호\n",
            "조찬형\n",
            "헤이즈\n",
            "맛있는 녀석들 뷔페\n",
            "픽보이\n",
            "테이\n",
            "유재필\n",
            "캐시피드 숏킹배틀\n",
            "이마트 트레이더스 휴무일\n",
            "강은일\n",
            "원피스 901화 애니\n",
            "김종국 파워쉐이크\n",
            "서연미 아나운서\n",
            "테이 매니저\n",
            "카라타 에리카\n",
            "롯데마트 휴무일\n",
            "짜조\n",
            "홈플러스 휴무일\n",
            "하빕 포이리에\n"
          ],
          "name": "stdout"
        }
      ]
    },
    {
      "cell_type": "code",
      "metadata": {
        "id": "OTMYyXNEv7qX",
        "colab_type": "code",
        "colab": {}
      },
      "source": [
        ""
      ],
      "execution_count": 0,
      "outputs": []
    }
  ]
}